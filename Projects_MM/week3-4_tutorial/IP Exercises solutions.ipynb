{
 "cells": [
  {
   "cell_type": "code",
   "execution_count": null,
   "id": "9c6a384e",
   "metadata": {},
   "outputs": [],
   "source": [
    "import gurobipy as gp"
   ]
  },
  {
   "cell_type": "markdown",
   "id": "9135dc57",
   "metadata": {},
   "source": [
    "# Q1"
   ]
  },
  {
   "cell_type": "code",
   "execution_count": null,
   "id": "90abb1b1",
   "metadata": {},
   "outputs": [],
   "source": [
    "types=[\"longrange\",\"mediumrange\",\"shortrange\"]\n",
    "\n",
    "price={\"longrange\":67,\"mediumrange\":50,\"shortrange\":35}  #in millions\n",
    "profit={\"longrange\":4.2,\"mediumrange\":3,\"shortrange\":2.3}\n",
    "maintananceNeeded={\"longrange\":5/3,\"mediumrange\":5/3,\"shortrange\":1} \n",
    "maintananceAvail=40\n",
    "pilots=30\n",
    "budget=1500 #in millions\n",
    "\n",
    "\n",
    "model=gp.Model()\n",
    "x=model.addVars(types,vtype=gp.GRB.INTEGER,obj=profit,name=\" \")\n",
    "model.ModelSense=gp.GRB.MAXIMIZE\n",
    "model.addConstr(gp.quicksum(x[t] for t in types)<=pilots)\n",
    "model.addConstr(gp.quicksum(price[t]*x[t] for t in types)<=budget)\n",
    "model.addConstr(gp.quicksum(maintananceNeeded[t]*x[t] for t in types)<=maintananceAvail)\n",
    "\n",
    "model.optimize()\n",
    "\n",
    "model.printAttr(\"X\")\n",
    "print (\"total profit\", model.ObjVal)"
   ]
  },
  {
   "cell_type": "markdown",
   "id": "9f0c4916",
   "metadata": {},
   "source": [
    "# Q2"
   ]
  },
  {
   "cell_type": "code",
   "execution_count": null,
   "id": "8e962845",
   "metadata": {},
   "outputs": [],
   "source": [
    "fixedCosts=[1000,950,875,850,800,700]\n",
    "variableCosts=[21,23,25,24,20,26]\n",
    "capacity=[500,600,750,400,600,800]\n",
    "totalOrders=1800\n",
    "n=len(fixedCosts)\n",
    "\n",
    "model=gp.Model()\n",
    "x=model.addVars(n,vtype=gp.GRB.INTEGER,obj=variableCosts,name=\"x\")\n",
    "y=model.addVars(n,vtype=gp.GRB.BINARY,obj=fixedCosts,name=\"y\")\n",
    "model.addConstr(gp.quicksum(x[i] for i in range(n))==totalOrders)\n",
    "model.addConstrs(x[i]<=capacity[i]*y[i] for i in range(n))\n",
    "model.optimize()\n",
    "model.printAttr(\"X\")\n",
    "print (\"total profit\", model.ObjVal)"
   ]
  },
  {
   "cell_type": "markdown",
   "id": "e976e9ef",
   "metadata": {},
   "source": [
    "# Q3"
   ]
  },
  {
   "cell_type": "code",
   "execution_count": null,
   "id": "6e829bdb",
   "metadata": {},
   "outputs": [],
   "source": [
    "shows=[\"C\",\"D\",\"L\",\"J\",\"B\",\"N\",\"F\",\"M\",\"U\"]\n",
    "revenues={\"C\":6,\"D\":10,\"L\":9,\"J\":4,\"B\":5,\"N\":2,\"F\":6,\"M\":7,\"U\":8}\n",
    "publicInterest=[\"L\",\"N\",\"F\",\"U\"]\n",
    "violence=[\"C\",\"D\",\"L\",\"J\",\"N\"]\n",
    "comedy=[\"C\",\"B\",\"M\"]\n",
    "drama=[\"D\",\"L\",\"J\",\"F\"]\n",
    "bigM=len(shows) #using bigM to deactivate constraints. \n",
    "                #Being lazy always use the same bigM\n",
    "model=gp.Model()\n",
    "model.ModelSense=gp.GRB.MAXIMIZE\n",
    "x=model.addVars(shows,obj=revenues,vtype=gp.GRB.BINARY,name=\"Show\")\n",
    "#exactly 5 shows\n",
    "model.addConstr(gp.quicksum(x[s] for s in shows)==5) \n",
    "#constraint 1\n",
    "model.addConstr(gp.quicksum(x[p] for p in publicInterest)>=\n",
    "                gp.quicksum(x[v] for v in violence))\n",
    "#constraint 2\n",
    "model.addConstr(x[\"J\"]+x[\"L\"]>= x[\"F\"])\n",
    "#constraint 3\n",
    "model.addConstr(x[\"F\"]+x[\"U\"]<= 1)\n",
    "#contraint 4\n",
    "y=model.addVar(vtype=gp.GRB.BINARY,name=\"at_least_2_commedy\")\n",
    "model.addConstr(gp.quicksum(x[c] for c in comedy)<=1+bigM*y)\n",
    "model.addConstr(gp.quicksum(x[d] for d in drama)>=y)\n",
    "#constraint 5, notice the objective coefficient in the z indicator \n",
    "z=model.addVar(vtype=gp.GRB.BINARY,obj=-4,name=\"at_least_3_violence\")\n",
    "model.addConstr(gp.quicksum(x[v] for v in violence)<=2+bigM*z)\n",
    "\n",
    "model.optimize()\n",
    "print(\"optimal value\",model.objval)\n",
    "model.printAttr(\"X\")\n",
    "\n"
   ]
  },
  {
   "cell_type": "markdown",
   "id": "90bd7b2a",
   "metadata": {},
   "source": [
    "# Q4"
   ]
  },
  {
   "cell_type": "code",
   "execution_count": null,
   "id": "4ff80e6e",
   "metadata": {},
   "outputs": [],
   "source": [
    "import pandas as pd\n",
    "df=pd.read_csv(\"Q4_data.csv\")\n",
    "towns=list(df.Town)\n",
    "distances={}\n",
    "for t1 in towns:\n",
    "    for t2 in towns:\n",
    "        distances[(t1,t2)]=float(df[df.Town==t1][t2])\n",
    "\n",
    "model=gp.Model()\n",
    "x=model.addVars(towns,vtype=gp.GRB.BINARY,obj=1,name=\" \")\n",
    "model.addConstrs(\n",
    "    gp.quicksum(x[t1] for t1 in towns if (distances[(t1,t2)]<=10)) >=1 \n",
    "        for t2 in towns)\n",
    "model.optimize()\n",
    "print(\"Total Machines required\",model.objval)\n",
    "model.printAttr(\"X\")"
   ]
  },
  {
   "cell_type": "markdown",
   "id": "7646c8f1",
   "metadata": {},
   "source": [
    "# Q5a"
   ]
  },
  {
   "cell_type": "code",
   "execution_count": null,
   "id": "cd64f427",
   "metadata": {},
   "outputs": [],
   "source": [
    "totalRows=40\n",
    "ticketTypes=[\"First\",\"Business\",\"Economy\"]\n",
    "profitPerTicket={\"First\":4,\"Business\":3,\"Economy\":1}\n",
    "seatsPerRow={\"First\":2,\"Business\":4,\"Economy\":6}\n",
    "\n",
    "model=gp.Model()\n",
    "x=model.addVars(ticketTypes,vtype=gp.GRB.INTEGER,lb=3,name=\"Rows\")\n",
    "model.setObjective(gp.quicksum(profitPerTicket[t]*seatsPerRow[t]*x[t]\n",
    "                              for t in ticketTypes),gp.GRB.MAXIMIZE)\n",
    "model.addConstr(gp.quicksum(x[t]for t in ticketTypes)==totalRows)\n",
    "economySeats=seatsPerRow[\"Economy\"]*x[\"Economy\"]\n",
    "otherSeats=gp.quicksum(seatsPerRow[t]*x[t] \n",
    "                       for t in ticketTypes if t!=\"Economy\")\n",
    "model.addConstr(economySeats>=2*otherSeats)\n",
    "\n",
    "model.optimize()\n",
    "print(\"optimal value\",model.objval)\n",
    "model.printAttr(\"X\")"
   ]
  },
  {
   "cell_type": "markdown",
   "id": "7c946941",
   "metadata": {},
   "source": [
    "# Q5b"
   ]
  },
  {
   "cell_type": "code",
   "execution_count": null,
   "id": "0e74ca65",
   "metadata": {},
   "outputs": [],
   "source": [
    "totalRows=40\n",
    "ticketTypes=[\"First\",\"Business\",\"Economy\"]\n",
    "profitPerTicket={\"First\":4,\"Business\":3,\"Economy\":1}\n",
    "seatsPerRow={\"First\":2,\"Business\":4,\"Economy\":6}\n",
    "weekendDemands={\"First\":7,\"Business\":18,\"Economy\":120}\n",
    "workingDayDemands={\"First\":4,\"Business\":35,\"Economy\":80}\n",
    "workingDayFlights=10\n",
    "weekendFlights=4\n",
    "\n",
    "model=gp.Model()\n",
    "x=model.addVars(ticketTypes,vtype=gp.GRB.INTEGER,lb=3,name=\"Rows\")\n",
    "wdt=model.addVars(ticketTypes,vtype=gp.GRB.INTEGER,name=\"WD\")#working day\n",
    "sst=model.addVars(ticketTypes,vtype=gp.GRB.INTEGER,name=\"SS\")#saturdaysunday day\n",
    "\n",
    "model.setObjective(gp.quicksum(profitPerTicket[t]*(workingDayFlights*wdt[t]+weekendFlights*sst[t])   \n",
    "                              for t in ticketTypes),gp.GRB.MAXIMIZE)\n",
    "model.addConstr(gp.quicksum(x[t]for t in ticketTypes)==totalRows)\n",
    "economySeats=seatsPerRow[\"Economy\"]*x[\"Economy\"]\n",
    "otherSeats=gp.quicksum(seatsPerRow[t]*x[t] \n",
    "                       for t in ticketTypes if t!=\"Economy\")\n",
    "model.addConstr(economySeats>=2*otherSeats)\n",
    "model.addConstrs(wdt[t]<=workingDayDemands[t] for t in ticketTypes)\n",
    "model.addConstrs(wdt[t]<=seatsPerRow[t]*x[t] for t in ticketTypes)\n",
    "model.addConstrs(sst[t]<=weekendDemands[t] for t in ticketTypes)\n",
    "model.addConstrs(sst[t]<=seatsPerRow[t]*x[t] for t in ticketTypes)\n",
    "\n",
    "model.optimize()\n",
    "print(\"optimal value\",model.objval)\n",
    "model.printAttr(\"X\")"
   ]
  },
  {
   "cell_type": "code",
   "execution_count": null,
   "id": "e84e9bf3",
   "metadata": {},
   "outputs": [],
   "source": []
  }
 ],
 "metadata": {
  "kernelspec": {
   "display_name": "Python 3",
   "language": "python",
   "name": "python3"
  },
  "language_info": {
   "codemirror_mode": {
    "name": "ipython",
    "version": 3
   },
   "file_extension": ".py",
   "mimetype": "text/x-python",
   "name": "python",
   "nbconvert_exporter": "python",
   "pygments_lexer": "ipython3",
   "version": "3.8.8"
  }
 },
 "nbformat": 4,
 "nbformat_minor": 5
}
