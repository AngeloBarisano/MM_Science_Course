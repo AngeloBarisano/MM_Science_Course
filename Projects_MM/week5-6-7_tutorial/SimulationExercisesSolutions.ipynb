{
 "cells": [
  {
   "cell_type": "markdown",
   "id": "65970e22",
   "metadata": {},
   "source": [
    "# Q1"
   ]
  },
  {
   "cell_type": "code",
   "execution_count": 3,
   "id": "df63e05a",
   "metadata": {},
   "outputs": [
    {
     "name": "stdout",
     "output_type": "stream",
     "text": [
      "(10000,)\n",
      "10 orders, expected profit of  910.0\n",
      "(10000,)\n",
      "20 orders, expected profit of  1820.0\n",
      "(10000,)\n",
      "30 orders, expected profit of  2730.0\n",
      "(10000,)\n",
      "40 orders, expected profit of  3640.0\n",
      "(10000,)\n",
      "50 orders, expected profit of  4549.94\n",
      "(10000,)\n",
      "60 orders, expected profit of  5457.82\n",
      "(10000,)\n",
      "70 orders, expected profit of  6316.4\n",
      "(10000,)\n",
      "80 orders, expected profit of  6920.9\n",
      "(10000,)\n",
      "90 orders, expected profit of  7112.76\n",
      "(10000,)\n",
      "100 orders, expected profit of  7096.71\n",
      "(10000,)\n",
      "110 orders, expected profit of  7015.23\n",
      "(10000,)\n",
      "(10000,)\n",
      "(10000,)\n",
      "(10000,)\n",
      "(10000,)\n",
      "(10000,)\n",
      "(10000,)\n"
     ]
    },
    {
     "data": {
      "text/plain": [
       "<AxesSubplot:>"
      ]
     },
     "execution_count": 3,
     "metadata": {},
     "output_type": "execute_result"
    },
    {
     "data": {
      "image/png": "[encoded data removed]",
      "text/plain": [
       "<Figure size 432x288 with 1 Axes>"
      ]
     },
     "metadata": {
      "needs_background": "light"
     },
     "output_type": "display_data"
    }
   ],
   "source": [
    "import numpy as np\n",
    "jacketCost=54\n",
    "jacketSellingPrice=145\n",
    "endSeasonPrice=45\n",
    "demandRate=80\n",
    "def expectedProfit(ordered):\n",
    "    demand=np.random.poisson(lam=demandRate,size=10000)\n",
    "    print(demand.shape)\n",
    "    sales=np.minimum(demand,ordered)\n",
    "    returned=ordered-sales\n",
    "    profit=sales*jacketSellingPrice-ordered*jacketCost+returned*endSeasonPrice\n",
    "    return profit.mean()\n",
    "\n",
    "for o in range(10,120,10):\n",
    "    print(o,\"orders, expected profit of \",expectedProfit(o))\n",
    "    \n",
    "import seaborn as sn\n",
    "os=list(range(50,120,10))\n",
    "ps=[expectedProfit(o) for o in os]\n",
    "sn.lineplot(x=os,y=ps)"
   ]
  },
  {
   "cell_type": "markdown",
   "id": "c5c1507a",
   "metadata": {},
   "source": [
    "# Q2"
   ]
  },
  {
   "cell_type": "code",
   "execution_count": 4,
   "id": "86160765",
   "metadata": {},
   "outputs": [
    {
     "name": "stdout",
     "output_type": "stream",
     "text": [
      "average time in the office 21.41823556309279\n",
      "std of time in the office 9.157473246295705\n",
      "prob of waiting more than 30 minutes 0.13787\n"
     ]
    },
    {
     "data": {
      "text/plain": [
       "<AxesSubplot:ylabel='Probability'>"
      ]
     },
     "execution_count": 4,
     "metadata": {},
     "output_type": "execute_result"
    },
    {
     "data": {
      "image/png": "[encoded data removed]",
      "text/plain": [
       "<Figure size 432x288 with 1 Axes>"
      ]
     },
     "metadata": {
      "needs_background": "light"
     },
     "output_type": "display_data"
    }
   ],
   "source": [
    "#fix question\n",
    "arrivalTime=[]\n",
    "startNurse=[]\n",
    "finishNurse=[]\n",
    "startDoctor=[]\n",
    "finishDoctor=[]\n",
    "\n",
    "\n",
    "for i in range(100000):\n",
    "    if i>0:\n",
    "        arrivalTime.append(arrivalTime[i-1]+np.random.exponential(20))\n",
    "    else:\n",
    "        arrivalTime.append(np.random.exponential(1/25))\n",
    "    if i>0:\n",
    "        startNurse.append(np.maximum(arrivalTime[i],finishNurse[i-1]))\n",
    "    else:\n",
    "        startNurse.append(arrivalTime[i])\n",
    "    finishNurse.append(startNurse[i]+7)\n",
    "    if i>0:\n",
    "        startDoctor.append(np.maximum(finishNurse[i],finishDoctor[i-1]))\n",
    "    else:\n",
    "        startDoctor.append(finishNurse[i])\n",
    "    finishDoctor.append(startDoctor[i]+np.random.choice([4,8,15],p=[0.2,0.5,0.3]))\n",
    "\n",
    "finishDoctor=np.array(finishDoctor)\n",
    "arrivalTime=np.array(arrivalTime)\n",
    "timeInOffice=finishDoctor-arrivalTime\n",
    "print(\"average time in the office\",timeInOffice.mean())\n",
    "print(\"std of time in the office\",timeInOffice.std())\n",
    "print(\"prob of waiting more than 30 minutes\",np.where(timeInOffice>30,1,0).mean())\n",
    "sn.histplot(timeInOffice,stat=\"probability\",bins=50)\n"
   ]
  },
  {
   "cell_type": "markdown",
   "id": "f5d46362",
   "metadata": {},
   "source": [
    "# Q3"
   ]
  },
  {
   "cell_type": "code",
   "execution_count": 71,
   "id": "b53c1719",
   "metadata": {},
   "outputs": [
    {
     "name": "stdout",
     "output_type": "stream",
     "text": [
      "Reorder limit 1 AverageCost 29.9363\n",
      "Reorder limit 2 AverageCost 27.962\n",
      "Reorder limit 3 AverageCost 27.2652\n",
      "Reorder limit 4 AverageCost 26.0949\n",
      "Reorder limit 5 AverageCost 25.1834\n",
      "Reorder limit 6 AverageCost 24.849\n",
      "Reorder limit 7 AverageCost 24.6659\n",
      "Reorder limit 8 AverageCost 24.3447\n",
      "Reorder limit 9 AverageCost 24.3869\n",
      "Reorder limit 10 AverageCost 24.6178\n",
      "Reorder limit 11 AverageCost 24.9684\n",
      "Reorder limit 12 AverageCost 25.5233\n",
      "Reorder limit 13 AverageCost 26.0147\n",
      "Reorder limit 14 AverageCost 26.6504\n",
      "Reorder limit 15 AverageCost 27.4388\n",
      "Reorder limit 16 AverageCost 28.2769\n",
      "Reorder limit 17 AverageCost 29.0277\n",
      "Reorder limit 18 AverageCost 29.9567\n",
      "Reorder limit 19 AverageCost 30.8639\n"
     ]
    }
   ],
   "source": [
    "def averageCost(R):\n",
    "    Inventory=25\n",
    "    lastOrder=-5 #no order pending\n",
    "    orderingCost=0\n",
    "    inventoryCost=0\n",
    "    backorderCost=0\n",
    "    Q=25\n",
    "    periods=10000\n",
    "    for period in range(periods):\n",
    "        if lastOrder==(period-2): #order arrived\n",
    "            Inventory+=25\n",
    "        customers=np.random.choice([0,1,2,3,4],p=[0.1,0.3,0.25,0.2,0.15])\n",
    "        if customers>0:\n",
    "            totalDemand=np.random.choice([1,2,3,4],p=[0.1,0.15,0.4,0.35],size=customers).sum()\n",
    "            Inventory-=totalDemand\n",
    "        if Inventory>0:\n",
    "            inventoryCost+=Inventory*1\n",
    "        elif Inventory<0:\n",
    "            backorderCost+=-Inventory*5\n",
    "        if Inventory<=R and lastOrder<period-1:\n",
    "            lastOrder=period\n",
    "            orderingCost+=45\n",
    "\n",
    "    return (inventoryCost+backorderCost+orderingCost)/periods\n",
    "\n",
    "for R in range(1,20):\n",
    "    print (\"Reorder limit\",R,\"AverageCost\",averageCost(R))    "
   ]
  },
  {
   "cell_type": "markdown",
   "id": "c4389a8f",
   "metadata": {},
   "source": [
    "# Q4"
   ]
  },
  {
   "cell_type": "code",
   "execution_count": 9,
   "id": "7e530602",
   "metadata": {},
   "outputs": [
    {
     "name": "stdout",
     "output_type": "stream",
     "text": [
      "processing A\n",
      "processing B\n",
      "failed to process C ['B', 'D'] {'D'}\n",
      "processing D\n",
      "processing E\n",
      "failed to process F ['C', 'E'] {'C'}\n",
      "processing C\n",
      "processing F\n",
      "average time 26.2207\n",
      "probability to exheed 27 0.334\n"
     ]
    },
    {
     "data": {
      "text/plain": [
       "<AxesSubplot:ylabel='Probability'>"
      ]
     },
     "execution_count": 9,
     "metadata": {},
     "output_type": "execute_result"
    },
    {
     "data": {
      "image/png": "[encoded data removed]",
      "text/plain": [
       "<Figure size 432x288 with 1 Axes>"
      ]
     },
     "metadata": {
      "needs_background": "light"
     },
     "output_type": "display_data"
    }
   ],
   "source": [
    "trials=10000\n",
    "Activities=[\"A\",\"B\",\"C\",\"D\",\"E\",\"F\"]\n",
    "Durations={}\n",
    "Predecessors={\"A\":[],\"B\":[\"A\"],\"C\":[\"B\",\"D\"],\"D\":[\"A\"],\"E\":[\"D\"],\"F\":[\"C\",\"E\"]}\n",
    "Durations[\"A\"]=np.random.choice([4,8,11],p=[0.4,0.4,0.2],size=trials)\n",
    "Durations[\"B\"]=np.random.choice([8,10,12],p=[0.4,0.2,0.4],size=trials)\n",
    "Durations[\"C\"]=np.random.choice([2,4],p=[0.5,0.5],size=trials)\n",
    "Durations[\"D\"]=np.random.choice([4,9],p=[0.8,0.2],size=trials)\n",
    "Durations[\"E\"]=np.random.choice([2,10],p=[0.5,0.5],size=trials)\n",
    "Durations[\"F\"]=np.ones(trials)*5\n",
    "\n",
    "toBeProcessed=Activities.copy()\n",
    "finishTimes={} #we have to compute those in the correct order, do multiple loops \n",
    "#only processing the ones that are ready to be processed\n",
    "\n",
    "while(len(toBeProcessed)>0):\n",
    "    for ac in Activities:\n",
    "        if ac not in toBeProcessed:\n",
    "            continue\n",
    "        if len(set(Predecessors[ac]).intersection(set(toBeProcessed)))==0: #have processed pred\n",
    "            print(\"processing\",ac)\n",
    "            startingTimes=np.zeros(trials)\n",
    "            for predec in Predecessors[ac]:\n",
    "                startingTimes=np.maximum(startingTimes,finishTimes[predec])\n",
    "            finishTimes[ac]=startingTimes+Durations[ac]\n",
    "            toBeProcessed.remove(ac)\n",
    "        else :\n",
    "            print (\"failed to process\",ac,Predecessors[ac],set(Predecessors[ac]).intersection(set(toBeProcessed)))\n",
    "projectFinish=np.zeros(trials)\n",
    "for ac in Activities:\n",
    "    projectFinish=np.maximum(projectFinish,finishTimes[ac])\n",
    "            \n",
    "print(\"average time\",projectFinish.mean())\n",
    "print(\"probability to exheed 27\",np.where(projectFinish>27,1,0).mean())\n",
    "sn.histplot(projectFinish,stat=\"probability\",bins=8)"
   ]
  },
  {
   "cell_type": "code",
   "execution_count": null,
   "id": "35f4350d",
   "metadata": {},
   "outputs": [],
   "source": []
  }
 ],
 "metadata": {
  "kernelspec": {
   "display_name": "Python 3.11.0 ('MM_Code_repo': venv)",
   "language": "python",
   "name": "python3"
  },
  "language_info": {
   "codemirror_mode": {
    "name": "ipython",
    "version": 3
   },
   "file_extension": ".py",
   "mimetype": "text/x-python",
   "name": "python",
   "nbconvert_exporter": "python",
   "pygments_lexer": "ipython3",
   "version": "3.11.0"
  },
  "vscode": {
   "interpreter": {
    "hash": "970de0ebb4c0a68312f39cb579d6b1ad7613cdaac5e6f1c9a7fac22438a66efc"
   }
  }
 },
 "nbformat": 4,
 "nbformat_minor": 5
}
