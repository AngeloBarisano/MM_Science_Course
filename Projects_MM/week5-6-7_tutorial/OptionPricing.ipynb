{
 "cells": [
  {
   "cell_type": "code",
   "execution_count": 1,
   "id": "99dab451",
   "metadata": {},
   "outputs": [],
   "source": [
    "import numpy as np"
   ]
  },
  {
   "cell_type": "markdown",
   "id": "edc1626d",
   "metadata": {},
   "source": [
    "## European Call"
   ]
  },
  {
   "cell_type": "code",
   "execution_count": 15,
   "id": "14cbd2ea",
   "metadata": {},
   "outputs": [
    {
     "name": "stdout",
     "output_type": "stream",
     "text": [
      "price 6.24726\n"
     ]
    }
   ],
   "source": [
    "n=1000000\n",
    "randomnums=np.random.rand(n)\n",
    "stockprices=np.where(randomnums<0.625,115,75)\n",
    "optionvalues=np.maximum(0,stockprices-105)\n",
    "print(\"price\",optionvalues.mean())"
   ]
  },
  {
   "cell_type": "markdown",
   "id": "d110d802",
   "metadata": {},
   "source": [
    "## Asian option"
   ]
  },
  {
   "cell_type": "code",
   "execution_count": 16,
   "id": "79c92410",
   "metadata": {},
   "outputs": [
    {
     "name": "stdout",
     "output_type": "stream",
     "text": [
      "price 8.769112615184355\n"
     ]
    }
   ],
   "source": [
    "n=1000000\n",
    "periods=10\n",
    "randomnums=np.random.rand(n,periods)\n",
    "stockprices=100*np.cumprod(np.where(randomnums<0.4,1.15,0.9),axis=1)\n",
    "optionvalues=np.maximum(stockprices.mean(axis=1)-102,0)\n",
    "print(\"price\",optionvalues.mean())"
   ]
  },
  {
   "cell_type": "markdown",
   "id": "4931216f",
   "metadata": {},
   "source": [
    "## Lookback option"
   ]
  },
  {
   "cell_type": "code",
   "execution_count": 17,
   "id": "5042e622",
   "metadata": {},
   "outputs": [
    {
     "name": "stdout",
     "output_type": "stream",
     "text": [
      "price 26.480008350972422\n"
     ]
    }
   ],
   "source": [
    "n=1000000\n",
    "periods=10\n",
    "randomnums=np.random.rand(n,periods)\n",
    "stockprices=100*np.cumprod(np.where(randomnums<0.4,1.15,0.9),axis=1)\n",
    "optionvalues=np.maximum(stockprices.max(axis=1)-102,0)\n",
    "print(\"price\",optionvalues.mean())"
   ]
  },
  {
   "cell_type": "markdown",
   "id": "5a16cea4",
   "metadata": {},
   "source": [
    "## Basket option"
   ]
  },
  {
   "cell_type": "code",
   "execution_count": 26,
   "id": "98e72d11",
   "metadata": {},
   "outputs": [
    {
     "name": "stdout",
     "output_type": "stream",
     "text": [
      "price 9.288600207340584\n"
     ]
    }
   ],
   "source": [
    "n=1000000\n",
    "periods=10\n",
    "randomnums1=np.random.rand(n,periods)\n",
    "randomnums2=np.random.rand(n,periods)\n",
    "stockprice1=100*np.prod(np.where(randomnums1<0.4,1.15,0.9),axis=1)\n",
    "stockprice2=100*np.prod(np.where(randomnums2<0.5,1.1,0.9),axis=1)\n",
    "optionvalues=np.maximum((stockprice1+stockprice2)/2-102,0)\n",
    "print(\"price\",optionvalues.mean())"
   ]
  },
  {
   "cell_type": "markdown",
   "id": "29c6b2f2",
   "metadata": {},
   "source": [
    "## Rainbow option"
   ]
  },
  {
   "cell_type": "code",
   "execution_count": 28,
   "id": "61c39737",
   "metadata": {},
   "outputs": [
    {
     "name": "stdout",
     "output_type": "stream",
     "text": [
      "price 23.759326891248442\n"
     ]
    }
   ],
   "source": [
    "n=1000000\n",
    "periods=10\n",
    "randomnums1=np.random.rand(n,periods) #10000000 paths, 10 periods\n",
    "randomnums2=np.random.rand(n,periods) #10000000 paths, 10 periods\n",
    "stockprice1=100*np.prod(np.where(randomnums1<0.4,1.15,0.9),axis=1)\n",
    "stockprice2=100*np.prod(np.where(randomnums2<0.5,1.1,0.9),axis=1)\n",
    "value=np.maximum(np.maximum(stockprice1,stockprice2)-102,0)   \n",
    "print (\"price\", value.mean())"
   ]
  },
  {
   "cell_type": "code",
   "execution_count": null,
   "id": "52337325",
   "metadata": {},
   "outputs": [],
   "source": []
  }
 ],
 "metadata": {
  "kernelspec": {
   "display_name": "Python 3.11.0 ('MM_Code_repo': venv)",
   "language": "python",
   "name": "python3"
  },
  "language_info": {
   "codemirror_mode": {
    "name": "ipython",
    "version": 3
   },
   "file_extension": ".py",
   "mimetype": "text/x-python",
   "name": "python",
   "nbconvert_exporter": "python",
   "pygments_lexer": "ipython3",
   "version": "3.11.0"
  },
  "vscode": {
   "interpreter": {
    "hash": "970de0ebb4c0a68312f39cb579d6b1ad7613cdaac5e6f1c9a7fac22438a66efc"
   }
  }
 },
 "nbformat": 4,
 "nbformat_minor": 5
}
