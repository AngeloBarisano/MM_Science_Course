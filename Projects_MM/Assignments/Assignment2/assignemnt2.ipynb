{
 "cells": [
  {
   "cell_type": "code",
   "execution_count": 1,
   "metadata": {},
   "outputs": [
    {
     "data": {
      "application/javascript": "\n            setTimeout(function() {\n                var nbb_cell_id = 1;\n                var nbb_unformatted_code = \"from gurobipy import *\\nimport gurobipy as gp\\n\\n# type declaration\\nfrom typing import Dict, List\\n\\n\\nimport pandas as pd\\n\\nimport numpy as np\\n\\n%load_ext nb_black\\n%load_ext lab_black\\n\\nimport seaborn as sns\\nimport plotly.express as px\\n\\nimport plotly.graph_objects as go\\n\\n\\n# importing package\\nimport matplotlib.pyplot as plt\\n\\n%matplotlib inline\";\n                var nbb_formatted_code = \"from gurobipy import *\\nimport gurobipy as gp\\n\\n# type declaration\\nfrom typing import Dict, List\\n\\n\\nimport pandas as pd\\n\\nimport numpy as np\\n\\n%load_ext nb_black\\n%load_ext lab_black\\n\\nimport seaborn as sns\\nimport plotly.express as px\\n\\nimport plotly.graph_objects as go\\n\\n\\n# importing package\\nimport matplotlib.pyplot as plt\\n\\n%matplotlib inline\";\n                var nbb_cells = Jupyter.notebook.get_cells();\n                for (var i = 0; i < nbb_cells.length; ++i) {\n                    if (nbb_cells[i].input_prompt_number == nbb_cell_id) {\n                        if (nbb_cells[i].get_text() == nbb_unformatted_code) {\n                             nbb_cells[i].set_text(nbb_formatted_code);\n                        }\n                        break;\n                    }\n                }\n            }, 500);\n            ",
      "text/plain": [
       "<IPython.core.display.Javascript object>"
      ]
     },
     "metadata": {},
     "output_type": "display_data"
    }
   ],
   "source": [
    "from gurobipy import *\n",
    "import gurobipy as gp\n",
    "\n",
    "# type declaration\n",
    "from typing import Dict, List\n",
    "\n",
    "\n",
    "import pandas as pd\n",
    "\n",
    "import numpy as np\n",
    "\n",
    "%load_ext nb_black\n",
    "%load_ext lab_black\n",
    "\n",
    "import seaborn as sns\n",
    "import plotly.express as px\n",
    "\n",
    "import plotly.graph_objects as go\n",
    "\n",
    "\n",
    "# importing package\n",
    "import matplotlib.pyplot as plt\n",
    "\n",
    "%matplotlib inline"
   ]
  },
  {
   "cell_type": "code",
   "execution_count": 2,
   "metadata": {},
   "outputs": [
    {
     "data": {
      "application/javascript": "\n            setTimeout(function() {\n                var nbb_cell_id = 2;\n                var nbb_unformatted_code = \"import random\\n\\nrandom.seed(42)\";\n                var nbb_formatted_code = \"import random\\n\\nrandom.seed(42)\";\n                var nbb_cells = Jupyter.notebook.get_cells();\n                for (var i = 0; i < nbb_cells.length; ++i) {\n                    if (nbb_cells[i].input_prompt_number == nbb_cell_id) {\n                        if (nbb_cells[i].get_text() == nbb_unformatted_code) {\n                             nbb_cells[i].set_text(nbb_formatted_code);\n                        }\n                        break;\n                    }\n                }\n            }, 500);\n            ",
      "text/plain": [
       "<IPython.core.display.Javascript object>"
      ]
     },
     "metadata": {},
     "output_type": "display_data"
    }
   ],
   "source": [
    "import random\n",
    "\n",
    "random.seed(42)"
   ]
  },
  {
   "cell_type": "markdown",
   "metadata": {},
   "source": [
    "# Q1"
   ]
  },
  {
   "cell_type": "code",
   "execution_count": 3,
   "metadata": {},
   "outputs": [
    {
     "data": {
      "application/javascript": "\n            setTimeout(function() {\n                var nbb_cell_id = 3;\n                var nbb_unformatted_code = \"dict_swimmers = {\\n    (\\\"N\\\", \\\"BA\\\"): 40.1,\\n    (\\\"N\\\", \\\"BR\\\"): 41.7,\\n    (\\\"N\\\", \\\"BU\\\"): 41.1,\\n    (\\\"N\\\", \\\"FR\\\"): 33.3,\\n    (\\\"M\\\", \\\"BA\\\"): 39.6,\\n    (\\\"M\\\", \\\"BR\\\"): 37.6,\\n    (\\\"M\\\", \\\"BU\\\"): 31.9,\\n    (\\\"M\\\", \\\"FR\\\"): 31.2,\\n    (\\\"L\\\", \\\"BA\\\"): 35.3,\\n    (\\\"L\\\", \\\"BR\\\"): 37.9,\\n    (\\\"L\\\", \\\"BU\\\"): 36.2,\\n    (\\\"L\\\", \\\"FR\\\"): 33.1,\\n    (\\\"A\\\", \\\"BA\\\"): 30.6,\\n    (\\\"A\\\", \\\"BR\\\"): 34.1,\\n    (\\\"A\\\", \\\"BU\\\"): 33.3,\\n    (\\\"A\\\", \\\"FR\\\"): 29.1,\\n    (\\\"C\\\", \\\"BA\\\"): 36.9,\\n    (\\\"C\\\", \\\"BR\\\"): 37.2,\\n    (\\\"C\\\", \\\"BU\\\"): 29.0,\\n    (\\\"C\\\", \\\"FR\\\"): 31.6,\\n}\\n\\ndict_swimmers_obj = [\\n    (\\\"N\\\", \\\"BA\\\"),\\n    (\\\"N\\\", \\\"BR\\\"),\\n    (\\\"N\\\", \\\"BU\\\"),\\n    (\\\"N\\\", \\\"FR\\\"),\\n    (\\\"M\\\", \\\"BA\\\"),\\n    (\\\"M\\\", \\\"BR\\\"),\\n    (\\\"M\\\", \\\"BU\\\"),\\n    (\\\"M\\\", \\\"FR\\\"),\\n    (\\\"L\\\", \\\"BA\\\"),\\n    (\\\"L\\\", \\\"BR\\\"),\\n    (\\\"L\\\", \\\"BU\\\"),\\n    (\\\"L\\\", \\\"FR\\\"),\\n    (\\\"A\\\", \\\"BA\\\"),\\n    (\\\"A\\\", \\\"BR\\\"),\\n    (\\\"A\\\", \\\"BU\\\"),\\n    (\\\"A\\\", \\\"FR\\\"),\\n    (\\\"C\\\", \\\"BA\\\"),\\n    (\\\"C\\\", \\\"BR\\\"),\\n    (\\\"C\\\", \\\"BU\\\"),\\n    (\\\"C\\\", \\\"FR\\\"),\\n]\\nnames_list = [\\\"N\\\", \\\"M\\\", \\\"L\\\", \\\"A\\\", \\\"C\\\"]\\ntypes_lanes = [\\\"BA\\\", \\\"BR\\\", \\\"BU\\\", \\\"FR\\\"]\";\n                var nbb_formatted_code = \"dict_swimmers = {\\n    (\\\"N\\\", \\\"BA\\\"): 40.1,\\n    (\\\"N\\\", \\\"BR\\\"): 41.7,\\n    (\\\"N\\\", \\\"BU\\\"): 41.1,\\n    (\\\"N\\\", \\\"FR\\\"): 33.3,\\n    (\\\"M\\\", \\\"BA\\\"): 39.6,\\n    (\\\"M\\\", \\\"BR\\\"): 37.6,\\n    (\\\"M\\\", \\\"BU\\\"): 31.9,\\n    (\\\"M\\\", \\\"FR\\\"): 31.2,\\n    (\\\"L\\\", \\\"BA\\\"): 35.3,\\n    (\\\"L\\\", \\\"BR\\\"): 37.9,\\n    (\\\"L\\\", \\\"BU\\\"): 36.2,\\n    (\\\"L\\\", \\\"FR\\\"): 33.1,\\n    (\\\"A\\\", \\\"BA\\\"): 30.6,\\n    (\\\"A\\\", \\\"BR\\\"): 34.1,\\n    (\\\"A\\\", \\\"BU\\\"): 33.3,\\n    (\\\"A\\\", \\\"FR\\\"): 29.1,\\n    (\\\"C\\\", \\\"BA\\\"): 36.9,\\n    (\\\"C\\\", \\\"BR\\\"): 37.2,\\n    (\\\"C\\\", \\\"BU\\\"): 29.0,\\n    (\\\"C\\\", \\\"FR\\\"): 31.6,\\n}\\n\\ndict_swimmers_obj = [\\n    (\\\"N\\\", \\\"BA\\\"),\\n    (\\\"N\\\", \\\"BR\\\"),\\n    (\\\"N\\\", \\\"BU\\\"),\\n    (\\\"N\\\", \\\"FR\\\"),\\n    (\\\"M\\\", \\\"BA\\\"),\\n    (\\\"M\\\", \\\"BR\\\"),\\n    (\\\"M\\\", \\\"BU\\\"),\\n    (\\\"M\\\", \\\"FR\\\"),\\n    (\\\"L\\\", \\\"BA\\\"),\\n    (\\\"L\\\", \\\"BR\\\"),\\n    (\\\"L\\\", \\\"BU\\\"),\\n    (\\\"L\\\", \\\"FR\\\"),\\n    (\\\"A\\\", \\\"BA\\\"),\\n    (\\\"A\\\", \\\"BR\\\"),\\n    (\\\"A\\\", \\\"BU\\\"),\\n    (\\\"A\\\", \\\"FR\\\"),\\n    (\\\"C\\\", \\\"BA\\\"),\\n    (\\\"C\\\", \\\"BR\\\"),\\n    (\\\"C\\\", \\\"BU\\\"),\\n    (\\\"C\\\", \\\"FR\\\"),\\n]\\nnames_list = [\\\"N\\\", \\\"M\\\", \\\"L\\\", \\\"A\\\", \\\"C\\\"]\\ntypes_lanes = [\\\"BA\\\", \\\"BR\\\", \\\"BU\\\", \\\"FR\\\"]\";\n                var nbb_cells = Jupyter.notebook.get_cells();\n                for (var i = 0; i < nbb_cells.length; ++i) {\n                    if (nbb_cells[i].input_prompt_number == nbb_cell_id) {\n                        if (nbb_cells[i].get_text() == nbb_unformatted_code) {\n                             nbb_cells[i].set_text(nbb_formatted_code);\n                        }\n                        break;\n                    }\n                }\n            }, 500);\n            ",
      "text/plain": [
       "<IPython.core.display.Javascript object>"
      ]
     },
     "metadata": {},
     "output_type": "display_data"
    }
   ],
   "source": [
    "dict_swimmers = {\n",
    "    (\"N\", \"BA\"): 40.1,\n",
    "    (\"N\", \"BR\"): 41.7,\n",
    "    (\"N\", \"BU\"): 41.1,\n",
    "    (\"N\", \"FR\"): 33.3,\n",
    "    (\"M\", \"BA\"): 39.6,\n",
    "    (\"M\", \"BR\"): 37.6,\n",
    "    (\"M\", \"BU\"): 31.9,\n",
    "    (\"M\", \"FR\"): 31.2,\n",
    "    (\"L\", \"BA\"): 35.3,\n",
    "    (\"L\", \"BR\"): 37.9,\n",
    "    (\"L\", \"BU\"): 36.2,\n",
    "    (\"L\", \"FR\"): 33.1,\n",
    "    (\"A\", \"BA\"): 30.6,\n",
    "    (\"A\", \"BR\"): 34.1,\n",
    "    (\"A\", \"BU\"): 33.3,\n",
    "    (\"A\", \"FR\"): 29.1,\n",
    "    (\"C\", \"BA\"): 36.9,\n",
    "    (\"C\", \"BR\"): 37.2,\n",
    "    (\"C\", \"BU\"): 29.0,\n",
    "    (\"C\", \"FR\"): 31.6,\n",
    "}\n",
    "\n",
    "dict_swimmers_obj = [\n",
    "    (\"N\", \"BA\"),\n",
    "    (\"N\", \"BR\"),\n",
    "    (\"N\", \"BU\"),\n",
    "    (\"N\", \"FR\"),\n",
    "    (\"M\", \"BA\"),\n",
    "    (\"M\", \"BR\"),\n",
    "    (\"M\", \"BU\"),\n",
    "    (\"M\", \"FR\"),\n",
    "    (\"L\", \"BA\"),\n",
    "    (\"L\", \"BR\"),\n",
    "    (\"L\", \"BU\"),\n",
    "    (\"L\", \"FR\"),\n",
    "    (\"A\", \"BA\"),\n",
    "    (\"A\", \"BR\"),\n",
    "    (\"A\", \"BU\"),\n",
    "    (\"A\", \"FR\"),\n",
    "    (\"C\", \"BA\"),\n",
    "    (\"C\", \"BR\"),\n",
    "    (\"C\", \"BU\"),\n",
    "    (\"C\", \"FR\"),\n",
    "]\n",
    "names_list = [\"N\", \"M\", \"L\", \"A\", \"C\"]\n",
    "types_lanes = [\"BA\", \"BR\", \"BU\", \"FR\"]"
   ]
  },
  {
   "cell_type": "code",
   "execution_count": 4,
   "metadata": {},
   "outputs": [
    {
     "name": "stdout",
     "output_type": "stream",
     "text": [
      "Set parameter Username\n",
      "Academic license - for non-commercial use only - expires 2023-11-10\n",
      "Gurobi Optimizer version 10.0.0 build v10.0.0rc2 (linux64)\n",
      "\n",
      "CPU model: 11th Gen Intel(R) Core(TM) i7-1165G7 @ 2.80GHz, instruction set [SSE2|AVX|AVX2|AVX512]\n",
      "Thread count: 4 physical cores, 8 logical processors, using up to 8 threads\n",
      "\n",
      "Optimize a model with 9 rows, 20 columns and 40 nonzeros\n",
      "Model fingerprint: 0x69b34e51\n",
      "Variable types: 0 continuous, 20 integer (20 binary)\n",
      "Coefficient statistics:\n",
      "  Matrix range     [1e+00, 1e+00]\n",
      "  Objective range  [3e+01, 4e+01]\n",
      "  Bounds range     [1e+00, 1e+00]\n",
      "  RHS range        [1e+00, 1e+00]\n",
      "Found heuristic solution: objective 136.3000000\n",
      "Presolve time: 0.00s\n",
      "Presolved: 9 rows, 20 columns, 40 nonzeros\n",
      "Variable types: 0 continuous, 20 integer (20 binary)\n",
      "Found heuristic solution: objective 135.8000000\n",
      "\n",
      "Root relaxation: objective 1.287000e+02, 8 iterations, 0.00 seconds (0.00 work units)\n",
      "\n",
      "    Nodes    |    Current Node    |     Objective Bounds      |     Work\n",
      " Expl Unexpl |  Obj  Depth IntInf | Incumbent    BestBd   Gap | It/Node Time\n",
      "\n",
      "*    0     0               0     128.7000000  128.70000  0.00%     -    0s\n",
      "\n",
      "Explored 1 nodes (8 simplex iterations) in 0.01 seconds (0.00 work units)\n",
      "Thread count was 8 (of 8 available processors)\n",
      "\n",
      "Solution count 3: 128.7 135.8 136.3 \n",
      "\n",
      "Optimal solution found (tolerance 1.00e-04)\n",
      "Best objective 1.287000000000e+02, best bound 1.287000000000e+02, gap 0.0000%\n",
      "optimal value 128.7\n",
      "\n",
      "    Variable            X \n",
      "-------------------------\n",
      "swimmers[M,FR]            1 \n",
      "swimmers[L,BR]            1 \n",
      "swimmers[A,BA]            1 \n",
      "swimmers[C,BU]            1 \n"
     ]
    },
    {
     "data": {
      "application/javascript": "\n            setTimeout(function() {\n                var nbb_cell_id = 4;\n                var nbb_unformatted_code = \"random.seed(42)\\nmodel = Model()\\nx = model.addVars(dict_swimmers, obj=dict_swimmers, vtype=GRB.BINARY, name=\\\"swimmers\\\")\\nmodel.ModelSense = gp.GRB.MINIMIZE\\n\\nmodel.addConstrs(gp.quicksum((x[(i, j)] for j in types_lanes)) <= 1 for i in names_list)\\n\\nfor j in types_lanes:\\n    model.addConstr(gp.quicksum((x[(i, j)] for i in names_list)) == 1)\\n\\nmodel.optimize()\\nprint(\\\"optimal value\\\", model.objval)\\nmodel.printAttr(\\\"X\\\")\";\n                var nbb_formatted_code = \"random.seed(42)\\nmodel = Model()\\nx = model.addVars(dict_swimmers, obj=dict_swimmers, vtype=GRB.BINARY, name=\\\"swimmers\\\")\\nmodel.ModelSense = gp.GRB.MINIMIZE\\n\\nmodel.addConstrs(gp.quicksum((x[(i, j)] for j in types_lanes)) <= 1 for i in names_list)\\n\\nfor j in types_lanes:\\n    model.addConstr(gp.quicksum((x[(i, j)] for i in names_list)) == 1)\\n\\nmodel.optimize()\\nprint(\\\"optimal value\\\", model.objval)\\nmodel.printAttr(\\\"X\\\")\";\n                var nbb_cells = Jupyter.notebook.get_cells();\n                for (var i = 0; i < nbb_cells.length; ++i) {\n                    if (nbb_cells[i].input_prompt_number == nbb_cell_id) {\n                        if (nbb_cells[i].get_text() == nbb_unformatted_code) {\n                             nbb_cells[i].set_text(nbb_formatted_code);\n                        }\n                        break;\n                    }\n                }\n            }, 500);\n            ",
      "text/plain": [
       "<IPython.core.display.Javascript object>"
      ]
     },
     "metadata": {},
     "output_type": "display_data"
    }
   ],
   "source": [
    "random.seed(42)\n",
    "model = Model()\n",
    "x = model.addVars(dict_swimmers, obj=dict_swimmers, vtype=GRB.BINARY, name=\"swimmers\")\n",
    "model.ModelSense = gp.GRB.MINIMIZE\n",
    "\n",
    "model.addConstrs(gp.quicksum((x[(i, j)] for j in types_lanes)) <= 1 for i in names_list)\n",
    "\n",
    "for j in types_lanes:\n",
    "    model.addConstr(gp.quicksum((x[(i, j)] for i in names_list)) == 1)\n",
    "\n",
    "model.optimize()\n",
    "print(\"optimal value\", model.objval)\n",
    "model.printAttr(\"X\")"
   ]
  },
  {
   "cell_type": "markdown",
   "metadata": {},
   "source": [
    "# Q2a Standard Capacity allocation problem\n",
    "\n",
    "Use simulation to determine the optimal booking policy to maximize expected revenue: for every booking limit between 20 and 80, simulate 10000 paths and compute the expected revenue. Plot the expected revenue as a function of the booking limit. (30 points)\n",
    "\n",
    "\n",
    "\n"
   ]
  },
  {
   "cell_type": "code",
   "execution_count": 5,
   "metadata": {},
   "outputs": [
    {
     "data": {
      "application/javascript": "\n            setTimeout(function() {\n                var nbb_cell_id = 5;\n                var nbb_unformatted_code = \"random.seed(42)\\nbooklimit = list(range(20, 81))\\nlam_customerP1 = np.random.poisson(lam=75, size=10000)\\nlam_customerP2 = np.random.poisson(lam=50, size=10000)\\n\\nprofit = []\\nfor lim in booklimit:\\n    salePeriod1 = np.where(lam_customerP1 <= lim, lam_customerP1, lim)\\n    ticketsLeft = 100 - salePeriod1\\n    salePeriod2 = np.where(lam_customerP2 > ticketsLeft, ticketsLeft, lam_customerP2)\\n    revenues = 150 * salePeriod1 + 500 * salePeriod2\\n    profit.append([lim, np.mean(revenues)])\";\n                var nbb_formatted_code = \"random.seed(42)\\nbooklimit = list(range(20, 81))\\nlam_customerP1 = np.random.poisson(lam=75, size=10000)\\nlam_customerP2 = np.random.poisson(lam=50, size=10000)\\n\\nprofit = []\\nfor lim in booklimit:\\n    salePeriod1 = np.where(lam_customerP1 <= lim, lam_customerP1, lim)\\n    ticketsLeft = 100 - salePeriod1\\n    salePeriod2 = np.where(lam_customerP2 > ticketsLeft, ticketsLeft, lam_customerP2)\\n    revenues = 150 * salePeriod1 + 500 * salePeriod2\\n    profit.append([lim, np.mean(revenues)])\";\n                var nbb_cells = Jupyter.notebook.get_cells();\n                for (var i = 0; i < nbb_cells.length; ++i) {\n                    if (nbb_cells[i].input_prompt_number == nbb_cell_id) {\n                        if (nbb_cells[i].get_text() == nbb_unformatted_code) {\n                             nbb_cells[i].set_text(nbb_formatted_code);\n                        }\n                        break;\n                    }\n                }\n            }, 500);\n            ",
      "text/plain": [
       "<IPython.core.display.Javascript object>"
      ]
     },
     "metadata": {},
     "output_type": "display_data"
    }
   ],
   "source": [
    "random.seed(42)\n",
    "booklimit = list(range(20, 81))\n",
    "lam_customerP1 = np.random.poisson(lam=75, size=10000)\n",
    "lam_customerP2 = np.random.poisson(lam=50, size=10000)\n",
    "\n",
    "profit = []\n",
    "for lim in booklimit:\n",
    "    salePeriod1 = np.where(lam_customerP1 <= lim, lam_customerP1, lim)\n",
    "    ticketsLeft = 100 - salePeriod1\n",
    "    salePeriod2 = np.where(lam_customerP2 > ticketsLeft, ticketsLeft, lam_customerP2)\n",
    "    revenues = 150 * salePeriod1 + 500 * salePeriod2\n",
    "    profit.append([lim, np.mean(revenues)])"
   ]
  },
  {
   "cell_type": "code",
   "execution_count": 6,
   "metadata": {},
   "outputs": [
    {
     "data": {
      "application/javascript": "\n            setTimeout(function() {\n                var nbb_cell_id = 6;\n                var nbb_unformatted_code = \"df_profit = pd.DataFrame(profit, columns=[\\\"Alpha\\\", \\\"Expected Revenue\\\"])\";\n                var nbb_formatted_code = \"df_profit = pd.DataFrame(profit, columns=[\\\"Alpha\\\", \\\"Expected Revenue\\\"])\";\n                var nbb_cells = Jupyter.notebook.get_cells();\n                for (var i = 0; i < nbb_cells.length; ++i) {\n                    if (nbb_cells[i].input_prompt_number == nbb_cell_id) {\n                        if (nbb_cells[i].get_text() == nbb_unformatted_code) {\n                             nbb_cells[i].set_text(nbb_formatted_code);\n                        }\n                        break;\n                    }\n                }\n            }, 500);\n            ",
      "text/plain": [
       "<IPython.core.display.Javascript object>"
      ]
     },
     "metadata": {},
     "output_type": "display_data"
    }
   ],
   "source": [
    "df_profit = pd.DataFrame(profit, columns=[\"Alpha\", \"Expected Revenue\"])"
   ]
  },
  {
   "cell_type": "code",
   "execution_count": 7,
   "metadata": {},
   "outputs": [
    {
     "data": {
      "image/png": "[encoded data removed]",
      "text/plain": [
       "<Figure size 1080x540 with 1 Axes>"
      ]
     },
     "metadata": {},
     "output_type": "display_data"
    },
    {
     "data": {
      "application/javascript": "\n            setTimeout(function() {\n                var nbb_cell_id = 7;\n                var nbb_unformatted_code = \"sns.set_theme()\\nfig, ax = plt.subplots(figsize=(15, 7.5))\\nplt.plot(df_profit[\\\"Alpha\\\"], df_profit[\\\"Expected Revenue\\\"], label=\\\"line 1\\\")\\nplt.title(\\\"Expected Revenue By Booking Limit\\\")\\nplt.xlabel(\\\"Booking Limit\\\")\\nplt.ylabel(\\\"Expected Profit\\\")\\n# plt.legend()\\nplt.show()\";\n                var nbb_formatted_code = \"sns.set_theme()\\nfig, ax = plt.subplots(figsize=(15, 7.5))\\nplt.plot(df_profit[\\\"Alpha\\\"], df_profit[\\\"Expected Revenue\\\"], label=\\\"line 1\\\")\\nplt.title(\\\"Expected Revenue By Booking Limit\\\")\\nplt.xlabel(\\\"Booking Limit\\\")\\nplt.ylabel(\\\"Expected Profit\\\")\\n# plt.legend()\\nplt.show()\";\n                var nbb_cells = Jupyter.notebook.get_cells();\n                for (var i = 0; i < nbb_cells.length; ++i) {\n                    if (nbb_cells[i].input_prompt_number == nbb_cell_id) {\n                        if (nbb_cells[i].get_text() == nbb_unformatted_code) {\n                             nbb_cells[i].set_text(nbb_formatted_code);\n                        }\n                        break;\n                    }\n                }\n            }, 500);\n            ",
      "text/plain": [
       "<IPython.core.display.Javascript object>"
      ]
     },
     "metadata": {},
     "output_type": "display_data"
    }
   ],
   "source": [
    "sns.set_theme()\n",
    "fig, ax = plt.subplots(figsize=(15, 7.5))\n",
    "plt.plot(df_profit[\"Alpha\"], df_profit[\"Expected Revenue\"], label=\"line 1\")\n",
    "plt.title(\"Expected Revenue By Booking Limit\")\n",
    "plt.xlabel(\"Booking Limit\")\n",
    "plt.ylabel(\"Expected Profit\")\n",
    "# plt.legend()\n",
    "plt.show()"
   ]
  },
  {
   "cell_type": "code",
   "execution_count": 8,
   "metadata": {},
   "outputs": [
    {
     "data": {
      "text/html": [
       "<div>\n",
       "<style scoped>\n",
       "    .dataframe tbody tr th:only-of-type {\n",
       "        vertical-align: middle;\n",
       "    }\n",
       "\n",
       "    .dataframe tbody tr th {\n",
       "        vertical-align: top;\n",
       "    }\n",
       "\n",
       "    .dataframe thead th {\n",
       "        text-align: right;\n",
       "    }\n",
       "</style>\n",
       "<table border=\"1\" class=\"dataframe\">\n",
       "  <thead>\n",
       "    <tr style=\"text-align: right;\">\n",
       "      <th></th>\n",
       "      <th>Alpha</th>\n",
       "      <th>Expected Revenue</th>\n",
       "    </tr>\n",
       "  </thead>\n",
       "  <tbody>\n",
       "    <tr>\n",
       "      <th>26</th>\n",
       "      <td>46</td>\n",
       "      <td>31255.850</td>\n",
       "    </tr>\n",
       "    <tr>\n",
       "      <th>27</th>\n",
       "      <td>47</td>\n",
       "      <td>31252.135</td>\n",
       "    </tr>\n",
       "    <tr>\n",
       "      <th>25</th>\n",
       "      <td>45</td>\n",
       "      <td>31234.800</td>\n",
       "    </tr>\n",
       "    <tr>\n",
       "      <th>28</th>\n",
       "      <td>48</td>\n",
       "      <td>31224.955</td>\n",
       "    </tr>\n",
       "    <tr>\n",
       "      <th>24</th>\n",
       "      <td>44</td>\n",
       "      <td>31191.800</td>\n",
       "    </tr>\n",
       "    <tr>\n",
       "      <th>...</th>\n",
       "      <td>...</td>\n",
       "      <td>...</td>\n",
       "    </tr>\n",
       "    <tr>\n",
       "      <th>56</th>\n",
       "      <td>76</td>\n",
       "      <td>24769.925</td>\n",
       "    </tr>\n",
       "    <tr>\n",
       "      <th>57</th>\n",
       "      <td>77</td>\n",
       "      <td>24621.035</td>\n",
       "    </tr>\n",
       "    <tr>\n",
       "      <th>58</th>\n",
       "      <td>78</td>\n",
       "      <td>24488.140</td>\n",
       "    </tr>\n",
       "    <tr>\n",
       "      <th>59</th>\n",
       "      <td>79</td>\n",
       "      <td>24370.540</td>\n",
       "    </tr>\n",
       "    <tr>\n",
       "      <th>60</th>\n",
       "      <td>80</td>\n",
       "      <td>24266.555</td>\n",
       "    </tr>\n",
       "  </tbody>\n",
       "</table>\n",
       "<p>61 rows × 2 columns</p>\n",
       "</div>"
      ],
      "text/plain": [
       "    Alpha  Expected Revenue\n",
       "26     46         31255.850\n",
       "27     47         31252.135\n",
       "25     45         31234.800\n",
       "28     48         31224.955\n",
       "24     44         31191.800\n",
       "..    ...               ...\n",
       "56     76         24769.925\n",
       "57     77         24621.035\n",
       "58     78         24488.140\n",
       "59     79         24370.540\n",
       "60     80         24266.555\n",
       "\n",
       "[61 rows x 2 columns]"
      ]
     },
     "execution_count": 8,
     "metadata": {},
     "output_type": "execute_result"
    },
    {
     "data": {
      "application/javascript": "\n            setTimeout(function() {\n                var nbb_cell_id = 8;\n                var nbb_unformatted_code = \"df_profit.sort_values(by=\\\"Expected Revenue\\\", ascending=False)\";\n                var nbb_formatted_code = \"df_profit.sort_values(by=\\\"Expected Revenue\\\", ascending=False)\";\n                var nbb_cells = Jupyter.notebook.get_cells();\n                for (var i = 0; i < nbb_cells.length; ++i) {\n                    if (nbb_cells[i].input_prompt_number == nbb_cell_id) {\n                        if (nbb_cells[i].get_text() == nbb_unformatted_code) {\n                             nbb_cells[i].set_text(nbb_formatted_code);\n                        }\n                        break;\n                    }\n                }\n            }, 500);\n            ",
      "text/plain": [
       "<IPython.core.display.Javascript object>"
      ]
     },
     "metadata": {},
     "output_type": "display_data"
    }
   ],
   "source": [
    "df_profit.sort_values(by=\"Expected Revenue\", ascending=False)"
   ]
  },
  {
   "cell_type": "markdown",
   "metadata": {},
   "source": [
    "# Q2b"
   ]
  },
  {
   "cell_type": "code",
   "execution_count": 9,
   "metadata": {},
   "outputs": [
    {
     "data": {
      "application/javascript": "\n            setTimeout(function() {\n                var nbb_cell_id = 9;\n                var nbb_unformatted_code = \"lam_customerP1 = np.random.poisson(lam=75, size=10000)\\nlam_customerP2 = np.random.poisson(lam=50, size=10000)\\nprice_range = list(range(150, 301))\\nbooking_limit = list(range(20, 81))\\n\\n\\nprofit = []\\nfor alpha in booking_limit:\\n    for prp in price_range:\\n        # draw customer numbers period 1\\n        paying_customers_p1 = np.where(lam_customerP1 <= alpha, lam_customerP1, alpha)\\n\\n        # define the number of seats available after period 1 sales\\n        n_seats = 100 - paying_customers_p1\\n\\n        # Define the shortage in saeats based on period 2 demans\\n        period2_shortage = np.where(\\n            n_seats < lam_customerP2, lam_customerP2 - n_seats, 0\\n        )\\n\\n        # draw how many custoemrs want to be refunded\\n        refunded = np.random.binomial(paying_customers_p1, ((prp - 150) / 150), 10000)\\n        period1_refunds = np.where(\\n            refunded >= period2_shortage, period2_shortage, refunded\\n        )\\n\\n        # fetch the number of seats\\n        n_seats_new = n_seats + period1_refunds\\n\\n        # paying_customers_p1 -= period1_refunds\\n\\n        paying_customers_p2 = np.where(\\n            lam_customerP2 > n_seats_new, n_seats_new, lam_customerP2\\n        )\\n\\n        # expected revenue\\n        exprevenue = (\\n            ((paying_customers_p1 - period1_refunds) * 150) - (period1_refunds * prp)\\n        ) + (paying_customers_p2 * 500)\\n\\n        # save the results\\n        profit.append([alpha, prp, np.mean(exprevenue)])\";\n                var nbb_formatted_code = \"lam_customerP1 = np.random.poisson(lam=75, size=10000)\\nlam_customerP2 = np.random.poisson(lam=50, size=10000)\\nprice_range = list(range(150, 301))\\nbooking_limit = list(range(20, 81))\\n\\n\\nprofit = []\\nfor alpha in booking_limit:\\n    for prp in price_range:\\n        # draw customer numbers period 1\\n        paying_customers_p1 = np.where(lam_customerP1 <= alpha, lam_customerP1, alpha)\\n\\n        # define the number of seats available after period 1 sales\\n        n_seats = 100 - paying_customers_p1\\n\\n        # Define the shortage in saeats based on period 2 demans\\n        period2_shortage = np.where(\\n            n_seats < lam_customerP2, lam_customerP2 - n_seats, 0\\n        )\\n\\n        # draw how many custoemrs want to be refunded\\n        refunded = np.random.binomial(paying_customers_p1, ((prp - 150) / 150), 10000)\\n        period1_refunds = np.where(\\n            refunded >= period2_shortage, period2_shortage, refunded\\n        )\\n\\n        # fetch the number of seats\\n        n_seats_new = n_seats + period1_refunds\\n\\n        # paying_customers_p1 -= period1_refunds\\n\\n        paying_customers_p2 = np.where(\\n            lam_customerP2 > n_seats_new, n_seats_new, lam_customerP2\\n        )\\n\\n        # expected revenue\\n        exprevenue = (\\n            ((paying_customers_p1 - period1_refunds) * 150) - (period1_refunds * prp)\\n        ) + (paying_customers_p2 * 500)\\n\\n        # save the results\\n        profit.append([alpha, prp, np.mean(exprevenue)])\";\n                var nbb_cells = Jupyter.notebook.get_cells();\n                for (var i = 0; i < nbb_cells.length; ++i) {\n                    if (nbb_cells[i].input_prompt_number == nbb_cell_id) {\n                        if (nbb_cells[i].get_text() == nbb_unformatted_code) {\n                             nbb_cells[i].set_text(nbb_formatted_code);\n                        }\n                        break;\n                    }\n                }\n            }, 500);\n            ",
      "text/plain": [
       "<IPython.core.display.Javascript object>"
      ]
     },
     "metadata": {},
     "output_type": "display_data"
    }
   ],
   "source": [
    "lam_customerP1 = np.random.poisson(lam=75, size=10000)\n",
    "lam_customerP2 = np.random.poisson(lam=50, size=10000)\n",
    "price_range = list(range(150, 301))\n",
    "booking_limit = list(range(20, 81))\n",
    "\n",
    "\n",
    "profit = []\n",
    "for alpha in booking_limit:\n",
    "    for prp in price_range:\n",
    "        # draw customer numbers period 1\n",
    "        paying_customers_p1 = np.where(lam_customerP1 <= alpha, lam_customerP1, alpha)\n",
    "\n",
    "        # define the number of seats available after period 1 sales\n",
    "        n_seats = 100 - paying_customers_p1\n",
    "\n",
    "        # Define the shortage in saeats based on period 2 demans\n",
    "        period2_shortage = np.where(\n",
    "            n_seats < lam_customerP2, lam_customerP2 - n_seats, 0\n",
    "        )\n",
    "\n",
    "        # draw how many custoemrs want to be refunded\n",
    "        refunded = np.random.binomial(paying_customers_p1, ((prp - 150) / 150), 10000)\n",
    "        period1_refunds = np.where(\n",
    "            refunded >= period2_shortage, period2_shortage, refunded\n",
    "        )\n",
    "\n",
    "        # fetch the number of seats\n",
    "        n_seats_new = n_seats + period1_refunds\n",
    "\n",
    "        # paying_customers_p1 -= period1_refunds\n",
    "\n",
    "        paying_customers_p2 = np.where(\n",
    "            lam_customerP2 > n_seats_new, n_seats_new, lam_customerP2\n",
    "        )\n",
    "\n",
    "        # expected revenue\n",
    "        exprevenue = (\n",
    "            ((paying_customers_p1 - period1_refunds) * 150) - (period1_refunds * prp)\n",
    "        ) + (paying_customers_p2 * 500)\n",
    "\n",
    "        # save the results\n",
    "        profit.append([alpha, prp, np.mean(exprevenue)])"
   ]
  },
  {
   "cell_type": "code",
   "execution_count": 10,
   "metadata": {},
   "outputs": [
    {
     "data": {
      "application/javascript": "\n            setTimeout(function() {\n                var nbb_cell_id = 10;\n                var nbb_unformatted_code = \"df_profit_2 = pd.DataFrame(\\n    profit, columns=[\\\"Alpha\\\", \\\"Refunded Tickets\\\", \\\"Expected Revenue\\\"]\\n)\\n\\ndf_profit_2_max = df_profit_2.loc[\\n    df_profit_2.groupby([\\\"Alpha\\\"])[\\\"Expected Revenue\\\"].idxmax()\\n]\\n\\n\\ndf_profit_2_min = df_profit_2.loc[\\n    df_profit_2.groupby([\\\"Alpha\\\"])[\\\"Expected Revenue\\\"].idxmin()\\n]\";\n                var nbb_formatted_code = \"df_profit_2 = pd.DataFrame(\\n    profit, columns=[\\\"Alpha\\\", \\\"Refunded Tickets\\\", \\\"Expected Revenue\\\"]\\n)\\n\\ndf_profit_2_max = df_profit_2.loc[\\n    df_profit_2.groupby([\\\"Alpha\\\"])[\\\"Expected Revenue\\\"].idxmax()\\n]\\n\\n\\ndf_profit_2_min = df_profit_2.loc[\\n    df_profit_2.groupby([\\\"Alpha\\\"])[\\\"Expected Revenue\\\"].idxmin()\\n]\";\n                var nbb_cells = Jupyter.notebook.get_cells();\n                for (var i = 0; i < nbb_cells.length; ++i) {\n                    if (nbb_cells[i].input_prompt_number == nbb_cell_id) {\n                        if (nbb_cells[i].get_text() == nbb_unformatted_code) {\n                             nbb_cells[i].set_text(nbb_formatted_code);\n                        }\n                        break;\n                    }\n                }\n            }, 500);\n            ",
      "text/plain": [
       "<IPython.core.display.Javascript object>"
      ]
     },
     "metadata": {},
     "output_type": "display_data"
    }
   ],
   "source": [
    "df_profit_2 = pd.DataFrame(\n",
    "    profit, columns=[\"Alpha\", \"Refunded Tickets\", \"Expected Revenue\"]\n",
    ")\n",
    "\n",
    "df_profit_2_max = df_profit_2.loc[\n",
    "    df_profit_2.groupby([\"Alpha\"])[\"Expected Revenue\"].idxmax()\n",
    "]\n",
    "\n",
    "\n",
    "df_profit_2_min = df_profit_2.loc[\n",
    "    df_profit_2.groupby([\"Alpha\"])[\"Expected Revenue\"].idxmin()\n",
    "]"
   ]
  },
  {
   "cell_type": "code",
   "execution_count": 11,
   "metadata": {},
   "outputs": [
    {
     "data": {
      "application/javascript": "\n            setTimeout(function() {\n                var nbb_cell_id = 11;\n                var nbb_unformatted_code = \"df_profit_2_max.rename(\\n    columns={\\n        \\\"Expected Revenue\\\": \\\"Expected Revenue max\\\",\\n        \\\"Refunded Tickets\\\": \\\"Refunded Tickets max\\\",\\n    },\\n    inplace=True,\\n)\";\n                var nbb_formatted_code = \"df_profit_2_max.rename(\\n    columns={\\n        \\\"Expected Revenue\\\": \\\"Expected Revenue max\\\",\\n        \\\"Refunded Tickets\\\": \\\"Refunded Tickets max\\\",\\n    },\\n    inplace=True,\\n)\";\n                var nbb_cells = Jupyter.notebook.get_cells();\n                for (var i = 0; i < nbb_cells.length; ++i) {\n                    if (nbb_cells[i].input_prompt_number == nbb_cell_id) {\n                        if (nbb_cells[i].get_text() == nbb_unformatted_code) {\n                             nbb_cells[i].set_text(nbb_formatted_code);\n                        }\n                        break;\n                    }\n                }\n            }, 500);\n            ",
      "text/plain": [
       "<IPython.core.display.Javascript object>"
      ]
     },
     "metadata": {},
     "output_type": "display_data"
    }
   ],
   "source": [
    "df_profit_2_max.rename(\n",
    "    columns={\n",
    "        \"Expected Revenue\": \"Expected Revenue max\",\n",
    "        \"Refunded Tickets\": \"Refunded Tickets max\",\n",
    "    },\n",
    "    inplace=True,\n",
    ")"
   ]
  },
  {
   "cell_type": "code",
   "execution_count": 12,
   "metadata": {},
   "outputs": [
    {
     "data": {
      "application/javascript": "\n            setTimeout(function() {\n                var nbb_cell_id = 12;\n                var nbb_unformatted_code = \"df_profit_2_min.rename(\\n    columns={\\n        \\\"Expected Revenue\\\": \\\"Expected Revenue min\\\",\\n        \\\"Refunded Tickets\\\": \\\"Refunded Tickets min\\\",\\n    },\\n    inplace=True,\\n)\";\n                var nbb_formatted_code = \"df_profit_2_min.rename(\\n    columns={\\n        \\\"Expected Revenue\\\": \\\"Expected Revenue min\\\",\\n        \\\"Refunded Tickets\\\": \\\"Refunded Tickets min\\\",\\n    },\\n    inplace=True,\\n)\";\n                var nbb_cells = Jupyter.notebook.get_cells();\n                for (var i = 0; i < nbb_cells.length; ++i) {\n                    if (nbb_cells[i].input_prompt_number == nbb_cell_id) {\n                        if (nbb_cells[i].get_text() == nbb_unformatted_code) {\n                             nbb_cells[i].set_text(nbb_formatted_code);\n                        }\n                        break;\n                    }\n                }\n            }, 500);\n            ",
      "text/plain": [
       "<IPython.core.display.Javascript object>"
      ]
     },
     "metadata": {},
     "output_type": "display_data"
    }
   ],
   "source": [
    "df_profit_2_min.rename(\n",
    "    columns={\n",
    "        \"Expected Revenue\": \"Expected Revenue min\",\n",
    "        \"Refunded Tickets\": \"Refunded Tickets min\",\n",
    "    },\n",
    "    inplace=True,\n",
    ")"
   ]
  },
  {
   "cell_type": "code",
   "execution_count": 13,
   "metadata": {},
   "outputs": [
    {
     "data": {
      "text/html": [
       "<div>\n",
       "<style scoped>\n",
       "    .dataframe tbody tr th:only-of-type {\n",
       "        vertical-align: middle;\n",
       "    }\n",
       "\n",
       "    .dataframe tbody tr th {\n",
       "        vertical-align: top;\n",
       "    }\n",
       "\n",
       "    .dataframe thead th {\n",
       "        text-align: right;\n",
       "    }\n",
       "</style>\n",
       "<table border=\"1\" class=\"dataframe\">\n",
       "  <thead>\n",
       "    <tr style=\"text-align: right;\">\n",
       "      <th></th>\n",
       "      <th>Alpha</th>\n",
       "      <th>Refunded Tickets min</th>\n",
       "      <th>Expected Revenue min</th>\n",
       "    </tr>\n",
       "  </thead>\n",
       "  <tbody>\n",
       "    <tr>\n",
       "      <th>0</th>\n",
       "      <td>20</td>\n",
       "      <td>150</td>\n",
       "      <td>27967.850</td>\n",
       "    </tr>\n",
       "    <tr>\n",
       "      <th>151</th>\n",
       "      <td>21</td>\n",
       "      <td>150</td>\n",
       "      <td>28117.800</td>\n",
       "    </tr>\n",
       "    <tr>\n",
       "      <th>302</th>\n",
       "      <td>22</td>\n",
       "      <td>150</td>\n",
       "      <td>28267.600</td>\n",
       "    </tr>\n",
       "    <tr>\n",
       "      <th>453</th>\n",
       "      <td>23</td>\n",
       "      <td>150</td>\n",
       "      <td>28417.350</td>\n",
       "    </tr>\n",
       "    <tr>\n",
       "      <th>604</th>\n",
       "      <td>24</td>\n",
       "      <td>150</td>\n",
       "      <td>28567.050</td>\n",
       "    </tr>\n",
       "    <tr>\n",
       "      <th>...</th>\n",
       "      <td>...</td>\n",
       "      <td>...</td>\n",
       "      <td>...</td>\n",
       "    </tr>\n",
       "    <tr>\n",
       "      <th>8456</th>\n",
       "      <td>76</td>\n",
       "      <td>150</td>\n",
       "      <td>24757.405</td>\n",
       "    </tr>\n",
       "    <tr>\n",
       "      <th>8607</th>\n",
       "      <td>77</td>\n",
       "      <td>150</td>\n",
       "      <td>24608.970</td>\n",
       "    </tr>\n",
       "    <tr>\n",
       "      <th>8758</th>\n",
       "      <td>78</td>\n",
       "      <td>150</td>\n",
       "      <td>24476.040</td>\n",
       "    </tr>\n",
       "    <tr>\n",
       "      <th>8909</th>\n",
       "      <td>79</td>\n",
       "      <td>150</td>\n",
       "      <td>24357.775</td>\n",
       "    </tr>\n",
       "    <tr>\n",
       "      <th>9060</th>\n",
       "      <td>80</td>\n",
       "      <td>150</td>\n",
       "      <td>24254.105</td>\n",
       "    </tr>\n",
       "  </tbody>\n",
       "</table>\n",
       "<p>61 rows × 3 columns</p>\n",
       "</div>"
      ],
      "text/plain": [
       "      Alpha  Refunded Tickets min  Expected Revenue min\n",
       "0        20                   150             27967.850\n",
       "151      21                   150             28117.800\n",
       "302      22                   150             28267.600\n",
       "453      23                   150             28417.350\n",
       "604      24                   150             28567.050\n",
       "...     ...                   ...                   ...\n",
       "8456     76                   150             24757.405\n",
       "8607     77                   150             24608.970\n",
       "8758     78                   150             24476.040\n",
       "8909     79                   150             24357.775\n",
       "9060     80                   150             24254.105\n",
       "\n",
       "[61 rows x 3 columns]"
      ]
     },
     "execution_count": 13,
     "metadata": {},
     "output_type": "execute_result"
    },
    {
     "data": {
      "application/javascript": "\n            setTimeout(function() {\n                var nbb_cell_id = 13;\n                var nbb_unformatted_code = \"df_profit_2_min\";\n                var nbb_formatted_code = \"df_profit_2_min\";\n                var nbb_cells = Jupyter.notebook.get_cells();\n                for (var i = 0; i < nbb_cells.length; ++i) {\n                    if (nbb_cells[i].input_prompt_number == nbb_cell_id) {\n                        if (nbb_cells[i].get_text() == nbb_unformatted_code) {\n                             nbb_cells[i].set_text(nbb_formatted_code);\n                        }\n                        break;\n                    }\n                }\n            }, 500);\n            ",
      "text/plain": [
       "<IPython.core.display.Javascript object>"
      ]
     },
     "metadata": {},
     "output_type": "display_data"
    }
   ],
   "source": [
    "df_profit_2_min"
   ]
  },
  {
   "cell_type": "code",
   "execution_count": 14,
   "metadata": {},
   "outputs": [
    {
     "data": {
      "text/html": [
       "<div>\n",
       "<style scoped>\n",
       "    .dataframe tbody tr th:only-of-type {\n",
       "        vertical-align: middle;\n",
       "    }\n",
       "\n",
       "    .dataframe tbody tr th {\n",
       "        vertical-align: top;\n",
       "    }\n",
       "\n",
       "    .dataframe thead th {\n",
       "        text-align: right;\n",
       "    }\n",
       "</style>\n",
       "<table border=\"1\" class=\"dataframe\">\n",
       "  <thead>\n",
       "    <tr style=\"text-align: right;\">\n",
       "      <th></th>\n",
       "      <th>Alpha</th>\n",
       "      <th>Refunded Tickets max</th>\n",
       "      <th>Expected Revenue max</th>\n",
       "    </tr>\n",
       "  </thead>\n",
       "  <tbody>\n",
       "    <tr>\n",
       "      <th>4415</th>\n",
       "      <td>49</td>\n",
       "      <td>186</td>\n",
       "      <td>31508.3390</td>\n",
       "    </tr>\n",
       "    <tr>\n",
       "      <th>4264</th>\n",
       "      <td>48</td>\n",
       "      <td>186</td>\n",
       "      <td>31499.5098</td>\n",
       "    </tr>\n",
       "    <tr>\n",
       "      <th>4568</th>\n",
       "      <td>50</td>\n",
       "      <td>188</td>\n",
       "      <td>31498.3792</td>\n",
       "    </tr>\n",
       "    <tr>\n",
       "      <th>4115</th>\n",
       "      <td>47</td>\n",
       "      <td>188</td>\n",
       "      <td>31470.5586</td>\n",
       "    </tr>\n",
       "    <tr>\n",
       "      <th>4722</th>\n",
       "      <td>51</td>\n",
       "      <td>191</td>\n",
       "      <td>31468.1768</td>\n",
       "    </tr>\n",
       "    <tr>\n",
       "      <th>...</th>\n",
       "      <td>...</td>\n",
       "      <td>...</td>\n",
       "      <td>...</td>\n",
       "    </tr>\n",
       "    <tr>\n",
       "      <th>8511</th>\n",
       "      <td>76</td>\n",
       "      <td>205</td>\n",
       "      <td>27707.2415</td>\n",
       "    </tr>\n",
       "    <tr>\n",
       "      <th>8663</th>\n",
       "      <td>77</td>\n",
       "      <td>206</td>\n",
       "      <td>27601.6644</td>\n",
       "    </tr>\n",
       "    <tr>\n",
       "      <th>8815</th>\n",
       "      <td>78</td>\n",
       "      <td>207</td>\n",
       "      <td>27513.4887</td>\n",
       "    </tr>\n",
       "    <tr>\n",
       "      <th>8966</th>\n",
       "      <td>79</td>\n",
       "      <td>207</td>\n",
       "      <td>27426.4263</td>\n",
       "    </tr>\n",
       "    <tr>\n",
       "      <th>9115</th>\n",
       "      <td>80</td>\n",
       "      <td>205</td>\n",
       "      <td>27350.6235</td>\n",
       "    </tr>\n",
       "  </tbody>\n",
       "</table>\n",
       "<p>61 rows × 3 columns</p>\n",
       "</div>"
      ],
      "text/plain": [
       "      Alpha  Refunded Tickets max  Expected Revenue max\n",
       "4415     49                   186            31508.3390\n",
       "4264     48                   186            31499.5098\n",
       "4568     50                   188            31498.3792\n",
       "4115     47                   188            31470.5586\n",
       "4722     51                   191            31468.1768\n",
       "...     ...                   ...                   ...\n",
       "8511     76                   205            27707.2415\n",
       "8663     77                   206            27601.6644\n",
       "8815     78                   207            27513.4887\n",
       "8966     79                   207            27426.4263\n",
       "9115     80                   205            27350.6235\n",
       "\n",
       "[61 rows x 3 columns]"
      ]
     },
     "execution_count": 14,
     "metadata": {},
     "output_type": "execute_result"
    },
    {
     "data": {
      "application/javascript": "\n            setTimeout(function() {\n                var nbb_cell_id = 14;\n                var nbb_unformatted_code = \"df_profit_2_max.sort_values(by=\\\"Expected Revenue max\\\", ascending=False)\";\n                var nbb_formatted_code = \"df_profit_2_max.sort_values(by=\\\"Expected Revenue max\\\", ascending=False)\";\n                var nbb_cells = Jupyter.notebook.get_cells();\n                for (var i = 0; i < nbb_cells.length; ++i) {\n                    if (nbb_cells[i].input_prompt_number == nbb_cell_id) {\n                        if (nbb_cells[i].get_text() == nbb_unformatted_code) {\n                             nbb_cells[i].set_text(nbb_formatted_code);\n                        }\n                        break;\n                    }\n                }\n            }, 500);\n            ",
      "text/plain": [
       "<IPython.core.display.Javascript object>"
      ]
     },
     "metadata": {},
     "output_type": "display_data"
    }
   ],
   "source": [
    "df_profit_2_max.sort_values(by=\"Expected Revenue max\", ascending=False)"
   ]
  },
  {
   "cell_type": "code",
   "execution_count": 15,
   "metadata": {},
   "outputs": [
    {
     "data": {
      "text/html": [
       "<div>\n",
       "<style scoped>\n",
       "    .dataframe tbody tr th:only-of-type {\n",
       "        vertical-align: middle;\n",
       "    }\n",
       "\n",
       "    .dataframe tbody tr th {\n",
       "        vertical-align: top;\n",
       "    }\n",
       "\n",
       "    .dataframe thead th {\n",
       "        text-align: right;\n",
       "    }\n",
       "</style>\n",
       "<table border=\"1\" class=\"dataframe\">\n",
       "  <thead>\n",
       "    <tr style=\"text-align: right;\">\n",
       "      <th></th>\n",
       "      <th>Alpha</th>\n",
       "      <th>Refunded Tickets min</th>\n",
       "      <th>Expected Revenue min</th>\n",
       "    </tr>\n",
       "  </thead>\n",
       "  <tbody>\n",
       "    <tr>\n",
       "      <th>4077</th>\n",
       "      <td>47</td>\n",
       "      <td>150</td>\n",
       "      <td>31229.940</td>\n",
       "    </tr>\n",
       "    <tr>\n",
       "      <th>3926</th>\n",
       "      <td>46</td>\n",
       "      <td>150</td>\n",
       "      <td>31229.070</td>\n",
       "    </tr>\n",
       "    <tr>\n",
       "      <th>3775</th>\n",
       "      <td>45</td>\n",
       "      <td>150</td>\n",
       "      <td>31207.285</td>\n",
       "    </tr>\n",
       "    <tr>\n",
       "      <th>4228</th>\n",
       "      <td>48</td>\n",
       "      <td>150</td>\n",
       "      <td>31206.245</td>\n",
       "    </tr>\n",
       "    <tr>\n",
       "      <th>3624</th>\n",
       "      <td>44</td>\n",
       "      <td>150</td>\n",
       "      <td>31163.950</td>\n",
       "    </tr>\n",
       "    <tr>\n",
       "      <th>...</th>\n",
       "      <td>...</td>\n",
       "      <td>...</td>\n",
       "      <td>...</td>\n",
       "    </tr>\n",
       "    <tr>\n",
       "      <th>8456</th>\n",
       "      <td>76</td>\n",
       "      <td>150</td>\n",
       "      <td>24757.405</td>\n",
       "    </tr>\n",
       "    <tr>\n",
       "      <th>8607</th>\n",
       "      <td>77</td>\n",
       "      <td>150</td>\n",
       "      <td>24608.970</td>\n",
       "    </tr>\n",
       "    <tr>\n",
       "      <th>8758</th>\n",
       "      <td>78</td>\n",
       "      <td>150</td>\n",
       "      <td>24476.040</td>\n",
       "    </tr>\n",
       "    <tr>\n",
       "      <th>8909</th>\n",
       "      <td>79</td>\n",
       "      <td>150</td>\n",
       "      <td>24357.775</td>\n",
       "    </tr>\n",
       "    <tr>\n",
       "      <th>9060</th>\n",
       "      <td>80</td>\n",
       "      <td>150</td>\n",
       "      <td>24254.105</td>\n",
       "    </tr>\n",
       "  </tbody>\n",
       "</table>\n",
       "<p>61 rows × 3 columns</p>\n",
       "</div>"
      ],
      "text/plain": [
       "      Alpha  Refunded Tickets min  Expected Revenue min\n",
       "4077     47                   150             31229.940\n",
       "3926     46                   150             31229.070\n",
       "3775     45                   150             31207.285\n",
       "4228     48                   150             31206.245\n",
       "3624     44                   150             31163.950\n",
       "...     ...                   ...                   ...\n",
       "8456     76                   150             24757.405\n",
       "8607     77                   150             24608.970\n",
       "8758     78                   150             24476.040\n",
       "8909     79                   150             24357.775\n",
       "9060     80                   150             24254.105\n",
       "\n",
       "[61 rows x 3 columns]"
      ]
     },
     "execution_count": 15,
     "metadata": {},
     "output_type": "execute_result"
    },
    {
     "data": {
      "application/javascript": "\n            setTimeout(function() {\n                var nbb_cell_id = 15;\n                var nbb_unformatted_code = \"df_profit_2_min.sort_values(by=\\\"Expected Revenue min\\\", ascending=False)\";\n                var nbb_formatted_code = \"df_profit_2_min.sort_values(by=\\\"Expected Revenue min\\\", ascending=False)\";\n                var nbb_cells = Jupyter.notebook.get_cells();\n                for (var i = 0; i < nbb_cells.length; ++i) {\n                    if (nbb_cells[i].input_prompt_number == nbb_cell_id) {\n                        if (nbb_cells[i].get_text() == nbb_unformatted_code) {\n                             nbb_cells[i].set_text(nbb_formatted_code);\n                        }\n                        break;\n                    }\n                }\n            }, 500);\n            ",
      "text/plain": [
       "<IPython.core.display.Javascript object>"
      ]
     },
     "metadata": {},
     "output_type": "display_data"
    }
   ],
   "source": [
    "df_profit_2_min.sort_values(by=\"Expected Revenue min\", ascending=False)"
   ]
  },
  {
   "cell_type": "code",
   "execution_count": 16,
   "metadata": {},
   "outputs": [
    {
     "data": {
      "application/javascript": "\n            setTimeout(function() {\n                var nbb_cell_id = 16;\n                var nbb_unformatted_code = \"tmp = pd.merge(\\n    left=df_profit,\\n    right=df_profit_2_max,\\n    left_on=\\\"Alpha\\\",\\n    right_on=\\\"Alpha\\\",\\n    how=\\\"inner\\\",\\n)\\n\\ntmp = pd.merge(\\n    left=tmp,\\n    right=df_profit_2_min,\\n    left_on=\\\"Alpha\\\",\\n    right_on=\\\"Alpha\\\",\\n    how=\\\"inner\\\",\\n)\\n\\n\\ntmp[\\\"callable_products_scheme_value_max_case\\\"] = (\\n    tmp[\\\"Expected Revenue max\\\"] - tmp[\\\"Expected Revenue\\\"]\\n)\\n\\ntmp[\\\"callable_products_scheme_value_min_case\\\"] = (\\n    tmp[\\\"Expected Revenue min\\\"] - tmp[\\\"Expected Revenue\\\"]\\n)\";\n                var nbb_formatted_code = \"tmp = pd.merge(\\n    left=df_profit,\\n    right=df_profit_2_max,\\n    left_on=\\\"Alpha\\\",\\n    right_on=\\\"Alpha\\\",\\n    how=\\\"inner\\\",\\n)\\n\\ntmp = pd.merge(\\n    left=tmp,\\n    right=df_profit_2_min,\\n    left_on=\\\"Alpha\\\",\\n    right_on=\\\"Alpha\\\",\\n    how=\\\"inner\\\",\\n)\\n\\n\\ntmp[\\\"callable_products_scheme_value_max_case\\\"] = (\\n    tmp[\\\"Expected Revenue max\\\"] - tmp[\\\"Expected Revenue\\\"]\\n)\\n\\ntmp[\\\"callable_products_scheme_value_min_case\\\"] = (\\n    tmp[\\\"Expected Revenue min\\\"] - tmp[\\\"Expected Revenue\\\"]\\n)\";\n                var nbb_cells = Jupyter.notebook.get_cells();\n                for (var i = 0; i < nbb_cells.length; ++i) {\n                    if (nbb_cells[i].input_prompt_number == nbb_cell_id) {\n                        if (nbb_cells[i].get_text() == nbb_unformatted_code) {\n                             nbb_cells[i].set_text(nbb_formatted_code);\n                        }\n                        break;\n                    }\n                }\n            }, 500);\n            ",
      "text/plain": [
       "<IPython.core.display.Javascript object>"
      ]
     },
     "metadata": {},
     "output_type": "display_data"
    }
   ],
   "source": [
    "tmp = pd.merge(\n",
    "    left=df_profit,\n",
    "    right=df_profit_2_max,\n",
    "    left_on=\"Alpha\",\n",
    "    right_on=\"Alpha\",\n",
    "    how=\"inner\",\n",
    ")\n",
    "\n",
    "tmp = pd.merge(\n",
    "    left=tmp,\n",
    "    right=df_profit_2_min,\n",
    "    left_on=\"Alpha\",\n",
    "    right_on=\"Alpha\",\n",
    "    how=\"inner\",\n",
    ")\n",
    "\n",
    "\n",
    "tmp[\"callable_products_scheme_value_max_case\"] = (\n",
    "    tmp[\"Expected Revenue max\"] - tmp[\"Expected Revenue\"]\n",
    ")\n",
    "\n",
    "tmp[\"callable_products_scheme_value_min_case\"] = (\n",
    "    tmp[\"Expected Revenue min\"] - tmp[\"Expected Revenue\"]\n",
    ")"
   ]
  },
  {
   "cell_type": "code",
   "execution_count": 17,
   "metadata": {},
   "outputs": [
    {
     "data": {
      "application/javascript": "\n            setTimeout(function() {\n                var nbb_cell_id = 17;\n                var nbb_unformatted_code = \"tmp[\\\"callable_products_scheme_value\\\"] = tmp[\\\"Expected Revenue max\\\"] - abs(\\n    tmp[\\\"Expected Revenue\\\"]\\n)\";\n                var nbb_formatted_code = \"tmp[\\\"callable_products_scheme_value\\\"] = tmp[\\\"Expected Revenue max\\\"] - abs(\\n    tmp[\\\"Expected Revenue\\\"]\\n)\";\n                var nbb_cells = Jupyter.notebook.get_cells();\n                for (var i = 0; i < nbb_cells.length; ++i) {\n                    if (nbb_cells[i].input_prompt_number == nbb_cell_id) {\n                        if (nbb_cells[i].get_text() == nbb_unformatted_code) {\n                             nbb_cells[i].set_text(nbb_formatted_code);\n                        }\n                        break;\n                    }\n                }\n            }, 500);\n            ",
      "text/plain": [
       "<IPython.core.display.Javascript object>"
      ]
     },
     "metadata": {},
     "output_type": "display_data"
    }
   ],
   "source": [
    "tmp[\"callable_products_scheme_value\"] = tmp[\"Expected Revenue max\"] - abs(\n",
    "    tmp[\"Expected Revenue\"]\n",
    ")"
   ]
  },
  {
   "cell_type": "code",
   "execution_count": 18,
   "metadata": {},
   "outputs": [
    {
     "data": {
      "text/plain": [
       "60284.72450000002"
      ]
     },
     "execution_count": 18,
     "metadata": {},
     "output_type": "execute_result"
    },
    {
     "data": {
      "application/javascript": "\n            setTimeout(function() {\n                var nbb_cell_id = 18;\n                var nbb_unformatted_code = \"tmp.callable_products_scheme_value.sum()\";\n                var nbb_formatted_code = \"tmp.callable_products_scheme_value.sum()\";\n                var nbb_cells = Jupyter.notebook.get_cells();\n                for (var i = 0; i < nbb_cells.length; ++i) {\n                    if (nbb_cells[i].input_prompt_number == nbb_cell_id) {\n                        if (nbb_cells[i].get_text() == nbb_unformatted_code) {\n                             nbb_cells[i].set_text(nbb_formatted_code);\n                        }\n                        break;\n                    }\n                }\n            }, 500);\n            ",
      "text/plain": [
       "<IPython.core.display.Javascript object>"
      ]
     },
     "metadata": {},
     "output_type": "display_data"
    }
   ],
   "source": [
    "tmp.callable_products_scheme_value.sum()"
   ]
  },
  {
   "cell_type": "code",
   "execution_count": 19,
   "metadata": {},
   "outputs": [
    {
     "data": {
      "text/html": [
       "<div>\n",
       "<style scoped>\n",
       "    .dataframe tbody tr th:only-of-type {\n",
       "        vertical-align: middle;\n",
       "    }\n",
       "\n",
       "    .dataframe tbody tr th {\n",
       "        vertical-align: top;\n",
       "    }\n",
       "\n",
       "    .dataframe thead th {\n",
       "        text-align: right;\n",
       "    }\n",
       "</style>\n",
       "<table border=\"1\" class=\"dataframe\">\n",
       "  <thead>\n",
       "    <tr style=\"text-align: right;\">\n",
       "      <th></th>\n",
       "      <th>Alpha</th>\n",
       "      <th>Refunded Tickets max</th>\n",
       "      <th>Expected Revenue max</th>\n",
       "    </tr>\n",
       "  </thead>\n",
       "  <tbody>\n",
       "    <tr>\n",
       "      <th>2</th>\n",
       "      <td>20</td>\n",
       "      <td>152</td>\n",
       "      <td>27967.8698</td>\n",
       "    </tr>\n",
       "    <tr>\n",
       "      <th>160</th>\n",
       "      <td>21</td>\n",
       "      <td>159</td>\n",
       "      <td>28117.8382</td>\n",
       "    </tr>\n",
       "    <tr>\n",
       "      <th>314</th>\n",
       "      <td>22</td>\n",
       "      <td>162</td>\n",
       "      <td>28267.7128</td>\n",
       "    </tr>\n",
       "    <tr>\n",
       "      <th>476</th>\n",
       "      <td>23</td>\n",
       "      <td>173</td>\n",
       "      <td>28417.5447</td>\n",
       "    </tr>\n",
       "    <tr>\n",
       "      <th>633</th>\n",
       "      <td>24</td>\n",
       "      <td>179</td>\n",
       "      <td>28567.3407</td>\n",
       "    </tr>\n",
       "    <tr>\n",
       "      <th>...</th>\n",
       "      <td>...</td>\n",
       "      <td>...</td>\n",
       "      <td>...</td>\n",
       "    </tr>\n",
       "    <tr>\n",
       "      <th>8511</th>\n",
       "      <td>76</td>\n",
       "      <td>205</td>\n",
       "      <td>27707.2415</td>\n",
       "    </tr>\n",
       "    <tr>\n",
       "      <th>8663</th>\n",
       "      <td>77</td>\n",
       "      <td>206</td>\n",
       "      <td>27601.6644</td>\n",
       "    </tr>\n",
       "    <tr>\n",
       "      <th>8815</th>\n",
       "      <td>78</td>\n",
       "      <td>207</td>\n",
       "      <td>27513.4887</td>\n",
       "    </tr>\n",
       "    <tr>\n",
       "      <th>8966</th>\n",
       "      <td>79</td>\n",
       "      <td>207</td>\n",
       "      <td>27426.4263</td>\n",
       "    </tr>\n",
       "    <tr>\n",
       "      <th>9115</th>\n",
       "      <td>80</td>\n",
       "      <td>205</td>\n",
       "      <td>27350.6235</td>\n",
       "    </tr>\n",
       "  </tbody>\n",
       "</table>\n",
       "<p>61 rows × 3 columns</p>\n",
       "</div>"
      ],
      "text/plain": [
       "      Alpha  Refunded Tickets max  Expected Revenue max\n",
       "2        20                   152            27967.8698\n",
       "160      21                   159            28117.8382\n",
       "314      22                   162            28267.7128\n",
       "476      23                   173            28417.5447\n",
       "633      24                   179            28567.3407\n",
       "...     ...                   ...                   ...\n",
       "8511     76                   205            27707.2415\n",
       "8663     77                   206            27601.6644\n",
       "8815     78                   207            27513.4887\n",
       "8966     79                   207            27426.4263\n",
       "9115     80                   205            27350.6235\n",
       "\n",
       "[61 rows x 3 columns]"
      ]
     },
     "execution_count": 19,
     "metadata": {},
     "output_type": "execute_result"
    },
    {
     "data": {
      "application/javascript": "\n            setTimeout(function() {\n                var nbb_cell_id = 19;\n                var nbb_unformatted_code = \"df_profit_2_max\";\n                var nbb_formatted_code = \"df_profit_2_max\";\n                var nbb_cells = Jupyter.notebook.get_cells();\n                for (var i = 0; i < nbb_cells.length; ++i) {\n                    if (nbb_cells[i].input_prompt_number == nbb_cell_id) {\n                        if (nbb_cells[i].get_text() == nbb_unformatted_code) {\n                             nbb_cells[i].set_text(nbb_formatted_code);\n                        }\n                        break;\n                    }\n                }\n            }, 500);\n            ",
      "text/plain": [
       "<IPython.core.display.Javascript object>"
      ]
     },
     "metadata": {},
     "output_type": "display_data"
    }
   ],
   "source": [
    "df_profit_2_max"
   ]
  },
  {
   "cell_type": "code",
   "execution_count": 20,
   "metadata": {},
   "outputs": [
    {
     "data": {
      "image/png": "[encoded data removed]",
      "text/plain": [
       "<Figure size 1080x540 with 2 Axes>"
      ]
     },
     "metadata": {},
     "output_type": "display_data"
    },
    {
     "data": {
      "application/javascript": "\n            setTimeout(function() {\n                var nbb_cell_id = 20;\n                var nbb_unformatted_code = \"fig, ax = plt.subplots(figsize=(15, 7.5))\\nsns.set_theme()\\nax2 = ax.twinx()\\nax.plot(df_profit[\\\"Alpha\\\"], df_profit[\\\"Expected Revenue\\\"], label=\\\"Old Revenues\\\", c=\\\"r\\\")\\nax.plot(\\n    df_profit_2_max[\\\"Alpha\\\"],\\n    df_profit_2_max[\\\"Expected Revenue max\\\"],\\n    label=\\\"New Revenues max\\\",\\n)\\nax.plot(\\n    df_profit_2_min[\\\"Alpha\\\"],\\n    df_profit_2_min[\\\"Expected Revenue min\\\"],\\n    label=\\\"New Revenues min\\\",\\n)\\n\\nax2.bar(\\n    tmp[\\\"Alpha\\\"],\\n    tmp[\\\"callable_products_scheme_value_max_case\\\"],\\n    label=\\\"Value of Scheme\\\",\\n    alpha=0.3,\\n)\\n\\nax2.set_yticks(\\n    np.linspace(ax2.get_yticks()[0], ax2.get_yticks()[-1], len(ax.get_yticks()))\\n)\\nax2.grid(False)\\nplt.title(\\\"Expected Revenue By Booking Limit\\\")\\nax.set_xlabel(\\\"Booking Limit\\\")\\nax.set_ylabel(\\\"Expected Profit\\\")\\nax2.set_ylabel(\\\"Net Revenue of New minus Old Scheme\\\")\\nax.legend()\\nplt.show()\";\n                var nbb_formatted_code = \"fig, ax = plt.subplots(figsize=(15, 7.5))\\nsns.set_theme()\\nax2 = ax.twinx()\\nax.plot(df_profit[\\\"Alpha\\\"], df_profit[\\\"Expected Revenue\\\"], label=\\\"Old Revenues\\\", c=\\\"r\\\")\\nax.plot(\\n    df_profit_2_max[\\\"Alpha\\\"],\\n    df_profit_2_max[\\\"Expected Revenue max\\\"],\\n    label=\\\"New Revenues max\\\",\\n)\\nax.plot(\\n    df_profit_2_min[\\\"Alpha\\\"],\\n    df_profit_2_min[\\\"Expected Revenue min\\\"],\\n    label=\\\"New Revenues min\\\",\\n)\\n\\nax2.bar(\\n    tmp[\\\"Alpha\\\"],\\n    tmp[\\\"callable_products_scheme_value_max_case\\\"],\\n    label=\\\"Value of Scheme\\\",\\n    alpha=0.3,\\n)\\n\\nax2.set_yticks(\\n    np.linspace(ax2.get_yticks()[0], ax2.get_yticks()[-1], len(ax.get_yticks()))\\n)\\nax2.grid(False)\\nplt.title(\\\"Expected Revenue By Booking Limit\\\")\\nax.set_xlabel(\\\"Booking Limit\\\")\\nax.set_ylabel(\\\"Expected Profit\\\")\\nax2.set_ylabel(\\\"Net Revenue of New minus Old Scheme\\\")\\nax.legend()\\nplt.show()\";\n                var nbb_cells = Jupyter.notebook.get_cells();\n                for (var i = 0; i < nbb_cells.length; ++i) {\n                    if (nbb_cells[i].input_prompt_number == nbb_cell_id) {\n                        if (nbb_cells[i].get_text() == nbb_unformatted_code) {\n                             nbb_cells[i].set_text(nbb_formatted_code);\n                        }\n                        break;\n                    }\n                }\n            }, 500);\n            ",
      "text/plain": [
       "<IPython.core.display.Javascript object>"
      ]
     },
     "metadata": {},
     "output_type": "display_data"
    }
   ],
   "source": [
    "fig, ax = plt.subplots(figsize=(15, 7.5))\n",
    "sns.set_theme()\n",
    "ax2 = ax.twinx()\n",
    "ax.plot(df_profit[\"Alpha\"], df_profit[\"Expected Revenue\"], label=\"Old Revenues\", c=\"r\")\n",
    "ax.plot(\n",
    "    df_profit_2_max[\"Alpha\"],\n",
    "    df_profit_2_max[\"Expected Revenue max\"],\n",
    "    label=\"New Revenues max\",\n",
    ")\n",
    "ax.plot(\n",
    "    df_profit_2_min[\"Alpha\"],\n",
    "    df_profit_2_min[\"Expected Revenue min\"],\n",
    "    label=\"New Revenues min\",\n",
    ")\n",
    "\n",
    "ax2.bar(\n",
    "    tmp[\"Alpha\"],\n",
    "    tmp[\"callable_products_scheme_value_max_case\"],\n",
    "    label=\"Value of Scheme\",\n",
    "    alpha=0.3,\n",
    ")\n",
    "\n",
    "ax2.set_yticks(\n",
    "    np.linspace(ax2.get_yticks()[0], ax2.get_yticks()[-1], len(ax.get_yticks()))\n",
    ")\n",
    "ax2.grid(False)\n",
    "plt.title(\"Expected Revenue By Booking Limit\")\n",
    "ax.set_xlabel(\"Booking Limit\")\n",
    "ax.set_ylabel(\"Expected Profit\")\n",
    "ax2.set_ylabel(\"Net Revenue of New minus Old Scheme\")\n",
    "ax.legend()\n",
    "plt.show()"
   ]
  },
  {
   "cell_type": "markdown",
   "metadata": {},
   "source": [
    "## q3 A"
   ]
  },
  {
   "cell_type": "code",
   "execution_count": 21,
   "metadata": {},
   "outputs": [
    {
     "name": "stdout",
     "output_type": "stream",
     "text": [
      "Gurobi Optimizer version 10.0.0 build v10.0.0rc2 (linux64)\n",
      "\n",
      "CPU model: 11th Gen Intel(R) Core(TM) i7-1165G7 @ 2.80GHz, instruction set [SSE2|AVX|AVX2|AVX512]\n",
      "Thread count: 4 physical cores, 8 logical processors, using up to 8 threads\n",
      "\n",
      "Optimize a model with 42 rows, 50 columns and 102 nonzeros\n",
      "Model fingerprint: 0x8ad7c937\n",
      "Variable types: 0 continuous, 50 integer (0 binary)\n",
      "Coefficient statistics:\n",
      "  Matrix range     [1e+00, 1e+00]\n",
      "  Objective range  [2e-01, 1e+01]\n",
      "  Bounds range     [0e+00, 0e+00]\n",
      "  RHS range        [1e+03, 8e+03]\n",
      "Found heuristic solution: objective -0.0000000\n",
      "Presolve removed 24 rows and 12 columns\n",
      "Presolve time: 0.00s\n",
      "Presolved: 18 rows, 38 columns, 66 nonzeros\n",
      "Variable types: 0 continuous, 38 integer (0 binary)\n",
      "\n",
      "Root relaxation: objective 1.049990e+05, 15 iterations, 0.00 seconds (0.00 work units)\n",
      "\n",
      "    Nodes    |    Current Node    |     Objective Bounds      |     Work\n",
      " Expl Unexpl |  Obj  Depth IntInf | Incumbent    BestBd   Gap | It/Node Time\n",
      "\n",
      "*    0     0               0    104999.00000 104999.000  0.00%     -    0s\n",
      "\n",
      "Explored 1 nodes (15 simplex iterations) in 0.01 seconds (0.00 work units)\n",
      "Thread count was 8 (of 8 available processors)\n",
      "\n",
      "Solution count 2: 104999 -0 \n",
      "\n",
      "Optimal solution found (tolerance 1.00e-04)\n",
      "Best objective 1.049990000000e+05, best bound 1.049990000000e+05, gap 0.0000%\n",
      "Optimal Value: 104999.0\n",
      "\n",
      "    Variable            X \n",
      "-------------------------\n",
      "Product_input[W_A]         6700 \n",
      "Product_input[W_B]        10000 \n",
      "Transport[W_A,1,A]         5000 \n",
      "Transport[W_A,1,B]         3000 \n",
      "Transport[W_A,1,C]         4200 \n",
      "Transport[W_A,2,A]          800 \n",
      "Transport[W_A,4,A]          900 \n",
      "Transport[W_A,4,C]         2500 \n",
      "Transport[W_B,2,A]         2200 \n",
      "Transport[W_B,2,B]         1000 \n",
      "Transport[W_B,2,C]         4100 \n",
      "Transport[W_B,3,A]         7800 \n",
      "Transport[W_B,3,B]         6000 \n",
      "Transport[W_B,3,C]         3000 \n",
      "Transport[W_B,4,B]         3000 \n",
      "Transport[W_B,4,C]         2900 \n",
      "Inventory[1,A]         5000 \n",
      "Inventory[1,B]         3000 \n",
      "Inventory[1,C]         4200 \n",
      "Inventory[2,A]         3000 \n",
      "Inventory[2,B]         1000 \n",
      "Inventory[2,C]         4100 \n",
      "Inventory[3,A]         7800 \n",
      "Inventory[3,B]         6000 \n",
      "Inventory[3,C]         3000 \n",
      "Inventory[4,A]          900 \n",
      "Inventory[4,B]         3000 \n",
      "Inventory[4,C]         5400 \n",
      "   Sold[1,A]         5000 \n",
      "   Sold[1,B]         3000 \n",
      "   Sold[1,C]         4200 \n",
      "   Sold[2,A]         3000 \n",
      "   Sold[2,B]         1000 \n",
      "   Sold[2,C]         4100 \n",
      "   Sold[3,A]         7800 \n",
      "   Sold[3,B]         6000 \n",
      "   Sold[3,C]         3000 \n",
      "   Sold[4,A]          900 \n",
      "   Sold[4,B]         3000 \n",
      "   Sold[4,C]         5400 \n"
     ]
    },
    {
     "data": {
      "application/javascript": "\n            setTimeout(function() {\n                var nbb_cell_id = 21;\n                var nbb_unformatted_code = \"Scenario = [\\\"A\\\", \\\"B\\\", \\\"C\\\"]\\ndistros = (1, 2, 3, 4)\\nWarehouse = (\\\"W_A\\\", \\\"W_B\\\")\\n\\nprob_scenario = {\\\"A\\\": 0.3, \\\"B\\\": 0.2, \\\"C\\\": 0.5}\\nwarehouse_pf = {\\\"W_A\\\": 1, \\\"W_B\\\": 1.5}\\n\\n\\nDemand = {\\n    (\\\"A\\\", 1): 5,\\n    (\\\"A\\\", 2): 3,\\n    (\\\"A\\\", 3): 7.8,\\n    (\\\"A\\\", 4): 4,\\n    (\\\"B\\\", 1): 3,\\n    (\\\"B\\\", 2): 1,\\n    (\\\"B\\\", 3): 6,\\n    (\\\"B\\\", 4): 3,\\n    (\\\"C\\\", 1): 4.2,\\n    (\\\"C\\\", 2): 4.1,\\n    (\\\"C\\\", 3): 3,\\n    (\\\"C\\\", 4): 5.4,\\n}\\nTransportation_Costs = {\\n    (\\\"W_A\\\", 1): 1.5,\\n    (\\\"W_A\\\", 2): 2,\\n    (\\\"W_A\\\", 3): 2,\\n    (\\\"W_A\\\", 4): 3,\\n    (\\\"W_B\\\", 1): 2,\\n    (\\\"W_B\\\", 2): 1.2,\\n    (\\\"W_B\\\", 3): 1.1,\\n    (\\\"W_B\\\", 4): 2.5,\\n}\\n\\n\\nmodel = gp.Model()\\nmodel.ModelSense = gp.GRB.MAXIMIZE\\n\\n# Frist stage model definition\\nx = model.addVars(Warehouse, vtype=gp.GRB.INTEGER, name=\\\"Product_input\\\")\\n\\n# SecondStageModel Definition\\n# define the varaibles\\ndist_ware_scen = model.addVars(\\n    Warehouse, distros, Scenario, vtype=gp.GRB.INTEGER, name=\\\"Transport\\\"\\n)\\ninvd = model.addVars(distros, Scenario, vtype=gp.GRB.INTEGER, name=\\\"Inventory\\\")\\nsoldd = model.addVars(distros, Scenario, vtype=gp.GRB.INTEGER, name=\\\"Sold\\\")\\n\\n# set the obkjectvie for a sale price of 20 per distribution center and a 10 bucks cost per product\\nmodel.setObjective(\\n    gp.quicksum(\\n        20 * prob_scenario[scenario] * soldd[distro, scenario]\\n        for scenario in Scenario\\n        for distro in distros\\n    )\\n    # price times allocation costs from warehouse\\n    - gp.quicksum(\\n        x[warehouse] * (10 + warehouse_pf[warehouse]) for warehouse in Warehouse\\n    )\\n    # probability, distribuion, and from warehouse\\n    - gp.quicksum(\\n        dist_ware_scen[warehouse, distro, scenario]\\n        * Transportation_Costs[warehouse, distro]\\n        * prob_scenario[scenario]\\n        for scenario in Scenario\\n        for warehouse in Warehouse\\n        for distro in distros\\n    )\\n)\\n\\n# a distibution can only send what it receives\\nmodel.addConstrs(\\n    (\\n        invd[distro, scenario]\\n        == gp.quicksum(\\n            dist_ware_scen[warehouse, distro, scenario] for warehouse in Warehouse\\n        )\\n        for distro in distros\\n        for scenario in Scenario\\n    ),\\n    name=\\\"SendReceiveLimit\\\",\\n)\\n\\n# Any distibution centreer can only reveive as much as it reveicves from warehouse in give distribution\\nmodel.addConstrs(\\n    (\\n        gp.quicksum(dist_ware_scen[warehouse, distro, scenario] for distro in distros)\\n        <= x[warehouse]\\n        for warehouse in Warehouse\\n        for scenario in Scenario\\n    ),\\n    name=\\\"ReceiveConstrain\\\",\\n)\\n\\n# Distrobs can only sale based on a given demand based on a given scenario\\nmodel.addConstrs(\\n    (\\n        soldd[distro, scenario] <= Demand[scenario, distro] * 1000\\n        for distro in distros\\n        for scenario in Scenario\\n    ),\\n    name=\\\"SaleConstrain\\\",\\n)\\n# Distros can only sale what is in the inventory based on a given scenario\\nmodel.addConstrs(\\n    (\\n        soldd[distro, scenario] <= invd[distro, scenario]\\n        for distro in distros\\n        for scenario in Scenario\\n    ),\\n    name=\\\"SaleConstrain\\\",\\n)\\n\\nmodel.optimize()\\nprint(\\\"Optimal Value:\\\", model.Objval)\\nmodel.printAttr(\\\"X\\\")\";\n                var nbb_formatted_code = \"Scenario = [\\\"A\\\", \\\"B\\\", \\\"C\\\"]\\ndistros = (1, 2, 3, 4)\\nWarehouse = (\\\"W_A\\\", \\\"W_B\\\")\\n\\nprob_scenario = {\\\"A\\\": 0.3, \\\"B\\\": 0.2, \\\"C\\\": 0.5}\\nwarehouse_pf = {\\\"W_A\\\": 1, \\\"W_B\\\": 1.5}\\n\\n\\nDemand = {\\n    (\\\"A\\\", 1): 5,\\n    (\\\"A\\\", 2): 3,\\n    (\\\"A\\\", 3): 7.8,\\n    (\\\"A\\\", 4): 4,\\n    (\\\"B\\\", 1): 3,\\n    (\\\"B\\\", 2): 1,\\n    (\\\"B\\\", 3): 6,\\n    (\\\"B\\\", 4): 3,\\n    (\\\"C\\\", 1): 4.2,\\n    (\\\"C\\\", 2): 4.1,\\n    (\\\"C\\\", 3): 3,\\n    (\\\"C\\\", 4): 5.4,\\n}\\nTransportation_Costs = {\\n    (\\\"W_A\\\", 1): 1.5,\\n    (\\\"W_A\\\", 2): 2,\\n    (\\\"W_A\\\", 3): 2,\\n    (\\\"W_A\\\", 4): 3,\\n    (\\\"W_B\\\", 1): 2,\\n    (\\\"W_B\\\", 2): 1.2,\\n    (\\\"W_B\\\", 3): 1.1,\\n    (\\\"W_B\\\", 4): 2.5,\\n}\\n\\n\\nmodel = gp.Model()\\nmodel.ModelSense = gp.GRB.MAXIMIZE\\n\\n# Frist stage model definition\\nx = model.addVars(Warehouse, vtype=gp.GRB.INTEGER, name=\\\"Product_input\\\")\\n\\n# SecondStageModel Definition\\n# define the varaibles\\ndist_ware_scen = model.addVars(\\n    Warehouse, distros, Scenario, vtype=gp.GRB.INTEGER, name=\\\"Transport\\\"\\n)\\ninvd = model.addVars(distros, Scenario, vtype=gp.GRB.INTEGER, name=\\\"Inventory\\\")\\nsoldd = model.addVars(distros, Scenario, vtype=gp.GRB.INTEGER, name=\\\"Sold\\\")\\n\\n# set the obkjectvie for a sale price of 20 per distribution center and a 10 bucks cost per product\\nmodel.setObjective(\\n    gp.quicksum(\\n        20 * prob_scenario[scenario] * soldd[distro, scenario]\\n        for scenario in Scenario\\n        for distro in distros\\n    )\\n    # price times allocation costs from warehouse\\n    - gp.quicksum(\\n        x[warehouse] * (10 + warehouse_pf[warehouse]) for warehouse in Warehouse\\n    )\\n    # probability, distribuion, and from warehouse\\n    - gp.quicksum(\\n        dist_ware_scen[warehouse, distro, scenario]\\n        * Transportation_Costs[warehouse, distro]\\n        * prob_scenario[scenario]\\n        for scenario in Scenario\\n        for warehouse in Warehouse\\n        for distro in distros\\n    )\\n)\\n\\n# a distibution can only send what it receives\\nmodel.addConstrs(\\n    (\\n        invd[distro, scenario]\\n        == gp.quicksum(\\n            dist_ware_scen[warehouse, distro, scenario] for warehouse in Warehouse\\n        )\\n        for distro in distros\\n        for scenario in Scenario\\n    ),\\n    name=\\\"SendReceiveLimit\\\",\\n)\\n\\n# Any distibution centreer can only reveive as much as it reveicves from warehouse in give distribution\\nmodel.addConstrs(\\n    (\\n        gp.quicksum(dist_ware_scen[warehouse, distro, scenario] for distro in distros)\\n        <= x[warehouse]\\n        for warehouse in Warehouse\\n        for scenario in Scenario\\n    ),\\n    name=\\\"ReceiveConstrain\\\",\\n)\\n\\n# Distrobs can only sale based on a given demand based on a given scenario\\nmodel.addConstrs(\\n    (\\n        soldd[distro, scenario] <= Demand[scenario, distro] * 1000\\n        for distro in distros\\n        for scenario in Scenario\\n    ),\\n    name=\\\"SaleConstrain\\\",\\n)\\n# Distros can only sale what is in the inventory based on a given scenario\\nmodel.addConstrs(\\n    (\\n        soldd[distro, scenario] <= invd[distro, scenario]\\n        for distro in distros\\n        for scenario in Scenario\\n    ),\\n    name=\\\"SaleConstrain\\\",\\n)\\n\\nmodel.optimize()\\nprint(\\\"Optimal Value:\\\", model.Objval)\\nmodel.printAttr(\\\"X\\\")\";\n                var nbb_cells = Jupyter.notebook.get_cells();\n                for (var i = 0; i < nbb_cells.length; ++i) {\n                    if (nbb_cells[i].input_prompt_number == nbb_cell_id) {\n                        if (nbb_cells[i].get_text() == nbb_unformatted_code) {\n                             nbb_cells[i].set_text(nbb_formatted_code);\n                        }\n                        break;\n                    }\n                }\n            }, 500);\n            ",
      "text/plain": [
       "<IPython.core.display.Javascript object>"
      ]
     },
     "metadata": {},
     "output_type": "display_data"
    }
   ],
   "source": [
    "Scenario = [\"A\", \"B\", \"C\"]\n",
    "distros = (1, 2, 3, 4)\n",
    "Warehouse = (\"W_A\", \"W_B\")\n",
    "\n",
    "prob_scenario = {\"A\": 0.3, \"B\": 0.2, \"C\": 0.5}\n",
    "warehouse_pf = {\"W_A\": 1, \"W_B\": 1.5}\n",
    "\n",
    "\n",
    "Demand = {\n",
    "    (\"A\", 1): 5,\n",
    "    (\"A\", 2): 3,\n",
    "    (\"A\", 3): 7.8,\n",
    "    (\"A\", 4): 4,\n",
    "    (\"B\", 1): 3,\n",
    "    (\"B\", 2): 1,\n",
    "    (\"B\", 3): 6,\n",
    "    (\"B\", 4): 3,\n",
    "    (\"C\", 1): 4.2,\n",
    "    (\"C\", 2): 4.1,\n",
    "    (\"C\", 3): 3,\n",
    "    (\"C\", 4): 5.4,\n",
    "}\n",
    "Transportation_Costs = {\n",
    "    (\"W_A\", 1): 1.5,\n",
    "    (\"W_A\", 2): 2,\n",
    "    (\"W_A\", 3): 2,\n",
    "    (\"W_A\", 4): 3,\n",
    "    (\"W_B\", 1): 2,\n",
    "    (\"W_B\", 2): 1.2,\n",
    "    (\"W_B\", 3): 1.1,\n",
    "    (\"W_B\", 4): 2.5,\n",
    "}\n",
    "\n",
    "\n",
    "model = gp.Model()\n",
    "model.ModelSense = gp.GRB.MAXIMIZE\n",
    "\n",
    "# Frist stage model definition\n",
    "x = model.addVars(Warehouse, vtype=gp.GRB.INTEGER, name=\"Product_input\")\n",
    "\n",
    "# SecondStageModel Definition\n",
    "# define the varaibles\n",
    "dist_ware_scen = model.addVars(\n",
    "    Warehouse, distros, Scenario, vtype=gp.GRB.INTEGER, name=\"Transport\"\n",
    ")\n",
    "invd = model.addVars(distros, Scenario, vtype=gp.GRB.INTEGER, name=\"Inventory\")\n",
    "soldd = model.addVars(distros, Scenario, vtype=gp.GRB.INTEGER, name=\"Sold\")\n",
    "\n",
    "# set the obkjectvie for a sale price of 20 per distribution center and a 10 bucks cost per product\n",
    "model.setObjective(\n",
    "    gp.quicksum(\n",
    "        20 * prob_scenario[scenario] * soldd[distro, scenario]\n",
    "        for scenario in Scenario\n",
    "        for distro in distros\n",
    "    )\n",
    "    # price times allocation costs from warehouse\n",
    "    - gp.quicksum(\n",
    "        x[warehouse] * (10 + warehouse_pf[warehouse]) for warehouse in Warehouse\n",
    "    )\n",
    "    # probability, distribuion, and from warehouse\n",
    "    - gp.quicksum(\n",
    "        dist_ware_scen[warehouse, distro, scenario]\n",
    "        * Transportation_Costs[warehouse, distro]\n",
    "        * prob_scenario[scenario]\n",
    "        for scenario in Scenario\n",
    "        for warehouse in Warehouse\n",
    "        for distro in distros\n",
    "    )\n",
    ")\n",
    "\n",
    "# a distibution can only send what it receives\n",
    "model.addConstrs(\n",
    "    (\n",
    "        invd[distro, scenario]\n",
    "        == gp.quicksum(\n",
    "            dist_ware_scen[warehouse, distro, scenario] for warehouse in Warehouse\n",
    "        )\n",
    "        for distro in distros\n",
    "        for scenario in Scenario\n",
    "    ),\n",
    "    name=\"SendReceiveLimit\",\n",
    ")\n",
    "\n",
    "# Any distibution centreer can only reveive as much as it reveicves from warehouse in give distribution\n",
    "model.addConstrs(\n",
    "    (\n",
    "        gp.quicksum(dist_ware_scen[warehouse, distro, scenario] for distro in distros)\n",
    "        <= x[warehouse]\n",
    "        for warehouse in Warehouse\n",
    "        for scenario in Scenario\n",
    "    ),\n",
    "    name=\"ReceiveConstrain\",\n",
    ")\n",
    "\n",
    "# Distrobs can only sale based on a given demand based on a given scenario\n",
    "model.addConstrs(\n",
    "    (\n",
    "        soldd[distro, scenario] <= Demand[scenario, distro] * 1000\n",
    "        for distro in distros\n",
    "        for scenario in Scenario\n",
    "    ),\n",
    "    name=\"SaleConstrain\",\n",
    ")\n",
    "# Distros can only sale what is in the inventory based on a given scenario\n",
    "model.addConstrs(\n",
    "    (\n",
    "        soldd[distro, scenario] <= invd[distro, scenario]\n",
    "        for distro in distros\n",
    "        for scenario in Scenario\n",
    "    ),\n",
    "    name=\"SaleConstrain\",\n",
    ")\n",
    "\n",
    "model.optimize()\n",
    "print(\"Optimal Value:\", model.Objval)\n",
    "model.printAttr(\"X\")"
   ]
  },
  {
   "attachments": {},
   "cell_type": "markdown",
   "metadata": {},
   "source": [
    "## q3 b\n",
    "\n",
    "#### B1 & B2"
   ]
  },
  {
   "cell_type": "code",
   "execution_count": 22,
   "metadata": {},
   "outputs": [
    {
     "name": "stdout",
     "output_type": "stream",
     "text": [
      "Gurobi Optimizer version 10.0.0 build v10.0.0rc2 (linux64)\n",
      "\n",
      "CPU model: 11th Gen Intel(R) Core(TM) i7-1165G7 @ 2.80GHz, instruction set [SSE2|AVX|AVX2|AVX512]\n",
      "Thread count: 4 physical cores, 8 logical processors, using up to 8 threads\n",
      "\n",
      "Optimize a model with 12300 rows, 102546 columns and 110700 nonzeros\n",
      "Model fingerprint: 0x85109608\n",
      "Model has 2300 quadratic constraints\n",
      "Variable types: 0 continuous, 102546 integer (23 binary)\n",
      "Coefficient statistics:\n",
      "  Matrix range     [1e+00, 1e+00]\n",
      "  QMatrix range    [1e+00, 1e+00]\n",
      "  QLMatrix range   [1e+00, 1e+00]\n",
      "  Objective range  [9e-03, 1e+05]\n",
      "  Bounds range     [1e+00, 1e+00]\n",
      "  RHS range        [7e+02, 4e+04]\n",
      "Found heuristic solution: objective -0.0000000\n",
      "Presolve removed 5900 rows and 4077 columns\n",
      "Presolve time: 0.36s\n",
      "Presolved: 6469 rows, 98538 columns, 195161 nonzeros\n",
      "Presolved model has 46 SOS constraint(s)\n",
      "Variable types: 0 continuous, 98538 integer (46 binary)\n",
      "Deterministic concurrent LP optimizer: primal and dual simplex\n",
      "Showing first log only...\n",
      "\n",
      "Concurrent spin time: 0.00s\n",
      "\n",
      "Solved with dual simplex\n",
      "\n",
      "Root relaxation: objective 5.332108e+06, 0 iterations, 0.15 seconds (0.10 work units)\n",
      "\n",
      "    Nodes    |    Current Node    |     Objective Bounds      |     Work\n",
      " Expl Unexpl |  Obj  Depth IntInf | Incumbent    BestBd   Gap | It/Node Time\n",
      "\n",
      "     0     0 5332108.32    0   23   -0.00000 5332108.32      -     -    0s\n",
      "     0     0 2303772.34    0   17   -0.00000 2303772.34      -     -    2s\n",
      "H    0     0                    701321.96700 2303772.34   228%     -    2s\n",
      "H    0     0                    2071035.6210 2303772.34  11.2%     -    2s\n",
      "     0     0 2303772.34    0   17 2071035.62 2303772.34  11.2%     -    3s\n",
      "H    0     0                    2088036.1880 2303772.34  10.3%     -    4s\n",
      "     0     2 2203772.34    0   17 2088036.19 2203772.34  5.54%     -    5s\n",
      "*   20     8               5    2114864.2090 2203772.34  4.20%   973    6s\n",
      "*   27     5               5    2124910.4550 2203772.34  3.71%  1052    6s\n",
      "\n",
      "Explored 43 nodes (67883 simplex iterations) in 8.62 seconds (5.86 work units)\n",
      "Thread count was 8 (of 8 available processors)\n",
      "\n",
      "Solution count 6: 2.12491e+06 2.11486e+06 2.08804e+06 ... -0\n",
      "\n",
      "Optimal solution found (tolerance 1.00e-04)\n",
      "Best objective 2.124910455000e+06, best bound 2.124910455000e+06, gap 0.0000%\n",
      "Optimal Value: 2124910.4550000015\n"
     ]
    },
    {
     "data": {
      "application/javascript": "\n            setTimeout(function() {\n                var nbb_cell_id = 22;\n                var nbb_unformatted_code = \"TransportationCosts = pd.read_csv(\\n    \\\"/home/angelo/Documents/Uni/Courses/Management Science/MS_Code_repo/data/TranportationCosts.csv\\\",\\n    encoding=\\\"latin-1\\\",\\n)\\nDemand = pd.read_csv(\\n    \\\"/home/angelo/Documents/Uni/Courses/Management Science/MS_Code_repo/data/demand.csv\\\",\\n    encoding=\\\"latin-1\\\",\\n)\\n\\nScenario = Demand.columns[1:].to_list()\\nScenario_Probabilities = dict(zip(Scenario, [1 / 100] * 100))\\n\\n\\nDistro = Demand.loc[:, \\\"DistributionCenter\\\"].to_list()\\nWarehouse = TransportationCosts.loc[:, \\\"Warehouse\\\"].to_list()\\n\\ndemand = {}\\nfor distro in range(0, len(Demand)):\\n    for scene in range(1, len(Demand.columns)):\\n        demand[(Distro[distro], Scenario[scene - 1])] = Demand.loc[\\n            distro, Scenario[scene - 1]\\n        ]\\n\\nTrasnportation_Costs = {}\\nfor warehouse in range(0, len(TransportationCosts)):\\n    for distro in range(2, len(TransportationCosts.columns)):\\n        Trasnportation_Costs[\\n            (Warehouse[warehouse], Distro[distro - 2])\\n        ] = TransportationCosts.loc[warehouse, Distro[distro - 2]]\\n\\nTransport_Warehouse = {}\\nfor warehouse in range(0, len(TransportationCosts)):\\n    Transport_Warehouse[Warehouse[warehouse]] = TransportationCosts.loc[\\n        warehouse, \\\"PFacility\\\"\\n    ]\\n\\n\\nmodel = gp.Model()\\nmodel.ModelSense = gp.GRB.MAXIMIZE\\n\\n# first stage\\nWareHProd_mod = model.addVars(Warehouse, vtype=gp.GRB.INTEGER, name=\\\"Production\\\")\\nWareHInv_mod = model.addVars(Warehouse, vtype=gp.GRB.BINARY, name=\\\"Investment\\\")\\n\\n# second stage\\ndist_ware_scen = model.addVars(\\n    Warehouse, Distro, Scenario, vtype=gp.GRB.INTEGER, name=\\\"Transportation\\\"\\n)\\n\\nInventory_Distr = model.addVars(\\n    Distro, Scenario, vtype=gp.GRB.INTEGER, name=\\\"Inventory\\\"\\n)\\n\\nsoldd = model.addVars(Distro, Scenario, vtype=gp.GRB.INTEGER, name=\\\"Sold\\\")\\n\\n\\nmodel.setObjective(\\n    gp.quicksum(\\n        20 * Scenario_Probabilities[scene] * soldd[distro, scene]\\n        for distro in Distro\\n        for scene in Scenario\\n    )\\n    - gp.quicksum(\\n        WareHProd_mod[warehouse] * (10 + Transport_Warehouse[warehouse])\\n        for warehouse in Warehouse\\n    )\\n    - gp.quicksum(WareHInv_mod[warehouse] * 100000 for warehouse in Warehouse)\\n    - gp.quicksum(\\n        dist_ware_scen[warehouse, distro, scene]\\n        * Trasnportation_Costs[warehouse, distro]\\n        * Scenario_Probabilities[scene]\\n        for distro in Distro\\n        for scene in Scenario\\n        for warehouse in Warehouse\\n    )\\n)\\n\\n# binary condition if they are turned on they can send\\nmodel.addConstrs(\\n    (\\n        gp.quicksum(dist_ware_scen[warehouse, distro, scene] for distro in Distro)\\n        <= WareHProd_mod[warehouse] * WareHInv_mod[warehouse]\\n        for scene in Scenario\\n        for warehouse in Warehouse\\n    ),\\n    name=\\\"SentProduction_Bin\\\",\\n)\\n\\n# inventory cannoth be greater than what you send there\\nmodel.addConstrs(\\n    (\\n        Inventory_Distr[distro, scene]\\n        == gp.quicksum(\\n            dist_ware_scen[warehouse, distro, scene] for warehouse in Warehouse\\n        )\\n        for scene in Scenario\\n        for distro in Distro\\n    ),\\n    name=\\\"Distr_Receive_Sent_limit\\\",\\n)\\n\\n\\nmodel.addConstrs(\\n    (\\n        soldd[distro, scene] <= demand[distro, scene]\\n        for scene in Scenario\\n        for distro in Distro\\n    ),\\n    name=\\\"Warehouse_Received_Demand_Limit\\\",\\n)\\nmodel.addConstrs(\\n    (\\n        soldd[distro, scene] <= Inventory_Distr[distro, scene]\\n        for scene in Scenario\\n        for distro in Distro\\n    ),\\n    name=\\\"Warehouse_Received_Demand_Limit\\\",\\n)\\n\\n\\nmodel.optimize()\\nprint(\\\"Optimal Value:\\\", model.Objval)\\n\\n# model.printAttr(\\\"X\\\")\";\n                var nbb_formatted_code = \"TransportationCosts = pd.read_csv(\\n    \\\"/home/angelo/Documents/Uni/Courses/Management Science/MS_Code_repo/data/TranportationCosts.csv\\\",\\n    encoding=\\\"latin-1\\\",\\n)\\nDemand = pd.read_csv(\\n    \\\"/home/angelo/Documents/Uni/Courses/Management Science/MS_Code_repo/data/demand.csv\\\",\\n    encoding=\\\"latin-1\\\",\\n)\\n\\nScenario = Demand.columns[1:].to_list()\\nScenario_Probabilities = dict(zip(Scenario, [1 / 100] * 100))\\n\\n\\nDistro = Demand.loc[:, \\\"DistributionCenter\\\"].to_list()\\nWarehouse = TransportationCosts.loc[:, \\\"Warehouse\\\"].to_list()\\n\\ndemand = {}\\nfor distro in range(0, len(Demand)):\\n    for scene in range(1, len(Demand.columns)):\\n        demand[(Distro[distro], Scenario[scene - 1])] = Demand.loc[\\n            distro, Scenario[scene - 1]\\n        ]\\n\\nTrasnportation_Costs = {}\\nfor warehouse in range(0, len(TransportationCosts)):\\n    for distro in range(2, len(TransportationCosts.columns)):\\n        Trasnportation_Costs[\\n            (Warehouse[warehouse], Distro[distro - 2])\\n        ] = TransportationCosts.loc[warehouse, Distro[distro - 2]]\\n\\nTransport_Warehouse = {}\\nfor warehouse in range(0, len(TransportationCosts)):\\n    Transport_Warehouse[Warehouse[warehouse]] = TransportationCosts.loc[\\n        warehouse, \\\"PFacility\\\"\\n    ]\\n\\n\\nmodel = gp.Model()\\nmodel.ModelSense = gp.GRB.MAXIMIZE\\n\\n# first stage\\nWareHProd_mod = model.addVars(Warehouse, vtype=gp.GRB.INTEGER, name=\\\"Production\\\")\\nWareHInv_mod = model.addVars(Warehouse, vtype=gp.GRB.BINARY, name=\\\"Investment\\\")\\n\\n# second stage\\ndist_ware_scen = model.addVars(\\n    Warehouse, Distro, Scenario, vtype=gp.GRB.INTEGER, name=\\\"Transportation\\\"\\n)\\n\\nInventory_Distr = model.addVars(\\n    Distro, Scenario, vtype=gp.GRB.INTEGER, name=\\\"Inventory\\\"\\n)\\n\\nsoldd = model.addVars(Distro, Scenario, vtype=gp.GRB.INTEGER, name=\\\"Sold\\\")\\n\\n\\nmodel.setObjective(\\n    gp.quicksum(\\n        20 * Scenario_Probabilities[scene] * soldd[distro, scene]\\n        for distro in Distro\\n        for scene in Scenario\\n    )\\n    - gp.quicksum(\\n        WareHProd_mod[warehouse] * (10 + Transport_Warehouse[warehouse])\\n        for warehouse in Warehouse\\n    )\\n    - gp.quicksum(WareHInv_mod[warehouse] * 100000 for warehouse in Warehouse)\\n    - gp.quicksum(\\n        dist_ware_scen[warehouse, distro, scene]\\n        * Trasnportation_Costs[warehouse, distro]\\n        * Scenario_Probabilities[scene]\\n        for distro in Distro\\n        for scene in Scenario\\n        for warehouse in Warehouse\\n    )\\n)\\n\\n# binary condition if they are turned on they can send\\nmodel.addConstrs(\\n    (\\n        gp.quicksum(dist_ware_scen[warehouse, distro, scene] for distro in Distro)\\n        <= WareHProd_mod[warehouse] * WareHInv_mod[warehouse]\\n        for scene in Scenario\\n        for warehouse in Warehouse\\n    ),\\n    name=\\\"SentProduction_Bin\\\",\\n)\\n\\n# inventory cannoth be greater than what you send there\\nmodel.addConstrs(\\n    (\\n        Inventory_Distr[distro, scene]\\n        == gp.quicksum(\\n            dist_ware_scen[warehouse, distro, scene] for warehouse in Warehouse\\n        )\\n        for scene in Scenario\\n        for distro in Distro\\n    ),\\n    name=\\\"Distr_Receive_Sent_limit\\\",\\n)\\n\\n\\nmodel.addConstrs(\\n    (\\n        soldd[distro, scene] <= demand[distro, scene]\\n        for scene in Scenario\\n        for distro in Distro\\n    ),\\n    name=\\\"Warehouse_Received_Demand_Limit\\\",\\n)\\nmodel.addConstrs(\\n    (\\n        soldd[distro, scene] <= Inventory_Distr[distro, scene]\\n        for scene in Scenario\\n        for distro in Distro\\n    ),\\n    name=\\\"Warehouse_Received_Demand_Limit\\\",\\n)\\n\\n\\nmodel.optimize()\\nprint(\\\"Optimal Value:\\\", model.Objval)\\n\\n# model.printAttr(\\\"X\\\")\";\n                var nbb_cells = Jupyter.notebook.get_cells();\n                for (var i = 0; i < nbb_cells.length; ++i) {\n                    if (nbb_cells[i].input_prompt_number == nbb_cell_id) {\n                        if (nbb_cells[i].get_text() == nbb_unformatted_code) {\n                             nbb_cells[i].set_text(nbb_formatted_code);\n                        }\n                        break;\n                    }\n                }\n            }, 500);\n            ",
      "text/plain": [
       "<IPython.core.display.Javascript object>"
      ]
     },
     "metadata": {},
     "output_type": "display_data"
    }
   ],
   "source": [
    "TransportationCosts = pd.read_csv(\n",
    "    \"/home/angelo/Documents/Uni/Courses/Management Science/MS_Code_repo/data/TranportationCosts.csv\",\n",
    "    encoding=\"latin-1\",\n",
    ")\n",
    "Demand = pd.read_csv(\n",
    "    \"/home/angelo/Documents/Uni/Courses/Management Science/MS_Code_repo/data/demand.csv\",\n",
    "    encoding=\"latin-1\",\n",
    ")\n",
    "\n",
    "Scenario = Demand.columns[1:].to_list()\n",
    "Scenario_Probabilities = dict(zip(Scenario, [1 / 100] * 100))\n",
    "\n",
    "\n",
    "Distro = Demand.loc[:, \"DistributionCenter\"].to_list()\n",
    "Warehouse = TransportationCosts.loc[:, \"Warehouse\"].to_list()\n",
    "\n",
    "demand = {}\n",
    "for distro in range(0, len(Demand)):\n",
    "    for scene in range(1, len(Demand.columns)):\n",
    "        demand[(Distro[distro], Scenario[scene - 1])] = Demand.loc[\n",
    "            distro, Scenario[scene - 1]\n",
    "        ]\n",
    "\n",
    "Trasnportation_Costs = {}\n",
    "for warehouse in range(0, len(TransportationCosts)):\n",
    "    for distro in range(2, len(TransportationCosts.columns)):\n",
    "        Trasnportation_Costs[\n",
    "            (Warehouse[warehouse], Distro[distro - 2])\n",
    "        ] = TransportationCosts.loc[warehouse, Distro[distro - 2]]\n",
    "\n",
    "Transport_Warehouse = {}\n",
    "for warehouse in range(0, len(TransportationCosts)):\n",
    "    Transport_Warehouse[Warehouse[warehouse]] = TransportationCosts.loc[\n",
    "        warehouse, \"PFacility\"\n",
    "    ]\n",
    "\n",
    "\n",
    "model = gp.Model()\n",
    "model.ModelSense = gp.GRB.MAXIMIZE\n",
    "\n",
    "# first stage\n",
    "WareHProd_mod = model.addVars(Warehouse, vtype=gp.GRB.INTEGER, name=\"Production\")\n",
    "WareHInv_mod = model.addVars(Warehouse, vtype=gp.GRB.BINARY, name=\"Investment\")\n",
    "\n",
    "# second stage\n",
    "dist_ware_scen = model.addVars(\n",
    "    Warehouse, Distro, Scenario, vtype=gp.GRB.INTEGER, name=\"Transportation\"\n",
    ")\n",
    "\n",
    "Inventory_Distr = model.addVars(\n",
    "    Distro, Scenario, vtype=gp.GRB.INTEGER, name=\"Inventory\"\n",
    ")\n",
    "\n",
    "soldd = model.addVars(Distro, Scenario, vtype=gp.GRB.INTEGER, name=\"Sold\")\n",
    "\n",
    "\n",
    "model.setObjective(\n",
    "    gp.quicksum(\n",
    "        20 * Scenario_Probabilities[scene] * soldd[distro, scene]\n",
    "        for distro in Distro\n",
    "        for scene in Scenario\n",
    "    )\n",
    "    - gp.quicksum(\n",
    "        WareHProd_mod[warehouse] * (10 + Transport_Warehouse[warehouse])\n",
    "        for warehouse in Warehouse\n",
    "    )\n",
    "    - gp.quicksum(WareHInv_mod[warehouse] * 100000 for warehouse in Warehouse)\n",
    "    - gp.quicksum(\n",
    "        dist_ware_scen[warehouse, distro, scene]\n",
    "        * Trasnportation_Costs[warehouse, distro]\n",
    "        * Scenario_Probabilities[scene]\n",
    "        for distro in Distro\n",
    "        for scene in Scenario\n",
    "        for warehouse in Warehouse\n",
    "    )\n",
    ")\n",
    "\n",
    "# binary condition if they are turned on they can send\n",
    "model.addConstrs(\n",
    "    (\n",
    "        gp.quicksum(dist_ware_scen[warehouse, distro, scene] for distro in Distro)\n",
    "        <= WareHProd_mod[warehouse] * WareHInv_mod[warehouse]\n",
    "        for scene in Scenario\n",
    "        for warehouse in Warehouse\n",
    "    ),\n",
    "    name=\"SentProduction_Bin\",\n",
    ")\n",
    "\n",
    "# inventory cannoth be greater than what you send there\n",
    "model.addConstrs(\n",
    "    (\n",
    "        Inventory_Distr[distro, scene]\n",
    "        == gp.quicksum(\n",
    "            dist_ware_scen[warehouse, distro, scene] for warehouse in Warehouse\n",
    "        )\n",
    "        for scene in Scenario\n",
    "        for distro in Distro\n",
    "    ),\n",
    "    name=\"Distr_Receive_Sent_limit\",\n",
    ")\n",
    "\n",
    "\n",
    "model.addConstrs(\n",
    "    (\n",
    "        soldd[distro, scene] <= demand[distro, scene]\n",
    "        for scene in Scenario\n",
    "        for distro in Distro\n",
    "    ),\n",
    "    name=\"Warehouse_Received_Demand_Limit\",\n",
    ")\n",
    "model.addConstrs(\n",
    "    (\n",
    "        soldd[distro, scene] <= Inventory_Distr[distro, scene]\n",
    "        for scene in Scenario\n",
    "        for distro in Distro\n",
    "    ),\n",
    "    name=\"Warehouse_Received_Demand_Limit\",\n",
    ")\n",
    "\n",
    "\n",
    "model.optimize()\n",
    "print(\"Optimal Value:\", model.Objval)\n",
    "\n",
    "# model.printAttr(\"X\")"
   ]
  },
  {
   "cell_type": "code",
   "execution_count": 23,
   "metadata": {},
   "outputs": [
    {
     "data": {
      "application/javascript": "\n            setTimeout(function() {\n                var nbb_cell_id = 23;\n                var nbb_unformatted_code = \"output_dict = {}\\nfor i_x, variable_o in dist_ware_scen.items():\\n    output_dict[i_x] = variable_o.x\\n\\ndf_vals = pd.DataFrame([key + (var,) for key, var in output_dict.items()],).rename(\\n    columns={0: \\\"Warehouse\\\", 1: \\\"DistributionCenter\\\", 2: \\\"Scenario\\\", 3: \\\"Volumne_Sent\\\"}\\n)\\n\\ndf_stut = df_vals.loc[df_vals[\\\"Warehouse\\\"].str.contains(\\\"Stuttgart\\\")]\";\n                var nbb_formatted_code = \"output_dict = {}\\nfor i_x, variable_o in dist_ware_scen.items():\\n    output_dict[i_x] = variable_o.x\\n\\ndf_vals = pd.DataFrame([key + (var,) for key, var in output_dict.items()],).rename(\\n    columns={0: \\\"Warehouse\\\", 1: \\\"DistributionCenter\\\", 2: \\\"Scenario\\\", 3: \\\"Volumne_Sent\\\"}\\n)\\n\\ndf_stut = df_vals.loc[df_vals[\\\"Warehouse\\\"].str.contains(\\\"Stuttgart\\\")]\";\n                var nbb_cells = Jupyter.notebook.get_cells();\n                for (var i = 0; i < nbb_cells.length; ++i) {\n                    if (nbb_cells[i].input_prompt_number == nbb_cell_id) {\n                        if (nbb_cells[i].get_text() == nbb_unformatted_code) {\n                             nbb_cells[i].set_text(nbb_formatted_code);\n                        }\n                        break;\n                    }\n                }\n            }, 500);\n            ",
      "text/plain": [
       "<IPython.core.display.Javascript object>"
      ]
     },
     "metadata": {},
     "output_type": "display_data"
    }
   ],
   "source": [
    "output_dict = {}\n",
    "for i_x, variable_o in dist_ware_scen.items():\n",
    "    output_dict[i_x] = variable_o.x\n",
    "\n",
    "df_vals = pd.DataFrame([key + (var,) for key, var in output_dict.items()],).rename(\n",
    "    columns={0: \"Warehouse\", 1: \"DistributionCenter\", 2: \"Scenario\", 3: \"Volumne_Sent\"}\n",
    ")\n",
    "\n",
    "df_stut = df_vals.loc[df_vals[\"Warehouse\"].str.contains(\"Stuttgart\")]"
   ]
  },
  {
   "cell_type": "code",
   "execution_count": 24,
   "metadata": {},
   "outputs": [
    {
     "data": {
      "text/plain": [
       "1.5488"
      ]
     },
     "execution_count": 24,
     "metadata": {},
     "output_type": "execute_result"
    },
    {
     "data": {
      "application/javascript": "\n            setTimeout(function() {\n                var nbb_cell_id = 24;\n                var nbb_unformatted_code = \"stuttgart = []\\nfor _, value in Trasnportation_Costs.keys():\\n    stuttgart.append(Trasnportation_Costs[\\\"WH-Stuttgart\\\", value])\\n\\nround(np.sum(stuttgart) / len(stuttgart), 4)\";\n                var nbb_formatted_code = \"stuttgart = []\\nfor _, value in Trasnportation_Costs.keys():\\n    stuttgart.append(Trasnportation_Costs[\\\"WH-Stuttgart\\\", value])\\n\\nround(np.sum(stuttgart) / len(stuttgart), 4)\";\n                var nbb_cells = Jupyter.notebook.get_cells();\n                for (var i = 0; i < nbb_cells.length; ++i) {\n                    if (nbb_cells[i].input_prompt_number == nbb_cell_id) {\n                        if (nbb_cells[i].get_text() == nbb_unformatted_code) {\n                             nbb_cells[i].set_text(nbb_formatted_code);\n                        }\n                        break;\n                    }\n                }\n            }, 500);\n            ",
      "text/plain": [
       "<IPython.core.display.Javascript object>"
      ]
     },
     "metadata": {},
     "output_type": "display_data"
    }
   ],
   "source": [
    "stuttgart = []\n",
    "for _, value in Trasnportation_Costs.keys():\n",
    "    stuttgart.append(Trasnportation_Costs[\"WH-Stuttgart\", value])\n",
    "\n",
    "round(np.sum(stuttgart) / len(stuttgart), 4)"
   ]
  },
  {
   "cell_type": "code",
   "execution_count": 25,
   "metadata": {},
   "outputs": [
    {
     "data": {
      "text/html": [
       "<div>\n",
       "<style scoped>\n",
       "    .dataframe tbody tr th:only-of-type {\n",
       "        vertical-align: middle;\n",
       "    }\n",
       "\n",
       "    .dataframe tbody tr th {\n",
       "        vertical-align: top;\n",
       "    }\n",
       "\n",
       "    .dataframe thead th {\n",
       "        text-align: right;\n",
       "    }\n",
       "</style>\n",
       "<table border=\"1\" class=\"dataframe\">\n",
       "  <thead>\n",
       "    <tr style=\"text-align: right;\">\n",
       "      <th></th>\n",
       "      <th>Cost</th>\n",
       "    </tr>\n",
       "    <tr>\n",
       "      <th>Warehouse</th>\n",
       "      <th></th>\n",
       "    </tr>\n",
       "  </thead>\n",
       "  <tbody>\n",
       "    <tr>\n",
       "      <th>WH-Stuttgart</th>\n",
       "      <td>1.548780</td>\n",
       "    </tr>\n",
       "    <tr>\n",
       "      <th>WH-Charleroi</th>\n",
       "      <td>1.558537</td>\n",
       "    </tr>\n",
       "    <tr>\n",
       "      <th>WH-Bordeaux</th>\n",
       "      <td>1.673171</td>\n",
       "    </tr>\n",
       "    <tr>\n",
       "      <th>WH-Bristol</th>\n",
       "      <td>1.682927</td>\n",
       "    </tr>\n",
       "    <tr>\n",
       "      <th>WH-KrakÃ³w</th>\n",
       "      <td>1.734146</td>\n",
       "    </tr>\n",
       "    <tr>\n",
       "      <th>WH-Palma de Mallorca</th>\n",
       "      <td>1.795122</td>\n",
       "    </tr>\n",
       "    <tr>\n",
       "      <th>WH-Glasgow</th>\n",
       "      <td>1.814634</td>\n",
       "    </tr>\n",
       "    <tr>\n",
       "      <th>WH-Oslo</th>\n",
       "      <td>1.846341</td>\n",
       "    </tr>\n",
       "    <tr>\n",
       "      <th>WH-Hanover</th>\n",
       "      <td>1.860976</td>\n",
       "    </tr>\n",
       "    <tr>\n",
       "      <th>WH-Rhodes</th>\n",
       "      <td>1.870732</td>\n",
       "    </tr>\n",
       "    <tr>\n",
       "      <th>WH-Riga</th>\n",
       "      <td>1.926829</td>\n",
       "    </tr>\n",
       "    <tr>\n",
       "      <th>WH-Palermo</th>\n",
       "      <td>1.953659</td>\n",
       "    </tr>\n",
       "    <tr>\n",
       "      <th>WH-Pisa</th>\n",
       "      <td>1.965854</td>\n",
       "    </tr>\n",
       "    <tr>\n",
       "      <th>WH-Kyiv</th>\n",
       "      <td>2.056098</td>\n",
       "    </tr>\n",
       "    <tr>\n",
       "      <th>WH-MÃ¡laga</th>\n",
       "      <td>2.082927</td>\n",
       "    </tr>\n",
       "    <tr>\n",
       "      <th>WH-Liverpool</th>\n",
       "      <td>2.107317</td>\n",
       "    </tr>\n",
       "    <tr>\n",
       "      <th>WH-Seville</th>\n",
       "      <td>2.112195</td>\n",
       "    </tr>\n",
       "    <tr>\n",
       "      <th>WH-Faro</th>\n",
       "      <td>2.131707</td>\n",
       "    </tr>\n",
       "    <tr>\n",
       "      <th>WH-Athens</th>\n",
       "      <td>2.136585</td>\n",
       "    </tr>\n",
       "    <tr>\n",
       "      <th>WH-Katowice</th>\n",
       "      <td>2.221951</td>\n",
       "    </tr>\n",
       "    <tr>\n",
       "      <th>WH-Moscow</th>\n",
       "      <td>2.317073</td>\n",
       "    </tr>\n",
       "    <tr>\n",
       "      <th>WH-Heraklion</th>\n",
       "      <td>2.326829</td>\n",
       "    </tr>\n",
       "    <tr>\n",
       "      <th>WH-Krasnodar</th>\n",
       "      <td>2.987805</td>\n",
       "    </tr>\n",
       "  </tbody>\n",
       "</table>\n",
       "</div>"
      ],
      "text/plain": [
       "                          Cost\n",
       "Warehouse                     \n",
       "WH-Stuttgart          1.548780\n",
       "WH-Charleroi          1.558537\n",
       "WH-Bordeaux           1.673171\n",
       "WH-Bristol            1.682927\n",
       "WH-KrakÃ³w            1.734146\n",
       "WH-Palma de Mallorca  1.795122\n",
       "WH-Glasgow            1.814634\n",
       "WH-Oslo               1.846341\n",
       "WH-Hanover            1.860976\n",
       "WH-Rhodes             1.870732\n",
       "WH-Riga               1.926829\n",
       "WH-Palermo            1.953659\n",
       "WH-Pisa               1.965854\n",
       "WH-Kyiv               2.056098\n",
       "WH-MÃ¡laga            2.082927\n",
       "WH-Liverpool          2.107317\n",
       "WH-Seville            2.112195\n",
       "WH-Faro               2.131707\n",
       "WH-Athens             2.136585\n",
       "WH-Katowice           2.221951\n",
       "WH-Moscow             2.317073\n",
       "WH-Heraklion          2.326829\n",
       "WH-Krasnodar          2.987805"
      ]
     },
     "execution_count": 25,
     "metadata": {},
     "output_type": "execute_result"
    },
    {
     "data": {
      "application/javascript": "\n            setTimeout(function() {\n                var nbb_cell_id = 25;\n                var nbb_unformatted_code = \"df = pd.DataFrame([key + (var,) for key, var in Trasnportation_Costs.items()]).rename(\\n    columns={0: \\\"Warehouse\\\", 1: \\\"DistributionCenter\\\", 2: \\\"Cost\\\"}\\n)\\ndf.groupby(\\\"Warehouse\\\").agg({\\\"Cost\\\": \\\"mean\\\"}).sort_values(\\\"Cost\\\")\";\n                var nbb_formatted_code = \"df = pd.DataFrame([key + (var,) for key, var in Trasnportation_Costs.items()]).rename(\\n    columns={0: \\\"Warehouse\\\", 1: \\\"DistributionCenter\\\", 2: \\\"Cost\\\"}\\n)\\ndf.groupby(\\\"Warehouse\\\").agg({\\\"Cost\\\": \\\"mean\\\"}).sort_values(\\\"Cost\\\")\";\n                var nbb_cells = Jupyter.notebook.get_cells();\n                for (var i = 0; i < nbb_cells.length; ++i) {\n                    if (nbb_cells[i].input_prompt_number == nbb_cell_id) {\n                        if (nbb_cells[i].get_text() == nbb_unformatted_code) {\n                             nbb_cells[i].set_text(nbb_formatted_code);\n                        }\n                        break;\n                    }\n                }\n            }, 500);\n            ",
      "text/plain": [
       "<IPython.core.display.Javascript object>"
      ]
     },
     "metadata": {},
     "output_type": "display_data"
    }
   ],
   "source": [
    "df = pd.DataFrame([key + (var,) for key, var in Trasnportation_Costs.items()]).rename(\n",
    "    columns={0: \"Warehouse\", 1: \"DistributionCenter\", 2: \"Cost\"}\n",
    ")\n",
    "df.groupby(\"Warehouse\").agg({\"Cost\": \"mean\"}).sort_values(\"Cost\")"
   ]
  },
  {
   "cell_type": "code",
   "execution_count": 26,
   "metadata": {},
   "outputs": [
    {
     "data": {
      "text/plain": [
       "281633.11"
      ]
     },
     "execution_count": 26,
     "metadata": {},
     "output_type": "execute_result"
    },
    {
     "data": {
      "application/javascript": "\n            setTimeout(function() {\n                var nbb_cell_id = 26;\n                var nbb_unformatted_code = \"Demand.iloc[:, 1:].mean(axis=1).sum()\";\n                var nbb_formatted_code = \"Demand.iloc[:, 1:].mean(axis=1).sum()\";\n                var nbb_cells = Jupyter.notebook.get_cells();\n                for (var i = 0; i < nbb_cells.length; ++i) {\n                    if (nbb_cells[i].input_prompt_number == nbb_cell_id) {\n                        if (nbb_cells[i].get_text() == nbb_unformatted_code) {\n                             nbb_cells[i].set_text(nbb_formatted_code);\n                        }\n                        break;\n                    }\n                }\n            }, 500);\n            ",
      "text/plain": [
       "<IPython.core.display.Javascript object>"
      ]
     },
     "metadata": {},
     "output_type": "display_data"
    }
   ],
   "source": [
    "Demand.iloc[:, 1:].mean(axis=1).sum()"
   ]
  },
  {
   "cell_type": "code",
   "execution_count": 27,
   "metadata": {},
   "outputs": [
    {
     "data": {
      "image/png": "[encoded data removed]",
      "text/plain": [
       "<Figure size 1440x630 with 1 Axes>"
      ]
     },
     "metadata": {},
     "output_type": "display_data"
    },
    {
     "data": {
      "application/javascript": "\n            setTimeout(function() {\n                var nbb_cell_id = 27;\n                var nbb_unformatted_code = \"results = []\\nfor k, v in WareHProd_mod.items():\\n    results.append([k, v.X])\\nw_WaretDis = pd.DataFrame(results).rename(columns={0: \\\"Warehouse\\\", 1: \\\"WareDis\\\"})\\n\\nresults = []\\nfor k, v in dist_ware_scen.items():\\n    results.append([k[0], k[1], k[2], v.X])\\nd_WaretDis = pd.DataFrame(results).rename(\\n    columns={0: \\\"Warehouse\\\", 1: \\\"Distribution Center\\\", 2: \\\"Scenario\\\", 3: \\\"WaretDis\\\"}\\n)\\n\\ndcost = []\\nfor k, v in Trasnportation_Costs.items():\\n    dcost.append([k[0], k[1], v])\\ndcsot = pd.DataFrame(dcost).rename(\\n    columns={0: \\\"Warehouse\\\", 1: \\\"Distribution Center\\\", 2: \\\"cost\\\"}\\n)\\n\\nresults = []\\nfor k, v in soldd.items():\\n    results.append([k[0], k[1], v.X])\\nsold = pd.DataFrame(results, columns=[\\\"Distribution Center\\\", \\\"Scenario\\\", \\\"Sold\\\"])\\n\\nsold[\\\"revenue\\\"] = sold.Sold * 20\\nsold = sold.groupby([\\\"Scenario\\\"]).revenue.sum().reset_index()\\n\\nd_WaretDis = pd.merge(\\n    d_WaretDis, dcsot, on=[\\\"Warehouse\\\", \\\"Distribution Center\\\"], how=\\\"left\\\"\\n).rename(columns={0: \\\"Warehouse\\\", 1: \\\"Distribution Center\\\"})\\n\\n\\n\\nd_WaretDis[\\\"distributon_cost\\\"] = d_WaretDis.WaretDis * d_WaretDis.cost\\nd_WaretDis = d_WaretDis.groupby([\\\"Scenario\\\"]).distributon_cost.sum().reset_index()\\n\\nexpected_profit = pd.merge(\\n    left=sold, right=d_WaretDis, left_on=\\\"Scenario\\\", right_on=\\\"Scenario\\\"\\n)\\n\\nexpected_profit[\\\"expected_profit\\\"] = (\\n    expected_profit.revenue\\n    - 100000\\n    - w_WaretDis.max()[1] * 0.35\\n    - expected_profit.distributon_cost\\n    - 2784410\\n)\\n\\nexpected_profit[\\\"numbers\\\"] = expected_profit.Scenario.apply(\\n    lambda x: str(x).replace(\\\"S\\\", \\\"\\\")\\n)\\nexpected_profit = expected_profit.sort_values(by=\\\"numbers\\\", ascending=True).reset_index(\\n    drop=True\\n)\\n\\nexpected_profit[\\\"numbers\\\"] = expected_profit[\\\"numbers\\\"].astype(int)\\nexpected_profit.sort_values(by=\\\"numbers\\\", ascending=True, inplace=True)\\n\\nexpected_profit.drop(columns=[\\\"numbers\\\"], inplace=True)\\n\\nfig, ax = plt.subplots(figsize=(20, 8.75))\\nsns.set_theme()\\n\\nax.bar(data=expected_profit, x=\\\"Scenario\\\", height=\\\"expected_profit\\\")\\n\\nplt.xticks(rotation=90)\\nax.set_xlabel(\\\"Scenario\\\")\\nax.set_ylabel(\\\"Expected Profit\\\")\\n# ax.legend()\\nplt.show()\";\n                var nbb_formatted_code = \"results = []\\nfor k, v in WareHProd_mod.items():\\n    results.append([k, v.X])\\nw_WaretDis = pd.DataFrame(results).rename(columns={0: \\\"Warehouse\\\", 1: \\\"WareDis\\\"})\\n\\nresults = []\\nfor k, v in dist_ware_scen.items():\\n    results.append([k[0], k[1], k[2], v.X])\\nd_WaretDis = pd.DataFrame(results).rename(\\n    columns={0: \\\"Warehouse\\\", 1: \\\"Distribution Center\\\", 2: \\\"Scenario\\\", 3: \\\"WaretDis\\\"}\\n)\\n\\ndcost = []\\nfor k, v in Trasnportation_Costs.items():\\n    dcost.append([k[0], k[1], v])\\ndcsot = pd.DataFrame(dcost).rename(\\n    columns={0: \\\"Warehouse\\\", 1: \\\"Distribution Center\\\", 2: \\\"cost\\\"}\\n)\\n\\nresults = []\\nfor k, v in soldd.items():\\n    results.append([k[0], k[1], v.X])\\nsold = pd.DataFrame(results, columns=[\\\"Distribution Center\\\", \\\"Scenario\\\", \\\"Sold\\\"])\\n\\nsold[\\\"revenue\\\"] = sold.Sold * 20\\nsold = sold.groupby([\\\"Scenario\\\"]).revenue.sum().reset_index()\\n\\nd_WaretDis = pd.merge(\\n    d_WaretDis, dcsot, on=[\\\"Warehouse\\\", \\\"Distribution Center\\\"], how=\\\"left\\\"\\n).rename(columns={0: \\\"Warehouse\\\", 1: \\\"Distribution Center\\\"})\\n\\n\\nd_WaretDis[\\\"distributon_cost\\\"] = d_WaretDis.WaretDis * d_WaretDis.cost\\nd_WaretDis = d_WaretDis.groupby([\\\"Scenario\\\"]).distributon_cost.sum().reset_index()\\n\\nexpected_profit = pd.merge(\\n    left=sold, right=d_WaretDis, left_on=\\\"Scenario\\\", right_on=\\\"Scenario\\\"\\n)\\n\\nexpected_profit[\\\"expected_profit\\\"] = (\\n    expected_profit.revenue\\n    - 100000\\n    - w_WaretDis.max()[1] * 0.35\\n    - expected_profit.distributon_cost\\n    - 2784410\\n)\\n\\nexpected_profit[\\\"numbers\\\"] = expected_profit.Scenario.apply(\\n    lambda x: str(x).replace(\\\"S\\\", \\\"\\\")\\n)\\nexpected_profit = expected_profit.sort_values(by=\\\"numbers\\\", ascending=True).reset_index(\\n    drop=True\\n)\\n\\nexpected_profit[\\\"numbers\\\"] = expected_profit[\\\"numbers\\\"].astype(int)\\nexpected_profit.sort_values(by=\\\"numbers\\\", ascending=True, inplace=True)\\n\\nexpected_profit.drop(columns=[\\\"numbers\\\"], inplace=True)\\n\\nfig, ax = plt.subplots(figsize=(20, 8.75))\\nsns.set_theme()\\n\\nax.bar(data=expected_profit, x=\\\"Scenario\\\", height=\\\"expected_profit\\\")\\n\\nplt.xticks(rotation=90)\\nax.set_xlabel(\\\"Scenario\\\")\\nax.set_ylabel(\\\"Expected Profit\\\")\\n# ax.legend()\\nplt.show()\";\n                var nbb_cells = Jupyter.notebook.get_cells();\n                for (var i = 0; i < nbb_cells.length; ++i) {\n                    if (nbb_cells[i].input_prompt_number == nbb_cell_id) {\n                        if (nbb_cells[i].get_text() == nbb_unformatted_code) {\n                             nbb_cells[i].set_text(nbb_formatted_code);\n                        }\n                        break;\n                    }\n                }\n            }, 500);\n            ",
      "text/plain": [
       "<IPython.core.display.Javascript object>"
      ]
     },
     "metadata": {},
     "output_type": "display_data"
    }
   ],
   "source": [
    "results = []\n",
    "for k, v in WareHProd_mod.items():\n",
    "    results.append([k, v.X])\n",
    "w_WaretDis = pd.DataFrame(results).rename(columns={0: \"Warehouse\", 1: \"WareDis\"})\n",
    "\n",
    "results = []\n",
    "for k, v in dist_ware_scen.items():\n",
    "    results.append([k[0], k[1], k[2], v.X])\n",
    "d_WaretDis = pd.DataFrame(results).rename(\n",
    "    columns={0: \"Warehouse\", 1: \"Distribution Center\", 2: \"Scenario\", 3: \"WaretDis\"}\n",
    ")\n",
    "\n",
    "dcost = []\n",
    "for k, v in Trasnportation_Costs.items():\n",
    "    dcost.append([k[0], k[1], v])\n",
    "dcsot = pd.DataFrame(dcost).rename(\n",
    "    columns={0: \"Warehouse\", 1: \"Distribution Center\", 2: \"cost\"}\n",
    ")\n",
    "\n",
    "results = []\n",
    "for k, v in soldd.items():\n",
    "    results.append([k[0], k[1], v.X])\n",
    "sold = pd.DataFrame(results, columns=[\"Distribution Center\", \"Scenario\", \"Sold\"])\n",
    "\n",
    "sold[\"revenue\"] = sold.Sold * 20\n",
    "sold = sold.groupby([\"Scenario\"]).revenue.sum().reset_index()\n",
    "\n",
    "d_WaretDis = pd.merge(\n",
    "    d_WaretDis, dcsot, on=[\"Warehouse\", \"Distribution Center\"], how=\"left\"\n",
    ").rename(columns={0: \"Warehouse\", 1: \"Distribution Center\"})\n",
    "\n",
    "\n",
    "d_WaretDis[\"distributon_cost\"] = d_WaretDis.WaretDis * d_WaretDis.cost\n",
    "d_WaretDis = d_WaretDis.groupby([\"Scenario\"]).distributon_cost.sum().reset_index()\n",
    "\n",
    "expected_profit = pd.merge(\n",
    "    left=sold, right=d_WaretDis, left_on=\"Scenario\", right_on=\"Scenario\"\n",
    ")\n",
    "\n",
    "expected_profit[\"expected_profit\"] = (\n",
    "    expected_profit.revenue\n",
    "    - 100000\n",
    "    - w_WaretDis.max()[1] * 0.35\n",
    "    - expected_profit.distributon_cost\n",
    "    - 2784410\n",
    ")\n",
    "\n",
    "expected_profit[\"numbers\"] = expected_profit.Scenario.apply(\n",
    "    lambda x: str(x).replace(\"S\", \"\")\n",
    ")\n",
    "expected_profit = expected_profit.sort_values(by=\"numbers\", ascending=True).reset_index(\n",
    "    drop=True\n",
    ")\n",
    "\n",
    "expected_profit[\"numbers\"] = expected_profit[\"numbers\"].astype(int)\n",
    "expected_profit.sort_values(by=\"numbers\", ascending=True, inplace=True)\n",
    "\n",
    "expected_profit.drop(columns=[\"numbers\"], inplace=True)\n",
    "\n",
    "fig, ax = plt.subplots(figsize=(20, 8.75))\n",
    "sns.set_theme()\n",
    "\n",
    "ax.bar(data=expected_profit, x=\"Scenario\", height=\"expected_profit\")\n",
    "\n",
    "plt.xticks(rotation=90)\n",
    "ax.set_xlabel(\"Scenario\")\n",
    "ax.set_ylabel(\"Expected Profit\")\n",
    "# ax.legend()\n",
    "plt.show()"
   ]
  },
  {
   "cell_type": "code",
   "execution_count": 28,
   "metadata": {},
   "outputs": [
    {
     "data": {
      "text/html": [
       "<div>\n",
       "<style scoped>\n",
       "    .dataframe tbody tr th:only-of-type {\n",
       "        vertical-align: middle;\n",
       "    }\n",
       "\n",
       "    .dataframe tbody tr th {\n",
       "        vertical-align: top;\n",
       "    }\n",
       "\n",
       "    .dataframe thead th {\n",
       "        text-align: right;\n",
       "    }\n",
       "</style>\n",
       "<table border=\"1\" class=\"dataframe\">\n",
       "  <thead>\n",
       "    <tr style=\"text-align: right;\">\n",
       "      <th></th>\n",
       "      <th>Scenario</th>\n",
       "      <th>revenue</th>\n",
       "      <th>distributon_cost</th>\n",
       "      <th>expected_profit</th>\n",
       "    </tr>\n",
       "  </thead>\n",
       "  <tbody>\n",
       "    <tr>\n",
       "      <th>52</th>\n",
       "      <td>S56</td>\n",
       "      <td>4940660.0</td>\n",
       "      <td>356871.5</td>\n",
       "      <td>1601924.15</td>\n",
       "    </tr>\n",
       "  </tbody>\n",
       "</table>\n",
       "</div>"
      ],
      "text/plain": [
       "   Scenario    revenue  distributon_cost  expected_profit\n",
       "52      S56  4940660.0          356871.5       1601924.15"
      ]
     },
     "execution_count": 28,
     "metadata": {},
     "output_type": "execute_result"
    },
    {
     "data": {
      "application/javascript": "\n            setTimeout(function() {\n                var nbb_cell_id = 28;\n                var nbb_unformatted_code = \"expected_profit[\\n    expected_profit.expected_profit == expected_profit.expected_profit.min()\\n]\";\n                var nbb_formatted_code = \"expected_profit[\\n    expected_profit.expected_profit == expected_profit.expected_profit.min()\\n]\";\n                var nbb_cells = Jupyter.notebook.get_cells();\n                for (var i = 0; i < nbb_cells.length; ++i) {\n                    if (nbb_cells[i].input_prompt_number == nbb_cell_id) {\n                        if (nbb_cells[i].get_text() == nbb_unformatted_code) {\n                             nbb_cells[i].set_text(nbb_formatted_code);\n                        }\n                        break;\n                    }\n                }\n            }, 500);\n            ",
      "text/plain": [
       "<IPython.core.display.Javascript object>"
      ]
     },
     "metadata": {},
     "output_type": "display_data"
    }
   ],
   "source": [
    "expected_profit[\n",
    "    expected_profit.expected_profit == expected_profit.expected_profit.min()\n",
    "]"
   ]
  },
  {
   "attachments": {},
   "cell_type": "markdown",
   "metadata": {},
   "source": [
    "\n",
    "\n",
    "#### B3"
   ]
  },
  {
   "cell_type": "code",
   "execution_count": 29,
   "metadata": {},
   "outputs": [
    {
     "name": "stdout",
     "output_type": "stream",
     "text": [
      "Gurobi Optimizer version 10.0.0 build v10.0.0rc2 (linux64)\n",
      "\n",
      "CPU model: 11th Gen Intel(R) Core(TM) i7-1165G7 @ 2.80GHz, instruction set [SSE2|AVX|AVX2|AVX512]\n",
      "Thread count: 4 physical cores, 8 logical processors, using up to 8 threads\n",
      "\n",
      "Optimize a model with 12400 rows, 102547 columns and 209200 nonzeros\n",
      "Model fingerprint: 0x3e002ad3\n",
      "Model has 2300 quadratic constraints\n",
      "Variable types: 0 continuous, 102547 integer (23 binary)\n",
      "Coefficient statistics:\n",
      "  Matrix range     [9e-01, 2e+01]\n",
      "  QMatrix range    [1e+00, 1e+00]\n",
      "  QLMatrix range   [1e+00, 1e+00]\n",
      "  Objective range  [1e+00, 1e+05]\n",
      "  Bounds range     [1e+00, 1e+00]\n",
      "  RHS range        [7e+02, 4e+04]\n",
      "Found heuristic solution: objective -0.0000000\n",
      "Presolve removed 5900 rows and 4077 columns\n",
      "Presolve time: 0.62s\n",
      "Presolved: 6569 rows, 98539 columns, 293661 nonzeros\n",
      "Presolved model has 46 SOS constraint(s)\n",
      "Variable types: 0 continuous, 98539 integer (46 binary)\n",
      "Deterministic concurrent LP optimizer: primal and dual simplex\n",
      "Showing first log only...\n",
      "\n",
      "Concurrent spin time: 0.00s\n",
      "\n",
      "Solved with dual simplex\n",
      "\n",
      "Root relaxation: objective 4.675932e+06, 4747 iterations, 0.25 seconds (0.14 work units)\n",
      "\n",
      "    Nodes    |    Current Node    |     Objective Bounds      |     Work\n",
      " Expl Unexpl |  Obj  Depth IntInf | Incumbent    BestBd   Gap | It/Node Time\n",
      "\n",
      "     0     0 4675932.10    0   34   -0.00000 4675932.10      -     -    1s\n",
      "     0     0 2102776.37    0 1360   -0.00000 2102776.37      -     -    5s\n",
      "H    0     0                    1771108.6750 2102776.37  18.7%     -    6s\n",
      "     0     0 2102776.37    0  994 1771108.67 2102776.37  18.7%     -    7s\n",
      "H    0     0                    1873725.8000 2102776.37  12.2%     -    9s\n",
      "     0     2 2002776.37    0  994 1873725.80 2002776.37  6.89%     -    9s\n",
      "     1     4 2002776.37    1  993 1873725.80 2002776.37  6.89%  6114   11s\n",
      "     7     6 1998042.32    3  532 1873725.80 2002776.37  6.89%  9635   23s\n",
      "    15     8 1995090.03    4 1067 1873725.80 2002776.37  6.89% 13626   27s\n",
      "    19    10     cutoff    5      1873725.80 2002776.37  6.89% 15506   32s\n",
      "    23    11 1982811.67    5  371 1873725.80 2002776.37  6.89% 14267   37s\n",
      "    28    14     cutoff    6      1873725.80 2002776.37  6.89% 15279   41s\n",
      "    33    12 1974039.15    6 1177 1873725.80 2002776.37  6.89% 13808   50s\n",
      "    37    11 infeasible    7      1873725.80 2002776.37  6.89% 14968   55s\n",
      "    44    12 2002776.37    8  537 1873725.80 2002776.37  6.89% 14089   60s\n",
      "H   52    15                    1901727.6250 2002776.37  5.31% 13684   63s\n",
      "    58    10     cutoff   12      1901727.63 2002776.37  5.31% 12508   66s\n",
      "H   66    10                    1926996.4500 2002776.37  3.93% 11538   66s\n",
      "\n",
      "Explored 77 nodes (866210 simplex iterations) in 69.17 seconds (76.72 work units)\n",
      "Thread count was 8 (of 8 available processors)\n",
      "\n",
      "Solution count 5: 1.927e+06 1.90173e+06 1.87373e+06 ... -0\n",
      "\n",
      "Optimal solution found (tolerance 1.00e-04)\n",
      "Best objective 1.926996450000e+06, best bound 1.926996450000e+06, gap 0.0000%\n",
      "Optimal Value: 1926996.4500000002\n"
     ]
    },
    {
     "data": {
      "application/javascript": "\n            setTimeout(function() {\n                var nbb_cell_id = 29;\n                var nbb_unformatted_code = \"TransportationCosts = pd.read_csv(\\n    \\\"/home/angelo/Documents/Uni/Courses/Management Science/MS_Code_repo/data/TranportationCosts.csv\\\",\\n    encoding=\\\"latin-1\\\",\\n)\\nDemand = pd.read_csv(\\n    \\\"/home/angelo/Documents/Uni/Courses/Management Science/MS_Code_repo/data/demand.csv\\\",\\n    encoding=\\\"latin-1\\\",\\n)\\nScenario = Demand.columns[1:].to_list()\\nScenario_Probabilities = dict(zip(Scenario, [1 / 100] * 100))\\n\\n\\nDistro = Demand.loc[:, \\\"DistributionCenter\\\"].to_list()\\nWarehouse = TransportationCosts.loc[:, \\\"Warehouse\\\"].to_list()\\n\\ndemand = {}\\nfor distro in range(0, len(Demand)):\\n    for scene in range(1, len(Demand.columns)):\\n        demand[(Distro[distro], Scenario[scene - 1])] = Demand.loc[\\n            distro, Scenario[scene - 1]\\n        ]\\n\\nTrasnportation_Costs = {}\\nfor warehouse in range(0, len(TransportationCosts)):\\n    for distro in range(2, len(TransportationCosts.columns)):\\n        Trasnportation_Costs[\\n            (Warehouse[warehouse], Distro[distro - 2])\\n        ] = TransportationCosts.loc[warehouse, Distro[distro - 2]]\\n\\nTransport_Warehouse = {}\\nfor warehouse in range(0, len(TransportationCosts)):\\n    Transport_Warehouse[Warehouse[warehouse]] = TransportationCosts.loc[\\n        warehouse, \\\"PFacility\\\"\\n    ]\\n\\n\\nmodel = gp.Model()\\nmodel.ModelSense = gp.GRB.MAXIMIZE\\n\\n\\n# first stage\\nWareHProd_mod = model.addVars(Warehouse, vtype=gp.GRB.INTEGER, name=\\\"Production\\\")\\nWareHInv_mod = model.addVars(Warehouse, vtype=gp.GRB.BINARY, name=\\\"Investment\\\")\\n\\n# second stage\\ndist_ware_scen = model.addVars(\\n    Warehouse, Distro, Scenario, vtype=gp.GRB.INTEGER, name=\\\"Transportation\\\"\\n)\\n\\nInventory_Distr = model.addVars(\\n    Distro, Scenario, vtype=gp.GRB.INTEGER, name=\\\"Inventory\\\"\\n)\\n\\nsoldd = model.addVars(Distro, Scenario, vtype=gp.GRB.INTEGER, name=\\\"Sold\\\")\\n\\n\\n# worst case profit\\nWorstCaseProfit = model.addVar(vtype=gp.GRB.INTEGER, name=\\\"WorstCaseProfit\\\")\\n\\n\\nmodel.setObjective(\\n    -gp.quicksum(\\n        WareHProd_mod[warehouse] * (10 + Transport_Warehouse[warehouse])\\n        for warehouse in Warehouse\\n    )\\n    - gp.quicksum(WareHInv_mod[warehouse] * 100000 for warehouse in Warehouse)\\n    + WorstCaseProfit\\n)\\n\\n\\n# binary condition if they are turned on they can send\\nmodel.addConstrs(\\n    (\\n        gp.quicksum(dist_ware_scen[warehouse, distro, scene] for distro in Distro)\\n        <= WareHProd_mod[warehouse] * WareHInv_mod[warehouse]\\n        for scene in Scenario\\n        for warehouse in Warehouse\\n    ),\\n    name=\\\"SentProduction_Bin\\\",\\n)\\n\\n# inventory cannoth be greater than what you send there\\nmodel.addConstrs(\\n    (\\n        Inventory_Distr[distro, scene]\\n        == gp.quicksum(\\n            dist_ware_scen[warehouse, distro, scene] for warehouse in Warehouse\\n        )\\n        for scene in Scenario\\n        for distro in Distro\\n    ),\\n    name=\\\"Distr_Receive_Sent_limit\\\",\\n)\\n\\n\\nmodel.addConstrs(\\n    (\\n        soldd[distro, scene] <= demand[distro, scene]\\n        for scene in Scenario\\n        for distro in Distro\\n    ),\\n    name=\\\"Warehouse_Received_Demand_Limit\\\",\\n)\\nmodel.addConstrs(\\n    (\\n        soldd[distro, scene] <= Inventory_Distr[distro, scene]\\n        for scene in Scenario\\n        for distro in Distro\\n    ),\\n    name=\\\"Warehouse_Received_Demand_Limit\\\",\\n)\\n\\n# add the final constraint that to remove from the OBJ the second stage costs\\n# and only leave the first stage costs + WP in the objective\\nfor scene in Scenario:\\n    model.addConstr(\\n        WorstCaseProfit\\n        <= gp.quicksum(20 * soldd[distro, scene] for distro in Distro)\\n        - gp.quicksum(\\n            dist_ware_scen[warehouse, distro, scene]\\n            * Trasnportation_Costs[warehouse, distro]\\n            for distro in Distro\\n            for warehouse in Warehouse\\n        )\\n    )\\n\\nmodel.optimize()\\nprint(\\\"Optimal Value:\\\", model.Objval)\\n\\n# model.printAttr(\\\"X\\\")\";\n                var nbb_formatted_code = \"TransportationCosts = pd.read_csv(\\n    \\\"/home/angelo/Documents/Uni/Courses/Management Science/MS_Code_repo/data/TranportationCosts.csv\\\",\\n    encoding=\\\"latin-1\\\",\\n)\\nDemand = pd.read_csv(\\n    \\\"/home/angelo/Documents/Uni/Courses/Management Science/MS_Code_repo/data/demand.csv\\\",\\n    encoding=\\\"latin-1\\\",\\n)\\nScenario = Demand.columns[1:].to_list()\\nScenario_Probabilities = dict(zip(Scenario, [1 / 100] * 100))\\n\\n\\nDistro = Demand.loc[:, \\\"DistributionCenter\\\"].to_list()\\nWarehouse = TransportationCosts.loc[:, \\\"Warehouse\\\"].to_list()\\n\\ndemand = {}\\nfor distro in range(0, len(Demand)):\\n    for scene in range(1, len(Demand.columns)):\\n        demand[(Distro[distro], Scenario[scene - 1])] = Demand.loc[\\n            distro, Scenario[scene - 1]\\n        ]\\n\\nTrasnportation_Costs = {}\\nfor warehouse in range(0, len(TransportationCosts)):\\n    for distro in range(2, len(TransportationCosts.columns)):\\n        Trasnportation_Costs[\\n            (Warehouse[warehouse], Distro[distro - 2])\\n        ] = TransportationCosts.loc[warehouse, Distro[distro - 2]]\\n\\nTransport_Warehouse = {}\\nfor warehouse in range(0, len(TransportationCosts)):\\n    Transport_Warehouse[Warehouse[warehouse]] = TransportationCosts.loc[\\n        warehouse, \\\"PFacility\\\"\\n    ]\\n\\n\\nmodel = gp.Model()\\nmodel.ModelSense = gp.GRB.MAXIMIZE\\n\\n\\n# first stage\\nWareHProd_mod = model.addVars(Warehouse, vtype=gp.GRB.INTEGER, name=\\\"Production\\\")\\nWareHInv_mod = model.addVars(Warehouse, vtype=gp.GRB.BINARY, name=\\\"Investment\\\")\\n\\n# second stage\\ndist_ware_scen = model.addVars(\\n    Warehouse, Distro, Scenario, vtype=gp.GRB.INTEGER, name=\\\"Transportation\\\"\\n)\\n\\nInventory_Distr = model.addVars(\\n    Distro, Scenario, vtype=gp.GRB.INTEGER, name=\\\"Inventory\\\"\\n)\\n\\nsoldd = model.addVars(Distro, Scenario, vtype=gp.GRB.INTEGER, name=\\\"Sold\\\")\\n\\n\\n# worst case profit\\nWorstCaseProfit = model.addVar(vtype=gp.GRB.INTEGER, name=\\\"WorstCaseProfit\\\")\\n\\n\\nmodel.setObjective(\\n    -gp.quicksum(\\n        WareHProd_mod[warehouse] * (10 + Transport_Warehouse[warehouse])\\n        for warehouse in Warehouse\\n    )\\n    - gp.quicksum(WareHInv_mod[warehouse] * 100000 for warehouse in Warehouse)\\n    + WorstCaseProfit\\n)\\n\\n\\n# binary condition if they are turned on they can send\\nmodel.addConstrs(\\n    (\\n        gp.quicksum(dist_ware_scen[warehouse, distro, scene] for distro in Distro)\\n        <= WareHProd_mod[warehouse] * WareHInv_mod[warehouse]\\n        for scene in Scenario\\n        for warehouse in Warehouse\\n    ),\\n    name=\\\"SentProduction_Bin\\\",\\n)\\n\\n# inventory cannoth be greater than what you send there\\nmodel.addConstrs(\\n    (\\n        Inventory_Distr[distro, scene]\\n        == gp.quicksum(\\n            dist_ware_scen[warehouse, distro, scene] for warehouse in Warehouse\\n        )\\n        for scene in Scenario\\n        for distro in Distro\\n    ),\\n    name=\\\"Distr_Receive_Sent_limit\\\",\\n)\\n\\n\\nmodel.addConstrs(\\n    (\\n        soldd[distro, scene] <= demand[distro, scene]\\n        for scene in Scenario\\n        for distro in Distro\\n    ),\\n    name=\\\"Warehouse_Received_Demand_Limit\\\",\\n)\\nmodel.addConstrs(\\n    (\\n        soldd[distro, scene] <= Inventory_Distr[distro, scene]\\n        for scene in Scenario\\n        for distro in Distro\\n    ),\\n    name=\\\"Warehouse_Received_Demand_Limit\\\",\\n)\\n\\n# add the final constraint that to remove from the OBJ the second stage costs\\n# and only leave the first stage costs + WP in the objective\\nfor scene in Scenario:\\n    model.addConstr(\\n        WorstCaseProfit\\n        <= gp.quicksum(20 * soldd[distro, scene] for distro in Distro)\\n        - gp.quicksum(\\n            dist_ware_scen[warehouse, distro, scene]\\n            * Trasnportation_Costs[warehouse, distro]\\n            for distro in Distro\\n            for warehouse in Warehouse\\n        )\\n    )\\n\\nmodel.optimize()\\nprint(\\\"Optimal Value:\\\", model.Objval)\\n\\n# model.printAttr(\\\"X\\\")\";\n                var nbb_cells = Jupyter.notebook.get_cells();\n                for (var i = 0; i < nbb_cells.length; ++i) {\n                    if (nbb_cells[i].input_prompt_number == nbb_cell_id) {\n                        if (nbb_cells[i].get_text() == nbb_unformatted_code) {\n                             nbb_cells[i].set_text(nbb_formatted_code);\n                        }\n                        break;\n                    }\n                }\n            }, 500);\n            ",
      "text/plain": [
       "<IPython.core.display.Javascript object>"
      ]
     },
     "metadata": {},
     "output_type": "display_data"
    }
   ],
   "source": [
    "TransportationCosts = pd.read_csv(\n",
    "    \"/home/angelo/Documents/Uni/Courses/Management Science/MS_Code_repo/data/TranportationCosts.csv\",\n",
    "    encoding=\"latin-1\",\n",
    ")\n",
    "Demand = pd.read_csv(\n",
    "    \"/home/angelo/Documents/Uni/Courses/Management Science/MS_Code_repo/data/demand.csv\",\n",
    "    encoding=\"latin-1\",\n",
    ")\n",
    "Scenario = Demand.columns[1:].to_list()\n",
    "Scenario_Probabilities = dict(zip(Scenario, [1 / 100] * 100))\n",
    "\n",
    "\n",
    "Distro = Demand.loc[:, \"DistributionCenter\"].to_list()\n",
    "Warehouse = TransportationCosts.loc[:, \"Warehouse\"].to_list()\n",
    "\n",
    "demand = {}\n",
    "for distro in range(0, len(Demand)):\n",
    "    for scene in range(1, len(Demand.columns)):\n",
    "        demand[(Distro[distro], Scenario[scene - 1])] = Demand.loc[\n",
    "            distro, Scenario[scene - 1]\n",
    "        ]\n",
    "\n",
    "Trasnportation_Costs = {}\n",
    "for warehouse in range(0, len(TransportationCosts)):\n",
    "    for distro in range(2, len(TransportationCosts.columns)):\n",
    "        Trasnportation_Costs[\n",
    "            (Warehouse[warehouse], Distro[distro - 2])\n",
    "        ] = TransportationCosts.loc[warehouse, Distro[distro - 2]]\n",
    "\n",
    "Transport_Warehouse = {}\n",
    "for warehouse in range(0, len(TransportationCosts)):\n",
    "    Transport_Warehouse[Warehouse[warehouse]] = TransportationCosts.loc[\n",
    "        warehouse, \"PFacility\"\n",
    "    ]\n",
    "\n",
    "\n",
    "model = gp.Model()\n",
    "model.ModelSense = gp.GRB.MAXIMIZE\n",
    "\n",
    "\n",
    "# first stage\n",
    "WareHProd_mod = model.addVars(Warehouse, vtype=gp.GRB.INTEGER, name=\"Production\")\n",
    "WareHInv_mod = model.addVars(Warehouse, vtype=gp.GRB.BINARY, name=\"Investment\")\n",
    "\n",
    "# second stage\n",
    "dist_ware_scen = model.addVars(\n",
    "    Warehouse, Distro, Scenario, vtype=gp.GRB.INTEGER, name=\"Transportation\"\n",
    ")\n",
    "\n",
    "Inventory_Distr = model.addVars(\n",
    "    Distro, Scenario, vtype=gp.GRB.INTEGER, name=\"Inventory\"\n",
    ")\n",
    "\n",
    "soldd = model.addVars(Distro, Scenario, vtype=gp.GRB.INTEGER, name=\"Sold\")\n",
    "\n",
    "\n",
    "# worst case profit\n",
    "WorstCaseProfit = model.addVar(vtype=gp.GRB.INTEGER, name=\"WorstCaseProfit\")\n",
    "\n",
    "\n",
    "model.setObjective(\n",
    "    -gp.quicksum(\n",
    "        WareHProd_mod[warehouse] * (10 + Transport_Warehouse[warehouse])\n",
    "        for warehouse in Warehouse\n",
    "    )\n",
    "    - gp.quicksum(WareHInv_mod[warehouse] * 100000 for warehouse in Warehouse)\n",
    "    + WorstCaseProfit\n",
    ")\n",
    "\n",
    "\n",
    "# binary condition if they are turned on they can send\n",
    "model.addConstrs(\n",
    "    (\n",
    "        gp.quicksum(dist_ware_scen[warehouse, distro, scene] for distro in Distro)\n",
    "        <= WareHProd_mod[warehouse] * WareHInv_mod[warehouse]\n",
    "        for scene in Scenario\n",
    "        for warehouse in Warehouse\n",
    "    ),\n",
    "    name=\"SentProduction_Bin\",\n",
    ")\n",
    "\n",
    "# inventory cannoth be greater than what you send there\n",
    "model.addConstrs(\n",
    "    (\n",
    "        Inventory_Distr[distro, scene]\n",
    "        == gp.quicksum(\n",
    "            dist_ware_scen[warehouse, distro, scene] for warehouse in Warehouse\n",
    "        )\n",
    "        for scene in Scenario\n",
    "        for distro in Distro\n",
    "    ),\n",
    "    name=\"Distr_Receive_Sent_limit\",\n",
    ")\n",
    "\n",
    "\n",
    "model.addConstrs(\n",
    "    (\n",
    "        soldd[distro, scene] <= demand[distro, scene]\n",
    "        for scene in Scenario\n",
    "        for distro in Distro\n",
    "    ),\n",
    "    name=\"Warehouse_Received_Demand_Limit\",\n",
    ")\n",
    "model.addConstrs(\n",
    "    (\n",
    "        soldd[distro, scene] <= Inventory_Distr[distro, scene]\n",
    "        for scene in Scenario\n",
    "        for distro in Distro\n",
    "    ),\n",
    "    name=\"Warehouse_Received_Demand_Limit\",\n",
    ")\n",
    "\n",
    "# add the final constraint that to remove from the OBJ the second stage costs\n",
    "# and only leave the first stage costs + WP in the objective\n",
    "for scene in Scenario:\n",
    "    model.addConstr(\n",
    "        WorstCaseProfit\n",
    "        <= gp.quicksum(20 * soldd[distro, scene] for distro in Distro)\n",
    "        - gp.quicksum(\n",
    "            dist_ware_scen[warehouse, distro, scene]\n",
    "            * Trasnportation_Costs[warehouse, distro]\n",
    "            for distro in Distro\n",
    "            for warehouse in Warehouse\n",
    "        )\n",
    "    )\n",
    "\n",
    "model.optimize()\n",
    "print(\"Optimal Value:\", model.Objval)\n",
    "\n",
    "# model.printAttr(\"X\")"
   ]
  },
  {
   "cell_type": "code",
   "execution_count": 30,
   "metadata": {},
   "outputs": [
    {
     "data": {
      "application/javascript": "\n            setTimeout(function() {\n                var nbb_cell_id = 30;\n                var nbb_unformatted_code = \"output_dict = {}\\nfor i_x, variable_o in dist_ware_scen.items():\\n    output_dict[i_x] = variable_o.x\\n\\ndf_vals = pd.DataFrame([key + (var,) for key, var in output_dict.items()],).rename(\\n    columns={0: \\\"Warehouse\\\", 1: \\\"DistributionCenter\\\", 2: \\\"Scenario\\\", 3: \\\"Volumne_Sent\\\"}\\n)\\n\\ndf_stut = df_vals.loc[df_vals[\\\"Warehouse\\\"].str.contains(\\\"Stuttgart\\\")]\";\n                var nbb_formatted_code = \"output_dict = {}\\nfor i_x, variable_o in dist_ware_scen.items():\\n    output_dict[i_x] = variable_o.x\\n\\ndf_vals = pd.DataFrame([key + (var,) for key, var in output_dict.items()],).rename(\\n    columns={0: \\\"Warehouse\\\", 1: \\\"DistributionCenter\\\", 2: \\\"Scenario\\\", 3: \\\"Volumne_Sent\\\"}\\n)\\n\\ndf_stut = df_vals.loc[df_vals[\\\"Warehouse\\\"].str.contains(\\\"Stuttgart\\\")]\";\n                var nbb_cells = Jupyter.notebook.get_cells();\n                for (var i = 0; i < nbb_cells.length; ++i) {\n                    if (nbb_cells[i].input_prompt_number == nbb_cell_id) {\n                        if (nbb_cells[i].get_text() == nbb_unformatted_code) {\n                             nbb_cells[i].set_text(nbb_formatted_code);\n                        }\n                        break;\n                    }\n                }\n            }, 500);\n            ",
      "text/plain": [
       "<IPython.core.display.Javascript object>"
      ]
     },
     "metadata": {},
     "output_type": "display_data"
    }
   ],
   "source": [
    "output_dict = {}\n",
    "for i_x, variable_o in dist_ware_scen.items():\n",
    "    output_dict[i_x] = variable_o.x\n",
    "\n",
    "df_vals = pd.DataFrame([key + (var,) for key, var in output_dict.items()],).rename(\n",
    "    columns={0: \"Warehouse\", 1: \"DistributionCenter\", 2: \"Scenario\", 3: \"Volumne_Sent\"}\n",
    ")\n",
    "\n",
    "df_stut = df_vals.loc[df_vals[\"Warehouse\"].str.contains(\"Stuttgart\")]"
   ]
  },
  {
   "cell_type": "code",
   "execution_count": 31,
   "metadata": {},
   "outputs": [
    {
     "data": {
      "text/plain": [
       "1.5488"
      ]
     },
     "execution_count": 31,
     "metadata": {},
     "output_type": "execute_result"
    },
    {
     "data": {
      "application/javascript": "\n            setTimeout(function() {\n                var nbb_cell_id = 31;\n                var nbb_unformatted_code = \"stuttgart = []\\nfor _, value in Trasnportation_Costs.keys():\\n    stuttgart.append(Trasnportation_Costs[\\\"WH-Stuttgart\\\", value])\\n\\nround(np.sum(stuttgart) / len(stuttgart), 4)\";\n                var nbb_formatted_code = \"stuttgart = []\\nfor _, value in Trasnportation_Costs.keys():\\n    stuttgart.append(Trasnportation_Costs[\\\"WH-Stuttgart\\\", value])\\n\\nround(np.sum(stuttgart) / len(stuttgart), 4)\";\n                var nbb_cells = Jupyter.notebook.get_cells();\n                for (var i = 0; i < nbb_cells.length; ++i) {\n                    if (nbb_cells[i].input_prompt_number == nbb_cell_id) {\n                        if (nbb_cells[i].get_text() == nbb_unformatted_code) {\n                             nbb_cells[i].set_text(nbb_formatted_code);\n                        }\n                        break;\n                    }\n                }\n            }, 500);\n            ",
      "text/plain": [
       "<IPython.core.display.Javascript object>"
      ]
     },
     "metadata": {},
     "output_type": "display_data"
    }
   ],
   "source": [
    "stuttgart = []\n",
    "for _, value in Trasnportation_Costs.keys():\n",
    "    stuttgart.append(Trasnportation_Costs[\"WH-Stuttgart\", value])\n",
    "\n",
    "round(np.sum(stuttgart) / len(stuttgart), 4)"
   ]
  },
  {
   "cell_type": "code",
   "execution_count": 32,
   "metadata": {},
   "outputs": [
    {
     "data": {
      "text/html": [
       "<div>\n",
       "<style scoped>\n",
       "    .dataframe tbody tr th:only-of-type {\n",
       "        vertical-align: middle;\n",
       "    }\n",
       "\n",
       "    .dataframe tbody tr th {\n",
       "        vertical-align: top;\n",
       "    }\n",
       "\n",
       "    .dataframe thead th {\n",
       "        text-align: right;\n",
       "    }\n",
       "</style>\n",
       "<table border=\"1\" class=\"dataframe\">\n",
       "  <thead>\n",
       "    <tr style=\"text-align: right;\">\n",
       "      <th></th>\n",
       "      <th>Cost</th>\n",
       "    </tr>\n",
       "    <tr>\n",
       "      <th>Warehouse</th>\n",
       "      <th></th>\n",
       "    </tr>\n",
       "  </thead>\n",
       "  <tbody>\n",
       "    <tr>\n",
       "      <th>WH-Stuttgart</th>\n",
       "      <td>1.548780</td>\n",
       "    </tr>\n",
       "    <tr>\n",
       "      <th>WH-Charleroi</th>\n",
       "      <td>1.558537</td>\n",
       "    </tr>\n",
       "    <tr>\n",
       "      <th>WH-Bordeaux</th>\n",
       "      <td>1.673171</td>\n",
       "    </tr>\n",
       "    <tr>\n",
       "      <th>WH-Bristol</th>\n",
       "      <td>1.682927</td>\n",
       "    </tr>\n",
       "    <tr>\n",
       "      <th>WH-KrakÃ³w</th>\n",
       "      <td>1.734146</td>\n",
       "    </tr>\n",
       "    <tr>\n",
       "      <th>WH-Palma de Mallorca</th>\n",
       "      <td>1.795122</td>\n",
       "    </tr>\n",
       "    <tr>\n",
       "      <th>WH-Glasgow</th>\n",
       "      <td>1.814634</td>\n",
       "    </tr>\n",
       "    <tr>\n",
       "      <th>WH-Oslo</th>\n",
       "      <td>1.846341</td>\n",
       "    </tr>\n",
       "    <tr>\n",
       "      <th>WH-Hanover</th>\n",
       "      <td>1.860976</td>\n",
       "    </tr>\n",
       "    <tr>\n",
       "      <th>WH-Rhodes</th>\n",
       "      <td>1.870732</td>\n",
       "    </tr>\n",
       "    <tr>\n",
       "      <th>WH-Riga</th>\n",
       "      <td>1.926829</td>\n",
       "    </tr>\n",
       "    <tr>\n",
       "      <th>WH-Palermo</th>\n",
       "      <td>1.953659</td>\n",
       "    </tr>\n",
       "    <tr>\n",
       "      <th>WH-Pisa</th>\n",
       "      <td>1.965854</td>\n",
       "    </tr>\n",
       "    <tr>\n",
       "      <th>WH-Kyiv</th>\n",
       "      <td>2.056098</td>\n",
       "    </tr>\n",
       "    <tr>\n",
       "      <th>WH-MÃ¡laga</th>\n",
       "      <td>2.082927</td>\n",
       "    </tr>\n",
       "    <tr>\n",
       "      <th>WH-Liverpool</th>\n",
       "      <td>2.107317</td>\n",
       "    </tr>\n",
       "    <tr>\n",
       "      <th>WH-Seville</th>\n",
       "      <td>2.112195</td>\n",
       "    </tr>\n",
       "    <tr>\n",
       "      <th>WH-Faro</th>\n",
       "      <td>2.131707</td>\n",
       "    </tr>\n",
       "    <tr>\n",
       "      <th>WH-Athens</th>\n",
       "      <td>2.136585</td>\n",
       "    </tr>\n",
       "    <tr>\n",
       "      <th>WH-Katowice</th>\n",
       "      <td>2.221951</td>\n",
       "    </tr>\n",
       "    <tr>\n",
       "      <th>WH-Moscow</th>\n",
       "      <td>2.317073</td>\n",
       "    </tr>\n",
       "    <tr>\n",
       "      <th>WH-Heraklion</th>\n",
       "      <td>2.326829</td>\n",
       "    </tr>\n",
       "    <tr>\n",
       "      <th>WH-Krasnodar</th>\n",
       "      <td>2.987805</td>\n",
       "    </tr>\n",
       "  </tbody>\n",
       "</table>\n",
       "</div>"
      ],
      "text/plain": [
       "                          Cost\n",
       "Warehouse                     \n",
       "WH-Stuttgart          1.548780\n",
       "WH-Charleroi          1.558537\n",
       "WH-Bordeaux           1.673171\n",
       "WH-Bristol            1.682927\n",
       "WH-KrakÃ³w            1.734146\n",
       "WH-Palma de Mallorca  1.795122\n",
       "WH-Glasgow            1.814634\n",
       "WH-Oslo               1.846341\n",
       "WH-Hanover            1.860976\n",
       "WH-Rhodes             1.870732\n",
       "WH-Riga               1.926829\n",
       "WH-Palermo            1.953659\n",
       "WH-Pisa               1.965854\n",
       "WH-Kyiv               2.056098\n",
       "WH-MÃ¡laga            2.082927\n",
       "WH-Liverpool          2.107317\n",
       "WH-Seville            2.112195\n",
       "WH-Faro               2.131707\n",
       "WH-Athens             2.136585\n",
       "WH-Katowice           2.221951\n",
       "WH-Moscow             2.317073\n",
       "WH-Heraklion          2.326829\n",
       "WH-Krasnodar          2.987805"
      ]
     },
     "execution_count": 32,
     "metadata": {},
     "output_type": "execute_result"
    },
    {
     "data": {
      "application/javascript": "\n            setTimeout(function() {\n                var nbb_cell_id = 32;\n                var nbb_unformatted_code = \"df = pd.DataFrame([key + (var,) for key, var in Trasnportation_Costs.items()]).rename(\\n    columns={0: \\\"Warehouse\\\", 1: \\\"DistributionCenter\\\", 2: \\\"Cost\\\"}\\n)\\ndf.groupby(\\\"Warehouse\\\").agg({\\\"Cost\\\": \\\"mean\\\"}).sort_values(\\\"Cost\\\")\";\n                var nbb_formatted_code = \"df = pd.DataFrame([key + (var,) for key, var in Trasnportation_Costs.items()]).rename(\\n    columns={0: \\\"Warehouse\\\", 1: \\\"DistributionCenter\\\", 2: \\\"Cost\\\"}\\n)\\ndf.groupby(\\\"Warehouse\\\").agg({\\\"Cost\\\": \\\"mean\\\"}).sort_values(\\\"Cost\\\")\";\n                var nbb_cells = Jupyter.notebook.get_cells();\n                for (var i = 0; i < nbb_cells.length; ++i) {\n                    if (nbb_cells[i].input_prompt_number == nbb_cell_id) {\n                        if (nbb_cells[i].get_text() == nbb_unformatted_code) {\n                             nbb_cells[i].set_text(nbb_formatted_code);\n                        }\n                        break;\n                    }\n                }\n            }, 500);\n            ",
      "text/plain": [
       "<IPython.core.display.Javascript object>"
      ]
     },
     "metadata": {},
     "output_type": "display_data"
    }
   ],
   "source": [
    "df = pd.DataFrame([key + (var,) for key, var in Trasnportation_Costs.items()]).rename(\n",
    "    columns={0: \"Warehouse\", 1: \"DistributionCenter\", 2: \"Cost\"}\n",
    ")\n",
    "df.groupby(\"Warehouse\").agg({\"Cost\": \"mean\"}).sort_values(\"Cost\")"
   ]
  },
  {
   "cell_type": "code",
   "execution_count": 33,
   "metadata": {},
   "outputs": [
    {
     "data": {
      "text/plain": [
       "281633.11"
      ]
     },
     "execution_count": 33,
     "metadata": {},
     "output_type": "execute_result"
    },
    {
     "data": {
      "application/javascript": "\n            setTimeout(function() {\n                var nbb_cell_id = 33;\n                var nbb_unformatted_code = \"Demand.iloc[:, 1:].mean(axis=1).sum()\";\n                var nbb_formatted_code = \"Demand.iloc[:, 1:].mean(axis=1).sum()\";\n                var nbb_cells = Jupyter.notebook.get_cells();\n                for (var i = 0; i < nbb_cells.length; ++i) {\n                    if (nbb_cells[i].input_prompt_number == nbb_cell_id) {\n                        if (nbb_cells[i].get_text() == nbb_unformatted_code) {\n                             nbb_cells[i].set_text(nbb_formatted_code);\n                        }\n                        break;\n                    }\n                }\n            }, 500);\n            ",
      "text/plain": [
       "<IPython.core.display.Javascript object>"
      ]
     },
     "metadata": {},
     "output_type": "display_data"
    }
   ],
   "source": [
    "Demand.iloc[:, 1:].mean(axis=1).sum()"
   ]
  },
  {
   "cell_type": "code",
   "execution_count": 34,
   "metadata": {},
   "outputs": [
    {
     "data": {
      "image/png": "[encoded data removed]",
      "text/plain": [
       "<Figure size 1440x630 with 1 Axes>"
      ]
     },
     "metadata": {},
     "output_type": "display_data"
    },
    {
     "data": {
      "application/javascript": "\n            setTimeout(function() {\n                var nbb_cell_id = 34;\n                var nbb_unformatted_code = \"results = []\\nfor k, v in WareHProd_mod.items():\\n    results.append([k, v.X])\\nw_WaretDis = pd.DataFrame(results).rename(columns={0: \\\"Warehouse\\\", 1: \\\"WareDis\\\"})\\n\\nresults = []\\nfor k, v in dist_ware_scen.items():\\n    results.append([k[0], k[1], k[2], v.X])\\nd_WaretDis = pd.DataFrame(results).rename(\\n    columns={0: \\\"Warehouse\\\", 1: \\\"Distribution Center\\\", 2: \\\"Scenario\\\", 3: \\\"WaretDis\\\"}\\n)\\n\\ndcost = []\\nfor k, v in Trasnportation_Costs.items():\\n    dcost.append([k[0], k[1], v])\\ndcsot = pd.DataFrame(dcost).rename(\\n    columns={0: \\\"Warehouse\\\", 1: \\\"Distribution Center\\\", 2: \\\"cost\\\"}\\n)\\n\\nresults = []\\nfor k, v in soldd.items():\\n    results.append([k[0], k[1], v.X])\\nsold = pd.DataFrame(results, columns=[\\\"Distribution Center\\\", \\\"Scenario\\\", \\\"Sold\\\"])\\n\\nsold[\\\"revenue\\\"] = sold.Sold * 20\\nsold = sold.groupby([\\\"Scenario\\\"]).revenue.sum().reset_index()\\n\\nd_WaretDis = pd.merge(\\n    d_WaretDis, dcsot, on=[\\\"Warehouse\\\", \\\"Distribution Center\\\"], how=\\\"left\\\"\\n).rename(columns={0: \\\"Warehouse\\\", 1: \\\"Distribution Center\\\"})\\n\\n\\n\\nd_WaretDis[\\\"distributon_cost\\\"] = d_WaretDis.WaretDis * d_WaretDis.cost\\nd_WaretDis = d_WaretDis.groupby([\\\"Scenario\\\"]).distributon_cost.sum().reset_index()\\n\\nexpected_profit = pd.merge(\\n    left=sold, right=d_WaretDis, left_on=\\\"Scenario\\\", right_on=\\\"Scenario\\\"\\n)\\n\\nexpected_profit[\\\"expected_profit\\\"] = (\\n    expected_profit.revenue\\n    - 100000\\n    - w_WaretDis.max()[1] * 0.35\\n    - expected_profit.distributon_cost\\n    - 2784410\\n)\\n\\nexpected_profit[\\\"numbers\\\"] = expected_profit.Scenario.apply(\\n    lambda x: str(x).replace(\\\"S\\\", \\\"\\\")\\n)\\nexpected_profit = expected_profit.sort_values(by=\\\"numbers\\\", ascending=True).reset_index(\\n    drop=True\\n)\\n\\nexpected_profit[\\\"numbers\\\"] = expected_profit[\\\"numbers\\\"].astype(int)\\nexpected_profit.sort_values(by=\\\"numbers\\\", ascending=True, inplace=True)\\n\\nexpected_profit.drop(columns=[\\\"numbers\\\"], inplace=True)\\n\\nfig, ax = plt.subplots(figsize=(20, 8.75))\\nsns.set_theme()\\n\\nax.bar(data=expected_profit, x=\\\"Scenario\\\", height=\\\"expected_profit\\\")\\n\\nplt.xticks(rotation=90)\\nax.set_xlabel(\\\"Scenario\\\")\\nax.set_ylabel(\\\"Expected Profit\\\")\\n# ax.legend()\\nplt.show()\";\n                var nbb_formatted_code = \"results = []\\nfor k, v in WareHProd_mod.items():\\n    results.append([k, v.X])\\nw_WaretDis = pd.DataFrame(results).rename(columns={0: \\\"Warehouse\\\", 1: \\\"WareDis\\\"})\\n\\nresults = []\\nfor k, v in dist_ware_scen.items():\\n    results.append([k[0], k[1], k[2], v.X])\\nd_WaretDis = pd.DataFrame(results).rename(\\n    columns={0: \\\"Warehouse\\\", 1: \\\"Distribution Center\\\", 2: \\\"Scenario\\\", 3: \\\"WaretDis\\\"}\\n)\\n\\ndcost = []\\nfor k, v in Trasnportation_Costs.items():\\n    dcost.append([k[0], k[1], v])\\ndcsot = pd.DataFrame(dcost).rename(\\n    columns={0: \\\"Warehouse\\\", 1: \\\"Distribution Center\\\", 2: \\\"cost\\\"}\\n)\\n\\nresults = []\\nfor k, v in soldd.items():\\n    results.append([k[0], k[1], v.X])\\nsold = pd.DataFrame(results, columns=[\\\"Distribution Center\\\", \\\"Scenario\\\", \\\"Sold\\\"])\\n\\nsold[\\\"revenue\\\"] = sold.Sold * 20\\nsold = sold.groupby([\\\"Scenario\\\"]).revenue.sum().reset_index()\\n\\nd_WaretDis = pd.merge(\\n    d_WaretDis, dcsot, on=[\\\"Warehouse\\\", \\\"Distribution Center\\\"], how=\\\"left\\\"\\n).rename(columns={0: \\\"Warehouse\\\", 1: \\\"Distribution Center\\\"})\\n\\n\\nd_WaretDis[\\\"distributon_cost\\\"] = d_WaretDis.WaretDis * d_WaretDis.cost\\nd_WaretDis = d_WaretDis.groupby([\\\"Scenario\\\"]).distributon_cost.sum().reset_index()\\n\\nexpected_profit = pd.merge(\\n    left=sold, right=d_WaretDis, left_on=\\\"Scenario\\\", right_on=\\\"Scenario\\\"\\n)\\n\\nexpected_profit[\\\"expected_profit\\\"] = (\\n    expected_profit.revenue\\n    - 100000\\n    - w_WaretDis.max()[1] * 0.35\\n    - expected_profit.distributon_cost\\n    - 2784410\\n)\\n\\nexpected_profit[\\\"numbers\\\"] = expected_profit.Scenario.apply(\\n    lambda x: str(x).replace(\\\"S\\\", \\\"\\\")\\n)\\nexpected_profit = expected_profit.sort_values(by=\\\"numbers\\\", ascending=True).reset_index(\\n    drop=True\\n)\\n\\nexpected_profit[\\\"numbers\\\"] = expected_profit[\\\"numbers\\\"].astype(int)\\nexpected_profit.sort_values(by=\\\"numbers\\\", ascending=True, inplace=True)\\n\\nexpected_profit.drop(columns=[\\\"numbers\\\"], inplace=True)\\n\\nfig, ax = plt.subplots(figsize=(20, 8.75))\\nsns.set_theme()\\n\\nax.bar(data=expected_profit, x=\\\"Scenario\\\", height=\\\"expected_profit\\\")\\n\\nplt.xticks(rotation=90)\\nax.set_xlabel(\\\"Scenario\\\")\\nax.set_ylabel(\\\"Expected Profit\\\")\\n# ax.legend()\\nplt.show()\";\n                var nbb_cells = Jupyter.notebook.get_cells();\n                for (var i = 0; i < nbb_cells.length; ++i) {\n                    if (nbb_cells[i].input_prompt_number == nbb_cell_id) {\n                        if (nbb_cells[i].get_text() == nbb_unformatted_code) {\n                             nbb_cells[i].set_text(nbb_formatted_code);\n                        }\n                        break;\n                    }\n                }\n            }, 500);\n            ",
      "text/plain": [
       "<IPython.core.display.Javascript object>"
      ]
     },
     "metadata": {},
     "output_type": "display_data"
    }
   ],
   "source": [
    "results = []\n",
    "for k, v in WareHProd_mod.items():\n",
    "    results.append([k, v.X])\n",
    "w_WaretDis = pd.DataFrame(results).rename(columns={0: \"Warehouse\", 1: \"WareDis\"})\n",
    "\n",
    "results = []\n",
    "for k, v in dist_ware_scen.items():\n",
    "    results.append([k[0], k[1], k[2], v.X])\n",
    "d_WaretDis = pd.DataFrame(results).rename(\n",
    "    columns={0: \"Warehouse\", 1: \"Distribution Center\", 2: \"Scenario\", 3: \"WaretDis\"}\n",
    ")\n",
    "\n",
    "dcost = []\n",
    "for k, v in Trasnportation_Costs.items():\n",
    "    dcost.append([k[0], k[1], v])\n",
    "dcsot = pd.DataFrame(dcost).rename(\n",
    "    columns={0: \"Warehouse\", 1: \"Distribution Center\", 2: \"cost\"}\n",
    ")\n",
    "\n",
    "results = []\n",
    "for k, v in soldd.items():\n",
    "    results.append([k[0], k[1], v.X])\n",
    "sold = pd.DataFrame(results, columns=[\"Distribution Center\", \"Scenario\", \"Sold\"])\n",
    "\n",
    "sold[\"revenue\"] = sold.Sold * 20\n",
    "sold = sold.groupby([\"Scenario\"]).revenue.sum().reset_index()\n",
    "\n",
    "d_WaretDis = pd.merge(\n",
    "    d_WaretDis, dcsot, on=[\"Warehouse\", \"Distribution Center\"], how=\"left\"\n",
    ").rename(columns={0: \"Warehouse\", 1: \"Distribution Center\"})\n",
    "\n",
    "\n",
    "d_WaretDis[\"distributon_cost\"] = d_WaretDis.WaretDis * d_WaretDis.cost\n",
    "d_WaretDis = d_WaretDis.groupby([\"Scenario\"]).distributon_cost.sum().reset_index()\n",
    "\n",
    "expected_profit = pd.merge(\n",
    "    left=sold, right=d_WaretDis, left_on=\"Scenario\", right_on=\"Scenario\"\n",
    ")\n",
    "\n",
    "expected_profit[\"expected_profit\"] = (\n",
    "    expected_profit.revenue\n",
    "    - 100000\n",
    "    - w_WaretDis.max()[1] * 0.35\n",
    "    - expected_profit.distributon_cost\n",
    "    - 2784410\n",
    ")\n",
    "\n",
    "expected_profit[\"numbers\"] = expected_profit.Scenario.apply(\n",
    "    lambda x: str(x).replace(\"S\", \"\")\n",
    ")\n",
    "expected_profit = expected_profit.sort_values(by=\"numbers\", ascending=True).reset_index(\n",
    "    drop=True\n",
    ")\n",
    "\n",
    "expected_profit[\"numbers\"] = expected_profit[\"numbers\"].astype(int)\n",
    "expected_profit.sort_values(by=\"numbers\", ascending=True, inplace=True)\n",
    "\n",
    "expected_profit.drop(columns=[\"numbers\"], inplace=True)\n",
    "\n",
    "fig, ax = plt.subplots(figsize=(20, 8.75))\n",
    "sns.set_theme()\n",
    "\n",
    "ax.bar(data=expected_profit, x=\"Scenario\", height=\"expected_profit\")\n",
    "\n",
    "plt.xticks(rotation=90)\n",
    "ax.set_xlabel(\"Scenario\")\n",
    "ax.set_ylabel(\"Expected Profit\")\n",
    "# ax.legend()\n",
    "plt.show()"
   ]
  },
  {
   "cell_type": "code",
   "execution_count": 35,
   "metadata": {},
   "outputs": [
    {
     "data": {
      "application/vnd.plotly.v1+json": {
       "config": {
        "plotlyServerURL": "https://plot.ly"
       },
       "data": [
        {
         "alignmentgroup": "True",
         "hovertemplate": "scenario=%{x}<br>expected_profit=%{y}<extra></extra>",
         "legendgroup": "",
         "marker": {
          "color": "#636efa",
          "pattern": {
           "shape": ""
          }
         },
         "name": "",
         "offsetgroup": "",
         "orientation": "v",
         "showlegend": false,
         "textposition": "auto",
         "type": "bar",
         "x": [
          1,
          10,
          100,
          11,
          12,
          13,
          14,
          15,
          16,
          17,
          18,
          19,
          2,
          20,
          21,
          22,
          23,
          24,
          25,
          26,
          27,
          28,
          29,
          3,
          30,
          31,
          32,
          33,
          34,
          35,
          36,
          37,
          38,
          39,
          4,
          40,
          41,
          42,
          43,
          44,
          45,
          46,
          47,
          48,
          49,
          5,
          50,
          51,
          52,
          53,
          54,
          55,
          56,
          57,
          58,
          59,
          6,
          60,
          61,
          62,
          63,
          64,
          65,
          66,
          67,
          68,
          69,
          7,
          70,
          71,
          72,
          73,
          74,
          75,
          76,
          77,
          78,
          79,
          8,
          80,
          81,
          82,
          83,
          84,
          85,
          86,
          87,
          88,
          89,
          9,
          90,
          91,
          92,
          93,
          94,
          95,
          96,
          97,
          98,
          99
         ],
         "xaxis": "x",
         "y": [
          1612929.4500000002,
          1612921.5499999998,
          1615530.4500000002,
          1612921.15,
          1612919.9500000002,
          1612924.15,
          1612935.9500000002,
          1612934.85,
          1612918.0499999998,
          1612923.15,
          1612918.85,
          1612927.15,
          1612934.5499999998,
          1612920.85,
          1612936.85,
          1612922.85,
          1612929.9500000002,
          1612935.75,
          1612918.85,
          1612930.0499999998,
          1612936.9500000002,
          1612919.35,
          1612929.0499999998,
          1612927.35,
          1612926.35,
          1612932.85,
          1614224.85,
          1612921.0499999998,
          1613084.5499999998,
          1612931.4500000002,
          1612933.5499999998,
          1612921.65,
          1612929.0499999998,
          1612934.25,
          1612920.35,
          1612918.0499999998,
          1612923.75,
          1612931.65,
          1612918.35,
          1618420.4500000002,
          1612926.65,
          1612931.15,
          1612927.25,
          1612937.75,
          1612928.25,
          1612930.75,
          1612923.25,
          1612925.75,
          1612927.35,
          1612928.65,
          1612919.75,
          1612921.5499999998,
          1612916.9500000002,
          1612933.0499999998,
          1612931.9500000002,
          1612929.35,
          1612926.5499999998,
          1612937.0499999998,
          1612924.0499999998,
          1612918.25,
          1612932.65,
          1612926.0499999998,
          1612927.25,
          1612935.9500000002,
          1612917.85,
          1612925.4500000002,
          1612927.4500000002,
          1612918.35,
          1621135.25,
          1612924.35,
          1612936.0499999998,
          1612923.5499999998,
          1612922.75,
          1616181.75,
          1612920.4500000002,
          1612918.0499999998,
          1612921.65,
          1612934.0499999998,
          1612925.85,
          1612934.15,
          1612931.35,
          1612925.9500000002,
          1612930.4500000002,
          1612928.35,
          1612927.5499999998,
          1612930.85,
          1612929.65,
          1612933.4500000002,
          1612933.85,
          1613563.0499999998,
          1612934.25,
          1612933.85,
          1612918.4500000002,
          1612921.85,
          1612931.4500000002,
          1612926.25,
          1612921.9500000002,
          1612931.75,
          1612929.0499999998,
          1612934.75
         ],
         "yaxis": "y"
        }
       ],
       "layout": {
        "barmode": "relative",
        "legend": {
         "tracegroupgap": 0
        },
        "margin": {
         "t": 60
        },
        "template": {
         "data": {
          "bar": [
           {
            "error_x": {
             "color": "#2a3f5f"
            },
            "error_y": {
             "color": "#2a3f5f"
            },
            "marker": {
             "line": {
              "color": "#E5ECF6",
              "width": 0.5
             },
             "pattern": {
              "fillmode": "overlay",
              "size": 10,
              "solidity": 0.2
             }
            },
            "type": "bar"
           }
          ],
          "barpolar": [
           {
            "marker": {
             "line": {
              "color": "#E5ECF6",
              "width": 0.5
             },
             "pattern": {
              "fillmode": "overlay",
              "size": 10,
              "solidity": 0.2
             }
            },
            "type": "barpolar"
           }
          ],
          "carpet": [
           {
            "aaxis": {
             "endlinecolor": "#2a3f5f",
             "gridcolor": "white",
             "linecolor": "white",
             "minorgridcolor": "white",
             "startlinecolor": "#2a3f5f"
            },
            "baxis": {
             "endlinecolor": "#2a3f5f",
             "gridcolor": "white",
             "linecolor": "white",
             "minorgridcolor": "white",
             "startlinecolor": "#2a3f5f"
            },
            "type": "carpet"
           }
          ],
          "choropleth": [
           {
            "colorbar": {
             "outlinewidth": 0,
             "ticks": ""
            },
            "type": "choropleth"
           }
          ],
          "contour": [
           {
            "colorbar": {
             "outlinewidth": 0,
             "ticks": ""
            },
            "colorscale": [
             [
              0,
              "#0d0887"
             ],
             [
              0.1111111111111111,
              "#46039f"
             ],
             [
              0.2222222222222222,
              "#7201a8"
             ],
             [
              0.3333333333333333,
              "#9c179e"
             ],
             [
              0.4444444444444444,
              "#bd3786"
             ],
             [
              0.5555555555555556,
              "#d8576b"
             ],
             [
              0.6666666666666666,
              "#ed7953"
             ],
             [
              0.7777777777777778,
              "#fb9f3a"
             ],
             [
              0.8888888888888888,
              "#fdca26"
             ],
             [
              1,
              "#f0f921"
             ]
            ],
            "type": "contour"
           }
          ],
          "contourcarpet": [
           {
            "colorbar": {
             "outlinewidth": 0,
             "ticks": ""
            },
            "type": "contourcarpet"
           }
          ],
          "heatmap": [
           {
            "colorbar": {
             "outlinewidth": 0,
             "ticks": ""
            },
            "colorscale": [
             [
              0,
              "#0d0887"
             ],
             [
              0.1111111111111111,
              "#46039f"
             ],
             [
              0.2222222222222222,
              "#7201a8"
             ],
             [
              0.3333333333333333,
              "#9c179e"
             ],
             [
              0.4444444444444444,
              "#bd3786"
             ],
             [
              0.5555555555555556,
              "#d8576b"
             ],
             [
              0.6666666666666666,
              "#ed7953"
             ],
             [
              0.7777777777777778,
              "#fb9f3a"
             ],
             [
              0.8888888888888888,
              "#fdca26"
             ],
             [
              1,
              "#f0f921"
             ]
            ],
            "type": "heatmap"
           }
          ],
          "heatmapgl": [
           {
            "colorbar": {
             "outlinewidth": 0,
             "ticks": ""
            },
            "colorscale": [
             [
              0,
              "#0d0887"
             ],
             [
              0.1111111111111111,
              "#46039f"
             ],
             [
              0.2222222222222222,
              "#7201a8"
             ],
             [
              0.3333333333333333,
              "#9c179e"
             ],
             [
              0.4444444444444444,
              "#bd3786"
             ],
             [
              0.5555555555555556,
              "#d8576b"
             ],
             [
              0.6666666666666666,
              "#ed7953"
             ],
             [
              0.7777777777777778,
              "#fb9f3a"
             ],
             [
              0.8888888888888888,
              "#fdca26"
             ],
             [
              1,
              "#f0f921"
             ]
            ],
            "type": "heatmapgl"
           }
          ],
          "histogram": [
           {
            "marker": {
             "pattern": {
              "fillmode": "overlay",
              "size": 10,
              "solidity": 0.2
             }
            },
            "type": "histogram"
           }
          ],
          "histogram2d": [
           {
            "colorbar": {
             "outlinewidth": 0,
             "ticks": ""
            },
            "colorscale": [
             [
              0,
              "#0d0887"
             ],
             [
              0.1111111111111111,
              "#46039f"
             ],
             [
              0.2222222222222222,
              "#7201a8"
             ],
             [
              0.3333333333333333,
              "#9c179e"
             ],
             [
              0.4444444444444444,
              "#bd3786"
             ],
             [
              0.5555555555555556,
              "#d8576b"
             ],
             [
              0.6666666666666666,
              "#ed7953"
             ],
             [
              0.7777777777777778,
              "#fb9f3a"
             ],
             [
              0.8888888888888888,
              "#fdca26"
             ],
             [
              1,
              "#f0f921"
             ]
            ],
            "type": "histogram2d"
           }
          ],
          "histogram2dcontour": [
           {
            "colorbar": {
             "outlinewidth": 0,
             "ticks": ""
            },
            "colorscale": [
             [
              0,
              "#0d0887"
             ],
             [
              0.1111111111111111,
              "#46039f"
             ],
             [
              0.2222222222222222,
              "#7201a8"
             ],
             [
              0.3333333333333333,
              "#9c179e"
             ],
             [
              0.4444444444444444,
              "#bd3786"
             ],
             [
              0.5555555555555556,
              "#d8576b"
             ],
             [
              0.6666666666666666,
              "#ed7953"
             ],
             [
              0.7777777777777778,
              "#fb9f3a"
             ],
             [
              0.8888888888888888,
              "#fdca26"
             ],
             [
              1,
              "#f0f921"
             ]
            ],
            "type": "histogram2dcontour"
           }
          ],
          "mesh3d": [
           {
            "colorbar": {
             "outlinewidth": 0,
             "ticks": ""
            },
            "type": "mesh3d"
           }
          ],
          "parcoords": [
           {
            "line": {
             "colorbar": {
              "outlinewidth": 0,
              "ticks": ""
             }
            },
            "type": "parcoords"
           }
          ],
          "pie": [
           {
            "automargin": true,
            "type": "pie"
           }
          ],
          "scatter": [
           {
            "marker": {
             "colorbar": {
              "outlinewidth": 0,
              "ticks": ""
             }
            },
            "type": "scatter"
           }
          ],
          "scatter3d": [
           {
            "line": {
             "colorbar": {
              "outlinewidth": 0,
              "ticks": ""
             }
            },
            "marker": {
             "colorbar": {
              "outlinewidth": 0,
              "ticks": ""
             }
            },
            "type": "scatter3d"
           }
          ],
          "scattercarpet": [
           {
            "marker": {
             "colorbar": {
              "outlinewidth": 0,
              "ticks": ""
             }
            },
            "type": "scattercarpet"
           }
          ],
          "scattergeo": [
           {
            "marker": {
             "colorbar": {
              "outlinewidth": 0,
              "ticks": ""
             }
            },
            "type": "scattergeo"
           }
          ],
          "scattergl": [
           {
            "marker": {
             "colorbar": {
              "outlinewidth": 0,
              "ticks": ""
             }
            },
            "type": "scattergl"
           }
          ],
          "scattermapbox": [
           {
            "marker": {
             "colorbar": {
              "outlinewidth": 0,
              "ticks": ""
             }
            },
            "type": "scattermapbox"
           }
          ],
          "scatterpolar": [
           {
            "marker": {
             "colorbar": {
              "outlinewidth": 0,
              "ticks": ""
             }
            },
            "type": "scatterpolar"
           }
          ],
          "scatterpolargl": [
           {
            "marker": {
             "colorbar": {
              "outlinewidth": 0,
              "ticks": ""
             }
            },
            "type": "scatterpolargl"
           }
          ],
          "scatterternary": [
           {
            "marker": {
             "colorbar": {
              "outlinewidth": 0,
              "ticks": ""
             }
            },
            "type": "scatterternary"
           }
          ],
          "surface": [
           {
            "colorbar": {
             "outlinewidth": 0,
             "ticks": ""
            },
            "colorscale": [
             [
              0,
              "#0d0887"
             ],
             [
              0.1111111111111111,
              "#46039f"
             ],
             [
              0.2222222222222222,
              "#7201a8"
             ],
             [
              0.3333333333333333,
              "#9c179e"
             ],
             [
              0.4444444444444444,
              "#bd3786"
             ],
             [
              0.5555555555555556,
              "#d8576b"
             ],
             [
              0.6666666666666666,
              "#ed7953"
             ],
             [
              0.7777777777777778,
              "#fb9f3a"
             ],
             [
              0.8888888888888888,
              "#fdca26"
             ],
             [
              1,
              "#f0f921"
             ]
            ],
            "type": "surface"
           }
          ],
          "table": [
           {
            "cells": {
             "fill": {
              "color": "#EBF0F8"
             },
             "line": {
              "color": "white"
             }
            },
            "header": {
             "fill": {
              "color": "#C8D4E3"
             },
             "line": {
              "color": "white"
             }
            },
            "type": "table"
           }
          ]
         },
         "layout": {
          "annotationdefaults": {
           "arrowcolor": "#2a3f5f",
           "arrowhead": 0,
           "arrowwidth": 1
          },
          "autotypenumbers": "strict",
          "coloraxis": {
           "colorbar": {
            "outlinewidth": 0,
            "ticks": ""
           }
          },
          "colorscale": {
           "diverging": [
            [
             0,
             "#8e0152"
            ],
            [
             0.1,
             "#c51b7d"
            ],
            [
             0.2,
             "#de77ae"
            ],
            [
             0.3,
             "#f1b6da"
            ],
            [
             0.4,
             "#fde0ef"
            ],
            [
             0.5,
             "#f7f7f7"
            ],
            [
             0.6,
             "#e6f5d0"
            ],
            [
             0.7,
             "#b8e186"
            ],
            [
             0.8,
             "#7fbc41"
            ],
            [
             0.9,
             "#4d9221"
            ],
            [
             1,
             "#276419"
            ]
           ],
           "sequential": [
            [
             0,
             "#0d0887"
            ],
            [
             0.1111111111111111,
             "#46039f"
            ],
            [
             0.2222222222222222,
             "#7201a8"
            ],
            [
             0.3333333333333333,
             "#9c179e"
            ],
            [
             0.4444444444444444,
             "#bd3786"
            ],
            [
             0.5555555555555556,
             "#d8576b"
            ],
            [
             0.6666666666666666,
             "#ed7953"
            ],
            [
             0.7777777777777778,
             "#fb9f3a"
            ],
            [
             0.8888888888888888,
             "#fdca26"
            ],
            [
             1,
             "#f0f921"
            ]
           ],
           "sequentialminus": [
            [
             0,
             "#0d0887"
            ],
            [
             0.1111111111111111,
             "#46039f"
            ],
            [
             0.2222222222222222,
             "#7201a8"
            ],
            [
             0.3333333333333333,
             "#9c179e"
            ],
            [
             0.4444444444444444,
             "#bd3786"
            ],
            [
             0.5555555555555556,
             "#d8576b"
            ],
            [
             0.6666666666666666,
             "#ed7953"
            ],
            [
             0.7777777777777778,
             "#fb9f3a"
            ],
            [
             0.8888888888888888,
             "#fdca26"
            ],
            [
             1,
             "#f0f921"
            ]
           ]
          },
          "colorway": [
           "#636efa",
           "#EF553B",
           "#00cc96",
           "#ab63fa",
           "#FFA15A",
           "#19d3f3",
           "#FF6692",
           "#B6E880",
           "#FF97FF",
           "#FECB52"
          ],
          "font": {
           "color": "#2a3f5f"
          },
          "geo": {
           "bgcolor": "white",
           "lakecolor": "white",
           "landcolor": "#E5ECF6",
           "showlakes": true,
           "showland": true,
           "subunitcolor": "white"
          },
          "hoverlabel": {
           "align": "left"
          },
          "hovermode": "closest",
          "mapbox": {
           "style": "light"
          },
          "paper_bgcolor": "white",
          "plot_bgcolor": "#E5ECF6",
          "polar": {
           "angularaxis": {
            "gridcolor": "white",
            "linecolor": "white",
            "ticks": ""
           },
           "bgcolor": "#E5ECF6",
           "radialaxis": {
            "gridcolor": "white",
            "linecolor": "white",
            "ticks": ""
           }
          },
          "scene": {
           "xaxis": {
            "backgroundcolor": "#E5ECF6",
            "gridcolor": "white",
            "gridwidth": 2,
            "linecolor": "white",
            "showbackground": true,
            "ticks": "",
            "zerolinecolor": "white"
           },
           "yaxis": {
            "backgroundcolor": "#E5ECF6",
            "gridcolor": "white",
            "gridwidth": 2,
            "linecolor": "white",
            "showbackground": true,
            "ticks": "",
            "zerolinecolor": "white"
           },
           "zaxis": {
            "backgroundcolor": "#E5ECF6",
            "gridcolor": "white",
            "gridwidth": 2,
            "linecolor": "white",
            "showbackground": true,
            "ticks": "",
            "zerolinecolor": "white"
           }
          },
          "shapedefaults": {
           "line": {
            "color": "#2a3f5f"
           }
          },
          "ternary": {
           "aaxis": {
            "gridcolor": "white",
            "linecolor": "white",
            "ticks": ""
           },
           "baxis": {
            "gridcolor": "white",
            "linecolor": "white",
            "ticks": ""
           },
           "bgcolor": "#E5ECF6",
           "caxis": {
            "gridcolor": "white",
            "linecolor": "white",
            "ticks": ""
           }
          },
          "title": {
           "x": 0.05
          },
          "xaxis": {
           "automargin": true,
           "gridcolor": "white",
           "linecolor": "white",
           "ticks": "",
           "title": {
            "standoff": 15
           },
           "zerolinecolor": "white",
           "zerolinewidth": 2
          },
          "yaxis": {
           "automargin": true,
           "gridcolor": "white",
           "linecolor": "white",
           "ticks": "",
           "title": {
            "standoff": 15
           },
           "zerolinecolor": "white",
           "zerolinewidth": 2
          }
         }
        },
        "xaxis": {
         "anchor": "y",
         "domain": [
          0,
          1
         ],
         "title": {
          "text": "scenario"
         }
        },
        "yaxis": {
         "anchor": "x",
         "domain": [
          0,
          1
         ],
         "title": {
          "text": "expected_profit"
         }
        }
       }
      }
     },
     "metadata": {},
     "output_type": "display_data"
    },
    {
     "data": {
      "application/javascript": "\n            setTimeout(function() {\n                var nbb_cell_id = 35;\n                var nbb_unformatted_code = \"results = []\\nfor k, v in WareHProd_mod.items():\\n    results.append([k, v.X])\\nw_WaretDis = pd.DataFrame(results, columns=[\\\"Warehouse\\\", \\\"WaretDis\\\"])\\n\\nresults = []\\nfor k, v in dist_ware_scen.items():\\n    results.append([k[0], k[1], k[2], v.X])\\nd_WaretDis = pd.DataFrame(\\n    results, columns=[\\\"Warehouse\\\", \\\"Distribution Center\\\", \\\"Scenario\\\", \\\"WaretDis\\\"]\\n)\\n\\ndcost = []\\nfor k, v in Trasnportation_Costs.items():\\n    dcost.append([k[0], k[1], v])\\ndcsot = pd.DataFrame(dcost, columns=[\\\"Warehouse\\\", \\\"Distribution Center\\\", \\\"cost\\\"])\\n\\n\\nd_WaretDis = pd.merge(\\n    d_WaretDis, dcsot, on=[\\\"Warehouse\\\", \\\"Distribution Center\\\"], how=\\\"left\\\"\\n)\\n\\n# extract sold units\\nresults = []\\nfor k, v in soldd.items():\\n    results.append([k[0], k[1], v.X])\\nsold = pd.DataFrame(results, columns=[\\\"Distribution Center\\\", \\\"Scenario\\\", \\\"Sold\\\"])\\n\\ncost = 10\\nprofit = 20\\nfixed_cost = 100000\\n# Merge all\\nsold[\\\"sk_profit\\\"] = 20\\nsold[\\\"revenue\\\"] = sold.Sold * sold.sk_profit\\nsold = sold.groupby([\\\"Scenario\\\"]).revenue.sum().reset_index()\\n\\nd_WaretDis[\\\"distributon_cost\\\"] = d_WaretDis.WaretDis * d_WaretDis.cost\\nd_WaretDis = d_WaretDis.groupby([\\\"Scenario\\\"]).distributon_cost.sum().reset_index()\\n\\nexpected_profit = pd.merge(sold, d_WaretDis, on=\\\"Scenario\\\")\\nexpected_profit[\\\"fixed_cost\\\"] = fixed_cost\\nexpected_profit[\\\"warehouse_cost\\\"] = w_WaretDis.max()[1] * 0.35\\nexpected_profit[\\\"production_cost\\\"] = 278441 * 10\\n\\nexpected_profit[\\\"expected_profit\\\"] = expected_profit.revenue - (\\n    expected_profit.distributon_cost\\n    + expected_profit.fixed_cost\\n    + expected_profit.warehouse_cost\\n    + expected_profit[\\\"production_cost\\\"]\\n)\\nexpected_profit[\\\"second_stage_profit\\\"] = (\\n    expected_profit.revenue - expected_profit.distributon_cost\\n)\\n\\nexpected_profit.sort_values(\\\"revenue\\\")\\n\\n# Create plot\\nexpected_profit[\\\"scenario\\\"] = expected_profit.Scenario.apply(\\n    lambda x: str(x).replace(\\\"S\\\", \\\"\\\")\\n)\\nexpected_profit[\\\"scenario\\\"] = pd.to_numeric(expected_profit[\\\"scenario\\\"])\\n\\n# px.histogram(expected_profit, x = 'expected_profit')\\n\\npx.bar(expected_profit, x=\\\"scenario\\\", y=\\\"expected_profit\\\")\";\n                var nbb_formatted_code = \"results = []\\nfor k, v in WareHProd_mod.items():\\n    results.append([k, v.X])\\nw_WaretDis = pd.DataFrame(results, columns=[\\\"Warehouse\\\", \\\"WaretDis\\\"])\\n\\nresults = []\\nfor k, v in dist_ware_scen.items():\\n    results.append([k[0], k[1], k[2], v.X])\\nd_WaretDis = pd.DataFrame(\\n    results, columns=[\\\"Warehouse\\\", \\\"Distribution Center\\\", \\\"Scenario\\\", \\\"WaretDis\\\"]\\n)\\n\\ndcost = []\\nfor k, v in Trasnportation_Costs.items():\\n    dcost.append([k[0], k[1], v])\\ndcsot = pd.DataFrame(dcost, columns=[\\\"Warehouse\\\", \\\"Distribution Center\\\", \\\"cost\\\"])\\n\\n\\nd_WaretDis = pd.merge(\\n    d_WaretDis, dcsot, on=[\\\"Warehouse\\\", \\\"Distribution Center\\\"], how=\\\"left\\\"\\n)\\n\\n# extract sold units\\nresults = []\\nfor k, v in soldd.items():\\n    results.append([k[0], k[1], v.X])\\nsold = pd.DataFrame(results, columns=[\\\"Distribution Center\\\", \\\"Scenario\\\", \\\"Sold\\\"])\\n\\ncost = 10\\nprofit = 20\\nfixed_cost = 100000\\n# Merge all\\nsold[\\\"sk_profit\\\"] = 20\\nsold[\\\"revenue\\\"] = sold.Sold * sold.sk_profit\\nsold = sold.groupby([\\\"Scenario\\\"]).revenue.sum().reset_index()\\n\\nd_WaretDis[\\\"distributon_cost\\\"] = d_WaretDis.WaretDis * d_WaretDis.cost\\nd_WaretDis = d_WaretDis.groupby([\\\"Scenario\\\"]).distributon_cost.sum().reset_index()\\n\\nexpected_profit = pd.merge(sold, d_WaretDis, on=\\\"Scenario\\\")\\nexpected_profit[\\\"fixed_cost\\\"] = fixed_cost\\nexpected_profit[\\\"warehouse_cost\\\"] = w_WaretDis.max()[1] * 0.35\\nexpected_profit[\\\"production_cost\\\"] = 278441 * 10\\n\\nexpected_profit[\\\"expected_profit\\\"] = expected_profit.revenue - (\\n    expected_profit.distributon_cost\\n    + expected_profit.fixed_cost\\n    + expected_profit.warehouse_cost\\n    + expected_profit[\\\"production_cost\\\"]\\n)\\nexpected_profit[\\\"second_stage_profit\\\"] = (\\n    expected_profit.revenue - expected_profit.distributon_cost\\n)\\n\\nexpected_profit.sort_values(\\\"revenue\\\")\\n\\n# Create plot\\nexpected_profit[\\\"scenario\\\"] = expected_profit.Scenario.apply(\\n    lambda x: str(x).replace(\\\"S\\\", \\\"\\\")\\n)\\nexpected_profit[\\\"scenario\\\"] = pd.to_numeric(expected_profit[\\\"scenario\\\"])\\n\\n# px.histogram(expected_profit, x = 'expected_profit')\\n\\npx.bar(expected_profit, x=\\\"scenario\\\", y=\\\"expected_profit\\\")\";\n                var nbb_cells = Jupyter.notebook.get_cells();\n                for (var i = 0; i < nbb_cells.length; ++i) {\n                    if (nbb_cells[i].input_prompt_number == nbb_cell_id) {\n                        if (nbb_cells[i].get_text() == nbb_unformatted_code) {\n                             nbb_cells[i].set_text(nbb_formatted_code);\n                        }\n                        break;\n                    }\n                }\n            }, 500);\n            ",
      "text/plain": [
       "<IPython.core.display.Javascript object>"
      ]
     },
     "metadata": {},
     "output_type": "display_data"
    }
   ],
   "source": [
    "results = []\n",
    "for k, v in WareHProd_mod.items():\n",
    "    results.append([k, v.X])\n",
    "w_WaretDis = pd.DataFrame(results, columns=[\"Warehouse\", \"WaretDis\"])\n",
    "\n",
    "results = []\n",
    "for k, v in dist_ware_scen.items():\n",
    "    results.append([k[0], k[1], k[2], v.X])\n",
    "d_WaretDis = pd.DataFrame(\n",
    "    results, columns=[\"Warehouse\", \"Distribution Center\", \"Scenario\", \"WaretDis\"]\n",
    ")\n",
    "\n",
    "dcost = []\n",
    "for k, v in Trasnportation_Costs.items():\n",
    "    dcost.append([k[0], k[1], v])\n",
    "dcsot = pd.DataFrame(dcost, columns=[\"Warehouse\", \"Distribution Center\", \"cost\"])\n",
    "\n",
    "\n",
    "d_WaretDis = pd.merge(\n",
    "    d_WaretDis, dcsot, on=[\"Warehouse\", \"Distribution Center\"], how=\"left\"\n",
    ")\n",
    "\n",
    "# extract sold units\n",
    "results = []\n",
    "for k, v in soldd.items():\n",
    "    results.append([k[0], k[1], v.X])\n",
    "sold = pd.DataFrame(results, columns=[\"Distribution Center\", \"Scenario\", \"Sold\"])\n",
    "\n",
    "cost = 10\n",
    "profit = 20\n",
    "fixed_cost = 100000\n",
    "# Merge all\n",
    "sold[\"sk_profit\"] = 20\n",
    "sold[\"revenue\"] = sold.Sold * sold.sk_profit\n",
    "sold = sold.groupby([\"Scenario\"]).revenue.sum().reset_index()\n",
    "\n",
    "d_WaretDis[\"distributon_cost\"] = d_WaretDis.WaretDis * d_WaretDis.cost\n",
    "d_WaretDis = d_WaretDis.groupby([\"Scenario\"]).distributon_cost.sum().reset_index()\n",
    "\n",
    "expected_profit = pd.merge(sold, d_WaretDis, on=\"Scenario\")\n",
    "expected_profit[\"fixed_cost\"] = fixed_cost\n",
    "expected_profit[\"warehouse_cost\"] = w_WaretDis.max()[1] * 0.35\n",
    "expected_profit[\"production_cost\"] = 278441 * 10\n",
    "\n",
    "expected_profit[\"expected_profit\"] = expected_profit.revenue - (\n",
    "    expected_profit.distributon_cost\n",
    "    + expected_profit.fixed_cost\n",
    "    + expected_profit.warehouse_cost\n",
    "    + expected_profit[\"production_cost\"]\n",
    ")\n",
    "expected_profit[\"second_stage_profit\"] = (\n",
    "    expected_profit.revenue - expected_profit.distributon_cost\n",
    ")\n",
    "\n",
    "expected_profit.sort_values(\"revenue\")\n",
    "\n",
    "# Create plot\n",
    "expected_profit[\"scenario\"] = expected_profit.Scenario.apply(\n",
    "    lambda x: str(x).replace(\"S\", \"\")\n",
    ")\n",
    "expected_profit[\"scenario\"] = pd.to_numeric(expected_profit[\"scenario\"])\n",
    "\n",
    "# px.histogram(expected_profit, x = 'expected_profit')\n",
    "\n",
    "px.bar(expected_profit, x=\"scenario\", y=\"expected_profit\")"
   ]
  },
  {
   "cell_type": "code",
   "execution_count": 36,
   "metadata": {},
   "outputs": [
    {
     "data": {
      "text/html": [
       "<div>\n",
       "<style scoped>\n",
       "    .dataframe tbody tr th:only-of-type {\n",
       "        vertical-align: middle;\n",
       "    }\n",
       "\n",
       "    .dataframe tbody tr th {\n",
       "        vertical-align: top;\n",
       "    }\n",
       "\n",
       "    .dataframe thead th {\n",
       "        text-align: right;\n",
       "    }\n",
       "</style>\n",
       "<table border=\"1\" class=\"dataframe\">\n",
       "  <thead>\n",
       "    <tr style=\"text-align: right;\">\n",
       "      <th></th>\n",
       "      <th>Scenario</th>\n",
       "      <th>revenue</th>\n",
       "      <th>distributon_cost</th>\n",
       "      <th>fixed_cost</th>\n",
       "      <th>warehouse_cost</th>\n",
       "      <th>production_cost</th>\n",
       "      <th>expected_profit</th>\n",
       "      <th>second_stage_profit</th>\n",
       "      <th>scenario</th>\n",
       "    </tr>\n",
       "  </thead>\n",
       "  <tbody>\n",
       "    <tr>\n",
       "      <th>52</th>\n",
       "      <td>S56</td>\n",
       "      <td>4940660.0</td>\n",
       "      <td>356871.5</td>\n",
       "      <td>100000</td>\n",
       "      <td>86461.55</td>\n",
       "      <td>2784410</td>\n",
       "      <td>1612916.95</td>\n",
       "      <td>4583788.5</td>\n",
       "      <td>56</td>\n",
       "    </tr>\n",
       "  </tbody>\n",
       "</table>\n",
       "</div>"
      ],
      "text/plain": [
       "   Scenario    revenue  distributon_cost  fixed_cost  warehouse_cost  \\\n",
       "52      S56  4940660.0          356871.5      100000        86461.55   \n",
       "\n",
       "    production_cost  expected_profit  second_stage_profit  scenario  \n",
       "52          2784410       1612916.95            4583788.5        56  "
      ]
     },
     "execution_count": 36,
     "metadata": {},
     "output_type": "execute_result"
    },
    {
     "data": {
      "application/javascript": "\n            setTimeout(function() {\n                var nbb_cell_id = 36;\n                var nbb_unformatted_code = \"expected_profit[\\n    expected_profit.expected_profit == expected_profit.expected_profit.min()\\n]\";\n                var nbb_formatted_code = \"expected_profit[\\n    expected_profit.expected_profit == expected_profit.expected_profit.min()\\n]\";\n                var nbb_cells = Jupyter.notebook.get_cells();\n                for (var i = 0; i < nbb_cells.length; ++i) {\n                    if (nbb_cells[i].input_prompt_number == nbb_cell_id) {\n                        if (nbb_cells[i].get_text() == nbb_unformatted_code) {\n                             nbb_cells[i].set_text(nbb_formatted_code);\n                        }\n                        break;\n                    }\n                }\n            }, 500);\n            ",
      "text/plain": [
       "<IPython.core.display.Javascript object>"
      ]
     },
     "metadata": {},
     "output_type": "display_data"
    }
   ],
   "source": [
    "expected_profit[\n",
    "    expected_profit.expected_profit == expected_profit.expected_profit.min()\n",
    "]"
   ]
  }
 ],
 "metadata": {
  "kernelspec": {
   "display_name": "Python 3 (ipykernel)",
   "language": "python",
   "name": "python3"
  },
  "language_info": {
   "codemirror_mode": {
    "name": "ipython",
    "version": 3
   },
   "file_extension": ".py",
   "mimetype": "text/x-python",
   "name": "python",
   "nbconvert_exporter": "python",
   "pygments_lexer": "ipython3",
   "version": "3.9.12"
  },
  "vscode": {
   "interpreter": {
    "hash": "e966e82fb3c605e4fcb54f010c309953dd9ddd50bea9aabbece184eb44f987ff"
   }
  }
 },
 "nbformat": 4,
 "nbformat_minor": 2
}
