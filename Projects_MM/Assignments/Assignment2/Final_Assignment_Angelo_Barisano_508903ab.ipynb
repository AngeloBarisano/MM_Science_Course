{
 "cells": [
  {
   "cell_type": "code",
   "execution_count": 1,
   "metadata": {},
   "outputs": [
    {
     "data": {
      "application/javascript": "\n            setTimeout(function() {\n                var nbb_cell_id = 1;\n                var nbb_unformatted_code = \"from gurobipy import *\\nimport gurobipy as gp\\n\\n# type declaration\\nfrom typing import Dict, List\\n\\n\\nimport pandas as pd\\n\\nimport numpy as np\\n\\n%load_ext nb_black\\n%load_ext lab_black\\n\\nimport seaborn as sns\\n\\n# importing package\\nimport matplotlib.pyplot as plt\\n\\n%matplotlib inline\\n\\n\\nimport stargazer\";\n                var nbb_formatted_code = \"from gurobipy import *\\nimport gurobipy as gp\\n\\n# type declaration\\nfrom typing import Dict, List\\n\\n\\nimport pandas as pd\\n\\nimport numpy as np\\n\\n%load_ext nb_black\\n%load_ext lab_black\\n\\nimport seaborn as sns\\n\\n# importing package\\nimport matplotlib.pyplot as plt\\n\\n%matplotlib inline\\n\\n\\nimport stargazer\";\n                var nbb_cells = Jupyter.notebook.get_cells();\n                for (var i = 0; i < nbb_cells.length; ++i) {\n                    if (nbb_cells[i].input_prompt_number == nbb_cell_id) {\n                        if (nbb_cells[i].get_text() == nbb_unformatted_code) {\n                             nbb_cells[i].set_text(nbb_formatted_code);\n                        }\n                        break;\n                    }\n                }\n            }, 500);\n            ",
      "text/plain": [
       "<IPython.core.display.Javascript object>"
      ]
     },
     "metadata": {},
     "output_type": "display_data"
    }
   ],
   "source": [
    "from gurobipy import *\n",
    "import gurobipy as gp\n",
    "\n",
    "# type declaration\n",
    "from typing import Dict, List\n",
    "\n",
    "\n",
    "import pandas as pd\n",
    "\n",
    "import numpy as np\n",
    "\n",
    "%load_ext nb_black\n",
    "%load_ext lab_black\n",
    "\n",
    "import seaborn as sns\n",
    "\n",
    "# importing package\n",
    "import matplotlib.pyplot as plt\n",
    "\n",
    "%matplotlib inline\n",
    "\n",
    "\n",
    "import stargazer"
   ]
  },
  {
   "cell_type": "code",
   "execution_count": 2,
   "metadata": {},
   "outputs": [
    {
     "data": {
      "application/javascript": "\n            setTimeout(function() {\n                var nbb_cell_id = 2;\n                var nbb_unformatted_code = \"import random\\n\\nrandom.seed(42)\";\n                var nbb_formatted_code = \"import random\\n\\nrandom.seed(42)\";\n                var nbb_cells = Jupyter.notebook.get_cells();\n                for (var i = 0; i < nbb_cells.length; ++i) {\n                    if (nbb_cells[i].input_prompt_number == nbb_cell_id) {\n                        if (nbb_cells[i].get_text() == nbb_unformatted_code) {\n                             nbb_cells[i].set_text(nbb_formatted_code);\n                        }\n                        break;\n                    }\n                }\n            }, 500);\n            ",
      "text/plain": [
       "<IPython.core.display.Javascript object>"
      ]
     },
     "metadata": {},
     "output_type": "display_data"
    }
   ],
   "source": [
    "import random\n",
    "\n",
    "random.seed(42)"
   ]
  },
  {
   "cell_type": "markdown",
   "metadata": {},
   "source": [
    "# Q1"
   ]
  },
  {
   "cell_type": "code",
   "execution_count": 3,
   "metadata": {},
   "outputs": [
    {
     "data": {
      "application/javascript": "\n            setTimeout(function() {\n                var nbb_cell_id = 3;\n                var nbb_unformatted_code = \"dict_swimmers = {\\n    (\\\"N\\\", \\\"BA\\\"): 40.1,\\n    (\\\"N\\\", \\\"BR\\\"): 41.7,\\n    (\\\"N\\\", \\\"BU\\\"): 41.1,\\n    (\\\"N\\\", \\\"FR\\\"): 33.3,\\n    (\\\"M\\\", \\\"BA\\\"): 39.6,\\n    (\\\"M\\\", \\\"BR\\\"): 37.6,\\n    (\\\"M\\\", \\\"BU\\\"): 31.9,\\n    (\\\"M\\\", \\\"FR\\\"): 31.2,\\n    (\\\"L\\\", \\\"BA\\\"): 35.3,\\n    (\\\"L\\\", \\\"BR\\\"): 37.9,\\n    (\\\"L\\\", \\\"BU\\\"): 36.2,\\n    (\\\"L\\\", \\\"FR\\\"): 33.1,\\n    (\\\"A\\\", \\\"BA\\\"): 30.6,\\n    (\\\"A\\\", \\\"BR\\\"): 34.1,\\n    (\\\"A\\\", \\\"BU\\\"): 33.3,\\n    (\\\"A\\\", \\\"FR\\\"): 29.1,\\n    (\\\"C\\\", \\\"BA\\\"): 36.9,\\n    (\\\"C\\\", \\\"BR\\\"): 37.2,\\n    (\\\"C\\\", \\\"BU\\\"): 29.0,\\n    (\\\"C\\\", \\\"FR\\\"): 31.6,\\n}\\n\\ndict_swimmers_obj = [\\n    (\\\"N\\\", \\\"BA\\\"),\\n    (\\\"N\\\", \\\"BR\\\"),\\n    (\\\"N\\\", \\\"BU\\\"),\\n    (\\\"N\\\", \\\"FR\\\"),\\n    (\\\"M\\\", \\\"BA\\\"),\\n    (\\\"M\\\", \\\"BR\\\"),\\n    (\\\"M\\\", \\\"BU\\\"),\\n    (\\\"M\\\", \\\"FR\\\"),\\n    (\\\"L\\\", \\\"BA\\\"),\\n    (\\\"L\\\", \\\"BR\\\"),\\n    (\\\"L\\\", \\\"BU\\\"),\\n    (\\\"L\\\", \\\"FR\\\"),\\n    (\\\"A\\\", \\\"BA\\\"),\\n    (\\\"A\\\", \\\"BR\\\"),\\n    (\\\"A\\\", \\\"BU\\\"),\\n    (\\\"A\\\", \\\"FR\\\"),\\n    (\\\"C\\\", \\\"BA\\\"),\\n    (\\\"C\\\", \\\"BR\\\"),\\n    (\\\"C\\\", \\\"BU\\\"),\\n    (\\\"C\\\", \\\"FR\\\"),\\n]\\nnames_list = [\\\"N\\\", \\\"M\\\", \\\"L\\\", \\\"A\\\", \\\"C\\\"]\\ntypes_lanes = [\\\"BA\\\", \\\"BR\\\", \\\"BU\\\", \\\"FR\\\"]\";\n                var nbb_formatted_code = \"dict_swimmers = {\\n    (\\\"N\\\", \\\"BA\\\"): 40.1,\\n    (\\\"N\\\", \\\"BR\\\"): 41.7,\\n    (\\\"N\\\", \\\"BU\\\"): 41.1,\\n    (\\\"N\\\", \\\"FR\\\"): 33.3,\\n    (\\\"M\\\", \\\"BA\\\"): 39.6,\\n    (\\\"M\\\", \\\"BR\\\"): 37.6,\\n    (\\\"M\\\", \\\"BU\\\"): 31.9,\\n    (\\\"M\\\", \\\"FR\\\"): 31.2,\\n    (\\\"L\\\", \\\"BA\\\"): 35.3,\\n    (\\\"L\\\", \\\"BR\\\"): 37.9,\\n    (\\\"L\\\", \\\"BU\\\"): 36.2,\\n    (\\\"L\\\", \\\"FR\\\"): 33.1,\\n    (\\\"A\\\", \\\"BA\\\"): 30.6,\\n    (\\\"A\\\", \\\"BR\\\"): 34.1,\\n    (\\\"A\\\", \\\"BU\\\"): 33.3,\\n    (\\\"A\\\", \\\"FR\\\"): 29.1,\\n    (\\\"C\\\", \\\"BA\\\"): 36.9,\\n    (\\\"C\\\", \\\"BR\\\"): 37.2,\\n    (\\\"C\\\", \\\"BU\\\"): 29.0,\\n    (\\\"C\\\", \\\"FR\\\"): 31.6,\\n}\\n\\ndict_swimmers_obj = [\\n    (\\\"N\\\", \\\"BA\\\"),\\n    (\\\"N\\\", \\\"BR\\\"),\\n    (\\\"N\\\", \\\"BU\\\"),\\n    (\\\"N\\\", \\\"FR\\\"),\\n    (\\\"M\\\", \\\"BA\\\"),\\n    (\\\"M\\\", \\\"BR\\\"),\\n    (\\\"M\\\", \\\"BU\\\"),\\n    (\\\"M\\\", \\\"FR\\\"),\\n    (\\\"L\\\", \\\"BA\\\"),\\n    (\\\"L\\\", \\\"BR\\\"),\\n    (\\\"L\\\", \\\"BU\\\"),\\n    (\\\"L\\\", \\\"FR\\\"),\\n    (\\\"A\\\", \\\"BA\\\"),\\n    (\\\"A\\\", \\\"BR\\\"),\\n    (\\\"A\\\", \\\"BU\\\"),\\n    (\\\"A\\\", \\\"FR\\\"),\\n    (\\\"C\\\", \\\"BA\\\"),\\n    (\\\"C\\\", \\\"BR\\\"),\\n    (\\\"C\\\", \\\"BU\\\"),\\n    (\\\"C\\\", \\\"FR\\\"),\\n]\\nnames_list = [\\\"N\\\", \\\"M\\\", \\\"L\\\", \\\"A\\\", \\\"C\\\"]\\ntypes_lanes = [\\\"BA\\\", \\\"BR\\\", \\\"BU\\\", \\\"FR\\\"]\";\n                var nbb_cells = Jupyter.notebook.get_cells();\n                for (var i = 0; i < nbb_cells.length; ++i) {\n                    if (nbb_cells[i].input_prompt_number == nbb_cell_id) {\n                        if (nbb_cells[i].get_text() == nbb_unformatted_code) {\n                             nbb_cells[i].set_text(nbb_formatted_code);\n                        }\n                        break;\n                    }\n                }\n            }, 500);\n            ",
      "text/plain": [
       "<IPython.core.display.Javascript object>"
      ]
     },
     "metadata": {},
     "output_type": "display_data"
    }
   ],
   "source": [
    "dict_swimmers = {\n",
    "    (\"N\", \"BA\"): 40.1,\n",
    "    (\"N\", \"BR\"): 41.7,\n",
    "    (\"N\", \"BU\"): 41.1,\n",
    "    (\"N\", \"FR\"): 33.3,\n",
    "    (\"M\", \"BA\"): 39.6,\n",
    "    (\"M\", \"BR\"): 37.6,\n",
    "    (\"M\", \"BU\"): 31.9,\n",
    "    (\"M\", \"FR\"): 31.2,\n",
    "    (\"L\", \"BA\"): 35.3,\n",
    "    (\"L\", \"BR\"): 37.9,\n",
    "    (\"L\", \"BU\"): 36.2,\n",
    "    (\"L\", \"FR\"): 33.1,\n",
    "    (\"A\", \"BA\"): 30.6,\n",
    "    (\"A\", \"BR\"): 34.1,\n",
    "    (\"A\", \"BU\"): 33.3,\n",
    "    (\"A\", \"FR\"): 29.1,\n",
    "    (\"C\", \"BA\"): 36.9,\n",
    "    (\"C\", \"BR\"): 37.2,\n",
    "    (\"C\", \"BU\"): 29.0,\n",
    "    (\"C\", \"FR\"): 31.6,\n",
    "}\n",
    "\n",
    "dict_swimmers_obj = [\n",
    "    (\"N\", \"BA\"),\n",
    "    (\"N\", \"BR\"),\n",
    "    (\"N\", \"BU\"),\n",
    "    (\"N\", \"FR\"),\n",
    "    (\"M\", \"BA\"),\n",
    "    (\"M\", \"BR\"),\n",
    "    (\"M\", \"BU\"),\n",
    "    (\"M\", \"FR\"),\n",
    "    (\"L\", \"BA\"),\n",
    "    (\"L\", \"BR\"),\n",
    "    (\"L\", \"BU\"),\n",
    "    (\"L\", \"FR\"),\n",
    "    (\"A\", \"BA\"),\n",
    "    (\"A\", \"BR\"),\n",
    "    (\"A\", \"BU\"),\n",
    "    (\"A\", \"FR\"),\n",
    "    (\"C\", \"BA\"),\n",
    "    (\"C\", \"BR\"),\n",
    "    (\"C\", \"BU\"),\n",
    "    (\"C\", \"FR\"),\n",
    "]\n",
    "names_list = [\"N\", \"M\", \"L\", \"A\", \"C\"]\n",
    "types_lanes = [\"BA\", \"BR\", \"BU\", \"FR\"]"
   ]
  },
  {
   "cell_type": "code",
   "execution_count": 4,
   "metadata": {},
   "outputs": [
    {
     "name": "stdout",
     "output_type": "stream",
     "text": [
      "Set parameter Username\n",
      "Academic license - for non-commercial use only - expires 2023-11-10\n",
      "Gurobi Optimizer version 10.0.0 build v10.0.0rc2 (linux64)\n",
      "\n",
      "CPU model: 11th Gen Intel(R) Core(TM) i7-1165G7 @ 2.80GHz, instruction set [SSE2|AVX|AVX2|AVX512]\n",
      "Thread count: 4 physical cores, 8 logical processors, using up to 8 threads\n",
      "\n",
      "Optimize a model with 9 rows, 20 columns and 40 nonzeros\n",
      "Model fingerprint: 0x69b34e51\n",
      "Variable types: 0 continuous, 20 integer (20 binary)\n",
      "Coefficient statistics:\n",
      "  Matrix range     [1e+00, 1e+00]\n",
      "  Objective range  [3e+01, 4e+01]\n",
      "  Bounds range     [1e+00, 1e+00]\n",
      "  RHS range        [1e+00, 1e+00]\n",
      "Found heuristic solution: objective 136.3000000\n",
      "Presolve time: 0.00s\n",
      "Presolved: 9 rows, 20 columns, 40 nonzeros\n",
      "Variable types: 0 continuous, 20 integer (20 binary)\n",
      "Found heuristic solution: objective 135.8000000\n",
      "\n",
      "Root relaxation: objective 1.287000e+02, 8 iterations, 0.00 seconds (0.00 work units)\n",
      "\n",
      "    Nodes    |    Current Node    |     Objective Bounds      |     Work\n",
      " Expl Unexpl |  Obj  Depth IntInf | Incumbent    BestBd   Gap | It/Node Time\n",
      "\n",
      "*    0     0               0     128.7000000  128.70000  0.00%     -    0s\n",
      "\n",
      "Explored 1 nodes (8 simplex iterations) in 0.01 seconds (0.00 work units)\n",
      "Thread count was 8 (of 8 available processors)\n",
      "\n",
      "Solution count 3: 128.7 135.8 136.3 \n",
      "\n",
      "Optimal solution found (tolerance 1.00e-04)\n",
      "Best objective 1.287000000000e+02, best bound 1.287000000000e+02, gap 0.0000%\n",
      "optimal value 128.7\n",
      "\n",
      "    Variable            X \n",
      "-------------------------\n",
      "swimmers[M,FR]            1 \n",
      "swimmers[L,BR]            1 \n",
      "swimmers[A,BA]            1 \n",
      "swimmers[C,BU]            1 \n"
     ]
    },
    {
     "data": {
      "application/javascript": "\n            setTimeout(function() {\n                var nbb_cell_id = 4;\n                var nbb_unformatted_code = \"random.seed(42)\\nmodel = Model()\\nx = model.addVars(dict_swimmers, obj=dict_swimmers, vtype=GRB.BINARY, name=\\\"swimmers\\\")\\nmodel.ModelSense = gp.GRB.MINIMIZE\\n\\nmodel.addConstrs(gp.quicksum((x[(i, j)] for j in types_lanes)) <= 1 for i in names_list)\\n\\nfor j in types_lanes:\\n    model.addConstr(gp.quicksum((x[(i, j)] for i in names_list)) == 1)\\n\\nmodel.optimize()\\nprint(\\\"optimal value\\\", model.objval)\\nmodel.printAttr(\\\"X\\\")\";\n                var nbb_formatted_code = \"random.seed(42)\\nmodel = Model()\\nx = model.addVars(dict_swimmers, obj=dict_swimmers, vtype=GRB.BINARY, name=\\\"swimmers\\\")\\nmodel.ModelSense = gp.GRB.MINIMIZE\\n\\nmodel.addConstrs(gp.quicksum((x[(i, j)] for j in types_lanes)) <= 1 for i in names_list)\\n\\nfor j in types_lanes:\\n    model.addConstr(gp.quicksum((x[(i, j)] for i in names_list)) == 1)\\n\\nmodel.optimize()\\nprint(\\\"optimal value\\\", model.objval)\\nmodel.printAttr(\\\"X\\\")\";\n                var nbb_cells = Jupyter.notebook.get_cells();\n                for (var i = 0; i < nbb_cells.length; ++i) {\n                    if (nbb_cells[i].input_prompt_number == nbb_cell_id) {\n                        if (nbb_cells[i].get_text() == nbb_unformatted_code) {\n                             nbb_cells[i].set_text(nbb_formatted_code);\n                        }\n                        break;\n                    }\n                }\n            }, 500);\n            ",
      "text/plain": [
       "<IPython.core.display.Javascript object>"
      ]
     },
     "metadata": {},
     "output_type": "display_data"
    }
   ],
   "source": [
    "random.seed(42)\n",
    "model = Model()\n",
    "x = model.addVars(dict_swimmers, obj=dict_swimmers, vtype=GRB.BINARY, name=\"swimmers\")\n",
    "model.ModelSense = gp.GRB.MINIMIZE\n",
    "\n",
    "model.addConstrs(gp.quicksum((x[(i, j)] for j in types_lanes)) <= 1 for i in names_list)\n",
    "\n",
    "for j in types_lanes:\n",
    "    model.addConstr(gp.quicksum((x[(i, j)] for i in names_list)) == 1)\n",
    "\n",
    "model.optimize()\n",
    "print(\"optimal value\", model.objval)\n",
    "model.printAttr(\"X\")"
   ]
  },
  {
   "cell_type": "markdown",
   "metadata": {},
   "source": [
    "# Q2a Standard Capacity allocation problem\n",
    "\n",
    "Use simulation to determine the optimal booking policy to maximize expected revenue: for every booking limit between 20 and 80, simulate 10000 paths and compute the expected revenue. Plot the expected revenue as a function of the booking limit. (30 points)\n",
    "\n",
    "\n",
    "\n"
   ]
  },
  {
   "cell_type": "code",
   "execution_count": 5,
   "metadata": {},
   "outputs": [
    {
     "data": {
      "application/javascript": "\n            setTimeout(function() {\n                var nbb_cell_id = 5;\n                var nbb_unformatted_code = \"random.seed(42)\\nlam_customerP1 = np.random.poisson(lam=75, size=10000)\\nlam_customerP2 = np.random.poisson(lam=50, size=10000)\\n\\nprofit = []\\nfor lim in list(range(20, 81)):\\n    salePeriod1 = np.where(lam_customerP1 <= lim, lam_customerP1, lim)\\n    ticketsLeft = 100 - salePeriod1\\n    salePeriod2 = np.where(lam_customerP2 > ticketsLeft, ticketsLeft, lam_customerP2)\\n    revenues = 150 * salePeriod1 + 500 * salePeriod2\\n    profit.append([lim, np.mean(revenues)])\";\n                var nbb_formatted_code = \"random.seed(42)\\nlam_customerP1 = np.random.poisson(lam=75, size=10000)\\nlam_customerP2 = np.random.poisson(lam=50, size=10000)\\n\\nprofit = []\\nfor lim in list(range(20, 81)):\\n    salePeriod1 = np.where(lam_customerP1 <= lim, lam_customerP1, lim)\\n    ticketsLeft = 100 - salePeriod1\\n    salePeriod2 = np.where(lam_customerP2 > ticketsLeft, ticketsLeft, lam_customerP2)\\n    revenues = 150 * salePeriod1 + 500 * salePeriod2\\n    profit.append([lim, np.mean(revenues)])\";\n                var nbb_cells = Jupyter.notebook.get_cells();\n                for (var i = 0; i < nbb_cells.length; ++i) {\n                    if (nbb_cells[i].input_prompt_number == nbb_cell_id) {\n                        if (nbb_cells[i].get_text() == nbb_unformatted_code) {\n                             nbb_cells[i].set_text(nbb_formatted_code);\n                        }\n                        break;\n                    }\n                }\n            }, 500);\n            ",
      "text/plain": [
       "<IPython.core.display.Javascript object>"
      ]
     },
     "metadata": {},
     "output_type": "display_data"
    }
   ],
   "source": [
    "random.seed(42)\n",
    "lam_customerP1 = np.random.poisson(lam=75, size=10000)\n",
    "lam_customerP2 = np.random.poisson(lam=50, size=10000)\n",
    "\n",
    "profit = []\n",
    "for lim in list(range(20, 81)):\n",
    "    salePeriod1 = np.where(lam_customerP1 <= lim, lam_customerP1, lim)\n",
    "    ticketsLeft = 100 - salePeriod1\n",
    "    salePeriod2 = np.where(lam_customerP2 > ticketsLeft, ticketsLeft, lam_customerP2)\n",
    "    revenues = 150 * salePeriod1 + 500 * salePeriod2\n",
    "    profit.append([lim, np.mean(revenues)])"
   ]
  },
  {
   "cell_type": "code",
   "execution_count": 6,
   "metadata": {},
   "outputs": [
    {
     "data": {
      "application/javascript": "\n            setTimeout(function() {\n                var nbb_cell_id = 6;\n                var nbb_unformatted_code = \"df_profit = pd.DataFrame(profit, columns=[\\\"Alpha\\\", \\\"Expected Revenue\\\"])\";\n                var nbb_formatted_code = \"df_profit = pd.DataFrame(profit, columns=[\\\"Alpha\\\", \\\"Expected Revenue\\\"])\";\n                var nbb_cells = Jupyter.notebook.get_cells();\n                for (var i = 0; i < nbb_cells.length; ++i) {\n                    if (nbb_cells[i].input_prompt_number == nbb_cell_id) {\n                        if (nbb_cells[i].get_text() == nbb_unformatted_code) {\n                             nbb_cells[i].set_text(nbb_formatted_code);\n                        }\n                        break;\n                    }\n                }\n            }, 500);\n            ",
      "text/plain": [
       "<IPython.core.display.Javascript object>"
      ]
     },
     "metadata": {},
     "output_type": "display_data"
    }
   ],
   "source": [
    "df_profit = pd.DataFrame(profit, columns=[\"Alpha\", \"Expected Revenue\"])"
   ]
  },
  {
   "cell_type": "code",
   "execution_count": 7,
   "metadata": {},
   "outputs": [
    {
     "data": {
      "image/png": "[encoded data removed]",
      "text/plain": [
       "<Figure size 1080x540 with 1 Axes>"
      ]
     },
     "metadata": {},
     "output_type": "display_data"
    },
    {
     "data": {
      "application/javascript": "\n            setTimeout(function() {\n                var nbb_cell_id = 7;\n                var nbb_unformatted_code = \"sns.set_theme()\\nfig, ax = plt.subplots(figsize=(15, 7.5))\\nplt.plot(df_profit[\\\"Alpha\\\"], df_profit[\\\"Expected Revenue\\\"], label=\\\"line 1\\\")\\nplt.title(\\\"Expected Revenue By Booking Limit\\\")\\nplt.xlabel(\\\"Booking Limit\\\")\\nplt.ylabel(\\\"Expected Profit\\\")\\n\\nplt.show()\";\n                var nbb_formatted_code = \"sns.set_theme()\\nfig, ax = plt.subplots(figsize=(15, 7.5))\\nplt.plot(df_profit[\\\"Alpha\\\"], df_profit[\\\"Expected Revenue\\\"], label=\\\"line 1\\\")\\nplt.title(\\\"Expected Revenue By Booking Limit\\\")\\nplt.xlabel(\\\"Booking Limit\\\")\\nplt.ylabel(\\\"Expected Profit\\\")\\n\\nplt.show()\";\n                var nbb_cells = Jupyter.notebook.get_cells();\n                for (var i = 0; i < nbb_cells.length; ++i) {\n                    if (nbb_cells[i].input_prompt_number == nbb_cell_id) {\n                        if (nbb_cells[i].get_text() == nbb_unformatted_code) {\n                             nbb_cells[i].set_text(nbb_formatted_code);\n                        }\n                        break;\n                    }\n                }\n            }, 500);\n            ",
      "text/plain": [
       "<IPython.core.display.Javascript object>"
      ]
     },
     "metadata": {},
     "output_type": "display_data"
    }
   ],
   "source": [
    "sns.set_theme()\n",
    "fig, ax = plt.subplots(figsize=(15, 7.5))\n",
    "plt.plot(df_profit[\"Alpha\"], df_profit[\"Expected Revenue\"], label=\"line 1\")\n",
    "plt.title(\"Expected Revenue By Booking Limit\")\n",
    "plt.xlabel(\"Booking Limit\")\n",
    "plt.ylabel(\"Expected Profit\")\n",
    "\n",
    "plt.show()"
   ]
  },
  {
   "cell_type": "code",
   "execution_count": 8,
   "metadata": {},
   "outputs": [
    {
     "data": {
      "text/html": [
       "<div>\n",
       "<style scoped>\n",
       "    .dataframe tbody tr th:only-of-type {\n",
       "        vertical-align: middle;\n",
       "    }\n",
       "\n",
       "    .dataframe tbody tr th {\n",
       "        vertical-align: top;\n",
       "    }\n",
       "\n",
       "    .dataframe thead th {\n",
       "        text-align: right;\n",
       "    }\n",
       "</style>\n",
       "<table border=\"1\" class=\"dataframe\">\n",
       "  <thead>\n",
       "    <tr style=\"text-align: right;\">\n",
       "      <th></th>\n",
       "      <th>Alpha</th>\n",
       "      <th>Expected Revenue</th>\n",
       "    </tr>\n",
       "  </thead>\n",
       "  <tbody>\n",
       "    <tr>\n",
       "      <th>26</th>\n",
       "      <td>46</td>\n",
       "      <td>31215.390</td>\n",
       "    </tr>\n",
       "    <tr>\n",
       "      <th>27</th>\n",
       "      <td>47</td>\n",
       "      <td>31213.965</td>\n",
       "    </tr>\n",
       "    <tr>\n",
       "      <th>25</th>\n",
       "      <td>45</td>\n",
       "      <td>31192.570</td>\n",
       "    </tr>\n",
       "    <tr>\n",
       "      <th>28</th>\n",
       "      <td>48</td>\n",
       "      <td>31186.645</td>\n",
       "    </tr>\n",
       "    <tr>\n",
       "      <th>24</th>\n",
       "      <td>44</td>\n",
       "      <td>31149.085</td>\n",
       "    </tr>\n",
       "    <tr>\n",
       "      <th>...</th>\n",
       "      <td>...</td>\n",
       "      <td>...</td>\n",
       "    </tr>\n",
       "    <tr>\n",
       "      <th>56</th>\n",
       "      <td>76</td>\n",
       "      <td>24779.160</td>\n",
       "    </tr>\n",
       "    <tr>\n",
       "      <th>57</th>\n",
       "      <td>77</td>\n",
       "      <td>24632.125</td>\n",
       "    </tr>\n",
       "    <tr>\n",
       "      <th>58</th>\n",
       "      <td>78</td>\n",
       "      <td>24499.370</td>\n",
       "    </tr>\n",
       "    <tr>\n",
       "      <th>59</th>\n",
       "      <td>79</td>\n",
       "      <td>24382.085</td>\n",
       "    </tr>\n",
       "    <tr>\n",
       "      <th>60</th>\n",
       "      <td>80</td>\n",
       "      <td>24278.975</td>\n",
       "    </tr>\n",
       "  </tbody>\n",
       "</table>\n",
       "<p>61 rows × 2 columns</p>\n",
       "</div>"
      ],
      "text/plain": [
       "    Alpha  Expected Revenue\n",
       "26     46         31215.390\n",
       "27     47         31213.965\n",
       "25     45         31192.570\n",
       "28     48         31186.645\n",
       "24     44         31149.085\n",
       "..    ...               ...\n",
       "56     76         24779.160\n",
       "57     77         24632.125\n",
       "58     78         24499.370\n",
       "59     79         24382.085\n",
       "60     80         24278.975\n",
       "\n",
       "[61 rows x 2 columns]"
      ]
     },
     "execution_count": 8,
     "metadata": {},
     "output_type": "execute_result"
    },
    {
     "data": {
      "application/javascript": "\n            setTimeout(function() {\n                var nbb_cell_id = 8;\n                var nbb_unformatted_code = \"df_profit.sort_values(by=\\\"Expected Revenue\\\", ascending=False)\";\n                var nbb_formatted_code = \"df_profit.sort_values(by=\\\"Expected Revenue\\\", ascending=False)\";\n                var nbb_cells = Jupyter.notebook.get_cells();\n                for (var i = 0; i < nbb_cells.length; ++i) {\n                    if (nbb_cells[i].input_prompt_number == nbb_cell_id) {\n                        if (nbb_cells[i].get_text() == nbb_unformatted_code) {\n                             nbb_cells[i].set_text(nbb_formatted_code);\n                        }\n                        break;\n                    }\n                }\n            }, 500);\n            ",
      "text/plain": [
       "<IPython.core.display.Javascript object>"
      ]
     },
     "metadata": {},
     "output_type": "display_data"
    }
   ],
   "source": [
    "df_profit.sort_values(by=\"Expected Revenue\", ascending=False)"
   ]
  },
  {
   "cell_type": "markdown",
   "metadata": {},
   "source": [
    "# Q2b"
   ]
  },
  {
   "cell_type": "code",
   "execution_count": 9,
   "metadata": {},
   "outputs": [
    {
     "data": {
      "application/javascript": "\n            setTimeout(function() {\n                var nbb_cell_id = 9;\n                var nbb_unformatted_code = \"lam_customerP1 = np.random.poisson(lam=75, size=10000)\\nlam_customerP2 = np.random.poisson(lam=50, size=10000)\\n\\nprofit = []\\nfor alpha in list(range(20, 81)):\\n    for prp in list(range(150, 301)):\\n        # draw customer numbers period 1\\n        paying_customers_p1 = np.where(lam_customerP1 <= alpha, lam_customerP1, alpha)\\n\\n        # define the number of seats available after period 1 sales\\n        n_seats = 100 - paying_customers_p1\\n\\n        # Define the shortage in saeats based on period 2 demans\\n        period2_shortage = np.where(\\n            n_seats < lam_customerP2, lam_customerP2 - n_seats, 0\\n        )\\n\\n        # draw how many custoemrs want to be refunded\\n        refunded = np.random.binomial(paying_customers_p1, ((prp - 150) / 150), 10000)\\n        period1_refunds = np.where(\\n            refunded >= period2_shortage, period2_shortage, refunded\\n        )\\n\\n        # fetch the number of seats\\n        n_seats_new = n_seats + period1_refunds\\n\\n        # paying_customers_p1 -= period1_refunds\\n\\n        paying_customers_p2 = np.where(\\n            lam_customerP2 > n_seats_new, n_seats_new, lam_customerP2\\n        )\\n\\n        # expected revenue\\n        exprevenue = (\\n            ((paying_customers_p1 - period1_refunds) * 150) - (period1_refunds * prp)\\n        ) + (paying_customers_p2 * 500)\\n\\n        # save the results\\n        profit.append([alpha, prp, np.mean(exprevenue)])\";\n                var nbb_formatted_code = \"lam_customerP1 = np.random.poisson(lam=75, size=10000)\\nlam_customerP2 = np.random.poisson(lam=50, size=10000)\\n\\nprofit = []\\nfor alpha in list(range(20, 81)):\\n    for prp in list(range(150, 301)):\\n        # draw customer numbers period 1\\n        paying_customers_p1 = np.where(lam_customerP1 <= alpha, lam_customerP1, alpha)\\n\\n        # define the number of seats available after period 1 sales\\n        n_seats = 100 - paying_customers_p1\\n\\n        # Define the shortage in saeats based on period 2 demans\\n        period2_shortage = np.where(\\n            n_seats < lam_customerP2, lam_customerP2 - n_seats, 0\\n        )\\n\\n        # draw how many custoemrs want to be refunded\\n        refunded = np.random.binomial(paying_customers_p1, ((prp - 150) / 150), 10000)\\n        period1_refunds = np.where(\\n            refunded >= period2_shortage, period2_shortage, refunded\\n        )\\n\\n        # fetch the number of seats\\n        n_seats_new = n_seats + period1_refunds\\n\\n        # paying_customers_p1 -= period1_refunds\\n\\n        paying_customers_p2 = np.where(\\n            lam_customerP2 > n_seats_new, n_seats_new, lam_customerP2\\n        )\\n\\n        # expected revenue\\n        exprevenue = (\\n            ((paying_customers_p1 - period1_refunds) * 150) - (period1_refunds * prp)\\n        ) + (paying_customers_p2 * 500)\\n\\n        # save the results\\n        profit.append([alpha, prp, np.mean(exprevenue)])\";\n                var nbb_cells = Jupyter.notebook.get_cells();\n                for (var i = 0; i < nbb_cells.length; ++i) {\n                    if (nbb_cells[i].input_prompt_number == nbb_cell_id) {\n                        if (nbb_cells[i].get_text() == nbb_unformatted_code) {\n                             nbb_cells[i].set_text(nbb_formatted_code);\n                        }\n                        break;\n                    }\n                }\n            }, 500);\n            ",
      "text/plain": [
       "<IPython.core.display.Javascript object>"
      ]
     },
     "metadata": {},
     "output_type": "display_data"
    }
   ],
   "source": [
    "lam_customerP1 = np.random.poisson(lam=75, size=10000)\n",
    "lam_customerP2 = np.random.poisson(lam=50, size=10000)\n",
    "\n",
    "profit = []\n",
    "for alpha in list(range(20, 81)):\n",
    "    for prp in list(range(150, 301)):\n",
    "        # draw customer numbers period 1\n",
    "        paying_customers_p1 = np.where(lam_customerP1 <= alpha, lam_customerP1, alpha)\n",
    "\n",
    "        # define the number of seats available after period 1 sales\n",
    "        n_seats = 100 - paying_customers_p1\n",
    "\n",
    "        # Define the shortage in saeats based on period 2 demans\n",
    "        period2_shortage = np.where(\n",
    "            n_seats < lam_customerP2, lam_customerP2 - n_seats, 0\n",
    "        )\n",
    "\n",
    "        # draw how many custoemrs want to be refunded\n",
    "        refunded = np.random.binomial(paying_customers_p1, ((prp - 150) / 150), 10000)\n",
    "        period1_refunds = np.where(\n",
    "            refunded >= period2_shortage, period2_shortage, refunded\n",
    "        )\n",
    "\n",
    "        # fetch the number of seats\n",
    "        n_seats_new = n_seats + period1_refunds\n",
    "\n",
    "        # paying_customers_p1 -= period1_refunds\n",
    "\n",
    "        paying_customers_p2 = np.where(\n",
    "            lam_customerP2 > n_seats_new, n_seats_new, lam_customerP2\n",
    "        )\n",
    "\n",
    "        # expected revenue\n",
    "        exprevenue = (\n",
    "            ((paying_customers_p1 - period1_refunds) * 150) - (period1_refunds * prp)\n",
    "        ) + (paying_customers_p2 * 500)\n",
    "\n",
    "        # save the results\n",
    "        profit.append([alpha, prp, np.mean(exprevenue)])"
   ]
  },
  {
   "cell_type": "code",
   "execution_count": 10,
   "metadata": {},
   "outputs": [
    {
     "data": {
      "application/javascript": "\n            setTimeout(function() {\n                var nbb_cell_id = 10;\n                var nbb_unformatted_code = \"df_profit_2 = pd.DataFrame(\\n    profit, columns=[\\\"Alpha\\\", \\\"Refunded Tickets\\\", \\\"Expected Revenue\\\"]\\n)\\n\\ndf_profit_2_max = df_profit_2.loc[\\n    df_profit_2.groupby([\\\"Alpha\\\"])[\\\"Expected Revenue\\\"].idxmax()\\n]\\n\\n\\ndf_profit_2_min = df_profit_2.loc[\\n    df_profit_2.groupby([\\\"Alpha\\\"])[\\\"Expected Revenue\\\"].idxmin()\\n]\";\n                var nbb_formatted_code = \"df_profit_2 = pd.DataFrame(\\n    profit, columns=[\\\"Alpha\\\", \\\"Refunded Tickets\\\", \\\"Expected Revenue\\\"]\\n)\\n\\ndf_profit_2_max = df_profit_2.loc[\\n    df_profit_2.groupby([\\\"Alpha\\\"])[\\\"Expected Revenue\\\"].idxmax()\\n]\\n\\n\\ndf_profit_2_min = df_profit_2.loc[\\n    df_profit_2.groupby([\\\"Alpha\\\"])[\\\"Expected Revenue\\\"].idxmin()\\n]\";\n                var nbb_cells = Jupyter.notebook.get_cells();\n                for (var i = 0; i < nbb_cells.length; ++i) {\n                    if (nbb_cells[i].input_prompt_number == nbb_cell_id) {\n                        if (nbb_cells[i].get_text() == nbb_unformatted_code) {\n                             nbb_cells[i].set_text(nbb_formatted_code);\n                        }\n                        break;\n                    }\n                }\n            }, 500);\n            ",
      "text/plain": [
       "<IPython.core.display.Javascript object>"
      ]
     },
     "metadata": {},
     "output_type": "display_data"
    }
   ],
   "source": [
    "df_profit_2 = pd.DataFrame(\n",
    "    profit, columns=[\"Alpha\", \"Refunded Tickets\", \"Expected Revenue\"]\n",
    ")\n",
    "\n",
    "df_profit_2_max = df_profit_2.loc[\n",
    "    df_profit_2.groupby([\"Alpha\"])[\"Expected Revenue\"].idxmax()\n",
    "]\n",
    "\n",
    "\n",
    "df_profit_2_min = df_profit_2.loc[\n",
    "    df_profit_2.groupby([\"Alpha\"])[\"Expected Revenue\"].idxmin()\n",
    "]"
   ]
  },
  {
   "cell_type": "code",
   "execution_count": 11,
   "metadata": {},
   "outputs": [
    {
     "data": {
      "application/javascript": "\n            setTimeout(function() {\n                var nbb_cell_id = 11;\n                var nbb_unformatted_code = \"df_profit_2_max.rename(\\n    columns={\\n        \\\"Expected Revenue\\\": \\\"Expected Revenue max\\\",\\n        \\\"Refunded Tickets\\\": \\\"Refunded Tickets max\\\",\\n    },\\n    inplace=True,\\n)\";\n                var nbb_formatted_code = \"df_profit_2_max.rename(\\n    columns={\\n        \\\"Expected Revenue\\\": \\\"Expected Revenue max\\\",\\n        \\\"Refunded Tickets\\\": \\\"Refunded Tickets max\\\",\\n    },\\n    inplace=True,\\n)\";\n                var nbb_cells = Jupyter.notebook.get_cells();\n                for (var i = 0; i < nbb_cells.length; ++i) {\n                    if (nbb_cells[i].input_prompt_number == nbb_cell_id) {\n                        if (nbb_cells[i].get_text() == nbb_unformatted_code) {\n                             nbb_cells[i].set_text(nbb_formatted_code);\n                        }\n                        break;\n                    }\n                }\n            }, 500);\n            ",
      "text/plain": [
       "<IPython.core.display.Javascript object>"
      ]
     },
     "metadata": {},
     "output_type": "display_data"
    }
   ],
   "source": [
    "df_profit_2_max.rename(\n",
    "    columns={\n",
    "        \"Expected Revenue\": \"Expected Revenue max\",\n",
    "        \"Refunded Tickets\": \"Refunded Tickets max\",\n",
    "    },\n",
    "    inplace=True,\n",
    ")"
   ]
  },
  {
   "cell_type": "code",
   "execution_count": 12,
   "metadata": {},
   "outputs": [
    {
     "data": {
      "application/javascript": "\n            setTimeout(function() {\n                var nbb_cell_id = 12;\n                var nbb_unformatted_code = \"df_profit_2_min.rename(\\n    columns={\\n        \\\"Expected Revenue\\\": \\\"Expected Revenue min\\\",\\n        \\\"Refunded Tickets\\\": \\\"Refunded Tickets min\\\",\\n    },\\n    inplace=True,\\n)\";\n                var nbb_formatted_code = \"df_profit_2_min.rename(\\n    columns={\\n        \\\"Expected Revenue\\\": \\\"Expected Revenue min\\\",\\n        \\\"Refunded Tickets\\\": \\\"Refunded Tickets min\\\",\\n    },\\n    inplace=True,\\n)\";\n                var nbb_cells = Jupyter.notebook.get_cells();\n                for (var i = 0; i < nbb_cells.length; ++i) {\n                    if (nbb_cells[i].input_prompt_number == nbb_cell_id) {\n                        if (nbb_cells[i].get_text() == nbb_unformatted_code) {\n                             nbb_cells[i].set_text(nbb_formatted_code);\n                        }\n                        break;\n                    }\n                }\n            }, 500);\n            ",
      "text/plain": [
       "<IPython.core.display.Javascript object>"
      ]
     },
     "metadata": {},
     "output_type": "display_data"
    }
   ],
   "source": [
    "df_profit_2_min.rename(\n",
    "    columns={\n",
    "        \"Expected Revenue\": \"Expected Revenue min\",\n",
    "        \"Refunded Tickets\": \"Refunded Tickets min\",\n",
    "    },\n",
    "    inplace=True,\n",
    ")"
   ]
  },
  {
   "cell_type": "code",
   "execution_count": 13,
   "metadata": {},
   "outputs": [
    {
     "data": {
      "text/html": [
       "<div>\n",
       "<style scoped>\n",
       "    .dataframe tbody tr th:only-of-type {\n",
       "        vertical-align: middle;\n",
       "    }\n",
       "\n",
       "    .dataframe tbody tr th {\n",
       "        vertical-align: top;\n",
       "    }\n",
       "\n",
       "    .dataframe thead th {\n",
       "        text-align: right;\n",
       "    }\n",
       "</style>\n",
       "<table border=\"1\" class=\"dataframe\">\n",
       "  <thead>\n",
       "    <tr style=\"text-align: right;\">\n",
       "      <th></th>\n",
       "      <th>Alpha</th>\n",
       "      <th>Refunded Tickets min</th>\n",
       "      <th>Expected Revenue min</th>\n",
       "    </tr>\n",
       "  </thead>\n",
       "  <tbody>\n",
       "    <tr>\n",
       "      <th>0</th>\n",
       "      <td>20</td>\n",
       "      <td>150</td>\n",
       "      <td>27963.150</td>\n",
       "    </tr>\n",
       "    <tr>\n",
       "      <th>151</th>\n",
       "      <td>21</td>\n",
       "      <td>150</td>\n",
       "      <td>28113.150</td>\n",
       "    </tr>\n",
       "    <tr>\n",
       "      <th>302</th>\n",
       "      <td>22</td>\n",
       "      <td>150</td>\n",
       "      <td>28263.150</td>\n",
       "    </tr>\n",
       "    <tr>\n",
       "      <th>453</th>\n",
       "      <td>23</td>\n",
       "      <td>150</td>\n",
       "      <td>28413.150</td>\n",
       "    </tr>\n",
       "    <tr>\n",
       "      <th>604</th>\n",
       "      <td>24</td>\n",
       "      <td>150</td>\n",
       "      <td>28563.100</td>\n",
       "    </tr>\n",
       "    <tr>\n",
       "      <th>...</th>\n",
       "      <td>...</td>\n",
       "      <td>...</td>\n",
       "      <td>...</td>\n",
       "    </tr>\n",
       "    <tr>\n",
       "      <th>8456</th>\n",
       "      <td>76</td>\n",
       "      <td>150</td>\n",
       "      <td>24759.090</td>\n",
       "    </tr>\n",
       "    <tr>\n",
       "      <th>8607</th>\n",
       "      <td>77</td>\n",
       "      <td>150</td>\n",
       "      <td>24608.975</td>\n",
       "    </tr>\n",
       "    <tr>\n",
       "      <th>8758</th>\n",
       "      <td>78</td>\n",
       "      <td>150</td>\n",
       "      <td>24475.100</td>\n",
       "    </tr>\n",
       "    <tr>\n",
       "      <th>8909</th>\n",
       "      <td>79</td>\n",
       "      <td>150</td>\n",
       "      <td>24356.485</td>\n",
       "    </tr>\n",
       "    <tr>\n",
       "      <th>9060</th>\n",
       "      <td>80</td>\n",
       "      <td>150</td>\n",
       "      <td>24252.010</td>\n",
       "    </tr>\n",
       "  </tbody>\n",
       "</table>\n",
       "<p>61 rows × 3 columns</p>\n",
       "</div>"
      ],
      "text/plain": [
       "      Alpha  Refunded Tickets min  Expected Revenue min\n",
       "0        20                   150             27963.150\n",
       "151      21                   150             28113.150\n",
       "302      22                   150             28263.150\n",
       "453      23                   150             28413.150\n",
       "604      24                   150             28563.100\n",
       "...     ...                   ...                   ...\n",
       "8456     76                   150             24759.090\n",
       "8607     77                   150             24608.975\n",
       "8758     78                   150             24475.100\n",
       "8909     79                   150             24356.485\n",
       "9060     80                   150             24252.010\n",
       "\n",
       "[61 rows x 3 columns]"
      ]
     },
     "execution_count": 13,
     "metadata": {},
     "output_type": "execute_result"
    },
    {
     "data": {
      "application/javascript": "\n            setTimeout(function() {\n                var nbb_cell_id = 13;\n                var nbb_unformatted_code = \"df_profit_2_min\";\n                var nbb_formatted_code = \"df_profit_2_min\";\n                var nbb_cells = Jupyter.notebook.get_cells();\n                for (var i = 0; i < nbb_cells.length; ++i) {\n                    if (nbb_cells[i].input_prompt_number == nbb_cell_id) {\n                        if (nbb_cells[i].get_text() == nbb_unformatted_code) {\n                             nbb_cells[i].set_text(nbb_formatted_code);\n                        }\n                        break;\n                    }\n                }\n            }, 500);\n            ",
      "text/plain": [
       "<IPython.core.display.Javascript object>"
      ]
     },
     "metadata": {},
     "output_type": "display_data"
    }
   ],
   "source": [
    "df_profit_2_min"
   ]
  },
  {
   "cell_type": "code",
   "execution_count": 14,
   "metadata": {},
   "outputs": [
    {
     "data": {
      "text/html": [
       "<div>\n",
       "<style scoped>\n",
       "    .dataframe tbody tr th:only-of-type {\n",
       "        vertical-align: middle;\n",
       "    }\n",
       "\n",
       "    .dataframe tbody tr th {\n",
       "        vertical-align: top;\n",
       "    }\n",
       "\n",
       "    .dataframe thead th {\n",
       "        text-align: right;\n",
       "    }\n",
       "</style>\n",
       "<table border=\"1\" class=\"dataframe\">\n",
       "  <thead>\n",
       "    <tr style=\"text-align: right;\">\n",
       "      <th></th>\n",
       "      <th>Alpha</th>\n",
       "      <th>Refunded Tickets max</th>\n",
       "      <th>Expected Revenue max</th>\n",
       "    </tr>\n",
       "  </thead>\n",
       "  <tbody>\n",
       "    <tr>\n",
       "      <th>4413</th>\n",
       "      <td>49</td>\n",
       "      <td>184</td>\n",
       "      <td>31508.8064</td>\n",
       "    </tr>\n",
       "    <tr>\n",
       "      <th>4265</th>\n",
       "      <td>48</td>\n",
       "      <td>187</td>\n",
       "      <td>31501.1300</td>\n",
       "    </tr>\n",
       "    <tr>\n",
       "      <th>4569</th>\n",
       "      <td>50</td>\n",
       "      <td>189</td>\n",
       "      <td>31495.9836</td>\n",
       "    </tr>\n",
       "    <tr>\n",
       "      <th>4111</th>\n",
       "      <td>47</td>\n",
       "      <td>184</td>\n",
       "      <td>31473.3382</td>\n",
       "    </tr>\n",
       "    <tr>\n",
       "      <th>4717</th>\n",
       "      <td>51</td>\n",
       "      <td>186</td>\n",
       "      <td>31464.3156</td>\n",
       "    </tr>\n",
       "    <tr>\n",
       "      <th>...</th>\n",
       "      <td>...</td>\n",
       "      <td>...</td>\n",
       "      <td>...</td>\n",
       "    </tr>\n",
       "    <tr>\n",
       "      <th>8514</th>\n",
       "      <td>76</td>\n",
       "      <td>208</td>\n",
       "      <td>27703.7298</td>\n",
       "    </tr>\n",
       "    <tr>\n",
       "      <th>8664</th>\n",
       "      <td>77</td>\n",
       "      <td>207</td>\n",
       "      <td>27602.2367</td>\n",
       "    </tr>\n",
       "    <tr>\n",
       "      <th>8814</th>\n",
       "      <td>78</td>\n",
       "      <td>206</td>\n",
       "      <td>27509.7272</td>\n",
       "    </tr>\n",
       "    <tr>\n",
       "      <th>8965</th>\n",
       "      <td>79</td>\n",
       "      <td>206</td>\n",
       "      <td>27429.7186</td>\n",
       "    </tr>\n",
       "    <tr>\n",
       "      <th>9118</th>\n",
       "      <td>80</td>\n",
       "      <td>208</td>\n",
       "      <td>27351.6854</td>\n",
       "    </tr>\n",
       "  </tbody>\n",
       "</table>\n",
       "<p>61 rows × 3 columns</p>\n",
       "</div>"
      ],
      "text/plain": [
       "      Alpha  Refunded Tickets max  Expected Revenue max\n",
       "4413     49                   184            31508.8064\n",
       "4265     48                   187            31501.1300\n",
       "4569     50                   189            31495.9836\n",
       "4111     47                   184            31473.3382\n",
       "4717     51                   186            31464.3156\n",
       "...     ...                   ...                   ...\n",
       "8514     76                   208            27703.7298\n",
       "8664     77                   207            27602.2367\n",
       "8814     78                   206            27509.7272\n",
       "8965     79                   206            27429.7186\n",
       "9118     80                   208            27351.6854\n",
       "\n",
       "[61 rows x 3 columns]"
      ]
     },
     "execution_count": 14,
     "metadata": {},
     "output_type": "execute_result"
    },
    {
     "data": {
      "application/javascript": "\n            setTimeout(function() {\n                var nbb_cell_id = 14;\n                var nbb_unformatted_code = \"df_profit_2_max.sort_values(by=\\\"Expected Revenue max\\\", ascending=False)\";\n                var nbb_formatted_code = \"df_profit_2_max.sort_values(by=\\\"Expected Revenue max\\\", ascending=False)\";\n                var nbb_cells = Jupyter.notebook.get_cells();\n                for (var i = 0; i < nbb_cells.length; ++i) {\n                    if (nbb_cells[i].input_prompt_number == nbb_cell_id) {\n                        if (nbb_cells[i].get_text() == nbb_unformatted_code) {\n                             nbb_cells[i].set_text(nbb_formatted_code);\n                        }\n                        break;\n                    }\n                }\n            }, 500);\n            ",
      "text/plain": [
       "<IPython.core.display.Javascript object>"
      ]
     },
     "metadata": {},
     "output_type": "display_data"
    }
   ],
   "source": [
    "df_profit_2_max.sort_values(by=\"Expected Revenue max\", ascending=False)"
   ]
  },
  {
   "cell_type": "code",
   "execution_count": 15,
   "metadata": {},
   "outputs": [
    {
     "data": {
      "text/html": [
       "<div>\n",
       "<style scoped>\n",
       "    .dataframe tbody tr th:only-of-type {\n",
       "        vertical-align: middle;\n",
       "    }\n",
       "\n",
       "    .dataframe tbody tr th {\n",
       "        vertical-align: top;\n",
       "    }\n",
       "\n",
       "    .dataframe thead th {\n",
       "        text-align: right;\n",
       "    }\n",
       "</style>\n",
       "<table border=\"1\" class=\"dataframe\">\n",
       "  <thead>\n",
       "    <tr style=\"text-align: right;\">\n",
       "      <th></th>\n",
       "      <th>Alpha</th>\n",
       "      <th>Refunded Tickets min</th>\n",
       "      <th>Expected Revenue min</th>\n",
       "    </tr>\n",
       "  </thead>\n",
       "  <tbody>\n",
       "    <tr>\n",
       "      <th>3926</th>\n",
       "      <td>46</td>\n",
       "      <td>150</td>\n",
       "      <td>31236.140</td>\n",
       "    </tr>\n",
       "    <tr>\n",
       "      <th>4077</th>\n",
       "      <td>47</td>\n",
       "      <td>150</td>\n",
       "      <td>31234.265</td>\n",
       "    </tr>\n",
       "    <tr>\n",
       "      <th>3775</th>\n",
       "      <td>45</td>\n",
       "      <td>150</td>\n",
       "      <td>31213.820</td>\n",
       "    </tr>\n",
       "    <tr>\n",
       "      <th>4228</th>\n",
       "      <td>48</td>\n",
       "      <td>150</td>\n",
       "      <td>31208.545</td>\n",
       "    </tr>\n",
       "    <tr>\n",
       "      <th>3624</th>\n",
       "      <td>44</td>\n",
       "      <td>150</td>\n",
       "      <td>31169.585</td>\n",
       "    </tr>\n",
       "    <tr>\n",
       "      <th>...</th>\n",
       "      <td>...</td>\n",
       "      <td>...</td>\n",
       "      <td>...</td>\n",
       "    </tr>\n",
       "    <tr>\n",
       "      <th>8456</th>\n",
       "      <td>76</td>\n",
       "      <td>150</td>\n",
       "      <td>24759.090</td>\n",
       "    </tr>\n",
       "    <tr>\n",
       "      <th>8607</th>\n",
       "      <td>77</td>\n",
       "      <td>150</td>\n",
       "      <td>24608.975</td>\n",
       "    </tr>\n",
       "    <tr>\n",
       "      <th>8758</th>\n",
       "      <td>78</td>\n",
       "      <td>150</td>\n",
       "      <td>24475.100</td>\n",
       "    </tr>\n",
       "    <tr>\n",
       "      <th>8909</th>\n",
       "      <td>79</td>\n",
       "      <td>150</td>\n",
       "      <td>24356.485</td>\n",
       "    </tr>\n",
       "    <tr>\n",
       "      <th>9060</th>\n",
       "      <td>80</td>\n",
       "      <td>150</td>\n",
       "      <td>24252.010</td>\n",
       "    </tr>\n",
       "  </tbody>\n",
       "</table>\n",
       "<p>61 rows × 3 columns</p>\n",
       "</div>"
      ],
      "text/plain": [
       "      Alpha  Refunded Tickets min  Expected Revenue min\n",
       "3926     46                   150             31236.140\n",
       "4077     47                   150             31234.265\n",
       "3775     45                   150             31213.820\n",
       "4228     48                   150             31208.545\n",
       "3624     44                   150             31169.585\n",
       "...     ...                   ...                   ...\n",
       "8456     76                   150             24759.090\n",
       "8607     77                   150             24608.975\n",
       "8758     78                   150             24475.100\n",
       "8909     79                   150             24356.485\n",
       "9060     80                   150             24252.010\n",
       "\n",
       "[61 rows x 3 columns]"
      ]
     },
     "execution_count": 15,
     "metadata": {},
     "output_type": "execute_result"
    },
    {
     "data": {
      "application/javascript": "\n            setTimeout(function() {\n                var nbb_cell_id = 15;\n                var nbb_unformatted_code = \"df_profit_2_min.sort_values(by=\\\"Expected Revenue min\\\", ascending=False)\";\n                var nbb_formatted_code = \"df_profit_2_min.sort_values(by=\\\"Expected Revenue min\\\", ascending=False)\";\n                var nbb_cells = Jupyter.notebook.get_cells();\n                for (var i = 0; i < nbb_cells.length; ++i) {\n                    if (nbb_cells[i].input_prompt_number == nbb_cell_id) {\n                        if (nbb_cells[i].get_text() == nbb_unformatted_code) {\n                             nbb_cells[i].set_text(nbb_formatted_code);\n                        }\n                        break;\n                    }\n                }\n            }, 500);\n            ",
      "text/plain": [
       "<IPython.core.display.Javascript object>"
      ]
     },
     "metadata": {},
     "output_type": "display_data"
    }
   ],
   "source": [
    "df_profit_2_min.sort_values(by=\"Expected Revenue min\", ascending=False)"
   ]
  },
  {
   "cell_type": "code",
   "execution_count": 16,
   "metadata": {},
   "outputs": [
    {
     "data": {
      "application/javascript": "\n            setTimeout(function() {\n                var nbb_cell_id = 16;\n                var nbb_unformatted_code = \"tmp = pd.merge(\\n    left=df_profit,\\n    right=df_profit_2_max,\\n    left_on=\\\"Alpha\\\",\\n    right_on=\\\"Alpha\\\",\\n    how=\\\"inner\\\",\\n)\\n\\ntmp = pd.merge(\\n    left=tmp,\\n    right=df_profit_2_min,\\n    left_on=\\\"Alpha\\\",\\n    right_on=\\\"Alpha\\\",\\n    how=\\\"inner\\\",\\n)\\n\\n\\ntmp[\\\"callable_products_scheme_value_max_case\\\"] = (\\n    tmp[\\\"Expected Revenue max\\\"] - tmp[\\\"Expected Revenue\\\"]\\n)\\n\\ntmp[\\\"callable_products_scheme_value_min_case\\\"] = (\\n    tmp[\\\"Expected Revenue min\\\"] - tmp[\\\"Expected Revenue\\\"]\\n)\";\n                var nbb_formatted_code = \"tmp = pd.merge(\\n    left=df_profit,\\n    right=df_profit_2_max,\\n    left_on=\\\"Alpha\\\",\\n    right_on=\\\"Alpha\\\",\\n    how=\\\"inner\\\",\\n)\\n\\ntmp = pd.merge(\\n    left=tmp,\\n    right=df_profit_2_min,\\n    left_on=\\\"Alpha\\\",\\n    right_on=\\\"Alpha\\\",\\n    how=\\\"inner\\\",\\n)\\n\\n\\ntmp[\\\"callable_products_scheme_value_max_case\\\"] = (\\n    tmp[\\\"Expected Revenue max\\\"] - tmp[\\\"Expected Revenue\\\"]\\n)\\n\\ntmp[\\\"callable_products_scheme_value_min_case\\\"] = (\\n    tmp[\\\"Expected Revenue min\\\"] - tmp[\\\"Expected Revenue\\\"]\\n)\";\n                var nbb_cells = Jupyter.notebook.get_cells();\n                for (var i = 0; i < nbb_cells.length; ++i) {\n                    if (nbb_cells[i].input_prompt_number == nbb_cell_id) {\n                        if (nbb_cells[i].get_text() == nbb_unformatted_code) {\n                             nbb_cells[i].set_text(nbb_formatted_code);\n                        }\n                        break;\n                    }\n                }\n            }, 500);\n            ",
      "text/plain": [
       "<IPython.core.display.Javascript object>"
      ]
     },
     "metadata": {},
     "output_type": "display_data"
    }
   ],
   "source": [
    "tmp = pd.merge(\n",
    "    left=df_profit,\n",
    "    right=df_profit_2_max,\n",
    "    left_on=\"Alpha\",\n",
    "    right_on=\"Alpha\",\n",
    "    how=\"inner\",\n",
    ")\n",
    "\n",
    "tmp = pd.merge(\n",
    "    left=tmp,\n",
    "    right=df_profit_2_min,\n",
    "    left_on=\"Alpha\",\n",
    "    right_on=\"Alpha\",\n",
    "    how=\"inner\",\n",
    ")\n",
    "\n",
    "\n",
    "tmp[\"callable_products_scheme_value_max_case\"] = (\n",
    "    tmp[\"Expected Revenue max\"] - tmp[\"Expected Revenue\"]\n",
    ")\n",
    "\n",
    "tmp[\"callable_products_scheme_value_min_case\"] = (\n",
    "    tmp[\"Expected Revenue min\"] - tmp[\"Expected Revenue\"]\n",
    ")"
   ]
  },
  {
   "cell_type": "code",
   "execution_count": 17,
   "metadata": {},
   "outputs": [
    {
     "data": {
      "application/javascript": "\n            setTimeout(function() {\n                var nbb_cell_id = 17;\n                var nbb_unformatted_code = \"tmp[\\\"callable_products_scheme_value\\\"] = tmp[\\\"Expected Revenue max\\\"] - abs(\\n    tmp[\\\"Expected Revenue\\\"]\\n)\";\n                var nbb_formatted_code = \"tmp[\\\"callable_products_scheme_value\\\"] = tmp[\\\"Expected Revenue max\\\"] - abs(\\n    tmp[\\\"Expected Revenue\\\"]\\n)\";\n                var nbb_cells = Jupyter.notebook.get_cells();\n                for (var i = 0; i < nbb_cells.length; ++i) {\n                    if (nbb_cells[i].input_prompt_number == nbb_cell_id) {\n                        if (nbb_cells[i].get_text() == nbb_unformatted_code) {\n                             nbb_cells[i].set_text(nbb_formatted_code);\n                        }\n                        break;\n                    }\n                }\n            }, 500);\n            ",
      "text/plain": [
       "<IPython.core.display.Javascript object>"
      ]
     },
     "metadata": {},
     "output_type": "display_data"
    }
   ],
   "source": [
    "tmp[\"callable_products_scheme_value\"] = tmp[\"Expected Revenue max\"] - abs(\n",
    "    tmp[\"Expected Revenue\"]\n",
    ")"
   ]
  },
  {
   "cell_type": "code",
   "execution_count": 18,
   "metadata": {},
   "outputs": [
    {
     "data": {
      "text/plain": [
       "61856.15980000001"
      ]
     },
     "execution_count": 18,
     "metadata": {},
     "output_type": "execute_result"
    },
    {
     "data": {
      "application/javascript": "\n            setTimeout(function() {\n                var nbb_cell_id = 18;\n                var nbb_unformatted_code = \"tmp.callable_products_scheme_value.sum()\";\n                var nbb_formatted_code = \"tmp.callable_products_scheme_value.sum()\";\n                var nbb_cells = Jupyter.notebook.get_cells();\n                for (var i = 0; i < nbb_cells.length; ++i) {\n                    if (nbb_cells[i].input_prompt_number == nbb_cell_id) {\n                        if (nbb_cells[i].get_text() == nbb_unformatted_code) {\n                             nbb_cells[i].set_text(nbb_formatted_code);\n                        }\n                        break;\n                    }\n                }\n            }, 500);\n            ",
      "text/plain": [
       "<IPython.core.display.Javascript object>"
      ]
     },
     "metadata": {},
     "output_type": "display_data"
    }
   ],
   "source": [
    "tmp.callable_products_scheme_value.sum()"
   ]
  },
  {
   "cell_type": "code",
   "execution_count": 19,
   "metadata": {},
   "outputs": [
    {
     "data": {
      "text/html": [
       "<div>\n",
       "<style scoped>\n",
       "    .dataframe tbody tr th:only-of-type {\n",
       "        vertical-align: middle;\n",
       "    }\n",
       "\n",
       "    .dataframe tbody tr th {\n",
       "        vertical-align: top;\n",
       "    }\n",
       "\n",
       "    .dataframe thead th {\n",
       "        text-align: right;\n",
       "    }\n",
       "</style>\n",
       "<table border=\"1\" class=\"dataframe\">\n",
       "  <thead>\n",
       "    <tr style=\"text-align: right;\">\n",
       "      <th></th>\n",
       "      <th>Alpha</th>\n",
       "      <th>Refunded Tickets max</th>\n",
       "      <th>Expected Revenue max</th>\n",
       "    </tr>\n",
       "  </thead>\n",
       "  <tbody>\n",
       "    <tr>\n",
       "      <th>0</th>\n",
       "      <td>20</td>\n",
       "      <td>150</td>\n",
       "      <td>27963.1500</td>\n",
       "    </tr>\n",
       "    <tr>\n",
       "      <th>151</th>\n",
       "      <td>21</td>\n",
       "      <td>150</td>\n",
       "      <td>28113.1500</td>\n",
       "    </tr>\n",
       "    <tr>\n",
       "      <th>302</th>\n",
       "      <td>22</td>\n",
       "      <td>150</td>\n",
       "      <td>28263.1500</td>\n",
       "    </tr>\n",
       "    <tr>\n",
       "      <th>453</th>\n",
       "      <td>23</td>\n",
       "      <td>150</td>\n",
       "      <td>28413.1500</td>\n",
       "    </tr>\n",
       "    <tr>\n",
       "      <th>610</th>\n",
       "      <td>24</td>\n",
       "      <td>156</td>\n",
       "      <td>28563.1194</td>\n",
       "    </tr>\n",
       "    <tr>\n",
       "      <th>...</th>\n",
       "      <td>...</td>\n",
       "      <td>...</td>\n",
       "      <td>...</td>\n",
       "    </tr>\n",
       "    <tr>\n",
       "      <th>8514</th>\n",
       "      <td>76</td>\n",
       "      <td>208</td>\n",
       "      <td>27703.7298</td>\n",
       "    </tr>\n",
       "    <tr>\n",
       "      <th>8664</th>\n",
       "      <td>77</td>\n",
       "      <td>207</td>\n",
       "      <td>27602.2367</td>\n",
       "    </tr>\n",
       "    <tr>\n",
       "      <th>8814</th>\n",
       "      <td>78</td>\n",
       "      <td>206</td>\n",
       "      <td>27509.7272</td>\n",
       "    </tr>\n",
       "    <tr>\n",
       "      <th>8965</th>\n",
       "      <td>79</td>\n",
       "      <td>206</td>\n",
       "      <td>27429.7186</td>\n",
       "    </tr>\n",
       "    <tr>\n",
       "      <th>9118</th>\n",
       "      <td>80</td>\n",
       "      <td>208</td>\n",
       "      <td>27351.6854</td>\n",
       "    </tr>\n",
       "  </tbody>\n",
       "</table>\n",
       "<p>61 rows × 3 columns</p>\n",
       "</div>"
      ],
      "text/plain": [
       "      Alpha  Refunded Tickets max  Expected Revenue max\n",
       "0        20                   150            27963.1500\n",
       "151      21                   150            28113.1500\n",
       "302      22                   150            28263.1500\n",
       "453      23                   150            28413.1500\n",
       "610      24                   156            28563.1194\n",
       "...     ...                   ...                   ...\n",
       "8514     76                   208            27703.7298\n",
       "8664     77                   207            27602.2367\n",
       "8814     78                   206            27509.7272\n",
       "8965     79                   206            27429.7186\n",
       "9118     80                   208            27351.6854\n",
       "\n",
       "[61 rows x 3 columns]"
      ]
     },
     "execution_count": 19,
     "metadata": {},
     "output_type": "execute_result"
    },
    {
     "data": {
      "application/javascript": "\n            setTimeout(function() {\n                var nbb_cell_id = 19;\n                var nbb_unformatted_code = \"df_profit_2_max\";\n                var nbb_formatted_code = \"df_profit_2_max\";\n                var nbb_cells = Jupyter.notebook.get_cells();\n                for (var i = 0; i < nbb_cells.length; ++i) {\n                    if (nbb_cells[i].input_prompt_number == nbb_cell_id) {\n                        if (nbb_cells[i].get_text() == nbb_unformatted_code) {\n                             nbb_cells[i].set_text(nbb_formatted_code);\n                        }\n                        break;\n                    }\n                }\n            }, 500);\n            ",
      "text/plain": [
       "<IPython.core.display.Javascript object>"
      ]
     },
     "metadata": {},
     "output_type": "display_data"
    }
   ],
   "source": [
    "df_profit_2_max"
   ]
  },
  {
   "cell_type": "code",
   "execution_count": 20,
   "metadata": {},
   "outputs": [
    {
     "data": {
      "image/png": "[encoded data removed]",
      "text/plain": [
       "<Figure size 1080x540 with 2 Axes>"
      ]
     },
     "metadata": {},
     "output_type": "display_data"
    },
    {
     "data": {
      "application/javascript": "\n            setTimeout(function() {\n                var nbb_cell_id = 20;\n                var nbb_unformatted_code = \"fig, ax = plt.subplots(figsize=(15, 7.5))\\nsns.set_theme()\\nax2 = ax.twinx()\\nax.plot(df_profit[\\\"Alpha\\\"], df_profit[\\\"Expected Revenue\\\"], label=\\\"Old Revenues\\\", c=\\\"r\\\")\\nax.plot(\\n    df_profit_2_max[\\\"Alpha\\\"],\\n    df_profit_2_max[\\\"Expected Revenue max\\\"],\\n    label=\\\"New Revenues max\\\",\\n)\\nax.plot(\\n    df_profit_2_min[\\\"Alpha\\\"],\\n    df_profit_2_min[\\\"Expected Revenue min\\\"],\\n    label=\\\"New Revenues min\\\",\\n)\\n\\nax2.bar(\\n    tmp[\\\"Alpha\\\"],\\n    tmp[\\\"callable_products_scheme_value_max_case\\\"],\\n    label=\\\"Value of Scheme\\\",\\n    alpha=0.3,\\n)\\n\\nax2.set_yticks(\\n    np.linspace(ax2.get_yticks()[0], ax2.get_yticks()[-1], len(ax.get_yticks()))\\n)\\nax2.grid(False)\\nplt.title(\\\"Expected Revenue By Booking Limit\\\")\\nax.set_xlabel(\\\"Booking Limit\\\")\\nax.set_ylabel(\\\"Expected Profit\\\")\\nax2.set_ylabel(\\\"Net Revenue of New minus Old Scheme\\\")\\nax.legend()\\nplt.show()\";\n                var nbb_formatted_code = \"fig, ax = plt.subplots(figsize=(15, 7.5))\\nsns.set_theme()\\nax2 = ax.twinx()\\nax.plot(df_profit[\\\"Alpha\\\"], df_profit[\\\"Expected Revenue\\\"], label=\\\"Old Revenues\\\", c=\\\"r\\\")\\nax.plot(\\n    df_profit_2_max[\\\"Alpha\\\"],\\n    df_profit_2_max[\\\"Expected Revenue max\\\"],\\n    label=\\\"New Revenues max\\\",\\n)\\nax.plot(\\n    df_profit_2_min[\\\"Alpha\\\"],\\n    df_profit_2_min[\\\"Expected Revenue min\\\"],\\n    label=\\\"New Revenues min\\\",\\n)\\n\\nax2.bar(\\n    tmp[\\\"Alpha\\\"],\\n    tmp[\\\"callable_products_scheme_value_max_case\\\"],\\n    label=\\\"Value of Scheme\\\",\\n    alpha=0.3,\\n)\\n\\nax2.set_yticks(\\n    np.linspace(ax2.get_yticks()[0], ax2.get_yticks()[-1], len(ax.get_yticks()))\\n)\\nax2.grid(False)\\nplt.title(\\\"Expected Revenue By Booking Limit\\\")\\nax.set_xlabel(\\\"Booking Limit\\\")\\nax.set_ylabel(\\\"Expected Profit\\\")\\nax2.set_ylabel(\\\"Net Revenue of New minus Old Scheme\\\")\\nax.legend()\\nplt.show()\";\n                var nbb_cells = Jupyter.notebook.get_cells();\n                for (var i = 0; i < nbb_cells.length; ++i) {\n                    if (nbb_cells[i].input_prompt_number == nbb_cell_id) {\n                        if (nbb_cells[i].get_text() == nbb_unformatted_code) {\n                             nbb_cells[i].set_text(nbb_formatted_code);\n                        }\n                        break;\n                    }\n                }\n            }, 500);\n            ",
      "text/plain": [
       "<IPython.core.display.Javascript object>"
      ]
     },
     "metadata": {},
     "output_type": "display_data"
    }
   ],
   "source": [
    "fig, ax = plt.subplots(figsize=(15, 7.5))\n",
    "sns.set_theme()\n",
    "ax2 = ax.twinx()\n",
    "ax.plot(df_profit[\"Alpha\"], df_profit[\"Expected Revenue\"], label=\"Old Revenues\", c=\"r\")\n",
    "ax.plot(\n",
    "    df_profit_2_max[\"Alpha\"],\n",
    "    df_profit_2_max[\"Expected Revenue max\"],\n",
    "    label=\"New Revenues max\",\n",
    ")\n",
    "ax.plot(\n",
    "    df_profit_2_min[\"Alpha\"],\n",
    "    df_profit_2_min[\"Expected Revenue min\"],\n",
    "    label=\"New Revenues min\",\n",
    ")\n",
    "\n",
    "ax2.bar(\n",
    "    tmp[\"Alpha\"],\n",
    "    tmp[\"callable_products_scheme_value_max_case\"],\n",
    "    label=\"Value of Scheme\",\n",
    "    alpha=0.3,\n",
    ")\n",
    "\n",
    "ax2.set_yticks(\n",
    "    np.linspace(ax2.get_yticks()[0], ax2.get_yticks()[-1], len(ax.get_yticks()))\n",
    ")\n",
    "ax2.grid(False)\n",
    "plt.title(\"Expected Revenue By Booking Limit\")\n",
    "ax.set_xlabel(\"Booking Limit\")\n",
    "ax.set_ylabel(\"Expected Profit\")\n",
    "ax2.set_ylabel(\"Net Revenue of New minus Old Scheme\")\n",
    "ax.legend()\n",
    "plt.show()"
   ]
  },
  {
   "cell_type": "markdown",
   "metadata": {},
   "source": [
    "## q3 A"
   ]
  },
  {
   "cell_type": "code",
   "execution_count": 21,
   "metadata": {},
   "outputs": [
    {
     "name": "stdout",
     "output_type": "stream",
     "text": [
      "Gurobi Optimizer version 10.0.0 build v10.0.0rc2 (linux64)\n",
      "\n",
      "CPU model: 11th Gen Intel(R) Core(TM) i7-1165G7 @ 2.80GHz, instruction set [SSE2|AVX|AVX2|AVX512]\n",
      "Thread count: 4 physical cores, 8 logical processors, using up to 8 threads\n",
      "\n",
      "Optimize a model with 42 rows, 50 columns and 102 nonzeros\n",
      "Model fingerprint: 0x9181b20e\n",
      "Variable types: 0 continuous, 50 integer (0 binary)\n",
      "Coefficient statistics:\n",
      "  Matrix range     [1e+00, 1e+00]\n",
      "  Objective range  [2e-01, 1e+01]\n",
      "  Bounds range     [0e+00, 0e+00]\n",
      "  RHS range        [1e+03, 8e+03]\n",
      "Found heuristic solution: objective -0.0000000\n",
      "Presolve removed 24 rows and 12 columns\n",
      "Presolve time: 0.00s\n",
      "Presolved: 18 rows, 38 columns, 66 nonzeros\n",
      "Variable types: 0 continuous, 38 integer (0 binary)\n",
      "\n",
      "Root relaxation: objective 1.049990e+05, 15 iterations, 0.00 seconds (0.00 work units)\n",
      "\n",
      "    Nodes    |    Current Node    |     Objective Bounds      |     Work\n",
      " Expl Unexpl |  Obj  Depth IntInf | Incumbent    BestBd   Gap | It/Node Time\n",
      "\n",
      "*    0     0               0    104999.00000 104999.000  0.00%     -    0s\n",
      "\n",
      "Explored 1 nodes (15 simplex iterations) in 0.01 seconds (0.00 work units)\n",
      "Thread count was 8 (of 8 available processors)\n",
      "\n",
      "Solution count 2: 104999 -0 \n",
      "\n",
      "Optimal solution found (tolerance 1.00e-04)\n",
      "Best objective 1.049990000000e+05, best bound 1.049990000000e+05, gap 0.0000%\n",
      "Optimal Value: 104999.0\n",
      "\n",
      "    Variable            X \n",
      "-------------------------\n",
      "Product_input[W_A]         6700 \n",
      "Product_input[W_B]        10000 \n",
      "   Sold[1,A]         5000 \n",
      "   Sold[1,B]         3000 \n",
      "   Sold[1,C]         4200 \n",
      "   Sold[2,A]         3000 \n",
      "   Sold[2,B]         1000 \n",
      "   Sold[2,C]         4100 \n",
      "   Sold[3,A]         7800 \n",
      "   Sold[3,B]         6000 \n",
      "   Sold[3,C]         3000 \n",
      "   Sold[4,A]          900 \n",
      "   Sold[4,B]         3000 \n",
      "   Sold[4,C]         5400 \n",
      "Inventory[1,A]         5000 \n",
      "Inventory[1,B]         3000 \n",
      "Inventory[1,C]         4200 \n",
      "Inventory[2,A]         3000 \n",
      "Inventory[2,B]         1000 \n",
      "Inventory[2,C]         4100 \n",
      "Inventory[3,A]         7800 \n",
      "Inventory[3,B]         6000 \n",
      "Inventory[3,C]         3000 \n",
      "Inventory[4,A]          900 \n",
      "Inventory[4,B]         3000 \n",
      "Inventory[4,C]         5400 \n",
      "Transport[W_A,1,A]         5000 \n",
      "Transport[W_A,1,B]         3000 \n",
      "Transport[W_A,1,C]         4200 \n",
      "Transport[W_A,2,A]          800 \n",
      "Transport[W_A,4,A]          900 \n",
      "Transport[W_A,4,C]         2500 \n",
      "Transport[W_B,2,A]         2200 \n",
      "Transport[W_B,2,B]         1000 \n",
      "Transport[W_B,2,C]         4100 \n",
      "Transport[W_B,3,A]         7800 \n",
      "Transport[W_B,3,B]         6000 \n",
      "Transport[W_B,3,C]         3000 \n",
      "Transport[W_B,4,B]         3000 \n",
      "Transport[W_B,4,C]         2900 \n"
     ]
    },
    {
     "data": {
      "application/javascript": "\n            setTimeout(function() {\n                var nbb_cell_id = 21;\n                var nbb_unformatted_code = \"Scenario = [\\\"A\\\", \\\"B\\\", \\\"C\\\"]\\ndistros = (1, 2, 3, 4)\\nWarehouse = (\\\"W_A\\\", \\\"W_B\\\")\\n\\nprob_scenario = {\\\"A\\\": 0.3, \\\"B\\\": 0.2, \\\"C\\\": 0.5}\\nwarehouse_pf = {\\\"W_A\\\": 1, \\\"W_B\\\": 1.5}\\n\\n# demand is left out becasue all is * 1000\\nDemand = {\\n    (\\\"A\\\", 1): 5,\\n    (\\\"A\\\", 2): 3,\\n    (\\\"A\\\", 3): 7.8,\\n    (\\\"A\\\", 4): 4,\\n    (\\\"B\\\", 1): 3,\\n    (\\\"B\\\", 2): 1,\\n    (\\\"B\\\", 3): 6,\\n    (\\\"B\\\", 4): 3,\\n    (\\\"C\\\", 1): 4.2,\\n    (\\\"C\\\", 2): 4.1,\\n    (\\\"C\\\", 3): 3,\\n    (\\\"C\\\", 4): 5.4,\\n}\\nTransportation_Costs = {\\n    (\\\"W_A\\\", 1): 1.5,\\n    (\\\"W_A\\\", 2): 2,\\n    (\\\"W_A\\\", 3): 2,\\n    (\\\"W_A\\\", 4): 3,\\n    (\\\"W_B\\\", 1): 2,\\n    (\\\"W_B\\\", 2): 1.2,\\n    (\\\"W_B\\\", 3): 1.1,\\n    (\\\"W_B\\\", 4): 2.5,\\n}\\n\\n\\nmodel = gp.Model()\\nmodel.ModelSense = gp.GRB.MAXIMIZE\\n\\n# Frist stage model definition\\nx = model.addVars(Warehouse, vtype=gp.GRB.INTEGER, name=\\\"Product_input\\\")\\n\\n# SecondStageModel Definition\\n# define the varaibles\\n# inventory at distribution center given a scenario\\nsold_distributionc = model.addVars(distros, Scenario, vtype=gp.GRB.INTEGER, name=\\\"Sold\\\")\\n# inventory at distribution\\ninv_distributionc = model.addVars(\\n    distros, Scenario, vtype=gp.GRB.INTEGER, name=\\\"Inventory\\\"\\n)\\n# distribution from any warehouse to any distribution center given a scenario demand\\ndist_ware_scen = model.addVars(\\n    Warehouse, distros, Scenario, vtype=gp.GRB.INTEGER, name=\\\"Transport\\\"\\n)\\n\\n# set the obkjectvie for a sale price of 20 per distribution center and a 10 bucks cost per product\\nmodel.setObjective(\\n    gp.quicksum(\\n        20 * prob_scenario[scenario] * sold_distributionc[distro, scenario]\\n        for scenario in Scenario\\n        for distro in distros\\n    )\\n    # quantitiess costs for production facilties\\n    - gp.quicksum(\\n        x[warehouse] * (10 + warehouse_pf[warehouse]) for warehouse in Warehouse\\n    )\\n    # probability, distribuion, and from warehouse\\n    - gp.quicksum(\\n        dist_ware_scen[warehouse, distro, scenario]\\n        * Transportation_Costs[warehouse, distro]\\n        * prob_scenario[scenario]\\n        for scenario in Scenario\\n        for warehouse in Warehouse\\n        for distro in distros\\n    )\\n)\\n\\n# a distibution can only send what it receives\\nmodel.addConstrs(\\n    (\\n        inv_distributionc[distro, scenario]\\n        == gp.quicksum(\\n            dist_ware_scen[warehouse, distro, scenario] for warehouse in Warehouse\\n        )\\n        for distro in distros\\n        for scenario in Scenario\\n    ),\\n    name=\\\"SendReceiveLimit\\\",\\n)\\n\\n# Any distibution centreer can only reveive as much as it reveicves from warehouse in give distribution\\nmodel.addConstrs(\\n    (\\n        gp.quicksum(dist_ware_scen[warehouse, distro, scenario] for distro in distros)\\n        <= x[warehouse]\\n        for warehouse in Warehouse\\n        for scenario in Scenario\\n    ),\\n    name=\\\"ReceiveConstrain\\\",\\n)\\n\\n# Distrobs can only sale based on a given demand based on a given scenario\\nmodel.addConstrs(\\n    (\\n        sold_distributionc[distro, scenario] <= Demand[scenario, distro] * 1000\\n        for distro in distros\\n        for scenario in Scenario\\n    ),\\n    name=\\\"SaleConstrain\\\",\\n)\\n\\n# Distros can only sale what is in the inventory based on a given scenario\\nmodel.addConstrs(\\n    (\\n        sold_distributionc[distro, scenario] <= inv_distributionc[distro, scenario]\\n        for distro in distros\\n        for scenario in Scenario\\n    ),\\n    name=\\\"SaleConstrain\\\",\\n)\\n\\nmodel.optimize()\\nprint(\\\"Optimal Value:\\\", model.Objval)\\nmodel.printAttr(\\\"X\\\")\";\n                var nbb_formatted_code = \"Scenario = [\\\"A\\\", \\\"B\\\", \\\"C\\\"]\\ndistros = (1, 2, 3, 4)\\nWarehouse = (\\\"W_A\\\", \\\"W_B\\\")\\n\\nprob_scenario = {\\\"A\\\": 0.3, \\\"B\\\": 0.2, \\\"C\\\": 0.5}\\nwarehouse_pf = {\\\"W_A\\\": 1, \\\"W_B\\\": 1.5}\\n\\n# demand is left out becasue all is * 1000\\nDemand = {\\n    (\\\"A\\\", 1): 5,\\n    (\\\"A\\\", 2): 3,\\n    (\\\"A\\\", 3): 7.8,\\n    (\\\"A\\\", 4): 4,\\n    (\\\"B\\\", 1): 3,\\n    (\\\"B\\\", 2): 1,\\n    (\\\"B\\\", 3): 6,\\n    (\\\"B\\\", 4): 3,\\n    (\\\"C\\\", 1): 4.2,\\n    (\\\"C\\\", 2): 4.1,\\n    (\\\"C\\\", 3): 3,\\n    (\\\"C\\\", 4): 5.4,\\n}\\nTransportation_Costs = {\\n    (\\\"W_A\\\", 1): 1.5,\\n    (\\\"W_A\\\", 2): 2,\\n    (\\\"W_A\\\", 3): 2,\\n    (\\\"W_A\\\", 4): 3,\\n    (\\\"W_B\\\", 1): 2,\\n    (\\\"W_B\\\", 2): 1.2,\\n    (\\\"W_B\\\", 3): 1.1,\\n    (\\\"W_B\\\", 4): 2.5,\\n}\\n\\n\\nmodel = gp.Model()\\nmodel.ModelSense = gp.GRB.MAXIMIZE\\n\\n# Frist stage model definition\\nx = model.addVars(Warehouse, vtype=gp.GRB.INTEGER, name=\\\"Product_input\\\")\\n\\n# SecondStageModel Definition\\n# define the varaibles\\n# inventory at distribution center given a scenario\\nsold_distributionc = model.addVars(distros, Scenario, vtype=gp.GRB.INTEGER, name=\\\"Sold\\\")\\n# inventory at distribution\\ninv_distributionc = model.addVars(\\n    distros, Scenario, vtype=gp.GRB.INTEGER, name=\\\"Inventory\\\"\\n)\\n# distribution from any warehouse to any distribution center given a scenario demand\\ndist_ware_scen = model.addVars(\\n    Warehouse, distros, Scenario, vtype=gp.GRB.INTEGER, name=\\\"Transport\\\"\\n)\\n\\n# set the obkjectvie for a sale price of 20 per distribution center and a 10 bucks cost per product\\nmodel.setObjective(\\n    gp.quicksum(\\n        20 * prob_scenario[scenario] * sold_distributionc[distro, scenario]\\n        for scenario in Scenario\\n        for distro in distros\\n    )\\n    # quantitiess costs for production facilties\\n    - gp.quicksum(\\n        x[warehouse] * (10 + warehouse_pf[warehouse]) for warehouse in Warehouse\\n    )\\n    # probability, distribuion, and from warehouse\\n    - gp.quicksum(\\n        dist_ware_scen[warehouse, distro, scenario]\\n        * Transportation_Costs[warehouse, distro]\\n        * prob_scenario[scenario]\\n        for scenario in Scenario\\n        for warehouse in Warehouse\\n        for distro in distros\\n    )\\n)\\n\\n# a distibution can only send what it receives\\nmodel.addConstrs(\\n    (\\n        inv_distributionc[distro, scenario]\\n        == gp.quicksum(\\n            dist_ware_scen[warehouse, distro, scenario] for warehouse in Warehouse\\n        )\\n        for distro in distros\\n        for scenario in Scenario\\n    ),\\n    name=\\\"SendReceiveLimit\\\",\\n)\\n\\n# Any distibution centreer can only reveive as much as it reveicves from warehouse in give distribution\\nmodel.addConstrs(\\n    (\\n        gp.quicksum(dist_ware_scen[warehouse, distro, scenario] for distro in distros)\\n        <= x[warehouse]\\n        for warehouse in Warehouse\\n        for scenario in Scenario\\n    ),\\n    name=\\\"ReceiveConstrain\\\",\\n)\\n\\n# Distrobs can only sale based on a given demand based on a given scenario\\nmodel.addConstrs(\\n    (\\n        sold_distributionc[distro, scenario] <= Demand[scenario, distro] * 1000\\n        for distro in distros\\n        for scenario in Scenario\\n    ),\\n    name=\\\"SaleConstrain\\\",\\n)\\n\\n# Distros can only sale what is in the inventory based on a given scenario\\nmodel.addConstrs(\\n    (\\n        sold_distributionc[distro, scenario] <= inv_distributionc[distro, scenario]\\n        for distro in distros\\n        for scenario in Scenario\\n    ),\\n    name=\\\"SaleConstrain\\\",\\n)\\n\\nmodel.optimize()\\nprint(\\\"Optimal Value:\\\", model.Objval)\\nmodel.printAttr(\\\"X\\\")\";\n                var nbb_cells = Jupyter.notebook.get_cells();\n                for (var i = 0; i < nbb_cells.length; ++i) {\n                    if (nbb_cells[i].input_prompt_number == nbb_cell_id) {\n                        if (nbb_cells[i].get_text() == nbb_unformatted_code) {\n                             nbb_cells[i].set_text(nbb_formatted_code);\n                        }\n                        break;\n                    }\n                }\n            }, 500);\n            ",
      "text/plain": [
       "<IPython.core.display.Javascript object>"
      ]
     },
     "metadata": {},
     "output_type": "display_data"
    }
   ],
   "source": [
    "Scenario = [\"A\", \"B\", \"C\"]\n",
    "distros = (1, 2, 3, 4)\n",
    "Warehouse = (\"W_A\", \"W_B\")\n",
    "\n",
    "prob_scenario = {\"A\": 0.3, \"B\": 0.2, \"C\": 0.5}\n",
    "warehouse_pf = {\"W_A\": 1, \"W_B\": 1.5}\n",
    "\n",
    "# demand is left out becasue all is * 1000\n",
    "Demand = {\n",
    "    (\"A\", 1): 5,\n",
    "    (\"A\", 2): 3,\n",
    "    (\"A\", 3): 7.8,\n",
    "    (\"A\", 4): 4,\n",
    "    (\"B\", 1): 3,\n",
    "    (\"B\", 2): 1,\n",
    "    (\"B\", 3): 6,\n",
    "    (\"B\", 4): 3,\n",
    "    (\"C\", 1): 4.2,\n",
    "    (\"C\", 2): 4.1,\n",
    "    (\"C\", 3): 3,\n",
    "    (\"C\", 4): 5.4,\n",
    "}\n",
    "Transportation_Costs = {\n",
    "    (\"W_A\", 1): 1.5,\n",
    "    (\"W_A\", 2): 2,\n",
    "    (\"W_A\", 3): 2,\n",
    "    (\"W_A\", 4): 3,\n",
    "    (\"W_B\", 1): 2,\n",
    "    (\"W_B\", 2): 1.2,\n",
    "    (\"W_B\", 3): 1.1,\n",
    "    (\"W_B\", 4): 2.5,\n",
    "}\n",
    "\n",
    "\n",
    "model = gp.Model()\n",
    "model.ModelSense = gp.GRB.MAXIMIZE\n",
    "\n",
    "# Frist stage model definition\n",
    "x = model.addVars(Warehouse, vtype=gp.GRB.INTEGER, name=\"Product_input\")\n",
    "\n",
    "# SecondStageModel Definition\n",
    "# define the varaibles\n",
    "# inventory at distribution center given a scenario\n",
    "sold_distributionc = model.addVars(distros, Scenario, vtype=gp.GRB.INTEGER, name=\"Sold\")\n",
    "# inventory at distribution\n",
    "inv_distributionc = model.addVars(\n",
    "    distros, Scenario, vtype=gp.GRB.INTEGER, name=\"Inventory\"\n",
    ")\n",
    "# distribution from any warehouse to any distribution center given a scenario demand\n",
    "dist_ware_scen = model.addVars(\n",
    "    Warehouse, distros, Scenario, vtype=gp.GRB.INTEGER, name=\"Transport\"\n",
    ")\n",
    "\n",
    "# set the obkjectvie for a sale price of 20 per distribution center and a 10 bucks cost per product\n",
    "model.setObjective(\n",
    "    gp.quicksum(\n",
    "        20 * prob_scenario[scenario] * sold_distributionc[distro, scenario]\n",
    "        for scenario in Scenario\n",
    "        for distro in distros\n",
    "    )\n",
    "    # quantitiess costs for production facilties\n",
    "    - gp.quicksum(\n",
    "        x[warehouse] * (10 + warehouse_pf[warehouse]) for warehouse in Warehouse\n",
    "    )\n",
    "    # probability, distribuion, and from warehouse\n",
    "    - gp.quicksum(\n",
    "        dist_ware_scen[warehouse, distro, scenario]\n",
    "        * Transportation_Costs[warehouse, distro]\n",
    "        * prob_scenario[scenario]\n",
    "        for scenario in Scenario\n",
    "        for warehouse in Warehouse\n",
    "        for distro in distros\n",
    "    )\n",
    ")\n",
    "\n",
    "# a distibution can only send what it receives\n",
    "model.addConstrs(\n",
    "    (\n",
    "        inv_distributionc[distro, scenario]\n",
    "        == gp.quicksum(\n",
    "            dist_ware_scen[warehouse, distro, scenario] for warehouse in Warehouse\n",
    "        )\n",
    "        for distro in distros\n",
    "        for scenario in Scenario\n",
    "    ),\n",
    "    name=\"SendReceiveLimit\",\n",
    ")\n",
    "\n",
    "# Any distibution centreer can only reveive as much as it reveicves from warehouse in give distribution\n",
    "model.addConstrs(\n",
    "    (\n",
    "        gp.quicksum(dist_ware_scen[warehouse, distro, scenario] for distro in distros)\n",
    "        <= x[warehouse]\n",
    "        for warehouse in Warehouse\n",
    "        for scenario in Scenario\n",
    "    ),\n",
    "    name=\"ReceiveConstrain\",\n",
    ")\n",
    "\n",
    "# Distrobs can only sale based on a given demand based on a given scenario\n",
    "model.addConstrs(\n",
    "    (\n",
    "        sold_distributionc[distro, scenario] <= Demand[scenario, distro] * 1000\n",
    "        for distro in distros\n",
    "        for scenario in Scenario\n",
    "    ),\n",
    "    name=\"SaleConstrain\",\n",
    ")\n",
    "\n",
    "# Distros can only sale what is in the inventory based on a given scenario\n",
    "model.addConstrs(\n",
    "    (\n",
    "        sold_distributionc[distro, scenario] <= inv_distributionc[distro, scenario]\n",
    "        for distro in distros\n",
    "        for scenario in Scenario\n",
    "    ),\n",
    "    name=\"SaleConstrain\",\n",
    ")\n",
    "\n",
    "model.optimize()\n",
    "print(\"Optimal Value:\", model.Objval)\n",
    "model.printAttr(\"X\")"
   ]
  },
  {
   "cell_type": "markdown",
   "metadata": {},
   "source": [
    "## q3 b\n",
    "\n",
    "#### B1 & B2"
   ]
  },
  {
   "cell_type": "code",
   "execution_count": 47,
   "metadata": {},
   "outputs": [
    {
     "name": "stdout",
     "output_type": "stream",
     "text": [
      "Gurobi Optimizer version 10.0.0 build v10.0.0rc2 (linux64)\n",
      "\n",
      "CPU model: 11th Gen Intel(R) Core(TM) i7-1165G7 @ 2.80GHz, instruction set [SSE2|AVX|AVX2|AVX512]\n",
      "Thread count: 4 physical cores, 8 logical processors, using up to 8 threads\n",
      "\n",
      "Optimize a model with 12300 rows, 102546 columns and 110700 nonzeros\n",
      "Model fingerprint: 0x3e15b604\n",
      "Model has 2300 quadratic constraints\n",
      "Variable types: 0 continuous, 102546 integer (23 binary)\n",
      "Coefficient statistics:\n",
      "  Matrix range     [1e+00, 1e+00]\n",
      "  QMatrix range    [1e+00, 1e+00]\n",
      "  QLMatrix range   [1e+00, 1e+00]\n",
      "  Objective range  [9e-03, 1e+05]\n",
      "  Bounds range     [1e+00, 1e+00]\n",
      "  RHS range        [7e+02, 4e+04]\n",
      "Found heuristic solution: objective -0.0000000\n",
      "Presolve removed 5900 rows and 4077 columns\n",
      "Presolve time: 0.35s\n",
      "Presolved: 6469 rows, 98538 columns, 195161 nonzeros\n",
      "Presolved model has 46 SOS constraint(s)\n",
      "Variable types: 0 continuous, 98538 integer (46 binary)\n",
      "Deterministic concurrent LP optimizer: primal and dual simplex\n",
      "Showing first log only...\n",
      "\n",
      "Concurrent spin time: 0.01s\n",
      "\n",
      "Solved with dual simplex\n",
      "\n",
      "Root relaxation: objective 5.332108e+06, 0 iterations, 0.15 seconds (0.10 work units)\n",
      "\n",
      "    Nodes    |    Current Node    |     Objective Bounds      |     Work\n",
      " Expl Unexpl |  Obj  Depth IntInf | Incumbent    BestBd   Gap | It/Node Time\n",
      "\n",
      "     0     0 5332108.32    0   23   -0.00000 5332108.32      -     -    0s\n",
      "     0     0 2303772.34    0   17   -0.00000 2303772.34      -     -    2s\n",
      "H    0     0                    701321.96700 2303772.34   228%     -    2s\n",
      "H    0     0                    2071035.6210 2303772.34  11.2%     -    2s\n",
      "     0     0 2303772.34    0   17 2071035.62 2303772.34  11.2%     -    3s\n",
      "H    0     0                    2088036.1880 2303772.34  10.3%     -    4s\n",
      "     0     2 2203772.34    0   17 2088036.19 2203772.34  5.54%     -    4s\n",
      "     3     6     cutoff    2      2088036.19 2203772.34  5.54%   561    5s\n",
      "*   20     8               5    2114864.2090 2203772.34  4.20%   973    6s\n",
      "*   27     5               5    2124910.4550 2203772.34  3.71%  1052    6s\n",
      "\n",
      "Explored 43 nodes (67883 simplex iterations) in 7.96 seconds (5.86 work units)\n",
      "Thread count was 8 (of 8 available processors)\n",
      "\n",
      "Solution count 6: 2.12491e+06 2.11486e+06 2.08804e+06 ... -0\n",
      "\n",
      "Optimal solution found (tolerance 1.00e-04)\n",
      "Best objective 2.124910455000e+06, best bound 2.124910455000e+06, gap 0.0000%\n",
      "Optimal Value: 2124910.4550000043\n"
     ]
    },
    {
     "data": {
      "application/javascript": "\n            setTimeout(function() {\n                var nbb_cell_id = 47;\n                var nbb_unformatted_code = \"TransportationCosts = pd.read_csv(\\n    \\\"/home/angelo/Documents/Uni/Courses/Management Science/MS_Code_repo/data/TranportationCosts.csv\\\",\\n    encoding=\\\"latin-1\\\",\\n)\\nDemand = pd.read_csv(\\n    \\\"/home/angelo/Documents/Uni/Courses/Management Science/MS_Code_repo/data/demand.csv\\\",\\n    encoding=\\\"latin-1\\\",\\n)\\n\\nScenario = Demand.columns[1:].to_list()\\nScenario_Probabilities = dict(zip(Scenario, [1 / 100] * 100))\\n\\n\\nDistro = Demand.loc[:, \\\"DistributionCenter\\\"].to_list()\\nWarehouse = TransportationCosts.loc[:, \\\"Warehouse\\\"].to_list()\\n\\n\\ndemand = {}\\nfor distro in range(0, len(Demand)):\\n    for scene in range(1, len(Demand.columns)):\\n        demand[(Distro[distro], Scenario[scene - 1])] = Demand.loc[\\n            distro, Scenario[scene - 1]\\n        ]\\n\\n\\nTrasnportation_Costs = {}\\nfor warehouse in range(0, len(TransportationCosts)):\\n    for distro in range(2, len(TransportationCosts.columns)):\\n        Trasnportation_Costs[\\n            (Warehouse[warehouse], Distro[distro - 2])\\n        ] = TransportationCosts.loc[warehouse, Distro[distro - 2]]\\n\\n\\nTransport_Warehouse = {}\\nfor warehouse in range(0, len(TransportationCosts)):\\n    Transport_Warehouse[Warehouse[warehouse]] = TransportationCosts.loc[\\n        warehouse, \\\"PFacility\\\"\\n    ]\\n\\n# init the mdoel\\nmodel = gp.Model()\\nmodel.ModelSense = gp.GRB.MAXIMIZE\\n\\n# first stage\\nWareHProd_mod = model.addVars(Warehouse, vtype=gp.GRB.INTEGER, name=\\\"Production\\\")\\nWareHInv_mod = model.addVars(Warehouse, vtype=gp.GRB.BINARY, name=\\\"Investment\\\")\\n\\n# second stage\\ndist_ware_scen = model.addVars(\\n    Warehouse, Distro, Scenario, vtype=gp.GRB.INTEGER, name=\\\"Transportation\\\"\\n)\\n\\n\\n# products demand at distribution center given scenario\\nsold_distributioncentrer = model.addVars(\\n    Distro, Scenario, vtype=gp.GRB.INTEGER, name=\\\"Sold\\\"\\n)\\n\\n# Inventory at distribution for a given scenario\\nInventory_Distr = model.addVars(\\n    Distro, Scenario, vtype=gp.GRB.INTEGER, name=\\\"Inventory\\\"\\n)\\n\\n\\nmodel.setObjective(\\n    gp.quicksum(\\n        # Profit definition\\n        20 * Scenario_Probabilities[scene] * sold_distributioncentrer[distro, scene]\\n        for distro in Distro\\n        for scene in Scenario\\n    )\\n    - gp.quicksum(\\n        # warehousehozse and transport costs and production octs\\n        WareHProd_mod[warehouse] * (10 + Transport_Warehouse[warehouse])\\n        for warehouse in Warehouse\\n    )\\n    # fixed costs etc\\n    - gp.quicksum(WareHInv_mod[warehouse] * 100000 for warehouse in Warehouse)\\n    - gp.quicksum(\\n        dist_ware_scen[warehouse, distro, scene]\\n        * Trasnportation_Costs[warehouse, distro]\\n        * Scenario_Probabilities[scene]\\n        for distro in Distro\\n        for scene in Scenario\\n        for warehouse in Warehouse\\n    )\\n)\\n\\n# binary condition if they are turned on they can send\\nmodel.addConstrs(\\n    (\\n        gp.quicksum(dist_ware_scen[warehouse, distro, scene] for distro in Distro)\\n        <= WareHProd_mod[warehouse] * WareHInv_mod[warehouse]\\n        for scene in Scenario\\n        for warehouse in Warehouse\\n    ),\\n    name=\\\"SentProduction_Bin\\\",\\n)\\n\\n# inventory cannoth be greater than what you send there\\nmodel.addConstrs(\\n    (\\n        Inventory_Distr[distro, scene]\\n        == gp.quicksum(\\n            dist_ware_scen[warehouse, distro, scene] for warehouse in Warehouse\\n        )\\n        for scene in Scenario\\n        for distro in Distro\\n    ),\\n    name=\\\"Distr_Receive_Sent_limit\\\",\\n)\\n\\n# Distrobs can only sale based on a given demand based on a given scenario\\nmodel.addConstrs(\\n    (\\n        sold_distributioncentrer[distro, scene] <= demand[distro, scene]\\n        for scene in Scenario\\n        for distro in Distro\\n    ),\\n    name=\\\"Warehouse_Received_Demand_Limit\\\",\\n)\\n# Distrobs can only sale based on a given inventory based on a given scenario\\nmodel.addConstrs(\\n    (\\n        sold_distributioncentrer[distro, scene] <= Inventory_Distr[distro, scene]\\n        for scene in Scenario\\n        for distro in Distro\\n    ),\\n    name=\\\"Warehouse_Received_Demand_Limit\\\",\\n)\\n\\n\\nmodel.optimize()\\nprint(\\\"Optimal Value:\\\", model.Objval)\\n\\n# model.printAttr(\\\"X\\\")\";\n                var nbb_formatted_code = \"TransportationCosts = pd.read_csv(\\n    \\\"/home/angelo/Documents/Uni/Courses/Management Science/MS_Code_repo/data/TranportationCosts.csv\\\",\\n    encoding=\\\"latin-1\\\",\\n)\\nDemand = pd.read_csv(\\n    \\\"/home/angelo/Documents/Uni/Courses/Management Science/MS_Code_repo/data/demand.csv\\\",\\n    encoding=\\\"latin-1\\\",\\n)\\n\\nScenario = Demand.columns[1:].to_list()\\nScenario_Probabilities = dict(zip(Scenario, [1 / 100] * 100))\\n\\n\\nDistro = Demand.loc[:, \\\"DistributionCenter\\\"].to_list()\\nWarehouse = TransportationCosts.loc[:, \\\"Warehouse\\\"].to_list()\\n\\n\\ndemand = {}\\nfor distro in range(0, len(Demand)):\\n    for scene in range(1, len(Demand.columns)):\\n        demand[(Distro[distro], Scenario[scene - 1])] = Demand.loc[\\n            distro, Scenario[scene - 1]\\n        ]\\n\\n\\nTrasnportation_Costs = {}\\nfor warehouse in range(0, len(TransportationCosts)):\\n    for distro in range(2, len(TransportationCosts.columns)):\\n        Trasnportation_Costs[\\n            (Warehouse[warehouse], Distro[distro - 2])\\n        ] = TransportationCosts.loc[warehouse, Distro[distro - 2]]\\n\\n\\nTransport_Warehouse = {}\\nfor warehouse in range(0, len(TransportationCosts)):\\n    Transport_Warehouse[Warehouse[warehouse]] = TransportationCosts.loc[\\n        warehouse, \\\"PFacility\\\"\\n    ]\\n\\n# init the mdoel\\nmodel = gp.Model()\\nmodel.ModelSense = gp.GRB.MAXIMIZE\\n\\n# first stage\\nWareHProd_mod = model.addVars(Warehouse, vtype=gp.GRB.INTEGER, name=\\\"Production\\\")\\nWareHInv_mod = model.addVars(Warehouse, vtype=gp.GRB.BINARY, name=\\\"Investment\\\")\\n\\n# second stage\\ndist_ware_scen = model.addVars(\\n    Warehouse, Distro, Scenario, vtype=gp.GRB.INTEGER, name=\\\"Transportation\\\"\\n)\\n\\n\\n# products demand at distribution center given scenario\\nsold_distributioncentrer = model.addVars(\\n    Distro, Scenario, vtype=gp.GRB.INTEGER, name=\\\"Sold\\\"\\n)\\n\\n# Inventory at distribution for a given scenario\\nInventory_Distr = model.addVars(\\n    Distro, Scenario, vtype=gp.GRB.INTEGER, name=\\\"Inventory\\\"\\n)\\n\\n\\nmodel.setObjective(\\n    gp.quicksum(\\n        # Profit definition\\n        20 * Scenario_Probabilities[scene] * sold_distributioncentrer[distro, scene]\\n        for distro in Distro\\n        for scene in Scenario\\n    )\\n    - gp.quicksum(\\n        # warehousehozse and transport costs and production octs\\n        WareHProd_mod[warehouse] * (10 + Transport_Warehouse[warehouse])\\n        for warehouse in Warehouse\\n    )\\n    # fixed costs etc\\n    - gp.quicksum(WareHInv_mod[warehouse] * 100000 for warehouse in Warehouse)\\n    - gp.quicksum(\\n        dist_ware_scen[warehouse, distro, scene]\\n        * Trasnportation_Costs[warehouse, distro]\\n        * Scenario_Probabilities[scene]\\n        for distro in Distro\\n        for scene in Scenario\\n        for warehouse in Warehouse\\n    )\\n)\\n\\n# binary condition if they are turned on they can send\\nmodel.addConstrs(\\n    (\\n        gp.quicksum(dist_ware_scen[warehouse, distro, scene] for distro in Distro)\\n        <= WareHProd_mod[warehouse] * WareHInv_mod[warehouse]\\n        for scene in Scenario\\n        for warehouse in Warehouse\\n    ),\\n    name=\\\"SentProduction_Bin\\\",\\n)\\n\\n# inventory cannoth be greater than what you send there\\nmodel.addConstrs(\\n    (\\n        Inventory_Distr[distro, scene]\\n        == gp.quicksum(\\n            dist_ware_scen[warehouse, distro, scene] for warehouse in Warehouse\\n        )\\n        for scene in Scenario\\n        for distro in Distro\\n    ),\\n    name=\\\"Distr_Receive_Sent_limit\\\",\\n)\\n\\n# Distrobs can only sale based on a given demand based on a given scenario\\nmodel.addConstrs(\\n    (\\n        sold_distributioncentrer[distro, scene] <= demand[distro, scene]\\n        for scene in Scenario\\n        for distro in Distro\\n    ),\\n    name=\\\"Warehouse_Received_Demand_Limit\\\",\\n)\\n# Distrobs can only sale based on a given inventory based on a given scenario\\nmodel.addConstrs(\\n    (\\n        sold_distributioncentrer[distro, scene] <= Inventory_Distr[distro, scene]\\n        for scene in Scenario\\n        for distro in Distro\\n    ),\\n    name=\\\"Warehouse_Received_Demand_Limit\\\",\\n)\\n\\n\\nmodel.optimize()\\nprint(\\\"Optimal Value:\\\", model.Objval)\\n\\n# model.printAttr(\\\"X\\\")\";\n                var nbb_cells = Jupyter.notebook.get_cells();\n                for (var i = 0; i < nbb_cells.length; ++i) {\n                    if (nbb_cells[i].input_prompt_number == nbb_cell_id) {\n                        if (nbb_cells[i].get_text() == nbb_unformatted_code) {\n                             nbb_cells[i].set_text(nbb_formatted_code);\n                        }\n                        break;\n                    }\n                }\n            }, 500);\n            ",
      "text/plain": [
       "<IPython.core.display.Javascript object>"
      ]
     },
     "metadata": {},
     "output_type": "display_data"
    }
   ],
   "source": [
    "TransportationCosts = pd.read_csv(\n",
    "    \"/home/angelo/Documents/Uni/Courses/Management Science/MS_Code_repo/data/TranportationCosts.csv\",\n",
    "    encoding=\"latin-1\",\n",
    ")\n",
    "Demand = pd.read_csv(\n",
    "    \"/home/angelo/Documents/Uni/Courses/Management Science/MS_Code_repo/data/demand.csv\",\n",
    "    encoding=\"latin-1\",\n",
    ")\n",
    "\n",
    "Scenario = Demand.columns[1:].to_list()\n",
    "Scenario_Probabilities = dict(zip(Scenario, [1 / 100] * 100))\n",
    "\n",
    "\n",
    "Distro = Demand.loc[:, \"DistributionCenter\"].to_list()\n",
    "Warehouse = TransportationCosts.loc[:, \"Warehouse\"].to_list()\n",
    "\n",
    "\n",
    "demand = {}\n",
    "for distro in range(0, len(Demand)):\n",
    "    for scene in range(1, len(Demand.columns)):\n",
    "        demand[(Distro[distro], Scenario[scene - 1])] = Demand.loc[\n",
    "            distro, Scenario[scene - 1]\n",
    "        ]\n",
    "\n",
    "\n",
    "Trasnportation_Costs = {}\n",
    "for warehouse in range(0, len(TransportationCosts)):\n",
    "    for distro in range(2, len(TransportationCosts.columns)):\n",
    "        Trasnportation_Costs[\n",
    "            (Warehouse[warehouse], Distro[distro - 2])\n",
    "        ] = TransportationCosts.loc[warehouse, Distro[distro - 2]]\n",
    "\n",
    "\n",
    "Transport_Warehouse = {}\n",
    "for warehouse in range(0, len(TransportationCosts)):\n",
    "    Transport_Warehouse[Warehouse[warehouse]] = TransportationCosts.loc[\n",
    "        warehouse, \"PFacility\"\n",
    "    ]\n",
    "\n",
    "# init the mdoel\n",
    "model = gp.Model()\n",
    "model.ModelSense = gp.GRB.MAXIMIZE\n",
    "\n",
    "# first stage\n",
    "WareHProd_mod = model.addVars(Warehouse, vtype=gp.GRB.INTEGER, name=\"Production\")\n",
    "WareHInv_mod = model.addVars(Warehouse, vtype=gp.GRB.BINARY, name=\"Investment\")\n",
    "\n",
    "# second stage\n",
    "dist_ware_scen = model.addVars(\n",
    "    Warehouse, Distro, Scenario, vtype=gp.GRB.INTEGER, name=\"Transportation\"\n",
    ")\n",
    "\n",
    "\n",
    "# products demand at distribution center given scenario\n",
    "sold_distributioncentrer = model.addVars(\n",
    "    Distro, Scenario, vtype=gp.GRB.INTEGER, name=\"Sold\"\n",
    ")\n",
    "\n",
    "# Inventory at distribution for a given scenario\n",
    "Inventory_Distr = model.addVars(\n",
    "    Distro, Scenario, vtype=gp.GRB.INTEGER, name=\"Inventory\"\n",
    ")\n",
    "\n",
    "\n",
    "model.setObjective(\n",
    "    gp.quicksum(\n",
    "        # Profit definition\n",
    "        20 * Scenario_Probabilities[scene] * sold_distributioncentrer[distro, scene]\n",
    "        for distro in Distro\n",
    "        for scene in Scenario\n",
    "    )\n",
    "    - gp.quicksum(\n",
    "        # warehousehozse and transport costs and production octs\n",
    "        WareHProd_mod[warehouse] * (10 + Transport_Warehouse[warehouse])\n",
    "        for warehouse in Warehouse\n",
    "    )\n",
    "    # fixed costs etc\n",
    "    - gp.quicksum(WareHInv_mod[warehouse] * 100000 for warehouse in Warehouse)\n",
    "    - gp.quicksum(\n",
    "        dist_ware_scen[warehouse, distro, scene]\n",
    "        * Trasnportation_Costs[warehouse, distro]\n",
    "        * Scenario_Probabilities[scene]\n",
    "        for distro in Distro\n",
    "        for scene in Scenario\n",
    "        for warehouse in Warehouse\n",
    "    )\n",
    ")\n",
    "\n",
    "# binary condition if they are turned on they can send\n",
    "model.addConstrs(\n",
    "    (\n",
    "        gp.quicksum(dist_ware_scen[warehouse, distro, scene] for distro in Distro)\n",
    "        <= WareHProd_mod[warehouse] * WareHInv_mod[warehouse]\n",
    "        for scene in Scenario\n",
    "        for warehouse in Warehouse\n",
    "    ),\n",
    "    name=\"SentProduction_Bin\",\n",
    ")\n",
    "\n",
    "# inventory cannoth be greater than what you send there\n",
    "model.addConstrs(\n",
    "    (\n",
    "        Inventory_Distr[distro, scene]\n",
    "        == gp.quicksum(\n",
    "            dist_ware_scen[warehouse, distro, scene] for warehouse in Warehouse\n",
    "        )\n",
    "        for scene in Scenario\n",
    "        for distro in Distro\n",
    "    ),\n",
    "    name=\"Distr_Receive_Sent_limit\",\n",
    ")\n",
    "\n",
    "# Distrobs can only sale based on a given demand based on a given scenario\n",
    "model.addConstrs(\n",
    "    (\n",
    "        sold_distributioncentrer[distro, scene] <= demand[distro, scene]\n",
    "        for scene in Scenario\n",
    "        for distro in Distro\n",
    "    ),\n",
    "    name=\"Warehouse_Received_Demand_Limit\",\n",
    ")\n",
    "# Distrobs can only sale based on a given inventory based on a given scenario\n",
    "model.addConstrs(\n",
    "    (\n",
    "        sold_distributioncentrer[distro, scene] <= Inventory_Distr[distro, scene]\n",
    "        for scene in Scenario\n",
    "        for distro in Distro\n",
    "    ),\n",
    "    name=\"Warehouse_Received_Demand_Limit\",\n",
    ")\n",
    "\n",
    "\n",
    "model.optimize()\n",
    "print(\"Optimal Value:\", model.Objval)\n",
    "\n",
    "# model.printAttr(\"X\")"
   ]
  },
  {
   "cell_type": "code",
   "execution_count": 48,
   "metadata": {},
   "outputs": [
    {
     "data": {
      "application/javascript": "\n            setTimeout(function() {\n                var nbb_cell_id = 48;\n                var nbb_unformatted_code = \"output_dict = {}\\nfor i_x, variable_o in dist_ware_scen.items():\\n    output_dict[i_x] = variable_o.x\\n\\ndf_vals = pd.DataFrame([key + (var,) for key, var in output_dict.items()],).rename(\\n    columns={0: \\\"Warehouse\\\", 1: \\\"DistributionCenter\\\", 2: \\\"Scenario\\\", 3: \\\"Volumne_Sent\\\"}\\n)\\n\\ndf_stut = df_vals.loc[df_vals[\\\"Warehouse\\\"].str.contains(\\\"Stuttgart\\\")]\";\n                var nbb_formatted_code = \"output_dict = {}\\nfor i_x, variable_o in dist_ware_scen.items():\\n    output_dict[i_x] = variable_o.x\\n\\ndf_vals = pd.DataFrame([key + (var,) for key, var in output_dict.items()],).rename(\\n    columns={0: \\\"Warehouse\\\", 1: \\\"DistributionCenter\\\", 2: \\\"Scenario\\\", 3: \\\"Volumne_Sent\\\"}\\n)\\n\\ndf_stut = df_vals.loc[df_vals[\\\"Warehouse\\\"].str.contains(\\\"Stuttgart\\\")]\";\n                var nbb_cells = Jupyter.notebook.get_cells();\n                for (var i = 0; i < nbb_cells.length; ++i) {\n                    if (nbb_cells[i].input_prompt_number == nbb_cell_id) {\n                        if (nbb_cells[i].get_text() == nbb_unformatted_code) {\n                             nbb_cells[i].set_text(nbb_formatted_code);\n                        }\n                        break;\n                    }\n                }\n            }, 500);\n            ",
      "text/plain": [
       "<IPython.core.display.Javascript object>"
      ]
     },
     "metadata": {},
     "output_type": "display_data"
    }
   ],
   "source": [
    "output_dict = {}\n",
    "for i_x, variable_o in dist_ware_scen.items():\n",
    "    output_dict[i_x] = variable_o.x\n",
    "\n",
    "df_vals = pd.DataFrame([key + (var,) for key, var in output_dict.items()],).rename(\n",
    "    columns={0: \"Warehouse\", 1: \"DistributionCenter\", 2: \"Scenario\", 3: \"Volumne_Sent\"}\n",
    ")\n",
    "\n",
    "df_stut = df_vals.loc[df_vals[\"Warehouse\"].str.contains(\"Stuttgart\")]"
   ]
  },
  {
   "cell_type": "code",
   "execution_count": 49,
   "metadata": {},
   "outputs": [
    {
     "data": {
      "text/plain": [
       "1.5488"
      ]
     },
     "execution_count": 49,
     "metadata": {},
     "output_type": "execute_result"
    },
    {
     "data": {
      "application/javascript": "\n            setTimeout(function() {\n                var nbb_cell_id = 49;\n                var nbb_unformatted_code = \"stuttgart = []\\nfor _, value in Trasnportation_Costs.keys():\\n    stuttgart.append(Trasnportation_Costs[\\\"WH-Stuttgart\\\", value])\\n\\nround(np.sum(stuttgart) / len(stuttgart), 4)\";\n                var nbb_formatted_code = \"stuttgart = []\\nfor _, value in Trasnportation_Costs.keys():\\n    stuttgart.append(Trasnportation_Costs[\\\"WH-Stuttgart\\\", value])\\n\\nround(np.sum(stuttgart) / len(stuttgart), 4)\";\n                var nbb_cells = Jupyter.notebook.get_cells();\n                for (var i = 0; i < nbb_cells.length; ++i) {\n                    if (nbb_cells[i].input_prompt_number == nbb_cell_id) {\n                        if (nbb_cells[i].get_text() == nbb_unformatted_code) {\n                             nbb_cells[i].set_text(nbb_formatted_code);\n                        }\n                        break;\n                    }\n                }\n            }, 500);\n            ",
      "text/plain": [
       "<IPython.core.display.Javascript object>"
      ]
     },
     "metadata": {},
     "output_type": "display_data"
    }
   ],
   "source": [
    "stuttgart = []\n",
    "for _, value in Trasnportation_Costs.keys():\n",
    "    stuttgart.append(Trasnportation_Costs[\"WH-Stuttgart\", value])\n",
    "\n",
    "round(np.sum(stuttgart) / len(stuttgart), 4)"
   ]
  },
  {
   "cell_type": "code",
   "execution_count": 50,
   "metadata": {},
   "outputs": [
    {
     "data": {
      "text/html": [
       "<div>\n",
       "<style scoped>\n",
       "    .dataframe tbody tr th:only-of-type {\n",
       "        vertical-align: middle;\n",
       "    }\n",
       "\n",
       "    .dataframe tbody tr th {\n",
       "        vertical-align: top;\n",
       "    }\n",
       "\n",
       "    .dataframe thead th {\n",
       "        text-align: right;\n",
       "    }\n",
       "</style>\n",
       "<table border=\"1\" class=\"dataframe\">\n",
       "  <thead>\n",
       "    <tr style=\"text-align: right;\">\n",
       "      <th></th>\n",
       "      <th>Cost</th>\n",
       "    </tr>\n",
       "    <tr>\n",
       "      <th>Warehouse</th>\n",
       "      <th></th>\n",
       "    </tr>\n",
       "  </thead>\n",
       "  <tbody>\n",
       "    <tr>\n",
       "      <th>WH-Stuttgart</th>\n",
       "      <td>1.548780</td>\n",
       "    </tr>\n",
       "    <tr>\n",
       "      <th>WH-Charleroi</th>\n",
       "      <td>1.558537</td>\n",
       "    </tr>\n",
       "    <tr>\n",
       "      <th>WH-Bordeaux</th>\n",
       "      <td>1.673171</td>\n",
       "    </tr>\n",
       "    <tr>\n",
       "      <th>WH-Bristol</th>\n",
       "      <td>1.682927</td>\n",
       "    </tr>\n",
       "    <tr>\n",
       "      <th>WH-KrakÃ³w</th>\n",
       "      <td>1.734146</td>\n",
       "    </tr>\n",
       "    <tr>\n",
       "      <th>WH-Palma de Mallorca</th>\n",
       "      <td>1.795122</td>\n",
       "    </tr>\n",
       "    <tr>\n",
       "      <th>WH-Glasgow</th>\n",
       "      <td>1.814634</td>\n",
       "    </tr>\n",
       "    <tr>\n",
       "      <th>WH-Oslo</th>\n",
       "      <td>1.846341</td>\n",
       "    </tr>\n",
       "    <tr>\n",
       "      <th>WH-Hanover</th>\n",
       "      <td>1.860976</td>\n",
       "    </tr>\n",
       "    <tr>\n",
       "      <th>WH-Rhodes</th>\n",
       "      <td>1.870732</td>\n",
       "    </tr>\n",
       "    <tr>\n",
       "      <th>WH-Riga</th>\n",
       "      <td>1.926829</td>\n",
       "    </tr>\n",
       "    <tr>\n",
       "      <th>WH-Palermo</th>\n",
       "      <td>1.953659</td>\n",
       "    </tr>\n",
       "    <tr>\n",
       "      <th>WH-Pisa</th>\n",
       "      <td>1.965854</td>\n",
       "    </tr>\n",
       "    <tr>\n",
       "      <th>WH-Kyiv</th>\n",
       "      <td>2.056098</td>\n",
       "    </tr>\n",
       "    <tr>\n",
       "      <th>WH-MÃ¡laga</th>\n",
       "      <td>2.082927</td>\n",
       "    </tr>\n",
       "    <tr>\n",
       "      <th>WH-Liverpool</th>\n",
       "      <td>2.107317</td>\n",
       "    </tr>\n",
       "    <tr>\n",
       "      <th>WH-Seville</th>\n",
       "      <td>2.112195</td>\n",
       "    </tr>\n",
       "    <tr>\n",
       "      <th>WH-Faro</th>\n",
       "      <td>2.131707</td>\n",
       "    </tr>\n",
       "    <tr>\n",
       "      <th>WH-Athens</th>\n",
       "      <td>2.136585</td>\n",
       "    </tr>\n",
       "    <tr>\n",
       "      <th>WH-Katowice</th>\n",
       "      <td>2.221951</td>\n",
       "    </tr>\n",
       "    <tr>\n",
       "      <th>WH-Moscow</th>\n",
       "      <td>2.317073</td>\n",
       "    </tr>\n",
       "    <tr>\n",
       "      <th>WH-Heraklion</th>\n",
       "      <td>2.326829</td>\n",
       "    </tr>\n",
       "    <tr>\n",
       "      <th>WH-Krasnodar</th>\n",
       "      <td>2.987805</td>\n",
       "    </tr>\n",
       "  </tbody>\n",
       "</table>\n",
       "</div>"
      ],
      "text/plain": [
       "                          Cost\n",
       "Warehouse                     \n",
       "WH-Stuttgart          1.548780\n",
       "WH-Charleroi          1.558537\n",
       "WH-Bordeaux           1.673171\n",
       "WH-Bristol            1.682927\n",
       "WH-KrakÃ³w            1.734146\n",
       "WH-Palma de Mallorca  1.795122\n",
       "WH-Glasgow            1.814634\n",
       "WH-Oslo               1.846341\n",
       "WH-Hanover            1.860976\n",
       "WH-Rhodes             1.870732\n",
       "WH-Riga               1.926829\n",
       "WH-Palermo            1.953659\n",
       "WH-Pisa               1.965854\n",
       "WH-Kyiv               2.056098\n",
       "WH-MÃ¡laga            2.082927\n",
       "WH-Liverpool          2.107317\n",
       "WH-Seville            2.112195\n",
       "WH-Faro               2.131707\n",
       "WH-Athens             2.136585\n",
       "WH-Katowice           2.221951\n",
       "WH-Moscow             2.317073\n",
       "WH-Heraklion          2.326829\n",
       "WH-Krasnodar          2.987805"
      ]
     },
     "execution_count": 50,
     "metadata": {},
     "output_type": "execute_result"
    },
    {
     "data": {
      "application/javascript": "\n            setTimeout(function() {\n                var nbb_cell_id = 50;\n                var nbb_unformatted_code = \"df = pd.DataFrame([key + (var,) for key, var in Trasnportation_Costs.items()]).rename(\\n    columns={0: \\\"Warehouse\\\", 1: \\\"DistributionCenter\\\", 2: \\\"Cost\\\"}\\n)\\ndf.groupby(\\\"Warehouse\\\").agg({\\\"Cost\\\": \\\"mean\\\"}).sort_values(\\\"Cost\\\")\";\n                var nbb_formatted_code = \"df = pd.DataFrame([key + (var,) for key, var in Trasnportation_Costs.items()]).rename(\\n    columns={0: \\\"Warehouse\\\", 1: \\\"DistributionCenter\\\", 2: \\\"Cost\\\"}\\n)\\ndf.groupby(\\\"Warehouse\\\").agg({\\\"Cost\\\": \\\"mean\\\"}).sort_values(\\\"Cost\\\")\";\n                var nbb_cells = Jupyter.notebook.get_cells();\n                for (var i = 0; i < nbb_cells.length; ++i) {\n                    if (nbb_cells[i].input_prompt_number == nbb_cell_id) {\n                        if (nbb_cells[i].get_text() == nbb_unformatted_code) {\n                             nbb_cells[i].set_text(nbb_formatted_code);\n                        }\n                        break;\n                    }\n                }\n            }, 500);\n            ",
      "text/plain": [
       "<IPython.core.display.Javascript object>"
      ]
     },
     "metadata": {},
     "output_type": "display_data"
    }
   ],
   "source": [
    "df = pd.DataFrame([key + (var,) for key, var in Trasnportation_Costs.items()]).rename(\n",
    "    columns={0: \"Warehouse\", 1: \"DistributionCenter\", 2: \"Cost\"}\n",
    ")\n",
    "df.groupby(\"Warehouse\").agg({\"Cost\": \"mean\"}).sort_values(\"Cost\")"
   ]
  },
  {
   "cell_type": "code",
   "execution_count": 51,
   "metadata": {},
   "outputs": [
    {
     "data": {
      "text/plain": [
       "281633.11"
      ]
     },
     "execution_count": 51,
     "metadata": {},
     "output_type": "execute_result"
    },
    {
     "data": {
      "application/javascript": "\n            setTimeout(function() {\n                var nbb_cell_id = 51;\n                var nbb_unformatted_code = \"Demand.iloc[:, 1:].mean(axis=1).sum()\";\n                var nbb_formatted_code = \"Demand.iloc[:, 1:].mean(axis=1).sum()\";\n                var nbb_cells = Jupyter.notebook.get_cells();\n                for (var i = 0; i < nbb_cells.length; ++i) {\n                    if (nbb_cells[i].input_prompt_number == nbb_cell_id) {\n                        if (nbb_cells[i].get_text() == nbb_unformatted_code) {\n                             nbb_cells[i].set_text(nbb_formatted_code);\n                        }\n                        break;\n                    }\n                }\n            }, 500);\n            ",
      "text/plain": [
       "<IPython.core.display.Javascript object>"
      ]
     },
     "metadata": {},
     "output_type": "display_data"
    }
   ],
   "source": [
    "Demand.iloc[:, 1:].mean(axis=1).sum()"
   ]
  },
  {
   "cell_type": "code",
   "execution_count": 52,
   "metadata": {},
   "outputs": [
    {
     "data": {
      "image/png": "[encoded data removed]",
      "text/plain": [
       "<Figure size 1800x720 with 1 Axes>"
      ]
     },
     "metadata": {},
     "output_type": "display_data"
    },
    {
     "data": {
      "application/javascript": "\n            setTimeout(function() {\n                var nbb_cell_id = 52;\n                var nbb_unformatted_code = \"results = []\\nfor k, v in WareHProd_mod.items():\\n    results.append([k, v.X])\\nw_WaretDis = pd.DataFrame(results).rename(columns={0: \\\"Warehouse\\\", 1: \\\"WareDis\\\"})\\n\\nresults = []\\nfor k, v in dist_ware_scen.items():\\n    results.append([k[0], k[1], k[2], v.X])\\nd_WaretDis = pd.DataFrame(results).rename(\\n    columns={0: \\\"Warehouse\\\", 1: \\\"Distr_Centres\\\", 2: \\\"Scenario\\\", 3: \\\"WaretDis\\\"}\\n)\\n\\ndist_cost = []\\nfor k, v in Trasnportation_Costs.items():\\n    dist_cost.append([k[0], k[1], v])\\ndistcenter_cost = pd.DataFrame(dist_cost).rename(\\n    columns={0: \\\"Warehouse\\\", 1: \\\"Distr_Centres\\\", 2: \\\"cost\\\"}\\n)\\n\\nresults = []\\nfor k, v in sold_distributioncentrer.items():\\n    results.append([k[0], k[1], v.X])\\nsold_products = pd.DataFrame(results, columns=[\\\"Distr_Centres\\\", \\\"Scenario\\\", \\\"Sold\\\"])\\n\\nsold_products[\\\"revenue\\\"] = sold_products.Sold * 20\\nsold_products = sold_products.groupby([\\\"Scenario\\\"]).revenue.sum().reset_index()\\n\\nd_WaretDis = pd.merge(\\n    d_WaretDis, distcenter_cost, on=[\\\"Warehouse\\\", \\\"Distr_Centres\\\"], how=\\\"left\\\"\\n).rename(columns={0: \\\"Warehouse\\\", 1: \\\"Distr_Centres\\\"})\\n\\n\\nd_WaretDis[\\\"distributon_cost\\\"] = d_WaretDis.WaretDis * d_WaretDis.cost\\nd_WaretDis = d_WaretDis.groupby([\\\"Scenario\\\"]).distributon_cost.sum().reset_index()\\n\\nexpprofit_df = pd.merge(\\n    left=sold_products, right=d_WaretDis, left_on=\\\"Scenario\\\", right_on=\\\"Scenario\\\"\\n)\\n\\nexpprofit_df[\\\"expectedprofits\\\"] = (\\n    expprofit_df.revenue\\n    - 100000\\n    - w_WaretDis.max()[1] * 0.35\\n    - expprofit_df.distributon_cost\\n    - 2784410\\n)\\n\\nexpprofit_df[\\\"numbers\\\"] = expprofit_df.Scenario.apply(lambda x: str(x).replace(\\\"S\\\", \\\"\\\"))\\nexpprofit_df = expprofit_df.sort_values(by=\\\"numbers\\\", ascending=True).reset_index(\\n    drop=True\\n)\\n\\nexpprofit_df[\\\"numbers\\\"] = expprofit_df[\\\"numbers\\\"].astype(int)\\nexpprofit_df.sort_values(by=\\\"numbers\\\", ascending=True, inplace=True)\\n\\nexpprofit_df.drop(columns=[\\\"numbers\\\"], inplace=True)\\n\\nfig, ax = plt.subplots(figsize=(25, 10))\\nsns.set_theme()\\n\\nax.bar(data=expprofit_df, x=\\\"Scenario\\\", height=\\\"expectedprofits\\\")\\nax.set_yticks(\\n    np.arange(\\n        0,\\n        max(expprofit_df[\\\"expectedprofits\\\"]) + 1,\\n        100000,\\n    )\\n)\\nplt.xticks(rotation=90)\\nax.set_xlabel(\\\"Scenario\\\")\\nax.set_ylabel(\\\"Expected Profit\\\")\\n# ax.legend()\\nplt.show()\";\n                var nbb_formatted_code = \"results = []\\nfor k, v in WareHProd_mod.items():\\n    results.append([k, v.X])\\nw_WaretDis = pd.DataFrame(results).rename(columns={0: \\\"Warehouse\\\", 1: \\\"WareDis\\\"})\\n\\nresults = []\\nfor k, v in dist_ware_scen.items():\\n    results.append([k[0], k[1], k[2], v.X])\\nd_WaretDis = pd.DataFrame(results).rename(\\n    columns={0: \\\"Warehouse\\\", 1: \\\"Distr_Centres\\\", 2: \\\"Scenario\\\", 3: \\\"WaretDis\\\"}\\n)\\n\\ndist_cost = []\\nfor k, v in Trasnportation_Costs.items():\\n    dist_cost.append([k[0], k[1], v])\\ndistcenter_cost = pd.DataFrame(dist_cost).rename(\\n    columns={0: \\\"Warehouse\\\", 1: \\\"Distr_Centres\\\", 2: \\\"cost\\\"}\\n)\\n\\nresults = []\\nfor k, v in sold_distributioncentrer.items():\\n    results.append([k[0], k[1], v.X])\\nsold_products = pd.DataFrame(results, columns=[\\\"Distr_Centres\\\", \\\"Scenario\\\", \\\"Sold\\\"])\\n\\nsold_products[\\\"revenue\\\"] = sold_products.Sold * 20\\nsold_products = sold_products.groupby([\\\"Scenario\\\"]).revenue.sum().reset_index()\\n\\nd_WaretDis = pd.merge(\\n    d_WaretDis, distcenter_cost, on=[\\\"Warehouse\\\", \\\"Distr_Centres\\\"], how=\\\"left\\\"\\n).rename(columns={0: \\\"Warehouse\\\", 1: \\\"Distr_Centres\\\"})\\n\\n\\nd_WaretDis[\\\"distributon_cost\\\"] = d_WaretDis.WaretDis * d_WaretDis.cost\\nd_WaretDis = d_WaretDis.groupby([\\\"Scenario\\\"]).distributon_cost.sum().reset_index()\\n\\nexpprofit_df = pd.merge(\\n    left=sold_products, right=d_WaretDis, left_on=\\\"Scenario\\\", right_on=\\\"Scenario\\\"\\n)\\n\\nexpprofit_df[\\\"expectedprofits\\\"] = (\\n    expprofit_df.revenue\\n    - 100000\\n    - w_WaretDis.max()[1] * 0.35\\n    - expprofit_df.distributon_cost\\n    - 2784410\\n)\\n\\nexpprofit_df[\\\"numbers\\\"] = expprofit_df.Scenario.apply(lambda x: str(x).replace(\\\"S\\\", \\\"\\\"))\\nexpprofit_df = expprofit_df.sort_values(by=\\\"numbers\\\", ascending=True).reset_index(\\n    drop=True\\n)\\n\\nexpprofit_df[\\\"numbers\\\"] = expprofit_df[\\\"numbers\\\"].astype(int)\\nexpprofit_df.sort_values(by=\\\"numbers\\\", ascending=True, inplace=True)\\n\\nexpprofit_df.drop(columns=[\\\"numbers\\\"], inplace=True)\\n\\nfig, ax = plt.subplots(figsize=(25, 10))\\nsns.set_theme()\\n\\nax.bar(data=expprofit_df, x=\\\"Scenario\\\", height=\\\"expectedprofits\\\")\\nax.set_yticks(\\n    np.arange(\\n        0,\\n        max(expprofit_df[\\\"expectedprofits\\\"]) + 1,\\n        100000,\\n    )\\n)\\nplt.xticks(rotation=90)\\nax.set_xlabel(\\\"Scenario\\\")\\nax.set_ylabel(\\\"Expected Profit\\\")\\n# ax.legend()\\nplt.show()\";\n                var nbb_cells = Jupyter.notebook.get_cells();\n                for (var i = 0; i < nbb_cells.length; ++i) {\n                    if (nbb_cells[i].input_prompt_number == nbb_cell_id) {\n                        if (nbb_cells[i].get_text() == nbb_unformatted_code) {\n                             nbb_cells[i].set_text(nbb_formatted_code);\n                        }\n                        break;\n                    }\n                }\n            }, 500);\n            ",
      "text/plain": [
       "<IPython.core.display.Javascript object>"
      ]
     },
     "metadata": {},
     "output_type": "display_data"
    }
   ],
   "source": [
    "results = []\n",
    "for k, v in WareHProd_mod.items():\n",
    "    results.append([k, v.X])\n",
    "w_WaretDis = pd.DataFrame(results).rename(columns={0: \"Warehouse\", 1: \"WareDis\"})\n",
    "\n",
    "results = []\n",
    "for k, v in dist_ware_scen.items():\n",
    "    results.append([k[0], k[1], k[2], v.X])\n",
    "d_WaretDis = pd.DataFrame(results).rename(\n",
    "    columns={0: \"Warehouse\", 1: \"Distr_Centres\", 2: \"Scenario\", 3: \"WaretDis\"}\n",
    ")\n",
    "\n",
    "dist_cost = []\n",
    "for k, v in Trasnportation_Costs.items():\n",
    "    dist_cost.append([k[0], k[1], v])\n",
    "distcenter_cost = pd.DataFrame(dist_cost).rename(\n",
    "    columns={0: \"Warehouse\", 1: \"Distr_Centres\", 2: \"cost\"}\n",
    ")\n",
    "\n",
    "results = []\n",
    "for k, v in sold_distributioncentrer.items():\n",
    "    results.append([k[0], k[1], v.X])\n",
    "sold_products = pd.DataFrame(results, columns=[\"Distr_Centres\", \"Scenario\", \"Sold\"])\n",
    "\n",
    "sold_products[\"revenue\"] = sold_products.Sold * 20\n",
    "sold_products = sold_products.groupby([\"Scenario\"]).revenue.sum().reset_index()\n",
    "\n",
    "d_WaretDis = pd.merge(\n",
    "    d_WaretDis, distcenter_cost, on=[\"Warehouse\", \"Distr_Centres\"], how=\"left\"\n",
    ").rename(columns={0: \"Warehouse\", 1: \"Distr_Centres\"})\n",
    "\n",
    "\n",
    "d_WaretDis[\"distributon_cost\"] = d_WaretDis.WaretDis * d_WaretDis.cost\n",
    "d_WaretDis = d_WaretDis.groupby([\"Scenario\"]).distributon_cost.sum().reset_index()\n",
    "\n",
    "expprofit_df = pd.merge(\n",
    "    left=sold_products, right=d_WaretDis, left_on=\"Scenario\", right_on=\"Scenario\"\n",
    ")\n",
    "\n",
    "expprofit_df[\"expectedprofits\"] = (\n",
    "    expprofit_df.revenue\n",
    "    - 100000\n",
    "    - w_WaretDis.max()[1] * 0.35\n",
    "    - expprofit_df.distributon_cost\n",
    "    - 2784410\n",
    ")\n",
    "\n",
    "expprofit_df[\"numbers\"] = expprofit_df.Scenario.apply(lambda x: str(x).replace(\"S\", \"\"))\n",
    "expprofit_df = expprofit_df.sort_values(by=\"numbers\", ascending=True).reset_index(\n",
    "    drop=True\n",
    ")\n",
    "\n",
    "expprofit_df[\"numbers\"] = expprofit_df[\"numbers\"].astype(int)\n",
    "expprofit_df.sort_values(by=\"numbers\", ascending=True, inplace=True)\n",
    "\n",
    "expprofit_df.drop(columns=[\"numbers\"], inplace=True)\n",
    "\n",
    "fig, ax = plt.subplots(figsize=(25, 10))\n",
    "sns.set_theme()\n",
    "\n",
    "ax.bar(data=expprofit_df, x=\"Scenario\", height=\"expectedprofits\")\n",
    "ax.set_yticks(\n",
    "    np.arange(\n",
    "        0,\n",
    "        max(expprofit_df[\"expectedprofits\"]) + 1,\n",
    "        100000,\n",
    "    )\n",
    ")\n",
    "plt.xticks(rotation=90)\n",
    "ax.set_xlabel(\"Scenario\")\n",
    "ax.set_ylabel(\"Expected Profit\")\n",
    "# ax.legend()\n",
    "plt.show()"
   ]
  },
  {
   "cell_type": "code",
   "execution_count": 53,
   "metadata": {},
   "outputs": [
    {
     "data": {
      "text/html": [
       "<div>\n",
       "<style scoped>\n",
       "    .dataframe tbody tr th:only-of-type {\n",
       "        vertical-align: middle;\n",
       "    }\n",
       "\n",
       "    .dataframe tbody tr th {\n",
       "        vertical-align: top;\n",
       "    }\n",
       "\n",
       "    .dataframe thead th {\n",
       "        text-align: right;\n",
       "    }\n",
       "</style>\n",
       "<table border=\"1\" class=\"dataframe\">\n",
       "  <thead>\n",
       "    <tr style=\"text-align: right;\">\n",
       "      <th></th>\n",
       "      <th>Scenario</th>\n",
       "      <th>revenue</th>\n",
       "      <th>distributon_cost</th>\n",
       "      <th>expectedprofits</th>\n",
       "      <th>FixedCosts</th>\n",
       "      <th>WarehouseCosts</th>\n",
       "      <th>ProductionCosts</th>\n",
       "      <th>2nd_StageProfits</th>\n",
       "    </tr>\n",
       "  </thead>\n",
       "  <tbody>\n",
       "    <tr>\n",
       "      <th>52</th>\n",
       "      <td>S56</td>\n",
       "      <td>4940660.0</td>\n",
       "      <td>356871.5</td>\n",
       "      <td>1601924.15</td>\n",
       "      <td>100000</td>\n",
       "      <td>97454.35</td>\n",
       "      <td>2784410</td>\n",
       "      <td>4583788.5</td>\n",
       "    </tr>\n",
       "  </tbody>\n",
       "</table>\n",
       "</div>"
      ],
      "text/plain": [
       "   Scenario    revenue  distributon_cost  expectedprofits  FixedCosts  \\\n",
       "52      S56  4940660.0          356871.5       1601924.15      100000   \n",
       "\n",
       "    WarehouseCosts  ProductionCosts  2nd_StageProfits  \n",
       "52        97454.35          2784410         4583788.5  "
      ]
     },
     "execution_count": 53,
     "metadata": {},
     "output_type": "execute_result"
    },
    {
     "data": {
      "application/javascript": "\n            setTimeout(function() {\n                var nbb_cell_id = 53;\n                var nbb_unformatted_code = \"expprofit_df[\\\"FixedCosts\\\"] = 100000\\nexpprofit_df[\\\"WarehouseCosts\\\"] = w_WaretDis.max()[1] * 0.35\\nexpprofit_df[\\\"ProductionCosts\\\"] = 278441 * 10\\nexpprofit_df[\\\"2nd_StageProfits\\\"] = expprofit_df.revenue - expprofit_df.distributon_cost\\n\\nexpprofit_df[expprofit_df.expectedprofits == expprofit_df.expectedprofits.min()]\";\n                var nbb_formatted_code = \"expprofit_df[\\\"FixedCosts\\\"] = 100000\\nexpprofit_df[\\\"WarehouseCosts\\\"] = w_WaretDis.max()[1] * 0.35\\nexpprofit_df[\\\"ProductionCosts\\\"] = 278441 * 10\\nexpprofit_df[\\\"2nd_StageProfits\\\"] = expprofit_df.revenue - expprofit_df.distributon_cost\\n\\nexpprofit_df[expprofit_df.expectedprofits == expprofit_df.expectedprofits.min()]\";\n                var nbb_cells = Jupyter.notebook.get_cells();\n                for (var i = 0; i < nbb_cells.length; ++i) {\n                    if (nbb_cells[i].input_prompt_number == nbb_cell_id) {\n                        if (nbb_cells[i].get_text() == nbb_unformatted_code) {\n                             nbb_cells[i].set_text(nbb_formatted_code);\n                        }\n                        break;\n                    }\n                }\n            }, 500);\n            ",
      "text/plain": [
       "<IPython.core.display.Javascript object>"
      ]
     },
     "metadata": {},
     "output_type": "display_data"
    }
   ],
   "source": [
    "expprofit_df[\"FixedCosts\"] = 100000\n",
    "expprofit_df[\"WarehouseCosts\"] = w_WaretDis.max()[1] * 0.35\n",
    "expprofit_df[\"ProductionCosts\"] = 278441 * 10\n",
    "expprofit_df[\"2nd_StageProfits\"] = expprofit_df.revenue - expprofit_df.distributon_cost\n",
    "\n",
    "expprofit_df[expprofit_df.expectedprofits == expprofit_df.expectedprofits.min()]"
   ]
  },
  {
   "cell_type": "code",
   "execution_count": 54,
   "metadata": {},
   "outputs": [
    {
     "data": {
      "image/png": "[encoded data removed]",
      "text/plain": [
       "<Figure size 1440x630 with 1 Axes>"
      ]
     },
     "metadata": {},
     "output_type": "display_data"
    },
    {
     "data": {
      "application/javascript": "\n            setTimeout(function() {\n                var nbb_cell_id = 54;\n                var nbb_unformatted_code = \"fig, ax = plt.subplots(figsize=(20, 8.75))\\nsns.set_theme()\\n\\n\\nplt.hist(expprofit_df.expectedprofits, bins=30)\\nplt.xlabel(\\\"Expected Profit Range\\\")\\nplt.ylabel(\\\"Frequency\\\")\\n# ax.legend()\\nplt.show()\";\n                var nbb_formatted_code = \"fig, ax = plt.subplots(figsize=(20, 8.75))\\nsns.set_theme()\\n\\n\\nplt.hist(expprofit_df.expectedprofits, bins=30)\\nplt.xlabel(\\\"Expected Profit Range\\\")\\nplt.ylabel(\\\"Frequency\\\")\\n# ax.legend()\\nplt.show()\";\n                var nbb_cells = Jupyter.notebook.get_cells();\n                for (var i = 0; i < nbb_cells.length; ++i) {\n                    if (nbb_cells[i].input_prompt_number == nbb_cell_id) {\n                        if (nbb_cells[i].get_text() == nbb_unformatted_code) {\n                             nbb_cells[i].set_text(nbb_formatted_code);\n                        }\n                        break;\n                    }\n                }\n            }, 500);\n            ",
      "text/plain": [
       "<IPython.core.display.Javascript object>"
      ]
     },
     "metadata": {},
     "output_type": "display_data"
    }
   ],
   "source": [
    "fig, ax = plt.subplots(figsize=(20, 8.75))\n",
    "sns.set_theme()\n",
    "\n",
    "\n",
    "plt.hist(expprofit_df.expectedprofits, bins=30)\n",
    "plt.xlabel(\"Expected Profit Range\")\n",
    "plt.ylabel(\"Frequency\")\n",
    "# ax.legend()\n",
    "plt.show()"
   ]
  },
  {
   "cell_type": "code",
   "execution_count": 55,
   "metadata": {},
   "outputs": [
    {
     "data": {
      "text/html": [
       "<div>\n",
       "<style scoped>\n",
       "    .dataframe tbody tr th:only-of-type {\n",
       "        vertical-align: middle;\n",
       "    }\n",
       "\n",
       "    .dataframe tbody tr th {\n",
       "        vertical-align: top;\n",
       "    }\n",
       "\n",
       "    .dataframe thead th {\n",
       "        text-align: right;\n",
       "    }\n",
       "</style>\n",
       "<table border=\"1\" class=\"dataframe\">\n",
       "  <thead>\n",
       "    <tr style=\"text-align: right;\">\n",
       "      <th></th>\n",
       "      <th>Warehouse</th>\n",
       "      <th>WareDis</th>\n",
       "    </tr>\n",
       "  </thead>\n",
       "  <tbody>\n",
       "    <tr>\n",
       "      <th>0</th>\n",
       "      <td>WH-Seville</td>\n",
       "      <td>0.0</td>\n",
       "    </tr>\n",
       "    <tr>\n",
       "      <th>1</th>\n",
       "      <td>WH-Rhodes</td>\n",
       "      <td>0.0</td>\n",
       "    </tr>\n",
       "    <tr>\n",
       "      <th>2</th>\n",
       "      <td>WH-Heraklion</td>\n",
       "      <td>0.0</td>\n",
       "    </tr>\n",
       "    <tr>\n",
       "      <th>3</th>\n",
       "      <td>WH-Stuttgart</td>\n",
       "      <td>278441.0</td>\n",
       "    </tr>\n",
       "    <tr>\n",
       "      <th>4</th>\n",
       "      <td>WH-Charleroi</td>\n",
       "      <td>0.0</td>\n",
       "    </tr>\n",
       "    <tr>\n",
       "      <th>5</th>\n",
       "      <td>WH-Bristol</td>\n",
       "      <td>0.0</td>\n",
       "    </tr>\n",
       "    <tr>\n",
       "      <th>6</th>\n",
       "      <td>WH-MÃ¡laga</td>\n",
       "      <td>0.0</td>\n",
       "    </tr>\n",
       "    <tr>\n",
       "      <th>7</th>\n",
       "      <td>WH-Moscow</td>\n",
       "      <td>0.0</td>\n",
       "    </tr>\n",
       "    <tr>\n",
       "      <th>8</th>\n",
       "      <td>WH-Glasgow</td>\n",
       "      <td>0.0</td>\n",
       "    </tr>\n",
       "    <tr>\n",
       "      <th>9</th>\n",
       "      <td>WH-Oslo</td>\n",
       "      <td>0.0</td>\n",
       "    </tr>\n",
       "    <tr>\n",
       "      <th>10</th>\n",
       "      <td>WH-Riga</td>\n",
       "      <td>0.0</td>\n",
       "    </tr>\n",
       "    <tr>\n",
       "      <th>11</th>\n",
       "      <td>WH-Pisa</td>\n",
       "      <td>0.0</td>\n",
       "    </tr>\n",
       "    <tr>\n",
       "      <th>12</th>\n",
       "      <td>WH-KrakÃ³w</td>\n",
       "      <td>0.0</td>\n",
       "    </tr>\n",
       "    <tr>\n",
       "      <th>13</th>\n",
       "      <td>WH-Kyiv</td>\n",
       "      <td>0.0</td>\n",
       "    </tr>\n",
       "    <tr>\n",
       "      <th>14</th>\n",
       "      <td>WH-Krasnodar</td>\n",
       "      <td>0.0</td>\n",
       "    </tr>\n",
       "    <tr>\n",
       "      <th>15</th>\n",
       "      <td>WH-Palma de Mallorca</td>\n",
       "      <td>0.0</td>\n",
       "    </tr>\n",
       "    <tr>\n",
       "      <th>16</th>\n",
       "      <td>WH-Hanover</td>\n",
       "      <td>0.0</td>\n",
       "    </tr>\n",
       "    <tr>\n",
       "      <th>17</th>\n",
       "      <td>WH-Katowice</td>\n",
       "      <td>0.0</td>\n",
       "    </tr>\n",
       "    <tr>\n",
       "      <th>18</th>\n",
       "      <td>WH-Athens</td>\n",
       "      <td>0.0</td>\n",
       "    </tr>\n",
       "    <tr>\n",
       "      <th>19</th>\n",
       "      <td>WH-Palermo</td>\n",
       "      <td>0.0</td>\n",
       "    </tr>\n",
       "    <tr>\n",
       "      <th>20</th>\n",
       "      <td>WH-Liverpool</td>\n",
       "      <td>0.0</td>\n",
       "    </tr>\n",
       "    <tr>\n",
       "      <th>21</th>\n",
       "      <td>WH-Faro</td>\n",
       "      <td>0.0</td>\n",
       "    </tr>\n",
       "    <tr>\n",
       "      <th>22</th>\n",
       "      <td>WH-Bordeaux</td>\n",
       "      <td>0.0</td>\n",
       "    </tr>\n",
       "  </tbody>\n",
       "</table>\n",
       "</div>"
      ],
      "text/plain": [
       "               Warehouse   WareDis\n",
       "0             WH-Seville       0.0\n",
       "1              WH-Rhodes       0.0\n",
       "2           WH-Heraklion       0.0\n",
       "3           WH-Stuttgart  278441.0\n",
       "4           WH-Charleroi       0.0\n",
       "5             WH-Bristol       0.0\n",
       "6             WH-MÃ¡laga       0.0\n",
       "7              WH-Moscow       0.0\n",
       "8             WH-Glasgow       0.0\n",
       "9                WH-Oslo       0.0\n",
       "10               WH-Riga       0.0\n",
       "11               WH-Pisa       0.0\n",
       "12            WH-KrakÃ³w       0.0\n",
       "13               WH-Kyiv       0.0\n",
       "14          WH-Krasnodar       0.0\n",
       "15  WH-Palma de Mallorca       0.0\n",
       "16            WH-Hanover       0.0\n",
       "17           WH-Katowice       0.0\n",
       "18             WH-Athens       0.0\n",
       "19            WH-Palermo       0.0\n",
       "20          WH-Liverpool       0.0\n",
       "21               WH-Faro       0.0\n",
       "22           WH-Bordeaux       0.0"
      ]
     },
     "execution_count": 55,
     "metadata": {},
     "output_type": "execute_result"
    },
    {
     "data": {
      "application/javascript": "\n            setTimeout(function() {\n                var nbb_cell_id = 55;\n                var nbb_unformatted_code = \"w_WaretDis\";\n                var nbb_formatted_code = \"w_WaretDis\";\n                var nbb_cells = Jupyter.notebook.get_cells();\n                for (var i = 0; i < nbb_cells.length; ++i) {\n                    if (nbb_cells[i].input_prompt_number == nbb_cell_id) {\n                        if (nbb_cells[i].get_text() == nbb_unformatted_code) {\n                             nbb_cells[i].set_text(nbb_formatted_code);\n                        }\n                        break;\n                    }\n                }\n            }, 500);\n            ",
      "text/plain": [
       "<IPython.core.display.Javascript object>"
      ]
     },
     "metadata": {},
     "output_type": "display_data"
    }
   ],
   "source": [
    "w_WaretDis"
   ]
  },
  {
   "cell_type": "code",
   "execution_count": 56,
   "metadata": {},
   "outputs": [
    {
     "data": {
      "text/html": [
       "<div>\n",
       "<style scoped>\n",
       "    .dataframe tbody tr th:only-of-type {\n",
       "        vertical-align: middle;\n",
       "    }\n",
       "\n",
       "    .dataframe tbody tr th {\n",
       "        vertical-align: top;\n",
       "    }\n",
       "\n",
       "    .dataframe thead th {\n",
       "        text-align: right;\n",
       "    }\n",
       "</style>\n",
       "<table border=\"1\" class=\"dataframe\">\n",
       "  <thead>\n",
       "    <tr style=\"text-align: right;\">\n",
       "      <th></th>\n",
       "      <th>Scenario</th>\n",
       "      <th>revenue</th>\n",
       "      <th>distributon_cost</th>\n",
       "      <th>expectedprofits</th>\n",
       "      <th>FixedCosts</th>\n",
       "      <th>WarehouseCosts</th>\n",
       "      <th>ProductionCosts</th>\n",
       "      <th>2nd_StageProfits</th>\n",
       "    </tr>\n",
       "  </thead>\n",
       "  <tbody>\n",
       "    <tr>\n",
       "      <th>97</th>\n",
       "      <td>S97</td>\n",
       "      <td>5568820.0</td>\n",
       "      <td>370246.4</td>\n",
       "      <td>2216709.25</td>\n",
       "      <td>100000</td>\n",
       "      <td>97454.35</td>\n",
       "      <td>2784410</td>\n",
       "      <td>5198573.6</td>\n",
       "    </tr>\n",
       "  </tbody>\n",
       "</table>\n",
       "</div>"
      ],
      "text/plain": [
       "   Scenario    revenue  distributon_cost  expectedprofits  FixedCosts  \\\n",
       "97      S97  5568820.0          370246.4       2216709.25      100000   \n",
       "\n",
       "    WarehouseCosts  ProductionCosts  2nd_StageProfits  \n",
       "97        97454.35          2784410         5198573.6  "
      ]
     },
     "execution_count": 56,
     "metadata": {},
     "output_type": "execute_result"
    },
    {
     "data": {
      "application/javascript": "\n            setTimeout(function() {\n                var nbb_cell_id = 56;\n                var nbb_unformatted_code = \"expprofit_df[expprofit_df.expectedprofits == expprofit_df.expectedprofits.max()]\";\n                var nbb_formatted_code = \"expprofit_df[expprofit_df.expectedprofits == expprofit_df.expectedprofits.max()]\";\n                var nbb_cells = Jupyter.notebook.get_cells();\n                for (var i = 0; i < nbb_cells.length; ++i) {\n                    if (nbb_cells[i].input_prompt_number == nbb_cell_id) {\n                        if (nbb_cells[i].get_text() == nbb_unformatted_code) {\n                             nbb_cells[i].set_text(nbb_formatted_code);\n                        }\n                        break;\n                    }\n                }\n            }, 500);\n            ",
      "text/plain": [
       "<IPython.core.display.Javascript object>"
      ]
     },
     "metadata": {},
     "output_type": "display_data"
    }
   ],
   "source": [
    "expprofit_df[expprofit_df.expectedprofits == expprofit_df.expectedprofits.max()]"
   ]
  },
  {
   "cell_type": "markdown",
   "metadata": {},
   "source": [
    "\n",
    "\n",
    "#### B3"
   ]
  },
  {
   "cell_type": "code",
   "execution_count": 32,
   "metadata": {},
   "outputs": [
    {
     "name": "stdout",
     "output_type": "stream",
     "text": [
      "Gurobi Optimizer version 10.0.0 build v10.0.0rc2 (linux64)\n",
      "\n",
      "CPU model: 11th Gen Intel(R) Core(TM) i7-1165G7 @ 2.80GHz, instruction set [SSE2|AVX|AVX2|AVX512]\n",
      "Thread count: 4 physical cores, 8 logical processors, using up to 8 threads\n",
      "\n",
      "Optimize a model with 12400 rows, 102547 columns and 209200 nonzeros\n",
      "Model fingerprint: 0x3e002ad3\n",
      "Model has 2300 quadratic constraints\n",
      "Variable types: 0 continuous, 102547 integer (23 binary)\n",
      "Coefficient statistics:\n",
      "  Matrix range     [9e-01, 2e+01]\n",
      "  QMatrix range    [1e+00, 1e+00]\n",
      "  QLMatrix range   [1e+00, 1e+00]\n",
      "  Objective range  [1e+00, 1e+05]\n",
      "  Bounds range     [1e+00, 1e+00]\n",
      "  RHS range        [7e+02, 4e+04]\n",
      "Found heuristic solution: objective -0.0000000\n",
      "Presolve removed 5900 rows and 4077 columns\n",
      "Presolve time: 0.56s\n",
      "Presolved: 6569 rows, 98539 columns, 293661 nonzeros\n",
      "Presolved model has 46 SOS constraint(s)\n",
      "Variable types: 0 continuous, 98539 integer (46 binary)\n",
      "Deterministic concurrent LP optimizer: primal and dual simplex\n",
      "Showing first log only...\n",
      "\n",
      "Concurrent spin time: 0.00s\n",
      "\n",
      "Solved with dual simplex\n",
      "\n",
      "Root relaxation: objective 4.675932e+06, 4747 iterations, 0.20 seconds (0.14 work units)\n",
      "\n",
      "    Nodes    |    Current Node    |     Objective Bounds      |     Work\n",
      " Expl Unexpl |  Obj  Depth IntInf | Incumbent    BestBd   Gap | It/Node Time\n",
      "\n",
      "     0     0 4675932.10    0   34   -0.00000 4675932.10      -     -    1s\n",
      "     0     0 2102776.37    0 1360   -0.00000 2102776.37      -     -    4s\n",
      "H    0     0                    1771108.6750 2102776.37  18.7%     -    4s\n",
      "     0     0 2102776.37    0  994 1771108.67 2102776.37  18.7%     -    5s\n",
      "H    0     0                    1873725.8000 2102776.37  12.2%     -    7s\n",
      "     0     2 2002776.37    0  994 1873725.80 2002776.37  6.89%     -    8s\n",
      "     3     6     cutoff    2      1873725.80 2002776.37  6.89% 13826   11s\n",
      "     7     6 1998042.32    3  532 1873725.80 2002776.37  6.89%  9635   21s\n",
      "    15     8 1995090.03    4 1067 1873725.80 2002776.37  6.89% 13626   26s\n",
      "    19    10     cutoff    5      1873725.80 2002776.37  6.89% 15506   30s\n",
      "    28    14     cutoff    6      1873725.80 2002776.37  6.89% 15279   38s\n",
      "    33    12 1974039.15    6 1177 1873725.80 2002776.37  6.89% 13808   46s\n",
      "    37    11 infeasible    7      1873725.80 2002776.37  6.89% 14968   50s\n",
      "    44    12 2002776.37    8  537 1873725.80 2002776.37  6.89% 14089   55s\n",
      "H   52    15                    1901727.6250 2002776.37  5.31% 13684   58s\n",
      "    58    10     cutoff   12      1901727.63 2002776.37  5.31% 12508   61s\n",
      "H   66    10                    1926996.4500 2002776.37  3.93% 11538   61s\n",
      "\n",
      "Explored 77 nodes (866210 simplex iterations) in 64.07 seconds (76.72 work units)\n",
      "Thread count was 8 (of 8 available processors)\n",
      "\n",
      "Solution count 5: 1.927e+06 1.90173e+06 1.87373e+06 ... -0\n",
      "\n",
      "Optimal solution found (tolerance 1.00e-04)\n",
      "Best objective 1.926996450000e+06, best bound 1.926996450000e+06, gap 0.0000%\n",
      "Optimal Value: 1926996.4500000002\n"
     ]
    },
    {
     "data": {
      "application/javascript": "\n            setTimeout(function() {\n                var nbb_cell_id = 32;\n                var nbb_unformatted_code = \"TransportationCosts = pd.read_csv(\\n    \\\"/home/angelo/Documents/Uni/Courses/Management Science/MS_Code_repo/data/TranportationCosts.csv\\\",\\n    encoding=\\\"latin-1\\\",\\n)\\nDemand = pd.read_csv(\\n    \\\"/home/angelo/Documents/Uni/Courses/Management Science/MS_Code_repo/data/demand.csv\\\",\\n    encoding=\\\"latin-1\\\",\\n)\\nScenario = Demand.columns[1:].to_list()\\nScenario_Probabilities = dict(zip(Scenario, [1 / 100] * 100))\\n\\n\\nDistro = Demand.loc[:, \\\"DistributionCenter\\\"].to_list()\\nWarehouse = TransportationCosts.loc[:, \\\"Warehouse\\\"].to_list()\\n\\ndemand = {}\\nfor distro in range(0, len(Demand)):\\n    for scene in range(1, len(Demand.columns)):\\n        demand[(Distro[distro], Scenario[scene - 1])] = Demand.loc[\\n            distro, Scenario[scene - 1]\\n        ]\\n\\nTrasnportation_Costs = {}\\nfor warehouse in range(0, len(TransportationCosts)):\\n    for distro in range(2, len(TransportationCosts.columns)):\\n        Trasnportation_Costs[\\n            (Warehouse[warehouse], Distro[distro - 2])\\n        ] = TransportationCosts.loc[warehouse, Distro[distro - 2]]\\n\\nTransport_Warehouse = {}\\nfor warehouse in range(0, len(TransportationCosts)):\\n    Transport_Warehouse[Warehouse[warehouse]] = TransportationCosts.loc[\\n        warehouse, \\\"PFacility\\\"\\n    ]\\n\\n\\nmodel = gp.Model()\\nmodel.ModelSense = gp.GRB.MAXIMIZE\\n\\n\\n# first stage\\nWareHProd_mod = model.addVars(Warehouse, vtype=gp.GRB.INTEGER, name=\\\"Production\\\")\\nWareHInv_mod = model.addVars(Warehouse, vtype=gp.GRB.BINARY, name=\\\"Investment\\\")\\n\\n# second stage\\ndist_ware_scen = model.addVars(\\n    Warehouse, Distro, Scenario, vtype=gp.GRB.INTEGER, name=\\\"Transportation\\\"\\n)\\n\\nInventory_Distr = model.addVars(\\n    Distro, Scenario, vtype=gp.GRB.INTEGER, name=\\\"Inventory\\\"\\n)\\n\\nsold_distributioncentrer = model.addVars(\\n    Distro, Scenario, vtype=gp.GRB.INTEGER, name=\\\"Sold\\\"\\n)\\n\\n\\n# worst case profit\\nWorstCaseProfit = model.addVar(vtype=gp.GRB.INTEGER, name=\\\"WorstCaseProfit\\\")\\n\\n\\nmodel.setObjective(\\n    -gp.quicksum(\\n        WareHProd_mod[warehouse] * (10 + Transport_Warehouse[warehouse])\\n        for warehouse in Warehouse\\n    )\\n    - gp.quicksum(WareHInv_mod[warehouse] * 100000 for warehouse in Warehouse)\\n    + WorstCaseProfit\\n)\\n\\n\\n# binary condition if they are turned on they can send\\nmodel.addConstrs(\\n    (\\n        gp.quicksum(dist_ware_scen[warehouse, distro, scene] for distro in Distro)\\n        <= WareHProd_mod[warehouse] * WareHInv_mod[warehouse]\\n        for scene in Scenario\\n        for warehouse in Warehouse\\n    ),\\n    name=\\\"SentProduction_Bin\\\",\\n)\\n\\n# inventory cannoth be greater than what you send there\\nmodel.addConstrs(\\n    (\\n        Inventory_Distr[distro, scene]\\n        == gp.quicksum(\\n            dist_ware_scen[warehouse, distro, scene] for warehouse in Warehouse\\n        )\\n        for scene in Scenario\\n        for distro in Distro\\n    ),\\n    name=\\\"Distr_Receive_Sent_limit\\\",\\n)\\n\\n\\nmodel.addConstrs(\\n    (\\n        sold_distributioncentrer[distro, scene] <= demand[distro, scene]\\n        for scene in Scenario\\n        for distro in Distro\\n    ),\\n    name=\\\"Warehouse_Received_Demand_Limit\\\",\\n)\\nmodel.addConstrs(\\n    (\\n        sold_distributioncentrer[distro, scene] <= Inventory_Distr[distro, scene]\\n        for scene in Scenario\\n        for distro in Distro\\n    ),\\n    name=\\\"Warehouse_Received_Demand_Limit\\\",\\n)\\n\\n# add the final constraint that to remove from the OBJ the second stage costs\\n# and only leave the first stage costs + WP in the objective\\nfor scene in Scenario:\\n    model.addConstr(\\n        WorstCaseProfit\\n        <= gp.quicksum(\\n            20 * sold_distributioncentrer[distro, scene] for distro in Distro\\n        )\\n        - gp.quicksum(\\n            dist_ware_scen[warehouse, distro, scene]\\n            * Trasnportation_Costs[warehouse, distro]\\n            for distro in Distro\\n            for warehouse in Warehouse\\n        )\\n    )\\n\\nmodel.optimize()\\nprint(\\\"Optimal Value:\\\", model.Objval)\\n\\n# model.printAttr(\\\"X\\\")\";\n                var nbb_formatted_code = \"TransportationCosts = pd.read_csv(\\n    \\\"/home/angelo/Documents/Uni/Courses/Management Science/MS_Code_repo/data/TranportationCosts.csv\\\",\\n    encoding=\\\"latin-1\\\",\\n)\\nDemand = pd.read_csv(\\n    \\\"/home/angelo/Documents/Uni/Courses/Management Science/MS_Code_repo/data/demand.csv\\\",\\n    encoding=\\\"latin-1\\\",\\n)\\nScenario = Demand.columns[1:].to_list()\\nScenario_Probabilities = dict(zip(Scenario, [1 / 100] * 100))\\n\\n\\nDistro = Demand.loc[:, \\\"DistributionCenter\\\"].to_list()\\nWarehouse = TransportationCosts.loc[:, \\\"Warehouse\\\"].to_list()\\n\\ndemand = {}\\nfor distro in range(0, len(Demand)):\\n    for scene in range(1, len(Demand.columns)):\\n        demand[(Distro[distro], Scenario[scene - 1])] = Demand.loc[\\n            distro, Scenario[scene - 1]\\n        ]\\n\\nTrasnportation_Costs = {}\\nfor warehouse in range(0, len(TransportationCosts)):\\n    for distro in range(2, len(TransportationCosts.columns)):\\n        Trasnportation_Costs[\\n            (Warehouse[warehouse], Distro[distro - 2])\\n        ] = TransportationCosts.loc[warehouse, Distro[distro - 2]]\\n\\nTransport_Warehouse = {}\\nfor warehouse in range(0, len(TransportationCosts)):\\n    Transport_Warehouse[Warehouse[warehouse]] = TransportationCosts.loc[\\n        warehouse, \\\"PFacility\\\"\\n    ]\\n\\n\\nmodel = gp.Model()\\nmodel.ModelSense = gp.GRB.MAXIMIZE\\n\\n\\n# first stage\\nWareHProd_mod = model.addVars(Warehouse, vtype=gp.GRB.INTEGER, name=\\\"Production\\\")\\nWareHInv_mod = model.addVars(Warehouse, vtype=gp.GRB.BINARY, name=\\\"Investment\\\")\\n\\n# second stage\\ndist_ware_scen = model.addVars(\\n    Warehouse, Distro, Scenario, vtype=gp.GRB.INTEGER, name=\\\"Transportation\\\"\\n)\\n\\nInventory_Distr = model.addVars(\\n    Distro, Scenario, vtype=gp.GRB.INTEGER, name=\\\"Inventory\\\"\\n)\\n\\nsold_distributioncentrer = model.addVars(\\n    Distro, Scenario, vtype=gp.GRB.INTEGER, name=\\\"Sold\\\"\\n)\\n\\n\\n# worst case profit\\nWorstCaseProfit = model.addVar(vtype=gp.GRB.INTEGER, name=\\\"WorstCaseProfit\\\")\\n\\n\\nmodel.setObjective(\\n    -gp.quicksum(\\n        WareHProd_mod[warehouse] * (10 + Transport_Warehouse[warehouse])\\n        for warehouse in Warehouse\\n    )\\n    - gp.quicksum(WareHInv_mod[warehouse] * 100000 for warehouse in Warehouse)\\n    + WorstCaseProfit\\n)\\n\\n\\n# binary condition if they are turned on they can send\\nmodel.addConstrs(\\n    (\\n        gp.quicksum(dist_ware_scen[warehouse, distro, scene] for distro in Distro)\\n        <= WareHProd_mod[warehouse] * WareHInv_mod[warehouse]\\n        for scene in Scenario\\n        for warehouse in Warehouse\\n    ),\\n    name=\\\"SentProduction_Bin\\\",\\n)\\n\\n# inventory cannoth be greater than what you send there\\nmodel.addConstrs(\\n    (\\n        Inventory_Distr[distro, scene]\\n        == gp.quicksum(\\n            dist_ware_scen[warehouse, distro, scene] for warehouse in Warehouse\\n        )\\n        for scene in Scenario\\n        for distro in Distro\\n    ),\\n    name=\\\"Distr_Receive_Sent_limit\\\",\\n)\\n\\n\\nmodel.addConstrs(\\n    (\\n        sold_distributioncentrer[distro, scene] <= demand[distro, scene]\\n        for scene in Scenario\\n        for distro in Distro\\n    ),\\n    name=\\\"Warehouse_Received_Demand_Limit\\\",\\n)\\nmodel.addConstrs(\\n    (\\n        sold_distributioncentrer[distro, scene] <= Inventory_Distr[distro, scene]\\n        for scene in Scenario\\n        for distro in Distro\\n    ),\\n    name=\\\"Warehouse_Received_Demand_Limit\\\",\\n)\\n\\n# add the final constraint that to remove from the OBJ the second stage costs\\n# and only leave the first stage costs + WP in the objective\\nfor scene in Scenario:\\n    model.addConstr(\\n        WorstCaseProfit\\n        <= gp.quicksum(\\n            20 * sold_distributioncentrer[distro, scene] for distro in Distro\\n        )\\n        - gp.quicksum(\\n            dist_ware_scen[warehouse, distro, scene]\\n            * Trasnportation_Costs[warehouse, distro]\\n            for distro in Distro\\n            for warehouse in Warehouse\\n        )\\n    )\\n\\nmodel.optimize()\\nprint(\\\"Optimal Value:\\\", model.Objval)\\n\\n# model.printAttr(\\\"X\\\")\";\n                var nbb_cells = Jupyter.notebook.get_cells();\n                for (var i = 0; i < nbb_cells.length; ++i) {\n                    if (nbb_cells[i].input_prompt_number == nbb_cell_id) {\n                        if (nbb_cells[i].get_text() == nbb_unformatted_code) {\n                             nbb_cells[i].set_text(nbb_formatted_code);\n                        }\n                        break;\n                    }\n                }\n            }, 500);\n            ",
      "text/plain": [
       "<IPython.core.display.Javascript object>"
      ]
     },
     "metadata": {},
     "output_type": "display_data"
    }
   ],
   "source": [
    "TransportationCosts = pd.read_csv(\n",
    "    \"/home/angelo/Documents/Uni/Courses/Management Science/MS_Code_repo/data/TranportationCosts.csv\",\n",
    "    encoding=\"latin-1\",\n",
    ")\n",
    "Demand = pd.read_csv(\n",
    "    \"/home/angelo/Documents/Uni/Courses/Management Science/MS_Code_repo/data/demand.csv\",\n",
    "    encoding=\"latin-1\",\n",
    ")\n",
    "Scenario = Demand.columns[1:].to_list()\n",
    "Scenario_Probabilities = dict(zip(Scenario, [1 / 100] * 100))\n",
    "\n",
    "\n",
    "Distro = Demand.loc[:, \"DistributionCenter\"].to_list()\n",
    "Warehouse = TransportationCosts.loc[:, \"Warehouse\"].to_list()\n",
    "\n",
    "demand = {}\n",
    "for distro in range(0, len(Demand)):\n",
    "    for scene in range(1, len(Demand.columns)):\n",
    "        demand[(Distro[distro], Scenario[scene - 1])] = Demand.loc[\n",
    "            distro, Scenario[scene - 1]\n",
    "        ]\n",
    "\n",
    "Trasnportation_Costs = {}\n",
    "for warehouse in range(0, len(TransportationCosts)):\n",
    "    for distro in range(2, len(TransportationCosts.columns)):\n",
    "        Trasnportation_Costs[\n",
    "            (Warehouse[warehouse], Distro[distro - 2])\n",
    "        ] = TransportationCosts.loc[warehouse, Distro[distro - 2]]\n",
    "\n",
    "Transport_Warehouse = {}\n",
    "for warehouse in range(0, len(TransportationCosts)):\n",
    "    Transport_Warehouse[Warehouse[warehouse]] = TransportationCosts.loc[\n",
    "        warehouse, \"PFacility\"\n",
    "    ]\n",
    "\n",
    "\n",
    "model = gp.Model()\n",
    "model.ModelSense = gp.GRB.MAXIMIZE\n",
    "\n",
    "\n",
    "# first stage\n",
    "WareHProd_mod = model.addVars(Warehouse, vtype=gp.GRB.INTEGER, name=\"Production\")\n",
    "WareHInv_mod = model.addVars(Warehouse, vtype=gp.GRB.BINARY, name=\"Investment\")\n",
    "\n",
    "# second stage\n",
    "dist_ware_scen = model.addVars(\n",
    "    Warehouse, Distro, Scenario, vtype=gp.GRB.INTEGER, name=\"Transportation\"\n",
    ")\n",
    "\n",
    "Inventory_Distr = model.addVars(\n",
    "    Distro, Scenario, vtype=gp.GRB.INTEGER, name=\"Inventory\"\n",
    ")\n",
    "\n",
    "sold_distributioncentrer = model.addVars(\n",
    "    Distro, Scenario, vtype=gp.GRB.INTEGER, name=\"Sold\"\n",
    ")\n",
    "\n",
    "\n",
    "# worst case profit\n",
    "WorstCaseProfit = model.addVar(vtype=gp.GRB.INTEGER, name=\"WorstCaseProfit\")\n",
    "\n",
    "\n",
    "model.setObjective(\n",
    "    -gp.quicksum(\n",
    "        WareHProd_mod[warehouse] * (10 + Transport_Warehouse[warehouse])\n",
    "        for warehouse in Warehouse\n",
    "    )\n",
    "    - gp.quicksum(WareHInv_mod[warehouse] * 100000 for warehouse in Warehouse)\n",
    "    + WorstCaseProfit\n",
    ")\n",
    "\n",
    "\n",
    "# binary condition if they are turned on they can send\n",
    "model.addConstrs(\n",
    "    (\n",
    "        gp.quicksum(dist_ware_scen[warehouse, distro, scene] for distro in Distro)\n",
    "        <= WareHProd_mod[warehouse] * WareHInv_mod[warehouse]\n",
    "        for scene in Scenario\n",
    "        for warehouse in Warehouse\n",
    "    ),\n",
    "    name=\"SentProduction_Bin\",\n",
    ")\n",
    "\n",
    "# inventory cannoth be greater than what you send there\n",
    "model.addConstrs(\n",
    "    (\n",
    "        Inventory_Distr[distro, scene]\n",
    "        == gp.quicksum(\n",
    "            dist_ware_scen[warehouse, distro, scene] for warehouse in Warehouse\n",
    "        )\n",
    "        for scene in Scenario\n",
    "        for distro in Distro\n",
    "    ),\n",
    "    name=\"Distr_Receive_Sent_limit\",\n",
    ")\n",
    "\n",
    "\n",
    "model.addConstrs(\n",
    "    (\n",
    "        sold_distributioncentrer[distro, scene] <= demand[distro, scene]\n",
    "        for scene in Scenario\n",
    "        for distro in Distro\n",
    "    ),\n",
    "    name=\"Warehouse_Received_Demand_Limit\",\n",
    ")\n",
    "model.addConstrs(\n",
    "    (\n",
    "        sold_distributioncentrer[distro, scene] <= Inventory_Distr[distro, scene]\n",
    "        for scene in Scenario\n",
    "        for distro in Distro\n",
    "    ),\n",
    "    name=\"Warehouse_Received_Demand_Limit\",\n",
    ")\n",
    "\n",
    "# add the final constraint that to remove from the OBJ the second stage costs\n",
    "# and only leave the first stage costs + WP in the objective\n",
    "for scene in Scenario:\n",
    "    model.addConstr(\n",
    "        WorstCaseProfit\n",
    "        <= gp.quicksum(\n",
    "            20 * sold_distributioncentrer[distro, scene] for distro in Distro\n",
    "        )\n",
    "        - gp.quicksum(\n",
    "            dist_ware_scen[warehouse, distro, scene]\n",
    "            * Trasnportation_Costs[warehouse, distro]\n",
    "            for distro in Distro\n",
    "            for warehouse in Warehouse\n",
    "        )\n",
    "    )\n",
    "\n",
    "model.optimize()\n",
    "print(\"Optimal Value:\", model.Objval)\n",
    "\n",
    "# model.printAttr(\"X\")"
   ]
  },
  {
   "cell_type": "code",
   "execution_count": 33,
   "metadata": {},
   "outputs": [
    {
     "data": {
      "text/plain": [
       "-197914.01"
      ]
     },
     "execution_count": 33,
     "metadata": {},
     "output_type": "execute_result"
    },
    {
     "data": {
      "application/javascript": "\n            setTimeout(function() {\n                var nbb_cell_id = 33;\n                var nbb_unformatted_code = \"1926996.45 - 2124910.46\";\n                var nbb_formatted_code = \"1926996.45 - 2124910.46\";\n                var nbb_cells = Jupyter.notebook.get_cells();\n                for (var i = 0; i < nbb_cells.length; ++i) {\n                    if (nbb_cells[i].input_prompt_number == nbb_cell_id) {\n                        if (nbb_cells[i].get_text() == nbb_unformatted_code) {\n                             nbb_cells[i].set_text(nbb_formatted_code);\n                        }\n                        break;\n                    }\n                }\n            }, 500);\n            ",
      "text/plain": [
       "<IPython.core.display.Javascript object>"
      ]
     },
     "metadata": {},
     "output_type": "display_data"
    }
   ],
   "source": [
    "1926996.45 - 2124910.46"
   ]
  },
  {
   "cell_type": "code",
   "execution_count": 34,
   "metadata": {},
   "outputs": [
    {
     "data": {
      "application/javascript": "\n            setTimeout(function() {\n                var nbb_cell_id = 34;\n                var nbb_unformatted_code = \"output_dict = {}\\nfor i_x, variable_o in dist_ware_scen.items():\\n    output_dict[i_x] = variable_o.x\\n\\ndf_vals = pd.DataFrame([key + (var,) for key, var in output_dict.items()],).rename(\\n    columns={0: \\\"Warehouse\\\", 1: \\\"DistributionCenter\\\", 2: \\\"Scenario\\\", 3: \\\"Volumne_Sent\\\"}\\n)\\n\\ndf_stut = df_vals.loc[df_vals[\\\"Warehouse\\\"].str.contains(\\\"Stuttgart\\\")]\";\n                var nbb_formatted_code = \"output_dict = {}\\nfor i_x, variable_o in dist_ware_scen.items():\\n    output_dict[i_x] = variable_o.x\\n\\ndf_vals = pd.DataFrame([key + (var,) for key, var in output_dict.items()],).rename(\\n    columns={0: \\\"Warehouse\\\", 1: \\\"DistributionCenter\\\", 2: \\\"Scenario\\\", 3: \\\"Volumne_Sent\\\"}\\n)\\n\\ndf_stut = df_vals.loc[df_vals[\\\"Warehouse\\\"].str.contains(\\\"Stuttgart\\\")]\";\n                var nbb_cells = Jupyter.notebook.get_cells();\n                for (var i = 0; i < nbb_cells.length; ++i) {\n                    if (nbb_cells[i].input_prompt_number == nbb_cell_id) {\n                        if (nbb_cells[i].get_text() == nbb_unformatted_code) {\n                             nbb_cells[i].set_text(nbb_formatted_code);\n                        }\n                        break;\n                    }\n                }\n            }, 500);\n            ",
      "text/plain": [
       "<IPython.core.display.Javascript object>"
      ]
     },
     "metadata": {},
     "output_type": "display_data"
    }
   ],
   "source": [
    "output_dict = {}\n",
    "for i_x, variable_o in dist_ware_scen.items():\n",
    "    output_dict[i_x] = variable_o.x\n",
    "\n",
    "df_vals = pd.DataFrame([key + (var,) for key, var in output_dict.items()],).rename(\n",
    "    columns={0: \"Warehouse\", 1: \"DistributionCenter\", 2: \"Scenario\", 3: \"Volumne_Sent\"}\n",
    ")\n",
    "\n",
    "df_stut = df_vals.loc[df_vals[\"Warehouse\"].str.contains(\"Stuttgart\")]"
   ]
  },
  {
   "cell_type": "code",
   "execution_count": 35,
   "metadata": {},
   "outputs": [
    {
     "data": {
      "text/plain": [
       "1.5488"
      ]
     },
     "execution_count": 35,
     "metadata": {},
     "output_type": "execute_result"
    },
    {
     "data": {
      "application/javascript": "\n            setTimeout(function() {\n                var nbb_cell_id = 35;\n                var nbb_unformatted_code = \"stuttgart = []\\nfor _, value in Trasnportation_Costs.keys():\\n    stuttgart.append(Trasnportation_Costs[\\\"WH-Stuttgart\\\", value])\\n\\nround(np.sum(stuttgart) / len(stuttgart), 4)\";\n                var nbb_formatted_code = \"stuttgart = []\\nfor _, value in Trasnportation_Costs.keys():\\n    stuttgart.append(Trasnportation_Costs[\\\"WH-Stuttgart\\\", value])\\n\\nround(np.sum(stuttgart) / len(stuttgart), 4)\";\n                var nbb_cells = Jupyter.notebook.get_cells();\n                for (var i = 0; i < nbb_cells.length; ++i) {\n                    if (nbb_cells[i].input_prompt_number == nbb_cell_id) {\n                        if (nbb_cells[i].get_text() == nbb_unformatted_code) {\n                             nbb_cells[i].set_text(nbb_formatted_code);\n                        }\n                        break;\n                    }\n                }\n            }, 500);\n            ",
      "text/plain": [
       "<IPython.core.display.Javascript object>"
      ]
     },
     "metadata": {},
     "output_type": "display_data"
    }
   ],
   "source": [
    "stuttgart = []\n",
    "for _, value in Trasnportation_Costs.keys():\n",
    "    stuttgart.append(Trasnportation_Costs[\"WH-Stuttgart\", value])\n",
    "\n",
    "round(np.sum(stuttgart) / len(stuttgart), 4)"
   ]
  },
  {
   "cell_type": "code",
   "execution_count": 36,
   "metadata": {},
   "outputs": [
    {
     "data": {
      "text/html": [
       "<div>\n",
       "<style scoped>\n",
       "    .dataframe tbody tr th:only-of-type {\n",
       "        vertical-align: middle;\n",
       "    }\n",
       "\n",
       "    .dataframe tbody tr th {\n",
       "        vertical-align: top;\n",
       "    }\n",
       "\n",
       "    .dataframe thead th {\n",
       "        text-align: right;\n",
       "    }\n",
       "</style>\n",
       "<table border=\"1\" class=\"dataframe\">\n",
       "  <thead>\n",
       "    <tr style=\"text-align: right;\">\n",
       "      <th></th>\n",
       "      <th>Cost</th>\n",
       "    </tr>\n",
       "    <tr>\n",
       "      <th>Warehouse</th>\n",
       "      <th></th>\n",
       "    </tr>\n",
       "  </thead>\n",
       "  <tbody>\n",
       "    <tr>\n",
       "      <th>WH-Stuttgart</th>\n",
       "      <td>1.548780</td>\n",
       "    </tr>\n",
       "    <tr>\n",
       "      <th>WH-Charleroi</th>\n",
       "      <td>1.558537</td>\n",
       "    </tr>\n",
       "    <tr>\n",
       "      <th>WH-Bordeaux</th>\n",
       "      <td>1.673171</td>\n",
       "    </tr>\n",
       "    <tr>\n",
       "      <th>WH-Bristol</th>\n",
       "      <td>1.682927</td>\n",
       "    </tr>\n",
       "    <tr>\n",
       "      <th>WH-KrakÃ³w</th>\n",
       "      <td>1.734146</td>\n",
       "    </tr>\n",
       "    <tr>\n",
       "      <th>WH-Palma de Mallorca</th>\n",
       "      <td>1.795122</td>\n",
       "    </tr>\n",
       "    <tr>\n",
       "      <th>WH-Glasgow</th>\n",
       "      <td>1.814634</td>\n",
       "    </tr>\n",
       "    <tr>\n",
       "      <th>WH-Oslo</th>\n",
       "      <td>1.846341</td>\n",
       "    </tr>\n",
       "    <tr>\n",
       "      <th>WH-Hanover</th>\n",
       "      <td>1.860976</td>\n",
       "    </tr>\n",
       "    <tr>\n",
       "      <th>WH-Rhodes</th>\n",
       "      <td>1.870732</td>\n",
       "    </tr>\n",
       "    <tr>\n",
       "      <th>WH-Riga</th>\n",
       "      <td>1.926829</td>\n",
       "    </tr>\n",
       "    <tr>\n",
       "      <th>WH-Palermo</th>\n",
       "      <td>1.953659</td>\n",
       "    </tr>\n",
       "    <tr>\n",
       "      <th>WH-Pisa</th>\n",
       "      <td>1.965854</td>\n",
       "    </tr>\n",
       "    <tr>\n",
       "      <th>WH-Kyiv</th>\n",
       "      <td>2.056098</td>\n",
       "    </tr>\n",
       "    <tr>\n",
       "      <th>WH-MÃ¡laga</th>\n",
       "      <td>2.082927</td>\n",
       "    </tr>\n",
       "    <tr>\n",
       "      <th>WH-Liverpool</th>\n",
       "      <td>2.107317</td>\n",
       "    </tr>\n",
       "    <tr>\n",
       "      <th>WH-Seville</th>\n",
       "      <td>2.112195</td>\n",
       "    </tr>\n",
       "    <tr>\n",
       "      <th>WH-Faro</th>\n",
       "      <td>2.131707</td>\n",
       "    </tr>\n",
       "    <tr>\n",
       "      <th>WH-Athens</th>\n",
       "      <td>2.136585</td>\n",
       "    </tr>\n",
       "    <tr>\n",
       "      <th>WH-Katowice</th>\n",
       "      <td>2.221951</td>\n",
       "    </tr>\n",
       "    <tr>\n",
       "      <th>WH-Moscow</th>\n",
       "      <td>2.317073</td>\n",
       "    </tr>\n",
       "    <tr>\n",
       "      <th>WH-Heraklion</th>\n",
       "      <td>2.326829</td>\n",
       "    </tr>\n",
       "    <tr>\n",
       "      <th>WH-Krasnodar</th>\n",
       "      <td>2.987805</td>\n",
       "    </tr>\n",
       "  </tbody>\n",
       "</table>\n",
       "</div>"
      ],
      "text/plain": [
       "                          Cost\n",
       "Warehouse                     \n",
       "WH-Stuttgart          1.548780\n",
       "WH-Charleroi          1.558537\n",
       "WH-Bordeaux           1.673171\n",
       "WH-Bristol            1.682927\n",
       "WH-KrakÃ³w            1.734146\n",
       "WH-Palma de Mallorca  1.795122\n",
       "WH-Glasgow            1.814634\n",
       "WH-Oslo               1.846341\n",
       "WH-Hanover            1.860976\n",
       "WH-Rhodes             1.870732\n",
       "WH-Riga               1.926829\n",
       "WH-Palermo            1.953659\n",
       "WH-Pisa               1.965854\n",
       "WH-Kyiv               2.056098\n",
       "WH-MÃ¡laga            2.082927\n",
       "WH-Liverpool          2.107317\n",
       "WH-Seville            2.112195\n",
       "WH-Faro               2.131707\n",
       "WH-Athens             2.136585\n",
       "WH-Katowice           2.221951\n",
       "WH-Moscow             2.317073\n",
       "WH-Heraklion          2.326829\n",
       "WH-Krasnodar          2.987805"
      ]
     },
     "execution_count": 36,
     "metadata": {},
     "output_type": "execute_result"
    },
    {
     "data": {
      "application/javascript": "\n            setTimeout(function() {\n                var nbb_cell_id = 36;\n                var nbb_unformatted_code = \"df = pd.DataFrame([key + (var,) for key, var in Trasnportation_Costs.items()]).rename(\\n    columns={0: \\\"Warehouse\\\", 1: \\\"DistributionCenter\\\", 2: \\\"Cost\\\"}\\n)\\ndf.groupby(\\\"Warehouse\\\").agg({\\\"Cost\\\": \\\"mean\\\"}).sort_values(\\\"Cost\\\")\";\n                var nbb_formatted_code = \"df = pd.DataFrame([key + (var,) for key, var in Trasnportation_Costs.items()]).rename(\\n    columns={0: \\\"Warehouse\\\", 1: \\\"DistributionCenter\\\", 2: \\\"Cost\\\"}\\n)\\ndf.groupby(\\\"Warehouse\\\").agg({\\\"Cost\\\": \\\"mean\\\"}).sort_values(\\\"Cost\\\")\";\n                var nbb_cells = Jupyter.notebook.get_cells();\n                for (var i = 0; i < nbb_cells.length; ++i) {\n                    if (nbb_cells[i].input_prompt_number == nbb_cell_id) {\n                        if (nbb_cells[i].get_text() == nbb_unformatted_code) {\n                             nbb_cells[i].set_text(nbb_formatted_code);\n                        }\n                        break;\n                    }\n                }\n            }, 500);\n            ",
      "text/plain": [
       "<IPython.core.display.Javascript object>"
      ]
     },
     "metadata": {},
     "output_type": "display_data"
    }
   ],
   "source": [
    "df = pd.DataFrame([key + (var,) for key, var in Trasnportation_Costs.items()]).rename(\n",
    "    columns={0: \"Warehouse\", 1: \"DistributionCenter\", 2: \"Cost\"}\n",
    ")\n",
    "df.groupby(\"Warehouse\").agg({\"Cost\": \"mean\"}).sort_values(\"Cost\")"
   ]
  },
  {
   "cell_type": "code",
   "execution_count": 37,
   "metadata": {},
   "outputs": [
    {
     "data": {
      "text/plain": [
       "281633.11"
      ]
     },
     "execution_count": 37,
     "metadata": {},
     "output_type": "execute_result"
    },
    {
     "data": {
      "application/javascript": "\n            setTimeout(function() {\n                var nbb_cell_id = 37;\n                var nbb_unformatted_code = \"Demand.iloc[:, 1:].mean(axis=1).sum()\";\n                var nbb_formatted_code = \"Demand.iloc[:, 1:].mean(axis=1).sum()\";\n                var nbb_cells = Jupyter.notebook.get_cells();\n                for (var i = 0; i < nbb_cells.length; ++i) {\n                    if (nbb_cells[i].input_prompt_number == nbb_cell_id) {\n                        if (nbb_cells[i].get_text() == nbb_unformatted_code) {\n                             nbb_cells[i].set_text(nbb_formatted_code);\n                        }\n                        break;\n                    }\n                }\n            }, 500);\n            ",
      "text/plain": [
       "<IPython.core.display.Javascript object>"
      ]
     },
     "metadata": {},
     "output_type": "display_data"
    }
   ],
   "source": [
    "Demand.iloc[:, 1:].mean(axis=1).sum()"
   ]
  },
  {
   "cell_type": "code",
   "execution_count": 38,
   "metadata": {},
   "outputs": [
    {
     "data": {
      "image/png": "[encoded data removed]",
      "text/plain": [
       "<Figure size 1440x630 with 1 Axes>"
      ]
     },
     "metadata": {},
     "output_type": "display_data"
    },
    {
     "data": {
      "application/javascript": "\n            setTimeout(function() {\n                var nbb_cell_id = 38;\n                var nbb_unformatted_code = \"results = []\\nfor k, v in WareHProd_mod.items():\\n    results.append([k, v.X])\\nw_WaretDis = pd.DataFrame(results).rename(columns={0: \\\"Warehouse\\\", 1: \\\"WareDis\\\"})\\n\\nresults = []\\nfor k, v in dist_ware_scen.items():\\n    results.append([k[0], k[1], k[2], v.X])\\nd_WaretDis = pd.DataFrame(results).rename(\\n    columns={0: \\\"Warehouse\\\", 1: \\\"DistrCenter\\\", 2: \\\"Scenario\\\", 3: \\\"WaretDis\\\"}\\n)\\n\\ndistcost = []\\nfor k, v in Trasnportation_Costs.items():\\n    distcost.append([k[0], k[1], v])\\ndistcentercsot = pd.DataFrame(distcost).rename(\\n    columns={0: \\\"Warehouse\\\", 1: \\\"DistrCenter\\\", 2: \\\"cost\\\"}\\n)\\n\\nresults = []\\nfor k, v in sold_distributioncentrer.items():\\n    results.append([k[0], k[1], v.X])\\nsold_products = pd.DataFrame(results, columns=[\\\"DistrCenter\\\", \\\"Scenario\\\", \\\"Sold\\\"])\\n\\nsold_products[\\\"revenue\\\"] = sold_products.Sold * 20\\nsold_products = sold_products.groupby([\\\"Scenario\\\"]).revenue.sum().reset_index()\\n\\nd_WaretDis = pd.merge(\\n    d_WaretDis, distcentercsot, on=[\\\"Warehouse\\\", \\\"DistrCenter\\\"], how=\\\"left\\\"\\n).rename(columns={0: \\\"Warehouse\\\", 1: \\\"DistrCenter\\\"})\\n\\n\\nd_WaretDis[\\\"distributon_cost\\\"] = d_WaretDis.WaretDis * d_WaretDis.cost\\nd_WaretDis = d_WaretDis.groupby([\\\"Scenario\\\"]).distributon_cost.sum().reset_index()\\n\\nexpprofit_df = pd.merge(\\n    left=sold_products, right=d_WaretDis, left_on=\\\"Scenario\\\", right_on=\\\"Scenario\\\"\\n)\\n\\nexpprofit_df[\\\"expprofit\\\"] = (\\n    expprofit_df.revenue\\n    - 100000\\n    - w_WaretDis.max()[1] * 0.35\\n    - expprofit_df.distributon_cost\\n    - 247033 * 10\\n)\\n\\nexpprofit_df[\\\"numbers\\\"] = expprofit_df.Scenario.apply(lambda x: str(x).replace(\\\"S\\\", \\\"\\\"))\\nexpprofit_df = expprofit_df.sort_values(by=\\\"numbers\\\", ascending=True).reset_index(\\n    drop=True\\n)\\n\\nexpprofit_df[\\\"numbers\\\"] = expprofit_df[\\\"numbers\\\"].astype(int)\\nexpprofit_df.sort_values(by=\\\"numbers\\\", ascending=True, inplace=True)\\n\\nexpprofit_df.drop(columns=[\\\"numbers\\\"], inplace=True)\\n\\nfig, ax = plt.subplots(figsize=(20, 8.75))\\nsns.set_theme()\\n\\nax.bar(data=expprofit_df, x=\\\"Scenario\\\", height=\\\"expprofit\\\")\\n\\nax.set_yticks(\\n    np.arange(\\n        0,\\n        max(expprofit_df[\\\"expprofit\\\"]) + 1,\\n        100000,\\n    )\\n)\\nplt.xticks(rotation=90)\\nax.set_xlabel(\\\"Scenario\\\")\\nax.set_ylabel(\\\"Expected Profit\\\")\\n\\n# ax.legend()\\nplt.show()\";\n                var nbb_formatted_code = \"results = []\\nfor k, v in WareHProd_mod.items():\\n    results.append([k, v.X])\\nw_WaretDis = pd.DataFrame(results).rename(columns={0: \\\"Warehouse\\\", 1: \\\"WareDis\\\"})\\n\\nresults = []\\nfor k, v in dist_ware_scen.items():\\n    results.append([k[0], k[1], k[2], v.X])\\nd_WaretDis = pd.DataFrame(results).rename(\\n    columns={0: \\\"Warehouse\\\", 1: \\\"DistrCenter\\\", 2: \\\"Scenario\\\", 3: \\\"WaretDis\\\"}\\n)\\n\\ndistcost = []\\nfor k, v in Trasnportation_Costs.items():\\n    distcost.append([k[0], k[1], v])\\ndistcentercsot = pd.DataFrame(distcost).rename(\\n    columns={0: \\\"Warehouse\\\", 1: \\\"DistrCenter\\\", 2: \\\"cost\\\"}\\n)\\n\\nresults = []\\nfor k, v in sold_distributioncentrer.items():\\n    results.append([k[0], k[1], v.X])\\nsold_products = pd.DataFrame(results, columns=[\\\"DistrCenter\\\", \\\"Scenario\\\", \\\"Sold\\\"])\\n\\nsold_products[\\\"revenue\\\"] = sold_products.Sold * 20\\nsold_products = sold_products.groupby([\\\"Scenario\\\"]).revenue.sum().reset_index()\\n\\nd_WaretDis = pd.merge(\\n    d_WaretDis, distcentercsot, on=[\\\"Warehouse\\\", \\\"DistrCenter\\\"], how=\\\"left\\\"\\n).rename(columns={0: \\\"Warehouse\\\", 1: \\\"DistrCenter\\\"})\\n\\n\\nd_WaretDis[\\\"distributon_cost\\\"] = d_WaretDis.WaretDis * d_WaretDis.cost\\nd_WaretDis = d_WaretDis.groupby([\\\"Scenario\\\"]).distributon_cost.sum().reset_index()\\n\\nexpprofit_df = pd.merge(\\n    left=sold_products, right=d_WaretDis, left_on=\\\"Scenario\\\", right_on=\\\"Scenario\\\"\\n)\\n\\nexpprofit_df[\\\"expprofit\\\"] = (\\n    expprofit_df.revenue\\n    - 100000\\n    - w_WaretDis.max()[1] * 0.35\\n    - expprofit_df.distributon_cost\\n    - 247033 * 10\\n)\\n\\nexpprofit_df[\\\"numbers\\\"] = expprofit_df.Scenario.apply(lambda x: str(x).replace(\\\"S\\\", \\\"\\\"))\\nexpprofit_df = expprofit_df.sort_values(by=\\\"numbers\\\", ascending=True).reset_index(\\n    drop=True\\n)\\n\\nexpprofit_df[\\\"numbers\\\"] = expprofit_df[\\\"numbers\\\"].astype(int)\\nexpprofit_df.sort_values(by=\\\"numbers\\\", ascending=True, inplace=True)\\n\\nexpprofit_df.drop(columns=[\\\"numbers\\\"], inplace=True)\\n\\nfig, ax = plt.subplots(figsize=(20, 8.75))\\nsns.set_theme()\\n\\nax.bar(data=expprofit_df, x=\\\"Scenario\\\", height=\\\"expprofit\\\")\\n\\nax.set_yticks(\\n    np.arange(\\n        0,\\n        max(expprofit_df[\\\"expprofit\\\"]) + 1,\\n        100000,\\n    )\\n)\\nplt.xticks(rotation=90)\\nax.set_xlabel(\\\"Scenario\\\")\\nax.set_ylabel(\\\"Expected Profit\\\")\\n\\n# ax.legend()\\nplt.show()\";\n                var nbb_cells = Jupyter.notebook.get_cells();\n                for (var i = 0; i < nbb_cells.length; ++i) {\n                    if (nbb_cells[i].input_prompt_number == nbb_cell_id) {\n                        if (nbb_cells[i].get_text() == nbb_unformatted_code) {\n                             nbb_cells[i].set_text(nbb_formatted_code);\n                        }\n                        break;\n                    }\n                }\n            }, 500);\n            ",
      "text/plain": [
       "<IPython.core.display.Javascript object>"
      ]
     },
     "metadata": {},
     "output_type": "display_data"
    }
   ],
   "source": [
    "results = []\n",
    "for k, v in WareHProd_mod.items():\n",
    "    results.append([k, v.X])\n",
    "w_WaretDis = pd.DataFrame(results).rename(columns={0: \"Warehouse\", 1: \"WareDis\"})\n",
    "\n",
    "results = []\n",
    "for k, v in dist_ware_scen.items():\n",
    "    results.append([k[0], k[1], k[2], v.X])\n",
    "d_WaretDis = pd.DataFrame(results).rename(\n",
    "    columns={0: \"Warehouse\", 1: \"DistrCenter\", 2: \"Scenario\", 3: \"WaretDis\"}\n",
    ")\n",
    "\n",
    "distcost = []\n",
    "for k, v in Trasnportation_Costs.items():\n",
    "    distcost.append([k[0], k[1], v])\n",
    "distcentercsot = pd.DataFrame(distcost).rename(\n",
    "    columns={0: \"Warehouse\", 1: \"DistrCenter\", 2: \"cost\"}\n",
    ")\n",
    "\n",
    "results = []\n",
    "for k, v in sold_distributioncentrer.items():\n",
    "    results.append([k[0], k[1], v.X])\n",
    "sold_products = pd.DataFrame(results, columns=[\"DistrCenter\", \"Scenario\", \"Sold\"])\n",
    "\n",
    "sold_products[\"revenue\"] = sold_products.Sold * 20\n",
    "sold_products = sold_products.groupby([\"Scenario\"]).revenue.sum().reset_index()\n",
    "\n",
    "d_WaretDis = pd.merge(\n",
    "    d_WaretDis, distcentercsot, on=[\"Warehouse\", \"DistrCenter\"], how=\"left\"\n",
    ").rename(columns={0: \"Warehouse\", 1: \"DistrCenter\"})\n",
    "\n",
    "\n",
    "d_WaretDis[\"distributon_cost\"] = d_WaretDis.WaretDis * d_WaretDis.cost\n",
    "d_WaretDis = d_WaretDis.groupby([\"Scenario\"]).distributon_cost.sum().reset_index()\n",
    "\n",
    "expprofit_df = pd.merge(\n",
    "    left=sold_products, right=d_WaretDis, left_on=\"Scenario\", right_on=\"Scenario\"\n",
    ")\n",
    "\n",
    "expprofit_df[\"expprofit\"] = (\n",
    "    expprofit_df.revenue\n",
    "    - 100000\n",
    "    - w_WaretDis.max()[1] * 0.35\n",
    "    - expprofit_df.distributon_cost\n",
    "    - 247033 * 10\n",
    ")\n",
    "\n",
    "expprofit_df[\"numbers\"] = expprofit_df.Scenario.apply(lambda x: str(x).replace(\"S\", \"\"))\n",
    "expprofit_df = expprofit_df.sort_values(by=\"numbers\", ascending=True).reset_index(\n",
    "    drop=True\n",
    ")\n",
    "\n",
    "expprofit_df[\"numbers\"] = expprofit_df[\"numbers\"].astype(int)\n",
    "expprofit_df.sort_values(by=\"numbers\", ascending=True, inplace=True)\n",
    "\n",
    "expprofit_df.drop(columns=[\"numbers\"], inplace=True)\n",
    "\n",
    "fig, ax = plt.subplots(figsize=(20, 8.75))\n",
    "sns.set_theme()\n",
    "\n",
    "ax.bar(data=expprofit_df, x=\"Scenario\", height=\"expprofit\")\n",
    "\n",
    "ax.set_yticks(\n",
    "    np.arange(\n",
    "        0,\n",
    "        max(expprofit_df[\"expprofit\"]) + 1,\n",
    "        100000,\n",
    "    )\n",
    ")\n",
    "plt.xticks(rotation=90)\n",
    "ax.set_xlabel(\"Scenario\")\n",
    "ax.set_ylabel(\"Expected Profit\")\n",
    "\n",
    "# ax.legend()\n",
    "plt.show()"
   ]
  },
  {
   "cell_type": "code",
   "execution_count": 42,
   "metadata": {},
   "outputs": [
    {
     "data": {
      "text/plain": [
       "0     1927009.45\n",
       "12    1927014.55\n",
       "23    1927007.35\n",
       "34    1927000.35\n",
       "45    1927010.75\n",
       "         ...    \n",
       "96    1927001.95\n",
       "97    1927011.75\n",
       "98    1927009.05\n",
       "99    1927014.75\n",
       "2     1929610.45\n",
       "Name: expprofit, Length: 100, dtype: float64"
      ]
     },
     "execution_count": 42,
     "metadata": {},
     "output_type": "execute_result"
    },
    {
     "data": {
      "application/javascript": "\n            setTimeout(function() {\n                var nbb_cell_id = 42;\n                var nbb_unformatted_code = \"expprofit_df.expprofit\";\n                var nbb_formatted_code = \"expprofit_df.expprofit\";\n                var nbb_cells = Jupyter.notebook.get_cells();\n                for (var i = 0; i < nbb_cells.length; ++i) {\n                    if (nbb_cells[i].input_prompt_number == nbb_cell_id) {\n                        if (nbb_cells[i].get_text() == nbb_unformatted_code) {\n                             nbb_cells[i].set_text(nbb_formatted_code);\n                        }\n                        break;\n                    }\n                }\n            }, 500);\n            ",
      "text/plain": [
       "<IPython.core.display.Javascript object>"
      ]
     },
     "metadata": {},
     "output_type": "display_data"
    }
   ],
   "source": [
    "expprofit_df.expprofit"
   ]
  },
  {
   "cell_type": "code",
   "execution_count": 45,
   "metadata": {},
   "outputs": [
    {
     "data": {
      "image/png": "[encoded data removed]",
      "text/plain": [
       "<Figure size 1440x630 with 1 Axes>"
      ]
     },
     "metadata": {},
     "output_type": "display_data"
    },
    {
     "data": {
      "application/javascript": "\n            setTimeout(function() {\n                var nbb_cell_id = 45;\n                var nbb_unformatted_code = \"fig, ax = plt.subplots(figsize=(20, 8.75))\\nsns.set_theme()\\n\\n\\nplt.hist(expprofit_df.expprofit)\\nplt.xlabel(\\\"Expected Profit Range\\\")\\nplt.ylabel(\\\"Frequency\\\")\\n# ax.legend()\\nplt.show()\";\n                var nbb_formatted_code = \"fig, ax = plt.subplots(figsize=(20, 8.75))\\nsns.set_theme()\\n\\n\\nplt.hist(expprofit_df.expprofit)\\nplt.xlabel(\\\"Expected Profit Range\\\")\\nplt.ylabel(\\\"Frequency\\\")\\n# ax.legend()\\nplt.show()\";\n                var nbb_cells = Jupyter.notebook.get_cells();\n                for (var i = 0; i < nbb_cells.length; ++i) {\n                    if (nbb_cells[i].input_prompt_number == nbb_cell_id) {\n                        if (nbb_cells[i].get_text() == nbb_unformatted_code) {\n                             nbb_cells[i].set_text(nbb_formatted_code);\n                        }\n                        break;\n                    }\n                }\n            }, 500);\n            ",
      "text/plain": [
       "<IPython.core.display.Javascript object>"
      ]
     },
     "metadata": {},
     "output_type": "display_data"
    }
   ],
   "source": [
    "fig, ax = plt.subplots(figsize=(20, 8.75))\n",
    "sns.set_theme()\n",
    "\n",
    "\n",
    "plt.hist(expprofit_df.expprofit)\n",
    "plt.xlabel(\"Expected Profit Range\")\n",
    "plt.ylabel(\"Frequency\")\n",
    "# ax.legend()\n",
    "plt.show()"
   ]
  },
  {
   "cell_type": "code",
   "execution_count": 40,
   "metadata": {},
   "outputs": [
    {
     "name": "stdout",
     "output_type": "stream",
     "text": [
      "\\begin{tabular}{lrrrrrrr}\n",
      "\\toprule\n",
      "Scenario &   revenue &  distributon\\_cost &  expprofit &  FixedCosts &  WarehouseCosts &  ProductionCosts &  2nd\\_StageProfits \\\\\n",
      "\\midrule\n",
      "     S56 & 4940660.0 &          356871.5 & 1926996.95 &      100000 &        86461.55 &          2784410 &         4583788.5 \\\\\n",
      "\\bottomrule\n",
      "\\end{tabular}\n",
      "\n"
     ]
    },
    {
     "name": "stderr",
     "output_type": "stream",
     "text": [
      "/tmp/ipykernel_51761/227087891.py:7: FutureWarning: In future versions `DataFrame.to_latex` is expected to utilise the base implementation of `Styler.to_latex` for formatting and rendering. The arguments signature may therefore change. It is recommended instead to use `DataFrame.style.to_latex` which also contains additional functionality.\n",
      "  expprofit_df[expprofit_df.expprofit == expprofit_df.expprofit.min()].to_latex(\n"
     ]
    },
    {
     "data": {
      "application/javascript": "\n            setTimeout(function() {\n                var nbb_cell_id = 40;\n                var nbb_unformatted_code = \"expprofit_df[\\\"FixedCosts\\\"] = 100000\\nexpprofit_df[\\\"WarehouseCosts\\\"] = w_WaretDis.max()[1] * 0.35\\nexpprofit_df[\\\"ProductionCosts\\\"] = 278441 * 10\\nexpprofit_df[\\\"2nd_StageProfits\\\"] = expprofit_df.revenue - expprofit_df.distributon_cost\\n\\nprint(\\n    expprofit_df[expprofit_df.expprofit == expprofit_df.expprofit.min()].to_latex(\\n        index=False, multirow=True\\n    )\\n)\";\n                var nbb_formatted_code = \"expprofit_df[\\\"FixedCosts\\\"] = 100000\\nexpprofit_df[\\\"WarehouseCosts\\\"] = w_WaretDis.max()[1] * 0.35\\nexpprofit_df[\\\"ProductionCosts\\\"] = 278441 * 10\\nexpprofit_df[\\\"2nd_StageProfits\\\"] = expprofit_df.revenue - expprofit_df.distributon_cost\\n\\nprint(\\n    expprofit_df[expprofit_df.expprofit == expprofit_df.expprofit.min()].to_latex(\\n        index=False, multirow=True\\n    )\\n)\";\n                var nbb_cells = Jupyter.notebook.get_cells();\n                for (var i = 0; i < nbb_cells.length; ++i) {\n                    if (nbb_cells[i].input_prompt_number == nbb_cell_id) {\n                        if (nbb_cells[i].get_text() == nbb_unformatted_code) {\n                             nbb_cells[i].set_text(nbb_formatted_code);\n                        }\n                        break;\n                    }\n                }\n            }, 500);\n            ",
      "text/plain": [
       "<IPython.core.display.Javascript object>"
      ]
     },
     "metadata": {},
     "output_type": "display_data"
    }
   ],
   "source": [
    "expprofit_df[\"FixedCosts\"] = 100000\n",
    "expprofit_df[\"WarehouseCosts\"] = w_WaretDis.max()[1] * 0.35\n",
    "expprofit_df[\"ProductionCosts\"] = 278441 * 10\n",
    "expprofit_df[\"2nd_StageProfits\"] = expprofit_df.revenue - expprofit_df.distributon_cost\n",
    "\n",
    "print(\n",
    "    expprofit_df[expprofit_df.expprofit == expprofit_df.expprofit.min()].to_latex(\n",
    "        index=False, multirow=True\n",
    "    )\n",
    ")"
   ]
  },
  {
   "cell_type": "code",
   "execution_count": null,
   "metadata": {},
   "outputs": [],
   "source": []
  }
 ],
 "metadata": {
  "kernelspec": {
   "display_name": "Python 3 (ipykernel)",
   "language": "python",
   "name": "python3"
  },
  "language_info": {
   "codemirror_mode": {
    "name": "ipython",
    "version": 3
   },
   "file_extension": ".py",
   "mimetype": "text/x-python",
   "name": "python",
   "nbconvert_exporter": "python",
   "pygments_lexer": "ipython3",
   "version": "3.9.12"
  },
  "vscode": {
   "interpreter": {
    "hash": "e966e82fb3c605e4fcb54f010c309953dd9ddd50bea9aabbece184eb44f987ff"
   }
  }
 },
 "nbformat": 4,
 "nbformat_minor": 2
}
