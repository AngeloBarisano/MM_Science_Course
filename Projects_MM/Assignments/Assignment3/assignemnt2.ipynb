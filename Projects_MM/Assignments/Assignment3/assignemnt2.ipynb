{
 "cells": [
  {
   "cell_type": "code",
   "execution_count": 1,
   "metadata": {},
   "outputs": [
    {
     "data": {
      "application/javascript": "\n            setTimeout(function() {\n                var nbb_cell_id = 1;\n                var nbb_unformatted_code = \"from gurobipy import *\\nimport gurobipy as gp\\n\\n# type declaration\\nfrom typing import Dict, List\\n\\n\\nimport pandas as pd\\n\\nimport numpy as np\\n\\n%load_ext nb_black\\n%load_ext lab_black\\n\\nimport seaborn as sns\\nimport plotly.express as px\\n\\nimport plotly.graph_objects as go\\n\\n\\n# importing package\\nimport matplotlib.pyplot as plt\\n\\n%matplotlib inline\";\n                var nbb_formatted_code = \"from gurobipy import *\\nimport gurobipy as gp\\n\\n# type declaration\\nfrom typing import Dict, List\\n\\n\\nimport pandas as pd\\n\\nimport numpy as np\\n\\n%load_ext nb_black\\n%load_ext lab_black\\n\\nimport seaborn as sns\\nimport plotly.express as px\\n\\nimport plotly.graph_objects as go\\n\\n\\n# importing package\\nimport matplotlib.pyplot as plt\\n\\n%matplotlib inline\";\n                var nbb_cells = Jupyter.notebook.get_cells();\n                for (var i = 0; i < nbb_cells.length; ++i) {\n                    if (nbb_cells[i].input_prompt_number == nbb_cell_id) {\n                        if (nbb_cells[i].get_text() == nbb_unformatted_code) {\n                             nbb_cells[i].set_text(nbb_formatted_code);\n                        }\n                        break;\n                    }\n                }\n            }, 500);\n            ",
      "text/plain": [
       "<IPython.core.display.Javascript object>"
      ]
     },
     "metadata": {},
     "output_type": "display_data"
    }
   ],
   "source": [
    "from gurobipy import *\n",
    "import gurobipy as gp\n",
    "\n",
    "# type declaration\n",
    "from typing import Dict, List\n",
    "\n",
    "\n",
    "import pandas as pd\n",
    "\n",
    "import numpy as np\n",
    "\n",
    "%load_ext nb_black\n",
    "%load_ext lab_black\n",
    "\n",
    "import seaborn as sns\n",
    "import plotly.express as px\n",
    "\n",
    "import plotly.graph_objects as go\n",
    "\n",
    "\n",
    "# importing package\n",
    "import matplotlib.pyplot as plt\n",
    "\n",
    "%matplotlib inline"
   ]
  },
  {
   "cell_type": "code",
   "execution_count": 2,
   "metadata": {},
   "outputs": [
    {
     "data": {
      "application/javascript": "\n            setTimeout(function() {\n                var nbb_cell_id = 2;\n                var nbb_unformatted_code = \"import random\\n\\nrandom.seed(42)\";\n                var nbb_formatted_code = \"import random\\n\\nrandom.seed(42)\";\n                var nbb_cells = Jupyter.notebook.get_cells();\n                for (var i = 0; i < nbb_cells.length; ++i) {\n                    if (nbb_cells[i].input_prompt_number == nbb_cell_id) {\n                        if (nbb_cells[i].get_text() == nbb_unformatted_code) {\n                             nbb_cells[i].set_text(nbb_formatted_code);\n                        }\n                        break;\n                    }\n                }\n            }, 500);\n            ",
      "text/plain": [
       "<IPython.core.display.Javascript object>"
      ]
     },
     "metadata": {},
     "output_type": "display_data"
    }
   ],
   "source": [
    "import random\n",
    "\n",
    "random.seed(42)"
   ]
  },
  {
   "cell_type": "markdown",
   "metadata": {},
   "source": [
    "# Q1"
   ]
  },
  {
   "cell_type": "code",
   "execution_count": 3,
   "metadata": {},
   "outputs": [
    {
     "data": {
      "application/javascript": "\n            setTimeout(function() {\n                var nbb_cell_id = 3;\n                var nbb_unformatted_code = \"dict_swimmers = {\\n    (\\\"N\\\", \\\"BA\\\"): 40.1,\\n    (\\\"N\\\", \\\"BR\\\"): 41.7,\\n    (\\\"N\\\", \\\"BU\\\"): 41.1,\\n    (\\\"N\\\", \\\"FR\\\"): 33.3,\\n    (\\\"M\\\", \\\"BA\\\"): 39.6,\\n    (\\\"M\\\", \\\"BR\\\"): 37.6,\\n    (\\\"M\\\", \\\"BU\\\"): 31.9,\\n    (\\\"M\\\", \\\"FR\\\"): 31.2,\\n    (\\\"L\\\", \\\"BA\\\"): 35.3,\\n    (\\\"L\\\", \\\"BR\\\"): 37.9,\\n    (\\\"L\\\", \\\"BU\\\"): 36.2,\\n    (\\\"L\\\", \\\"FR\\\"): 33.1,\\n    (\\\"A\\\", \\\"BA\\\"): 30.6,\\n    (\\\"A\\\", \\\"BR\\\"): 34.1,\\n    (\\\"A\\\", \\\"BU\\\"): 33.3,\\n    (\\\"A\\\", \\\"FR\\\"): 29.1,\\n    (\\\"C\\\", \\\"BA\\\"): 36.9,\\n    (\\\"C\\\", \\\"BR\\\"): 37.2,\\n    (\\\"C\\\", \\\"BU\\\"): 29.0,\\n    (\\\"C\\\", \\\"FR\\\"): 31.6,\\n}\\n\\ndict_swimmers_obj = [\\n    (\\\"N\\\", \\\"BA\\\"),\\n    (\\\"N\\\", \\\"BR\\\"),\\n    (\\\"N\\\", \\\"BU\\\"),\\n    (\\\"N\\\", \\\"FR\\\"),\\n    (\\\"M\\\", \\\"BA\\\"),\\n    (\\\"M\\\", \\\"BR\\\"),\\n    (\\\"M\\\", \\\"BU\\\"),\\n    (\\\"M\\\", \\\"FR\\\"),\\n    (\\\"L\\\", \\\"BA\\\"),\\n    (\\\"L\\\", \\\"BR\\\"),\\n    (\\\"L\\\", \\\"BU\\\"),\\n    (\\\"L\\\", \\\"FR\\\"),\\n    (\\\"A\\\", \\\"BA\\\"),\\n    (\\\"A\\\", \\\"BR\\\"),\\n    (\\\"A\\\", \\\"BU\\\"),\\n    (\\\"A\\\", \\\"FR\\\"),\\n    (\\\"C\\\", \\\"BA\\\"),\\n    (\\\"C\\\", \\\"BR\\\"),\\n    (\\\"C\\\", \\\"BU\\\"),\\n    (\\\"C\\\", \\\"FR\\\"),\\n]\\nnames_list = [\\\"N\\\", \\\"M\\\", \\\"L\\\", \\\"A\\\", \\\"C\\\"]\\ntypes_lanes = [\\\"BA\\\", \\\"BR\\\", \\\"BU\\\", \\\"FR\\\"]\";\n                var nbb_formatted_code = \"dict_swimmers = {\\n    (\\\"N\\\", \\\"BA\\\"): 40.1,\\n    (\\\"N\\\", \\\"BR\\\"): 41.7,\\n    (\\\"N\\\", \\\"BU\\\"): 41.1,\\n    (\\\"N\\\", \\\"FR\\\"): 33.3,\\n    (\\\"M\\\", \\\"BA\\\"): 39.6,\\n    (\\\"M\\\", \\\"BR\\\"): 37.6,\\n    (\\\"M\\\", \\\"BU\\\"): 31.9,\\n    (\\\"M\\\", \\\"FR\\\"): 31.2,\\n    (\\\"L\\\", \\\"BA\\\"): 35.3,\\n    (\\\"L\\\", \\\"BR\\\"): 37.9,\\n    (\\\"L\\\", \\\"BU\\\"): 36.2,\\n    (\\\"L\\\", \\\"FR\\\"): 33.1,\\n    (\\\"A\\\", \\\"BA\\\"): 30.6,\\n    (\\\"A\\\", \\\"BR\\\"): 34.1,\\n    (\\\"A\\\", \\\"BU\\\"): 33.3,\\n    (\\\"A\\\", \\\"FR\\\"): 29.1,\\n    (\\\"C\\\", \\\"BA\\\"): 36.9,\\n    (\\\"C\\\", \\\"BR\\\"): 37.2,\\n    (\\\"C\\\", \\\"BU\\\"): 29.0,\\n    (\\\"C\\\", \\\"FR\\\"): 31.6,\\n}\\n\\ndict_swimmers_obj = [\\n    (\\\"N\\\", \\\"BA\\\"),\\n    (\\\"N\\\", \\\"BR\\\"),\\n    (\\\"N\\\", \\\"BU\\\"),\\n    (\\\"N\\\", \\\"FR\\\"),\\n    (\\\"M\\\", \\\"BA\\\"),\\n    (\\\"M\\\", \\\"BR\\\"),\\n    (\\\"M\\\", \\\"BU\\\"),\\n    (\\\"M\\\", \\\"FR\\\"),\\n    (\\\"L\\\", \\\"BA\\\"),\\n    (\\\"L\\\", \\\"BR\\\"),\\n    (\\\"L\\\", \\\"BU\\\"),\\n    (\\\"L\\\", \\\"FR\\\"),\\n    (\\\"A\\\", \\\"BA\\\"),\\n    (\\\"A\\\", \\\"BR\\\"),\\n    (\\\"A\\\", \\\"BU\\\"),\\n    (\\\"A\\\", \\\"FR\\\"),\\n    (\\\"C\\\", \\\"BA\\\"),\\n    (\\\"C\\\", \\\"BR\\\"),\\n    (\\\"C\\\", \\\"BU\\\"),\\n    (\\\"C\\\", \\\"FR\\\"),\\n]\\nnames_list = [\\\"N\\\", \\\"M\\\", \\\"L\\\", \\\"A\\\", \\\"C\\\"]\\ntypes_lanes = [\\\"BA\\\", \\\"BR\\\", \\\"BU\\\", \\\"FR\\\"]\";\n                var nbb_cells = Jupyter.notebook.get_cells();\n                for (var i = 0; i < nbb_cells.length; ++i) {\n                    if (nbb_cells[i].input_prompt_number == nbb_cell_id) {\n                        if (nbb_cells[i].get_text() == nbb_unformatted_code) {\n                             nbb_cells[i].set_text(nbb_formatted_code);\n                        }\n                        break;\n                    }\n                }\n            }, 500);\n            ",
      "text/plain": [
       "<IPython.core.display.Javascript object>"
      ]
     },
     "metadata": {},
     "output_type": "display_data"
    }
   ],
   "source": [
    "dict_swimmers = {\n",
    "    (\"N\", \"BA\"): 40.1,\n",
    "    (\"N\", \"BR\"): 41.7,\n",
    "    (\"N\", \"BU\"): 41.1,\n",
    "    (\"N\", \"FR\"): 33.3,\n",
    "    (\"M\", \"BA\"): 39.6,\n",
    "    (\"M\", \"BR\"): 37.6,\n",
    "    (\"M\", \"BU\"): 31.9,\n",
    "    (\"M\", \"FR\"): 31.2,\n",
    "    (\"L\", \"BA\"): 35.3,\n",
    "    (\"L\", \"BR\"): 37.9,\n",
    "    (\"L\", \"BU\"): 36.2,\n",
    "    (\"L\", \"FR\"): 33.1,\n",
    "    (\"A\", \"BA\"): 30.6,\n",
    "    (\"A\", \"BR\"): 34.1,\n",
    "    (\"A\", \"BU\"): 33.3,\n",
    "    (\"A\", \"FR\"): 29.1,\n",
    "    (\"C\", \"BA\"): 36.9,\n",
    "    (\"C\", \"BR\"): 37.2,\n",
    "    (\"C\", \"BU\"): 29.0,\n",
    "    (\"C\", \"FR\"): 31.6,\n",
    "}\n",
    "\n",
    "dict_swimmers_obj = [\n",
    "    (\"N\", \"BA\"),\n",
    "    (\"N\", \"BR\"),\n",
    "    (\"N\", \"BU\"),\n",
    "    (\"N\", \"FR\"),\n",
    "    (\"M\", \"BA\"),\n",
    "    (\"M\", \"BR\"),\n",
    "    (\"M\", \"BU\"),\n",
    "    (\"M\", \"FR\"),\n",
    "    (\"L\", \"BA\"),\n",
    "    (\"L\", \"BR\"),\n",
    "    (\"L\", \"BU\"),\n",
    "    (\"L\", \"FR\"),\n",
    "    (\"A\", \"BA\"),\n",
    "    (\"A\", \"BR\"),\n",
    "    (\"A\", \"BU\"),\n",
    "    (\"A\", \"FR\"),\n",
    "    (\"C\", \"BA\"),\n",
    "    (\"C\", \"BR\"),\n",
    "    (\"C\", \"BU\"),\n",
    "    (\"C\", \"FR\"),\n",
    "]\n",
    "names_list = [\"N\", \"M\", \"L\", \"A\", \"C\"]\n",
    "types_lanes = [\"BA\", \"BR\", \"BU\", \"FR\"]"
   ]
  },
  {
   "cell_type": "code",
   "execution_count": 4,
   "metadata": {},
   "outputs": [
    {
     "name": "stdout",
     "output_type": "stream",
     "text": [
      "Set parameter Username\n",
      "Academic license - for non-commercial use only - expires 2023-11-10\n",
      "Gurobi Optimizer version 10.0.0 build v10.0.0rc2 (linux64)\n",
      "\n",
      "CPU model: 11th Gen Intel(R) Core(TM) i7-1165G7 @ 2.80GHz, instruction set [SSE2|AVX|AVX2|AVX512]\n",
      "Thread count: 4 physical cores, 8 logical processors, using up to 8 threads\n",
      "\n",
      "Optimize a model with 9 rows, 20 columns and 40 nonzeros\n",
      "Model fingerprint: 0x69b34e51\n",
      "Variable types: 0 continuous, 20 integer (20 binary)\n",
      "Coefficient statistics:\n",
      "  Matrix range     [1e+00, 1e+00]\n",
      "  Objective range  [3e+01, 4e+01]\n",
      "  Bounds range     [1e+00, 1e+00]\n",
      "  RHS range        [1e+00, 1e+00]\n",
      "Found heuristic solution: objective 136.3000000\n",
      "Presolve time: 0.00s\n",
      "Presolved: 9 rows, 20 columns, 40 nonzeros\n",
      "Variable types: 0 continuous, 20 integer (20 binary)\n",
      "Found heuristic solution: objective 135.8000000\n",
      "\n",
      "Root relaxation: objective 1.287000e+02, 8 iterations, 0.00 seconds (0.00 work units)\n",
      "\n",
      "    Nodes    |    Current Node    |     Objective Bounds      |     Work\n",
      " Expl Unexpl |  Obj  Depth IntInf | Incumbent    BestBd   Gap | It/Node Time\n",
      "\n",
      "*    0     0               0     128.7000000  128.70000  0.00%     -    0s\n",
      "\n",
      "Explored 1 nodes (8 simplex iterations) in 0.01 seconds (0.00 work units)\n",
      "Thread count was 8 (of 8 available processors)\n",
      "\n",
      "Solution count 3: 128.7 135.8 136.3 \n",
      "\n",
      "Optimal solution found (tolerance 1.00e-04)\n",
      "Best objective 1.287000000000e+02, best bound 1.287000000000e+02, gap 0.0000%\n",
      "optimal value 128.7\n",
      "\n",
      "    Variable            X \n",
      "-------------------------\n",
      "swimmers[M,FR]            1 \n",
      "swimmers[L,BR]            1 \n",
      "swimmers[A,BA]            1 \n",
      "swimmers[C,BU]            1 \n"
     ]
    },
    {
     "data": {
      "application/javascript": "\n            setTimeout(function() {\n                var nbb_cell_id = 4;\n                var nbb_unformatted_code = \"random.seed(42)\\nmodel = Model()\\nx = model.addVars(dict_swimmers, obj=dict_swimmers, vtype=GRB.BINARY, name=\\\"swimmers\\\")\\nmodel.ModelSense = gp.GRB.MINIMIZE\\nmodel.addConstrs(gp.quicksum((x[(i, j)] for j in types_lanes)) <= 1 for i in names_list)\\n\\nfor j in types_lanes:\\n    model.addConstr(gp.quicksum((x[(i, j)] for i in names_list)) == 1)\\n\\nmodel.optimize()\\nprint(\\\"optimal value\\\", model.objval)\\nmodel.printAttr(\\\"X\\\")\";\n                var nbb_formatted_code = \"random.seed(42)\\nmodel = Model()\\nx = model.addVars(dict_swimmers, obj=dict_swimmers, vtype=GRB.BINARY, name=\\\"swimmers\\\")\\nmodel.ModelSense = gp.GRB.MINIMIZE\\nmodel.addConstrs(gp.quicksum((x[(i, j)] for j in types_lanes)) <= 1 for i in names_list)\\n\\nfor j in types_lanes:\\n    model.addConstr(gp.quicksum((x[(i, j)] for i in names_list)) == 1)\\n\\nmodel.optimize()\\nprint(\\\"optimal value\\\", model.objval)\\nmodel.printAttr(\\\"X\\\")\";\n                var nbb_cells = Jupyter.notebook.get_cells();\n                for (var i = 0; i < nbb_cells.length; ++i) {\n                    if (nbb_cells[i].input_prompt_number == nbb_cell_id) {\n                        if (nbb_cells[i].get_text() == nbb_unformatted_code) {\n                             nbb_cells[i].set_text(nbb_formatted_code);\n                        }\n                        break;\n                    }\n                }\n            }, 500);\n            ",
      "text/plain": [
       "<IPython.core.display.Javascript object>"
      ]
     },
     "metadata": {},
     "output_type": "display_data"
    }
   ],
   "source": [
    "random.seed(42)\n",
    "model = Model()\n",
    "x = model.addVars(dict_swimmers, obj=dict_swimmers, vtype=GRB.BINARY, name=\"swimmers\")\n",
    "model.ModelSense = gp.GRB.MINIMIZE\n",
    "model.addConstrs(gp.quicksum((x[(i, j)] for j in types_lanes)) <= 1 for i in names_list)\n",
    "\n",
    "for j in types_lanes:\n",
    "    model.addConstr(gp.quicksum((x[(i, j)] for i in names_list)) == 1)\n",
    "\n",
    "model.optimize()\n",
    "print(\"optimal value\", model.objval)\n",
    "model.printAttr(\"X\")"
   ]
  },
  {
   "cell_type": "markdown",
   "metadata": {},
   "source": [
    "# Q2a Standard Capacity allocation problem\n",
    "\n",
    "Use simulation to determine the optimal booking policy to maximize expected revenue: for every booking limit between 20 and 80, simulate 10000 paths and compute the expected revenue. Plot the expected revenue as a function of the booking limit. (30 points)\n",
    "\n",
    "\n",
    "\n"
   ]
  },
  {
   "cell_type": "code",
   "execution_count": 5,
   "metadata": {},
   "outputs": [
    {
     "data": {
      "application/javascript": "\n            setTimeout(function() {\n                var nbb_cell_id = 5;\n                var nbb_unformatted_code = \"random.seed(42)\\nbooklimit = list(range(20, 81))\\nlam_customerP1 = np.random.poisson(lam=75, size=10000)\\nlam_customerP2 = np.random.poisson(lam=50, size=10000)\\n\\nprofit = []\\nfor lim in booklimit:\\n    salePeriod1 = np.where(lam_customerP1 <= lim, lam_customerP1, lim)\\n    ticketsLeft = 100 - salePeriod1\\n    salePeriod2 = np.where(lam_customerP2 > ticketsLeft, ticketsLeft, lam_customerP2)\\n    revenues = 150 * salePeriod1 + 500 * salePeriod2\\n    profit.append([lim, np.mean(revenues)])\";\n                var nbb_formatted_code = \"random.seed(42)\\nbooklimit = list(range(20, 81))\\nlam_customerP1 = np.random.poisson(lam=75, size=10000)\\nlam_customerP2 = np.random.poisson(lam=50, size=10000)\\n\\nprofit = []\\nfor lim in booklimit:\\n    salePeriod1 = np.where(lam_customerP1 <= lim, lam_customerP1, lim)\\n    ticketsLeft = 100 - salePeriod1\\n    salePeriod2 = np.where(lam_customerP2 > ticketsLeft, ticketsLeft, lam_customerP2)\\n    revenues = 150 * salePeriod1 + 500 * salePeriod2\\n    profit.append([lim, np.mean(revenues)])\";\n                var nbb_cells = Jupyter.notebook.get_cells();\n                for (var i = 0; i < nbb_cells.length; ++i) {\n                    if (nbb_cells[i].input_prompt_number == nbb_cell_id) {\n                        if (nbb_cells[i].get_text() == nbb_unformatted_code) {\n                             nbb_cells[i].set_text(nbb_formatted_code);\n                        }\n                        break;\n                    }\n                }\n            }, 500);\n            ",
      "text/plain": [
       "<IPython.core.display.Javascript object>"
      ]
     },
     "metadata": {},
     "output_type": "display_data"
    }
   ],
   "source": [
    "random.seed(42)\n",
    "booklimit = list(range(20, 81))\n",
    "lam_customerP1 = np.random.poisson(lam=75, size=10000)\n",
    "lam_customerP2 = np.random.poisson(lam=50, size=10000)\n",
    "\n",
    "profit = []\n",
    "for lim in booklimit:\n",
    "    salePeriod1 = np.where(lam_customerP1 <= lim, lam_customerP1, lim)\n",
    "    ticketsLeft = 100 - salePeriod1\n",
    "    salePeriod2 = np.where(lam_customerP2 > ticketsLeft, ticketsLeft, lam_customerP2)\n",
    "    revenues = 150 * salePeriod1 + 500 * salePeriod2\n",
    "    profit.append([lim, np.mean(revenues)])"
   ]
  },
  {
   "cell_type": "code",
   "execution_count": 6,
   "metadata": {},
   "outputs": [
    {
     "data": {
      "application/javascript": "\n            setTimeout(function() {\n                var nbb_cell_id = 6;\n                var nbb_unformatted_code = \"df_profit = pd.DataFrame(profit, columns=[\\\"Alpha\\\", \\\"Expected Revenue\\\"])\";\n                var nbb_formatted_code = \"df_profit = pd.DataFrame(profit, columns=[\\\"Alpha\\\", \\\"Expected Revenue\\\"])\";\n                var nbb_cells = Jupyter.notebook.get_cells();\n                for (var i = 0; i < nbb_cells.length; ++i) {\n                    if (nbb_cells[i].input_prompt_number == nbb_cell_id) {\n                        if (nbb_cells[i].get_text() == nbb_unformatted_code) {\n                             nbb_cells[i].set_text(nbb_formatted_code);\n                        }\n                        break;\n                    }\n                }\n            }, 500);\n            ",
      "text/plain": [
       "<IPython.core.display.Javascript object>"
      ]
     },
     "metadata": {},
     "output_type": "display_data"
    }
   ],
   "source": [
    "df_profit = pd.DataFrame(profit, columns=[\"Alpha\", \"Expected Revenue\"])"
   ]
  },
  {
   "cell_type": "code",
   "execution_count": 7,
   "metadata": {},
   "outputs": [
    {
     "data": {
      "image/png": "[encoded data removed]",
      "text/plain": [
       "<Figure size 1080x540 with 1 Axes>"
      ]
     },
     "metadata": {},
     "output_type": "display_data"
    },
    {
     "data": {
      "application/javascript": "\n            setTimeout(function() {\n                var nbb_cell_id = 7;\n                var nbb_unformatted_code = \"sns.set_theme()\\nfig, ax = plt.subplots(figsize=(15, 7.5))\\nplt.plot(df_profit[\\\"Alpha\\\"], df_profit[\\\"Expected Revenue\\\"], label=\\\"line 1\\\")\\nplt.title(\\\"Expected Revenue By Booking Limit\\\")\\nplt.xlabel(\\\"Booking Limit\\\")\\nplt.ylabel(\\\"Expected Profit\\\")\\n# plt.legend()\\nplt.show()\";\n                var nbb_formatted_code = \"sns.set_theme()\\nfig, ax = plt.subplots(figsize=(15, 7.5))\\nplt.plot(df_profit[\\\"Alpha\\\"], df_profit[\\\"Expected Revenue\\\"], label=\\\"line 1\\\")\\nplt.title(\\\"Expected Revenue By Booking Limit\\\")\\nplt.xlabel(\\\"Booking Limit\\\")\\nplt.ylabel(\\\"Expected Profit\\\")\\n# plt.legend()\\nplt.show()\";\n                var nbb_cells = Jupyter.notebook.get_cells();\n                for (var i = 0; i < nbb_cells.length; ++i) {\n                    if (nbb_cells[i].input_prompt_number == nbb_cell_id) {\n                        if (nbb_cells[i].get_text() == nbb_unformatted_code) {\n                             nbb_cells[i].set_text(nbb_formatted_code);\n                        }\n                        break;\n                    }\n                }\n            }, 500);\n            ",
      "text/plain": [
       "<IPython.core.display.Javascript object>"
      ]
     },
     "metadata": {},
     "output_type": "display_data"
    }
   ],
   "source": [
    "sns.set_theme()\n",
    "fig, ax = plt.subplots(figsize=(15, 7.5))\n",
    "plt.plot(df_profit[\"Alpha\"], df_profit[\"Expected Revenue\"], label=\"line 1\")\n",
    "plt.title(\"Expected Revenue By Booking Limit\")\n",
    "plt.xlabel(\"Booking Limit\")\n",
    "plt.ylabel(\"Expected Profit\")\n",
    "# plt.legend()\n",
    "plt.show()"
   ]
  },
  {
   "cell_type": "code",
   "execution_count": 8,
   "metadata": {},
   "outputs": [
    {
     "data": {
      "text/html": [
       "<div>\n",
       "<style scoped>\n",
       "    .dataframe tbody tr th:only-of-type {\n",
       "        vertical-align: middle;\n",
       "    }\n",
       "\n",
       "    .dataframe tbody tr th {\n",
       "        vertical-align: top;\n",
       "    }\n",
       "\n",
       "    .dataframe thead th {\n",
       "        text-align: right;\n",
       "    }\n",
       "</style>\n",
       "<table border=\"1\" class=\"dataframe\">\n",
       "  <thead>\n",
       "    <tr style=\"text-align: right;\">\n",
       "      <th></th>\n",
       "      <th>Alpha</th>\n",
       "      <th>Expected Revenue</th>\n",
       "    </tr>\n",
       "  </thead>\n",
       "  <tbody>\n",
       "    <tr>\n",
       "      <th>27</th>\n",
       "      <td>47</td>\n",
       "      <td>31250.090</td>\n",
       "    </tr>\n",
       "    <tr>\n",
       "      <th>26</th>\n",
       "      <td>46</td>\n",
       "      <td>31248.535</td>\n",
       "    </tr>\n",
       "    <tr>\n",
       "      <th>28</th>\n",
       "      <td>48</td>\n",
       "      <td>31226.550</td>\n",
       "    </tr>\n",
       "    <tr>\n",
       "      <th>25</th>\n",
       "      <td>45</td>\n",
       "      <td>31223.900</td>\n",
       "    </tr>\n",
       "    <tr>\n",
       "      <th>24</th>\n",
       "      <td>44</td>\n",
       "      <td>31178.550</td>\n",
       "    </tr>\n",
       "    <tr>\n",
       "      <th>...</th>\n",
       "      <td>...</td>\n",
       "      <td>...</td>\n",
       "    </tr>\n",
       "    <tr>\n",
       "      <th>56</th>\n",
       "      <td>76</td>\n",
       "      <td>24791.750</td>\n",
       "    </tr>\n",
       "    <tr>\n",
       "      <th>57</th>\n",
       "      <td>77</td>\n",
       "      <td>24644.295</td>\n",
       "    </tr>\n",
       "    <tr>\n",
       "      <th>58</th>\n",
       "      <td>78</td>\n",
       "      <td>24512.625</td>\n",
       "    </tr>\n",
       "    <tr>\n",
       "      <th>59</th>\n",
       "      <td>79</td>\n",
       "      <td>24394.500</td>\n",
       "    </tr>\n",
       "    <tr>\n",
       "      <th>60</th>\n",
       "      <td>80</td>\n",
       "      <td>24289.885</td>\n",
       "    </tr>\n",
       "  </tbody>\n",
       "</table>\n",
       "<p>61 rows × 2 columns</p>\n",
       "</div>"
      ],
      "text/plain": [
       "    Alpha  Expected Revenue\n",
       "27     47         31250.090\n",
       "26     46         31248.535\n",
       "28     48         31226.550\n",
       "25     45         31223.900\n",
       "24     44         31178.550\n",
       "..    ...               ...\n",
       "56     76         24791.750\n",
       "57     77         24644.295\n",
       "58     78         24512.625\n",
       "59     79         24394.500\n",
       "60     80         24289.885\n",
       "\n",
       "[61 rows x 2 columns]"
      ]
     },
     "execution_count": 8,
     "metadata": {},
     "output_type": "execute_result"
    },
    {
     "data": {
      "application/javascript": "\n            setTimeout(function() {\n                var nbb_cell_id = 8;\n                var nbb_unformatted_code = \"df_profit.sort_values(by=\\\"Expected Revenue\\\", ascending=False)\";\n                var nbb_formatted_code = \"df_profit.sort_values(by=\\\"Expected Revenue\\\", ascending=False)\";\n                var nbb_cells = Jupyter.notebook.get_cells();\n                for (var i = 0; i < nbb_cells.length; ++i) {\n                    if (nbb_cells[i].input_prompt_number == nbb_cell_id) {\n                        if (nbb_cells[i].get_text() == nbb_unformatted_code) {\n                             nbb_cells[i].set_text(nbb_formatted_code);\n                        }\n                        break;\n                    }\n                }\n            }, 500);\n            ",
      "text/plain": [
       "<IPython.core.display.Javascript object>"
      ]
     },
     "metadata": {},
     "output_type": "display_data"
    }
   ],
   "source": [
    "df_profit.sort_values(by=\"Expected Revenue\", ascending=False)"
   ]
  },
  {
   "cell_type": "markdown",
   "metadata": {},
   "source": [
    "# Q2b"
   ]
  },
  {
   "cell_type": "code",
   "execution_count": 9,
   "metadata": {},
   "outputs": [
    {
     "data": {
      "application/javascript": "\n            setTimeout(function() {\n                var nbb_cell_id = 9;\n                var nbb_unformatted_code = \"lam_customerP1 = np.random.poisson(lam=75, size=10000)\\nlam_customerP2 = np.random.poisson(lam=50, size=10000)\\nprice_range = list(range(100, 301))\\nbooking_limit = list(range(20, 81))\\n\\n\\nprofit = []\\nfor alpha in booking_limit:\\n    for prp in price_range:\\n        # draw customer numbers period 1\\n        paying_customers_p1 = np.where(lam_customerP1 <= 0, lam_customerP1, alpha)\\n\\n        # define the number of seats available after period 1 sales\\n        n_seats = 100 - paying_customers_p1\\n\\n        # Define the shortage in saeats based on period 2 demans\\n        period2_shortage = np.where(\\n            n_seats < lam_customerP2, lam_customerP2 - n_seats, 0\\n        )\\n\\n        # draw how many custoemrs want to be refunded\\n        refunded = np.random.binomial(paying_customers_p1, ((prp - 100) / 200), 10000)\\n        period1_refunds = np.where(\\n            refunded >= period2_shortage, period2_shortage, refunded\\n        )\\n\\n        # fetch the number of seats\\n        n_seats_new = n_seats + period1_refunds\\n\\n        paying_customers_p2 = np.where(\\n            lam_customerP2 > n_seats_new, n_seats_new, lam_customerP2\\n        )\\n\\n        # expected revenue\\n        exprevenue = ((paying_customers_p1 * 150) - (period1_refunds * prp)) + (\\n            paying_customers_p2 * 500\\n        )\\n\\n        # save the results\\n        profit.append([alpha, prp, np.mean(exprevenue)])\";\n                var nbb_formatted_code = \"lam_customerP1 = np.random.poisson(lam=75, size=10000)\\nlam_customerP2 = np.random.poisson(lam=50, size=10000)\\nprice_range = list(range(100, 301))\\nbooking_limit = list(range(20, 81))\\n\\n\\nprofit = []\\nfor alpha in booking_limit:\\n    for prp in price_range:\\n        # draw customer numbers period 1\\n        paying_customers_p1 = np.where(lam_customerP1 <= 0, lam_customerP1, alpha)\\n\\n        # define the number of seats available after period 1 sales\\n        n_seats = 100 - paying_customers_p1\\n\\n        # Define the shortage in saeats based on period 2 demans\\n        period2_shortage = np.where(\\n            n_seats < lam_customerP2, lam_customerP2 - n_seats, 0\\n        )\\n\\n        # draw how many custoemrs want to be refunded\\n        refunded = np.random.binomial(paying_customers_p1, ((prp - 100) / 200), 10000)\\n        period1_refunds = np.where(\\n            refunded >= period2_shortage, period2_shortage, refunded\\n        )\\n\\n        # fetch the number of seats\\n        n_seats_new = n_seats + period1_refunds\\n\\n        paying_customers_p2 = np.where(\\n            lam_customerP2 > n_seats_new, n_seats_new, lam_customerP2\\n        )\\n\\n        # expected revenue\\n        exprevenue = ((paying_customers_p1 * 150) - (period1_refunds * prp)) + (\\n            paying_customers_p2 * 500\\n        )\\n\\n        # save the results\\n        profit.append([alpha, prp, np.mean(exprevenue)])\";\n                var nbb_cells = Jupyter.notebook.get_cells();\n                for (var i = 0; i < nbb_cells.length; ++i) {\n                    if (nbb_cells[i].input_prompt_number == nbb_cell_id) {\n                        if (nbb_cells[i].get_text() == nbb_unformatted_code) {\n                             nbb_cells[i].set_text(nbb_formatted_code);\n                        }\n                        break;\n                    }\n                }\n            }, 500);\n            ",
      "text/plain": [
       "<IPython.core.display.Javascript object>"
      ]
     },
     "metadata": {},
     "output_type": "display_data"
    }
   ],
   "source": [
    "lam_customerP1 = np.random.poisson(lam=75, size=10000)\n",
    "lam_customerP2 = np.random.poisson(lam=50, size=10000)\n",
    "price_range = list(range(100, 301))\n",
    "booking_limit = list(range(20, 81))\n",
    "\n",
    "\n",
    "profit = []\n",
    "for alpha in booking_limit:\n",
    "    for prp in price_range:\n",
    "        # draw customer numbers period 1\n",
    "        paying_customers_p1 = np.where(lam_customerP1 <= 0, lam_customerP1, alpha)\n",
    "\n",
    "        # define the number of seats available after period 1 sales\n",
    "        n_seats = 100 - paying_customers_p1\n",
    "\n",
    "        # Define the shortage in saeats based on period 2 demans\n",
    "        period2_shortage = np.where(\n",
    "            n_seats < lam_customerP2, lam_customerP2 - n_seats, 0\n",
    "        )\n",
    "\n",
    "        # draw how many custoemrs want to be refunded\n",
    "        refunded = np.random.binomial(paying_customers_p1, ((prp - 100) / 200), 10000)\n",
    "        period1_refunds = np.where(\n",
    "            refunded >= period2_shortage, period2_shortage, refunded\n",
    "        )\n",
    "\n",
    "        # fetch the number of seats\n",
    "        n_seats_new = n_seats + period1_refunds\n",
    "\n",
    "        paying_customers_p2 = np.where(\n",
    "            lam_customerP2 > n_seats_new, n_seats_new, lam_customerP2\n",
    "        )\n",
    "\n",
    "        # expected revenue\n",
    "        exprevenue = ((paying_customers_p1 * 150) - (period1_refunds * prp)) + (\n",
    "            paying_customers_p2 * 500\n",
    "        )\n",
    "\n",
    "        # save the results\n",
    "        profit.append([alpha, prp, np.mean(exprevenue)])"
   ]
  },
  {
   "cell_type": "code",
   "execution_count": 10,
   "metadata": {},
   "outputs": [
    {
     "data": {
      "application/javascript": "\n            setTimeout(function() {\n                var nbb_cell_id = 10;\n                var nbb_unformatted_code = \"df_profit_2 = pd.DataFrame(\\n    profit, columns=[\\\"Alpha\\\", \\\"Refunded Tickets\\\", \\\"Expected Revenue\\\"]\\n)\\n\\ndf_profit_2_max = df_profit_2.loc[\\n    df_profit_2.groupby([\\\"Alpha\\\"])[\\\"Expected Revenue\\\"].idxmax()\\n]\";\n                var nbb_formatted_code = \"df_profit_2 = pd.DataFrame(\\n    profit, columns=[\\\"Alpha\\\", \\\"Refunded Tickets\\\", \\\"Expected Revenue\\\"]\\n)\\n\\ndf_profit_2_max = df_profit_2.loc[\\n    df_profit_2.groupby([\\\"Alpha\\\"])[\\\"Expected Revenue\\\"].idxmax()\\n]\";\n                var nbb_cells = Jupyter.notebook.get_cells();\n                for (var i = 0; i < nbb_cells.length; ++i) {\n                    if (nbb_cells[i].input_prompt_number == nbb_cell_id) {\n                        if (nbb_cells[i].get_text() == nbb_unformatted_code) {\n                             nbb_cells[i].set_text(nbb_formatted_code);\n                        }\n                        break;\n                    }\n                }\n            }, 500);\n            ",
      "text/plain": [
       "<IPython.core.display.Javascript object>"
      ]
     },
     "metadata": {},
     "output_type": "display_data"
    }
   ],
   "source": [
    "df_profit_2 = pd.DataFrame(\n",
    "    profit, columns=[\"Alpha\", \"Refunded Tickets\", \"Expected Revenue\"]\n",
    ")\n",
    "\n",
    "df_profit_2_max = df_profit_2.loc[\n",
    "    df_profit_2.groupby([\"Alpha\"])[\"Expected Revenue\"].idxmax()\n",
    "]"
   ]
  },
  {
   "cell_type": "code",
   "execution_count": 11,
   "metadata": {},
   "outputs": [
    {
     "data": {
      "application/javascript": "\n            setTimeout(function() {\n                var nbb_cell_id = 11;\n                var nbb_unformatted_code = \"# idx = (\\n#     df_profit_2.groupby([\\\"Alpha\\\"])[\\\"Expected Revenue\\\"].transform(max)\\n#     == df_profit_2[\\\"Expected Revenue\\\"]\\n# )\\n# df_profit_2_max = df_profit_2[idx].drop_duplicates(\\n#     subset=[\\\"Alpha\\\", \\\"Expected Revenue\\\"], keep=\\\"first\\\"\\n# )\";\n                var nbb_formatted_code = \"# idx = (\\n#     df_profit_2.groupby([\\\"Alpha\\\"])[\\\"Expected Revenue\\\"].transform(max)\\n#     == df_profit_2[\\\"Expected Revenue\\\"]\\n# )\\n# df_profit_2_max = df_profit_2[idx].drop_duplicates(\\n#     subset=[\\\"Alpha\\\", \\\"Expected Revenue\\\"], keep=\\\"first\\\"\\n# )\";\n                var nbb_cells = Jupyter.notebook.get_cells();\n                for (var i = 0; i < nbb_cells.length; ++i) {\n                    if (nbb_cells[i].input_prompt_number == nbb_cell_id) {\n                        if (nbb_cells[i].get_text() == nbb_unformatted_code) {\n                             nbb_cells[i].set_text(nbb_formatted_code);\n                        }\n                        break;\n                    }\n                }\n            }, 500);\n            ",
      "text/plain": [
       "<IPython.core.display.Javascript object>"
      ]
     },
     "metadata": {},
     "output_type": "display_data"
    }
   ],
   "source": [
    "# idx = (\n",
    "#     df_profit_2.groupby([\"Alpha\"])[\"Expected Revenue\"].transform(max)\n",
    "#     == df_profit_2[\"Expected Revenue\"]\n",
    "# )\n",
    "# df_profit_2_max = df_profit_2[idx].drop_duplicates(\n",
    "#     subset=[\"Alpha\", \"Expected Revenue\"], keep=\"first\"\n",
    "# )"
   ]
  },
  {
   "cell_type": "code",
   "execution_count": 12,
   "metadata": {},
   "outputs": [
    {
     "data": {
      "text/html": [
       "<div>\n",
       "<style scoped>\n",
       "    .dataframe tbody tr th:only-of-type {\n",
       "        vertical-align: middle;\n",
       "    }\n",
       "\n",
       "    .dataframe tbody tr th {\n",
       "        vertical-align: top;\n",
       "    }\n",
       "\n",
       "    .dataframe thead th {\n",
       "        text-align: right;\n",
       "    }\n",
       "</style>\n",
       "<table border=\"1\" class=\"dataframe\">\n",
       "  <thead>\n",
       "    <tr style=\"text-align: right;\">\n",
       "      <th></th>\n",
       "      <th>Alpha</th>\n",
       "      <th>Refunded Tickets</th>\n",
       "      <th>Expected Revenue</th>\n",
       "    </tr>\n",
       "  </thead>\n",
       "  <tbody>\n",
       "    <tr>\n",
       "      <th>7297</th>\n",
       "      <td>56</td>\n",
       "      <td>161</td>\n",
       "      <td>32201.7545</td>\n",
       "    </tr>\n",
       "    <tr>\n",
       "      <th>7501</th>\n",
       "      <td>57</td>\n",
       "      <td>164</td>\n",
       "      <td>32200.7472</td>\n",
       "    </tr>\n",
       "    <tr>\n",
       "      <th>7096</th>\n",
       "      <td>55</td>\n",
       "      <td>161</td>\n",
       "      <td>32195.0507</td>\n",
       "    </tr>\n",
       "    <tr>\n",
       "      <th>7704</th>\n",
       "      <td>58</td>\n",
       "      <td>166</td>\n",
       "      <td>32189.6072</td>\n",
       "    </tr>\n",
       "    <tr>\n",
       "      <th>6899</th>\n",
       "      <td>54</td>\n",
       "      <td>165</td>\n",
       "      <td>32176.2830</td>\n",
       "    </tr>\n",
       "    <tr>\n",
       "      <th>...</th>\n",
       "      <td>...</td>\n",
       "      <td>...</td>\n",
       "      <td>...</td>\n",
       "    </tr>\n",
       "    <tr>\n",
       "      <th>830</th>\n",
       "      <td>24</td>\n",
       "      <td>126</td>\n",
       "      <td>28588.1118</td>\n",
       "    </tr>\n",
       "    <tr>\n",
       "      <th>610</th>\n",
       "      <td>23</td>\n",
       "      <td>107</td>\n",
       "      <td>28438.1679</td>\n",
       "    </tr>\n",
       "    <tr>\n",
       "      <th>402</th>\n",
       "      <td>22</td>\n",
       "      <td>100</td>\n",
       "      <td>28288.2000</td>\n",
       "    </tr>\n",
       "    <tr>\n",
       "      <th>201</th>\n",
       "      <td>21</td>\n",
       "      <td>100</td>\n",
       "      <td>28138.2000</td>\n",
       "    </tr>\n",
       "    <tr>\n",
       "      <th>0</th>\n",
       "      <td>20</td>\n",
       "      <td>100</td>\n",
       "      <td>27988.2000</td>\n",
       "    </tr>\n",
       "  </tbody>\n",
       "</table>\n",
       "<p>61 rows × 3 columns</p>\n",
       "</div>"
      ],
      "text/plain": [
       "      Alpha  Refunded Tickets  Expected Revenue\n",
       "7297     56               161        32201.7545\n",
       "7501     57               164        32200.7472\n",
       "7096     55               161        32195.0507\n",
       "7704     58               166        32189.6072\n",
       "6899     54               165        32176.2830\n",
       "...     ...               ...               ...\n",
       "830      24               126        28588.1118\n",
       "610      23               107        28438.1679\n",
       "402      22               100        28288.2000\n",
       "201      21               100        28138.2000\n",
       "0        20               100        27988.2000\n",
       "\n",
       "[61 rows x 3 columns]"
      ]
     },
     "execution_count": 12,
     "metadata": {},
     "output_type": "execute_result"
    },
    {
     "data": {
      "application/javascript": "\n            setTimeout(function() {\n                var nbb_cell_id = 12;\n                var nbb_unformatted_code = \"df_profit_2_max.sort_values(by=\\\"Expected Revenue\\\", ascending=False)\";\n                var nbb_formatted_code = \"df_profit_2_max.sort_values(by=\\\"Expected Revenue\\\", ascending=False)\";\n                var nbb_cells = Jupyter.notebook.get_cells();\n                for (var i = 0; i < nbb_cells.length; ++i) {\n                    if (nbb_cells[i].input_prompt_number == nbb_cell_id) {\n                        if (nbb_cells[i].get_text() == nbb_unformatted_code) {\n                             nbb_cells[i].set_text(nbb_formatted_code);\n                        }\n                        break;\n                    }\n                }\n            }, 500);\n            ",
      "text/plain": [
       "<IPython.core.display.Javascript object>"
      ]
     },
     "metadata": {},
     "output_type": "display_data"
    }
   ],
   "source": [
    "df_profit_2_max.sort_values(by=\"Expected Revenue\", ascending=False)"
   ]
  },
  {
   "cell_type": "code",
   "execution_count": 13,
   "metadata": {},
   "outputs": [
    {
     "data": {
      "application/javascript": "\n            setTimeout(function() {\n                var nbb_cell_id = 13;\n                var nbb_unformatted_code = \"tmp = pd.merge(\\n    left=df_profit,\\n    right=df_profit_2_max,\\n    left_on=\\\"Alpha\\\",\\n    right_on=\\\"Alpha\\\",\\n    how=\\\"inner\\\",\\n)\\ntmp[\\\"callable_products_scheme_value\\\"] = (\\n    tmp[\\\"Expected Revenue_y\\\"] - tmp[\\\"Expected Revenue_x\\\"]\\n)\";\n                var nbb_formatted_code = \"tmp = pd.merge(\\n    left=df_profit,\\n    right=df_profit_2_max,\\n    left_on=\\\"Alpha\\\",\\n    right_on=\\\"Alpha\\\",\\n    how=\\\"inner\\\",\\n)\\ntmp[\\\"callable_products_scheme_value\\\"] = (\\n    tmp[\\\"Expected Revenue_y\\\"] - tmp[\\\"Expected Revenue_x\\\"]\\n)\";\n                var nbb_cells = Jupyter.notebook.get_cells();\n                for (var i = 0; i < nbb_cells.length; ++i) {\n                    if (nbb_cells[i].input_prompt_number == nbb_cell_id) {\n                        if (nbb_cells[i].get_text() == nbb_unformatted_code) {\n                             nbb_cells[i].set_text(nbb_formatted_code);\n                        }\n                        break;\n                    }\n                }\n            }, 500);\n            ",
      "text/plain": [
       "<IPython.core.display.Javascript object>"
      ]
     },
     "metadata": {},
     "output_type": "display_data"
    }
   ],
   "source": [
    "tmp = pd.merge(\n",
    "    left=df_profit,\n",
    "    right=df_profit_2_max,\n",
    "    left_on=\"Alpha\",\n",
    "    right_on=\"Alpha\",\n",
    "    how=\"inner\",\n",
    ")\n",
    "tmp[\"callable_products_scheme_value\"] = (\n",
    "    tmp[\"Expected Revenue_y\"] - tmp[\"Expected Revenue_x\"]\n",
    ")"
   ]
  },
  {
   "cell_type": "code",
   "execution_count": 14,
   "metadata": {},
   "outputs": [
    {
     "data": {
      "text/plain": [
       "135590.92930000002"
      ]
     },
     "execution_count": 14,
     "metadata": {},
     "output_type": "execute_result"
    },
    {
     "data": {
      "application/javascript": "\n            setTimeout(function() {\n                var nbb_cell_id = 14;\n                var nbb_unformatted_code = \"tmp.callable_products_scheme_value.sum()\";\n                var nbb_formatted_code = \"tmp.callable_products_scheme_value.sum()\";\n                var nbb_cells = Jupyter.notebook.get_cells();\n                for (var i = 0; i < nbb_cells.length; ++i) {\n                    if (nbb_cells[i].input_prompt_number == nbb_cell_id) {\n                        if (nbb_cells[i].get_text() == nbb_unformatted_code) {\n                             nbb_cells[i].set_text(nbb_formatted_code);\n                        }\n                        break;\n                    }\n                }\n            }, 500);\n            ",
      "text/plain": [
       "<IPython.core.display.Javascript object>"
      ]
     },
     "metadata": {},
     "output_type": "display_data"
    }
   ],
   "source": [
    "tmp.callable_products_scheme_value.sum()"
   ]
  },
  {
   "cell_type": "code",
   "execution_count": 15,
   "metadata": {},
   "outputs": [
    {
     "data": {
      "image/png": "[encoded data removed]",
      "text/plain": [
       "<Figure size 1080x540 with 2 Axes>"
      ]
     },
     "metadata": {},
     "output_type": "display_data"
    },
    {
     "data": {
      "application/javascript": "\n            setTimeout(function() {\n                var nbb_cell_id = 15;\n                var nbb_unformatted_code = \"fig, ax = plt.subplots(figsize=(15, 7.5))\\nsns.set_theme()\\nax2 = ax.twinx()\\nax.plot(df_profit[\\\"Alpha\\\"], df_profit[\\\"Expected Revenue\\\"], label=\\\"Old Revenues\\\", c=\\\"r\\\")\\nax.plot(\\n    df_profit_2_max[\\\"Alpha\\\"], df_profit_2_max[\\\"Expected Revenue\\\"], label=\\\"New Revenues\\\"\\n)\\n\\nax2.bar(\\n    tmp[\\\"Alpha\\\"],\\n    tmp[\\\"callable_products_scheme_value\\\"],\\n    label=\\\"Value of Scheme\\\",\\n    alpha=0.3,\\n)\\n\\n# ax2.bar(\\n#     x=df_profit_2_max[\\\"Alpha\\\"], height=df_profit_2_max[\\\"Refunded Tickets\\\"], alpha=0.3\\n# )\\n\\nax2.set_yticks(\\n    np.linspace(ax2.get_yticks()[0], ax2.get_yticks()[-1], len(ax.get_yticks()))\\n)\\nax2.grid(False)\\nplt.title(\\\"Expected Revenue By Booking Limit\\\")\\nax.set_xlabel(\\\"Booking Limit\\\")\\nax.set_ylabel(\\\"Expected Profit\\\")\\nax2.set_ylabel(\\\"Net Revenue of New minus Old Scheme\\\")\\nax.legend()\\nplt.show()\";\n                var nbb_formatted_code = \"fig, ax = plt.subplots(figsize=(15, 7.5))\\nsns.set_theme()\\nax2 = ax.twinx()\\nax.plot(df_profit[\\\"Alpha\\\"], df_profit[\\\"Expected Revenue\\\"], label=\\\"Old Revenues\\\", c=\\\"r\\\")\\nax.plot(\\n    df_profit_2_max[\\\"Alpha\\\"], df_profit_2_max[\\\"Expected Revenue\\\"], label=\\\"New Revenues\\\"\\n)\\n\\nax2.bar(\\n    tmp[\\\"Alpha\\\"],\\n    tmp[\\\"callable_products_scheme_value\\\"],\\n    label=\\\"Value of Scheme\\\",\\n    alpha=0.3,\\n)\\n\\n# ax2.bar(\\n#     x=df_profit_2_max[\\\"Alpha\\\"], height=df_profit_2_max[\\\"Refunded Tickets\\\"], alpha=0.3\\n# )\\n\\nax2.set_yticks(\\n    np.linspace(ax2.get_yticks()[0], ax2.get_yticks()[-1], len(ax.get_yticks()))\\n)\\nax2.grid(False)\\nplt.title(\\\"Expected Revenue By Booking Limit\\\")\\nax.set_xlabel(\\\"Booking Limit\\\")\\nax.set_ylabel(\\\"Expected Profit\\\")\\nax2.set_ylabel(\\\"Net Revenue of New minus Old Scheme\\\")\\nax.legend()\\nplt.show()\";\n                var nbb_cells = Jupyter.notebook.get_cells();\n                for (var i = 0; i < nbb_cells.length; ++i) {\n                    if (nbb_cells[i].input_prompt_number == nbb_cell_id) {\n                        if (nbb_cells[i].get_text() == nbb_unformatted_code) {\n                             nbb_cells[i].set_text(nbb_formatted_code);\n                        }\n                        break;\n                    }\n                }\n            }, 500);\n            ",
      "text/plain": [
       "<IPython.core.display.Javascript object>"
      ]
     },
     "metadata": {},
     "output_type": "display_data"
    }
   ],
   "source": [
    "fig, ax = plt.subplots(figsize=(15, 7.5))\n",
    "sns.set_theme()\n",
    "ax2 = ax.twinx()\n",
    "ax.plot(df_profit[\"Alpha\"], df_profit[\"Expected Revenue\"], label=\"Old Revenues\", c=\"r\")\n",
    "ax.plot(\n",
    "    df_profit_2_max[\"Alpha\"], df_profit_2_max[\"Expected Revenue\"], label=\"New Revenues\"\n",
    ")\n",
    "\n",
    "ax2.bar(\n",
    "    tmp[\"Alpha\"],\n",
    "    tmp[\"callable_products_scheme_value\"],\n",
    "    label=\"Value of Scheme\",\n",
    "    alpha=0.3,\n",
    ")\n",
    "\n",
    "# ax2.bar(\n",
    "#     x=df_profit_2_max[\"Alpha\"], height=df_profit_2_max[\"Refunded Tickets\"], alpha=0.3\n",
    "# )\n",
    "\n",
    "ax2.set_yticks(\n",
    "    np.linspace(ax2.get_yticks()[0], ax2.get_yticks()[-1], len(ax.get_yticks()))\n",
    ")\n",
    "ax2.grid(False)\n",
    "plt.title(\"Expected Revenue By Booking Limit\")\n",
    "ax.set_xlabel(\"Booking Limit\")\n",
    "ax.set_ylabel(\"Expected Profit\")\n",
    "ax2.set_ylabel(\"Net Revenue of New minus Old Scheme\")\n",
    "ax.legend()\n",
    "plt.show()"
   ]
  },
  {
   "cell_type": "markdown",
   "metadata": {},
   "source": [
    "## q3 A"
   ]
  },
  {
   "cell_type": "code",
   "execution_count": 16,
   "metadata": {},
   "outputs": [
    {
     "name": "stdout",
     "output_type": "stream",
     "text": [
      "Gurobi Optimizer version 10.0.0 build v10.0.0rc2 (linux64)\n",
      "\n",
      "CPU model: 11th Gen Intel(R) Core(TM) i7-1165G7 @ 2.80GHz, instruction set [SSE2|AVX|AVX2|AVX512]\n",
      "Thread count: 4 physical cores, 8 logical processors, using up to 8 threads\n",
      "\n",
      "Optimize a model with 42 rows, 50 columns and 102 nonzeros\n",
      "Model fingerprint: 0x8ad7c937\n",
      "Variable types: 0 continuous, 50 integer (0 binary)\n",
      "Coefficient statistics:\n",
      "  Matrix range     [1e+00, 1e+00]\n",
      "  Objective range  [2e-01, 1e+01]\n",
      "  Bounds range     [0e+00, 0e+00]\n",
      "  RHS range        [1e+03, 8e+03]\n",
      "Found heuristic solution: objective -0.0000000\n",
      "Presolve removed 24 rows and 12 columns\n",
      "Presolve time: 0.00s\n",
      "Presolved: 18 rows, 38 columns, 66 nonzeros\n",
      "Variable types: 0 continuous, 38 integer (0 binary)\n",
      "\n",
      "Root relaxation: objective 1.049990e+05, 15 iterations, 0.00 seconds (0.00 work units)\n",
      "\n",
      "    Nodes    |    Current Node    |     Objective Bounds      |     Work\n",
      " Expl Unexpl |  Obj  Depth IntInf | Incumbent    BestBd   Gap | It/Node Time\n",
      "\n",
      "*    0     0               0    104999.00000 104999.000  0.00%     -    0s\n",
      "\n",
      "Explored 1 nodes (15 simplex iterations) in 0.01 seconds (0.00 work units)\n",
      "Thread count was 8 (of 8 available processors)\n",
      "\n",
      "Solution count 2: 104999 -0 \n",
      "\n",
      "Optimal solution found (tolerance 1.00e-04)\n",
      "Best objective 1.049990000000e+05, best bound 1.049990000000e+05, gap 0.0000%\n",
      "Optimal Value: 104999.0\n",
      "\n",
      "    Variable            X \n",
      "-------------------------\n",
      "Product_input[W_A]         6700 \n",
      "Product_input[W_B]        10000 \n",
      "Transport[W_A,1,A]         5000 \n",
      "Transport[W_A,1,B]         3000 \n",
      "Transport[W_A,1,C]         4200 \n",
      "Transport[W_A,2,A]          800 \n",
      "Transport[W_A,4,A]          900 \n",
      "Transport[W_A,4,C]         2500 \n",
      "Transport[W_B,2,A]         2200 \n",
      "Transport[W_B,2,B]         1000 \n",
      "Transport[W_B,2,C]         4100 \n",
      "Transport[W_B,3,A]         7800 \n",
      "Transport[W_B,3,B]         6000 \n",
      "Transport[W_B,3,C]         3000 \n",
      "Transport[W_B,4,B]         3000 \n",
      "Transport[W_B,4,C]         2900 \n",
      "Inventory[1,A]         5000 \n",
      "Inventory[1,B]         3000 \n",
      "Inventory[1,C]         4200 \n",
      "Inventory[2,A]         3000 \n",
      "Inventory[2,B]         1000 \n",
      "Inventory[2,C]         4100 \n",
      "Inventory[3,A]         7800 \n",
      "Inventory[3,B]         6000 \n",
      "Inventory[3,C]         3000 \n",
      "Inventory[4,A]          900 \n",
      "Inventory[4,B]         3000 \n",
      "Inventory[4,C]         5400 \n",
      "   Sold[1,A]         5000 \n",
      "   Sold[1,B]         3000 \n",
      "   Sold[1,C]         4200 \n",
      "   Sold[2,A]         3000 \n",
      "   Sold[2,B]         1000 \n",
      "   Sold[2,C]         4100 \n",
      "   Sold[3,A]         7800 \n",
      "   Sold[3,B]         6000 \n",
      "   Sold[3,C]         3000 \n",
      "   Sold[4,A]          900 \n",
      "   Sold[4,B]         3000 \n",
      "   Sold[4,C]         5400 \n"
     ]
    },
    {
     "data": {
      "application/javascript": "\n            setTimeout(function() {\n                var nbb_cell_id = 16;\n                var nbb_unformatted_code = \"Scenario = [\\\"A\\\", \\\"B\\\", \\\"C\\\"]\\ndistros = (1, 2, 3, 4)\\nWarehouse = (\\\"W_A\\\", \\\"W_B\\\")\\n\\nprob_scenario = {\\\"A\\\": 0.3, \\\"B\\\": 0.2, \\\"C\\\": 0.5}\\nwarehouse_pf = {\\\"W_A\\\": 1, \\\"W_B\\\": 1.5}\\n\\n\\nDemand = {\\n    (\\\"A\\\", 1): 5,\\n    (\\\"A\\\", 2): 3,\\n    (\\\"A\\\", 3): 7.8,\\n    (\\\"A\\\", 4): 4,\\n    (\\\"B\\\", 1): 3,\\n    (\\\"B\\\", 2): 1,\\n    (\\\"B\\\", 3): 6,\\n    (\\\"B\\\", 4): 3,\\n    (\\\"C\\\", 1): 4.2,\\n    (\\\"C\\\", 2): 4.1,\\n    (\\\"C\\\", 3): 3,\\n    (\\\"C\\\", 4): 5.4,\\n}\\nTransportation_Costs = {\\n    (\\\"W_A\\\", 1): 1.5,\\n    (\\\"W_A\\\", 2): 2,\\n    (\\\"W_A\\\", 3): 2,\\n    (\\\"W_A\\\", 4): 3,\\n    (\\\"W_B\\\", 1): 2,\\n    (\\\"W_B\\\", 2): 1.2,\\n    (\\\"W_B\\\", 3): 1.1,\\n    (\\\"W_B\\\", 4): 2.5,\\n}\\n\\n\\nmodel = gp.Model()\\nmodel.ModelSense = gp.GRB.MAXIMIZE\\n\\n# Frist stage model definition\\nx = model.addVars(Warehouse, vtype=gp.GRB.INTEGER, name=\\\"Product_input\\\")\\n\\n# SecondStageModel Definition\\n# define the varaibles\\ndist_ware_scen = model.addVars(\\n    Warehouse, distros, Scenario, vtype=gp.GRB.INTEGER, name=\\\"Transport\\\"\\n)\\ninvd = model.addVars(distros, Scenario, vtype=gp.GRB.INTEGER, name=\\\"Inventory\\\")\\nsoldd = model.addVars(distros, Scenario, vtype=gp.GRB.INTEGER, name=\\\"Sold\\\")\\n\\n# set the obkjectvie for a sale price of 20 per distribution center and a 10 bucks cost per product\\nmodel.setObjective(\\n    gp.quicksum(\\n        20 * prob_scenario[scenario] * soldd[distro, scenario]\\n        for scenario in Scenario\\n        for distro in distros\\n    )\\n    # price times allocation costs from warehouse\\n    - gp.quicksum(\\n        x[warehouse] * (10 + warehouse_pf[warehouse]) for warehouse in Warehouse\\n    )\\n    # probability, distribuion, and from warehouse\\n    - gp.quicksum(\\n        dist_ware_scen[warehouse, distro, scenario]\\n        * Transportation_Costs[warehouse, distro]\\n        * prob_scenario[scenario]\\n        for scenario in Scenario\\n        for warehouse in Warehouse\\n        for distro in distros\\n    )\\n)\\n\\n# a distibution can only send what it receives\\nmodel.addConstrs(\\n    (\\n        invd[distro, scenario]\\n        == gp.quicksum(\\n            dist_ware_scen[warehouse, distro, scenario] for warehouse in Warehouse\\n        )\\n        for distro in distros\\n        for scenario in Scenario\\n    ),\\n    name=\\\"SendReceiveLimit\\\",\\n)\\n\\n# Any distibution centreer can only reveive as much as it reveicves from warehouse in give distribution\\nmodel.addConstrs(\\n    (\\n        gp.quicksum(dist_ware_scen[warehouse, distro, scenario] for distro in distros)\\n        <= x[warehouse]\\n        for warehouse in Warehouse\\n        for scenario in Scenario\\n    ),\\n    name=\\\"ReceiveConstrain\\\",\\n)\\n\\n# Distrobs can only sale based on a given demand based on a given scenario\\nmodel.addConstrs(\\n    (\\n        soldd[distro, scenario] <= Demand[scenario, distro] * 1000\\n        for distro in distros\\n        for scenario in Scenario\\n    ),\\n    name=\\\"SaleConstrain\\\",\\n)\\n# Distros can only sale what is in the inventory based on a given scenario\\nmodel.addConstrs(\\n    (\\n        soldd[distro, scenario] <= invd[distro, scenario]\\n        for distro in distros\\n        for scenario in Scenario\\n    ),\\n    name=\\\"SaleConstrain\\\",\\n)\\n\\nmodel.optimize()\\nprint(\\\"Optimal Value:\\\", model.Objval)\\nmodel.printAttr(\\\"X\\\")\";\n                var nbb_formatted_code = \"Scenario = [\\\"A\\\", \\\"B\\\", \\\"C\\\"]\\ndistros = (1, 2, 3, 4)\\nWarehouse = (\\\"W_A\\\", \\\"W_B\\\")\\n\\nprob_scenario = {\\\"A\\\": 0.3, \\\"B\\\": 0.2, \\\"C\\\": 0.5}\\nwarehouse_pf = {\\\"W_A\\\": 1, \\\"W_B\\\": 1.5}\\n\\n\\nDemand = {\\n    (\\\"A\\\", 1): 5,\\n    (\\\"A\\\", 2): 3,\\n    (\\\"A\\\", 3): 7.8,\\n    (\\\"A\\\", 4): 4,\\n    (\\\"B\\\", 1): 3,\\n    (\\\"B\\\", 2): 1,\\n    (\\\"B\\\", 3): 6,\\n    (\\\"B\\\", 4): 3,\\n    (\\\"C\\\", 1): 4.2,\\n    (\\\"C\\\", 2): 4.1,\\n    (\\\"C\\\", 3): 3,\\n    (\\\"C\\\", 4): 5.4,\\n}\\nTransportation_Costs = {\\n    (\\\"W_A\\\", 1): 1.5,\\n    (\\\"W_A\\\", 2): 2,\\n    (\\\"W_A\\\", 3): 2,\\n    (\\\"W_A\\\", 4): 3,\\n    (\\\"W_B\\\", 1): 2,\\n    (\\\"W_B\\\", 2): 1.2,\\n    (\\\"W_B\\\", 3): 1.1,\\n    (\\\"W_B\\\", 4): 2.5,\\n}\\n\\n\\nmodel = gp.Model()\\nmodel.ModelSense = gp.GRB.MAXIMIZE\\n\\n# Frist stage model definition\\nx = model.addVars(Warehouse, vtype=gp.GRB.INTEGER, name=\\\"Product_input\\\")\\n\\n# SecondStageModel Definition\\n# define the varaibles\\ndist_ware_scen = model.addVars(\\n    Warehouse, distros, Scenario, vtype=gp.GRB.INTEGER, name=\\\"Transport\\\"\\n)\\ninvd = model.addVars(distros, Scenario, vtype=gp.GRB.INTEGER, name=\\\"Inventory\\\")\\nsoldd = model.addVars(distros, Scenario, vtype=gp.GRB.INTEGER, name=\\\"Sold\\\")\\n\\n# set the obkjectvie for a sale price of 20 per distribution center and a 10 bucks cost per product\\nmodel.setObjective(\\n    gp.quicksum(\\n        20 * prob_scenario[scenario] * soldd[distro, scenario]\\n        for scenario in Scenario\\n        for distro in distros\\n    )\\n    # price times allocation costs from warehouse\\n    - gp.quicksum(\\n        x[warehouse] * (10 + warehouse_pf[warehouse]) for warehouse in Warehouse\\n    )\\n    # probability, distribuion, and from warehouse\\n    - gp.quicksum(\\n        dist_ware_scen[warehouse, distro, scenario]\\n        * Transportation_Costs[warehouse, distro]\\n        * prob_scenario[scenario]\\n        for scenario in Scenario\\n        for warehouse in Warehouse\\n        for distro in distros\\n    )\\n)\\n\\n# a distibution can only send what it receives\\nmodel.addConstrs(\\n    (\\n        invd[distro, scenario]\\n        == gp.quicksum(\\n            dist_ware_scen[warehouse, distro, scenario] for warehouse in Warehouse\\n        )\\n        for distro in distros\\n        for scenario in Scenario\\n    ),\\n    name=\\\"SendReceiveLimit\\\",\\n)\\n\\n# Any distibution centreer can only reveive as much as it reveicves from warehouse in give distribution\\nmodel.addConstrs(\\n    (\\n        gp.quicksum(dist_ware_scen[warehouse, distro, scenario] for distro in distros)\\n        <= x[warehouse]\\n        for warehouse in Warehouse\\n        for scenario in Scenario\\n    ),\\n    name=\\\"ReceiveConstrain\\\",\\n)\\n\\n# Distrobs can only sale based on a given demand based on a given scenario\\nmodel.addConstrs(\\n    (\\n        soldd[distro, scenario] <= Demand[scenario, distro] * 1000\\n        for distro in distros\\n        for scenario in Scenario\\n    ),\\n    name=\\\"SaleConstrain\\\",\\n)\\n# Distros can only sale what is in the inventory based on a given scenario\\nmodel.addConstrs(\\n    (\\n        soldd[distro, scenario] <= invd[distro, scenario]\\n        for distro in distros\\n        for scenario in Scenario\\n    ),\\n    name=\\\"SaleConstrain\\\",\\n)\\n\\nmodel.optimize()\\nprint(\\\"Optimal Value:\\\", model.Objval)\\nmodel.printAttr(\\\"X\\\")\";\n                var nbb_cells = Jupyter.notebook.get_cells();\n                for (var i = 0; i < nbb_cells.length; ++i) {\n                    if (nbb_cells[i].input_prompt_number == nbb_cell_id) {\n                        if (nbb_cells[i].get_text() == nbb_unformatted_code) {\n                             nbb_cells[i].set_text(nbb_formatted_code);\n                        }\n                        break;\n                    }\n                }\n            }, 500);\n            ",
      "text/plain": [
       "<IPython.core.display.Javascript object>"
      ]
     },
     "metadata": {},
     "output_type": "display_data"
    }
   ],
   "source": [
    "Scenario = [\"A\", \"B\", \"C\"]\n",
    "distros = (1, 2, 3, 4)\n",
    "Warehouse = (\"W_A\", \"W_B\")\n",
    "\n",
    "prob_scenario = {\"A\": 0.3, \"B\": 0.2, \"C\": 0.5}\n",
    "warehouse_pf = {\"W_A\": 1, \"W_B\": 1.5}\n",
    "\n",
    "\n",
    "Demand = {\n",
    "    (\"A\", 1): 5,\n",
    "    (\"A\", 2): 3,\n",
    "    (\"A\", 3): 7.8,\n",
    "    (\"A\", 4): 4,\n",
    "    (\"B\", 1): 3,\n",
    "    (\"B\", 2): 1,\n",
    "    (\"B\", 3): 6,\n",
    "    (\"B\", 4): 3,\n",
    "    (\"C\", 1): 4.2,\n",
    "    (\"C\", 2): 4.1,\n",
    "    (\"C\", 3): 3,\n",
    "    (\"C\", 4): 5.4,\n",
    "}\n",
    "Transportation_Costs = {\n",
    "    (\"W_A\", 1): 1.5,\n",
    "    (\"W_A\", 2): 2,\n",
    "    (\"W_A\", 3): 2,\n",
    "    (\"W_A\", 4): 3,\n",
    "    (\"W_B\", 1): 2,\n",
    "    (\"W_B\", 2): 1.2,\n",
    "    (\"W_B\", 3): 1.1,\n",
    "    (\"W_B\", 4): 2.5,\n",
    "}\n",
    "\n",
    "\n",
    "model = gp.Model()\n",
    "model.ModelSense = gp.GRB.MAXIMIZE\n",
    "\n",
    "# Frist stage model definition\n",
    "x = model.addVars(Warehouse, vtype=gp.GRB.INTEGER, name=\"Product_input\")\n",
    "\n",
    "# SecondStageModel Definition\n",
    "# define the varaibles\n",
    "dist_ware_scen = model.addVars(\n",
    "    Warehouse, distros, Scenario, vtype=gp.GRB.INTEGER, name=\"Transport\"\n",
    ")\n",
    "invd = model.addVars(distros, Scenario, vtype=gp.GRB.INTEGER, name=\"Inventory\")\n",
    "soldd = model.addVars(distros, Scenario, vtype=gp.GRB.INTEGER, name=\"Sold\")\n",
    "\n",
    "# set the obkjectvie for a sale price of 20 per distribution center and a 10 bucks cost per product\n",
    "model.setObjective(\n",
    "    gp.quicksum(\n",
    "        20 * prob_scenario[scenario] * soldd[distro, scenario]\n",
    "        for scenario in Scenario\n",
    "        for distro in distros\n",
    "    )\n",
    "    # price times allocation costs from warehouse\n",
    "    - gp.quicksum(\n",
    "        x[warehouse] * (10 + warehouse_pf[warehouse]) for warehouse in Warehouse\n",
    "    )\n",
    "    # probability, distribuion, and from warehouse\n",
    "    - gp.quicksum(\n",
    "        dist_ware_scen[warehouse, distro, scenario]\n",
    "        * Transportation_Costs[warehouse, distro]\n",
    "        * prob_scenario[scenario]\n",
    "        for scenario in Scenario\n",
    "        for warehouse in Warehouse\n",
    "        for distro in distros\n",
    "    )\n",
    ")\n",
    "\n",
    "# a distibution can only send what it receives\n",
    "model.addConstrs(\n",
    "    (\n",
    "        invd[distro, scenario]\n",
    "        == gp.quicksum(\n",
    "            dist_ware_scen[warehouse, distro, scenario] for warehouse in Warehouse\n",
    "        )\n",
    "        for distro in distros\n",
    "        for scenario in Scenario\n",
    "    ),\n",
    "    name=\"SendReceiveLimit\",\n",
    ")\n",
    "\n",
    "# Any distibution centreer can only reveive as much as it reveicves from warehouse in give distribution\n",
    "model.addConstrs(\n",
    "    (\n",
    "        gp.quicksum(dist_ware_scen[warehouse, distro, scenario] for distro in distros)\n",
    "        <= x[warehouse]\n",
    "        for warehouse in Warehouse\n",
    "        for scenario in Scenario\n",
    "    ),\n",
    "    name=\"ReceiveConstrain\",\n",
    ")\n",
    "\n",
    "# Distrobs can only sale based on a given demand based on a given scenario\n",
    "model.addConstrs(\n",
    "    (\n",
    "        soldd[distro, scenario] <= Demand[scenario, distro] * 1000\n",
    "        for distro in distros\n",
    "        for scenario in Scenario\n",
    "    ),\n",
    "    name=\"SaleConstrain\",\n",
    ")\n",
    "# Distros can only sale what is in the inventory based on a given scenario\n",
    "model.addConstrs(\n",
    "    (\n",
    "        soldd[distro, scenario] <= invd[distro, scenario]\n",
    "        for distro in distros\n",
    "        for scenario in Scenario\n",
    "    ),\n",
    "    name=\"SaleConstrain\",\n",
    ")\n",
    "\n",
    "model.optimize()\n",
    "print(\"Optimal Value:\", model.Objval)\n",
    "model.printAttr(\"X\")"
   ]
  },
  {
   "attachments": {},
   "cell_type": "markdown",
   "metadata": {},
   "source": [
    "## q3 b\n",
    "\n",
    "#### B1 & B2"
   ]
  },
  {
   "cell_type": "code",
   "execution_count": 17,
   "metadata": {},
   "outputs": [
    {
     "name": "stdout",
     "output_type": "stream",
     "text": [
      "Gurobi Optimizer version 10.0.0 build v10.0.0rc2 (linux64)\n",
      "\n",
      "CPU model: 11th Gen Intel(R) Core(TM) i7-1165G7 @ 2.80GHz, instruction set [SSE2|AVX|AVX2|AVX512]\n",
      "Thread count: 4 physical cores, 8 logical processors, using up to 8 threads\n",
      "\n",
      "Optimize a model with 12300 rows, 102546 columns and 110700 nonzeros\n",
      "Model fingerprint: 0x85109608\n",
      "Model has 2300 quadratic constraints\n",
      "Variable types: 0 continuous, 102546 integer (23 binary)\n",
      "Coefficient statistics:\n",
      "  Matrix range     [1e+00, 1e+00]\n",
      "  QMatrix range    [1e+00, 1e+00]\n",
      "  QLMatrix range   [1e+00, 1e+00]\n",
      "  Objective range  [9e-03, 1e+05]\n",
      "  Bounds range     [1e+00, 1e+00]\n",
      "  RHS range        [7e+02, 4e+04]\n",
      "Found heuristic solution: objective -0.0000000\n",
      "Presolve removed 5900 rows and 4077 columns\n",
      "Presolve time: 0.32s\n",
      "Presolved: 6469 rows, 98538 columns, 195161 nonzeros\n",
      "Presolved model has 46 SOS constraint(s)\n",
      "Variable types: 0 continuous, 98538 integer (46 binary)\n",
      "Deterministic concurrent LP optimizer: primal and dual simplex\n",
      "Showing first log only...\n",
      "\n",
      "Concurrent spin time: 0.01s\n",
      "\n",
      "Solved with dual simplex\n",
      "\n",
      "Root relaxation: objective 5.332108e+06, 0 iterations, 0.16 seconds (0.10 work units)\n",
      "\n",
      "    Nodes    |    Current Node    |     Objective Bounds      |     Work\n",
      " Expl Unexpl |  Obj  Depth IntInf | Incumbent    BestBd   Gap | It/Node Time\n",
      "\n",
      "     0     0 5332108.32    0   23   -0.00000 5332108.32      -     -    0s\n",
      "     0     0 2303772.34    0   17   -0.00000 2303772.34      -     -    2s\n",
      "H    0     0                    701321.96700 2303772.34   228%     -    2s\n",
      "H    0     0                    2071035.6210 2303772.34  11.2%     -    2s\n",
      "     0     0 2303772.34    0   17 2071035.62 2303772.34  11.2%     -    2s\n",
      "H    0     0                    2088036.1880 2303772.34  10.3%     -    4s\n",
      "     0     2 2203772.34    0   17 2088036.19 2203772.34  5.54%     -    4s\n",
      "     3     6     cutoff    2      2088036.19 2203772.34  5.54%   561    5s\n",
      "*   20     8               5    2114864.2090 2203772.34  4.20%   973    6s\n",
      "*   27     5               5    2124910.4550 2203772.34  3.71%  1052    6s\n",
      "\n",
      "Explored 43 nodes (67883 simplex iterations) in 7.96 seconds (5.86 work units)\n",
      "Thread count was 8 (of 8 available processors)\n",
      "\n",
      "Solution count 6: 2.12491e+06 2.11486e+06 2.08804e+06 ... -0\n",
      "\n",
      "Optimal solution found (tolerance 1.00e-04)\n",
      "Best objective 2.124910455000e+06, best bound 2.124910455000e+06, gap 0.0000%\n",
      "Optimal Value: 2124910.4550000015\n"
     ]
    },
    {
     "data": {
      "application/javascript": "\n            setTimeout(function() {\n                var nbb_cell_id = 17;\n                var nbb_unformatted_code = \"TransportationCosts = pd.read_csv(\\n    \\\"/home/angelo/Documents/Uni/Courses/Management Science/MM_Code_repo/data/TranportationCosts.csv\\\",\\n    encoding=\\\"latin-1\\\",\\n)\\nDemand = pd.read_csv(\\n    \\\"/home/angelo/Documents/Uni/Courses/Management Science/MM_Code_repo/data/demand.csv\\\",\\n    encoding=\\\"latin-1\\\",\\n)\\n\\nScenario = Demand.columns[1:].to_list()\\nScenario_Probabilities = dict(zip(Scenario, [1 / 100] * 100))\\n\\n\\nDistro = Demand.loc[:, \\\"DistributionCenter\\\"].to_list()\\nWarehouse = TransportationCosts.loc[:, \\\"Warehouse\\\"].to_list()\\n\\ndemand = {}\\nfor distro in range(0, len(Demand)):\\n    for scene in range(1, len(Demand.columns)):\\n        demand[(Distro[distro], Scenario[scene - 1])] = Demand.loc[\\n            distro, Scenario[scene - 1]\\n        ]\\n\\nTrasnportation_Costs = {}\\nfor warehouse in range(0, len(TransportationCosts)):\\n    for distro in range(2, len(TransportationCosts.columns)):\\n        Trasnportation_Costs[\\n            (Warehouse[warehouse], Distro[distro - 2])\\n        ] = TransportationCosts.loc[warehouse, Distro[distro - 2]]\\n\\nTransport_Warehouse = {}\\nfor warehouse in range(0, len(TransportationCosts)):\\n    Transport_Warehouse[Warehouse[warehouse]] = TransportationCosts.loc[\\n        warehouse, \\\"PFacility\\\"\\n    ]\\n\\n\\nmodel = gp.Model()\\nmodel.ModelSense = gp.GRB.MAXIMIZE\\n\\n# first stage\\nWareHProd_mod = model.addVars(Warehouse, vtype=gp.GRB.INTEGER, name=\\\"Production\\\")\\nWareHInv_mod = model.addVars(Warehouse, vtype=gp.GRB.BINARY, name=\\\"Investment\\\")\\n\\n# second stage\\ndist_ware_scen = model.addVars(\\n    Warehouse, Distro, Scenario, vtype=gp.GRB.INTEGER, name=\\\"Transportation\\\"\\n)\\n\\nInventory_Distr = model.addVars(\\n    Distro, Scenario, vtype=gp.GRB.INTEGER, name=\\\"Inventory\\\"\\n)\\n\\nsoldd = model.addVars(Distro, Scenario, vtype=gp.GRB.INTEGER, name=\\\"Sold\\\")\\n\\n\\nmodel.setObjective(\\n    gp.quicksum(\\n        20 * Scenario_Probabilities[scene] * soldd[distro, scene]\\n        for distro in Distro\\n        for scene in Scenario\\n    )\\n    - gp.quicksum(\\n        WareHProd_mod[warehouse] * (10 + Transport_Warehouse[warehouse])\\n        for warehouse in Warehouse\\n    )\\n    - gp.quicksum(WareHInv_mod[warehouse] * 100000 for warehouse in Warehouse)\\n    - gp.quicksum(\\n        dist_ware_scen[warehouse, distro, scene]\\n        * Trasnportation_Costs[warehouse, distro]\\n        * Scenario_Probabilities[scene]\\n        for distro in Distro\\n        for scene in Scenario\\n        for warehouse in Warehouse\\n    )\\n)\\n\\n# binary condition if they are turned on they can send\\nmodel.addConstrs(\\n    (\\n        gp.quicksum(dist_ware_scen[warehouse, distro, scene] for distro in Distro)\\n        <= WareHProd_mod[warehouse] * WareHInv_mod[warehouse]\\n        for scene in Scenario\\n        for warehouse in Warehouse\\n    ),\\n    name=\\\"SentProduction_Bin\\\",\\n)\\n\\n# inventory cannoth be greater than what you send there\\nmodel.addConstrs(\\n    (\\n        Inventory_Distr[distro, scene]\\n        == gp.quicksum(\\n            dist_ware_scen[warehouse, distro, scene] for warehouse in Warehouse\\n        )\\n        for scene in Scenario\\n        for distro in Distro\\n    ),\\n    name=\\\"Distr_Receive_Sent_limit\\\",\\n)\\n\\n\\nmodel.addConstrs(\\n    (\\n        soldd[distro, scene] <= demand[distro, scene]\\n        for scene in Scenario\\n        for distro in Distro\\n    ),\\n    name=\\\"Warehouse_Received_Demand_Limit\\\",\\n)\\nmodel.addConstrs(\\n    (\\n        soldd[distro, scene] <= Inventory_Distr[distro, scene]\\n        for scene in Scenario\\n        for distro in Distro\\n    ),\\n    name=\\\"Warehouse_Received_Demand_Limit\\\",\\n)\\n\\n\\nmodel.optimize()\\nprint(\\\"Optimal Value:\\\", model.Objval)\\n\\n# model.printAttr(\\\"X\\\")\";\n                var nbb_formatted_code = \"TransportationCosts = pd.read_csv(\\n    \\\"/home/angelo/Documents/Uni/Courses/Management Science/MM_Code_repo/data/TranportationCosts.csv\\\",\\n    encoding=\\\"latin-1\\\",\\n)\\nDemand = pd.read_csv(\\n    \\\"/home/angelo/Documents/Uni/Courses/Management Science/MM_Code_repo/data/demand.csv\\\",\\n    encoding=\\\"latin-1\\\",\\n)\\n\\nScenario = Demand.columns[1:].to_list()\\nScenario_Probabilities = dict(zip(Scenario, [1 / 100] * 100))\\n\\n\\nDistro = Demand.loc[:, \\\"DistributionCenter\\\"].to_list()\\nWarehouse = TransportationCosts.loc[:, \\\"Warehouse\\\"].to_list()\\n\\ndemand = {}\\nfor distro in range(0, len(Demand)):\\n    for scene in range(1, len(Demand.columns)):\\n        demand[(Distro[distro], Scenario[scene - 1])] = Demand.loc[\\n            distro, Scenario[scene - 1]\\n        ]\\n\\nTrasnportation_Costs = {}\\nfor warehouse in range(0, len(TransportationCosts)):\\n    for distro in range(2, len(TransportationCosts.columns)):\\n        Trasnportation_Costs[\\n            (Warehouse[warehouse], Distro[distro - 2])\\n        ] = TransportationCosts.loc[warehouse, Distro[distro - 2]]\\n\\nTransport_Warehouse = {}\\nfor warehouse in range(0, len(TransportationCosts)):\\n    Transport_Warehouse[Warehouse[warehouse]] = TransportationCosts.loc[\\n        warehouse, \\\"PFacility\\\"\\n    ]\\n\\n\\nmodel = gp.Model()\\nmodel.ModelSense = gp.GRB.MAXIMIZE\\n\\n# first stage\\nWareHProd_mod = model.addVars(Warehouse, vtype=gp.GRB.INTEGER, name=\\\"Production\\\")\\nWareHInv_mod = model.addVars(Warehouse, vtype=gp.GRB.BINARY, name=\\\"Investment\\\")\\n\\n# second stage\\ndist_ware_scen = model.addVars(\\n    Warehouse, Distro, Scenario, vtype=gp.GRB.INTEGER, name=\\\"Transportation\\\"\\n)\\n\\nInventory_Distr = model.addVars(\\n    Distro, Scenario, vtype=gp.GRB.INTEGER, name=\\\"Inventory\\\"\\n)\\n\\nsoldd = model.addVars(Distro, Scenario, vtype=gp.GRB.INTEGER, name=\\\"Sold\\\")\\n\\n\\nmodel.setObjective(\\n    gp.quicksum(\\n        20 * Scenario_Probabilities[scene] * soldd[distro, scene]\\n        for distro in Distro\\n        for scene in Scenario\\n    )\\n    - gp.quicksum(\\n        WareHProd_mod[warehouse] * (10 + Transport_Warehouse[warehouse])\\n        for warehouse in Warehouse\\n    )\\n    - gp.quicksum(WareHInv_mod[warehouse] * 100000 for warehouse in Warehouse)\\n    - gp.quicksum(\\n        dist_ware_scen[warehouse, distro, scene]\\n        * Trasnportation_Costs[warehouse, distro]\\n        * Scenario_Probabilities[scene]\\n        for distro in Distro\\n        for scene in Scenario\\n        for warehouse in Warehouse\\n    )\\n)\\n\\n# binary condition if they are turned on they can send\\nmodel.addConstrs(\\n    (\\n        gp.quicksum(dist_ware_scen[warehouse, distro, scene] for distro in Distro)\\n        <= WareHProd_mod[warehouse] * WareHInv_mod[warehouse]\\n        for scene in Scenario\\n        for warehouse in Warehouse\\n    ),\\n    name=\\\"SentProduction_Bin\\\",\\n)\\n\\n# inventory cannoth be greater than what you send there\\nmodel.addConstrs(\\n    (\\n        Inventory_Distr[distro, scene]\\n        == gp.quicksum(\\n            dist_ware_scen[warehouse, distro, scene] for warehouse in Warehouse\\n        )\\n        for scene in Scenario\\n        for distro in Distro\\n    ),\\n    name=\\\"Distr_Receive_Sent_limit\\\",\\n)\\n\\n\\nmodel.addConstrs(\\n    (\\n        soldd[distro, scene] <= demand[distro, scene]\\n        for scene in Scenario\\n        for distro in Distro\\n    ),\\n    name=\\\"Warehouse_Received_Demand_Limit\\\",\\n)\\nmodel.addConstrs(\\n    (\\n        soldd[distro, scene] <= Inventory_Distr[distro, scene]\\n        for scene in Scenario\\n        for distro in Distro\\n    ),\\n    name=\\\"Warehouse_Received_Demand_Limit\\\",\\n)\\n\\n\\nmodel.optimize()\\nprint(\\\"Optimal Value:\\\", model.Objval)\\n\\n# model.printAttr(\\\"X\\\")\";\n                var nbb_cells = Jupyter.notebook.get_cells();\n                for (var i = 0; i < nbb_cells.length; ++i) {\n                    if (nbb_cells[i].input_prompt_number == nbb_cell_id) {\n                        if (nbb_cells[i].get_text() == nbb_unformatted_code) {\n                             nbb_cells[i].set_text(nbb_formatted_code);\n                        }\n                        break;\n                    }\n                }\n            }, 500);\n            ",
      "text/plain": [
       "<IPython.core.display.Javascript object>"
      ]
     },
     "metadata": {},
     "output_type": "display_data"
    }
   ],
   "source": [
    "TransportationCosts = pd.read_csv(\n",
    "    \"/home/angelo/Documents/Uni/Courses/Management Science/MM_Code_repo/data/TranportationCosts.csv\",\n",
    "    encoding=\"latin-1\",\n",
    ")\n",
    "Demand = pd.read_csv(\n",
    "    \"/home/angelo/Documents/Uni/Courses/Management Science/MM_Code_repo/data/demand.csv\",\n",
    "    encoding=\"latin-1\",\n",
    ")\n",
    "\n",
    "Scenario = Demand.columns[1:].to_list()\n",
    "Scenario_Probabilities = dict(zip(Scenario, [1 / 100] * 100))\n",
    "\n",
    "\n",
    "Distro = Demand.loc[:, \"DistributionCenter\"].to_list()\n",
    "Warehouse = TransportationCosts.loc[:, \"Warehouse\"].to_list()\n",
    "\n",
    "demand = {}\n",
    "for distro in range(0, len(Demand)):\n",
    "    for scene in range(1, len(Demand.columns)):\n",
    "        demand[(Distro[distro], Scenario[scene - 1])] = Demand.loc[\n",
    "            distro, Scenario[scene - 1]\n",
    "        ]\n",
    "\n",
    "Trasnportation_Costs = {}\n",
    "for warehouse in range(0, len(TransportationCosts)):\n",
    "    for distro in range(2, len(TransportationCosts.columns)):\n",
    "        Trasnportation_Costs[\n",
    "            (Warehouse[warehouse], Distro[distro - 2])\n",
    "        ] = TransportationCosts.loc[warehouse, Distro[distro - 2]]\n",
    "\n",
    "Transport_Warehouse = {}\n",
    "for warehouse in range(0, len(TransportationCosts)):\n",
    "    Transport_Warehouse[Warehouse[warehouse]] = TransportationCosts.loc[\n",
    "        warehouse, \"PFacility\"\n",
    "    ]\n",
    "\n",
    "\n",
    "model = gp.Model()\n",
    "model.ModelSense = gp.GRB.MAXIMIZE\n",
    "\n",
    "# first stage\n",
    "WareHProd_mod = model.addVars(Warehouse, vtype=gp.GRB.INTEGER, name=\"Production\")\n",
    "WareHInv_mod = model.addVars(Warehouse, vtype=gp.GRB.BINARY, name=\"Investment\")\n",
    "\n",
    "# second stage\n",
    "dist_ware_scen = model.addVars(\n",
    "    Warehouse, Distro, Scenario, vtype=gp.GRB.INTEGER, name=\"Transportation\"\n",
    ")\n",
    "\n",
    "Inventory_Distr = model.addVars(\n",
    "    Distro, Scenario, vtype=gp.GRB.INTEGER, name=\"Inventory\"\n",
    ")\n",
    "\n",
    "soldd = model.addVars(Distro, Scenario, vtype=gp.GRB.INTEGER, name=\"Sold\")\n",
    "\n",
    "\n",
    "model.setObjective(\n",
    "    gp.quicksum(\n",
    "        20 * Scenario_Probabilities[scene] * soldd[distro, scene]\n",
    "        for distro in Distro\n",
    "        for scene in Scenario\n",
    "    )\n",
    "    - gp.quicksum(\n",
    "        WareHProd_mod[warehouse] * (10 + Transport_Warehouse[warehouse])\n",
    "        for warehouse in Warehouse\n",
    "    )\n",
    "    - gp.quicksum(WareHInv_mod[warehouse] * 100000 for warehouse in Warehouse)\n",
    "    - gp.quicksum(\n",
    "        dist_ware_scen[warehouse, distro, scene]\n",
    "        * Trasnportation_Costs[warehouse, distro]\n",
    "        * Scenario_Probabilities[scene]\n",
    "        for distro in Distro\n",
    "        for scene in Scenario\n",
    "        for warehouse in Warehouse\n",
    "    )\n",
    ")\n",
    "\n",
    "# binary condition if they are turned on they can send\n",
    "model.addConstrs(\n",
    "    (\n",
    "        gp.quicksum(dist_ware_scen[warehouse, distro, scene] for distro in Distro)\n",
    "        <= WareHProd_mod[warehouse] * WareHInv_mod[warehouse]\n",
    "        for scene in Scenario\n",
    "        for warehouse in Warehouse\n",
    "    ),\n",
    "    name=\"SentProduction_Bin\",\n",
    ")\n",
    "\n",
    "# inventory cannoth be greater than what you send there\n",
    "model.addConstrs(\n",
    "    (\n",
    "        Inventory_Distr[distro, scene]\n",
    "        == gp.quicksum(\n",
    "            dist_ware_scen[warehouse, distro, scene] for warehouse in Warehouse\n",
    "        )\n",
    "        for scene in Scenario\n",
    "        for distro in Distro\n",
    "    ),\n",
    "    name=\"Distr_Receive_Sent_limit\",\n",
    ")\n",
    "\n",
    "\n",
    "model.addConstrs(\n",
    "    (\n",
    "        soldd[distro, scene] <= demand[distro, scene]\n",
    "        for scene in Scenario\n",
    "        for distro in Distro\n",
    "    ),\n",
    "    name=\"Warehouse_Received_Demand_Limit\",\n",
    ")\n",
    "model.addConstrs(\n",
    "    (\n",
    "        soldd[distro, scene] <= Inventory_Distr[distro, scene]\n",
    "        for scene in Scenario\n",
    "        for distro in Distro\n",
    "    ),\n",
    "    name=\"Warehouse_Received_Demand_Limit\",\n",
    ")\n",
    "\n",
    "\n",
    "model.optimize()\n",
    "print(\"Optimal Value:\", model.Objval)\n",
    "\n",
    "# model.printAttr(\"X\")"
   ]
  },
  {
   "cell_type": "code",
   "execution_count": 20,
   "metadata": {},
   "outputs": [
    {
     "data": {
      "application/javascript": "\n            setTimeout(function() {\n                var nbb_cell_id = 20;\n                var nbb_unformatted_code = \"results = []\\nfor k, v in WareHProd_mod.items():\\n    results.append([k, v.X])\\nw_WaretDis = pd.DataFrame(results, columns=[\\\"Warehouse\\\", \\\"WaretDis\\\"])\\n\\nresults = []\\nfor k, v in dist_ware_scen.items():\\n    results.append([k[0], k[1], k[2], v.X])\\nd_WaretDis = pd.DataFrame(\\n    results, columns=[\\\"Warehouse\\\", \\\"Distribution Center\\\", \\\"Scenario\\\", \\\"WaretDis\\\"]\\n)\\n\\ndcost = []\\nfor k, v in Transportation_Costs.items():\\n    dcost.append([k[0], k[1], v])\\ndcsot = pd.DataFrame(dcost, columns=[\\\"Warehouse\\\", \\\"Distribution Center\\\", \\\"cost\\\"])\\n\\n# extract sold units\\nresults = []\\nfor k, v in soldd.items():\\n    results.append([k[0], k[1], v.X])\\nsold = pd.DataFrame(results, columns=[\\\"Distribution Center\\\", \\\"Scenario\\\", \\\"Sold\\\"])\";\n                var nbb_formatted_code = \"results = []\\nfor k, v in WareHProd_mod.items():\\n    results.append([k, v.X])\\nw_WaretDis = pd.DataFrame(results, columns=[\\\"Warehouse\\\", \\\"WaretDis\\\"])\\n\\nresults = []\\nfor k, v in dist_ware_scen.items():\\n    results.append([k[0], k[1], k[2], v.X])\\nd_WaretDis = pd.DataFrame(\\n    results, columns=[\\\"Warehouse\\\", \\\"Distribution Center\\\", \\\"Scenario\\\", \\\"WaretDis\\\"]\\n)\\n\\ndcost = []\\nfor k, v in Transportation_Costs.items():\\n    dcost.append([k[0], k[1], v])\\ndcsot = pd.DataFrame(dcost, columns=[\\\"Warehouse\\\", \\\"Distribution Center\\\", \\\"cost\\\"])\\n\\n# extract sold units\\nresults = []\\nfor k, v in soldd.items():\\n    results.append([k[0], k[1], v.X])\\nsold = pd.DataFrame(results, columns=[\\\"Distribution Center\\\", \\\"Scenario\\\", \\\"Sold\\\"])\";\n                var nbb_cells = Jupyter.notebook.get_cells();\n                for (var i = 0; i < nbb_cells.length; ++i) {\n                    if (nbb_cells[i].input_prompt_number == nbb_cell_id) {\n                        if (nbb_cells[i].get_text() == nbb_unformatted_code) {\n                             nbb_cells[i].set_text(nbb_formatted_code);\n                        }\n                        break;\n                    }\n                }\n            }, 500);\n            ",
      "text/plain": [
       "<IPython.core.display.Javascript object>"
      ]
     },
     "metadata": {},
     "output_type": "display_data"
    }
   ],
   "source": [
    "results = []\n",
    "for k, v in WareHProd_mod.items():\n",
    "    results.append([k, v.X])\n",
    "w_WaretDis = pd.DataFrame(results, columns=[\"Warehouse\", \"WaretDis\"])\n",
    "\n",
    "results = []\n",
    "for k, v in dist_ware_scen.items():\n",
    "    results.append([k[0], k[1], k[2], v.X])\n",
    "d_WaretDis = pd.DataFrame(\n",
    "    results, columns=[\"Warehouse\", \"Distribution Center\", \"Scenario\", \"WaretDis\"]\n",
    ")\n",
    "\n",
    "dcost = []\n",
    "for k, v in Transportation_Costs.items():\n",
    "    dcost.append([k[0], k[1], v])\n",
    "dcsot = pd.DataFrame(dcost, columns=[\"Warehouse\", \"Distribution Center\", \"cost\"])\n",
    "\n",
    "# extract sold units\n",
    "results = []\n",
    "for k, v in soldd.items():\n",
    "    results.append([k[0], k[1], v.X])\n",
    "sold = pd.DataFrame(results, columns=[\"Distribution Center\", \"Scenario\", \"Sold\"])"
   ]
  },
  {
   "attachments": {},
   "cell_type": "markdown",
   "metadata": {},
   "source": [
    "## Q3\n",
    "\n",
    "#### B3"
   ]
  },
  {
   "cell_type": "code",
   "execution_count": 47,
   "metadata": {},
   "outputs": [
    {
     "name": "stdout",
     "output_type": "stream",
     "text": [
      "Gurobi Optimizer version 10.0.0 build v10.0.0rc2 (linux64)\n",
      "\n",
      "CPU model: 11th Gen Intel(R) Core(TM) i7-1165G7 @ 2.80GHz, instruction set [SSE2|AVX|AVX2|AVX512]\n",
      "Thread count: 4 physical cores, 8 logical processors, using up to 8 threads\n",
      "\n",
      "Optimize a model with 12400 rows, 102547 columns and 209200 nonzeros\n",
      "Model fingerprint: 0x3e002ad3\n",
      "Model has 2300 quadratic constraints\n",
      "Variable types: 0 continuous, 102547 integer (23 binary)\n",
      "Coefficient statistics:\n",
      "  Matrix range     [9e-01, 2e+01]\n",
      "  QMatrix range    [1e+00, 1e+00]\n",
      "  QLMatrix range   [1e+00, 1e+00]\n",
      "  Objective range  [1e+00, 1e+05]\n",
      "  Bounds range     [1e+00, 1e+00]\n",
      "  RHS range        [7e+02, 4e+04]\n",
      "Found heuristic solution: objective -0.0000000\n",
      "Presolve removed 5900 rows and 4077 columns\n",
      "Presolve time: 0.59s\n",
      "Presolved: 6569 rows, 98539 columns, 293661 nonzeros\n",
      "Presolved model has 46 SOS constraint(s)\n",
      "Variable types: 0 continuous, 98539 integer (46 binary)\n",
      "Deterministic concurrent LP optimizer: primal and dual simplex\n",
      "Showing first log only...\n",
      "\n",
      "Concurrent spin time: 0.00s\n",
      "\n",
      "Solved with dual simplex\n",
      "\n",
      "Root relaxation: objective 4.675932e+06, 4747 iterations, 0.22 seconds (0.14 work units)\n",
      "\n",
      "    Nodes    |    Current Node    |     Objective Bounds      |     Work\n",
      " Expl Unexpl |  Obj  Depth IntInf | Incumbent    BestBd   Gap | It/Node Time\n",
      "\n",
      "     0     0 4675932.10    0   34   -0.00000 4675932.10      -     -    1s\n",
      "     0     0 2102776.37    0 1360   -0.00000 2102776.37      -     -    4s\n",
      "H    0     0                    1771108.6750 2102776.37  18.7%     -    4s\n",
      "     0     0 2102776.37    0  994 1771108.67 2102776.37  18.7%     -    5s\n",
      "H    0     0                    1873725.8000 2102776.37  12.2%     -    7s\n",
      "     0     2 2002776.37    0  994 1873725.80 2002776.37  6.89%     -    8s\n",
      "     3     6     cutoff    2      1873725.80 2002776.37  6.89% 13826   10s\n",
      "     7     6 1998042.32    3  532 1873725.80 2002776.37  6.89%  9635   19s\n",
      "    11     8     cutoff    4      1873725.80 2002776.37  6.89% 16175   21s\n",
      "    19    10     cutoff    5      1873725.80 2002776.37  6.89% 15506   28s\n",
      "    23    11 1982811.67    5  371 1873725.80 2002776.37  6.89% 14267   32s\n",
      "    28    14     cutoff    6      1873725.80 2002776.37  6.89% 15279   35s\n",
      "    33    12 1974039.15    6 1177 1873725.80 2002776.37  6.89% 13808   42s\n",
      "    37    11 infeasible    7      1873725.80 2002776.37  6.89% 14968   45s\n",
      "    51    15     cutoff    9      1873725.80 2002776.37  6.89% 13952   51s\n",
      "H   52    15                    1901727.6250 2002776.37  5.31% 13684   51s\n",
      "H   66    10                    1926996.4500 2002776.37  3.93% 11538   54s\n",
      "    67     0     cutoff   11      1926996.45 2002776.37  3.93% 11366   56s\n",
      "\n",
      "Explored 77 nodes (866210 simplex iterations) in 56.75 seconds (76.72 work units)\n",
      "Thread count was 8 (of 8 available processors)\n",
      "\n",
      "Solution count 5: 1.927e+06 1.90173e+06 1.87373e+06 ... -0\n",
      "\n",
      "Optimal solution found (tolerance 1.00e-04)\n",
      "Best objective 1.926996450000e+06, best bound 1.926996450000e+06, gap 0.0000%\n",
      "Optimal Value: 1926996.4500000002\n"
     ]
    },
    {
     "data": {
      "application/javascript": "\n            setTimeout(function() {\n                var nbb_cell_id = 47;\n                var nbb_unformatted_code = \"TransportationCosts = pd.read_csv(\\n    \\\"/home/angelo/Documents/Uni/Courses/Management Science/MM_Code_repo/data/TranportationCosts.csv\\\",\\n    encoding=\\\"latin-1\\\",\\n)\\nDemand = pd.read_csv(\\n    \\\"/home/angelo/Documents/Uni/Courses/Management Science/MM_Code_repo/data/demand.csv\\\",\\n    encoding=\\\"latin-1\\\",\\n)\\nScenario = Demand.columns[1:].to_list()\\nScenario_Probabilities = dict(zip(Scenario, [1 / 100] * 100))\\n\\n\\nDistro = Demand.loc[:, \\\"DistributionCenter\\\"].to_list()\\nWarehouse = TransportationCosts.loc[:, \\\"Warehouse\\\"].to_list()\\n\\ndemand = {}\\nfor distro in range(0, len(Demand)):\\n    for scene in range(1, len(Demand.columns)):\\n        demand[(Distro[distro], Scenario[scene - 1])] = Demand.loc[\\n            distro, Scenario[scene - 1]\\n        ]\\n\\nTrasnportation_Costs = {}\\nfor warehouse in range(0, len(TransportationCosts)):\\n    for distro in range(2, len(TransportationCosts.columns)):\\n        Trasnportation_Costs[\\n            (Warehouse[warehouse], Distro[distro - 2])\\n        ] = TransportationCosts.loc[warehouse, Distro[distro - 2]]\\n\\nTransport_Warehouse = {}\\nfor warehouse in range(0, len(TransportationCosts)):\\n    Transport_Warehouse[Warehouse[warehouse]] = TransportationCosts.loc[\\n        warehouse, \\\"PFacility\\\"\\n    ]\\n\\n\\nmodel = gp.Model()\\nmodel.ModelSense = gp.GRB.MAXIMIZE\\n\\n\\n# first stage\\nWareHProd_mod = model.addVars(Warehouse, vtype=gp.GRB.INTEGER, name=\\\"Production\\\")\\nWareHInv_mod = model.addVars(Warehouse, vtype=gp.GRB.BINARY, name=\\\"Investment\\\")\\n\\n# second stage\\ndist_ware_scen = model.addVars(\\n    Warehouse, Distro, Scenario, vtype=gp.GRB.INTEGER, name=\\\"Transportation\\\"\\n)\\n\\nInventory_Distr = model.addVars(\\n    Distro, Scenario, vtype=gp.GRB.INTEGER, name=\\\"Inventory\\\"\\n)\\n\\nsoldd = model.addVars(Distro, Scenario, vtype=gp.GRB.INTEGER, name=\\\"Sold\\\")\\n\\n\\n# model.setObjective(\\n#     gp.quicksum(\\n#         20 * Scenario_Probabilities[scene] * soldd[distro, scene]\\n#         for distro in Distro\\n#         for scene in Scenario\\n#     )\\n#     - gp.quicksum(\\n#         WareHProd_mod[warehouse] * (10 + Transport_Warehouse[warehouse])\\n#         for warehouse in Warehouse\\n#     )\\n#     - gp.quicksum(WareHInv_mod[warehouse] * 100000 for warehouse in Warehouse)\\n#     - gp.quicksum(\\n#         dist_ware_scen[warehouse, distro, scene]\\n#         * Trasnportation_Costs[warehouse, distro]\\n#         * Scenario_Probabilities[scene]\\n#         for distro in Distro\\n#         for scene in Scenario\\n#         for warehouse in Warehouse\\n#     )\\n# )\\n\\n\\n# worst case profit\\nWP = model.addVar(vtype=gp.GRB.INTEGER, name=\\\"WP\\\")\\n\\n\\nmodel.setObjective(\\n    - gp.quicksum(\\n       WareHProd_mod[warehouse] * (10 + Transport_Warehouse[warehouse])\\n        for warehouse in Warehouse\\n    )\\n    - gp.quicksum(WareHInv_mod[warehouse] * 100000 for warehouse in Warehouse) + WP\\n )\\n\\n\\n# binary condition if they are turned on they can send\\nmodel.addConstrs(\\n    (\\n        gp.quicksum(dist_ware_scen[warehouse, distro, scene] for distro in Distro)\\n        <= WareHProd_mod[warehouse] * WareHInv_mod[warehouse]\\n        for scene in Scenario\\n        for warehouse in Warehouse\\n    ),\\n    name=\\\"SentProduction_Bin\\\",\\n)\\n\\n# inventory cannoth be greater than what you send there\\nmodel.addConstrs(\\n    (\\n        Inventory_Distr[distro, scene]\\n        == gp.quicksum(\\n            dist_ware_scen[warehouse, distro, scene] for warehouse in Warehouse\\n        )\\n        for scene in Scenario\\n        for distro in Distro\\n    ),\\n    name=\\\"Distr_Receive_Sent_limit\\\",\\n)\\n\\n\\nmodel.addConstrs(\\n    (\\n        soldd[distro, scene] <= demand[distro, scene]\\n        for scene in Scenario\\n        for distro in Distro\\n    ),\\n    name=\\\"Warehouse_Received_Demand_Limit\\\",\\n)\\nmodel.addConstrs(\\n    (\\n        soldd[distro, scene] <= Inventory_Distr[distro, scene]\\n        for scene in Scenario\\n        for distro in Distro\\n    ),\\n    name=\\\"Warehouse_Received_Demand_Limit\\\",\\n)\\n\\n\\nfor scene in Scenario:\\n    model.addConstr( WP <= gp.quicksum( 20 * soldd[distro, scene] for distro in Distro)\\n    - gp.quicksum(dist_ware_scen[warehouse, distro, scene]* Trasnportation_Costs[warehouse, distro]\\n        for distro in Distro\\n        for warehouse in Warehouse\\n    )\\n)\\n \\nmodel.optimize()\\nprint(\\\"Optimal Value:\\\", model.Objval)\\n\\n# model.printAttr(\\\"X\\\")\";\n                var nbb_formatted_code = \"TransportationCosts = pd.read_csv(\\n    \\\"/home/angelo/Documents/Uni/Courses/Management Science/MM_Code_repo/data/TranportationCosts.csv\\\",\\n    encoding=\\\"latin-1\\\",\\n)\\nDemand = pd.read_csv(\\n    \\\"/home/angelo/Documents/Uni/Courses/Management Science/MM_Code_repo/data/demand.csv\\\",\\n    encoding=\\\"latin-1\\\",\\n)\\nScenario = Demand.columns[1:].to_list()\\nScenario_Probabilities = dict(zip(Scenario, [1 / 100] * 100))\\n\\n\\nDistro = Demand.loc[:, \\\"DistributionCenter\\\"].to_list()\\nWarehouse = TransportationCosts.loc[:, \\\"Warehouse\\\"].to_list()\\n\\ndemand = {}\\nfor distro in range(0, len(Demand)):\\n    for scene in range(1, len(Demand.columns)):\\n        demand[(Distro[distro], Scenario[scene - 1])] = Demand.loc[\\n            distro, Scenario[scene - 1]\\n        ]\\n\\nTrasnportation_Costs = {}\\nfor warehouse in range(0, len(TransportationCosts)):\\n    for distro in range(2, len(TransportationCosts.columns)):\\n        Trasnportation_Costs[\\n            (Warehouse[warehouse], Distro[distro - 2])\\n        ] = TransportationCosts.loc[warehouse, Distro[distro - 2]]\\n\\nTransport_Warehouse = {}\\nfor warehouse in range(0, len(TransportationCosts)):\\n    Transport_Warehouse[Warehouse[warehouse]] = TransportationCosts.loc[\\n        warehouse, \\\"PFacility\\\"\\n    ]\\n\\n\\nmodel = gp.Model()\\nmodel.ModelSense = gp.GRB.MAXIMIZE\\n\\n\\n# first stage\\nWareHProd_mod = model.addVars(Warehouse, vtype=gp.GRB.INTEGER, name=\\\"Production\\\")\\nWareHInv_mod = model.addVars(Warehouse, vtype=gp.GRB.BINARY, name=\\\"Investment\\\")\\n\\n# second stage\\ndist_ware_scen = model.addVars(\\n    Warehouse, Distro, Scenario, vtype=gp.GRB.INTEGER, name=\\\"Transportation\\\"\\n)\\n\\nInventory_Distr = model.addVars(\\n    Distro, Scenario, vtype=gp.GRB.INTEGER, name=\\\"Inventory\\\"\\n)\\n\\nsoldd = model.addVars(Distro, Scenario, vtype=gp.GRB.INTEGER, name=\\\"Sold\\\")\\n\\n\\n# model.setObjective(\\n#     gp.quicksum(\\n#         20 * Scenario_Probabilities[scene] * soldd[distro, scene]\\n#         for distro in Distro\\n#         for scene in Scenario\\n#     )\\n#     - gp.quicksum(\\n#         WareHProd_mod[warehouse] * (10 + Transport_Warehouse[warehouse])\\n#         for warehouse in Warehouse\\n#     )\\n#     - gp.quicksum(WareHInv_mod[warehouse] * 100000 for warehouse in Warehouse)\\n#     - gp.quicksum(\\n#         dist_ware_scen[warehouse, distro, scene]\\n#         * Trasnportation_Costs[warehouse, distro]\\n#         * Scenario_Probabilities[scene]\\n#         for distro in Distro\\n#         for scene in Scenario\\n#         for warehouse in Warehouse\\n#     )\\n# )\\n\\n\\n# worst case profit\\nWP = model.addVar(vtype=gp.GRB.INTEGER, name=\\\"WP\\\")\\n\\n\\nmodel.setObjective(\\n    -gp.quicksum(\\n        WareHProd_mod[warehouse] * (10 + Transport_Warehouse[warehouse])\\n        for warehouse in Warehouse\\n    )\\n    - gp.quicksum(WareHInv_mod[warehouse] * 100000 for warehouse in Warehouse)\\n    + WP\\n)\\n\\n\\n# binary condition if they are turned on they can send\\nmodel.addConstrs(\\n    (\\n        gp.quicksum(dist_ware_scen[warehouse, distro, scene] for distro in Distro)\\n        <= WareHProd_mod[warehouse] * WareHInv_mod[warehouse]\\n        for scene in Scenario\\n        for warehouse in Warehouse\\n    ),\\n    name=\\\"SentProduction_Bin\\\",\\n)\\n\\n# inventory cannoth be greater than what you send there\\nmodel.addConstrs(\\n    (\\n        Inventory_Distr[distro, scene]\\n        == gp.quicksum(\\n            dist_ware_scen[warehouse, distro, scene] for warehouse in Warehouse\\n        )\\n        for scene in Scenario\\n        for distro in Distro\\n    ),\\n    name=\\\"Distr_Receive_Sent_limit\\\",\\n)\\n\\n\\nmodel.addConstrs(\\n    (\\n        soldd[distro, scene] <= demand[distro, scene]\\n        for scene in Scenario\\n        for distro in Distro\\n    ),\\n    name=\\\"Warehouse_Received_Demand_Limit\\\",\\n)\\nmodel.addConstrs(\\n    (\\n        soldd[distro, scene] <= Inventory_Distr[distro, scene]\\n        for scene in Scenario\\n        for distro in Distro\\n    ),\\n    name=\\\"Warehouse_Received_Demand_Limit\\\",\\n)\\n\\n\\nfor scene in Scenario:\\n    model.addConstr(\\n        WP\\n        <= gp.quicksum(20 * soldd[distro, scene] for distro in Distro)\\n        - gp.quicksum(\\n            dist_ware_scen[warehouse, distro, scene]\\n            * Trasnportation_Costs[warehouse, distro]\\n            for distro in Distro\\n            for warehouse in Warehouse\\n        )\\n    )\\n\\nmodel.optimize()\\nprint(\\\"Optimal Value:\\\", model.Objval)\\n\\n# model.printAttr(\\\"X\\\")\";\n                var nbb_cells = Jupyter.notebook.get_cells();\n                for (var i = 0; i < nbb_cells.length; ++i) {\n                    if (nbb_cells[i].input_prompt_number == nbb_cell_id) {\n                        if (nbb_cells[i].get_text() == nbb_unformatted_code) {\n                             nbb_cells[i].set_text(nbb_formatted_code);\n                        }\n                        break;\n                    }\n                }\n            }, 500);\n            ",
      "text/plain": [
       "<IPython.core.display.Javascript object>"
      ]
     },
     "metadata": {},
     "output_type": "display_data"
    }
   ],
   "source": [
    "TransportationCosts = pd.read_csv(\n",
    "    \"/home/angelo/Documents/Uni/Courses/Management Science/MM_Code_repo/data/TranportationCosts.csv\",\n",
    "    encoding=\"latin-1\",\n",
    ")\n",
    "Demand = pd.read_csv(\n",
    "    \"/home/angelo/Documents/Uni/Courses/Management Science/MM_Code_repo/data/demand.csv\",\n",
    "    encoding=\"latin-1\",\n",
    ")\n",
    "Scenario = Demand.columns[1:].to_list()\n",
    "Scenario_Probabilities = dict(zip(Scenario, [1 / 100] * 100))\n",
    "\n",
    "\n",
    "Distro = Demand.loc[:, \"DistributionCenter\"].to_list()\n",
    "Warehouse = TransportationCosts.loc[:, \"Warehouse\"].to_list()\n",
    "\n",
    "demand = {}\n",
    "for distro in range(0, len(Demand)):\n",
    "    for scene in range(1, len(Demand.columns)):\n",
    "        demand[(Distro[distro], Scenario[scene - 1])] = Demand.loc[\n",
    "            distro, Scenario[scene - 1]\n",
    "        ]\n",
    "\n",
    "Trasnportation_Costs = {}\n",
    "for warehouse in range(0, len(TransportationCosts)):\n",
    "    for distro in range(2, len(TransportationCosts.columns)):\n",
    "        Trasnportation_Costs[\n",
    "            (Warehouse[warehouse], Distro[distro - 2])\n",
    "        ] = TransportationCosts.loc[warehouse, Distro[distro - 2]]\n",
    "\n",
    "Transport_Warehouse = {}\n",
    "for warehouse in range(0, len(TransportationCosts)):\n",
    "    Transport_Warehouse[Warehouse[warehouse]] = TransportationCosts.loc[\n",
    "        warehouse, \"PFacility\"\n",
    "    ]\n",
    "\n",
    "\n",
    "model = gp.Model()\n",
    "model.ModelSense = gp.GRB.MAXIMIZE\n",
    "\n",
    "\n",
    "# first stage\n",
    "WareHProd_mod = model.addVars(Warehouse, vtype=gp.GRB.INTEGER, name=\"Production\")\n",
    "WareHInv_mod = model.addVars(Warehouse, vtype=gp.GRB.BINARY, name=\"Investment\")\n",
    "\n",
    "# second stage\n",
    "dist_ware_scen = model.addVars(\n",
    "    Warehouse, Distro, Scenario, vtype=gp.GRB.INTEGER, name=\"Transportation\"\n",
    ")\n",
    "\n",
    "Inventory_Distr = model.addVars(\n",
    "    Distro, Scenario, vtype=gp.GRB.INTEGER, name=\"Inventory\"\n",
    ")\n",
    "\n",
    "soldd = model.addVars(Distro, Scenario, vtype=gp.GRB.INTEGER, name=\"Sold\")\n",
    "\n",
    "\n",
    "# worst case profit\n",
    "WP = model.addVar(vtype=gp.GRB.INTEGER, name=\"WP\")\n",
    "\n",
    "\n",
    "model.setObjective(\n",
    "    -gp.quicksum(\n",
    "        WareHProd_mod[warehouse] * (10 + Transport_Warehouse[warehouse])\n",
    "        for warehouse in Warehouse\n",
    "    )\n",
    "    - gp.quicksum(WareHInv_mod[warehouse] * 100000 for warehouse in Warehouse)\n",
    "    + WP\n",
    ")\n",
    "\n",
    "\n",
    "# binary condition if they are turned on they can send\n",
    "model.addConstrs(\n",
    "    (\n",
    "        gp.quicksum(dist_ware_scen[warehouse, distro, scene] for distro in Distro)\n",
    "        <= WareHProd_mod[warehouse] * WareHInv_mod[warehouse]\n",
    "        for scene in Scenario\n",
    "        for warehouse in Warehouse\n",
    "    ),\n",
    "    name=\"SentProduction_Bin\",\n",
    ")\n",
    "\n",
    "# inventory cannoth be greater than what you send there\n",
    "model.addConstrs(\n",
    "    (\n",
    "        Inventory_Distr[distro, scene]\n",
    "        == gp.quicksum(\n",
    "            dist_ware_scen[warehouse, distro, scene] for warehouse in Warehouse\n",
    "        )\n",
    "        for scene in Scenario\n",
    "        for distro in Distro\n",
    "    ),\n",
    "    name=\"Distr_Receive_Sent_limit\",\n",
    ")\n",
    "\n",
    "\n",
    "model.addConstrs(\n",
    "    (\n",
    "        soldd[distro, scene] <= demand[distro, scene]\n",
    "        for scene in Scenario\n",
    "        for distro in Distro\n",
    "    ),\n",
    "    name=\"Warehouse_Received_Demand_Limit\",\n",
    ")\n",
    "model.addConstrs(\n",
    "    (\n",
    "        soldd[distro, scene] <= Inventory_Distr[distro, scene]\n",
    "        for scene in Scenario\n",
    "        for distro in Distro\n",
    "    ),\n",
    "    name=\"Warehouse_Received_Demand_Limit\",\n",
    ")\n",
    "\n",
    "# add the final constraint that to remove from the OBJ the second stage costs\n",
    "# and only leave the first stage costs + WP in the objective \n",
    "for scene in Scenario:\n",
    "    model.addConstr(\n",
    "        WP\n",
    "        <= gp.quicksum(20 * soldd[distro, scene] for distro in Distro)\n",
    "        - gp.quicksum(\n",
    "            dist_ware_scen[warehouse, distro, scene]\n",
    "            * Trasnportation_Costs[warehouse, distro]\n",
    "            for distro in Distro\n",
    "            for warehouse in Warehouse\n",
    "        )\n",
    "    )\n",
    "\n",
    "model.optimize()\n",
    "print(\"Optimal Value:\", model.Objval)\n",
    "\n",
    "# model.printAttr(\"X\")"
   ]
  },
  {
   "cell_type": "code",
   "execution_count": null,
   "metadata": {},
   "outputs": [],
   "source": []
  },
  {
   "cell_type": "code",
   "execution_count": null,
   "metadata": {},
   "outputs": [],
   "source": []
  }
 ],
 "metadata": {
  "kernelspec": {
   "display_name": "Python 3 (ipykernel)",
   "language": "python",
   "name": "python3"
  },
  "language_info": {
   "codemirror_mode": {
    "name": "ipython",
    "version": 3
   },
   "file_extension": ".py",
   "mimetype": "text/x-python",
   "name": "python",
   "nbconvert_exporter": "python",
   "pygments_lexer": "ipython3",
   "version": "3.9.12"
  },
  "vscode": {
   "interpreter": {
    "hash": "e966e82fb3c605e4fcb54f010c309953dd9ddd50bea9aabbece184eb44f987ff"
   }
  }
 },
 "nbformat": 4,
 "nbformat_minor": 2
}
