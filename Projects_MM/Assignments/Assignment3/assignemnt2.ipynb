{
 "cells": [
  {
   "cell_type": "code",
   "execution_count": 1,
   "metadata": {},
   "outputs": [],
   "source": [
    "from gurobipy import *\n",
    "import gurobipy as gp\n",
    "\n",
    "# type declaration\n",
    "from typing import Dict, List\n",
    "\n",
    "\n",
    "import pandas as pd\n",
    "\n",
    "import numpy as np\n",
    "\n",
    "# %load_ext nb_black\n",
    "# %load_ext lab_black\n",
    "\n",
    "\n",
    "import plotly.express as px\n",
    "\n",
    "import plotly.graph_objects as go\n",
    "%matplotlib inline"
   ]
  },
  {
   "cell_type": "code",
   "execution_count": null,
   "metadata": {},
   "outputs": [],
   "source": []
  },
  {
   "cell_type": "markdown",
   "metadata": {},
   "source": [
    "# Q1"
   ]
  },
  {
   "cell_type": "code",
   "execution_count": 2,
   "metadata": {},
   "outputs": [],
   "source": [
    "dict_swimmers = {(\"N\", \"BA\") : 40.1, (\"N\", \"BR\") : 41.7, (\"N\", \"BU\") : 41.1, (\"N\", \"FR\") : 33.3,\n",
    "(\"M\", \"BA\") : 39.6, (\"M\", \"BR\") : 37.6, (\"M\", \"BU\") : 31.9, (\"M\", \"FR\") : 31.2,\n",
    "(\"L\", \"BA\") : 35.3, (\"L\", \"BR\") : 37.9, (\"L\", \"BU\") : 36.2, (\"L\", \"FR\") : 33.1, \n",
    "(\"A\", \"BA\") : 30.6, (\"A\", \"BR\") :  34.1, (\"A\", \"BU\") : 33.3, (\"A\", \"FR\") :  29.1,\n",
    "(\"C\", \"BA\") : 36.9, (\"C\", \"BR\") :  37.2, (\"C\", \"BU\") : 29.0, (\"C\", \"FR\") :  31.6}\n",
    "\n",
    "dict_swimmers_obj = [(\"N\", \"BA\") , (\"N\", \"BR\") , (\"N\", \"BU\") , (\"N\", \"FR\") ,\n",
    "(\"M\", \"BA\") , (\"M\", \"BR\") , (\"M\", \"BU\") , (\"M\", \"FR\"),\n",
    "(\"L\", \"BA\"), (\"L\", \"BR\"), (\"L\", \"BU\"), (\"L\", \"FR\"), \n",
    "(\"A\", \"BA\"), (\"A\", \"BR\"), (\"A\", \"BU\"), (\"A\", \"FR\"),\n",
    "(\"C\", \"BA\"), (\"C\", \"BR\"), (\"C\", \"BU\"), (\"C\", \"FR\")]\n",
    "names_list = [\"N\", \"M\", \"L\", \"A\", \"C\"]\n",
    "types_lanes = [\"BA\", \"BR\", \"BU\", \"FR\"]"
   ]
  },
  {
   "cell_type": "code",
   "execution_count": 3,
   "metadata": {},
   "outputs": [
    {
     "name": "stdout",
     "output_type": "stream",
     "text": [
      "Set parameter Username\n",
      "Academic license - for non-commercial use only - expires 2023-11-10\n",
      "Gurobi Optimizer version 10.0.0 build v10.0.0rc2 (linux64)\n",
      "\n",
      "CPU model: 11th Gen Intel(R) Core(TM) i7-1165G7 @ 2.80GHz, instruction set [SSE2|AVX|AVX2|AVX512]\n",
      "Thread count: 4 physical cores, 8 logical processors, using up to 8 threads\n",
      "\n",
      "Optimize a model with 9 rows, 20 columns and 40 nonzeros\n",
      "Model fingerprint: 0x69b34e51\n",
      "Variable types: 0 continuous, 20 integer (20 binary)\n",
      "Coefficient statistics:\n",
      "  Matrix range     [1e+00, 1e+00]\n",
      "  Objective range  [3e+01, 4e+01]\n",
      "  Bounds range     [1e+00, 1e+00]\n",
      "  RHS range        [1e+00, 1e+00]\n",
      "Found heuristic solution: objective 136.3000000\n",
      "Presolve time: 0.00s\n",
      "Presolved: 9 rows, 20 columns, 40 nonzeros\n",
      "Variable types: 0 continuous, 20 integer (20 binary)\n",
      "Found heuristic solution: objective 135.8000000\n",
      "\n",
      "Root relaxation: objective 1.287000e+02, 8 iterations, 0.00 seconds (0.00 work units)\n",
      "\n",
      "    Nodes    |    Current Node    |     Objective Bounds      |     Work\n",
      " Expl Unexpl |  Obj  Depth IntInf | Incumbent    BestBd   Gap | It/Node Time\n",
      "\n",
      "*    0     0               0     128.7000000  128.70000  0.00%     -    0s\n",
      "\n",
      "Explored 1 nodes (8 simplex iterations) in 0.02 seconds (0.00 work units)\n",
      "Thread count was 8 (of 8 available processors)\n",
      "\n",
      "Solution count 3: 128.7 135.8 136.3 \n",
      "\n",
      "Optimal solution found (tolerance 1.00e-04)\n",
      "Best objective 1.287000000000e+02, best bound 1.287000000000e+02, gap 0.0000%\n",
      "optimal value 128.7\n",
      "\n",
      "    Variable            X \n",
      "-------------------------\n",
      "swimmers[M,FR]            1 \n",
      "swimmers[L,BR]            1 \n",
      "swimmers[A,BA]            1 \n",
      "swimmers[C,BU]            1 \n"
     ]
    }
   ],
   "source": [
    "model = Model()\n",
    "\n",
    "x = model.addVars(dict_swimmers, obj = dict_swimmers, vtype = GRB.BINARY, name = \"swimmers\")\n",
    "\n",
    "model.ModelSense=gp.GRB.MINIMIZE\n",
    "\n",
    "\n",
    "model.addConstrs(gp.quicksum((x[(i,j)] for j in types_lanes)) <= 1 for i in names_list)\n",
    "\n",
    "for j in types_lanes:\n",
    "    model.addConstr(gp.quicksum((x[(i,j)] for i in names_list)) == 1)   \n",
    "\n",
    "model.optimize()\n",
    "print(\"optimal value\",model.objval)\n",
    "model.printAttr(\"X\")\n"
   ]
  },
  {
   "cell_type": "markdown",
   "metadata": {},
   "source": [
    "# Q2\n",
    "\n",
    "Specifically, for a flight one month from today, there are 100 seats available.\n",
    "\n",
    "Customers that attempt to book a ticket in the last 10 days are in general willing to pay a higher price.\n",
    "\n",
    "Thus, to maximize its revenues, the company charges a price of $150 during period 1 (first 20 days until departure) and a price of $500 during period 2.\n",
    "\n",
    "The company must set a booking limit α, on the maximum number of tickets it will accept to sell during the first period.\n",
    "\n",
    "If it knew that exactly x customers will arrive during period 2, of course it would set the booking limit to 100 −x.\n",
    "\n",
    "The issue is that the number of customers cannot be known a priori.\n",
    "\n",
    "The company assumes that the number of lower paying customers that arrive in period 1 and the number of high paying customers that arrive in period 2 follow Poison distributions with λ1 = 75 and λ2 = 50 respectively\n"
   ]
  },
  {
   "cell_type": "markdown",
   "metadata": {},
   "source": [
    "# Q2a Standard Capacity allocation problem\n",
    "\n",
    "Use simulation to determine the optimal booking policy to maximize expected revenue: for every booking limit between 20 and 80, simulate 10000 paths and compute the expected revenue. Plot the expected revenue as a function of the booking limit. (30 points)\n",
    "\n",
    "\n",
    "\n"
   ]
  },
  {
   "cell_type": "code",
   "execution_count": 4,
   "metadata": {},
   "outputs": [],
   "source": [
    "n = 10000\n",
    "max = 100\n",
    "booking_limit = list(range(20,81))\n",
    "customerP1 = np.random.poisson(lam=75,size=10000)\n",
    "customerP2 = np.random.poisson(lam=50,size=10000)\n",
    "profitAlpha = []\n",
    "\n",
    "for i in booking_limit:\n",
    "    salesP1 = np.where(customerP1 <= i, customerP1, i)\n",
    "\n",
    "    ticketsLeft = max - salesP1\n",
    "\n",
    "    salesP2 = np.where(customerP2 > ticketsLeft, ticketsLeft, customerP2)\n",
    "    \n",
    "    revenue = (150 * salesP1 + 500 * salesP2)\n",
    "    profitAlpha.append([i, np.mean(revenue)])\n",
    "\n"
   ]
  },
  {
   "cell_type": "code",
   "execution_count": null,
   "metadata": {},
   "outputs": [],
   "source": []
  },
  {
   "cell_type": "code",
   "execution_count": null,
   "metadata": {},
   "outputs": [],
   "source": []
  },
  {
   "cell_type": "code",
   "execution_count": 5,
   "metadata": {},
   "outputs": [
    {
     "data": {
      "text/html": [
       "<div>\n",
       "<style scoped>\n",
       "    .dataframe tbody tr th:only-of-type {\n",
       "        vertical-align: middle;\n",
       "    }\n",
       "\n",
       "    .dataframe tbody tr th {\n",
       "        vertical-align: top;\n",
       "    }\n",
       "\n",
       "    .dataframe thead th {\n",
       "        text-align: right;\n",
       "    }\n",
       "</style>\n",
       "<table border=\"1\" class=\"dataframe\">\n",
       "  <thead>\n",
       "    <tr style=\"text-align: right;\">\n",
       "      <th></th>\n",
       "      <th>Alpha</th>\n",
       "      <th>ER</th>\n",
       "    </tr>\n",
       "  </thead>\n",
       "  <tbody>\n",
       "    <tr>\n",
       "      <th>60</th>\n",
       "      <td>80</td>\n",
       "      <td>24231.200</td>\n",
       "    </tr>\n",
       "    <tr>\n",
       "      <th>59</th>\n",
       "      <td>79</td>\n",
       "      <td>24335.325</td>\n",
       "    </tr>\n",
       "    <tr>\n",
       "      <th>58</th>\n",
       "      <td>78</td>\n",
       "      <td>24454.465</td>\n",
       "    </tr>\n",
       "    <tr>\n",
       "      <th>57</th>\n",
       "      <td>77</td>\n",
       "      <td>24588.410</td>\n",
       "    </tr>\n",
       "    <tr>\n",
       "      <th>56</th>\n",
       "      <td>76</td>\n",
       "      <td>24739.785</td>\n",
       "    </tr>\n",
       "    <tr>\n",
       "      <th>...</th>\n",
       "      <td>...</td>\n",
       "      <td>...</td>\n",
       "    </tr>\n",
       "    <tr>\n",
       "      <th>24</th>\n",
       "      <td>44</td>\n",
       "      <td>31244.950</td>\n",
       "    </tr>\n",
       "    <tr>\n",
       "      <th>28</th>\n",
       "      <td>48</td>\n",
       "      <td>31265.320</td>\n",
       "    </tr>\n",
       "    <tr>\n",
       "      <th>25</th>\n",
       "      <td>45</td>\n",
       "      <td>31284.450</td>\n",
       "    </tr>\n",
       "    <tr>\n",
       "      <th>27</th>\n",
       "      <td>47</td>\n",
       "      <td>31296.800</td>\n",
       "    </tr>\n",
       "    <tr>\n",
       "      <th>26</th>\n",
       "      <td>46</td>\n",
       "      <td>31302.000</td>\n",
       "    </tr>\n",
       "  </tbody>\n",
       "</table>\n",
       "<p>61 rows × 2 columns</p>\n",
       "</div>"
      ],
      "text/plain": [
       "    Alpha         ER\n",
       "60     80  24231.200\n",
       "59     79  24335.325\n",
       "58     78  24454.465\n",
       "57     77  24588.410\n",
       "56     76  24739.785\n",
       "..    ...        ...\n",
       "24     44  31244.950\n",
       "28     48  31265.320\n",
       "25     45  31284.450\n",
       "27     47  31296.800\n",
       "26     46  31302.000\n",
       "\n",
       "[61 rows x 2 columns]"
      ]
     },
     "execution_count": 5,
     "metadata": {},
     "output_type": "execute_result"
    }
   ],
   "source": [
    "profitAlpha = pd.DataFrame(profitAlpha, columns = [\"Alpha\", \"ER\"])\n",
    "profitAlpha.sort_values(\"ER\")"
   ]
  },
  {
   "cell_type": "code",
   "execution_count": 6,
   "metadata": {},
   "outputs": [
    {
     "data": {
      "application/vnd.plotly.v1+json": {
       "config": {
        "plotlyServerURL": "https://plot.ly"
       },
       "data": [
        {
         "type": "scatter",
         "x": [
          20,
          21,
          22,
          23,
          24,
          25,
          26,
          27,
          28,
          29,
          30,
          31,
          32,
          33,
          34,
          35,
          36,
          37,
          38,
          39,
          40,
          41,
          42,
          43,
          44,
          45,
          46,
          47,
          48,
          49,
          50,
          51,
          52,
          53,
          54,
          55,
          56,
          57,
          58,
          59,
          60,
          61,
          62,
          63,
          64,
          65,
          66,
          67,
          68,
          69,
          70,
          71,
          72,
          73,
          74,
          75,
          76,
          77,
          78,
          79,
          80
         ],
         "y": [
          28059.25,
          28209.25,
          28359.25,
          28509.25,
          28659.25,
          28809.25,
          28959,
          29108.5,
          29257.65,
          29406.55,
          29555,
          29702.85,
          29849.6,
          29995.4,
          30139.75,
          30281.45,
          30419.75,
          30553.7,
          30681.85,
          30802.85,
          30915.7,
          31018.95,
          31110,
          31186.2,
          31244.95,
          31284.45,
          31302,
          31296.8,
          31265.32,
          31207.91,
          31123.9,
          31011.56,
          30872.03,
          30704.82,
          30511.45,
          30293.145,
          30052.485,
          29792.28,
          29516.275,
          29226.04,
          28927.18,
          28621.17,
          28310.955,
          27999.51,
          27690.885,
          27385.27,
          27085.865,
          26794.845,
          26512.77,
          26240.92,
          25981.13,
          25736.205,
          25505.825,
          25290.185,
          25090.56,
          24907.21,
          24739.785,
          24588.41,
          24454.465,
          24335.325,
          24231.2
         ]
        },
        {
         "type": "bar",
         "x": [
          20,
          21,
          22,
          23,
          24,
          25,
          26,
          27,
          28,
          29,
          30,
          31,
          32,
          33,
          34,
          35,
          36,
          37,
          38,
          39,
          40,
          41,
          42,
          43,
          44,
          45,
          46,
          47,
          48,
          49,
          50,
          51,
          52,
          53,
          54,
          55,
          56,
          57,
          58,
          59,
          60,
          61,
          62,
          63,
          64,
          65,
          66,
          67,
          68,
          69,
          70,
          71,
          72,
          73,
          74,
          75,
          76,
          77,
          78,
          79,
          80
         ],
         "y": [
          28059.25,
          28209.25,
          28359.25,
          28509.25,
          28659.25,
          28809.25,
          28959,
          29108.5,
          29257.65,
          29406.55,
          29555,
          29702.85,
          29849.6,
          29995.4,
          30139.75,
          30281.45,
          30419.75,
          30553.7,
          30681.85,
          30802.85,
          30915.7,
          31018.95,
          31110,
          31186.2,
          31244.95,
          31284.45,
          31302,
          31296.8,
          31265.32,
          31207.91,
          31123.9,
          31011.56,
          30872.03,
          30704.82,
          30511.45,
          30293.145,
          30052.485,
          29792.28,
          29516.275,
          29226.04,
          28927.18,
          28621.17,
          28310.955,
          27999.51,
          27690.885,
          27385.27,
          27085.865,
          26794.845,
          26512.77,
          26240.92,
          25981.13,
          25736.205,
          25505.825,
          25290.185,
          25090.56,
          24907.21,
          24739.785,
          24588.41,
          24454.465,
          24335.325,
          24231.2
         ]
        }
       ],
       "layout": {
        "template": {
         "data": {
          "bar": [
           {
            "error_x": {
             "color": "#2a3f5f"
            },
            "error_y": {
             "color": "#2a3f5f"
            },
            "marker": {
             "line": {
              "color": "#E5ECF6",
              "width": 0.5
             },
             "pattern": {
              "fillmode": "overlay",
              "size": 10,
              "solidity": 0.2
             }
            },
            "type": "bar"
           }
          ],
          "barpolar": [
           {
            "marker": {
             "line": {
              "color": "#E5ECF6",
              "width": 0.5
             },
             "pattern": {
              "fillmode": "overlay",
              "size": 10,
              "solidity": 0.2
             }
            },
            "type": "barpolar"
           }
          ],
          "carpet": [
           {
            "aaxis": {
             "endlinecolor": "#2a3f5f",
             "gridcolor": "white",
             "linecolor": "white",
             "minorgridcolor": "white",
             "startlinecolor": "#2a3f5f"
            },
            "baxis": {
             "endlinecolor": "#2a3f5f",
             "gridcolor": "white",
             "linecolor": "white",
             "minorgridcolor": "white",
             "startlinecolor": "#2a3f5f"
            },
            "type": "carpet"
           }
          ],
          "choropleth": [
           {
            "colorbar": {
             "outlinewidth": 0,
             "ticks": ""
            },
            "type": "choropleth"
           }
          ],
          "contour": [
           {
            "colorbar": {
             "outlinewidth": 0,
             "ticks": ""
            },
            "colorscale": [
             [
              0,
              "#0d0887"
             ],
             [
              0.1111111111111111,
              "#46039f"
             ],
             [
              0.2222222222222222,
              "#7201a8"
             ],
             [
              0.3333333333333333,
              "#9c179e"
             ],
             [
              0.4444444444444444,
              "#bd3786"
             ],
             [
              0.5555555555555556,
              "#d8576b"
             ],
             [
              0.6666666666666666,
              "#ed7953"
             ],
             [
              0.7777777777777778,
              "#fb9f3a"
             ],
             [
              0.8888888888888888,
              "#fdca26"
             ],
             [
              1,
              "#f0f921"
             ]
            ],
            "type": "contour"
           }
          ],
          "contourcarpet": [
           {
            "colorbar": {
             "outlinewidth": 0,
             "ticks": ""
            },
            "type": "contourcarpet"
           }
          ],
          "heatmap": [
           {
            "colorbar": {
             "outlinewidth": 0,
             "ticks": ""
            },
            "colorscale": [
             [
              0,
              "#0d0887"
             ],
             [
              0.1111111111111111,
              "#46039f"
             ],
             [
              0.2222222222222222,
              "#7201a8"
             ],
             [
              0.3333333333333333,
              "#9c179e"
             ],
             [
              0.4444444444444444,
              "#bd3786"
             ],
             [
              0.5555555555555556,
              "#d8576b"
             ],
             [
              0.6666666666666666,
              "#ed7953"
             ],
             [
              0.7777777777777778,
              "#fb9f3a"
             ],
             [
              0.8888888888888888,
              "#fdca26"
             ],
             [
              1,
              "#f0f921"
             ]
            ],
            "type": "heatmap"
           }
          ],
          "heatmapgl": [
           {
            "colorbar": {
             "outlinewidth": 0,
             "ticks": ""
            },
            "colorscale": [
             [
              0,
              "#0d0887"
             ],
             [
              0.1111111111111111,
              "#46039f"
             ],
             [
              0.2222222222222222,
              "#7201a8"
             ],
             [
              0.3333333333333333,
              "#9c179e"
             ],
             [
              0.4444444444444444,
              "#bd3786"
             ],
             [
              0.5555555555555556,
              "#d8576b"
             ],
             [
              0.6666666666666666,
              "#ed7953"
             ],
             [
              0.7777777777777778,
              "#fb9f3a"
             ],
             [
              0.8888888888888888,
              "#fdca26"
             ],
             [
              1,
              "#f0f921"
             ]
            ],
            "type": "heatmapgl"
           }
          ],
          "histogram": [
           {
            "marker": {
             "pattern": {
              "fillmode": "overlay",
              "size": 10,
              "solidity": 0.2
             }
            },
            "type": "histogram"
           }
          ],
          "histogram2d": [
           {
            "colorbar": {
             "outlinewidth": 0,
             "ticks": ""
            },
            "colorscale": [
             [
              0,
              "#0d0887"
             ],
             [
              0.1111111111111111,
              "#46039f"
             ],
             [
              0.2222222222222222,
              "#7201a8"
             ],
             [
              0.3333333333333333,
              "#9c179e"
             ],
             [
              0.4444444444444444,
              "#bd3786"
             ],
             [
              0.5555555555555556,
              "#d8576b"
             ],
             [
              0.6666666666666666,
              "#ed7953"
             ],
             [
              0.7777777777777778,
              "#fb9f3a"
             ],
             [
              0.8888888888888888,
              "#fdca26"
             ],
             [
              1,
              "#f0f921"
             ]
            ],
            "type": "histogram2d"
           }
          ],
          "histogram2dcontour": [
           {
            "colorbar": {
             "outlinewidth": 0,
             "ticks": ""
            },
            "colorscale": [
             [
              0,
              "#0d0887"
             ],
             [
              0.1111111111111111,
              "#46039f"
             ],
             [
              0.2222222222222222,
              "#7201a8"
             ],
             [
              0.3333333333333333,
              "#9c179e"
             ],
             [
              0.4444444444444444,
              "#bd3786"
             ],
             [
              0.5555555555555556,
              "#d8576b"
             ],
             [
              0.6666666666666666,
              "#ed7953"
             ],
             [
              0.7777777777777778,
              "#fb9f3a"
             ],
             [
              0.8888888888888888,
              "#fdca26"
             ],
             [
              1,
              "#f0f921"
             ]
            ],
            "type": "histogram2dcontour"
           }
          ],
          "mesh3d": [
           {
            "colorbar": {
             "outlinewidth": 0,
             "ticks": ""
            },
            "type": "mesh3d"
           }
          ],
          "parcoords": [
           {
            "line": {
             "colorbar": {
              "outlinewidth": 0,
              "ticks": ""
             }
            },
            "type": "parcoords"
           }
          ],
          "pie": [
           {
            "automargin": true,
            "type": "pie"
           }
          ],
          "scatter": [
           {
            "marker": {
             "colorbar": {
              "outlinewidth": 0,
              "ticks": ""
             }
            },
            "type": "scatter"
           }
          ],
          "scatter3d": [
           {
            "line": {
             "colorbar": {
              "outlinewidth": 0,
              "ticks": ""
             }
            },
            "marker": {
             "colorbar": {
              "outlinewidth": 0,
              "ticks": ""
             }
            },
            "type": "scatter3d"
           }
          ],
          "scattercarpet": [
           {
            "marker": {
             "colorbar": {
              "outlinewidth": 0,
              "ticks": ""
             }
            },
            "type": "scattercarpet"
           }
          ],
          "scattergeo": [
           {
            "marker": {
             "colorbar": {
              "outlinewidth": 0,
              "ticks": ""
             }
            },
            "type": "scattergeo"
           }
          ],
          "scattergl": [
           {
            "marker": {
             "colorbar": {
              "outlinewidth": 0,
              "ticks": ""
             }
            },
            "type": "scattergl"
           }
          ],
          "scattermapbox": [
           {
            "marker": {
             "colorbar": {
              "outlinewidth": 0,
              "ticks": ""
             }
            },
            "type": "scattermapbox"
           }
          ],
          "scatterpolar": [
           {
            "marker": {
             "colorbar": {
              "outlinewidth": 0,
              "ticks": ""
             }
            },
            "type": "scatterpolar"
           }
          ],
          "scatterpolargl": [
           {
            "marker": {
             "colorbar": {
              "outlinewidth": 0,
              "ticks": ""
             }
            },
            "type": "scatterpolargl"
           }
          ],
          "scatterternary": [
           {
            "marker": {
             "colorbar": {
              "outlinewidth": 0,
              "ticks": ""
             }
            },
            "type": "scatterternary"
           }
          ],
          "surface": [
           {
            "colorbar": {
             "outlinewidth": 0,
             "ticks": ""
            },
            "colorscale": [
             [
              0,
              "#0d0887"
             ],
             [
              0.1111111111111111,
              "#46039f"
             ],
             [
              0.2222222222222222,
              "#7201a8"
             ],
             [
              0.3333333333333333,
              "#9c179e"
             ],
             [
              0.4444444444444444,
              "#bd3786"
             ],
             [
              0.5555555555555556,
              "#d8576b"
             ],
             [
              0.6666666666666666,
              "#ed7953"
             ],
             [
              0.7777777777777778,
              "#fb9f3a"
             ],
             [
              0.8888888888888888,
              "#fdca26"
             ],
             [
              1,
              "#f0f921"
             ]
            ],
            "type": "surface"
           }
          ],
          "table": [
           {
            "cells": {
             "fill": {
              "color": "#EBF0F8"
             },
             "line": {
              "color": "white"
             }
            },
            "header": {
             "fill": {
              "color": "#C8D4E3"
             },
             "line": {
              "color": "white"
             }
            },
            "type": "table"
           }
          ]
         },
         "layout": {
          "annotationdefaults": {
           "arrowcolor": "#2a3f5f",
           "arrowhead": 0,
           "arrowwidth": 1
          },
          "autotypenumbers": "strict",
          "coloraxis": {
           "colorbar": {
            "outlinewidth": 0,
            "ticks": ""
           }
          },
          "colorscale": {
           "diverging": [
            [
             0,
             "#8e0152"
            ],
            [
             0.1,
             "#c51b7d"
            ],
            [
             0.2,
             "#de77ae"
            ],
            [
             0.3,
             "#f1b6da"
            ],
            [
             0.4,
             "#fde0ef"
            ],
            [
             0.5,
             "#f7f7f7"
            ],
            [
             0.6,
             "#e6f5d0"
            ],
            [
             0.7,
             "#b8e186"
            ],
            [
             0.8,
             "#7fbc41"
            ],
            [
             0.9,
             "#4d9221"
            ],
            [
             1,
             "#276419"
            ]
           ],
           "sequential": [
            [
             0,
             "#0d0887"
            ],
            [
             0.1111111111111111,
             "#46039f"
            ],
            [
             0.2222222222222222,
             "#7201a8"
            ],
            [
             0.3333333333333333,
             "#9c179e"
            ],
            [
             0.4444444444444444,
             "#bd3786"
            ],
            [
             0.5555555555555556,
             "#d8576b"
            ],
            [
             0.6666666666666666,
             "#ed7953"
            ],
            [
             0.7777777777777778,
             "#fb9f3a"
            ],
            [
             0.8888888888888888,
             "#fdca26"
            ],
            [
             1,
             "#f0f921"
            ]
           ],
           "sequentialminus": [
            [
             0,
             "#0d0887"
            ],
            [
             0.1111111111111111,
             "#46039f"
            ],
            [
             0.2222222222222222,
             "#7201a8"
            ],
            [
             0.3333333333333333,
             "#9c179e"
            ],
            [
             0.4444444444444444,
             "#bd3786"
            ],
            [
             0.5555555555555556,
             "#d8576b"
            ],
            [
             0.6666666666666666,
             "#ed7953"
            ],
            [
             0.7777777777777778,
             "#fb9f3a"
            ],
            [
             0.8888888888888888,
             "#fdca26"
            ],
            [
             1,
             "#f0f921"
            ]
           ]
          },
          "colorway": [
           "#636efa",
           "#EF553B",
           "#00cc96",
           "#ab63fa",
           "#FFA15A",
           "#19d3f3",
           "#FF6692",
           "#B6E880",
           "#FF97FF",
           "#FECB52"
          ],
          "font": {
           "color": "#2a3f5f"
          },
          "geo": {
           "bgcolor": "white",
           "lakecolor": "white",
           "landcolor": "#E5ECF6",
           "showlakes": true,
           "showland": true,
           "subunitcolor": "white"
          },
          "hoverlabel": {
           "align": "left"
          },
          "hovermode": "closest",
          "mapbox": {
           "style": "light"
          },
          "paper_bgcolor": "white",
          "plot_bgcolor": "#E5ECF6",
          "polar": {
           "angularaxis": {
            "gridcolor": "white",
            "linecolor": "white",
            "ticks": ""
           },
           "bgcolor": "#E5ECF6",
           "radialaxis": {
            "gridcolor": "white",
            "linecolor": "white",
            "ticks": ""
           }
          },
          "scene": {
           "xaxis": {
            "backgroundcolor": "#E5ECF6",
            "gridcolor": "white",
            "gridwidth": 2,
            "linecolor": "white",
            "showbackground": true,
            "ticks": "",
            "zerolinecolor": "white"
           },
           "yaxis": {
            "backgroundcolor": "#E5ECF6",
            "gridcolor": "white",
            "gridwidth": 2,
            "linecolor": "white",
            "showbackground": true,
            "ticks": "",
            "zerolinecolor": "white"
           },
           "zaxis": {
            "backgroundcolor": "#E5ECF6",
            "gridcolor": "white",
            "gridwidth": 2,
            "linecolor": "white",
            "showbackground": true,
            "ticks": "",
            "zerolinecolor": "white"
           }
          },
          "shapedefaults": {
           "line": {
            "color": "#2a3f5f"
           }
          },
          "ternary": {
           "aaxis": {
            "gridcolor": "white",
            "linecolor": "white",
            "ticks": ""
           },
           "baxis": {
            "gridcolor": "white",
            "linecolor": "white",
            "ticks": ""
           },
           "bgcolor": "#E5ECF6",
           "caxis": {
            "gridcolor": "white",
            "linecolor": "white",
            "ticks": ""
           }
          },
          "title": {
           "x": 0.05
          },
          "xaxis": {
           "automargin": true,
           "gridcolor": "white",
           "linecolor": "white",
           "ticks": "",
           "title": {
            "standoff": 15
           },
           "zerolinecolor": "white",
           "zerolinewidth": 2
          },
          "yaxis": {
           "automargin": true,
           "gridcolor": "white",
           "linecolor": "white",
           "ticks": "",
           "title": {
            "standoff": 15
           },
           "zerolinecolor": "white",
           "zerolinewidth": 2
          }
         }
        }
       }
      }
     },
     "metadata": {},
     "output_type": "display_data"
    }
   ],
   "source": [
    "fig = go.Figure()\n",
    "fig.add_trace(\n",
    "    go.Scatter( x = profitAlpha['Alpha'], y = profitAlpha['ER'],\n",
    "        # name=\"Revenue\"\n",
    "    ))\n",
    "fig.add_trace(\n",
    "    go.Bar(\n",
    "        x=profitAlpha['Alpha'],\n",
    "        y=profitAlpha['ER'],\n",
    "        # name=\"Profit\"\n",
    "    ))\n",
    "fig.show()"
   ]
  },
  {
   "cell_type": "code",
   "execution_count": 7,
   "metadata": {},
   "outputs": [
    {
     "data": {
      "application/vnd.plotly.v1+json": {
       "config": {
        "plotlyServerURL": "https://plot.ly"
       },
       "data": [
        {
         "hovertemplate": "Alpha=%{x}<br>ER=%{y}<extra></extra>",
         "legendgroup": "",
         "line": {
          "color": "#636efa",
          "dash": "solid"
         },
         "marker": {
          "symbol": "circle"
         },
         "mode": "lines",
         "name": "",
         "orientation": "v",
         "showlegend": false,
         "type": "scatter",
         "x": [
          20,
          21,
          22,
          23,
          24,
          25,
          26,
          27,
          28,
          29,
          30,
          31,
          32,
          33,
          34,
          35,
          36,
          37,
          38,
          39,
          40,
          41,
          42,
          43,
          44,
          45,
          46,
          47,
          48,
          49,
          50,
          51,
          52,
          53,
          54,
          55,
          56,
          57,
          58,
          59,
          60,
          61,
          62,
          63,
          64,
          65,
          66,
          67,
          68,
          69,
          70,
          71,
          72,
          73,
          74,
          75,
          76,
          77,
          78,
          79,
          80
         ],
         "xaxis": "x",
         "y": [
          28059.25,
          28209.25,
          28359.25,
          28509.25,
          28659.25,
          28809.25,
          28959,
          29108.5,
          29257.65,
          29406.55,
          29555,
          29702.85,
          29849.6,
          29995.4,
          30139.75,
          30281.45,
          30419.75,
          30553.7,
          30681.85,
          30802.85,
          30915.7,
          31018.95,
          31110,
          31186.2,
          31244.95,
          31284.45,
          31302,
          31296.8,
          31265.32,
          31207.91,
          31123.9,
          31011.56,
          30872.03,
          30704.82,
          30511.45,
          30293.145,
          30052.485,
          29792.28,
          29516.275,
          29226.04,
          28927.18,
          28621.17,
          28310.955,
          27999.51,
          27690.885,
          27385.27,
          27085.865,
          26794.845,
          26512.77,
          26240.92,
          25981.13,
          25736.205,
          25505.825,
          25290.185,
          25090.56,
          24907.21,
          24739.785,
          24588.41,
          24454.465,
          24335.325,
          24231.2
         ],
         "yaxis": "y"
        }
       ],
       "layout": {
        "legend": {
         "tracegroupgap": 0
        },
        "margin": {
         "t": 60
        },
        "template": {
         "data": {
          "bar": [
           {
            "error_x": {
             "color": "#2a3f5f"
            },
            "error_y": {
             "color": "#2a3f5f"
            },
            "marker": {
             "line": {
              "color": "#E5ECF6",
              "width": 0.5
             },
             "pattern": {
              "fillmode": "overlay",
              "size": 10,
              "solidity": 0.2
             }
            },
            "type": "bar"
           }
          ],
          "barpolar": [
           {
            "marker": {
             "line": {
              "color": "#E5ECF6",
              "width": 0.5
             },
             "pattern": {
              "fillmode": "overlay",
              "size": 10,
              "solidity": 0.2
             }
            },
            "type": "barpolar"
           }
          ],
          "carpet": [
           {
            "aaxis": {
             "endlinecolor": "#2a3f5f",
             "gridcolor": "white",
             "linecolor": "white",
             "minorgridcolor": "white",
             "startlinecolor": "#2a3f5f"
            },
            "baxis": {
             "endlinecolor": "#2a3f5f",
             "gridcolor": "white",
             "linecolor": "white",
             "minorgridcolor": "white",
             "startlinecolor": "#2a3f5f"
            },
            "type": "carpet"
           }
          ],
          "choropleth": [
           {
            "colorbar": {
             "outlinewidth": 0,
             "ticks": ""
            },
            "type": "choropleth"
           }
          ],
          "contour": [
           {
            "colorbar": {
             "outlinewidth": 0,
             "ticks": ""
            },
            "colorscale": [
             [
              0,
              "#0d0887"
             ],
             [
              0.1111111111111111,
              "#46039f"
             ],
             [
              0.2222222222222222,
              "#7201a8"
             ],
             [
              0.3333333333333333,
              "#9c179e"
             ],
             [
              0.4444444444444444,
              "#bd3786"
             ],
             [
              0.5555555555555556,
              "#d8576b"
             ],
             [
              0.6666666666666666,
              "#ed7953"
             ],
             [
              0.7777777777777778,
              "#fb9f3a"
             ],
             [
              0.8888888888888888,
              "#fdca26"
             ],
             [
              1,
              "#f0f921"
             ]
            ],
            "type": "contour"
           }
          ],
          "contourcarpet": [
           {
            "colorbar": {
             "outlinewidth": 0,
             "ticks": ""
            },
            "type": "contourcarpet"
           }
          ],
          "heatmap": [
           {
            "colorbar": {
             "outlinewidth": 0,
             "ticks": ""
            },
            "colorscale": [
             [
              0,
              "#0d0887"
             ],
             [
              0.1111111111111111,
              "#46039f"
             ],
             [
              0.2222222222222222,
              "#7201a8"
             ],
             [
              0.3333333333333333,
              "#9c179e"
             ],
             [
              0.4444444444444444,
              "#bd3786"
             ],
             [
              0.5555555555555556,
              "#d8576b"
             ],
             [
              0.6666666666666666,
              "#ed7953"
             ],
             [
              0.7777777777777778,
              "#fb9f3a"
             ],
             [
              0.8888888888888888,
              "#fdca26"
             ],
             [
              1,
              "#f0f921"
             ]
            ],
            "type": "heatmap"
           }
          ],
          "heatmapgl": [
           {
            "colorbar": {
             "outlinewidth": 0,
             "ticks": ""
            },
            "colorscale": [
             [
              0,
              "#0d0887"
             ],
             [
              0.1111111111111111,
              "#46039f"
             ],
             [
              0.2222222222222222,
              "#7201a8"
             ],
             [
              0.3333333333333333,
              "#9c179e"
             ],
             [
              0.4444444444444444,
              "#bd3786"
             ],
             [
              0.5555555555555556,
              "#d8576b"
             ],
             [
              0.6666666666666666,
              "#ed7953"
             ],
             [
              0.7777777777777778,
              "#fb9f3a"
             ],
             [
              0.8888888888888888,
              "#fdca26"
             ],
             [
              1,
              "#f0f921"
             ]
            ],
            "type": "heatmapgl"
           }
          ],
          "histogram": [
           {
            "marker": {
             "pattern": {
              "fillmode": "overlay",
              "size": 10,
              "solidity": 0.2
             }
            },
            "type": "histogram"
           }
          ],
          "histogram2d": [
           {
            "colorbar": {
             "outlinewidth": 0,
             "ticks": ""
            },
            "colorscale": [
             [
              0,
              "#0d0887"
             ],
             [
              0.1111111111111111,
              "#46039f"
             ],
             [
              0.2222222222222222,
              "#7201a8"
             ],
             [
              0.3333333333333333,
              "#9c179e"
             ],
             [
              0.4444444444444444,
              "#bd3786"
             ],
             [
              0.5555555555555556,
              "#d8576b"
             ],
             [
              0.6666666666666666,
              "#ed7953"
             ],
             [
              0.7777777777777778,
              "#fb9f3a"
             ],
             [
              0.8888888888888888,
              "#fdca26"
             ],
             [
              1,
              "#f0f921"
             ]
            ],
            "type": "histogram2d"
           }
          ],
          "histogram2dcontour": [
           {
            "colorbar": {
             "outlinewidth": 0,
             "ticks": ""
            },
            "colorscale": [
             [
              0,
              "#0d0887"
             ],
             [
              0.1111111111111111,
              "#46039f"
             ],
             [
              0.2222222222222222,
              "#7201a8"
             ],
             [
              0.3333333333333333,
              "#9c179e"
             ],
             [
              0.4444444444444444,
              "#bd3786"
             ],
             [
              0.5555555555555556,
              "#d8576b"
             ],
             [
              0.6666666666666666,
              "#ed7953"
             ],
             [
              0.7777777777777778,
              "#fb9f3a"
             ],
             [
              0.8888888888888888,
              "#fdca26"
             ],
             [
              1,
              "#f0f921"
             ]
            ],
            "type": "histogram2dcontour"
           }
          ],
          "mesh3d": [
           {
            "colorbar": {
             "outlinewidth": 0,
             "ticks": ""
            },
            "type": "mesh3d"
           }
          ],
          "parcoords": [
           {
            "line": {
             "colorbar": {
              "outlinewidth": 0,
              "ticks": ""
             }
            },
            "type": "parcoords"
           }
          ],
          "pie": [
           {
            "automargin": true,
            "type": "pie"
           }
          ],
          "scatter": [
           {
            "marker": {
             "colorbar": {
              "outlinewidth": 0,
              "ticks": ""
             }
            },
            "type": "scatter"
           }
          ],
          "scatter3d": [
           {
            "line": {
             "colorbar": {
              "outlinewidth": 0,
              "ticks": ""
             }
            },
            "marker": {
             "colorbar": {
              "outlinewidth": 0,
              "ticks": ""
             }
            },
            "type": "scatter3d"
           }
          ],
          "scattercarpet": [
           {
            "marker": {
             "colorbar": {
              "outlinewidth": 0,
              "ticks": ""
             }
            },
            "type": "scattercarpet"
           }
          ],
          "scattergeo": [
           {
            "marker": {
             "colorbar": {
              "outlinewidth": 0,
              "ticks": ""
             }
            },
            "type": "scattergeo"
           }
          ],
          "scattergl": [
           {
            "marker": {
             "colorbar": {
              "outlinewidth": 0,
              "ticks": ""
             }
            },
            "type": "scattergl"
           }
          ],
          "scattermapbox": [
           {
            "marker": {
             "colorbar": {
              "outlinewidth": 0,
              "ticks": ""
             }
            },
            "type": "scattermapbox"
           }
          ],
          "scatterpolar": [
           {
            "marker": {
             "colorbar": {
              "outlinewidth": 0,
              "ticks": ""
             }
            },
            "type": "scatterpolar"
           }
          ],
          "scatterpolargl": [
           {
            "marker": {
             "colorbar": {
              "outlinewidth": 0,
              "ticks": ""
             }
            },
            "type": "scatterpolargl"
           }
          ],
          "scatterternary": [
           {
            "marker": {
             "colorbar": {
              "outlinewidth": 0,
              "ticks": ""
             }
            },
            "type": "scatterternary"
           }
          ],
          "surface": [
           {
            "colorbar": {
             "outlinewidth": 0,
             "ticks": ""
            },
            "colorscale": [
             [
              0,
              "#0d0887"
             ],
             [
              0.1111111111111111,
              "#46039f"
             ],
             [
              0.2222222222222222,
              "#7201a8"
             ],
             [
              0.3333333333333333,
              "#9c179e"
             ],
             [
              0.4444444444444444,
              "#bd3786"
             ],
             [
              0.5555555555555556,
              "#d8576b"
             ],
             [
              0.6666666666666666,
              "#ed7953"
             ],
             [
              0.7777777777777778,
              "#fb9f3a"
             ],
             [
              0.8888888888888888,
              "#fdca26"
             ],
             [
              1,
              "#f0f921"
             ]
            ],
            "type": "surface"
           }
          ],
          "table": [
           {
            "cells": {
             "fill": {
              "color": "#EBF0F8"
             },
             "line": {
              "color": "white"
             }
            },
            "header": {
             "fill": {
              "color": "#C8D4E3"
             },
             "line": {
              "color": "white"
             }
            },
            "type": "table"
           }
          ]
         },
         "layout": {
          "annotationdefaults": {
           "arrowcolor": "#2a3f5f",
           "arrowhead": 0,
           "arrowwidth": 1
          },
          "autotypenumbers": "strict",
          "coloraxis": {
           "colorbar": {
            "outlinewidth": 0,
            "ticks": ""
           }
          },
          "colorscale": {
           "diverging": [
            [
             0,
             "#8e0152"
            ],
            [
             0.1,
             "#c51b7d"
            ],
            [
             0.2,
             "#de77ae"
            ],
            [
             0.3,
             "#f1b6da"
            ],
            [
             0.4,
             "#fde0ef"
            ],
            [
             0.5,
             "#f7f7f7"
            ],
            [
             0.6,
             "#e6f5d0"
            ],
            [
             0.7,
             "#b8e186"
            ],
            [
             0.8,
             "#7fbc41"
            ],
            [
             0.9,
             "#4d9221"
            ],
            [
             1,
             "#276419"
            ]
           ],
           "sequential": [
            [
             0,
             "#0d0887"
            ],
            [
             0.1111111111111111,
             "#46039f"
            ],
            [
             0.2222222222222222,
             "#7201a8"
            ],
            [
             0.3333333333333333,
             "#9c179e"
            ],
            [
             0.4444444444444444,
             "#bd3786"
            ],
            [
             0.5555555555555556,
             "#d8576b"
            ],
            [
             0.6666666666666666,
             "#ed7953"
            ],
            [
             0.7777777777777778,
             "#fb9f3a"
            ],
            [
             0.8888888888888888,
             "#fdca26"
            ],
            [
             1,
             "#f0f921"
            ]
           ],
           "sequentialminus": [
            [
             0,
             "#0d0887"
            ],
            [
             0.1111111111111111,
             "#46039f"
            ],
            [
             0.2222222222222222,
             "#7201a8"
            ],
            [
             0.3333333333333333,
             "#9c179e"
            ],
            [
             0.4444444444444444,
             "#bd3786"
            ],
            [
             0.5555555555555556,
             "#d8576b"
            ],
            [
             0.6666666666666666,
             "#ed7953"
            ],
            [
             0.7777777777777778,
             "#fb9f3a"
            ],
            [
             0.8888888888888888,
             "#fdca26"
            ],
            [
             1,
             "#f0f921"
            ]
           ]
          },
          "colorway": [
           "#636efa",
           "#EF553B",
           "#00cc96",
           "#ab63fa",
           "#FFA15A",
           "#19d3f3",
           "#FF6692",
           "#B6E880",
           "#FF97FF",
           "#FECB52"
          ],
          "font": {
           "color": "#2a3f5f"
          },
          "geo": {
           "bgcolor": "white",
           "lakecolor": "white",
           "landcolor": "#E5ECF6",
           "showlakes": true,
           "showland": true,
           "subunitcolor": "white"
          },
          "hoverlabel": {
           "align": "left"
          },
          "hovermode": "closest",
          "mapbox": {
           "style": "light"
          },
          "paper_bgcolor": "white",
          "plot_bgcolor": "#E5ECF6",
          "polar": {
           "angularaxis": {
            "gridcolor": "white",
            "linecolor": "white",
            "ticks": ""
           },
           "bgcolor": "#E5ECF6",
           "radialaxis": {
            "gridcolor": "white",
            "linecolor": "white",
            "ticks": ""
           }
          },
          "scene": {
           "xaxis": {
            "backgroundcolor": "#E5ECF6",
            "gridcolor": "white",
            "gridwidth": 2,
            "linecolor": "white",
            "showbackground": true,
            "ticks": "",
            "zerolinecolor": "white"
           },
           "yaxis": {
            "backgroundcolor": "#E5ECF6",
            "gridcolor": "white",
            "gridwidth": 2,
            "linecolor": "white",
            "showbackground": true,
            "ticks": "",
            "zerolinecolor": "white"
           },
           "zaxis": {
            "backgroundcolor": "#E5ECF6",
            "gridcolor": "white",
            "gridwidth": 2,
            "linecolor": "white",
            "showbackground": true,
            "ticks": "",
            "zerolinecolor": "white"
           }
          },
          "shapedefaults": {
           "line": {
            "color": "#2a3f5f"
           }
          },
          "ternary": {
           "aaxis": {
            "gridcolor": "white",
            "linecolor": "white",
            "ticks": ""
           },
           "baxis": {
            "gridcolor": "white",
            "linecolor": "white",
            "ticks": ""
           },
           "bgcolor": "#E5ECF6",
           "caxis": {
            "gridcolor": "white",
            "linecolor": "white",
            "ticks": ""
           }
          },
          "title": {
           "x": 0.05
          },
          "xaxis": {
           "automargin": true,
           "gridcolor": "white",
           "linecolor": "white",
           "ticks": "",
           "title": {
            "standoff": 15
           },
           "zerolinecolor": "white",
           "zerolinewidth": 2
          },
          "yaxis": {
           "automargin": true,
           "gridcolor": "white",
           "linecolor": "white",
           "ticks": "",
           "title": {
            "standoff": 15
           },
           "zerolinecolor": "white",
           "zerolinewidth": 2
          }
         }
        },
        "xaxis": {
         "anchor": "y",
         "domain": [
          0,
          1
         ],
         "title": {
          "text": "Alpha"
         }
        },
        "yaxis": {
         "anchor": "x",
         "domain": [
          0,
          1
         ],
         "title": {
          "text": "ER"
         }
        }
       }
      }
     },
     "metadata": {},
     "output_type": "display_data"
    }
   ],
   "source": [
    "px.line(profitAlpha, x = 'Alpha', y = 'ER')"
   ]
  },
  {
   "cell_type": "code",
   "execution_count": 8,
   "metadata": {},
   "outputs": [
    {
     "data": {
      "application/vnd.plotly.v1+json": {
       "config": {
        "plotlyServerURL": "https://plot.ly"
       },
       "data": [
        {
         "alignmentgroup": "True",
         "hovertemplate": "Alpha=%{x}<br>ER=%{y}<extra></extra>",
         "legendgroup": "",
         "marker": {
          "color": "#636efa",
          "pattern": {
           "shape": ""
          }
         },
         "name": "",
         "offsetgroup": "",
         "orientation": "v",
         "showlegend": false,
         "textposition": "auto",
         "type": "bar",
         "x": [
          20,
          21,
          22,
          23,
          24,
          25,
          26,
          27,
          28,
          29,
          30,
          31,
          32,
          33,
          34,
          35,
          36,
          37,
          38,
          39,
          40,
          41,
          42,
          43,
          44,
          45,
          46,
          47,
          48,
          49,
          50,
          51,
          52,
          53,
          54,
          55,
          56,
          57,
          58,
          59,
          60,
          61,
          62,
          63,
          64,
          65,
          66,
          67,
          68,
          69,
          70,
          71,
          72,
          73,
          74,
          75,
          76,
          77,
          78,
          79,
          80
         ],
         "xaxis": "x",
         "y": [
          28059.25,
          28209.25,
          28359.25,
          28509.25,
          28659.25,
          28809.25,
          28959,
          29108.5,
          29257.65,
          29406.55,
          29555,
          29702.85,
          29849.6,
          29995.4,
          30139.75,
          30281.45,
          30419.75,
          30553.7,
          30681.85,
          30802.85,
          30915.7,
          31018.95,
          31110,
          31186.2,
          31244.95,
          31284.45,
          31302,
          31296.8,
          31265.32,
          31207.91,
          31123.9,
          31011.56,
          30872.03,
          30704.82,
          30511.45,
          30293.145,
          30052.485,
          29792.28,
          29516.275,
          29226.04,
          28927.18,
          28621.17,
          28310.955,
          27999.51,
          27690.885,
          27385.27,
          27085.865,
          26794.845,
          26512.77,
          26240.92,
          25981.13,
          25736.205,
          25505.825,
          25290.185,
          25090.56,
          24907.21,
          24739.785,
          24588.41,
          24454.465,
          24335.325,
          24231.2
         ],
         "yaxis": "y"
        }
       ],
       "layout": {
        "barmode": "relative",
        "legend": {
         "tracegroupgap": 0
        },
        "margin": {
         "t": 60
        },
        "template": {
         "data": {
          "bar": [
           {
            "error_x": {
             "color": "#2a3f5f"
            },
            "error_y": {
             "color": "#2a3f5f"
            },
            "marker": {
             "line": {
              "color": "#E5ECF6",
              "width": 0.5
             },
             "pattern": {
              "fillmode": "overlay",
              "size": 10,
              "solidity": 0.2
             }
            },
            "type": "bar"
           }
          ],
          "barpolar": [
           {
            "marker": {
             "line": {
              "color": "#E5ECF6",
              "width": 0.5
             },
             "pattern": {
              "fillmode": "overlay",
              "size": 10,
              "solidity": 0.2
             }
            },
            "type": "barpolar"
           }
          ],
          "carpet": [
           {
            "aaxis": {
             "endlinecolor": "#2a3f5f",
             "gridcolor": "white",
             "linecolor": "white",
             "minorgridcolor": "white",
             "startlinecolor": "#2a3f5f"
            },
            "baxis": {
             "endlinecolor": "#2a3f5f",
             "gridcolor": "white",
             "linecolor": "white",
             "minorgridcolor": "white",
             "startlinecolor": "#2a3f5f"
            },
            "type": "carpet"
           }
          ],
          "choropleth": [
           {
            "colorbar": {
             "outlinewidth": 0,
             "ticks": ""
            },
            "type": "choropleth"
           }
          ],
          "contour": [
           {
            "colorbar": {
             "outlinewidth": 0,
             "ticks": ""
            },
            "colorscale": [
             [
              0,
              "#0d0887"
             ],
             [
              0.1111111111111111,
              "#46039f"
             ],
             [
              0.2222222222222222,
              "#7201a8"
             ],
             [
              0.3333333333333333,
              "#9c179e"
             ],
             [
              0.4444444444444444,
              "#bd3786"
             ],
             [
              0.5555555555555556,
              "#d8576b"
             ],
             [
              0.6666666666666666,
              "#ed7953"
             ],
             [
              0.7777777777777778,
              "#fb9f3a"
             ],
             [
              0.8888888888888888,
              "#fdca26"
             ],
             [
              1,
              "#f0f921"
             ]
            ],
            "type": "contour"
           }
          ],
          "contourcarpet": [
           {
            "colorbar": {
             "outlinewidth": 0,
             "ticks": ""
            },
            "type": "contourcarpet"
           }
          ],
          "heatmap": [
           {
            "colorbar": {
             "outlinewidth": 0,
             "ticks": ""
            },
            "colorscale": [
             [
              0,
              "#0d0887"
             ],
             [
              0.1111111111111111,
              "#46039f"
             ],
             [
              0.2222222222222222,
              "#7201a8"
             ],
             [
              0.3333333333333333,
              "#9c179e"
             ],
             [
              0.4444444444444444,
              "#bd3786"
             ],
             [
              0.5555555555555556,
              "#d8576b"
             ],
             [
              0.6666666666666666,
              "#ed7953"
             ],
             [
              0.7777777777777778,
              "#fb9f3a"
             ],
             [
              0.8888888888888888,
              "#fdca26"
             ],
             [
              1,
              "#f0f921"
             ]
            ],
            "type": "heatmap"
           }
          ],
          "heatmapgl": [
           {
            "colorbar": {
             "outlinewidth": 0,
             "ticks": ""
            },
            "colorscale": [
             [
              0,
              "#0d0887"
             ],
             [
              0.1111111111111111,
              "#46039f"
             ],
             [
              0.2222222222222222,
              "#7201a8"
             ],
             [
              0.3333333333333333,
              "#9c179e"
             ],
             [
              0.4444444444444444,
              "#bd3786"
             ],
             [
              0.5555555555555556,
              "#d8576b"
             ],
             [
              0.6666666666666666,
              "#ed7953"
             ],
             [
              0.7777777777777778,
              "#fb9f3a"
             ],
             [
              0.8888888888888888,
              "#fdca26"
             ],
             [
              1,
              "#f0f921"
             ]
            ],
            "type": "heatmapgl"
           }
          ],
          "histogram": [
           {
            "marker": {
             "pattern": {
              "fillmode": "overlay",
              "size": 10,
              "solidity": 0.2
             }
            },
            "type": "histogram"
           }
          ],
          "histogram2d": [
           {
            "colorbar": {
             "outlinewidth": 0,
             "ticks": ""
            },
            "colorscale": [
             [
              0,
              "#0d0887"
             ],
             [
              0.1111111111111111,
              "#46039f"
             ],
             [
              0.2222222222222222,
              "#7201a8"
             ],
             [
              0.3333333333333333,
              "#9c179e"
             ],
             [
              0.4444444444444444,
              "#bd3786"
             ],
             [
              0.5555555555555556,
              "#d8576b"
             ],
             [
              0.6666666666666666,
              "#ed7953"
             ],
             [
              0.7777777777777778,
              "#fb9f3a"
             ],
             [
              0.8888888888888888,
              "#fdca26"
             ],
             [
              1,
              "#f0f921"
             ]
            ],
            "type": "histogram2d"
           }
          ],
          "histogram2dcontour": [
           {
            "colorbar": {
             "outlinewidth": 0,
             "ticks": ""
            },
            "colorscale": [
             [
              0,
              "#0d0887"
             ],
             [
              0.1111111111111111,
              "#46039f"
             ],
             [
              0.2222222222222222,
              "#7201a8"
             ],
             [
              0.3333333333333333,
              "#9c179e"
             ],
             [
              0.4444444444444444,
              "#bd3786"
             ],
             [
              0.5555555555555556,
              "#d8576b"
             ],
             [
              0.6666666666666666,
              "#ed7953"
             ],
             [
              0.7777777777777778,
              "#fb9f3a"
             ],
             [
              0.8888888888888888,
              "#fdca26"
             ],
             [
              1,
              "#f0f921"
             ]
            ],
            "type": "histogram2dcontour"
           }
          ],
          "mesh3d": [
           {
            "colorbar": {
             "outlinewidth": 0,
             "ticks": ""
            },
            "type": "mesh3d"
           }
          ],
          "parcoords": [
           {
            "line": {
             "colorbar": {
              "outlinewidth": 0,
              "ticks": ""
             }
            },
            "type": "parcoords"
           }
          ],
          "pie": [
           {
            "automargin": true,
            "type": "pie"
           }
          ],
          "scatter": [
           {
            "marker": {
             "colorbar": {
              "outlinewidth": 0,
              "ticks": ""
             }
            },
            "type": "scatter"
           }
          ],
          "scatter3d": [
           {
            "line": {
             "colorbar": {
              "outlinewidth": 0,
              "ticks": ""
             }
            },
            "marker": {
             "colorbar": {
              "outlinewidth": 0,
              "ticks": ""
             }
            },
            "type": "scatter3d"
           }
          ],
          "scattercarpet": [
           {
            "marker": {
             "colorbar": {
              "outlinewidth": 0,
              "ticks": ""
             }
            },
            "type": "scattercarpet"
           }
          ],
          "scattergeo": [
           {
            "marker": {
             "colorbar": {
              "outlinewidth": 0,
              "ticks": ""
             }
            },
            "type": "scattergeo"
           }
          ],
          "scattergl": [
           {
            "marker": {
             "colorbar": {
              "outlinewidth": 0,
              "ticks": ""
             }
            },
            "type": "scattergl"
           }
          ],
          "scattermapbox": [
           {
            "marker": {
             "colorbar": {
              "outlinewidth": 0,
              "ticks": ""
             }
            },
            "type": "scattermapbox"
           }
          ],
          "scatterpolar": [
           {
            "marker": {
             "colorbar": {
              "outlinewidth": 0,
              "ticks": ""
             }
            },
            "type": "scatterpolar"
           }
          ],
          "scatterpolargl": [
           {
            "marker": {
             "colorbar": {
              "outlinewidth": 0,
              "ticks": ""
             }
            },
            "type": "scatterpolargl"
           }
          ],
          "scatterternary": [
           {
            "marker": {
             "colorbar": {
              "outlinewidth": 0,
              "ticks": ""
             }
            },
            "type": "scatterternary"
           }
          ],
          "surface": [
           {
            "colorbar": {
             "outlinewidth": 0,
             "ticks": ""
            },
            "colorscale": [
             [
              0,
              "#0d0887"
             ],
             [
              0.1111111111111111,
              "#46039f"
             ],
             [
              0.2222222222222222,
              "#7201a8"
             ],
             [
              0.3333333333333333,
              "#9c179e"
             ],
             [
              0.4444444444444444,
              "#bd3786"
             ],
             [
              0.5555555555555556,
              "#d8576b"
             ],
             [
              0.6666666666666666,
              "#ed7953"
             ],
             [
              0.7777777777777778,
              "#fb9f3a"
             ],
             [
              0.8888888888888888,
              "#fdca26"
             ],
             [
              1,
              "#f0f921"
             ]
            ],
            "type": "surface"
           }
          ],
          "table": [
           {
            "cells": {
             "fill": {
              "color": "#EBF0F8"
             },
             "line": {
              "color": "white"
             }
            },
            "header": {
             "fill": {
              "color": "#C8D4E3"
             },
             "line": {
              "color": "white"
             }
            },
            "type": "table"
           }
          ]
         },
         "layout": {
          "annotationdefaults": {
           "arrowcolor": "#2a3f5f",
           "arrowhead": 0,
           "arrowwidth": 1
          },
          "autotypenumbers": "strict",
          "coloraxis": {
           "colorbar": {
            "outlinewidth": 0,
            "ticks": ""
           }
          },
          "colorscale": {
           "diverging": [
            [
             0,
             "#8e0152"
            ],
            [
             0.1,
             "#c51b7d"
            ],
            [
             0.2,
             "#de77ae"
            ],
            [
             0.3,
             "#f1b6da"
            ],
            [
             0.4,
             "#fde0ef"
            ],
            [
             0.5,
             "#f7f7f7"
            ],
            [
             0.6,
             "#e6f5d0"
            ],
            [
             0.7,
             "#b8e186"
            ],
            [
             0.8,
             "#7fbc41"
            ],
            [
             0.9,
             "#4d9221"
            ],
            [
             1,
             "#276419"
            ]
           ],
           "sequential": [
            [
             0,
             "#0d0887"
            ],
            [
             0.1111111111111111,
             "#46039f"
            ],
            [
             0.2222222222222222,
             "#7201a8"
            ],
            [
             0.3333333333333333,
             "#9c179e"
            ],
            [
             0.4444444444444444,
             "#bd3786"
            ],
            [
             0.5555555555555556,
             "#d8576b"
            ],
            [
             0.6666666666666666,
             "#ed7953"
            ],
            [
             0.7777777777777778,
             "#fb9f3a"
            ],
            [
             0.8888888888888888,
             "#fdca26"
            ],
            [
             1,
             "#f0f921"
            ]
           ],
           "sequentialminus": [
            [
             0,
             "#0d0887"
            ],
            [
             0.1111111111111111,
             "#46039f"
            ],
            [
             0.2222222222222222,
             "#7201a8"
            ],
            [
             0.3333333333333333,
             "#9c179e"
            ],
            [
             0.4444444444444444,
             "#bd3786"
            ],
            [
             0.5555555555555556,
             "#d8576b"
            ],
            [
             0.6666666666666666,
             "#ed7953"
            ],
            [
             0.7777777777777778,
             "#fb9f3a"
            ],
            [
             0.8888888888888888,
             "#fdca26"
            ],
            [
             1,
             "#f0f921"
            ]
           ]
          },
          "colorway": [
           "#636efa",
           "#EF553B",
           "#00cc96",
           "#ab63fa",
           "#FFA15A",
           "#19d3f3",
           "#FF6692",
           "#B6E880",
           "#FF97FF",
           "#FECB52"
          ],
          "font": {
           "color": "#2a3f5f"
          },
          "geo": {
           "bgcolor": "white",
           "lakecolor": "white",
           "landcolor": "#E5ECF6",
           "showlakes": true,
           "showland": true,
           "subunitcolor": "white"
          },
          "hoverlabel": {
           "align": "left"
          },
          "hovermode": "closest",
          "mapbox": {
           "style": "light"
          },
          "paper_bgcolor": "white",
          "plot_bgcolor": "#E5ECF6",
          "polar": {
           "angularaxis": {
            "gridcolor": "white",
            "linecolor": "white",
            "ticks": ""
           },
           "bgcolor": "#E5ECF6",
           "radialaxis": {
            "gridcolor": "white",
            "linecolor": "white",
            "ticks": ""
           }
          },
          "scene": {
           "xaxis": {
            "backgroundcolor": "#E5ECF6",
            "gridcolor": "white",
            "gridwidth": 2,
            "linecolor": "white",
            "showbackground": true,
            "ticks": "",
            "zerolinecolor": "white"
           },
           "yaxis": {
            "backgroundcolor": "#E5ECF6",
            "gridcolor": "white",
            "gridwidth": 2,
            "linecolor": "white",
            "showbackground": true,
            "ticks": "",
            "zerolinecolor": "white"
           },
           "zaxis": {
            "backgroundcolor": "#E5ECF6",
            "gridcolor": "white",
            "gridwidth": 2,
            "linecolor": "white",
            "showbackground": true,
            "ticks": "",
            "zerolinecolor": "white"
           }
          },
          "shapedefaults": {
           "line": {
            "color": "#2a3f5f"
           }
          },
          "ternary": {
           "aaxis": {
            "gridcolor": "white",
            "linecolor": "white",
            "ticks": ""
           },
           "baxis": {
            "gridcolor": "white",
            "linecolor": "white",
            "ticks": ""
           },
           "bgcolor": "#E5ECF6",
           "caxis": {
            "gridcolor": "white",
            "linecolor": "white",
            "ticks": ""
           }
          },
          "title": {
           "x": 0.05
          },
          "xaxis": {
           "automargin": true,
           "gridcolor": "white",
           "linecolor": "white",
           "ticks": "",
           "title": {
            "standoff": 15
           },
           "zerolinecolor": "white",
           "zerolinewidth": 2
          },
          "yaxis": {
           "automargin": true,
           "gridcolor": "white",
           "linecolor": "white",
           "ticks": "",
           "title": {
            "standoff": 15
           },
           "zerolinecolor": "white",
           "zerolinewidth": 2
          }
         }
        },
        "xaxis": {
         "anchor": "y",
         "domain": [
          0,
          1
         ],
         "title": {
          "text": "Alpha"
         }
        },
        "yaxis": {
         "anchor": "x",
         "domain": [
          0,
          1
         ],
         "title": {
          "text": "ER"
         }
        }
       }
      }
     },
     "metadata": {},
     "output_type": "display_data"
    }
   ],
   "source": [
    "px.bar(profitAlpha, x = 'Alpha', y = 'ER')"
   ]
  },
  {
   "cell_type": "markdown",
   "metadata": {},
   "source": [
    "# Q2b"
   ]
  },
  {
   "cell_type": "markdown",
   "metadata": {},
   "source": [
    "Specifically, for a flight one month from today, there are 100 seats available.\n",
    "\n",
    "Customers that attempt to book a ticket in the last 10 days are in general willing to pay a higher price.\n",
    "\n",
    "Thus, to maximize its revenues, the company charges a price of $150 during period 1 (first 20 days until departure) and a price of $500 during period 2.\n",
    "\n",
    "The company must set a booking limit α, on the maximum number of tickets it will accept to sell during the first period.\n",
    "\n",
    "If it knew that exactly x customers will arrive during period 2, of course it would set the booking limit to 100 −x.\n",
    "\n",
    "The issue is that the number of customers cannot be known a priori.\n",
    "\n",
    "The company assumes that the number of lower paying customers that arrive in period 1 and the number of high paying customers that arrive in period 2 follow Poison distributions with λ1 = 75 and λ2 = 50 respectively\n"
   ]
  },
  {
   "cell_type": "code",
   "execution_count": 9,
   "metadata": {},
   "outputs": [],
   "source": [
    "import numpy as np"
   ]
  },
  {
   "cell_type": "code",
   "execution_count": 10,
   "metadata": {},
   "outputs": [],
   "source": [
    "n = 10000\n",
    "max = 100\n",
    "booking_limit_alpha = list(range(20,81))\n",
    "\n",
    "compensation = list(range(100,301))\n",
    "\n",
    "customerP1 = np.random.poisson(lam=75,size=10000)\n",
    "customerP2 = np.random.poisson(lam=50,size=10000)\n",
    "profitAlpha2 = []\n",
    "\n",
    "for i in booking_limit_alpha:\n",
    "    salesP1 = np.where(customerP1 <= i, customerP1, i)\n",
    "    \n",
    "    for p in compensation: \n",
    "        \n",
    "        prob = np.random.binomial(salesP1, ((p-100)/200), 10000)\n",
    "        ticketsLeft = max - salesP1 + prob\n",
    "        salesP1 -= prob\n",
    "\n",
    "        salesP2 = np.where(customerP2 > ticketsLeft, ticketsLeft, customerP2)\n",
    "        revenue = (150 * salesP1 + 500 * salesP2 - prob * p)\n",
    "        \n",
    "        profitAlpha2.append([i, p, np.mean(revenue)])\n",
    "\n",
    "    \n"
   ]
  },
  {
   "cell_type": "code",
   "execution_count": 11,
   "metadata": {},
   "outputs": [],
   "source": [
    "results = []\n",
    "\n",
    "demand_p1 = np.random.poisson(lam=75,size=10000)\n",
    "demand_p2 = np.random.poisson(lam=50,size=10000)\n",
    "parameter_p = list(range(100,301))\n",
    "alpha = list(range(20,81))\n",
    "n_simulations = 10000\n",
    "seats_available = 100\n",
    "price_p1 = 150\n",
    "price_p2 = 500\n",
    "\n",
    "\n",
    "for a in alpha:\n",
    "    for p in parameter_p:\n",
    "        paying_customers_p1 = np.where(demand_p1 <= 0, demand_p1, a)\n",
    "\n",
    "        # compute paying customers in p1\n",
    "        prefer_refund = np.random.binomial(paying_customers_p1, ((p-100)/200), n_simulations)\n",
    "\n",
    "        # compute paying customers in p2\n",
    "        remaining_seats = seats_available - paying_customers_p1\n",
    "\n",
    "        p2_seat_shortage = np.where(remaining_seats < demand_p2, demand_p2 - remaining_seats, 0)\n",
    "        p1_refunds = np.where(prefer_refund >= p2_seat_shortage, p2_seat_shortage, prefer_refund)\n",
    "\n",
    "        cost_of_refunds = p1_refunds * p\n",
    "\n",
    "        paying_customers_p1_updated = paying_customers_p1 - p1_refunds\n",
    "        remaining_seats_updated = remaining_seats + p1_refunds\n",
    "\n",
    "        paying_customers_p2 = np.where(demand_p2 > remaining_seats_updated, remaining_seats_updated, demand_p2)\n",
    "\n",
    "        # compute expected revenue\n",
    "        expected_revenue = ((paying_customers_p1 * price_p1) - (cost_of_refunds)) + (paying_customers_p2 * price_p2)\n",
    "\n",
    "        # save resuitls to list\n",
    "        results.append([a,p,np.mean(expected_revenue)])\n",
    "\n",
    "\n",
    "\n"
   ]
  },
  {
   "cell_type": "code",
   "execution_count": 12,
   "metadata": {},
   "outputs": [
    {
     "data": {
      "text/html": [
       "<div>\n",
       "<style scoped>\n",
       "    .dataframe tbody tr th:only-of-type {\n",
       "        vertical-align: middle;\n",
       "    }\n",
       "\n",
       "    .dataframe tbody tr th {\n",
       "        vertical-align: top;\n",
       "    }\n",
       "\n",
       "    .dataframe thead th {\n",
       "        text-align: right;\n",
       "    }\n",
       "</style>\n",
       "<table border=\"1\" class=\"dataframe\">\n",
       "  <thead>\n",
       "    <tr style=\"text-align: right;\">\n",
       "      <th></th>\n",
       "      <th>Alpha</th>\n",
       "      <th>Refund Tickets</th>\n",
       "      <th>ER</th>\n",
       "    </tr>\n",
       "  </thead>\n",
       "  <tbody>\n",
       "    <tr>\n",
       "      <th>12060</th>\n",
       "      <td>80</td>\n",
       "      <td>100</td>\n",
       "      <td>24236.4350</td>\n",
       "    </tr>\n",
       "    <tr>\n",
       "      <th>12061</th>\n",
       "      <td>80</td>\n",
       "      <td>101</td>\n",
       "      <td>24325.6206</td>\n",
       "    </tr>\n",
       "    <tr>\n",
       "      <th>11859</th>\n",
       "      <td>79</td>\n",
       "      <td>100</td>\n",
       "      <td>24341.7150</td>\n",
       "    </tr>\n",
       "    <tr>\n",
       "      <th>11860</th>\n",
       "      <td>79</td>\n",
       "      <td>101</td>\n",
       "      <td>24433.2420</td>\n",
       "    </tr>\n",
       "    <tr>\n",
       "      <th>11658</th>\n",
       "      <td>78</td>\n",
       "      <td>100</td>\n",
       "      <td>24461.3800</td>\n",
       "    </tr>\n",
       "    <tr>\n",
       "      <th>...</th>\n",
       "      <td>...</td>\n",
       "      <td>...</td>\n",
       "      <td>...</td>\n",
       "    </tr>\n",
       "    <tr>\n",
       "      <th>5628</th>\n",
       "      <td>48</td>\n",
       "      <td>100</td>\n",
       "      <td>31222.7450</td>\n",
       "    </tr>\n",
       "    <tr>\n",
       "      <th>5428</th>\n",
       "      <td>47</td>\n",
       "      <td>101</td>\n",
       "      <td>31226.7262</td>\n",
       "    </tr>\n",
       "    <tr>\n",
       "      <th>5025</th>\n",
       "      <td>45</td>\n",
       "      <td>100</td>\n",
       "      <td>31231.1000</td>\n",
       "    </tr>\n",
       "    <tr>\n",
       "      <th>5427</th>\n",
       "      <td>47</td>\n",
       "      <td>100</td>\n",
       "      <td>31249.8550</td>\n",
       "    </tr>\n",
       "    <tr>\n",
       "      <th>5226</th>\n",
       "      <td>46</td>\n",
       "      <td>100</td>\n",
       "      <td>31251.8000</td>\n",
       "    </tr>\n",
       "  </tbody>\n",
       "</table>\n",
       "<p>12261 rows × 3 columns</p>\n",
       "</div>"
      ],
      "text/plain": [
       "       Alpha  Refund Tickets          ER\n",
       "12060     80             100  24236.4350\n",
       "12061     80             101  24325.6206\n",
       "11859     79             100  24341.7150\n",
       "11860     79             101  24433.2420\n",
       "11658     78             100  24461.3800\n",
       "...      ...             ...         ...\n",
       "5628      48             100  31222.7450\n",
       "5428      47             101  31226.7262\n",
       "5025      45             100  31231.1000\n",
       "5427      47             100  31249.8550\n",
       "5226      46             100  31251.8000\n",
       "\n",
       "[12261 rows x 3 columns]"
      ]
     },
     "execution_count": 12,
     "metadata": {},
     "output_type": "execute_result"
    }
   ],
   "source": [
    "profitAlpha2 = pd.DataFrame(profitAlpha2, columns = [\"Alpha\", \"Refund Tickets\", \"ER\"])\n",
    "profitAlpha2.sort_values(\"ER\")\n",
    "\n",
    "\n"
   ]
  },
  {
   "cell_type": "code",
   "execution_count": 13,
   "metadata": {},
   "outputs": [
    {
     "data": {
      "text/html": [
       "<div>\n",
       "<style scoped>\n",
       "    .dataframe tbody tr th:only-of-type {\n",
       "        vertical-align: middle;\n",
       "    }\n",
       "\n",
       "    .dataframe tbody tr th {\n",
       "        vertical-align: top;\n",
       "    }\n",
       "\n",
       "    .dataframe thead th {\n",
       "        text-align: right;\n",
       "    }\n",
       "</style>\n",
       "<table border=\"1\" class=\"dataframe\">\n",
       "  <thead>\n",
       "    <tr style=\"text-align: right;\">\n",
       "      <th></th>\n",
       "      <th>Alpha</th>\n",
       "      <th>Refund Tickets</th>\n",
       "      <th>ER</th>\n",
       "    </tr>\n",
       "  </thead>\n",
       "  <tbody>\n",
       "    <tr>\n",
       "      <th>5427</th>\n",
       "      <td>47</td>\n",
       "      <td>100</td>\n",
       "      <td>31249.8550</td>\n",
       "    </tr>\n",
       "    <tr>\n",
       "      <th>5428</th>\n",
       "      <td>47</td>\n",
       "      <td>101</td>\n",
       "      <td>31226.7262</td>\n",
       "    </tr>\n",
       "    <tr>\n",
       "      <th>5429</th>\n",
       "      <td>47</td>\n",
       "      <td>102</td>\n",
       "      <td>31195.5178</td>\n",
       "    </tr>\n",
       "    <tr>\n",
       "      <th>5430</th>\n",
       "      <td>47</td>\n",
       "      <td>103</td>\n",
       "      <td>31156.6936</td>\n",
       "    </tr>\n",
       "    <tr>\n",
       "      <th>5431</th>\n",
       "      <td>47</td>\n",
       "      <td>104</td>\n",
       "      <td>31103.3934</td>\n",
       "    </tr>\n",
       "    <tr>\n",
       "      <th>...</th>\n",
       "      <td>...</td>\n",
       "      <td>...</td>\n",
       "      <td>...</td>\n",
       "    </tr>\n",
       "    <tr>\n",
       "      <th>5623</th>\n",
       "      <td>47</td>\n",
       "      <td>296</td>\n",
       "      <td>24999.6000</td>\n",
       "    </tr>\n",
       "    <tr>\n",
       "      <th>5624</th>\n",
       "      <td>47</td>\n",
       "      <td>297</td>\n",
       "      <td>24999.6000</td>\n",
       "    </tr>\n",
       "    <tr>\n",
       "      <th>5625</th>\n",
       "      <td>47</td>\n",
       "      <td>298</td>\n",
       "      <td>24999.6000</td>\n",
       "    </tr>\n",
       "    <tr>\n",
       "      <th>5626</th>\n",
       "      <td>47</td>\n",
       "      <td>299</td>\n",
       "      <td>24999.6000</td>\n",
       "    </tr>\n",
       "    <tr>\n",
       "      <th>5627</th>\n",
       "      <td>47</td>\n",
       "      <td>300</td>\n",
       "      <td>24999.6000</td>\n",
       "    </tr>\n",
       "  </tbody>\n",
       "</table>\n",
       "<p>201 rows × 3 columns</p>\n",
       "</div>"
      ],
      "text/plain": [
       "      Alpha  Refund Tickets          ER\n",
       "5427     47             100  31249.8550\n",
       "5428     47             101  31226.7262\n",
       "5429     47             102  31195.5178\n",
       "5430     47             103  31156.6936\n",
       "5431     47             104  31103.3934\n",
       "...     ...             ...         ...\n",
       "5623     47             296  24999.6000\n",
       "5624     47             297  24999.6000\n",
       "5625     47             298  24999.6000\n",
       "5626     47             299  24999.6000\n",
       "5627     47             300  24999.6000\n",
       "\n",
       "[201 rows x 3 columns]"
      ]
     },
     "execution_count": 13,
     "metadata": {},
     "output_type": "execute_result"
    }
   ],
   "source": [
    "profitAlpha2[profitAlpha2.Alpha == 47]"
   ]
  },
  {
   "cell_type": "code",
   "execution_count": 14,
   "metadata": {},
   "outputs": [],
   "source": [
    "profitAlpha2 = profitAlpha2.groupby(by = \"Alpha\").agg({\"ER\": \"mean\"}).reset_index()\n"
   ]
  },
  {
   "cell_type": "code",
   "execution_count": 15,
   "metadata": {},
   "outputs": [
    {
     "data": {
      "text/html": [
       "<div>\n",
       "<style scoped>\n",
       "    .dataframe tbody tr th:only-of-type {\n",
       "        vertical-align: middle;\n",
       "    }\n",
       "\n",
       "    .dataframe tbody tr th {\n",
       "        vertical-align: top;\n",
       "    }\n",
       "\n",
       "    .dataframe thead th {\n",
       "        text-align: right;\n",
       "    }\n",
       "</style>\n",
       "<table border=\"1\" class=\"dataframe\">\n",
       "  <thead>\n",
       "    <tr style=\"text-align: right;\">\n",
       "      <th></th>\n",
       "      <th>Alpha</th>\n",
       "      <th>ER</th>\n",
       "    </tr>\n",
       "  </thead>\n",
       "  <tbody>\n",
       "    <tr>\n",
       "      <th>0</th>\n",
       "      <td>20</td>\n",
       "      <td>25247.135391</td>\n",
       "    </tr>\n",
       "  </tbody>\n",
       "</table>\n",
       "</div>"
      ],
      "text/plain": [
       "   Alpha            ER\n",
       "0     20  25247.135391"
      ]
     },
     "execution_count": 15,
     "metadata": {},
     "output_type": "execute_result"
    }
   ],
   "source": [
    "profitAlpha2[profitAlpha2.Alpha == 20]"
   ]
  },
  {
   "cell_type": "markdown",
   "metadata": {},
   "source": [
    "#### Plot the optimal revenew as a function of the optimal booking limit assuming that teh refund price is set optimally for the specific booking limit\n",
    "\n"
   ]
  },
  {
   "cell_type": "code",
   "execution_count": 16,
   "metadata": {},
   "outputs": [
    {
     "data": {
      "application/vnd.plotly.v1+json": {
       "config": {
        "plotlyServerURL": "https://plot.ly"
       },
       "data": [
        {
         "type": "scatter",
         "x": [
          20,
          21,
          22,
          23,
          24,
          25,
          26,
          27,
          28,
          29,
          30,
          31,
          32,
          33,
          34,
          35,
          36,
          37,
          38,
          39,
          40,
          41,
          42,
          43,
          44,
          45,
          46,
          47,
          48,
          49,
          50,
          51,
          52,
          53,
          54,
          55,
          56,
          57,
          58,
          59,
          60,
          61,
          62,
          63,
          64,
          65,
          66,
          67,
          68,
          69,
          70,
          71,
          72,
          73,
          74,
          75,
          76,
          77,
          78,
          79,
          80
         ],
         "y": [
          28059.25,
          28209.25,
          28359.25,
          28509.25,
          28659.25,
          28809.25,
          28959,
          29108.5,
          29257.65,
          29406.55,
          29555,
          29702.85,
          29849.6,
          29995.4,
          30139.75,
          30281.45,
          30419.75,
          30553.7,
          30681.85,
          30802.85,
          30915.7,
          31018.95,
          31110,
          31186.2,
          31244.95,
          31284.45,
          31302,
          31296.8,
          31265.32,
          31207.91,
          31123.9,
          31011.56,
          30872.03,
          30704.82,
          30511.45,
          30293.145,
          30052.485,
          29792.28,
          29516.275,
          29226.04,
          28927.18,
          28621.17,
          28310.955,
          27999.51,
          27690.885,
          27385.27,
          27085.865,
          26794.845,
          26512.77,
          26240.92,
          25981.13,
          25736.205,
          25505.825,
          25290.185,
          25090.56,
          24907.21,
          24739.785,
          24588.41,
          24454.465,
          24335.325,
          24231.2
         ]
        },
        {
         "type": "bar",
         "x": [
          20,
          21,
          22,
          23,
          24,
          25,
          26,
          27,
          28,
          29,
          30,
          31,
          32,
          33,
          34,
          35,
          36,
          37,
          38,
          39,
          40,
          41,
          42,
          43,
          44,
          45,
          46,
          47,
          48,
          49,
          50,
          51,
          52,
          53,
          54,
          55,
          56,
          57,
          58,
          59,
          60,
          61,
          62,
          63,
          64,
          65,
          66,
          67,
          68,
          69,
          70,
          71,
          72,
          73,
          74,
          75,
          76,
          77,
          78,
          79,
          80
         ],
         "y": [
          25247.135391044772,
          25260.46218756219,
          25272.425522885573,
          25285.080707462686,
          25297.534779104477,
          25309.888701990047,
          25322.068501492537,
          25334.051854726367,
          25346.04873731343,
          25359.168227860693,
          25371.267005472633,
          25384.42555870647,
          25396.567376616917,
          25408.73067761194,
          25421.065223383084,
          25432.95277164179,
          25444.572206965175,
          25457.003457213927,
          25468.21333880597,
          25480.22382736318,
          25491.721875124378,
          25502.620870149254,
          25513.53116368159,
          25523.503556218908,
          25533.54193283582,
          25542.87226766169,
          25551.3313522388,
          25559.35701442786,
          25566.34203283582,
          25572.033429353232,
          25577.90553084577,
          25581.97863233831,
          25583.664684079602,
          25586.533736815923,
          25587.66467164179,
          25587.140404975125,
          25585.61262089552,
          25583.370318407957,
          25579.844405970147,
          25575.160575621892,
          25570.19489253731,
          25564.08461243781,
          25557.529271144278,
          25548.4782039801,
          25539.80790248756,
          25532.413756218906,
          25522.88731791045,
          25512.896263184077,
          25503.75334079602,
          25495.51719054726,
          25484.874936815922,
          25475.637883582087,
          25466.36360447761,
          25458.983339800994,
          25450.41953731343,
          25442.572039303483,
          25435.209054726365,
          25428.42641691542,
          25422.277908955224,
          25416.928668159202,
          25411.392149751242
         ]
        }
       ],
       "layout": {
        "template": {
         "data": {
          "bar": [
           {
            "error_x": {
             "color": "#2a3f5f"
            },
            "error_y": {
             "color": "#2a3f5f"
            },
            "marker": {
             "line": {
              "color": "#E5ECF6",
              "width": 0.5
             },
             "pattern": {
              "fillmode": "overlay",
              "size": 10,
              "solidity": 0.2
             }
            },
            "type": "bar"
           }
          ],
          "barpolar": [
           {
            "marker": {
             "line": {
              "color": "#E5ECF6",
              "width": 0.5
             },
             "pattern": {
              "fillmode": "overlay",
              "size": 10,
              "solidity": 0.2
             }
            },
            "type": "barpolar"
           }
          ],
          "carpet": [
           {
            "aaxis": {
             "endlinecolor": "#2a3f5f",
             "gridcolor": "white",
             "linecolor": "white",
             "minorgridcolor": "white",
             "startlinecolor": "#2a3f5f"
            },
            "baxis": {
             "endlinecolor": "#2a3f5f",
             "gridcolor": "white",
             "linecolor": "white",
             "minorgridcolor": "white",
             "startlinecolor": "#2a3f5f"
            },
            "type": "carpet"
           }
          ],
          "choropleth": [
           {
            "colorbar": {
             "outlinewidth": 0,
             "ticks": ""
            },
            "type": "choropleth"
           }
          ],
          "contour": [
           {
            "colorbar": {
             "outlinewidth": 0,
             "ticks": ""
            },
            "colorscale": [
             [
              0,
              "#0d0887"
             ],
             [
              0.1111111111111111,
              "#46039f"
             ],
             [
              0.2222222222222222,
              "#7201a8"
             ],
             [
              0.3333333333333333,
              "#9c179e"
             ],
             [
              0.4444444444444444,
              "#bd3786"
             ],
             [
              0.5555555555555556,
              "#d8576b"
             ],
             [
              0.6666666666666666,
              "#ed7953"
             ],
             [
              0.7777777777777778,
              "#fb9f3a"
             ],
             [
              0.8888888888888888,
              "#fdca26"
             ],
             [
              1,
              "#f0f921"
             ]
            ],
            "type": "contour"
           }
          ],
          "contourcarpet": [
           {
            "colorbar": {
             "outlinewidth": 0,
             "ticks": ""
            },
            "type": "contourcarpet"
           }
          ],
          "heatmap": [
           {
            "colorbar": {
             "outlinewidth": 0,
             "ticks": ""
            },
            "colorscale": [
             [
              0,
              "#0d0887"
             ],
             [
              0.1111111111111111,
              "#46039f"
             ],
             [
              0.2222222222222222,
              "#7201a8"
             ],
             [
              0.3333333333333333,
              "#9c179e"
             ],
             [
              0.4444444444444444,
              "#bd3786"
             ],
             [
              0.5555555555555556,
              "#d8576b"
             ],
             [
              0.6666666666666666,
              "#ed7953"
             ],
             [
              0.7777777777777778,
              "#fb9f3a"
             ],
             [
              0.8888888888888888,
              "#fdca26"
             ],
             [
              1,
              "#f0f921"
             ]
            ],
            "type": "heatmap"
           }
          ],
          "heatmapgl": [
           {
            "colorbar": {
             "outlinewidth": 0,
             "ticks": ""
            },
            "colorscale": [
             [
              0,
              "#0d0887"
             ],
             [
              0.1111111111111111,
              "#46039f"
             ],
             [
              0.2222222222222222,
              "#7201a8"
             ],
             [
              0.3333333333333333,
              "#9c179e"
             ],
             [
              0.4444444444444444,
              "#bd3786"
             ],
             [
              0.5555555555555556,
              "#d8576b"
             ],
             [
              0.6666666666666666,
              "#ed7953"
             ],
             [
              0.7777777777777778,
              "#fb9f3a"
             ],
             [
              0.8888888888888888,
              "#fdca26"
             ],
             [
              1,
              "#f0f921"
             ]
            ],
            "type": "heatmapgl"
           }
          ],
          "histogram": [
           {
            "marker": {
             "pattern": {
              "fillmode": "overlay",
              "size": 10,
              "solidity": 0.2
             }
            },
            "type": "histogram"
           }
          ],
          "histogram2d": [
           {
            "colorbar": {
             "outlinewidth": 0,
             "ticks": ""
            },
            "colorscale": [
             [
              0,
              "#0d0887"
             ],
             [
              0.1111111111111111,
              "#46039f"
             ],
             [
              0.2222222222222222,
              "#7201a8"
             ],
             [
              0.3333333333333333,
              "#9c179e"
             ],
             [
              0.4444444444444444,
              "#bd3786"
             ],
             [
              0.5555555555555556,
              "#d8576b"
             ],
             [
              0.6666666666666666,
              "#ed7953"
             ],
             [
              0.7777777777777778,
              "#fb9f3a"
             ],
             [
              0.8888888888888888,
              "#fdca26"
             ],
             [
              1,
              "#f0f921"
             ]
            ],
            "type": "histogram2d"
           }
          ],
          "histogram2dcontour": [
           {
            "colorbar": {
             "outlinewidth": 0,
             "ticks": ""
            },
            "colorscale": [
             [
              0,
              "#0d0887"
             ],
             [
              0.1111111111111111,
              "#46039f"
             ],
             [
              0.2222222222222222,
              "#7201a8"
             ],
             [
              0.3333333333333333,
              "#9c179e"
             ],
             [
              0.4444444444444444,
              "#bd3786"
             ],
             [
              0.5555555555555556,
              "#d8576b"
             ],
             [
              0.6666666666666666,
              "#ed7953"
             ],
             [
              0.7777777777777778,
              "#fb9f3a"
             ],
             [
              0.8888888888888888,
              "#fdca26"
             ],
             [
              1,
              "#f0f921"
             ]
            ],
            "type": "histogram2dcontour"
           }
          ],
          "mesh3d": [
           {
            "colorbar": {
             "outlinewidth": 0,
             "ticks": ""
            },
            "type": "mesh3d"
           }
          ],
          "parcoords": [
           {
            "line": {
             "colorbar": {
              "outlinewidth": 0,
              "ticks": ""
             }
            },
            "type": "parcoords"
           }
          ],
          "pie": [
           {
            "automargin": true,
            "type": "pie"
           }
          ],
          "scatter": [
           {
            "marker": {
             "colorbar": {
              "outlinewidth": 0,
              "ticks": ""
             }
            },
            "type": "scatter"
           }
          ],
          "scatter3d": [
           {
            "line": {
             "colorbar": {
              "outlinewidth": 0,
              "ticks": ""
             }
            },
            "marker": {
             "colorbar": {
              "outlinewidth": 0,
              "ticks": ""
             }
            },
            "type": "scatter3d"
           }
          ],
          "scattercarpet": [
           {
            "marker": {
             "colorbar": {
              "outlinewidth": 0,
              "ticks": ""
             }
            },
            "type": "scattercarpet"
           }
          ],
          "scattergeo": [
           {
            "marker": {
             "colorbar": {
              "outlinewidth": 0,
              "ticks": ""
             }
            },
            "type": "scattergeo"
           }
          ],
          "scattergl": [
           {
            "marker": {
             "colorbar": {
              "outlinewidth": 0,
              "ticks": ""
             }
            },
            "type": "scattergl"
           }
          ],
          "scattermapbox": [
           {
            "marker": {
             "colorbar": {
              "outlinewidth": 0,
              "ticks": ""
             }
            },
            "type": "scattermapbox"
           }
          ],
          "scatterpolar": [
           {
            "marker": {
             "colorbar": {
              "outlinewidth": 0,
              "ticks": ""
             }
            },
            "type": "scatterpolar"
           }
          ],
          "scatterpolargl": [
           {
            "marker": {
             "colorbar": {
              "outlinewidth": 0,
              "ticks": ""
             }
            },
            "type": "scatterpolargl"
           }
          ],
          "scatterternary": [
           {
            "marker": {
             "colorbar": {
              "outlinewidth": 0,
              "ticks": ""
             }
            },
            "type": "scatterternary"
           }
          ],
          "surface": [
           {
            "colorbar": {
             "outlinewidth": 0,
             "ticks": ""
            },
            "colorscale": [
             [
              0,
              "#0d0887"
             ],
             [
              0.1111111111111111,
              "#46039f"
             ],
             [
              0.2222222222222222,
              "#7201a8"
             ],
             [
              0.3333333333333333,
              "#9c179e"
             ],
             [
              0.4444444444444444,
              "#bd3786"
             ],
             [
              0.5555555555555556,
              "#d8576b"
             ],
             [
              0.6666666666666666,
              "#ed7953"
             ],
             [
              0.7777777777777778,
              "#fb9f3a"
             ],
             [
              0.8888888888888888,
              "#fdca26"
             ],
             [
              1,
              "#f0f921"
             ]
            ],
            "type": "surface"
           }
          ],
          "table": [
           {
            "cells": {
             "fill": {
              "color": "#EBF0F8"
             },
             "line": {
              "color": "white"
             }
            },
            "header": {
             "fill": {
              "color": "#C8D4E3"
             },
             "line": {
              "color": "white"
             }
            },
            "type": "table"
           }
          ]
         },
         "layout": {
          "annotationdefaults": {
           "arrowcolor": "#2a3f5f",
           "arrowhead": 0,
           "arrowwidth": 1
          },
          "autotypenumbers": "strict",
          "coloraxis": {
           "colorbar": {
            "outlinewidth": 0,
            "ticks": ""
           }
          },
          "colorscale": {
           "diverging": [
            [
             0,
             "#8e0152"
            ],
            [
             0.1,
             "#c51b7d"
            ],
            [
             0.2,
             "#de77ae"
            ],
            [
             0.3,
             "#f1b6da"
            ],
            [
             0.4,
             "#fde0ef"
            ],
            [
             0.5,
             "#f7f7f7"
            ],
            [
             0.6,
             "#e6f5d0"
            ],
            [
             0.7,
             "#b8e186"
            ],
            [
             0.8,
             "#7fbc41"
            ],
            [
             0.9,
             "#4d9221"
            ],
            [
             1,
             "#276419"
            ]
           ],
           "sequential": [
            [
             0,
             "#0d0887"
            ],
            [
             0.1111111111111111,
             "#46039f"
            ],
            [
             0.2222222222222222,
             "#7201a8"
            ],
            [
             0.3333333333333333,
             "#9c179e"
            ],
            [
             0.4444444444444444,
             "#bd3786"
            ],
            [
             0.5555555555555556,
             "#d8576b"
            ],
            [
             0.6666666666666666,
             "#ed7953"
            ],
            [
             0.7777777777777778,
             "#fb9f3a"
            ],
            [
             0.8888888888888888,
             "#fdca26"
            ],
            [
             1,
             "#f0f921"
            ]
           ],
           "sequentialminus": [
            [
             0,
             "#0d0887"
            ],
            [
             0.1111111111111111,
             "#46039f"
            ],
            [
             0.2222222222222222,
             "#7201a8"
            ],
            [
             0.3333333333333333,
             "#9c179e"
            ],
            [
             0.4444444444444444,
             "#bd3786"
            ],
            [
             0.5555555555555556,
             "#d8576b"
            ],
            [
             0.6666666666666666,
             "#ed7953"
            ],
            [
             0.7777777777777778,
             "#fb9f3a"
            ],
            [
             0.8888888888888888,
             "#fdca26"
            ],
            [
             1,
             "#f0f921"
            ]
           ]
          },
          "colorway": [
           "#636efa",
           "#EF553B",
           "#00cc96",
           "#ab63fa",
           "#FFA15A",
           "#19d3f3",
           "#FF6692",
           "#B6E880",
           "#FF97FF",
           "#FECB52"
          ],
          "font": {
           "color": "#2a3f5f"
          },
          "geo": {
           "bgcolor": "white",
           "lakecolor": "white",
           "landcolor": "#E5ECF6",
           "showlakes": true,
           "showland": true,
           "subunitcolor": "white"
          },
          "hoverlabel": {
           "align": "left"
          },
          "hovermode": "closest",
          "mapbox": {
           "style": "light"
          },
          "paper_bgcolor": "white",
          "plot_bgcolor": "#E5ECF6",
          "polar": {
           "angularaxis": {
            "gridcolor": "white",
            "linecolor": "white",
            "ticks": ""
           },
           "bgcolor": "#E5ECF6",
           "radialaxis": {
            "gridcolor": "white",
            "linecolor": "white",
            "ticks": ""
           }
          },
          "scene": {
           "xaxis": {
            "backgroundcolor": "#E5ECF6",
            "gridcolor": "white",
            "gridwidth": 2,
            "linecolor": "white",
            "showbackground": true,
            "ticks": "",
            "zerolinecolor": "white"
           },
           "yaxis": {
            "backgroundcolor": "#E5ECF6",
            "gridcolor": "white",
            "gridwidth": 2,
            "linecolor": "white",
            "showbackground": true,
            "ticks": "",
            "zerolinecolor": "white"
           },
           "zaxis": {
            "backgroundcolor": "#E5ECF6",
            "gridcolor": "white",
            "gridwidth": 2,
            "linecolor": "white",
            "showbackground": true,
            "ticks": "",
            "zerolinecolor": "white"
           }
          },
          "shapedefaults": {
           "line": {
            "color": "#2a3f5f"
           }
          },
          "ternary": {
           "aaxis": {
            "gridcolor": "white",
            "linecolor": "white",
            "ticks": ""
           },
           "baxis": {
            "gridcolor": "white",
            "linecolor": "white",
            "ticks": ""
           },
           "bgcolor": "#E5ECF6",
           "caxis": {
            "gridcolor": "white",
            "linecolor": "white",
            "ticks": ""
           }
          },
          "title": {
           "x": 0.05
          },
          "xaxis": {
           "automargin": true,
           "gridcolor": "white",
           "linecolor": "white",
           "ticks": "",
           "title": {
            "standoff": 15
           },
           "zerolinecolor": "white",
           "zerolinewidth": 2
          },
          "yaxis": {
           "automargin": true,
           "gridcolor": "white",
           "linecolor": "white",
           "ticks": "",
           "title": {
            "standoff": 15
           },
           "zerolinecolor": "white",
           "zerolinewidth": 2
          }
         }
        }
       }
      }
     },
     "metadata": {},
     "output_type": "display_data"
    }
   ],
   "source": [
    "fig = go.Figure()\n",
    "fig.add_trace(\n",
    "    go.Scatter( x = profitAlpha['Alpha'], y = profitAlpha['ER'],\n",
    "        # name=\"Revenue\"\n",
    "    ))\n",
    "fig.add_trace(\n",
    "    go.Bar(\n",
    "        x=profitAlpha2['Alpha'],\n",
    "        y=profitAlpha2['ER'],\n",
    "        # name=\"Profit\"\n",
    "    ))\n",
    "fig.show()"
   ]
  },
  {
   "cell_type": "code",
   "execution_count": null,
   "metadata": {},
   "outputs": [],
   "source": []
  },
  {
   "attachments": {},
   "cell_type": "markdown",
   "metadata": {},
   "source": [
    "## q3 A"
   ]
  },
  {
   "cell_type": "code",
   "execution_count": 49,
   "metadata": {},
   "outputs": [
    {
     "name": "stdout",
     "output_type": "stream",
     "text": [
      "Gurobi Optimizer version 10.0.0 build v10.0.0rc2 (linux64)\n",
      "\n",
      "CPU model: 11th Gen Intel(R) Core(TM) i7-1165G7 @ 2.80GHz, instruction set [SSE2|AVX|AVX2|AVX512]\n",
      "Thread count: 4 physical cores, 8 logical processors, using up to 8 threads\n",
      "\n",
      "Optimize a model with 42 rows, 50 columns and 102 nonzeros\n",
      "Model fingerprint: 0xcb51c001\n",
      "Variable types: 0 continuous, 50 integer (0 binary)\n",
      "Coefficient statistics:\n",
      "  Matrix range     [1e+00, 1e+00]\n",
      "  Objective range  [2e-01, 1e+01]\n",
      "  Bounds range     [0e+00, 0e+00]\n",
      "  RHS range        [1e+03, 8e+03]\n",
      "Found heuristic solution: objective -0.0000000\n",
      "Presolve removed 24 rows and 12 columns\n",
      "Presolve time: 0.00s\n",
      "Presolved: 18 rows, 38 columns, 66 nonzeros\n",
      "Variable types: 0 continuous, 38 integer (0 binary)\n",
      "\n",
      "Root relaxation: objective 1.049990e+05, 15 iterations, 0.00 seconds (0.00 work units)\n",
      "\n",
      "    Nodes    |    Current Node    |     Objective Bounds      |     Work\n",
      " Expl Unexpl |  Obj  Depth IntInf | Incumbent    BestBd   Gap | It/Node Time\n",
      "\n",
      "*    0     0               0    104999.00000 104999.000  0.00%     -    0s\n",
      "\n",
      "Explored 1 nodes (15 simplex iterations) in 0.01 seconds (0.00 work units)\n",
      "Thread count was 8 (of 8 available processors)\n",
      "\n",
      "Solution count 2: 104999 -0 \n",
      "\n",
      "Optimal solution found (tolerance 1.00e-04)\n",
      "Best objective 1.049990000000e+05, best bound 1.049990000000e+05, gap 0.0000%\n",
      "Optimal Value: 104999.0\n",
      "\n",
      "    Variable            X \n",
      "-------------------------\n",
      "prodcution[WA]         6700 \n",
      "prodcution[WB]        10000 \n",
      "transport[WA,1,A]         5000 \n",
      "transport[WA,1,B]         3000 \n",
      "transport[WA,1,C]         4200 \n",
      "transport[WA,2,A]          800 \n",
      "transport[WA,4,A]          900 \n",
      "transport[WA,4,C]         2500 \n",
      "transport[WB,2,A]         2200 \n",
      "transport[WB,2,B]         1000 \n",
      "transport[WB,2,C]         4100 \n",
      "transport[WB,3,A]         7800 \n",
      "transport[WB,3,B]         6000 \n",
      "transport[WB,3,C]         3000 \n",
      "transport[WB,4,B]         3000 \n",
      "transport[WB,4,C]         2900 \n",
      "inventory[1,A]         5000 \n",
      "inventory[1,B]         3000 \n",
      "inventory[1,C]         4200 \n",
      "inventory[2,A]         3000 \n",
      "inventory[2,B]         1000 \n",
      "inventory[2,C]         4100 \n",
      "inventory[3,A]         7800 \n",
      "inventory[3,B]         6000 \n",
      "inventory[3,C]         3000 \n",
      "inventory[4,A]          900 \n",
      "inventory[4,B]         3000 \n",
      "inventory[4,C]         5400 \n",
      "   sold[1,A]         5000 \n",
      "   sold[1,B]         3000 \n",
      "   sold[1,C]         4200 \n",
      "   sold[2,A]         3000 \n",
      "   sold[2,B]         1000 \n",
      "   sold[2,C]         4100 \n",
      "   sold[3,A]         7800 \n",
      "   sold[3,B]         6000 \n",
      "   sold[3,C]         3000 \n",
      "   sold[4,A]          900 \n",
      "   sold[4,B]         3000 \n",
      "   sold[4,C]         5400 \n"
     ]
    }
   ],
   "source": [
    "Scenaria = [\"A\", \"B\", \"C\"]\n",
    "\n",
    "probs = {\"A\": 0.3, \"B\": 0.2, \"C\": 0.5}\n",
    "\n",
    "demands = {(\"A\", \"1\") : 5, (\"A\", \"2\") : 3, (\"A\", \"3\") : 7.8, (\"A\", \"4\") : 4,\n",
    "(\"B\", \"1\") : 3, (\"B\", \"2\") : 1, (\"B\", \"3\") : 6, (\"B\", \"4\") : 3,\n",
    "(\"C\", \"1\") : 4.2, (\"C\", \"2\") : 4.1, (\"C\", \"3\") : 3, (\"C\", \"4\") : 5.4, }\n",
    "\n",
    "distribution_centers = (\"1\", \"2\", \"3\", \"4\")\n",
    "\n",
    "\n",
    "\n",
    "\n",
    "production_cost = 10\n",
    "\n",
    "profit = 20\n",
    "\n",
    "warehouses = (\"WA\", \"WB\")\n",
    "\n",
    "transport_warehouse = {\"WA\": 1, \"WB\": 1.5}\n",
    "transportation_costs = {(\"WA\", \"1\") : 1.5, (\"WA\", \"2\") : 2, (\"WA\", \"3\") : 2, (\"WA\", \"4\"): 3,\n",
    "(\"WB\", \"1\") : 2, (\"WB\", \"2\") : 1.2, (\"WB\", \"3\") : 1.1, (\"WB\", \"4\"): 2.5}\n",
    "\n",
    "model = gp.Model()\n",
    "\n",
    "# first stage model\n",
    "p = model.addVars(warehouses, vtype = gp.GRB.INTEGER, name = \"prodcution\")\n",
    "\n",
    "# second stage model\n",
    "d_wdc = model.addVars(warehouses, distribution_centers, Scenaria, vtype = gp.GRB.INTEGER, name = \"transport\")\n",
    "inventory_d = model.addVars(distribution_centers, Scenaria, vtype = gp.GRB.INTEGER, name = \"inventory\")\n",
    "\n",
    "sold_d = model.addVars(distribution_centers, Scenaria, vtype = gp.GRB.INTEGER, name = \"sold\")\n",
    "\n",
    "model.setObjective(gp.quicksum(profit * probs[s] * sold_d[d,s] for s in Scenaria for d in distribution_centers) \n",
    "- gp.quicksum(d_wdc[w,d,s] * transportation_costs[w,d]* probs[s] for s in Scenaria for w in warehouses for d in distribution_centers) \n",
    "- gp.quicksum(p[w]*(production_cost + transport_warehouse[w]) for w in warehouses   ))\n",
    "\n",
    "\n",
    "model.addConstrs((gp.quicksum(d_wdc[w,d,s]    for d in distribution_centers    )   <= p[w] for w in warehouses for s in Scenaria ), name = \"receive_constraint\")\n",
    "model.addConstrs((inventory_d[d, s] == gp.quicksum(d_wdc[w,d,s] for w in warehouses) for d in distribution_centers for s in Scenaria), name = \"distro_receive_sent_limit\")\n",
    "\n",
    "\n",
    "model.addConstrs((sold_d[d,s] <= inventory_d[d, s] for d in distribution_centers for s in Scenaria), name = \"sold_constraint\")\n",
    "\n",
    "\n",
    "model.addConstrs((sold_d[d,s] <= demands[s, d] * 1000 for d in distribution_centers for s in Scenaria), name = \"sold_constraint\")\n",
    "\n",
    "model.ModelSense = gp.GRB.MAXIMIZE\n",
    "model.optimize()\n",
    "print(\"Optimal Value:\", model.Objval )\n",
    "\n",
    "model.printAttr(\"X\")\n"
   ]
  },
  {
   "attachments": {},
   "cell_type": "markdown",
   "metadata": {},
   "source": [
    "## q3 b"
   ]
  },
  {
   "cell_type": "code",
   "execution_count": 113,
   "metadata": {},
   "outputs": [
    {
     "ename": "KeyError",
     "evalue": "('WH-Seville', 'DC-Vienna')",
     "output_type": "error",
     "traceback": [
      "\u001b[0;31m---------------------------------------------------------------------------\u001b[0m",
      "\u001b[0;31mKeyError\u001b[0m                                  Traceback (most recent call last)",
      "\u001b[1;32m/home/angelo/Documents/Uni/Courses/Management Science/MM_Code_repo/Projects_MM/Assignments/Assignment3/assignemnt2.ipynb Cell 30\u001b[0m in \u001b[0;36m<cell line: 59>\u001b[0;34m()\u001b[0m\n\u001b[1;32m     <a href='vscode-notebook-cell:/home/angelo/Documents/Uni/Courses/Management%20Science/MM_Code_repo/Projects_MM/Assignments/Assignment3/assignemnt2.ipynb#X44sZmlsZQ%3D%3D?line=51'>52</a>\u001b[0m inventory_d \u001b[39m=\u001b[39m model\u001b[39m.\u001b[39maddVars(distribution_centers, Scenaria,\n\u001b[1;32m     <a href='vscode-notebook-cell:/home/angelo/Documents/Uni/Courses/Management%20Science/MM_Code_repo/Projects_MM/Assignments/Assignment3/assignemnt2.ipynb#X44sZmlsZQ%3D%3D?line=52'>53</a>\u001b[0m                              vtype \u001b[39m=\u001b[39m gp\u001b[39m.\u001b[39mGRB\u001b[39m.\u001b[39mINTEGER, name \u001b[39m=\u001b[39m \u001b[39m\"\u001b[39m\u001b[39minventory\u001b[39m\u001b[39m\"\u001b[39m)\n\u001b[1;32m     <a href='vscode-notebook-cell:/home/angelo/Documents/Uni/Courses/Management%20Science/MM_Code_repo/Projects_MM/Assignments/Assignment3/assignemnt2.ipynb#X44sZmlsZQ%3D%3D?line=54'>55</a>\u001b[0m sold_d \u001b[39m=\u001b[39m model\u001b[39m.\u001b[39maddVars(distribution_centers, Scenaria, \n\u001b[1;32m     <a href='vscode-notebook-cell:/home/angelo/Documents/Uni/Courses/Management%20Science/MM_Code_repo/Projects_MM/Assignments/Assignment3/assignemnt2.ipynb#X44sZmlsZQ%3D%3D?line=55'>56</a>\u001b[0m                         vtype \u001b[39m=\u001b[39m gp\u001b[39m.\u001b[39mGRB\u001b[39m.\u001b[39mINTEGER, name \u001b[39m=\u001b[39m \u001b[39m\"\u001b[39m\u001b[39msold\u001b[39m\u001b[39m\"\u001b[39m)\n\u001b[1;32m     <a href='vscode-notebook-cell:/home/angelo/Documents/Uni/Courses/Management%20Science/MM_Code_repo/Projects_MM/Assignments/Assignment3/assignemnt2.ipynb#X44sZmlsZQ%3D%3D?line=58'>59</a>\u001b[0m model\u001b[39m.\u001b[39msetObjective(gp\u001b[39m.\u001b[39mquicksum(profit \u001b[39m*\u001b[39m probs[s] \u001b[39m*\u001b[39m sold_d[d,s] \u001b[39mfor\u001b[39;00m s \u001b[39min\u001b[39;00m Scenaria \u001b[39mfor\u001b[39;00m d \u001b[39min\u001b[39;00m distribution_centers) \n\u001b[0;32m---> <a href='vscode-notebook-cell:/home/angelo/Documents/Uni/Courses/Management%20Science/MM_Code_repo/Projects_MM/Assignments/Assignment3/assignemnt2.ipynb#X44sZmlsZQ%3D%3D?line=59'>60</a>\u001b[0m                     \u001b[39m-\u001b[39m gp\u001b[39m.\u001b[39;49mquicksum(d_wdc[w,d,s] \u001b[39m*\u001b[39;49m transportation_costs[w,d]\u001b[39m*\u001b[39;49m probs[s] \u001b[39mfor\u001b[39;49;00m s \u001b[39min\u001b[39;49;00m Scenaria \u001b[39mfor\u001b[39;49;00m w \u001b[39min\u001b[39;49;00m warehouses \u001b[39mfor\u001b[39;49;00m d \u001b[39min\u001b[39;49;00m distribution_centers) \n\u001b[1;32m     <a href='vscode-notebook-cell:/home/angelo/Documents/Uni/Courses/Management%20Science/MM_Code_repo/Projects_MM/Assignments/Assignment3/assignemnt2.ipynb#X44sZmlsZQ%3D%3D?line=60'>61</a>\u001b[0m                     \u001b[39m-\u001b[39m gp\u001b[39m.\u001b[39mquicksum(p[w]\u001b[39m*\u001b[39m(production_cost \u001b[39m+\u001b[39m transport_warehouse[w]) \u001b[39mfor\u001b[39;00m w \u001b[39min\u001b[39;00m warehouses   )\n\u001b[1;32m     <a href='vscode-notebook-cell:/home/angelo/Documents/Uni/Courses/Management%20Science/MM_Code_repo/Projects_MM/Assignments/Assignment3/assignemnt2.ipynb#X44sZmlsZQ%3D%3D?line=61'>62</a>\u001b[0m                     \u001b[39m-\u001b[39m gp\u001b[39m.\u001b[39mquicksum(x[w] \u001b[39m*\u001b[39m fixedcosts \u001b[39mfor\u001b[39;00m w \u001b[39min\u001b[39;00m warehouses)\n\u001b[1;32m     <a href='vscode-notebook-cell:/home/angelo/Documents/Uni/Courses/Management%20Science/MM_Code_repo/Projects_MM/Assignments/Assignment3/assignemnt2.ipynb#X44sZmlsZQ%3D%3D?line=62'>63</a>\u001b[0m                     )\n\u001b[1;32m     <a href='vscode-notebook-cell:/home/angelo/Documents/Uni/Courses/Management%20Science/MM_Code_repo/Projects_MM/Assignments/Assignment3/assignemnt2.ipynb#X44sZmlsZQ%3D%3D?line=64'>65</a>\u001b[0m model\u001b[39m.\u001b[39maddConstrs((gp\u001b[39m.\u001b[39mquicksum(d_wdc[w,d,s]    \u001b[39mfor\u001b[39;00m d \u001b[39min\u001b[39;00m distribution_centers    )   \u001b[39m<\u001b[39m\u001b[39m=\u001b[39m p[w]\u001b[39m*\u001b[39mx[w] \u001b[39mfor\u001b[39;00m w \u001b[39min\u001b[39;00m warehouses \u001b[39mfor\u001b[39;00m s \u001b[39min\u001b[39;00m Scenaria ), name \u001b[39m=\u001b[39m \u001b[39m\"\u001b[39m\u001b[39msent_production_limit\u001b[39m\u001b[39m\"\u001b[39m)\n\u001b[1;32m     <a href='vscode-notebook-cell:/home/angelo/Documents/Uni/Courses/Management%20Science/MM_Code_repo/Projects_MM/Assignments/Assignment3/assignemnt2.ipynb#X44sZmlsZQ%3D%3D?line=66'>67</a>\u001b[0m model\u001b[39m.\u001b[39maddConstrs((inventory_d[d,s] \u001b[39m==\u001b[39m gp\u001b[39m.\u001b[39mquicksum( d_wdc[w,d,s] \u001b[39mfor\u001b[39;00m w \u001b[39min\u001b[39;00m warehouses) \u001b[39mfor\u001b[39;00m d \u001b[39min\u001b[39;00m distribution_centers \u001b[39mfor\u001b[39;00m s \u001b[39min\u001b[39;00m Scenaria),\n\u001b[1;32m     <a href='vscode-notebook-cell:/home/angelo/Documents/Uni/Courses/Management%20Science/MM_Code_repo/Projects_MM/Assignments/Assignment3/assignemnt2.ipynb#X44sZmlsZQ%3D%3D?line=67'>68</a>\u001b[0m                     name\u001b[39m=\u001b[39m\u001b[39m\"\u001b[39m\u001b[39mdistro_receive_sent_limit\u001b[39m\u001b[39m\"\u001b[39m)\n",
      "File \u001b[0;32msrc/gurobipy/gurobi.pxi:3706\u001b[0m, in \u001b[0;36mgurobipy.quicksum\u001b[0;34m()\u001b[0m\n",
      "\u001b[1;32m/home/angelo/Documents/Uni/Courses/Management Science/MM_Code_repo/Projects_MM/Assignments/Assignment3/assignemnt2.ipynb Cell 30\u001b[0m in \u001b[0;36m<genexpr>\u001b[0;34m(.0)\u001b[0m\n\u001b[1;32m     <a href='vscode-notebook-cell:/home/angelo/Documents/Uni/Courses/Management%20Science/MM_Code_repo/Projects_MM/Assignments/Assignment3/assignemnt2.ipynb#X44sZmlsZQ%3D%3D?line=51'>52</a>\u001b[0m inventory_d \u001b[39m=\u001b[39m model\u001b[39m.\u001b[39maddVars(distribution_centers, Scenaria,\n\u001b[1;32m     <a href='vscode-notebook-cell:/home/angelo/Documents/Uni/Courses/Management%20Science/MM_Code_repo/Projects_MM/Assignments/Assignment3/assignemnt2.ipynb#X44sZmlsZQ%3D%3D?line=52'>53</a>\u001b[0m                              vtype \u001b[39m=\u001b[39m gp\u001b[39m.\u001b[39mGRB\u001b[39m.\u001b[39mINTEGER, name \u001b[39m=\u001b[39m \u001b[39m\"\u001b[39m\u001b[39minventory\u001b[39m\u001b[39m\"\u001b[39m)\n\u001b[1;32m     <a href='vscode-notebook-cell:/home/angelo/Documents/Uni/Courses/Management%20Science/MM_Code_repo/Projects_MM/Assignments/Assignment3/assignemnt2.ipynb#X44sZmlsZQ%3D%3D?line=54'>55</a>\u001b[0m sold_d \u001b[39m=\u001b[39m model\u001b[39m.\u001b[39maddVars(distribution_centers, Scenaria, \n\u001b[1;32m     <a href='vscode-notebook-cell:/home/angelo/Documents/Uni/Courses/Management%20Science/MM_Code_repo/Projects_MM/Assignments/Assignment3/assignemnt2.ipynb#X44sZmlsZQ%3D%3D?line=55'>56</a>\u001b[0m                         vtype \u001b[39m=\u001b[39m gp\u001b[39m.\u001b[39mGRB\u001b[39m.\u001b[39mINTEGER, name \u001b[39m=\u001b[39m \u001b[39m\"\u001b[39m\u001b[39msold\u001b[39m\u001b[39m\"\u001b[39m)\n\u001b[1;32m     <a href='vscode-notebook-cell:/home/angelo/Documents/Uni/Courses/Management%20Science/MM_Code_repo/Projects_MM/Assignments/Assignment3/assignemnt2.ipynb#X44sZmlsZQ%3D%3D?line=58'>59</a>\u001b[0m model\u001b[39m.\u001b[39msetObjective(gp\u001b[39m.\u001b[39mquicksum(profit \u001b[39m*\u001b[39m probs[s] \u001b[39m*\u001b[39m sold_d[d,s] \u001b[39mfor\u001b[39;00m s \u001b[39min\u001b[39;00m Scenaria \u001b[39mfor\u001b[39;00m d \u001b[39min\u001b[39;00m distribution_centers) \n\u001b[0;32m---> <a href='vscode-notebook-cell:/home/angelo/Documents/Uni/Courses/Management%20Science/MM_Code_repo/Projects_MM/Assignments/Assignment3/assignemnt2.ipynb#X44sZmlsZQ%3D%3D?line=59'>60</a>\u001b[0m                     \u001b[39m-\u001b[39m gp\u001b[39m.\u001b[39mquicksum(d_wdc[w,d,s] \u001b[39m*\u001b[39m transportation_costs[w,d]\u001b[39m*\u001b[39m probs[s] \u001b[39mfor\u001b[39;00m s \u001b[39min\u001b[39;00m Scenaria \u001b[39mfor\u001b[39;00m w \u001b[39min\u001b[39;00m warehouses \u001b[39mfor\u001b[39;00m d \u001b[39min\u001b[39;00m distribution_centers) \n\u001b[1;32m     <a href='vscode-notebook-cell:/home/angelo/Documents/Uni/Courses/Management%20Science/MM_Code_repo/Projects_MM/Assignments/Assignment3/assignemnt2.ipynb#X44sZmlsZQ%3D%3D?line=60'>61</a>\u001b[0m                     \u001b[39m-\u001b[39m gp\u001b[39m.\u001b[39mquicksum(p[w]\u001b[39m*\u001b[39m(production_cost \u001b[39m+\u001b[39m transport_warehouse[w]) \u001b[39mfor\u001b[39;00m w \u001b[39min\u001b[39;00m warehouses   )\n\u001b[1;32m     <a href='vscode-notebook-cell:/home/angelo/Documents/Uni/Courses/Management%20Science/MM_Code_repo/Projects_MM/Assignments/Assignment3/assignemnt2.ipynb#X44sZmlsZQ%3D%3D?line=61'>62</a>\u001b[0m                     \u001b[39m-\u001b[39m gp\u001b[39m.\u001b[39mquicksum(x[w] \u001b[39m*\u001b[39m fixedcosts \u001b[39mfor\u001b[39;00m w \u001b[39min\u001b[39;00m warehouses)\n\u001b[1;32m     <a href='vscode-notebook-cell:/home/angelo/Documents/Uni/Courses/Management%20Science/MM_Code_repo/Projects_MM/Assignments/Assignment3/assignemnt2.ipynb#X44sZmlsZQ%3D%3D?line=62'>63</a>\u001b[0m                     )\n\u001b[1;32m     <a href='vscode-notebook-cell:/home/angelo/Documents/Uni/Courses/Management%20Science/MM_Code_repo/Projects_MM/Assignments/Assignment3/assignemnt2.ipynb#X44sZmlsZQ%3D%3D?line=64'>65</a>\u001b[0m model\u001b[39m.\u001b[39maddConstrs((gp\u001b[39m.\u001b[39mquicksum(d_wdc[w,d,s]    \u001b[39mfor\u001b[39;00m d \u001b[39min\u001b[39;00m distribution_centers    )   \u001b[39m<\u001b[39m\u001b[39m=\u001b[39m p[w]\u001b[39m*\u001b[39mx[w] \u001b[39mfor\u001b[39;00m w \u001b[39min\u001b[39;00m warehouses \u001b[39mfor\u001b[39;00m s \u001b[39min\u001b[39;00m Scenaria ), name \u001b[39m=\u001b[39m \u001b[39m\"\u001b[39m\u001b[39msent_production_limit\u001b[39m\u001b[39m\"\u001b[39m)\n\u001b[1;32m     <a href='vscode-notebook-cell:/home/angelo/Documents/Uni/Courses/Management%20Science/MM_Code_repo/Projects_MM/Assignments/Assignment3/assignemnt2.ipynb#X44sZmlsZQ%3D%3D?line=66'>67</a>\u001b[0m model\u001b[39m.\u001b[39maddConstrs((inventory_d[d,s] \u001b[39m==\u001b[39m gp\u001b[39m.\u001b[39mquicksum( d_wdc[w,d,s] \u001b[39mfor\u001b[39;00m w \u001b[39min\u001b[39;00m warehouses) \u001b[39mfor\u001b[39;00m d \u001b[39min\u001b[39;00m distribution_centers \u001b[39mfor\u001b[39;00m s \u001b[39min\u001b[39;00m Scenaria),\n\u001b[1;32m     <a href='vscode-notebook-cell:/home/angelo/Documents/Uni/Courses/Management%20Science/MM_Code_repo/Projects_MM/Assignments/Assignment3/assignemnt2.ipynb#X44sZmlsZQ%3D%3D?line=67'>68</a>\u001b[0m                     name\u001b[39m=\u001b[39m\u001b[39m\"\u001b[39m\u001b[39mdistro_receive_sent_limit\u001b[39m\u001b[39m\"\u001b[39m)\n",
      "\u001b[0;31mKeyError\u001b[0m: ('WH-Seville', 'DC-Vienna')"
     ]
    }
   ],
   "source": [
    "\n",
    "transport_costs = pd.read_csv(\"/home/angelo/Documents/Uni/Courses/Management Science/MM_Code_repo/data/TranportationCosts.csv\")\n",
    "demands = pd.read_csv(\"/home/angelo/Documents/Uni/Courses/Management Science/MM_Code_repo/data/demand.csv\")\n",
    "\n",
    "Scenaria = list(demands.columns)[1:]\n",
    "\n",
    "probs={}\n",
    "for i in range(0, len(Scenaria)):\n",
    "    probs[Scenaria[i]] = 1/100\n",
    "\n",
    "\n",
    "production_cost = 10\n",
    "profit = 20\n",
    "fixedcosts = 10**5\n",
    "\n",
    "demand = {}\n",
    "distribution_centers = list(demands.loc[:, \"DistributionCenter\"])\n",
    "\n",
    "for d in range(0, len(demands)):\n",
    "    for s in range(1, len(demands.columns)):\n",
    "        key = (distribution_centers[d], Scenaria[s-1])\n",
    "        value = demands.loc[d, Scenaria[s-1]]\n",
    "        demand[key] = value \n",
    "\n",
    "\n",
    "\n",
    "warehouses = list (transport_costs.loc[:, \"Warehouse\"])\n",
    "transport_warehouse={}\n",
    "for w in range(0, len(transport_costs)):\n",
    "    key = warehouses[w]\n",
    "    value = transport_costs.loc[w, \"PFacility\"]\n",
    "    transport_warehouse[key] = value\n",
    "\n",
    "transport_costs = {}\n",
    "for w in range(0, len(transport_costs)):\n",
    "    for d in range(2, len(transport_costs.columns)): \n",
    "        key = (warehouses[w], distribution_centers[d- 2])\n",
    "        value = transport_costs.loc[w, distribution_centers[d - 2]]\n",
    "        transportation_costs[key] = value \n",
    "\n",
    "\n",
    "model = gp.Model()\n",
    "\n",
    "model.ModelSense = gp.GRB.MAXIMIZE\n",
    "# first stage \n",
    "\n",
    "p = model.addVars(warehouses, vtype = gp.GRB.INTEGER, name = \"prodcution\")\n",
    "x = model.addVars(warehouses, vtype = gp.GRB.BINARY, name = \"investment\")\n",
    "\n",
    "# second stage \n",
    "\n",
    "d_wdc = model.addVars(warehouses, distribution_centers, Scenaria, \n",
    "                        vtype = gp.GRB.INTEGER, name = \"transport\")\n",
    "                        \n",
    "inventory_d = model.addVars(distribution_centers, Scenaria,\n",
    "                             vtype = gp.GRB.INTEGER, name = \"inventory\")\n",
    "\n",
    "sold_d = model.addVars(distribution_centers, Scenaria, \n",
    "                        vtype = gp.GRB.INTEGER, name = \"sold\")\n",
    "\n",
    "\n",
    "model.setObjective(gp.quicksum(profit * probs[s] * sold_d[d,s] for s in Scenaria for d in distribution_centers) \n",
    "                    - gp.quicksum(d_wdc[w,d,s] * transportation_costs[w,d]* probs[s] for s in Scenaria for w in warehouses for d in distribution_centers) \n",
    "                    - gp.quicksum(p[w]*(production_cost + transport_warehouse[w]) for w in warehouses   )\n",
    "                    - gp.quicksum(x[w] * fixedcosts for w in warehouses)\n",
    "                    )\n",
    "\n",
    "model.addConstrs((gp.quicksum(d_wdc[w,d,s]    for d in distribution_centers    )   <= p[w]*x[w] for w in warehouses for s in Scenaria ), name = \"sent_production_limit\")\n",
    "\n",
    "model.addConstrs((inventory_d[d,s] == gp.quicksum( d_wdc[w,d,s] for w in warehouses) for d in distribution_centers for s in Scenaria),\n",
    "                    name=\"distro_receive_sent_limit\")\n",
    "\n",
    "model.addConstrs((sold_d[d, s] <= inventory_d[d, s] * 1000 for d in distribution_centers for s in Scenaria), name = \"sent_production_limit\"   )\n",
    "\n",
    "model.addConstrs((sold_d[d, s] <= demands[d, s] * 1000 for d in distribution_centers for s in Scenaria), name = \"sent_production_limit\"   )\n",
    "\n",
    "\n",
    "model.optimize()\n",
    "print(\"Optimal Value:\", model.Objval )\n",
    "\n",
    "model.printAttr(\"X\")\n",
    "\n",
    "\n",
    "\n",
    "\n",
    "\n",
    "\n"
   ]
  },
  {
   "cell_type": "code",
   "execution_count": 114,
   "metadata": {},
   "outputs": [
    {
     "data": {
      "text/plain": [
       "['S1',\n",
       " 'S2',\n",
       " 'S3',\n",
       " 'S4',\n",
       " 'S5',\n",
       " 'S6',\n",
       " 'S7',\n",
       " 'S8',\n",
       " 'S9',\n",
       " 'S10',\n",
       " 'S11',\n",
       " 'S12',\n",
       " 'S13',\n",
       " 'S14',\n",
       " 'S15',\n",
       " 'S16',\n",
       " 'S17',\n",
       " 'S18',\n",
       " 'S19',\n",
       " 'S20',\n",
       " 'S21',\n",
       " 'S22',\n",
       " 'S23',\n",
       " 'S24',\n",
       " 'S25',\n",
       " 'S26',\n",
       " 'S27',\n",
       " 'S28',\n",
       " 'S29',\n",
       " 'S30',\n",
       " 'S31',\n",
       " 'S32',\n",
       " 'S33',\n",
       " 'S34',\n",
       " 'S35',\n",
       " 'S36',\n",
       " 'S37',\n",
       " 'S38',\n",
       " 'S39',\n",
       " 'S40',\n",
       " 'S41',\n",
       " 'S42',\n",
       " 'S43',\n",
       " 'S44',\n",
       " 'S45',\n",
       " 'S46',\n",
       " 'S47',\n",
       " 'S48',\n",
       " 'S49',\n",
       " 'S50',\n",
       " 'S51',\n",
       " 'S52',\n",
       " 'S53',\n",
       " 'S54',\n",
       " 'S55',\n",
       " 'S56',\n",
       " 'S57',\n",
       " 'S58',\n",
       " 'S59',\n",
       " 'S60',\n",
       " 'S61',\n",
       " 'S62',\n",
       " 'S63',\n",
       " 'S64',\n",
       " 'S65',\n",
       " 'S66',\n",
       " 'S67',\n",
       " 'S68',\n",
       " 'S69',\n",
       " 'S70',\n",
       " 'S71',\n",
       " 'S72',\n",
       " 'S73',\n",
       " 'S74',\n",
       " 'S75',\n",
       " 'S76',\n",
       " 'S77',\n",
       " 'S78',\n",
       " 'S79',\n",
       " 'S80',\n",
       " 'S81',\n",
       " 'S82',\n",
       " 'S83',\n",
       " 'S84',\n",
       " 'S85',\n",
       " 'S86',\n",
       " 'S87',\n",
       " 'S88',\n",
       " 'S89',\n",
       " 'S90',\n",
       " 'S91',\n",
       " 'S92',\n",
       " 'S93',\n",
       " 'S94',\n",
       " 'S95',\n",
       " 'S96',\n",
       " 'S97',\n",
       " 'S98',\n",
       " 'S99',\n",
       " 'S100']"
      ]
     },
     "execution_count": 114,
     "metadata": {},
     "output_type": "execute_result"
    }
   ],
   "source": [
    "Scenaria"
   ]
  },
  {
   "cell_type": "markdown",
   "metadata": {},
   "source": []
  },
  {
   "cell_type": "code",
   "execution_count": 105,
   "metadata": {},
   "outputs": [
    {
     "ename": "KeyError",
     "evalue": "(22, 40)",
     "output_type": "error",
     "traceback": [
      "\u001b[0;31m---------------------------------------------------------------------------\u001b[0m",
      "\u001b[0;31mKeyError\u001b[0m                                  Traceback (most recent call last)",
      "\u001b[1;32m/home/angelo/Documents/Uni/Courses/Management Science/MM_Code_repo/Projects_MM/Assignments/Assignment3/assignemnt2.ipynb Cell 33\u001b[0m in \u001b[0;36m<cell line: 1>\u001b[0;34m()\u001b[0m\n\u001b[0;32m----> <a href='vscode-notebook-cell:/home/angelo/Documents/Uni/Courses/Management%20Science/MM_Code_repo/Projects_MM/Assignments/Assignment3/assignemnt2.ipynb#X46sZmlsZQ%3D%3D?line=0'>1</a>\u001b[0m transportation_costs[w,d]\n",
      "\u001b[0;31mKeyError\u001b[0m: (22, 40)"
     ]
    }
   ],
   "source": [
    "transportation_costs[w,d]"
   ]
  },
  {
   "cell_type": "code",
   "execution_count": null,
   "metadata": {},
   "outputs": [],
   "source": [
    "(distribution_centers[d], Scenaria[s-1])"
   ]
  },
  {
   "cell_type": "code",
   "execution_count": null,
   "metadata": {},
   "outputs": [],
   "source": []
  }
 ],
 "metadata": {
  "kernelspec": {
   "display_name": "Python 3 (ipykernel)",
   "language": "python",
   "name": "python3"
  },
  "language_info": {
   "codemirror_mode": {
    "name": "ipython",
    "version": 3
   },
   "file_extension": ".py",
   "mimetype": "text/x-python",
   "name": "python",
   "nbconvert_exporter": "python",
   "pygments_lexer": "ipython3",
   "version": "3.9.12"
  },
  "vscode": {
   "interpreter": {
    "hash": "e966e82fb3c605e4fcb54f010c309953dd9ddd50bea9aabbece184eb44f987ff"
   }
  }
 },
 "nbformat": 4,
 "nbformat_minor": 2
}
