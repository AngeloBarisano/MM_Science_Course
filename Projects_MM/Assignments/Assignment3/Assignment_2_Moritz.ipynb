{
 "cells": [
  {
   "cell_type": "markdown",
   "metadata": {},
   "source": [
    "# Individual Assignment 2 - Moritz Voss 482724"
   ]
  },
  {
   "cell_type": "markdown",
   "metadata": {},
   "source": [
    "## Import libraries"
   ]
  },
  {
   "cell_type": "code",
   "execution_count": 3,
   "metadata": {},
   "outputs": [],
   "source": [
    "import pandas as pd\n",
    "import gurobipy as gp\n",
    "import numpy as np\n",
    "import seaborn as sn\n",
    "import matplotlib.pyplot as plt\n",
    "import plotly.express as px"
   ]
  },
  {
   "cell_type": "markdown",
   "metadata": {},
   "source": [
    "## Q1"
   ]
  },
  {
   "cell_type": "code",
   "execution_count": 2,
   "metadata": {},
   "outputs": [
    {
     "name": "stdout",
     "output_type": "stream",
     "text": [
      "Set parameter Username\n",
      "Academic license - for non-commercial use only - expires 2023-11-03\n",
      "Gurobi Optimizer version 10.0.0 build v10.0.0rc2 (mac64[rosetta2])\n",
      "\n",
      "CPU model: Apple M1 Pro\n",
      "Thread count: 8 physical cores, 8 logical processors, using up to 8 threads\n",
      "\n",
      "Optimize a model with 9 rows, 20 columns and 40 nonzeros\n",
      "Model fingerprint: 0x69b34e51\n",
      "Variable types: 0 continuous, 20 integer (20 binary)\n",
      "Coefficient statistics:\n",
      "  Matrix range     [1e+00, 1e+00]\n",
      "  Objective range  [3e+01, 4e+01]\n",
      "  Bounds range     [1e+00, 1e+00]\n",
      "  RHS range        [1e+00, 1e+00]\n",
      "Found heuristic solution: objective 136.3000000\n",
      "Presolve time: 0.00s\n",
      "Presolved: 9 rows, 20 columns, 40 nonzeros\n",
      "Variable types: 0 continuous, 20 integer (20 binary)\n",
      "Found heuristic solution: objective 135.8000000\n",
      "\n",
      "Root relaxation: objective 1.287000e+02, 8 iterations, 0.00 seconds (0.00 work units)\n",
      "\n",
      "    Nodes    |    Current Node    |     Objective Bounds      |     Work\n",
      " Expl Unexpl |  Obj  Depth IntInf | Incumbent    BestBd   Gap | It/Node Time\n",
      "\n",
      "*    0     0               0     128.7000000  128.70000  0.00%     -    0s\n",
      "\n",
      "Explored 1 nodes (8 simplex iterations) in 0.01 seconds (0.00 work units)\n",
      "Thread count was 8 (of 8 available processors)\n",
      "\n",
      "Solution count 3: 128.7 135.8 136.3 \n",
      "\n",
      "Optimal solution found (tolerance 1.00e-04)\n",
      "Best objective 1.287000000000e+02, best bound 1.287000000000e+02, gap 0.0000%\n",
      "\n",
      "    Variable            X \n",
      "-------------------------\n",
      "   [Mary,FR]            1 \n",
      "   [Lina,BR]            1 \n",
      "   [Asma,BA]            1 \n",
      "  [Carol,BU]            1 \n",
      "128.7\n"
     ]
    }
   ],
   "source": [
    "dic_swim1 = {('Nadine', 'BA'): 40.1, ('Nadine', 'BR'): 41.7, ('Nadine', 'BU'): 41.1, ('Nadine', 'FR'): 33.3, ('Mary', 'BA'): 39.6, ('Mary', 'BR'): 37.6, ('Mary', 'BU'): 31.9, \n",
    "            ('Mary', 'FR'): 31.2, ('Lina', 'BA'): 35.3, ('Lina', 'BR'): 37.9, ('Lina', 'BU'): 36.2, ('Lina', 'FR'): 33.1, ('Asma', 'BA'): 30.6, ('Asma', 'BR'): 34.1, \n",
    "            ('Asma', 'BU'): 33.3, ('Asma', 'FR'): 29.1, ('Carol', 'BA'): 36.9, ('Carol', 'BR'): 37.2, ('Carol', 'BU'): 29.0, ('Carol', 'FR'): 31.6}\n",
    "\n",
    "names = ['Nadine', 'Mary', 'Lina', 'Asma', 'Carol']\n",
    "styles = ['BA', 'BR', 'BU', 'FR']\n",
    "\n",
    "model = gp.Model()\n",
    "    \n",
    "# X mdoels all permutation \n",
    "x = model.addVars(dic_swim1, obj = dic_swim1, vtype=gp.GRB.BINARY, name = ' ')\n",
    "model.ModelSense = gp.GRB.MINIMIZE\n",
    "\n",
    "# Constarint\n",
    "for i in names:\n",
    "    model.addConstr(gp.quicksum((x[(i, j)] for j in styles)) <= 1)\n",
    "    \n",
    "for j in styles:\n",
    "    model.addConstr(gp.quicksum((x[(i, j)] for i in names)) == 1)\n",
    "    \n",
    "model.optimize()\n",
    "model.printAttr('X')\n",
    "print (model.ObjVal)"
   ]
  },
  {
   "cell_type": "markdown",
   "metadata": {},
   "source": [
    "## Q2a"
   ]
  },
  {
   "cell_type": "code",
   "execution_count": 3,
   "metadata": {},
   "outputs": [],
   "source": [
    "n = 10000\n",
    "max = 100\n",
    "booking_limit = list(range(20,81))\n",
    "customerP1 = np.random.poisson(lam=75,size=10000)\n",
    "customerP2 = np.random.poisson(lam=50,size=10000)\n",
    "profitAlpha = []\n",
    "\n",
    "for i in booking_limit:\n",
    "    salesP1 = np.where(customerP1 <= i, customerP1, i)\n",
    "    ticketsLeft = max - salesP1\n",
    "    salesP2 = np.where(customerP2 > ticketsLeft, ticketsLeft, customerP2)\n",
    "    revenue = (150*salesP1 + 500*salesP2)\n",
    "    profitAlpha.append([i, np.mean(revenue)])"
   ]
  },
  {
   "cell_type": "code",
   "execution_count": 4,
   "metadata": {},
   "outputs": [
    {
     "data": {
      "text/html": [
       "<div>\n",
       "<style scoped>\n",
       "    .dataframe tbody tr th:only-of-type {\n",
       "        vertical-align: middle;\n",
       "    }\n",
       "\n",
       "    .dataframe tbody tr th {\n",
       "        vertical-align: top;\n",
       "    }\n",
       "\n",
       "    .dataframe thead th {\n",
       "        text-align: right;\n",
       "    }\n",
       "</style>\n",
       "<table border=\"1\" class=\"dataframe\">\n",
       "  <thead>\n",
       "    <tr style=\"text-align: right;\">\n",
       "      <th></th>\n",
       "      <th>Alpha</th>\n",
       "      <th>Expected Revenue</th>\n",
       "    </tr>\n",
       "  </thead>\n",
       "  <tbody>\n",
       "    <tr>\n",
       "      <th>60</th>\n",
       "      <td>80</td>\n",
       "      <td>24229.315</td>\n",
       "    </tr>\n",
       "    <tr>\n",
       "      <th>59</th>\n",
       "      <td>79</td>\n",
       "      <td>24333.615</td>\n",
       "    </tr>\n",
       "    <tr>\n",
       "      <th>58</th>\n",
       "      <td>78</td>\n",
       "      <td>24452.475</td>\n",
       "    </tr>\n",
       "    <tr>\n",
       "      <th>57</th>\n",
       "      <td>77</td>\n",
       "      <td>24586.945</td>\n",
       "    </tr>\n",
       "    <tr>\n",
       "      <th>56</th>\n",
       "      <td>76</td>\n",
       "      <td>24736.080</td>\n",
       "    </tr>\n",
       "    <tr>\n",
       "      <th>...</th>\n",
       "      <td>...</td>\n",
       "      <td>...</td>\n",
       "    </tr>\n",
       "    <tr>\n",
       "      <th>24</th>\n",
       "      <td>44</td>\n",
       "      <td>31239.250</td>\n",
       "    </tr>\n",
       "    <tr>\n",
       "      <th>28</th>\n",
       "      <td>48</td>\n",
       "      <td>31255.505</td>\n",
       "    </tr>\n",
       "    <tr>\n",
       "      <th>25</th>\n",
       "      <td>45</td>\n",
       "      <td>31276.750</td>\n",
       "    </tr>\n",
       "    <tr>\n",
       "      <th>27</th>\n",
       "      <td>47</td>\n",
       "      <td>31286.320</td>\n",
       "    </tr>\n",
       "    <tr>\n",
       "      <th>26</th>\n",
       "      <td>46</td>\n",
       "      <td>31292.985</td>\n",
       "    </tr>\n",
       "  </tbody>\n",
       "</table>\n",
       "<p>61 rows × 2 columns</p>\n",
       "</div>"
      ],
      "text/plain": [
       "    Alpha  Expected Revenue\n",
       "60     80         24229.315\n",
       "59     79         24333.615\n",
       "58     78         24452.475\n",
       "57     77         24586.945\n",
       "56     76         24736.080\n",
       "..    ...               ...\n",
       "24     44         31239.250\n",
       "28     48         31255.505\n",
       "25     45         31276.750\n",
       "27     47         31286.320\n",
       "26     46         31292.985\n",
       "\n",
       "[61 rows x 2 columns]"
      ]
     },
     "execution_count": 4,
     "metadata": {},
     "output_type": "execute_result"
    }
   ],
   "source": [
    "profitAlpha = pd.DataFrame(profitAlpha, columns=['Alpha', 'Expected Revenue'])\n",
    "profitAlpha.sort_values('Expected Revenue')"
   ]
  },
  {
   "cell_type": "code",
   "execution_count": 5,
   "metadata": {},
   "outputs": [
    {
     "data": {
      "application/vnd.plotly.v1+json": {
       "config": {
        "plotlyServerURL": "https://plot.ly"
       },
       "data": [
        {
         "hovertemplate": "Alpha=%{x}<br>Expected Revenue=%{y}<extra></extra>",
         "legendgroup": "",
         "line": {
          "color": "#636efa",
          "dash": "solid"
         },
         "marker": {
          "symbol": "circle"
         },
         "mode": "lines",
         "name": "",
         "orientation": "v",
         "showlegend": false,
         "type": "scatter",
         "x": [
          20,
          21,
          22,
          23,
          24,
          25,
          26,
          27,
          28,
          29,
          30,
          31,
          32,
          33,
          34,
          35,
          36,
          37,
          38,
          39,
          40,
          41,
          42,
          43,
          44,
          45,
          46,
          47,
          48,
          49,
          50,
          51,
          52,
          53,
          54,
          55,
          56,
          57,
          58,
          59,
          60,
          61,
          62,
          63,
          64,
          65,
          66,
          67,
          68,
          69,
          70,
          71,
          72,
          73,
          74,
          75,
          76,
          77,
          78,
          79,
          80
         ],
         "xaxis": "x",
         "y": [
          28065.85,
          28215.8,
          28365.7,
          28515.6,
          28665.45,
          28815.3,
          28964.85,
          29114.4,
          29263.55,
          29412.45,
          29561.05,
          29708.85,
          29855.5,
          30000.75,
          30144.1,
          30285.25,
          30423.35,
          30557.3,
          30685.75,
          30805.95,
          30917.3,
          31018.65,
          31107.75,
          31182.7,
          31239.25,
          31276.75,
          31292.985,
          31286.32,
          31255.505,
          31198.31,
          31112.505,
          31000.065,
          30858.55,
          30690.155,
          30496.525,
          30280.01,
          30040.66,
          29783.44,
          29509.565,
          29221.62,
          28922.45,
          28615.58,
          28305.38,
          27994.23,
          27684.25,
          27378.04,
          27077.95,
          26786.065,
          26503.775,
          26232.315,
          25972.15,
          25727.03,
          25497.455,
          25282.635,
          25084.11,
          24902.07,
          24736.08,
          24586.945,
          24452.475,
          24333.615,
          24229.315
         ],
         "yaxis": "y"
        }
       ],
       "layout": {
        "legend": {
         "tracegroupgap": 0
        },
        "margin": {
         "t": 60
        },
        "template": {
         "data": {
          "bar": [
           {
            "error_x": {
             "color": "#2a3f5f"
            },
            "error_y": {
             "color": "#2a3f5f"
            },
            "marker": {
             "line": {
              "color": "#E5ECF6",
              "width": 0.5
             },
             "pattern": {
              "fillmode": "overlay",
              "size": 10,
              "solidity": 0.2
             }
            },
            "type": "bar"
           }
          ],
          "barpolar": [
           {
            "marker": {
             "line": {
              "color": "#E5ECF6",
              "width": 0.5
             },
             "pattern": {
              "fillmode": "overlay",
              "size": 10,
              "solidity": 0.2
             }
            },
            "type": "barpolar"
           }
          ],
          "carpet": [
           {
            "aaxis": {
             "endlinecolor": "#2a3f5f",
             "gridcolor": "white",
             "linecolor": "white",
             "minorgridcolor": "white",
             "startlinecolor": "#2a3f5f"
            },
            "baxis": {
             "endlinecolor": "#2a3f5f",
             "gridcolor": "white",
             "linecolor": "white",
             "minorgridcolor": "white",
             "startlinecolor": "#2a3f5f"
            },
            "type": "carpet"
           }
          ],
          "choropleth": [
           {
            "colorbar": {
             "outlinewidth": 0,
             "ticks": ""
            },
            "type": "choropleth"
           }
          ],
          "contour": [
           {
            "colorbar": {
             "outlinewidth": 0,
             "ticks": ""
            },
            "colorscale": [
             [
              0,
              "#0d0887"
             ],
             [
              0.1111111111111111,
              "#46039f"
             ],
             [
              0.2222222222222222,
              "#7201a8"
             ],
             [
              0.3333333333333333,
              "#9c179e"
             ],
             [
              0.4444444444444444,
              "#bd3786"
             ],
             [
              0.5555555555555556,
              "#d8576b"
             ],
             [
              0.6666666666666666,
              "#ed7953"
             ],
             [
              0.7777777777777778,
              "#fb9f3a"
             ],
             [
              0.8888888888888888,
              "#fdca26"
             ],
             [
              1,
              "#f0f921"
             ]
            ],
            "type": "contour"
           }
          ],
          "contourcarpet": [
           {
            "colorbar": {
             "outlinewidth": 0,
             "ticks": ""
            },
            "type": "contourcarpet"
           }
          ],
          "heatmap": [
           {
            "colorbar": {
             "outlinewidth": 0,
             "ticks": ""
            },
            "colorscale": [
             [
              0,
              "#0d0887"
             ],
             [
              0.1111111111111111,
              "#46039f"
             ],
             [
              0.2222222222222222,
              "#7201a8"
             ],
             [
              0.3333333333333333,
              "#9c179e"
             ],
             [
              0.4444444444444444,
              "#bd3786"
             ],
             [
              0.5555555555555556,
              "#d8576b"
             ],
             [
              0.6666666666666666,
              "#ed7953"
             ],
             [
              0.7777777777777778,
              "#fb9f3a"
             ],
             [
              0.8888888888888888,
              "#fdca26"
             ],
             [
              1,
              "#f0f921"
             ]
            ],
            "type": "heatmap"
           }
          ],
          "heatmapgl": [
           {
            "colorbar": {
             "outlinewidth": 0,
             "ticks": ""
            },
            "colorscale": [
             [
              0,
              "#0d0887"
             ],
             [
              0.1111111111111111,
              "#46039f"
             ],
             [
              0.2222222222222222,
              "#7201a8"
             ],
             [
              0.3333333333333333,
              "#9c179e"
             ],
             [
              0.4444444444444444,
              "#bd3786"
             ],
             [
              0.5555555555555556,
              "#d8576b"
             ],
             [
              0.6666666666666666,
              "#ed7953"
             ],
             [
              0.7777777777777778,
              "#fb9f3a"
             ],
             [
              0.8888888888888888,
              "#fdca26"
             ],
             [
              1,
              "#f0f921"
             ]
            ],
            "type": "heatmapgl"
           }
          ],
          "histogram": [
           {
            "marker": {
             "pattern": {
              "fillmode": "overlay",
              "size": 10,
              "solidity": 0.2
             }
            },
            "type": "histogram"
           }
          ],
          "histogram2d": [
           {
            "colorbar": {
             "outlinewidth": 0,
             "ticks": ""
            },
            "colorscale": [
             [
              0,
              "#0d0887"
             ],
             [
              0.1111111111111111,
              "#46039f"
             ],
             [
              0.2222222222222222,
              "#7201a8"
             ],
             [
              0.3333333333333333,
              "#9c179e"
             ],
             [
              0.4444444444444444,
              "#bd3786"
             ],
             [
              0.5555555555555556,
              "#d8576b"
             ],
             [
              0.6666666666666666,
              "#ed7953"
             ],
             [
              0.7777777777777778,
              "#fb9f3a"
             ],
             [
              0.8888888888888888,
              "#fdca26"
             ],
             [
              1,
              "#f0f921"
             ]
            ],
            "type": "histogram2d"
           }
          ],
          "histogram2dcontour": [
           {
            "colorbar": {
             "outlinewidth": 0,
             "ticks": ""
            },
            "colorscale": [
             [
              0,
              "#0d0887"
             ],
             [
              0.1111111111111111,
              "#46039f"
             ],
             [
              0.2222222222222222,
              "#7201a8"
             ],
             [
              0.3333333333333333,
              "#9c179e"
             ],
             [
              0.4444444444444444,
              "#bd3786"
             ],
             [
              0.5555555555555556,
              "#d8576b"
             ],
             [
              0.6666666666666666,
              "#ed7953"
             ],
             [
              0.7777777777777778,
              "#fb9f3a"
             ],
             [
              0.8888888888888888,
              "#fdca26"
             ],
             [
              1,
              "#f0f921"
             ]
            ],
            "type": "histogram2dcontour"
           }
          ],
          "mesh3d": [
           {
            "colorbar": {
             "outlinewidth": 0,
             "ticks": ""
            },
            "type": "mesh3d"
           }
          ],
          "parcoords": [
           {
            "line": {
             "colorbar": {
              "outlinewidth": 0,
              "ticks": ""
             }
            },
            "type": "parcoords"
           }
          ],
          "pie": [
           {
            "automargin": true,
            "type": "pie"
           }
          ],
          "scatter": [
           {
            "marker": {
             "colorbar": {
              "outlinewidth": 0,
              "ticks": ""
             }
            },
            "type": "scatter"
           }
          ],
          "scatter3d": [
           {
            "line": {
             "colorbar": {
              "outlinewidth": 0,
              "ticks": ""
             }
            },
            "marker": {
             "colorbar": {
              "outlinewidth": 0,
              "ticks": ""
             }
            },
            "type": "scatter3d"
           }
          ],
          "scattercarpet": [
           {
            "marker": {
             "colorbar": {
              "outlinewidth": 0,
              "ticks": ""
             }
            },
            "type": "scattercarpet"
           }
          ],
          "scattergeo": [
           {
            "marker": {
             "colorbar": {
              "outlinewidth": 0,
              "ticks": ""
             }
            },
            "type": "scattergeo"
           }
          ],
          "scattergl": [
           {
            "marker": {
             "colorbar": {
              "outlinewidth": 0,
              "ticks": ""
             }
            },
            "type": "scattergl"
           }
          ],
          "scattermapbox": [
           {
            "marker": {
             "colorbar": {
              "outlinewidth": 0,
              "ticks": ""
             }
            },
            "type": "scattermapbox"
           }
          ],
          "scatterpolar": [
           {
            "marker": {
             "colorbar": {
              "outlinewidth": 0,
              "ticks": ""
             }
            },
            "type": "scatterpolar"
           }
          ],
          "scatterpolargl": [
           {
            "marker": {
             "colorbar": {
              "outlinewidth": 0,
              "ticks": ""
             }
            },
            "type": "scatterpolargl"
           }
          ],
          "scatterternary": [
           {
            "marker": {
             "colorbar": {
              "outlinewidth": 0,
              "ticks": ""
             }
            },
            "type": "scatterternary"
           }
          ],
          "surface": [
           {
            "colorbar": {
             "outlinewidth": 0,
             "ticks": ""
            },
            "colorscale": [
             [
              0,
              "#0d0887"
             ],
             [
              0.1111111111111111,
              "#46039f"
             ],
             [
              0.2222222222222222,
              "#7201a8"
             ],
             [
              0.3333333333333333,
              "#9c179e"
             ],
             [
              0.4444444444444444,
              "#bd3786"
             ],
             [
              0.5555555555555556,
              "#d8576b"
             ],
             [
              0.6666666666666666,
              "#ed7953"
             ],
             [
              0.7777777777777778,
              "#fb9f3a"
             ],
             [
              0.8888888888888888,
              "#fdca26"
             ],
             [
              1,
              "#f0f921"
             ]
            ],
            "type": "surface"
           }
          ],
          "table": [
           {
            "cells": {
             "fill": {
              "color": "#EBF0F8"
             },
             "line": {
              "color": "white"
             }
            },
            "header": {
             "fill": {
              "color": "#C8D4E3"
             },
             "line": {
              "color": "white"
             }
            },
            "type": "table"
           }
          ]
         },
         "layout": {
          "annotationdefaults": {
           "arrowcolor": "#2a3f5f",
           "arrowhead": 0,
           "arrowwidth": 1
          },
          "autotypenumbers": "strict",
          "coloraxis": {
           "colorbar": {
            "outlinewidth": 0,
            "ticks": ""
           }
          },
          "colorscale": {
           "diverging": [
            [
             0,
             "#8e0152"
            ],
            [
             0.1,
             "#c51b7d"
            ],
            [
             0.2,
             "#de77ae"
            ],
            [
             0.3,
             "#f1b6da"
            ],
            [
             0.4,
             "#fde0ef"
            ],
            [
             0.5,
             "#f7f7f7"
            ],
            [
             0.6,
             "#e6f5d0"
            ],
            [
             0.7,
             "#b8e186"
            ],
            [
             0.8,
             "#7fbc41"
            ],
            [
             0.9,
             "#4d9221"
            ],
            [
             1,
             "#276419"
            ]
           ],
           "sequential": [
            [
             0,
             "#0d0887"
            ],
            [
             0.1111111111111111,
             "#46039f"
            ],
            [
             0.2222222222222222,
             "#7201a8"
            ],
            [
             0.3333333333333333,
             "#9c179e"
            ],
            [
             0.4444444444444444,
             "#bd3786"
            ],
            [
             0.5555555555555556,
             "#d8576b"
            ],
            [
             0.6666666666666666,
             "#ed7953"
            ],
            [
             0.7777777777777778,
             "#fb9f3a"
            ],
            [
             0.8888888888888888,
             "#fdca26"
            ],
            [
             1,
             "#f0f921"
            ]
           ],
           "sequentialminus": [
            [
             0,
             "#0d0887"
            ],
            [
             0.1111111111111111,
             "#46039f"
            ],
            [
             0.2222222222222222,
             "#7201a8"
            ],
            [
             0.3333333333333333,
             "#9c179e"
            ],
            [
             0.4444444444444444,
             "#bd3786"
            ],
            [
             0.5555555555555556,
             "#d8576b"
            ],
            [
             0.6666666666666666,
             "#ed7953"
            ],
            [
             0.7777777777777778,
             "#fb9f3a"
            ],
            [
             0.8888888888888888,
             "#fdca26"
            ],
            [
             1,
             "#f0f921"
            ]
           ]
          },
          "colorway": [
           "#636efa",
           "#EF553B",
           "#00cc96",
           "#ab63fa",
           "#FFA15A",
           "#19d3f3",
           "#FF6692",
           "#B6E880",
           "#FF97FF",
           "#FECB52"
          ],
          "font": {
           "color": "#2a3f5f"
          },
          "geo": {
           "bgcolor": "white",
           "lakecolor": "white",
           "landcolor": "#E5ECF6",
           "showlakes": true,
           "showland": true,
           "subunitcolor": "white"
          },
          "hoverlabel": {
           "align": "left"
          },
          "hovermode": "closest",
          "mapbox": {
           "style": "light"
          },
          "paper_bgcolor": "white",
          "plot_bgcolor": "#E5ECF6",
          "polar": {
           "angularaxis": {
            "gridcolor": "white",
            "linecolor": "white",
            "ticks": ""
           },
           "bgcolor": "#E5ECF6",
           "radialaxis": {
            "gridcolor": "white",
            "linecolor": "white",
            "ticks": ""
           }
          },
          "scene": {
           "xaxis": {
            "backgroundcolor": "#E5ECF6",
            "gridcolor": "white",
            "gridwidth": 2,
            "linecolor": "white",
            "showbackground": true,
            "ticks": "",
            "zerolinecolor": "white"
           },
           "yaxis": {
            "backgroundcolor": "#E5ECF6",
            "gridcolor": "white",
            "gridwidth": 2,
            "linecolor": "white",
            "showbackground": true,
            "ticks": "",
            "zerolinecolor": "white"
           },
           "zaxis": {
            "backgroundcolor": "#E5ECF6",
            "gridcolor": "white",
            "gridwidth": 2,
            "linecolor": "white",
            "showbackground": true,
            "ticks": "",
            "zerolinecolor": "white"
           }
          },
          "shapedefaults": {
           "line": {
            "color": "#2a3f5f"
           }
          },
          "ternary": {
           "aaxis": {
            "gridcolor": "white",
            "linecolor": "white",
            "ticks": ""
           },
           "baxis": {
            "gridcolor": "white",
            "linecolor": "white",
            "ticks": ""
           },
           "bgcolor": "#E5ECF6",
           "caxis": {
            "gridcolor": "white",
            "linecolor": "white",
            "ticks": ""
           }
          },
          "title": {
           "x": 0.05
          },
          "xaxis": {
           "automargin": true,
           "gridcolor": "white",
           "linecolor": "white",
           "ticks": "",
           "title": {
            "standoff": 15
           },
           "zerolinecolor": "white",
           "zerolinewidth": 2
          },
          "yaxis": {
           "automargin": true,
           "gridcolor": "white",
           "linecolor": "white",
           "ticks": "",
           "title": {
            "standoff": 15
           },
           "zerolinecolor": "white",
           "zerolinewidth": 2
          }
         }
        },
        "xaxis": {
         "anchor": "y",
         "domain": [
          0,
          1
         ],
         "title": {
          "text": "Alpha"
         }
        },
        "yaxis": {
         "anchor": "x",
         "domain": [
          0,
          1
         ],
         "title": {
          "text": "Expected Revenue"
         }
        }
       }
      }
     },
     "metadata": {},
     "output_type": "display_data"
    }
   ],
   "source": [
    "px.line(profitAlpha, x = 'Alpha', y = 'Expected Revenue')"
   ]
  },
  {
   "cell_type": "markdown",
   "metadata": {},
   "source": [
    "## Q2b"
   ]
  },
  {
   "cell_type": "code",
   "execution_count": 6,
   "metadata": {},
   "outputs": [],
   "source": [
    "n = 10000\n",
    "max = 100\n",
    "booking_limit = list(range(20,81))\n",
    "\n",
    "compensation = list(range(100,301))\n",
    "\n",
    "customerP1 = np.random.poisson(lam=75,size=10000)\n",
    "customerP2 = np.random.poisson(lam=50,size=10000)\n",
    "profitAlpha2 = []\n",
    "\n",
    "for i in booking_limit:\n",
    "    for p in compensation:\n",
    "        salesP1 = np.where(customerP1 <= i, customerP1, i)\n",
    "        \n",
    "        prob = np.random.binomial(salesP1, ((p-100)/200), 10000)\n",
    "        \n",
    "        ticketsLeft = max - salesP1\n",
    "        \n",
    "        p2_shoratge = np.where(ticketsLeft < customerP2, customerP2 - ticketsLeft, 0)\n",
    "        p1_refunds = np.where(prob >= p2_shoratge, p2_shoratge, prob)\n",
    "        \n",
    "        costsRefund = p1_refunds * p\n",
    "        \n",
    "        newCustomersP1 = salesP1 - p1_refunds\n",
    "        ticketsLeft += p1_refunds\n",
    "        \n",
    "        salesP2 = np.where(customerP2 > ticketsLeft, ticketsLeft, customerP2)\n",
    "        \n",
    "        revenue = (150 * newCustomersP1 + 500 * salesP2 - costsRefund)\n",
    "        profitAlpha2.append([i, p, np.mean(revenue)])"
   ]
  },
  {
   "cell_type": "code",
   "execution_count": 7,
   "metadata": {},
   "outputs": [
    {
     "data": {
      "text/html": [
       "<div>\n",
       "<style scoped>\n",
       "    .dataframe tbody tr th:only-of-type {\n",
       "        vertical-align: middle;\n",
       "    }\n",
       "\n",
       "    .dataframe tbody tr th {\n",
       "        vertical-align: top;\n",
       "    }\n",
       "\n",
       "    .dataframe thead th {\n",
       "        text-align: right;\n",
       "    }\n",
       "</style>\n",
       "<table border=\"1\" class=\"dataframe\">\n",
       "  <thead>\n",
       "    <tr style=\"text-align: right;\">\n",
       "      <th></th>\n",
       "      <th>Alpha</th>\n",
       "      <th>Refund Tickets</th>\n",
       "      <th>Expected Revenue</th>\n",
       "    </tr>\n",
       "  </thead>\n",
       "  <tbody>\n",
       "    <tr>\n",
       "      <th>12060</th>\n",
       "      <td>80</td>\n",
       "      <td>100</td>\n",
       "      <td>24265.3850</td>\n",
       "    </tr>\n",
       "    <tr>\n",
       "      <th>12061</th>\n",
       "      <td>80</td>\n",
       "      <td>101</td>\n",
       "      <td>24355.3985</td>\n",
       "    </tr>\n",
       "    <tr>\n",
       "      <th>11859</th>\n",
       "      <td>79</td>\n",
       "      <td>100</td>\n",
       "      <td>24370.4200</td>\n",
       "    </tr>\n",
       "    <tr>\n",
       "      <th>12062</th>\n",
       "      <td>80</td>\n",
       "      <td>102</td>\n",
       "      <td>24446.7474</td>\n",
       "    </tr>\n",
       "    <tr>\n",
       "      <th>11860</th>\n",
       "      <td>79</td>\n",
       "      <td>101</td>\n",
       "      <td>24456.8479</td>\n",
       "    </tr>\n",
       "    <tr>\n",
       "      <th>...</th>\n",
       "      <td>...</td>\n",
       "      <td>...</td>\n",
       "      <td>...</td>\n",
       "    </tr>\n",
       "    <tr>\n",
       "      <th>6082</th>\n",
       "      <td>50</td>\n",
       "      <td>152</td>\n",
       "      <td>31606.2126</td>\n",
       "    </tr>\n",
       "    <tr>\n",
       "      <th>6080</th>\n",
       "      <td>50</td>\n",
       "      <td>150</td>\n",
       "      <td>31606.8950</td>\n",
       "    </tr>\n",
       "    <tr>\n",
       "      <th>6078</th>\n",
       "      <td>50</td>\n",
       "      <td>148</td>\n",
       "      <td>31607.1412</td>\n",
       "    </tr>\n",
       "    <tr>\n",
       "      <th>6079</th>\n",
       "      <td>50</td>\n",
       "      <td>149</td>\n",
       "      <td>31608.3873</td>\n",
       "    </tr>\n",
       "    <tr>\n",
       "      <th>6081</th>\n",
       "      <td>50</td>\n",
       "      <td>151</td>\n",
       "      <td>31609.0927</td>\n",
       "    </tr>\n",
       "  </tbody>\n",
       "</table>\n",
       "<p>12261 rows × 3 columns</p>\n",
       "</div>"
      ],
      "text/plain": [
       "       Alpha  Refund Tickets  Expected Revenue\n",
       "12060     80             100        24265.3850\n",
       "12061     80             101        24355.3985\n",
       "11859     79             100        24370.4200\n",
       "12062     80             102        24446.7474\n",
       "11860     79             101        24456.8479\n",
       "...      ...             ...               ...\n",
       "6082      50             152        31606.2126\n",
       "6080      50             150        31606.8950\n",
       "6078      50             148        31607.1412\n",
       "6079      50             149        31608.3873\n",
       "6081      50             151        31609.0927\n",
       "\n",
       "[12261 rows x 3 columns]"
      ]
     },
     "execution_count": 7,
     "metadata": {},
     "output_type": "execute_result"
    }
   ],
   "source": [
    "profitAlpha2 = pd.DataFrame(profitAlpha2, columns=['Alpha', 'Refund Tickets', 'Expected Revenue'])\n",
    "profitAlpha2.sort_values('Expected Revenue')"
   ]
  },
  {
   "cell_type": "code",
   "execution_count": 8,
   "metadata": {},
   "outputs": [
    {
     "data": {
      "application/vnd.plotly.v1+json": {
       "config": {
        "plotlyServerURL": "https://plot.ly"
       },
       "data": [
        {
         "mode": "lines+markers",
         "name": "Expected Revenue",
         "type": "scatter",
         "x": [
          20,
          21,
          22,
          23,
          24,
          25,
          26,
          27,
          28,
          29,
          30,
          31,
          32,
          33,
          34,
          35,
          36,
          37,
          38,
          39,
          40,
          41,
          42,
          43,
          44,
          45,
          46,
          47,
          48,
          49,
          50,
          51,
          52,
          53,
          54,
          55,
          56,
          57,
          58,
          59,
          60,
          61,
          62,
          63,
          64,
          65,
          66,
          67,
          68,
          69,
          70,
          71,
          72,
          73,
          74,
          75,
          76,
          77,
          78,
          79,
          80
         ],
         "y": [
          28001.4,
          28151.3747,
          28301.3484,
          28451.3193,
          28601.2675,
          28751.12,
          28900.9189,
          29050.539,
          29199.935,
          29349.154,
          29497.9655,
          29646.2864,
          29794.03,
          29940.6052,
          30086.0349,
          30230.1952,
          30372.6982,
          30512.2488,
          30648.8848,
          30781.1338,
          30908.3222,
          31029.0426,
          31141.59,
          31245.9872,
          31339.112,
          31422.1068,
          31490.6418,
          31543.7494,
          31582.95,
          31605.1924,
          31609.0927,
          31595.7072,
          31559.6724,
          31508.13,
          31436.4706,
          31351.1264,
          31247.4424,
          31132.14,
          31002.084,
          30864.2388,
          30715.0196,
          30561.9327,
          30399.0419,
          30234.036,
          30068.0212,
          29900.4526,
          29734.4487,
          29570.6088,
          29416.0096,
          29258.9306,
          29107.5726,
          28965.5314,
          28832.7916,
          28695.4387,
          28576.1813,
          28467.507,
          28364.163,
          28267.5998,
          28185.9804,
          28104.3208,
          28036.7677
         ]
        },
        {
         "name": "Refund Tickets",
         "opacity": 0.5,
         "type": "bar",
         "x": [
          20,
          21,
          22,
          23,
          24,
          25,
          26,
          27,
          28,
          29,
          30,
          31,
          32,
          33,
          34,
          35,
          36,
          37,
          38,
          39,
          40,
          41,
          42,
          43,
          44,
          45,
          46,
          47,
          48,
          49,
          50,
          51,
          52,
          53,
          54,
          55,
          56,
          57,
          58,
          59,
          60,
          61,
          62,
          63,
          64,
          65,
          66,
          67,
          68,
          69,
          70,
          71,
          72,
          73,
          74,
          75,
          76,
          77,
          78,
          79,
          80
         ],
         "y": [
          100,
          103,
          108,
          119,
          115,
          130,
          133,
          137,
          143,
          140,
          139,
          146,
          140,
          141,
          141,
          152,
          147,
          142,
          146,
          152,
          149,
          149,
          150,
          142,
          143,
          152,
          149,
          148,
          150,
          148,
          151,
          148,
          148,
          150,
          151,
          153,
          157,
          159,
          156,
          158,
          159,
          157,
          159,
          160,
          164,
          162,
          161,
          167,
          166,
          166,
          169,
          167,
          169,
          171,
          171,
          173,
          173,
          174,
          174,
          176,
          177
         ],
         "yaxis": "y2"
        },
        {
         "mode": "lines+markers",
         "name": "Expected Revenue Old",
         "type": "scatter",
         "x": [
          20,
          21,
          22,
          23,
          24,
          25,
          26,
          27,
          28,
          29,
          30,
          31,
          32,
          33,
          34,
          35,
          36,
          37,
          38,
          39,
          40,
          41,
          42,
          43,
          44,
          45,
          46,
          47,
          48,
          49,
          50,
          51,
          52,
          53,
          54,
          55,
          56,
          57,
          58,
          59,
          60,
          61,
          62,
          63,
          64,
          65,
          66,
          67,
          68,
          69,
          70,
          71,
          72,
          73,
          74,
          75,
          76,
          77,
          78,
          79,
          80
         ],
         "y": [
          28065.85,
          28215.8,
          28365.7,
          28515.6,
          28665.45,
          28815.3,
          28964.85,
          29114.4,
          29263.55,
          29412.45,
          29561.05,
          29708.85,
          29855.5,
          30000.75,
          30144.1,
          30285.25,
          30423.35,
          30557.3,
          30685.75,
          30805.95,
          30917.3,
          31018.65,
          31107.75,
          31182.7,
          31239.25,
          31276.75,
          31292.985,
          31286.32,
          31255.505,
          31198.31,
          31112.505,
          31000.065,
          30858.55,
          30690.155,
          30496.525,
          30280.01,
          30040.66,
          29783.44,
          29509.565,
          29221.62,
          28922.45,
          28615.58,
          28305.38,
          27994.23,
          27684.25,
          27378.04,
          27077.95,
          26786.065,
          26503.775,
          26232.315,
          25972.15,
          25727.03,
          25497.455,
          25282.635,
          25084.11,
          24902.07,
          24736.08,
          24586.945,
          24452.475,
          24333.615,
          24229.315
         ]
        }
       ],
       "layout": {
        "legend": {
         "x": 0.01,
         "xanchor": "left",
         "y": 0.99,
         "yanchor": "top"
        },
        "template": {
         "data": {
          "bar": [
           {
            "error_x": {
             "color": "rgb(51,51,51)"
            },
            "error_y": {
             "color": "rgb(51,51,51)"
            },
            "marker": {
             "line": {
              "color": "rgb(237,237,237)",
              "width": 0.5
             },
             "pattern": {
              "fillmode": "overlay",
              "size": 10,
              "solidity": 0.2
             }
            },
            "type": "bar"
           }
          ],
          "barpolar": [
           {
            "marker": {
             "line": {
              "color": "rgb(237,237,237)",
              "width": 0.5
             },
             "pattern": {
              "fillmode": "overlay",
              "size": 10,
              "solidity": 0.2
             }
            },
            "type": "barpolar"
           }
          ],
          "carpet": [
           {
            "aaxis": {
             "endlinecolor": "rgb(51,51,51)",
             "gridcolor": "white",
             "linecolor": "white",
             "minorgridcolor": "white",
             "startlinecolor": "rgb(51,51,51)"
            },
            "baxis": {
             "endlinecolor": "rgb(51,51,51)",
             "gridcolor": "white",
             "linecolor": "white",
             "minorgridcolor": "white",
             "startlinecolor": "rgb(51,51,51)"
            },
            "type": "carpet"
           }
          ],
          "choropleth": [
           {
            "colorbar": {
             "outlinewidth": 0,
             "tickcolor": "rgb(237,237,237)",
             "ticklen": 6,
             "ticks": "inside"
            },
            "type": "choropleth"
           }
          ],
          "contour": [
           {
            "colorbar": {
             "outlinewidth": 0,
             "tickcolor": "rgb(237,237,237)",
             "ticklen": 6,
             "ticks": "inside"
            },
            "colorscale": [
             [
              0,
              "rgb(20,44,66)"
             ],
             [
              1,
              "rgb(90,179,244)"
             ]
            ],
            "type": "contour"
           }
          ],
          "contourcarpet": [
           {
            "colorbar": {
             "outlinewidth": 0,
             "tickcolor": "rgb(237,237,237)",
             "ticklen": 6,
             "ticks": "inside"
            },
            "type": "contourcarpet"
           }
          ],
          "heatmap": [
           {
            "colorbar": {
             "outlinewidth": 0,
             "tickcolor": "rgb(237,237,237)",
             "ticklen": 6,
             "ticks": "inside"
            },
            "colorscale": [
             [
              0,
              "rgb(20,44,66)"
             ],
             [
              1,
              "rgb(90,179,244)"
             ]
            ],
            "type": "heatmap"
           }
          ],
          "heatmapgl": [
           {
            "colorbar": {
             "outlinewidth": 0,
             "tickcolor": "rgb(237,237,237)",
             "ticklen": 6,
             "ticks": "inside"
            },
            "colorscale": [
             [
              0,
              "rgb(20,44,66)"
             ],
             [
              1,
              "rgb(90,179,244)"
             ]
            ],
            "type": "heatmapgl"
           }
          ],
          "histogram": [
           {
            "marker": {
             "pattern": {
              "fillmode": "overlay",
              "size": 10,
              "solidity": 0.2
             }
            },
            "type": "histogram"
           }
          ],
          "histogram2d": [
           {
            "colorbar": {
             "outlinewidth": 0,
             "tickcolor": "rgb(237,237,237)",
             "ticklen": 6,
             "ticks": "inside"
            },
            "colorscale": [
             [
              0,
              "rgb(20,44,66)"
             ],
             [
              1,
              "rgb(90,179,244)"
             ]
            ],
            "type": "histogram2d"
           }
          ],
          "histogram2dcontour": [
           {
            "colorbar": {
             "outlinewidth": 0,
             "tickcolor": "rgb(237,237,237)",
             "ticklen": 6,
             "ticks": "inside"
            },
            "colorscale": [
             [
              0,
              "rgb(20,44,66)"
             ],
             [
              1,
              "rgb(90,179,244)"
             ]
            ],
            "type": "histogram2dcontour"
           }
          ],
          "mesh3d": [
           {
            "colorbar": {
             "outlinewidth": 0,
             "tickcolor": "rgb(237,237,237)",
             "ticklen": 6,
             "ticks": "inside"
            },
            "type": "mesh3d"
           }
          ],
          "parcoords": [
           {
            "line": {
             "colorbar": {
              "outlinewidth": 0,
              "tickcolor": "rgb(237,237,237)",
              "ticklen": 6,
              "ticks": "inside"
             }
            },
            "type": "parcoords"
           }
          ],
          "pie": [
           {
            "automargin": true,
            "type": "pie"
           }
          ],
          "scatter": [
           {
            "marker": {
             "colorbar": {
              "outlinewidth": 0,
              "tickcolor": "rgb(237,237,237)",
              "ticklen": 6,
              "ticks": "inside"
             }
            },
            "type": "scatter"
           }
          ],
          "scatter3d": [
           {
            "line": {
             "colorbar": {
              "outlinewidth": 0,
              "tickcolor": "rgb(237,237,237)",
              "ticklen": 6,
              "ticks": "inside"
             }
            },
            "marker": {
             "colorbar": {
              "outlinewidth": 0,
              "tickcolor": "rgb(237,237,237)",
              "ticklen": 6,
              "ticks": "inside"
             }
            },
            "type": "scatter3d"
           }
          ],
          "scattercarpet": [
           {
            "marker": {
             "colorbar": {
              "outlinewidth": 0,
              "tickcolor": "rgb(237,237,237)",
              "ticklen": 6,
              "ticks": "inside"
             }
            },
            "type": "scattercarpet"
           }
          ],
          "scattergeo": [
           {
            "marker": {
             "colorbar": {
              "outlinewidth": 0,
              "tickcolor": "rgb(237,237,237)",
              "ticklen": 6,
              "ticks": "inside"
             }
            },
            "type": "scattergeo"
           }
          ],
          "scattergl": [
           {
            "marker": {
             "colorbar": {
              "outlinewidth": 0,
              "tickcolor": "rgb(237,237,237)",
              "ticklen": 6,
              "ticks": "inside"
             }
            },
            "type": "scattergl"
           }
          ],
          "scattermapbox": [
           {
            "marker": {
             "colorbar": {
              "outlinewidth": 0,
              "tickcolor": "rgb(237,237,237)",
              "ticklen": 6,
              "ticks": "inside"
             }
            },
            "type": "scattermapbox"
           }
          ],
          "scatterpolar": [
           {
            "marker": {
             "colorbar": {
              "outlinewidth": 0,
              "tickcolor": "rgb(237,237,237)",
              "ticklen": 6,
              "ticks": "inside"
             }
            },
            "type": "scatterpolar"
           }
          ],
          "scatterpolargl": [
           {
            "marker": {
             "colorbar": {
              "outlinewidth": 0,
              "tickcolor": "rgb(237,237,237)",
              "ticklen": 6,
              "ticks": "inside"
             }
            },
            "type": "scatterpolargl"
           }
          ],
          "scatterternary": [
           {
            "marker": {
             "colorbar": {
              "outlinewidth": 0,
              "tickcolor": "rgb(237,237,237)",
              "ticklen": 6,
              "ticks": "inside"
             }
            },
            "type": "scatterternary"
           }
          ],
          "surface": [
           {
            "colorbar": {
             "outlinewidth": 0,
             "tickcolor": "rgb(237,237,237)",
             "ticklen": 6,
             "ticks": "inside"
            },
            "colorscale": [
             [
              0,
              "rgb(20,44,66)"
             ],
             [
              1,
              "rgb(90,179,244)"
             ]
            ],
            "type": "surface"
           }
          ],
          "table": [
           {
            "cells": {
             "fill": {
              "color": "rgb(237,237,237)"
             },
             "line": {
              "color": "white"
             }
            },
            "header": {
             "fill": {
              "color": "rgb(217,217,217)"
             },
             "line": {
              "color": "white"
             }
            },
            "type": "table"
           }
          ]
         },
         "layout": {
          "annotationdefaults": {
           "arrowhead": 0,
           "arrowwidth": 1
          },
          "autotypenumbers": "strict",
          "coloraxis": {
           "colorbar": {
            "outlinewidth": 0,
            "tickcolor": "rgb(237,237,237)",
            "ticklen": 6,
            "ticks": "inside"
           }
          },
          "colorscale": {
           "sequential": [
            [
             0,
             "rgb(20,44,66)"
            ],
            [
             1,
             "rgb(90,179,244)"
            ]
           ],
           "sequentialminus": [
            [
             0,
             "rgb(20,44,66)"
            ],
            [
             1,
             "rgb(90,179,244)"
            ]
           ]
          },
          "colorway": [
           "#F8766D",
           "#A3A500",
           "#00BF7D",
           "#00B0F6",
           "#E76BF3"
          ],
          "font": {
           "color": "rgb(51,51,51)"
          },
          "geo": {
           "bgcolor": "white",
           "lakecolor": "white",
           "landcolor": "rgb(237,237,237)",
           "showlakes": true,
           "showland": true,
           "subunitcolor": "white"
          },
          "hoverlabel": {
           "align": "left"
          },
          "hovermode": "closest",
          "paper_bgcolor": "white",
          "plot_bgcolor": "rgb(237,237,237)",
          "polar": {
           "angularaxis": {
            "gridcolor": "white",
            "linecolor": "white",
            "showgrid": true,
            "tickcolor": "rgb(51,51,51)",
            "ticks": "outside"
           },
           "bgcolor": "rgb(237,237,237)",
           "radialaxis": {
            "gridcolor": "white",
            "linecolor": "white",
            "showgrid": true,
            "tickcolor": "rgb(51,51,51)",
            "ticks": "outside"
           }
          },
          "scene": {
           "xaxis": {
            "backgroundcolor": "rgb(237,237,237)",
            "gridcolor": "white",
            "gridwidth": 2,
            "linecolor": "white",
            "showbackground": true,
            "showgrid": true,
            "tickcolor": "rgb(51,51,51)",
            "ticks": "outside",
            "zerolinecolor": "white"
           },
           "yaxis": {
            "backgroundcolor": "rgb(237,237,237)",
            "gridcolor": "white",
            "gridwidth": 2,
            "linecolor": "white",
            "showbackground": true,
            "showgrid": true,
            "tickcolor": "rgb(51,51,51)",
            "ticks": "outside",
            "zerolinecolor": "white"
           },
           "zaxis": {
            "backgroundcolor": "rgb(237,237,237)",
            "gridcolor": "white",
            "gridwidth": 2,
            "linecolor": "white",
            "showbackground": true,
            "showgrid": true,
            "tickcolor": "rgb(51,51,51)",
            "ticks": "outside",
            "zerolinecolor": "white"
           }
          },
          "shapedefaults": {
           "fillcolor": "black",
           "line": {
            "width": 0
           },
           "opacity": 0.3
          },
          "ternary": {
           "aaxis": {
            "gridcolor": "white",
            "linecolor": "white",
            "showgrid": true,
            "tickcolor": "rgb(51,51,51)",
            "ticks": "outside"
           },
           "baxis": {
            "gridcolor": "white",
            "linecolor": "white",
            "showgrid": true,
            "tickcolor": "rgb(51,51,51)",
            "ticks": "outside"
           },
           "bgcolor": "rgb(237,237,237)",
           "caxis": {
            "gridcolor": "white",
            "linecolor": "white",
            "showgrid": true,
            "tickcolor": "rgb(51,51,51)",
            "ticks": "outside"
           }
          },
          "xaxis": {
           "automargin": true,
           "gridcolor": "white",
           "linecolor": "white",
           "showgrid": true,
           "tickcolor": "rgb(51,51,51)",
           "ticks": "outside",
           "title": {
            "standoff": 15
           },
           "zerolinecolor": "white"
          },
          "yaxis": {
           "automargin": true,
           "gridcolor": "white",
           "linecolor": "white",
           "showgrid": true,
           "tickcolor": "rgb(51,51,51)",
           "ticks": "outside",
           "title": {
            "standoff": 15
           },
           "zerolinecolor": "white"
          }
         }
        },
        "title": {
         "text": "Seat Simulaton with Callable Products"
        },
        "yaxis": {
         "showgrid": false,
         "side": "right"
        },
        "yaxis2": {
         "anchor": "y3",
         "overlaying": "y",
         "showgrid": false
        }
       }
      }
     },
     "metadata": {},
     "output_type": "display_data"
    }
   ],
   "source": [
    "import plotly.graph_objects as go\n",
    "\n",
    "# get the max revenue per alpha\n",
    "df_max = profitAlpha2.loc[profitAlpha2.groupby([\"Alpha\"])[\"Expected Revenue\"].idxmax()] \n",
    "\n",
    "trace1  = go.Scatter(\n",
    "        mode='lines+markers',\n",
    "        x = df_max['Alpha'],\n",
    "        y = df_max['Expected Revenue'],\n",
    "        name=\"Expected Revenue\"\n",
    "    )\n",
    "\n",
    "trac3  = go.Scatter(\n",
    "        mode='lines+markers',\n",
    "        x = profitAlpha['Alpha'],\n",
    "        y = profitAlpha['Expected Revenue'],\n",
    "        name=\"Expected Revenue Old\"\n",
    "    )\n",
    "\n",
    "trace2 = go.Bar(\n",
    "        x = df_max['Alpha'],\n",
    "        y = df_max['Refund Tickets'],\n",
    "        name=\"Refund Tickets\",\n",
    "        yaxis='y2',\n",
    "        opacity=0.5\n",
    "    )\n",
    "\n",
    "data = [trace1, trace2, trac3]\n",
    "\n",
    "layout = go.Layout(\n",
    "    title_text='Seat Simulaton with Callable Products',\n",
    "    template='ggplot2',\n",
    "    yaxis=dict(\n",
    "        side = 'right',\n",
    "        showgrid = False\n",
    "    ),\n",
    "    yaxis2=dict(\n",
    "        overlaying='y',\n",
    "        anchor='y3',\n",
    "        showgrid = False\n",
    "    ),\n",
    "    legend=dict(\n",
    "    yanchor=\"top\",\n",
    "    y=0.99,\n",
    "    xanchor=\"left\",\n",
    "    x=0.01\n",
    "    )\n",
    ")\n",
    "fig = go.Figure(data=data, layout=layout)\n",
    "fig.show()\n",
    "\n",
    "# fig = px.line(df_max, x = 'Alpha', y = 'Expected Revenue')\n",
    "# fig.show()"
   ]
  },
  {
   "cell_type": "markdown",
   "metadata": {},
   "source": [
    "## Q3a"
   ]
  },
  {
   "cell_type": "code",
   "execution_count": 1,
   "metadata": {},
   "outputs": [],
   "source": [
    "# # Setting up variables\n",
    "# cost = 10\n",
    "# profit = 20\n",
    "\n",
    "# warehouse = ['A', 'B']\n",
    "# distributionCenter = [1, 2, 3, 4]\n",
    "\n",
    "# scenarios = ['a', 'b', 'c']\n",
    "# scenorioProbs = {'a': 0.3, 'b': 0.2, 'c': 0.5}\n",
    "\n",
    "# transportationCosts = {('A', 1): 1.5, ('A', 2): 2, ('A', 3): 2, ('A', 4): 3, ('B', 1): 2, ('B', 2): 1.2, ('B', 3): 1.1, ('B', 4): 2.5}\n",
    "# demands = {('a', 1): 5, ('a', 2): 3, ('a', 3): 7.8, ('a', 4): 4, ('b', 1): 3, ('b', 2): 1, ('b', 3): 6, ('b', 4): 3, ('c', 1): 4.2, ('c', 2): 4.1, ('c', 3): 3, ('c', 4): 5.4}\n",
    "\n",
    "# PF = {'A': 1, 'B': 1.5}\n",
    "\n",
    "\n",
    "# # Gurobi model\n",
    "# model = gp.Model()\n",
    "\n",
    "# # First stage variable\n",
    "# ## One for production\n",
    "# products = model.addVars(warehouse, vtype=gp.GRB.INTEGER, name = ' ')\n",
    "# ## One for shipping\n",
    "# ship = model.addVars(warehouse, distributionCenter, vtype=gp.GRB.INTEGER, name = ' ')\n",
    "\n",
    "# # Second stage variable\n",
    "# ## One for demand/sold\n",
    "# sold = model.addVars(demands, vtype=gp.GRB.INTEGER, name = ' ')\n",
    "\n",
    "# # Objective \n",
    "# obj = 0\n",
    "# obj -= gp.quicksum(products[w]*cost for w in warehouse) # cost of production\n",
    "# obj -= gp.quicksum(products[w]*PF[w] for w in warehouse) # costs of shipping to warehouse\n",
    "# obj -= gp.quicksum(ship[w, d]*transportationCosts[(w, d)] for w in warehouse for d in distributionCenter) # transportation costs to distribution centers\n",
    "# obj += gp.quicksum(sold[s, d]*profit*scenorioProbs[p] for s in scenarios for d in distributionCenter for p in scenorioProbs) # TODO: need a variable for sold - not correct YET!\n",
    "\n",
    "# model.setObjective(obj, gp.GRB.MAXIMIZE)\n",
    "\n",
    "# # Constraints\n",
    "\n",
    "# # We can not sell more than the demand\n",
    "# model.addConstrs(sold[s, d] <= demands[s, d] for d in distributionCenter for s in scenarios)\n",
    "\n",
    "# # We cannot sell more then we shiped\n",
    "# model.addConstrs(sold[s, d]  <= ship[w, d] for w in warehouse for d in distributionCenter for s in scenarios)\n",
    "\n",
    "# # We cannot ship more from a PF then we produced\n",
    "# model.addConstrs(gp.quicksum(ship[w, d] for d in distributionCenter) <=  products[w] for w in warehouse)\n",
    "\n",
    "# model.optimize()\n",
    "# model.printAttr([\"X\"])\n",
    "# # print('Total cost:', model.OBJVAL)"
   ]
  },
  {
   "cell_type": "code",
   "execution_count": 12,
   "metadata": {},
   "outputs": [
    {
     "name": "stdout",
     "output_type": "stream",
     "text": [
      "Gurobi Optimizer version 10.0.0 build v10.0.0rc2 (mac64[rosetta2])\n",
      "\n",
      "CPU model: Apple M1 Pro\n",
      "Thread count: 8 physical cores, 8 logical processors, using up to 8 threads\n",
      "\n",
      "Optimize a model with 55 rows, 39 columns and 129 nonzeros\n",
      "Model fingerprint: 0xe1c4a945\n",
      "Variable types: 0 continuous, 39 integer (0 binary)\n",
      "Coefficient statistics:\n",
      "  Matrix range     [1e+00, 1e+00]\n",
      "  Objective range  [2e-01, 1e+01]\n",
      "  Bounds range     [0e+00, 0e+00]\n",
      "  RHS range        [1e+03, 8e+03]\n",
      "Found heuristic solution: objective -0.0000000\n",
      "Presolve removed 37 rows and 1 columns\n",
      "Presolve time: 0.00s\n",
      "Presolved: 18 rows, 38 columns, 66 nonzeros\n",
      "Variable types: 0 continuous, 38 integer (0 binary)\n",
      "\n",
      "Root relaxation: objective 1.049990e+05, 15 iterations, 0.00 seconds (0.00 work units)\n",
      "\n",
      "    Nodes    |    Current Node    |     Objective Bounds      |     Work\n",
      " Expl Unexpl |  Obj  Depth IntInf | Incumbent    BestBd   Gap | It/Node Time\n",
      "\n",
      "*    0     0               0    104999.00000 104999.000  0.00%     -    0s\n",
      "\n",
      "Explored 1 nodes (15 simplex iterations) in 0.01 seconds (0.00 work units)\n",
      "Thread count was 8 (of 8 available processors)\n",
      "\n",
      "Solution count 2: 104999 -0 \n",
      "\n",
      "Optimal solution found (tolerance 1.00e-04)\n",
      "Best objective 1.049990000000e+05, best bound 1.049990000000e+05, gap 0.0000%\n",
      "\n",
      "    Variable            X \n",
      "-------------------------\n",
      "     product        16700 \n",
      "      PtW[A]         6700 \n",
      "      PtW[B]        10000 \n",
      "  WtD[A,1,a]         5000 \n",
      "  WtD[A,1,b]         3000 \n",
      "  WtD[A,1,c]         4200 \n",
      "  WtD[A,2,a]          800 \n",
      "  WtD[A,4,a]          900 \n",
      "  WtD[A,4,c]         2500 \n",
      "  WtD[B,2,a]         2200 \n",
      "  WtD[B,2,b]         1000 \n",
      "  WtD[B,2,c]         4100 \n",
      "  WtD[B,3,a]         7800 \n",
      "  WtD[B,3,b]         6000 \n",
      "  WtD[B,3,c]         3000 \n",
      "  WtD[B,4,b]         3000 \n",
      "  WtD[B,4,c]         2900 \n",
      "     SE[1,a]         5000 \n",
      "     SE[1,b]         3000 \n",
      "     SE[1,c]         4200 \n",
      "     SE[2,a]         3000 \n",
      "     SE[2,b]         1000 \n",
      "     SE[2,c]         4100 \n",
      "     SE[3,a]         7800 \n",
      "     SE[3,b]         6000 \n",
      "     SE[3,c]         3000 \n",
      "     SE[4,a]          900 \n",
      "     SE[4,b]         3000 \n",
      "     SE[4,c]         5400 \n",
      "Total cost: 104999.0\n"
     ]
    }
   ],
   "source": [
    "# Setting up variables\n",
    "cost = 10\n",
    "profit = 20\n",
    "\n",
    "warehouses = ['A', 'B']\n",
    "warehouse_cost = {'A': 1, 'B': 1.5}\n",
    "\n",
    "distribution_centers = [1, 2, 3, 4]\n",
    "distribution_cost = {('A', 1): 1.5, ('A', 2): 2, ('A', 3): 2, ('A', 4): 3, ('B', 1): 2, ('B', 2): 1.2, ('B', 3): 1.1, ('B', 4): 2.5}\n",
    "\n",
    "scenarios = ['a', 'b', 'c']\n",
    "senario_probabilities = {'a': 0.3, 'b': 0.2, 'c': 0.5}\n",
    "\n",
    "# demands = {('a', 1): 5, ('a', 2): 3, ('a', 3): 7.8, ('a', 4): 4, ('b', 1): 3, ('b', 2): 1, ('b', 3): 6, ('b', 4): 3, ('c', 1): 4.2, ('c', 2): 4.1, ('c', 3): 3, ('c', 4): 5.4}\n",
    "\n",
    "demands = {('a', 1): 5.0*1000, ('a', 2): 3.0*1000, ('a', 3): 7.8*1000, ('a', 4): 4.0*1000, \n",
    "           ('b', 1): 3.0*1000, ('b', 2): 1.0*1000, ('b', 3): 6.0*1000, ('b', 4): 3.0*1000, \n",
    "           ('c', 1): 4.2*1000, ('c', 2): 4.1*1000, ('c', 3): 3.0*1000, ('c', 4): 5.4*1000}\n",
    "\n",
    "model = gp.Model('Transportation')\n",
    "\n",
    "# First\n",
    "to_produce = model.addVar(name='product', vtype=gp.GRB.INTEGER)\n",
    "PtW = model.addVars(warehouses, vtype = gp.GRB.INTEGER, name = 'PtW')\n",
    "\n",
    "# Second\n",
    "WtD = model.addVars(warehouses, distribution_centers, scenarios, vtype = gp.GRB.INTEGER, name = 'WtD')\n",
    "SE = model.addVars(distribution_centers, scenarios, vtype = gp.GRB.INTEGER, name = 'SE')\n",
    "\n",
    "# Set Objective\n",
    "obj = 0\n",
    "obj -= to_produce * cost # cost to produce\n",
    "obj -= gp.quicksum(PtW[w] * warehouse_cost[w] for w in warehouse_cost) # cost to ship to warehouse\n",
    "obj -= gp.quicksum(senario_probabilities[s] * WtD[w,d,s] * distribution_cost[(w,d)] for w in warehouses for d in distribution_centers for s in scenarios) # cost to ship from warehouse to distribution center\n",
    "obj += gp.quicksum(senario_probabilities[s] * SE[d, s] * profit for d in distribution_centers for s in scenarios) # profits from sales\n",
    "\n",
    "model.setObjective(obj, gp.GRB.MAXIMIZE)\n",
    "\n",
    "# Add Constraints\n",
    "# Everything we produce must be sent to A or B\n",
    "model.addConstr(gp.quicksum(PtW[w] for w in warehouses) == to_produce)\n",
    "\n",
    "# # What is in the warehouse can be larger or equal to what is send out\n",
    "# model.addConstrs(PtW[w] >= WtD[w, d, s] for w in warehouses for d in distribution_centers for s in scenarios)\n",
    "\n",
    "# We can not ship more form the warehouses than we produced\n",
    "model.addConstrs(gp.quicksum(WtD[w, d, s] for d in distribution_centers) <= PtW[w] for w in warehouses for s in scenarios)\n",
    "\n",
    "# Sales can not be bigger than the demand\n",
    "model.addConstrs(SE[d,s]<=demands[s,d] for d in distribution_centers for s in scenarios)\n",
    "\n",
    "# The sales cannot be bigger then the products at the distribution center\n",
    "model.addConstrs(SE[d,s] <= gp.quicksum(WtD[w, d, s] for w in warehouses) for d in distribution_centers for s in scenarios)\n",
    "\n",
    "model.optimize()\n",
    "model.printAttr([\"X\"])\n",
    "print('Total cost:', model.OBJVAL)"
   ]
  },
  {
   "cell_type": "markdown",
   "metadata": {},
   "source": [
    "## Q3b"
   ]
  },
  {
   "cell_type": "code",
   "execution_count": 5,
   "metadata": {},
   "outputs": [],
   "source": [
    "df_demand = pd.read_csv('/Users/mlvos/Desktop/Moritz/Education/Erasmus University/Management Science/Individual Assignment 2/demand.csv', encoding='latin-1')\n",
    "df_transportation_cost = pd.read_csv('/Users/mlvos/Desktop/Moritz/Education/Erasmus University/Management Science/Individual Assignment 2/TranportationCosts.csv', encoding='latin-1')"
   ]
  },
  {
   "cell_type": "code",
   "execution_count": 6,
   "metadata": {},
   "outputs": [],
   "source": [
    "# Setting up variables\n",
    "cost = 10\n",
    "profit = 20\n",
    "fixed_cost = 100000"
   ]
  },
  {
   "cell_type": "code",
   "execution_count": 7,
   "metadata": {},
   "outputs": [],
   "source": [
    "warehouses = list(df_transportation_cost['Warehouse'])\n",
    "warehouse_cost = {}\n",
    "for index, row in df_transportation_cost[['Warehouse', 'PFacility']].iterrows():\n",
    "    warehouse_cost[row.Warehouse] = row.PFacility\n",
    "\n",
    "distribution_centers = list(df_demand.DistributionCenter)\n",
    "distribution_cost = {}\n",
    "for wh in warehouses:\n",
    "    for dc in distribution_centers:\n",
    "        distribution_cost[(wh, dc)] = df_transportation_cost.set_index('Warehouse').loc[wh, dc]\n",
    "        \n",
    "scenarios = list(df_demand.columns.drop('DistributionCenter'))\n",
    "senario_probabilities = {}\n",
    "for s in scenarios:\n",
    "    senario_probabilities[s] = .01\n",
    "    \n",
    "demands = {}\n",
    "for s in scenarios:\n",
    "    for dc in distribution_centers:\n",
    "        demands[(s, dc)] = df_demand.set_index('DistributionCenter').loc[dc, s]"
   ]
  },
  {
   "cell_type": "code",
   "execution_count": 8,
   "metadata": {},
   "outputs": [],
   "source": [
    "bigM = 300000"
   ]
  },
  {
   "cell_type": "code",
   "execution_count": 10,
   "metadata": {},
   "outputs": [
    {
     "name": "stdout",
     "output_type": "stream",
     "text": [
      "Gurobi Optimizer version 10.0.0 build v10.0.0rc2 (mac64[rosetta2])\n",
      "\n",
      "CPU model: Apple M1 Pro\n",
      "Thread count: 8 physical cores, 8 logical processors, using up to 8 threads\n",
      "\n",
      "Optimize a model with 10524 rows, 98447 columns and 199170 nonzeros\n",
      "Model fingerprint: 0x14fda494\n",
      "Variable types: 0 continuous, 98447 integer (23 binary)\n",
      "Coefficient statistics:\n",
      "  Matrix range     [1e+00, 3e+05]\n",
      "  Objective range  [9e-03, 1e+05]\n",
      "  Bounds range     [1e+00, 1e+00]\n",
      "  RHS range        [7e+02, 4e+04]\n",
      "Found heuristic solution: objective -0.0000000\n",
      "Presolve removed 4101 rows and 1 columns\n",
      "Presolve time: 0.19s\n",
      "Presolved: 6423 rows, 98446 columns, 195046 nonzeros\n",
      "Variable types: 0 continuous, 98446 integer (23 binary)\n",
      "Deterministic concurrent LP optimizer: primal and dual simplex\n",
      "Showing first log only...\n",
      "\n",
      "Concurrent spin time: 0.00s\n",
      "\n",
      "Solved with dual simplex\n",
      "\n",
      "Root relaxation: objective 2.210736e+06, 13637 iterations, 0.89 seconds (0.80 work units)\n",
      "\n",
      "    Nodes    |    Current Node    |     Objective Bounds      |     Work\n",
      " Expl Unexpl |  Obj  Depth IntInf | Incumbent    BestBd   Gap | It/Node Time\n",
      "\n",
      "     0     0 2210735.55    0   17   -0.00000 2210735.55      -     -    1s\n",
      "H    0     0                    603549.21200 2210735.55   266%     -    1s\n",
      "H    0     0                    830164.97700 2210735.55   166%     -    1s\n",
      "H    0     0                    1928338.6840 2210735.55  14.6%     -    1s\n",
      "H    0     0                    1928338.8620 2210735.55  14.6%     -    1s\n",
      "H    0     0                    1928347.9130 2210735.55  14.6%     -    1s\n",
      "H    0     0                    1928452.3560 2210735.55  14.6%     -    1s\n",
      "     0     0 2204436.55    0 5441 1928452.36 2204436.55  14.3%     -    2s\n",
      "     0     0 2191982.53    0 7297 1928452.36 2191982.53  13.7%     -    5s\n",
      "H    0     0                    1928455.2990 2170738.87  12.6%     -    8s\n",
      "     0     0 2170738.87    0 8652 1928455.30 2170738.87  12.6%     -    8s\n",
      "     0     0 2139364.32    0 8384 1928455.30 2139364.32  10.9%     -   12s\n",
      "     0     0 2135658.65    0 8878 1928455.30 2135658.65  10.7%     -   14s\n",
      "     0     0 2134582.48    0 9012 1928455.30 2134582.48  10.7%     -   15s\n",
      "     0     0 2133835.63    0 9077 1928455.30 2133835.63  10.6%     -   16s\n",
      "     0     0 2133827.99    0 9192 1928455.30 2133827.99  10.6%     -   16s\n",
      "     0     0 2133827.99    0 9132 1928455.30 2133827.99  10.6%     -   16s\n",
      "     0     0 2133827.99    0 9228 1928455.30 2133827.99  10.6%     -   16s\n",
      "     0     0 2133257.05    0 9239 1928455.30 2133257.05  10.6%     -   17s\n",
      "     0     0 2133257.05    0 9253 1928455.30 2133257.05  10.6%     -   17s\n",
      "     0     0 2129993.24    0 9860 1928455.30 2129993.24  10.5%     -   22s\n",
      "     0     0 2129993.24    0 9707 1928455.30 2129993.24  10.5%     -   22s\n",
      "H    0     0                    1928464.9960 2129993.24  10.5%     -   27s\n",
      "H    0     2                    1928469.0740 2129993.24  10.4%     -   28s\n",
      "     0     2 2129993.24    0 9601 1928469.07 2129993.24  10.4%     -   28s\n",
      "     1     4 2129993.24    1 8980 1928469.07 2129993.24  10.4% 11345   38s\n",
      "     3     8 2129993.24    2 8343 1928469.07 2129993.24  10.4% 18945   44s\n",
      "     7    16 2129993.24    3 8275 1928469.07 2129993.24  10.4% 14743   52s\n",
      "    23    32 2109101.23    4 6281 1928469.07 2129993.24  10.4% 10027   58s\n",
      "H   32    40                    1928472.3880 2129993.24  10.4%  8355   59s\n",
      "H   32    40                    1928476.8430 2129993.24  10.4%  8355   59s\n",
      "    39    48 2129993.24    6 6544 1928476.84 2129993.24  10.4%  7257   61s\n",
      "*   76    73              10    1953097.2870 2129993.24  9.06%  4136   63s\n",
      "    78    78 2094591.72    9 5078 1953097.29 2129993.24  9.06%  4108   65s\n",
      "H   79    78                    2033009.1080 2129993.24  4.77%  4056   65s\n",
      "H   84    78                    2045209.4920 2129993.24  4.15%  3837   65s\n",
      "H   91    78                    2090734.9000 2129993.24  1.88%  3585   65s\n",
      "H  112    70                    2094013.3840 2129993.24  1.72%  2948   67s\n",
      "H  113    70                    2094017.0750 2129993.24  1.72%  2954   67s\n",
      "H  120    70                    2124505.0020 2129993.24  0.26%  2791   67s\n",
      "*  143    40              16    2124910.4550 2129993.24  0.24%  2433   67s\n",
      "\n",
      "Cutting planes:\n",
      "  Gomory: 2\n",
      "  Implied bound: 7645\n",
      "  MIR: 1125\n",
      "  StrongCG: 2\n",
      "  Flow cover: 1010\n",
      "  Zero half: 1\n",
      "\n",
      "Explored 205 nodes (426606 simplex iterations) in 68.96 seconds (125.08 work units)\n",
      "Thread count was 8 (of 8 available processors)\n",
      "\n",
      "Solution count 10: 2.12491e+06 2.12451e+06 2.09402e+06 ... 1.92847e+06\n",
      "\n",
      "Optimal solution found (tolerance 1.00e-04)\n",
      "Best objective 2.124910455000e+06, best bound 2.124910455000e+06, gap 0.0000%\n",
      "Total cost: 2124910.4550000015\n"
     ]
    }
   ],
   "source": [
    "model = gp.Model('Transportation')\n",
    "\n",
    "## Declare Variables\n",
    "# First\n",
    "to_produce = model.addVar(name='product', vtype=gp.GRB.INTEGER)\n",
    "Wh = model.addVars(warehouses, vtype = gp.GRB.BINARY, name = 'Wh')\n",
    "PtW = model.addVars(warehouses, vtype = gp.GRB.INTEGER, name = 'PtW')\n",
    "\n",
    "# Second\n",
    "WtD = model.addVars(warehouses, distribution_centers, scenarios, vtype = gp.GRB.INTEGER, name = 'WtD')\n",
    "SE = model.addVars(distribution_centers, scenarios, vtype = gp.GRB.INTEGER, name = 'SE')\n",
    "\n",
    "## Set Objective\n",
    "obj = 0\n",
    "obj -= to_produce * cost # cost to produce\n",
    "obj -= gp.quicksum(Wh[w] * fixed_cost for w in warehouses) # fixed warehouse cost\n",
    "obj -= gp.quicksum(PtW[w] * warehouse_cost[w] for w in warehouse_cost) # cost to ship to warehouse\n",
    "obj -= gp.quicksum(senario_probabilities[s] * WtD[w,d,s] * distribution_cost[(w,d)] for w in warehouses for d in distribution_centers for s in scenarios) # cost to ship from warehouse to distribution center\n",
    "obj += gp.quicksum(senario_probabilities[s] * SE[d, s] * profit for d in distribution_centers for s in scenarios) # profits from sales\n",
    "\n",
    "model.setObjective(obj, gp.GRB.MAXIMIZE)\n",
    "\n",
    "## Add Constraints\n",
    "# Everything we produce must be sent to warehouse A or B\n",
    "model.addConstr(gp.quicksum(PtW[w] for w in warehouses) == to_produce)\n",
    "\n",
    "# We can not ship more from a warehouses than we send to it\n",
    "model.addConstrs(gp.quicksum(WtD[w, d, s] for d in distribution_centers) <= PtW[w] for w in warehouses for s in scenarios)\n",
    "\n",
    "# If products are send to a warehouse then the bin variable \n",
    "model.addConstrs(PtW[w] <= Wh[w] * bigM for w in warehouses)\n",
    "        \n",
    "# # Model if x > y, then b = 1, otherwise b = 0\n",
    "# model.addConstrs(PtW[w] >= 0 + 0 - bigM * (1 - Wh[w]) for w in warehouses)\n",
    "# model.addConstrs(PtW[w] <= 0 + bigM * Wh[w] for w in warehouses)\n",
    "\n",
    "# # Add indicator constraints\n",
    "# model.addConstrs((Wh[w] == 1) >> (PtW[w] == PtW[w]) for w in warehouses)\n",
    "# model.addConstrs((Wh[w] == 0) >> (PtW[w] ==  0) for w in warehouses)\n",
    "\n",
    "# Sales can not be bigger than the demand\n",
    "model.addConstrs(SE[d,s] <= demands[s,d] for d in distribution_centers for s in scenarios)\n",
    "\n",
    "# The sales cannot be bigger then the products at the distribution center\n",
    "model.addConstrs(SE[d,s] <= gp.quicksum(WtD[w, d, s] for w in warehouses) for d in distribution_centers for s in scenarios)\n",
    "\n",
    "model.optimize()\n",
    "# model.printAttr([\"X\"])\n",
    "print('Total cost:', model.OBJVAL)"
   ]
  },
  {
   "cell_type": "code",
   "execution_count": 78,
   "metadata": {},
   "outputs": [
    {
     "data": {
      "text/html": [
       "<div>\n",
       "<style scoped>\n",
       "    .dataframe tbody tr th:only-of-type {\n",
       "        vertical-align: middle;\n",
       "    }\n",
       "\n",
       "    .dataframe tbody tr th {\n",
       "        vertical-align: top;\n",
       "    }\n",
       "\n",
       "    .dataframe thead th {\n",
       "        text-align: right;\n",
       "    }\n",
       "</style>\n",
       "<table border=\"1\" class=\"dataframe\">\n",
       "  <thead>\n",
       "    <tr style=\"text-align: right;\">\n",
       "      <th></th>\n",
       "      <th>WH</th>\n",
       "      <th>DC</th>\n",
       "      <th>Scenraio</th>\n",
       "      <th>Sent</th>\n",
       "    </tr>\n",
       "  </thead>\n",
       "  <tbody>\n",
       "    <tr>\n",
       "      <th>0</th>\n",
       "      <td>WH-Seville</td>\n",
       "      <td>DC-Vienna</td>\n",
       "      <td>S1</td>\n",
       "      <td>-0.0</td>\n",
       "    </tr>\n",
       "    <tr>\n",
       "      <th>1</th>\n",
       "      <td>WH-Seville</td>\n",
       "      <td>DC-Vienna</td>\n",
       "      <td>S2</td>\n",
       "      <td>-0.0</td>\n",
       "    </tr>\n",
       "    <tr>\n",
       "      <th>2</th>\n",
       "      <td>WH-Seville</td>\n",
       "      <td>DC-Vienna</td>\n",
       "      <td>S3</td>\n",
       "      <td>-0.0</td>\n",
       "    </tr>\n",
       "    <tr>\n",
       "      <th>3</th>\n",
       "      <td>WH-Seville</td>\n",
       "      <td>DC-Vienna</td>\n",
       "      <td>S4</td>\n",
       "      <td>-0.0</td>\n",
       "    </tr>\n",
       "    <tr>\n",
       "      <th>4</th>\n",
       "      <td>WH-Seville</td>\n",
       "      <td>DC-Vienna</td>\n",
       "      <td>S5</td>\n",
       "      <td>-0.0</td>\n",
       "    </tr>\n",
       "    <tr>\n",
       "      <th>...</th>\n",
       "      <td>...</td>\n",
       "      <td>...</td>\n",
       "      <td>...</td>\n",
       "      <td>...</td>\n",
       "    </tr>\n",
       "    <tr>\n",
       "      <th>94295</th>\n",
       "      <td>WH-Bordeaux</td>\n",
       "      <td>DC-Marseille</td>\n",
       "      <td>S96</td>\n",
       "      <td>-0.0</td>\n",
       "    </tr>\n",
       "    <tr>\n",
       "      <th>94296</th>\n",
       "      <td>WH-Bordeaux</td>\n",
       "      <td>DC-Marseille</td>\n",
       "      <td>S97</td>\n",
       "      <td>-0.0</td>\n",
       "    </tr>\n",
       "    <tr>\n",
       "      <th>94297</th>\n",
       "      <td>WH-Bordeaux</td>\n",
       "      <td>DC-Marseille</td>\n",
       "      <td>S98</td>\n",
       "      <td>-0.0</td>\n",
       "    </tr>\n",
       "    <tr>\n",
       "      <th>94298</th>\n",
       "      <td>WH-Bordeaux</td>\n",
       "      <td>DC-Marseille</td>\n",
       "      <td>S99</td>\n",
       "      <td>-0.0</td>\n",
       "    </tr>\n",
       "    <tr>\n",
       "      <th>94299</th>\n",
       "      <td>WH-Bordeaux</td>\n",
       "      <td>DC-Marseille</td>\n",
       "      <td>S100</td>\n",
       "      <td>-0.0</td>\n",
       "    </tr>\n",
       "  </tbody>\n",
       "</table>\n",
       "<p>94300 rows × 4 columns</p>\n",
       "</div>"
      ],
      "text/plain": [
       "                WH            DC Scenraio  Sent\n",
       "0       WH-Seville     DC-Vienna       S1  -0.0\n",
       "1       WH-Seville     DC-Vienna       S2  -0.0\n",
       "2       WH-Seville     DC-Vienna       S3  -0.0\n",
       "3       WH-Seville     DC-Vienna       S4  -0.0\n",
       "4       WH-Seville     DC-Vienna       S5  -0.0\n",
       "...            ...           ...      ...   ...\n",
       "94295  WH-Bordeaux  DC-Marseille      S96  -0.0\n",
       "94296  WH-Bordeaux  DC-Marseille      S97  -0.0\n",
       "94297  WH-Bordeaux  DC-Marseille      S98  -0.0\n",
       "94298  WH-Bordeaux  DC-Marseille      S99  -0.0\n",
       "94299  WH-Bordeaux  DC-Marseille     S100  -0.0\n",
       "\n",
       "[94300 rows x 4 columns]"
      ]
     },
     "execution_count": 78,
     "metadata": {},
     "output_type": "execute_result"
    }
   ],
   "source": [
    "# extract optimal pairs from the gurobi model\n",
    "# results = []\n",
    "# for k,v in WtD.items():\n",
    "#     print(k, k, v.X)\n",
    "\n",
    "vals = {k : v.X for k,v in WtD.items()}\n",
    "vals\n",
    "\n",
    "df_vals = pd.DataFrame([k + (v,) for k, v in vals.items()], columns=['WH', 'DC', 'Scenraio', 'Sent'])\n",
    "df_vals"
   ]
  },
  {
   "cell_type": "code",
   "execution_count": 82,
   "metadata": {},
   "outputs": [
    {
     "data": {
      "text/html": [
       "<div>\n",
       "<style scoped>\n",
       "    .dataframe tbody tr th:only-of-type {\n",
       "        vertical-align: middle;\n",
       "    }\n",
       "\n",
       "    .dataframe tbody tr th {\n",
       "        vertical-align: top;\n",
       "    }\n",
       "\n",
       "    .dataframe thead th {\n",
       "        text-align: right;\n",
       "    }\n",
       "</style>\n",
       "<table border=\"1\" class=\"dataframe\">\n",
       "  <thead>\n",
       "    <tr style=\"text-align: right;\">\n",
       "      <th></th>\n",
       "      <th>WH</th>\n",
       "      <th>DC</th>\n",
       "      <th>Scenraio</th>\n",
       "      <th>Sent</th>\n",
       "    </tr>\n",
       "  </thead>\n",
       "  <tbody>\n",
       "    <tr>\n",
       "      <th>12300</th>\n",
       "      <td>WH-Stuttgart</td>\n",
       "      <td>DC-Vienna</td>\n",
       "      <td>S1</td>\n",
       "      <td>8831.0</td>\n",
       "    </tr>\n",
       "    <tr>\n",
       "      <th>12301</th>\n",
       "      <td>WH-Stuttgart</td>\n",
       "      <td>DC-Vienna</td>\n",
       "      <td>S2</td>\n",
       "      <td>10174.0</td>\n",
       "    </tr>\n",
       "    <tr>\n",
       "      <th>12302</th>\n",
       "      <td>WH-Stuttgart</td>\n",
       "      <td>DC-Vienna</td>\n",
       "      <td>S3</td>\n",
       "      <td>7921.0</td>\n",
       "    </tr>\n",
       "    <tr>\n",
       "      <th>12303</th>\n",
       "      <td>WH-Stuttgart</td>\n",
       "      <td>DC-Vienna</td>\n",
       "      <td>S4</td>\n",
       "      <td>10678.0</td>\n",
       "    </tr>\n",
       "    <tr>\n",
       "      <th>12304</th>\n",
       "      <td>WH-Stuttgart</td>\n",
       "      <td>DC-Vienna</td>\n",
       "      <td>S5</td>\n",
       "      <td>13586.0</td>\n",
       "    </tr>\n",
       "    <tr>\n",
       "      <th>...</th>\n",
       "      <td>...</td>\n",
       "      <td>...</td>\n",
       "      <td>...</td>\n",
       "      <td>...</td>\n",
       "    </tr>\n",
       "    <tr>\n",
       "      <th>16395</th>\n",
       "      <td>WH-Stuttgart</td>\n",
       "      <td>DC-Marseille</td>\n",
       "      <td>S96</td>\n",
       "      <td>2579.0</td>\n",
       "    </tr>\n",
       "    <tr>\n",
       "      <th>16396</th>\n",
       "      <td>WH-Stuttgart</td>\n",
       "      <td>DC-Marseille</td>\n",
       "      <td>S97</td>\n",
       "      <td>2868.0</td>\n",
       "    </tr>\n",
       "    <tr>\n",
       "      <th>16397</th>\n",
       "      <td>WH-Stuttgart</td>\n",
       "      <td>DC-Marseille</td>\n",
       "      <td>S98</td>\n",
       "      <td>3344.0</td>\n",
       "    </tr>\n",
       "    <tr>\n",
       "      <th>16398</th>\n",
       "      <td>WH-Stuttgart</td>\n",
       "      <td>DC-Marseille</td>\n",
       "      <td>S99</td>\n",
       "      <td>4576.0</td>\n",
       "    </tr>\n",
       "    <tr>\n",
       "      <th>16399</th>\n",
       "      <td>WH-Stuttgart</td>\n",
       "      <td>DC-Marseille</td>\n",
       "      <td>S100</td>\n",
       "      <td>3848.0</td>\n",
       "    </tr>\n",
       "  </tbody>\n",
       "</table>\n",
       "<p>4100 rows × 4 columns</p>\n",
       "</div>"
      ],
      "text/plain": [
       "                 WH            DC Scenraio     Sent\n",
       "12300  WH-Stuttgart     DC-Vienna       S1   8831.0\n",
       "12301  WH-Stuttgart     DC-Vienna       S2  10174.0\n",
       "12302  WH-Stuttgart     DC-Vienna       S3   7921.0\n",
       "12303  WH-Stuttgart     DC-Vienna       S4  10678.0\n",
       "12304  WH-Stuttgart     DC-Vienna       S5  13586.0\n",
       "...             ...           ...      ...      ...\n",
       "16395  WH-Stuttgart  DC-Marseille      S96   2579.0\n",
       "16396  WH-Stuttgart  DC-Marseille      S97   2868.0\n",
       "16397  WH-Stuttgart  DC-Marseille      S98   3344.0\n",
       "16398  WH-Stuttgart  DC-Marseille      S99   4576.0\n",
       "16399  WH-Stuttgart  DC-Marseille     S100   3848.0\n",
       "\n",
       "[4100 rows x 4 columns]"
      ]
     },
     "execution_count": 82,
     "metadata": {},
     "output_type": "execute_result"
    }
   ],
   "source": [
    "df_stuttgart = df_vals.loc[df_vals['WH'] == 'WH-Stuttgart']\n",
    "df_stuttgart"
   ]
  },
  {
   "cell_type": "code",
   "execution_count": 39,
   "metadata": {},
   "outputs": [
    {
     "data": {
      "text/plain": [
       "1.5487804878048805"
      ]
     },
     "execution_count": 39,
     "metadata": {},
     "output_type": "execute_result"
    }
   ],
   "source": [
    "stuttagrt = []\n",
    "for k, v in distribution_cost:\n",
    "    stuttagrt.append(distribution_cost['WH-Stuttgart', v])\n",
    " \n",
    "sum = 0   \n",
    "for i in stuttagrt:\n",
    "    sum += i\n",
    "    \n",
    "sum/len(stuttagrt)"
   ]
  },
  {
   "cell_type": "code",
   "execution_count": 51,
   "metadata": {},
   "outputs": [
    {
     "data": {
      "text/html": [
       "<div>\n",
       "<style scoped>\n",
       "    .dataframe tbody tr th:only-of-type {\n",
       "        vertical-align: middle;\n",
       "    }\n",
       "\n",
       "    .dataframe tbody tr th {\n",
       "        vertical-align: top;\n",
       "    }\n",
       "\n",
       "    .dataframe thead th {\n",
       "        text-align: right;\n",
       "    }\n",
       "</style>\n",
       "<table border=\"1\" class=\"dataframe\">\n",
       "  <thead>\n",
       "    <tr style=\"text-align: right;\">\n",
       "      <th></th>\n",
       "      <th>Cost</th>\n",
       "    </tr>\n",
       "    <tr>\n",
       "      <th>WH</th>\n",
       "      <th></th>\n",
       "    </tr>\n",
       "  </thead>\n",
       "  <tbody>\n",
       "    <tr>\n",
       "      <th>WH-Stuttgart</th>\n",
       "      <td>1.548780</td>\n",
       "    </tr>\n",
       "    <tr>\n",
       "      <th>WH-Charleroi</th>\n",
       "      <td>1.558537</td>\n",
       "    </tr>\n",
       "    <tr>\n",
       "      <th>WH-Bordeaux</th>\n",
       "      <td>1.673171</td>\n",
       "    </tr>\n",
       "    <tr>\n",
       "      <th>WH-Bristol</th>\n",
       "      <td>1.682927</td>\n",
       "    </tr>\n",
       "    <tr>\n",
       "      <th>WH-KrakÃ³w</th>\n",
       "      <td>1.734146</td>\n",
       "    </tr>\n",
       "    <tr>\n",
       "      <th>WH-Palma de Mallorca</th>\n",
       "      <td>1.795122</td>\n",
       "    </tr>\n",
       "    <tr>\n",
       "      <th>WH-Glasgow</th>\n",
       "      <td>1.814634</td>\n",
       "    </tr>\n",
       "    <tr>\n",
       "      <th>WH-Oslo</th>\n",
       "      <td>1.846341</td>\n",
       "    </tr>\n",
       "    <tr>\n",
       "      <th>WH-Hanover</th>\n",
       "      <td>1.860976</td>\n",
       "    </tr>\n",
       "    <tr>\n",
       "      <th>WH-Rhodes</th>\n",
       "      <td>1.870732</td>\n",
       "    </tr>\n",
       "    <tr>\n",
       "      <th>WH-Riga</th>\n",
       "      <td>1.926829</td>\n",
       "    </tr>\n",
       "    <tr>\n",
       "      <th>WH-Palermo</th>\n",
       "      <td>1.953659</td>\n",
       "    </tr>\n",
       "    <tr>\n",
       "      <th>WH-Pisa</th>\n",
       "      <td>1.965854</td>\n",
       "    </tr>\n",
       "    <tr>\n",
       "      <th>WH-Kyiv</th>\n",
       "      <td>2.056098</td>\n",
       "    </tr>\n",
       "    <tr>\n",
       "      <th>WH-MÃ¡laga</th>\n",
       "      <td>2.082927</td>\n",
       "    </tr>\n",
       "    <tr>\n",
       "      <th>WH-Liverpool</th>\n",
       "      <td>2.107317</td>\n",
       "    </tr>\n",
       "    <tr>\n",
       "      <th>WH-Seville</th>\n",
       "      <td>2.112195</td>\n",
       "    </tr>\n",
       "    <tr>\n",
       "      <th>WH-Faro</th>\n",
       "      <td>2.131707</td>\n",
       "    </tr>\n",
       "    <tr>\n",
       "      <th>WH-Athens</th>\n",
       "      <td>2.136585</td>\n",
       "    </tr>\n",
       "    <tr>\n",
       "      <th>WH-Katowice</th>\n",
       "      <td>2.221951</td>\n",
       "    </tr>\n",
       "    <tr>\n",
       "      <th>WH-Moscow</th>\n",
       "      <td>2.317073</td>\n",
       "    </tr>\n",
       "    <tr>\n",
       "      <th>WH-Heraklion</th>\n",
       "      <td>2.326829</td>\n",
       "    </tr>\n",
       "    <tr>\n",
       "      <th>WH-Krasnodar</th>\n",
       "      <td>2.987805</td>\n",
       "    </tr>\n",
       "  </tbody>\n",
       "</table>\n",
       "</div>"
      ],
      "text/plain": [
       "                          Cost\n",
       "WH                            \n",
       "WH-Stuttgart          1.548780\n",
       "WH-Charleroi          1.558537\n",
       "WH-Bordeaux           1.673171\n",
       "WH-Bristol            1.682927\n",
       "WH-KrakÃ³w            1.734146\n",
       "WH-Palma de Mallorca  1.795122\n",
       "WH-Glasgow            1.814634\n",
       "WH-Oslo               1.846341\n",
       "WH-Hanover            1.860976\n",
       "WH-Rhodes             1.870732\n",
       "WH-Riga               1.926829\n",
       "WH-Palermo            1.953659\n",
       "WH-Pisa               1.965854\n",
       "WH-Kyiv               2.056098\n",
       "WH-MÃ¡laga            2.082927\n",
       "WH-Liverpool          2.107317\n",
       "WH-Seville            2.112195\n",
       "WH-Faro               2.131707\n",
       "WH-Athens             2.136585\n",
       "WH-Katowice           2.221951\n",
       "WH-Moscow             2.317073\n",
       "WH-Heraklion          2.326829\n",
       "WH-Krasnodar          2.987805"
      ]
     },
     "execution_count": 51,
     "metadata": {},
     "output_type": "execute_result"
    }
   ],
   "source": [
    "df = pd.DataFrame([k + (v,) for k, v in distribution_cost.items()], columns=['WH', 'DC', 'Cost'])\n",
    "df.groupby('WH').mean().sort_values('Cost')"
   ]
  },
  {
   "cell_type": "code",
   "execution_count": 69,
   "metadata": {},
   "outputs": [
    {
     "data": {
      "text/plain": [
       "281632.8367337312"
      ]
     },
     "execution_count": 69,
     "metadata": {},
     "output_type": "execute_result"
    }
   ],
   "source": [
    "df_demand['mean'] = df_demand.iloc[:, 1:].mean(axis=1)\n",
    "df_demand['mean'].sum()\n"
   ]
  }
 ],
 "metadata": {
  "kernelspec": {
   "display_name": "Python 3.9.12 ('base')",
   "language": "python",
   "name": "python3"
  },
  "language_info": {
   "codemirror_mode": {
    "name": "ipython",
    "version": 3
   },
   "file_extension": ".py",
   "mimetype": "text/x-python",
   "name": "python",
   "nbconvert_exporter": "python",
   "pygments_lexer": "ipython3",
   "version": "3.9.12 (main, Apr  5 2022, 01:53:17) \n[Clang 12.0.0 ]"
  },
  "orig_nbformat": 4,
  "vscode": {
   "interpreter": {
    "hash": "9c224e4ce58b1a03a37cdb0fb0102ef0b8ba45feb74dc3d6ee1ccfe89c18bdf4"
   }
  }
 },
 "nbformat": 4,
 "nbformat_minor": 2
}
