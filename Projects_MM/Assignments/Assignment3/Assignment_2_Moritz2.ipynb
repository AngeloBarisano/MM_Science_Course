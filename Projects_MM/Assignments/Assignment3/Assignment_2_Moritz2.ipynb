{
 "cells": [
  {
   "cell_type": "markdown",
   "metadata": {},
   "source": [
    "# Individual Assignment 2 - Moritz Voss 482724"
   ]
  },
  {
   "cell_type": "markdown",
   "metadata": {},
   "source": [
    "## Import libraries"
   ]
  },
  {
   "cell_type": "code",
   "execution_count": 4,
   "metadata": {},
   "outputs": [],
   "source": [
    "import pandas as pd\n",
    "import gurobipy as gp\n",
    "import numpy as np\n",
    "import seaborn as sn\n",
    "import matplotlib.pyplot as plt\n",
    "import plotly.express as px"
   ]
  },
  {
   "cell_type": "markdown",
   "metadata": {},
   "source": [
    "## Q1"
   ]
  },
  {
   "cell_type": "code",
   "execution_count": 5,
   "metadata": {},
   "outputs": [
    {
     "name": "stdout",
     "output_type": "stream",
     "text": [
      "Gurobi Optimizer version 10.0.0 build v10.0.0rc2 (mac64[rosetta2])\n",
      "\n",
      "CPU model: Apple M1 Pro\n",
      "Thread count: 8 physical cores, 8 logical processors, using up to 8 threads\n",
      "\n",
      "Optimize a model with 9 rows, 20 columns and 40 nonzeros\n",
      "Model fingerprint: 0x69b34e51\n",
      "Variable types: 0 continuous, 20 integer (20 binary)\n",
      "Coefficient statistics:\n",
      "  Matrix range     [1e+00, 1e+00]\n",
      "  Objective range  [3e+01, 4e+01]\n",
      "  Bounds range     [1e+00, 1e+00]\n",
      "  RHS range        [1e+00, 1e+00]\n",
      "Found heuristic solution: objective 136.3000000\n",
      "Presolve time: 0.00s\n",
      "Presolved: 9 rows, 20 columns, 40 nonzeros\n",
      "Variable types: 0 continuous, 20 integer (20 binary)\n",
      "Found heuristic solution: objective 135.8000000\n",
      "\n",
      "Root relaxation: objective 1.287000e+02, 8 iterations, 0.00 seconds (0.00 work units)\n",
      "\n",
      "    Nodes    |    Current Node    |     Objective Bounds      |     Work\n",
      " Expl Unexpl |  Obj  Depth IntInf | Incumbent    BestBd   Gap | It/Node Time\n",
      "\n",
      "*    0     0               0     128.7000000  128.70000  0.00%     -    0s\n",
      "\n",
      "Explored 1 nodes (8 simplex iterations) in 0.02 seconds (0.00 work units)\n",
      "Thread count was 8 (of 8 available processors)\n",
      "\n",
      "Solution count 3: 128.7 135.8 136.3 \n",
      "\n",
      "Optimal solution found (tolerance 1.00e-04)\n",
      "Best objective 1.287000000000e+02, best bound 1.287000000000e+02, gap 0.0000%\n",
      "\n",
      "    Variable            X \n",
      "-------------------------\n",
      "   [Mary,FR]            1 \n",
      "   [Lina,BR]            1 \n",
      "   [Asma,BA]            1 \n",
      "  [Carol,BU]            1 \n",
      "128.7\n"
     ]
    }
   ],
   "source": [
    "dic_swim1 = {('Nadine', 'BA'): 40.1, ('Nadine', 'BR'): 41.7, ('Nadine', 'BU'): 41.1, ('Nadine', 'FR'): 33.3, ('Mary', 'BA'): 39.6, ('Mary', 'BR'): 37.6, ('Mary', 'BU'): 31.9, \n",
    "            ('Mary', 'FR'): 31.2, ('Lina', 'BA'): 35.3, ('Lina', 'BR'): 37.9, ('Lina', 'BU'): 36.2, ('Lina', 'FR'): 33.1, ('Asma', 'BA'): 30.6, ('Asma', 'BR'): 34.1, \n",
    "            ('Asma', 'BU'): 33.3, ('Asma', 'FR'): 29.1, ('Carol', 'BA'): 36.9, ('Carol', 'BR'): 37.2, ('Carol', 'BU'): 29.0, ('Carol', 'FR'): 31.6}\n",
    "\n",
    "names = ['Nadine', 'Mary', 'Lina', 'Asma', 'Carol']\n",
    "styles = ['BA', 'BR', 'BU', 'FR']\n",
    "\n",
    "model = gp.Model()\n",
    "    \n",
    "# X mdoels all permutation \n",
    "x = model.addVars(dic_swim1, obj = dic_swim1, vtype=gp.GRB.BINARY, name = ' ')\n",
    "model.ModelSense = gp.GRB.MINIMIZE\n",
    "\n",
    "# Constarint\n",
    "for i in names:\n",
    "    model.addConstr(gp.quicksum((x[(i, j)] for j in styles)) <= 1)\n",
    "    \n",
    "for j in styles:\n",
    "    model.addConstr(gp.quicksum((x[(i, j)] for i in names)) == 1)\n",
    "    \n",
    "model.optimize()\n",
    "model.printAttr('X')\n",
    "print (model.ObjVal)"
   ]
  },
  {
   "cell_type": "markdown",
   "metadata": {},
   "source": [
    "## Q2a"
   ]
  },
  {
   "cell_type": "code",
   "execution_count": 6,
   "metadata": {},
   "outputs": [],
   "source": [
    "n = 10000\n",
    "max = 100\n",
    "booking_limit = list(range(20,81))\n",
    "customerP1 = np.random.poisson(lam=75,size=10000)\n",
    "customerP2 = np.random.poisson(lam=50,size=10000)\n",
    "profitAlpha = []\n",
    "\n",
    "for i in booking_limit:\n",
    "    salesP1 = np.where(customerP1 <= i, customerP1, i)\n",
    "    ticketsLeft = max - salesP1\n",
    "    salesP2 = np.where(customerP2 > ticketsLeft, ticketsLeft, customerP2)\n",
    "    revenue = (150*salesP1 + 500*salesP2)\n",
    "    profitAlpha.append([i, np.mean(revenue)])"
   ]
  },
  {
   "cell_type": "code",
   "execution_count": 7,
   "metadata": {},
   "outputs": [
    {
     "data": {
      "text/html": [
       "<div>\n",
       "<style scoped>\n",
       "    .dataframe tbody tr th:only-of-type {\n",
       "        vertical-align: middle;\n",
       "    }\n",
       "\n",
       "    .dataframe tbody tr th {\n",
       "        vertical-align: top;\n",
       "    }\n",
       "\n",
       "    .dataframe thead th {\n",
       "        text-align: right;\n",
       "    }\n",
       "</style>\n",
       "<table border=\"1\" class=\"dataframe\">\n",
       "  <thead>\n",
       "    <tr style=\"text-align: right;\">\n",
       "      <th></th>\n",
       "      <th>Alpha</th>\n",
       "      <th>Expected Revenue</th>\n",
       "    </tr>\n",
       "  </thead>\n",
       "  <tbody>\n",
       "    <tr>\n",
       "      <th>60</th>\n",
       "      <td>80</td>\n",
       "      <td>24264.615</td>\n",
       "    </tr>\n",
       "    <tr>\n",
       "      <th>59</th>\n",
       "      <td>79</td>\n",
       "      <td>24369.160</td>\n",
       "    </tr>\n",
       "    <tr>\n",
       "      <th>58</th>\n",
       "      <td>78</td>\n",
       "      <td>24487.705</td>\n",
       "    </tr>\n",
       "    <tr>\n",
       "      <th>57</th>\n",
       "      <td>77</td>\n",
       "      <td>24620.880</td>\n",
       "    </tr>\n",
       "    <tr>\n",
       "      <th>56</th>\n",
       "      <td>76</td>\n",
       "      <td>24769.630</td>\n",
       "    </tr>\n",
       "    <tr>\n",
       "      <th>...</th>\n",
       "      <td>...</td>\n",
       "      <td>...</td>\n",
       "    </tr>\n",
       "    <tr>\n",
       "      <th>24</th>\n",
       "      <td>44</td>\n",
       "      <td>31222.250</td>\n",
       "    </tr>\n",
       "    <tr>\n",
       "      <th>28</th>\n",
       "      <td>48</td>\n",
       "      <td>31255.260</td>\n",
       "    </tr>\n",
       "    <tr>\n",
       "      <th>25</th>\n",
       "      <td>45</td>\n",
       "      <td>31263.750</td>\n",
       "    </tr>\n",
       "    <tr>\n",
       "      <th>27</th>\n",
       "      <td>47</td>\n",
       "      <td>31283.755</td>\n",
       "    </tr>\n",
       "    <tr>\n",
       "      <th>26</th>\n",
       "      <td>46</td>\n",
       "      <td>31285.235</td>\n",
       "    </tr>\n",
       "  </tbody>\n",
       "</table>\n",
       "<p>61 rows × 2 columns</p>\n",
       "</div>"
      ],
      "text/plain": [
       "    Alpha  Expected Revenue\n",
       "60     80         24264.615\n",
       "59     79         24369.160\n",
       "58     78         24487.705\n",
       "57     77         24620.880\n",
       "56     76         24769.630\n",
       "..    ...               ...\n",
       "24     44         31222.250\n",
       "28     48         31255.260\n",
       "25     45         31263.750\n",
       "27     47         31283.755\n",
       "26     46         31285.235\n",
       "\n",
       "[61 rows x 2 columns]"
      ]
     },
     "execution_count": 7,
     "metadata": {},
     "output_type": "execute_result"
    }
   ],
   "source": [
    "profitAlpha = pd.DataFrame(profitAlpha, columns=['Alpha', 'Expected Revenue'])\n",
    "profitAlpha.sort_values('Expected Revenue')"
   ]
  },
  {
   "cell_type": "code",
   "execution_count": 8,
   "metadata": {},
   "outputs": [
    {
     "data": {
      "application/vnd.plotly.v1+json": {
       "config": {
        "plotlyServerURL": "https://plot.ly"
       },
       "data": [
        {
         "hovertemplate": "Alpha=%{x}<br>Expected Revenue=%{y}<extra></extra>",
         "legendgroup": "",
         "line": {
          "color": "#636efa",
          "dash": "solid"
         },
         "marker": {
          "symbol": "circle"
         },
         "mode": "lines",
         "name": "",
         "orientation": "v",
         "showlegend": false,
         "type": "scatter",
         "x": [
          20,
          21,
          22,
          23,
          24,
          25,
          26,
          27,
          28,
          29,
          30,
          31,
          32,
          33,
          34,
          35,
          36,
          37,
          38,
          39,
          40,
          41,
          42,
          43,
          44,
          45,
          46,
          47,
          48,
          49,
          50,
          51,
          52,
          53,
          54,
          55,
          56,
          57,
          58,
          59,
          60,
          61,
          62,
          63,
          64,
          65,
          66,
          67,
          68,
          69,
          70,
          71,
          72,
          73,
          74,
          75,
          76,
          77,
          78,
          79,
          80
         ],
         "xaxis": "x",
         "y": [
          28024.7,
          28174.65,
          28324.6,
          28474.55,
          28624.3,
          28774.05,
          28923.7,
          29073.25,
          29222.6,
          29371.7,
          29520.2,
          29668.2,
          29815,
          29960.6,
          30104.75,
          30246.75,
          30385.7,
          30520.7,
          30651.1,
          30774.6,
          30889.75,
          30994.25,
          31086.2,
          31162.6,
          31222.25,
          31263.75,
          31285.235,
          31283.755,
          31255.26,
          31201.535,
          31116.765,
          31004.355,
          30863.39,
          30695,
          30501.795,
          30283.865,
          30044.235,
          29785.295,
          29510.735,
          29222.8,
          28923.67,
          28617.97,
          28309.06,
          27999.215,
          27690.525,
          27386.61,
          27088.995,
          26799.65,
          26519.905,
          26251.42,
          25995.325,
          25752.98,
          25525.245,
          25311.955,
          25114.835,
          24934.41,
          24769.63,
          24620.88,
          24487.705,
          24369.16,
          24264.615
         ],
         "yaxis": "y"
        }
       ],
       "layout": {
        "legend": {
         "tracegroupgap": 0
        },
        "margin": {
         "t": 60
        },
        "template": {
         "data": {
          "bar": [
           {
            "error_x": {
             "color": "#2a3f5f"
            },
            "error_y": {
             "color": "#2a3f5f"
            },
            "marker": {
             "line": {
              "color": "#E5ECF6",
              "width": 0.5
             },
             "pattern": {
              "fillmode": "overlay",
              "size": 10,
              "solidity": 0.2
             }
            },
            "type": "bar"
           }
          ],
          "barpolar": [
           {
            "marker": {
             "line": {
              "color": "#E5ECF6",
              "width": 0.5
             },
             "pattern": {
              "fillmode": "overlay",
              "size": 10,
              "solidity": 0.2
             }
            },
            "type": "barpolar"
           }
          ],
          "carpet": [
           {
            "aaxis": {
             "endlinecolor": "#2a3f5f",
             "gridcolor": "white",
             "linecolor": "white",
             "minorgridcolor": "white",
             "startlinecolor": "#2a3f5f"
            },
            "baxis": {
             "endlinecolor": "#2a3f5f",
             "gridcolor": "white",
             "linecolor": "white",
             "minorgridcolor": "white",
             "startlinecolor": "#2a3f5f"
            },
            "type": "carpet"
           }
          ],
          "choropleth": [
           {
            "colorbar": {
             "outlinewidth": 0,
             "ticks": ""
            },
            "type": "choropleth"
           }
          ],
          "contour": [
           {
            "colorbar": {
             "outlinewidth": 0,
             "ticks": ""
            },
            "colorscale": [
             [
              0,
              "#0d0887"
             ],
             [
              0.1111111111111111,
              "#46039f"
             ],
             [
              0.2222222222222222,
              "#7201a8"
             ],
             [
              0.3333333333333333,
              "#9c179e"
             ],
             [
              0.4444444444444444,
              "#bd3786"
             ],
             [
              0.5555555555555556,
              "#d8576b"
             ],
             [
              0.6666666666666666,
              "#ed7953"
             ],
             [
              0.7777777777777778,
              "#fb9f3a"
             ],
             [
              0.8888888888888888,
              "#fdca26"
             ],
             [
              1,
              "#f0f921"
             ]
            ],
            "type": "contour"
           }
          ],
          "contourcarpet": [
           {
            "colorbar": {
             "outlinewidth": 0,
             "ticks": ""
            },
            "type": "contourcarpet"
           }
          ],
          "heatmap": [
           {
            "colorbar": {
             "outlinewidth": 0,
             "ticks": ""
            },
            "colorscale": [
             [
              0,
              "#0d0887"
             ],
             [
              0.1111111111111111,
              "#46039f"
             ],
             [
              0.2222222222222222,
              "#7201a8"
             ],
             [
              0.3333333333333333,
              "#9c179e"
             ],
             [
              0.4444444444444444,
              "#bd3786"
             ],
             [
              0.5555555555555556,
              "#d8576b"
             ],
             [
              0.6666666666666666,
              "#ed7953"
             ],
             [
              0.7777777777777778,
              "#fb9f3a"
             ],
             [
              0.8888888888888888,
              "#fdca26"
             ],
             [
              1,
              "#f0f921"
             ]
            ],
            "type": "heatmap"
           }
          ],
          "heatmapgl": [
           {
            "colorbar": {
             "outlinewidth": 0,
             "ticks": ""
            },
            "colorscale": [
             [
              0,
              "#0d0887"
             ],
             [
              0.1111111111111111,
              "#46039f"
             ],
             [
              0.2222222222222222,
              "#7201a8"
             ],
             [
              0.3333333333333333,
              "#9c179e"
             ],
             [
              0.4444444444444444,
              "#bd3786"
             ],
             [
              0.5555555555555556,
              "#d8576b"
             ],
             [
              0.6666666666666666,
              "#ed7953"
             ],
             [
              0.7777777777777778,
              "#fb9f3a"
             ],
             [
              0.8888888888888888,
              "#fdca26"
             ],
             [
              1,
              "#f0f921"
             ]
            ],
            "type": "heatmapgl"
           }
          ],
          "histogram": [
           {
            "marker": {
             "pattern": {
              "fillmode": "overlay",
              "size": 10,
              "solidity": 0.2
             }
            },
            "type": "histogram"
           }
          ],
          "histogram2d": [
           {
            "colorbar": {
             "outlinewidth": 0,
             "ticks": ""
            },
            "colorscale": [
             [
              0,
              "#0d0887"
             ],
             [
              0.1111111111111111,
              "#46039f"
             ],
             [
              0.2222222222222222,
              "#7201a8"
             ],
             [
              0.3333333333333333,
              "#9c179e"
             ],
             [
              0.4444444444444444,
              "#bd3786"
             ],
             [
              0.5555555555555556,
              "#d8576b"
             ],
             [
              0.6666666666666666,
              "#ed7953"
             ],
             [
              0.7777777777777778,
              "#fb9f3a"
             ],
             [
              0.8888888888888888,
              "#fdca26"
             ],
             [
              1,
              "#f0f921"
             ]
            ],
            "type": "histogram2d"
           }
          ],
          "histogram2dcontour": [
           {
            "colorbar": {
             "outlinewidth": 0,
             "ticks": ""
            },
            "colorscale": [
             [
              0,
              "#0d0887"
             ],
             [
              0.1111111111111111,
              "#46039f"
             ],
             [
              0.2222222222222222,
              "#7201a8"
             ],
             [
              0.3333333333333333,
              "#9c179e"
             ],
             [
              0.4444444444444444,
              "#bd3786"
             ],
             [
              0.5555555555555556,
              "#d8576b"
             ],
             [
              0.6666666666666666,
              "#ed7953"
             ],
             [
              0.7777777777777778,
              "#fb9f3a"
             ],
             [
              0.8888888888888888,
              "#fdca26"
             ],
             [
              1,
              "#f0f921"
             ]
            ],
            "type": "histogram2dcontour"
           }
          ],
          "mesh3d": [
           {
            "colorbar": {
             "outlinewidth": 0,
             "ticks": ""
            },
            "type": "mesh3d"
           }
          ],
          "parcoords": [
           {
            "line": {
             "colorbar": {
              "outlinewidth": 0,
              "ticks": ""
             }
            },
            "type": "parcoords"
           }
          ],
          "pie": [
           {
            "automargin": true,
            "type": "pie"
           }
          ],
          "scatter": [
           {
            "marker": {
             "colorbar": {
              "outlinewidth": 0,
              "ticks": ""
             }
            },
            "type": "scatter"
           }
          ],
          "scatter3d": [
           {
            "line": {
             "colorbar": {
              "outlinewidth": 0,
              "ticks": ""
             }
            },
            "marker": {
             "colorbar": {
              "outlinewidth": 0,
              "ticks": ""
             }
            },
            "type": "scatter3d"
           }
          ],
          "scattercarpet": [
           {
            "marker": {
             "colorbar": {
              "outlinewidth": 0,
              "ticks": ""
             }
            },
            "type": "scattercarpet"
           }
          ],
          "scattergeo": [
           {
            "marker": {
             "colorbar": {
              "outlinewidth": 0,
              "ticks": ""
             }
            },
            "type": "scattergeo"
           }
          ],
          "scattergl": [
           {
            "marker": {
             "colorbar": {
              "outlinewidth": 0,
              "ticks": ""
             }
            },
            "type": "scattergl"
           }
          ],
          "scattermapbox": [
           {
            "marker": {
             "colorbar": {
              "outlinewidth": 0,
              "ticks": ""
             }
            },
            "type": "scattermapbox"
           }
          ],
          "scatterpolar": [
           {
            "marker": {
             "colorbar": {
              "outlinewidth": 0,
              "ticks": ""
             }
            },
            "type": "scatterpolar"
           }
          ],
          "scatterpolargl": [
           {
            "marker": {
             "colorbar": {
              "outlinewidth": 0,
              "ticks": ""
             }
            },
            "type": "scatterpolargl"
           }
          ],
          "scatterternary": [
           {
            "marker": {
             "colorbar": {
              "outlinewidth": 0,
              "ticks": ""
             }
            },
            "type": "scatterternary"
           }
          ],
          "surface": [
           {
            "colorbar": {
             "outlinewidth": 0,
             "ticks": ""
            },
            "colorscale": [
             [
              0,
              "#0d0887"
             ],
             [
              0.1111111111111111,
              "#46039f"
             ],
             [
              0.2222222222222222,
              "#7201a8"
             ],
             [
              0.3333333333333333,
              "#9c179e"
             ],
             [
              0.4444444444444444,
              "#bd3786"
             ],
             [
              0.5555555555555556,
              "#d8576b"
             ],
             [
              0.6666666666666666,
              "#ed7953"
             ],
             [
              0.7777777777777778,
              "#fb9f3a"
             ],
             [
              0.8888888888888888,
              "#fdca26"
             ],
             [
              1,
              "#f0f921"
             ]
            ],
            "type": "surface"
           }
          ],
          "table": [
           {
            "cells": {
             "fill": {
              "color": "#EBF0F8"
             },
             "line": {
              "color": "white"
             }
            },
            "header": {
             "fill": {
              "color": "#C8D4E3"
             },
             "line": {
              "color": "white"
             }
            },
            "type": "table"
           }
          ]
         },
         "layout": {
          "annotationdefaults": {
           "arrowcolor": "#2a3f5f",
           "arrowhead": 0,
           "arrowwidth": 1
          },
          "autotypenumbers": "strict",
          "coloraxis": {
           "colorbar": {
            "outlinewidth": 0,
            "ticks": ""
           }
          },
          "colorscale": {
           "diverging": [
            [
             0,
             "#8e0152"
            ],
            [
             0.1,
             "#c51b7d"
            ],
            [
             0.2,
             "#de77ae"
            ],
            [
             0.3,
             "#f1b6da"
            ],
            [
             0.4,
             "#fde0ef"
            ],
            [
             0.5,
             "#f7f7f7"
            ],
            [
             0.6,
             "#e6f5d0"
            ],
            [
             0.7,
             "#b8e186"
            ],
            [
             0.8,
             "#7fbc41"
            ],
            [
             0.9,
             "#4d9221"
            ],
            [
             1,
             "#276419"
            ]
           ],
           "sequential": [
            [
             0,
             "#0d0887"
            ],
            [
             0.1111111111111111,
             "#46039f"
            ],
            [
             0.2222222222222222,
             "#7201a8"
            ],
            [
             0.3333333333333333,
             "#9c179e"
            ],
            [
             0.4444444444444444,
             "#bd3786"
            ],
            [
             0.5555555555555556,
             "#d8576b"
            ],
            [
             0.6666666666666666,
             "#ed7953"
            ],
            [
             0.7777777777777778,
             "#fb9f3a"
            ],
            [
             0.8888888888888888,
             "#fdca26"
            ],
            [
             1,
             "#f0f921"
            ]
           ],
           "sequentialminus": [
            [
             0,
             "#0d0887"
            ],
            [
             0.1111111111111111,
             "#46039f"
            ],
            [
             0.2222222222222222,
             "#7201a8"
            ],
            [
             0.3333333333333333,
             "#9c179e"
            ],
            [
             0.4444444444444444,
             "#bd3786"
            ],
            [
             0.5555555555555556,
             "#d8576b"
            ],
            [
             0.6666666666666666,
             "#ed7953"
            ],
            [
             0.7777777777777778,
             "#fb9f3a"
            ],
            [
             0.8888888888888888,
             "#fdca26"
            ],
            [
             1,
             "#f0f921"
            ]
           ]
          },
          "colorway": [
           "#636efa",
           "#EF553B",
           "#00cc96",
           "#ab63fa",
           "#FFA15A",
           "#19d3f3",
           "#FF6692",
           "#B6E880",
           "#FF97FF",
           "#FECB52"
          ],
          "font": {
           "color": "#2a3f5f"
          },
          "geo": {
           "bgcolor": "white",
           "lakecolor": "white",
           "landcolor": "#E5ECF6",
           "showlakes": true,
           "showland": true,
           "subunitcolor": "white"
          },
          "hoverlabel": {
           "align": "left"
          },
          "hovermode": "closest",
          "mapbox": {
           "style": "light"
          },
          "paper_bgcolor": "white",
          "plot_bgcolor": "#E5ECF6",
          "polar": {
           "angularaxis": {
            "gridcolor": "white",
            "linecolor": "white",
            "ticks": ""
           },
           "bgcolor": "#E5ECF6",
           "radialaxis": {
            "gridcolor": "white",
            "linecolor": "white",
            "ticks": ""
           }
          },
          "scene": {
           "xaxis": {
            "backgroundcolor": "#E5ECF6",
            "gridcolor": "white",
            "gridwidth": 2,
            "linecolor": "white",
            "showbackground": true,
            "ticks": "",
            "zerolinecolor": "white"
           },
           "yaxis": {
            "backgroundcolor": "#E5ECF6",
            "gridcolor": "white",
            "gridwidth": 2,
            "linecolor": "white",
            "showbackground": true,
            "ticks": "",
            "zerolinecolor": "white"
           },
           "zaxis": {
            "backgroundcolor": "#E5ECF6",
            "gridcolor": "white",
            "gridwidth": 2,
            "linecolor": "white",
            "showbackground": true,
            "ticks": "",
            "zerolinecolor": "white"
           }
          },
          "shapedefaults": {
           "line": {
            "color": "#2a3f5f"
           }
          },
          "ternary": {
           "aaxis": {
            "gridcolor": "white",
            "linecolor": "white",
            "ticks": ""
           },
           "baxis": {
            "gridcolor": "white",
            "linecolor": "white",
            "ticks": ""
           },
           "bgcolor": "#E5ECF6",
           "caxis": {
            "gridcolor": "white",
            "linecolor": "white",
            "ticks": ""
           }
          },
          "title": {
           "x": 0.05
          },
          "xaxis": {
           "automargin": true,
           "gridcolor": "white",
           "linecolor": "white",
           "ticks": "",
           "title": {
            "standoff": 15
           },
           "zerolinecolor": "white",
           "zerolinewidth": 2
          },
          "yaxis": {
           "automargin": true,
           "gridcolor": "white",
           "linecolor": "white",
           "ticks": "",
           "title": {
            "standoff": 15
           },
           "zerolinecolor": "white",
           "zerolinewidth": 2
          }
         }
        },
        "xaxis": {
         "anchor": "y",
         "domain": [
          0,
          1
         ],
         "title": {
          "text": "Alpha"
         }
        },
        "yaxis": {
         "anchor": "x",
         "domain": [
          0,
          1
         ],
         "title": {
          "text": "Expected Revenue"
         }
        }
       }
      }
     },
     "metadata": {},
     "output_type": "display_data"
    }
   ],
   "source": [
    "px.line(profitAlpha, x = 'Alpha', y = 'Expected Revenue')"
   ]
  },
  {
   "cell_type": "markdown",
   "metadata": {},
   "source": [
    "## Q2b"
   ]
  },
  {
   "cell_type": "code",
   "execution_count": 10,
   "metadata": {},
   "outputs": [],
   "source": [
    "n = 10000\n",
    "max = 100\n",
    "booking_limit = list(range(20,81))\n",
    "\n",
    "compensation = list(range(100,301))\n",
    "\n",
    "customerP1 = np.random.poisson(lam=75,size=10000)\n",
    "customerP2 = np.random.poisson(lam=50,size=10000)\n",
    "profitAlpha2 = []\n",
    "\n",
    "for i in booking_limit:\n",
    "    for p in compensation:\n",
    "        salesP1 = np.where(customerP1 <= i, customerP1, i)\n",
    "        \n",
    "        prob = np.random.binomial(salesP1, ((p-100)/200), 10000)\n",
    "        \n",
    "        ticketsLeft = max - salesP1\n",
    "        \n",
    "        p2_shoratge = np.where(ticketsLeft < customerP2, customerP2 - ticketsLeft, 0)\n",
    "        p1_refunds = np.where(prob >= p2_shoratge, p2_shoratge, prob)\n",
    "        \n",
    "        costsRefund = p1_refunds * p\n",
    "        \n",
    "        newCustomersP1 = salesP1 - p1_refunds\n",
    "        ticketsLeft += p1_refunds\n",
    "        \n",
    "        salesP2 = np.where(customerP2 > ticketsLeft, ticketsLeft, customerP2)\n",
    "        \n",
    "        revenue = (150 * newCustomersP1 + 500 * salesP2 - costsRefund)\n",
    "        profitAlpha2.append([i, p, np.mean(revenue)])"
   ]
  },
  {
   "cell_type": "code",
   "execution_count": 11,
   "metadata": {},
   "outputs": [
    {
     "data": {
      "text/html": [
       "<div>\n",
       "<style scoped>\n",
       "    .dataframe tbody tr th:only-of-type {\n",
       "        vertical-align: middle;\n",
       "    }\n",
       "\n",
       "    .dataframe tbody tr th {\n",
       "        vertical-align: top;\n",
       "    }\n",
       "\n",
       "    .dataframe thead th {\n",
       "        text-align: right;\n",
       "    }\n",
       "</style>\n",
       "<table border=\"1\" class=\"dataframe\">\n",
       "  <thead>\n",
       "    <tr style=\"text-align: right;\">\n",
       "      <th></th>\n",
       "      <th>Alpha</th>\n",
       "      <th>Refund Tickets</th>\n",
       "      <th>Expected Revenue</th>\n",
       "    </tr>\n",
       "  </thead>\n",
       "  <tbody>\n",
       "    <tr>\n",
       "      <th>12060</th>\n",
       "      <td>80</td>\n",
       "      <td>100</td>\n",
       "      <td>24277.4600</td>\n",
       "    </tr>\n",
       "    <tr>\n",
       "      <th>12061</th>\n",
       "      <td>80</td>\n",
       "      <td>101</td>\n",
       "      <td>24367.0502</td>\n",
       "    </tr>\n",
       "    <tr>\n",
       "      <th>11859</th>\n",
       "      <td>79</td>\n",
       "      <td>100</td>\n",
       "      <td>24379.8700</td>\n",
       "    </tr>\n",
       "    <tr>\n",
       "      <th>12062</th>\n",
       "      <td>80</td>\n",
       "      <td>102</td>\n",
       "      <td>24456.6896</td>\n",
       "    </tr>\n",
       "    <tr>\n",
       "      <th>11860</th>\n",
       "      <td>79</td>\n",
       "      <td>101</td>\n",
       "      <td>24472.0747</td>\n",
       "    </tr>\n",
       "    <tr>\n",
       "      <th>...</th>\n",
       "      <td>...</td>\n",
       "      <td>...</td>\n",
       "      <td>...</td>\n",
       "    </tr>\n",
       "    <tr>\n",
       "      <th>5882</th>\n",
       "      <td>49</td>\n",
       "      <td>153</td>\n",
       "      <td>31644.7194</td>\n",
       "    </tr>\n",
       "    <tr>\n",
       "      <th>6077</th>\n",
       "      <td>50</td>\n",
       "      <td>147</td>\n",
       "      <td>31645.2054</td>\n",
       "    </tr>\n",
       "    <tr>\n",
       "      <th>5880</th>\n",
       "      <td>49</td>\n",
       "      <td>151</td>\n",
       "      <td>31645.2599</td>\n",
       "    </tr>\n",
       "    <tr>\n",
       "      <th>6080</th>\n",
       "      <td>50</td>\n",
       "      <td>150</td>\n",
       "      <td>31645.2950</td>\n",
       "    </tr>\n",
       "    <tr>\n",
       "      <th>6075</th>\n",
       "      <td>50</td>\n",
       "      <td>145</td>\n",
       "      <td>31645.6215</td>\n",
       "    </tr>\n",
       "  </tbody>\n",
       "</table>\n",
       "<p>12261 rows × 3 columns</p>\n",
       "</div>"
      ],
      "text/plain": [
       "       Alpha  Refund Tickets  Expected Revenue\n",
       "12060     80             100        24277.4600\n",
       "12061     80             101        24367.0502\n",
       "11859     79             100        24379.8700\n",
       "12062     80             102        24456.6896\n",
       "11860     79             101        24472.0747\n",
       "...      ...             ...               ...\n",
       "5882      49             153        31644.7194\n",
       "6077      50             147        31645.2054\n",
       "5880      49             151        31645.2599\n",
       "6080      50             150        31645.2950\n",
       "6075      50             145        31645.6215\n",
       "\n",
       "[12261 rows x 3 columns]"
      ]
     },
     "execution_count": 11,
     "metadata": {},
     "output_type": "execute_result"
    }
   ],
   "source": [
    "profitAlpha2 = pd.DataFrame(profitAlpha2, columns=['Alpha', 'Refund Tickets', 'Expected Revenue'])\n",
    "profitAlpha2.sort_values('Expected Revenue')"
   ]
  },
  {
   "cell_type": "code",
   "execution_count": 12,
   "metadata": {},
   "outputs": [
    {
     "data": {
      "application/vnd.plotly.v1+json": {
       "config": {
        "plotlyServerURL": "https://plot.ly"
       },
       "data": [
        {
         "mode": "lines+markers",
         "name": "Expected Revenue",
         "type": "scatter",
         "x": [
          20,
          21,
          22,
          23,
          24,
          25,
          26,
          27,
          28,
          29,
          30,
          31,
          32,
          33,
          34,
          35,
          36,
          37,
          38,
          39,
          40,
          41,
          42,
          43,
          44,
          45,
          46,
          47,
          48,
          49,
          50,
          51,
          52,
          53,
          54,
          55,
          56,
          57,
          58,
          59,
          60,
          61,
          62,
          63,
          64,
          65,
          66,
          67,
          68,
          69,
          70,
          71,
          72,
          73,
          74,
          75,
          76,
          77,
          78,
          79,
          80
         ],
         "y": [
          28035.35,
          28185.35,
          28335.35,
          28485.35,
          28635.35,
          28785.3248,
          28935.2456,
          29085.0541,
          29234.7704,
          29384.4048,
          29533.7842,
          29682.4592,
          29830.6376,
          29978.1476,
          30124.6622,
          30269.645,
          30412.4552,
          30552.8968,
          30689.5364,
          30822.268,
          30950.5574,
          31070.8776,
          31184.026,
          31288.2206,
          31381.5441,
          31462.713,
          31529.8387,
          31585.361,
          31623.3142,
          31645.2599,
          31645.6215,
          31631.0808,
          31596.625,
          31543.8495,
          31474.1199,
          31383.7876,
          31280.4965,
          31162.3855,
          31030.9999,
          30890.2785,
          30738.7465,
          30580.3628,
          30419.5848,
          30255.769,
          30086.239,
          29917.7527,
          29753.307,
          29587.6168,
          29428.8166,
          29269.9068,
          29120.6088,
          28977.1481,
          28837.056,
          28710.8535,
          28589.3645,
          28480.5194,
          28373.3654,
          28281.717,
          28198.8094,
          28121.2252,
          28056.1658
         ]
        },
        {
         "name": "Refund Tickets",
         "opacity": 0.5,
         "type": "bar",
         "x": [
          20,
          21,
          22,
          23,
          24,
          25,
          26,
          27,
          28,
          29,
          30,
          31,
          32,
          33,
          34,
          35,
          36,
          37,
          38,
          39,
          40,
          41,
          42,
          43,
          44,
          45,
          46,
          47,
          48,
          49,
          50,
          51,
          52,
          53,
          54,
          55,
          56,
          57,
          58,
          59,
          60,
          61,
          62,
          63,
          64,
          65,
          66,
          67,
          68,
          69,
          70,
          71,
          72,
          73,
          74,
          75,
          76,
          77,
          78,
          79,
          80
         ],
         "y": [
          100,
          100,
          100,
          100,
          100,
          102,
          111,
          119,
          126,
          128,
          136,
          142,
          137,
          133,
          143,
          140,
          142,
          143,
          142,
          140,
          144,
          139,
          142,
          147,
          149,
          149,
          147,
          145,
          148,
          151,
          145,
          148,
          150,
          151,
          153,
          153,
          155,
          157,
          157,
          157,
          159,
          163,
          157,
          160,
          160,
          161,
          165,
          166,
          168,
          166,
          167,
          167,
          173,
          171,
          169,
          172,
          174,
          174,
          174,
          174,
          176
         ],
         "yaxis": "y2"
        },
        {
         "mode": "lines+markers",
         "name": "Expected Revenue Old",
         "type": "scatter",
         "x": [
          20,
          21,
          22,
          23,
          24,
          25,
          26,
          27,
          28,
          29,
          30,
          31,
          32,
          33,
          34,
          35,
          36,
          37,
          38,
          39,
          40,
          41,
          42,
          43,
          44,
          45,
          46,
          47,
          48,
          49,
          50,
          51,
          52,
          53,
          54,
          55,
          56,
          57,
          58,
          59,
          60,
          61,
          62,
          63,
          64,
          65,
          66,
          67,
          68,
          69,
          70,
          71,
          72,
          73,
          74,
          75,
          76,
          77,
          78,
          79,
          80
         ],
         "y": [
          28024.7,
          28174.65,
          28324.6,
          28474.55,
          28624.3,
          28774.05,
          28923.7,
          29073.25,
          29222.6,
          29371.7,
          29520.2,
          29668.2,
          29815,
          29960.6,
          30104.75,
          30246.75,
          30385.7,
          30520.7,
          30651.1,
          30774.6,
          30889.75,
          30994.25,
          31086.2,
          31162.6,
          31222.25,
          31263.75,
          31285.235,
          31283.755,
          31255.26,
          31201.535,
          31116.765,
          31004.355,
          30863.39,
          30695,
          30501.795,
          30283.865,
          30044.235,
          29785.295,
          29510.735,
          29222.8,
          28923.67,
          28617.97,
          28309.06,
          27999.215,
          27690.525,
          27386.61,
          27088.995,
          26799.65,
          26519.905,
          26251.42,
          25995.325,
          25752.98,
          25525.245,
          25311.955,
          25114.835,
          24934.41,
          24769.63,
          24620.88,
          24487.705,
          24369.16,
          24264.615
         ]
        }
       ],
       "layout": {
        "legend": {
         "x": 0.01,
         "xanchor": "left",
         "y": 0.99,
         "yanchor": "top"
        },
        "template": {
         "data": {
          "bar": [
           {
            "error_x": {
             "color": "rgb(51,51,51)"
            },
            "error_y": {
             "color": "rgb(51,51,51)"
            },
            "marker": {
             "line": {
              "color": "rgb(237,237,237)",
              "width": 0.5
             },
             "pattern": {
              "fillmode": "overlay",
              "size": 10,
              "solidity": 0.2
             }
            },
            "type": "bar"
           }
          ],
          "barpolar": [
           {
            "marker": {
             "line": {
              "color": "rgb(237,237,237)",
              "width": 0.5
             },
             "pattern": {
              "fillmode": "overlay",
              "size": 10,
              "solidity": 0.2
             }
            },
            "type": "barpolar"
           }
          ],
          "carpet": [
           {
            "aaxis": {
             "endlinecolor": "rgb(51,51,51)",
             "gridcolor": "white",
             "linecolor": "white",
             "minorgridcolor": "white",
             "startlinecolor": "rgb(51,51,51)"
            },
            "baxis": {
             "endlinecolor": "rgb(51,51,51)",
             "gridcolor": "white",
             "linecolor": "white",
             "minorgridcolor": "white",
             "startlinecolor": "rgb(51,51,51)"
            },
            "type": "carpet"
           }
          ],
          "choropleth": [
           {
            "colorbar": {
             "outlinewidth": 0,
             "tickcolor": "rgb(237,237,237)",
             "ticklen": 6,
             "ticks": "inside"
            },
            "type": "choropleth"
           }
          ],
          "contour": [
           {
            "colorbar": {
             "outlinewidth": 0,
             "tickcolor": "rgb(237,237,237)",
             "ticklen": 6,
             "ticks": "inside"
            },
            "colorscale": [
             [
              0,
              "rgb(20,44,66)"
             ],
             [
              1,
              "rgb(90,179,244)"
             ]
            ],
            "type": "contour"
           }
          ],
          "contourcarpet": [
           {
            "colorbar": {
             "outlinewidth": 0,
             "tickcolor": "rgb(237,237,237)",
             "ticklen": 6,
             "ticks": "inside"
            },
            "type": "contourcarpet"
           }
          ],
          "heatmap": [
           {
            "colorbar": {
             "outlinewidth": 0,
             "tickcolor": "rgb(237,237,237)",
             "ticklen": 6,
             "ticks": "inside"
            },
            "colorscale": [
             [
              0,
              "rgb(20,44,66)"
             ],
             [
              1,
              "rgb(90,179,244)"
             ]
            ],
            "type": "heatmap"
           }
          ],
          "heatmapgl": [
           {
            "colorbar": {
             "outlinewidth": 0,
             "tickcolor": "rgb(237,237,237)",
             "ticklen": 6,
             "ticks": "inside"
            },
            "colorscale": [
             [
              0,
              "rgb(20,44,66)"
             ],
             [
              1,
              "rgb(90,179,244)"
             ]
            ],
            "type": "heatmapgl"
           }
          ],
          "histogram": [
           {
            "marker": {
             "pattern": {
              "fillmode": "overlay",
              "size": 10,
              "solidity": 0.2
             }
            },
            "type": "histogram"
           }
          ],
          "histogram2d": [
           {
            "colorbar": {
             "outlinewidth": 0,
             "tickcolor": "rgb(237,237,237)",
             "ticklen": 6,
             "ticks": "inside"
            },
            "colorscale": [
             [
              0,
              "rgb(20,44,66)"
             ],
             [
              1,
              "rgb(90,179,244)"
             ]
            ],
            "type": "histogram2d"
           }
          ],
          "histogram2dcontour": [
           {
            "colorbar": {
             "outlinewidth": 0,
             "tickcolor": "rgb(237,237,237)",
             "ticklen": 6,
             "ticks": "inside"
            },
            "colorscale": [
             [
              0,
              "rgb(20,44,66)"
             ],
             [
              1,
              "rgb(90,179,244)"
             ]
            ],
            "type": "histogram2dcontour"
           }
          ],
          "mesh3d": [
           {
            "colorbar": {
             "outlinewidth": 0,
             "tickcolor": "rgb(237,237,237)",
             "ticklen": 6,
             "ticks": "inside"
            },
            "type": "mesh3d"
           }
          ],
          "parcoords": [
           {
            "line": {
             "colorbar": {
              "outlinewidth": 0,
              "tickcolor": "rgb(237,237,237)",
              "ticklen": 6,
              "ticks": "inside"
             }
            },
            "type": "parcoords"
           }
          ],
          "pie": [
           {
            "automargin": true,
            "type": "pie"
           }
          ],
          "scatter": [
           {
            "marker": {
             "colorbar": {
              "outlinewidth": 0,
              "tickcolor": "rgb(237,237,237)",
              "ticklen": 6,
              "ticks": "inside"
             }
            },
            "type": "scatter"
           }
          ],
          "scatter3d": [
           {
            "line": {
             "colorbar": {
              "outlinewidth": 0,
              "tickcolor": "rgb(237,237,237)",
              "ticklen": 6,
              "ticks": "inside"
             }
            },
            "marker": {
             "colorbar": {
              "outlinewidth": 0,
              "tickcolor": "rgb(237,237,237)",
              "ticklen": 6,
              "ticks": "inside"
             }
            },
            "type": "scatter3d"
           }
          ],
          "scattercarpet": [
           {
            "marker": {
             "colorbar": {
              "outlinewidth": 0,
              "tickcolor": "rgb(237,237,237)",
              "ticklen": 6,
              "ticks": "inside"
             }
            },
            "type": "scattercarpet"
           }
          ],
          "scattergeo": [
           {
            "marker": {
             "colorbar": {
              "outlinewidth": 0,
              "tickcolor": "rgb(237,237,237)",
              "ticklen": 6,
              "ticks": "inside"
             }
            },
            "type": "scattergeo"
           }
          ],
          "scattergl": [
           {
            "marker": {
             "colorbar": {
              "outlinewidth": 0,
              "tickcolor": "rgb(237,237,237)",
              "ticklen": 6,
              "ticks": "inside"
             }
            },
            "type": "scattergl"
           }
          ],
          "scattermapbox": [
           {
            "marker": {
             "colorbar": {
              "outlinewidth": 0,
              "tickcolor": "rgb(237,237,237)",
              "ticklen": 6,
              "ticks": "inside"
             }
            },
            "type": "scattermapbox"
           }
          ],
          "scatterpolar": [
           {
            "marker": {
             "colorbar": {
              "outlinewidth": 0,
              "tickcolor": "rgb(237,237,237)",
              "ticklen": 6,
              "ticks": "inside"
             }
            },
            "type": "scatterpolar"
           }
          ],
          "scatterpolargl": [
           {
            "marker": {
             "colorbar": {
              "outlinewidth": 0,
              "tickcolor": "rgb(237,237,237)",
              "ticklen": 6,
              "ticks": "inside"
             }
            },
            "type": "scatterpolargl"
           }
          ],
          "scatterternary": [
           {
            "marker": {
             "colorbar": {
              "outlinewidth": 0,
              "tickcolor": "rgb(237,237,237)",
              "ticklen": 6,
              "ticks": "inside"
             }
            },
            "type": "scatterternary"
           }
          ],
          "surface": [
           {
            "colorbar": {
             "outlinewidth": 0,
             "tickcolor": "rgb(237,237,237)",
             "ticklen": 6,
             "ticks": "inside"
            },
            "colorscale": [
             [
              0,
              "rgb(20,44,66)"
             ],
             [
              1,
              "rgb(90,179,244)"
             ]
            ],
            "type": "surface"
           }
          ],
          "table": [
           {
            "cells": {
             "fill": {
              "color": "rgb(237,237,237)"
             },
             "line": {
              "color": "white"
             }
            },
            "header": {
             "fill": {
              "color": "rgb(217,217,217)"
             },
             "line": {
              "color": "white"
             }
            },
            "type": "table"
           }
          ]
         },
         "layout": {
          "annotationdefaults": {
           "arrowhead": 0,
           "arrowwidth": 1
          },
          "autotypenumbers": "strict",
          "coloraxis": {
           "colorbar": {
            "outlinewidth": 0,
            "tickcolor": "rgb(237,237,237)",
            "ticklen": 6,
            "ticks": "inside"
           }
          },
          "colorscale": {
           "sequential": [
            [
             0,
             "rgb(20,44,66)"
            ],
            [
             1,
             "rgb(90,179,244)"
            ]
           ],
           "sequentialminus": [
            [
             0,
             "rgb(20,44,66)"
            ],
            [
             1,
             "rgb(90,179,244)"
            ]
           ]
          },
          "colorway": [
           "#F8766D",
           "#A3A500",
           "#00BF7D",
           "#00B0F6",
           "#E76BF3"
          ],
          "font": {
           "color": "rgb(51,51,51)"
          },
          "geo": {
           "bgcolor": "white",
           "lakecolor": "white",
           "landcolor": "rgb(237,237,237)",
           "showlakes": true,
           "showland": true,
           "subunitcolor": "white"
          },
          "hoverlabel": {
           "align": "left"
          },
          "hovermode": "closest",
          "paper_bgcolor": "white",
          "plot_bgcolor": "rgb(237,237,237)",
          "polar": {
           "angularaxis": {
            "gridcolor": "white",
            "linecolor": "white",
            "showgrid": true,
            "tickcolor": "rgb(51,51,51)",
            "ticks": "outside"
           },
           "bgcolor": "rgb(237,237,237)",
           "radialaxis": {
            "gridcolor": "white",
            "linecolor": "white",
            "showgrid": true,
            "tickcolor": "rgb(51,51,51)",
            "ticks": "outside"
           }
          },
          "scene": {
           "xaxis": {
            "backgroundcolor": "rgb(237,237,237)",
            "gridcolor": "white",
            "gridwidth": 2,
            "linecolor": "white",
            "showbackground": true,
            "showgrid": true,
            "tickcolor": "rgb(51,51,51)",
            "ticks": "outside",
            "zerolinecolor": "white"
           },
           "yaxis": {
            "backgroundcolor": "rgb(237,237,237)",
            "gridcolor": "white",
            "gridwidth": 2,
            "linecolor": "white",
            "showbackground": true,
            "showgrid": true,
            "tickcolor": "rgb(51,51,51)",
            "ticks": "outside",
            "zerolinecolor": "white"
           },
           "zaxis": {
            "backgroundcolor": "rgb(237,237,237)",
            "gridcolor": "white",
            "gridwidth": 2,
            "linecolor": "white",
            "showbackground": true,
            "showgrid": true,
            "tickcolor": "rgb(51,51,51)",
            "ticks": "outside",
            "zerolinecolor": "white"
           }
          },
          "shapedefaults": {
           "fillcolor": "black",
           "line": {
            "width": 0
           },
           "opacity": 0.3
          },
          "ternary": {
           "aaxis": {
            "gridcolor": "white",
            "linecolor": "white",
            "showgrid": true,
            "tickcolor": "rgb(51,51,51)",
            "ticks": "outside"
           },
           "baxis": {
            "gridcolor": "white",
            "linecolor": "white",
            "showgrid": true,
            "tickcolor": "rgb(51,51,51)",
            "ticks": "outside"
           },
           "bgcolor": "rgb(237,237,237)",
           "caxis": {
            "gridcolor": "white",
            "linecolor": "white",
            "showgrid": true,
            "tickcolor": "rgb(51,51,51)",
            "ticks": "outside"
           }
          },
          "xaxis": {
           "automargin": true,
           "gridcolor": "white",
           "linecolor": "white",
           "showgrid": true,
           "tickcolor": "rgb(51,51,51)",
           "ticks": "outside",
           "title": {
            "standoff": 15
           },
           "zerolinecolor": "white"
          },
          "yaxis": {
           "automargin": true,
           "gridcolor": "white",
           "linecolor": "white",
           "showgrid": true,
           "tickcolor": "rgb(51,51,51)",
           "ticks": "outside",
           "title": {
            "standoff": 15
           },
           "zerolinecolor": "white"
          }
         }
        },
        "title": {
         "text": "Seat Simulaton with Callable Products"
        },
        "yaxis": {
         "showgrid": false,
         "side": "right"
        },
        "yaxis2": {
         "anchor": "y3",
         "overlaying": "y",
         "showgrid": false
        }
       }
      }
     },
     "metadata": {},
     "output_type": "display_data"
    }
   ],
   "source": [
    "import plotly.graph_objects as go\n",
    "\n",
    "# get the max revenue per alpha\n",
    "df_max = profitAlpha2.loc[profitAlpha2.groupby([\"Alpha\"])[\"Expected Revenue\"].idxmax()] \n",
    "\n",
    "trace1  = go.Scatter(\n",
    "        mode='lines+markers',\n",
    "        x = df_max['Alpha'],\n",
    "        y = df_max['Expected Revenue'],\n",
    "        name=\"Expected Revenue\"\n",
    "    )\n",
    "\n",
    "trac3  = go.Scatter(\n",
    "        mode='lines+markers',\n",
    "        x = profitAlpha['Alpha'],\n",
    "        y = profitAlpha['Expected Revenue'],\n",
    "        name=\"Expected Revenue Old\"\n",
    "    )\n",
    "\n",
    "trace2 = go.Bar(\n",
    "        x = df_max['Alpha'],\n",
    "        y = df_max['Refund Tickets'],\n",
    "        name=\"Refund Tickets\",\n",
    "        yaxis='y2',\n",
    "        opacity=0.5\n",
    "    )\n",
    "\n",
    "data = [trace1, trace2, trac3]\n",
    "\n",
    "layout = go.Layout(\n",
    "    title_text='Seat Simulaton with Callable Products',\n",
    "    template='ggplot2',\n",
    "    yaxis=dict(\n",
    "        side = 'right',\n",
    "        showgrid = False\n",
    "    ),\n",
    "    yaxis2=dict(\n",
    "        overlaying='y',\n",
    "        anchor='y3',\n",
    "        showgrid = False\n",
    "    ),\n",
    "    legend=dict(\n",
    "    yanchor=\"top\",\n",
    "    y=0.99,\n",
    "    xanchor=\"left\",\n",
    "    x=0.01\n",
    "    )\n",
    ")\n",
    "fig = go.Figure(data=data, layout=layout)\n",
    "fig.show()\n",
    "\n",
    "# fig = px.line(df_max, x = 'Alpha', y = 'Expected Revenue')\n",
    "# fig.show()"
   ]
  },
  {
   "cell_type": "markdown",
   "metadata": {},
   "source": [
    "## Q3a"
   ]
  },
  {
   "cell_type": "code",
   "execution_count": 13,
   "metadata": {},
   "outputs": [
    {
     "name": "stdout",
     "output_type": "stream",
     "text": [
      "Gurobi Optimizer version 10.0.0 build v10.0.0rc2 (mac64[rosetta2])\n",
      "\n",
      "CPU model: Apple M1 Pro\n",
      "Thread count: 8 physical cores, 8 logical processors, using up to 8 threads\n",
      "\n",
      "Optimize a model with 31 rows, 39 columns and 81 nonzeros\n",
      "Model fingerprint: 0x47f5a52e\n",
      "Variable types: 0 continuous, 39 integer (0 binary)\n",
      "Coefficient statistics:\n",
      "  Matrix range     [1e+00, 1e+00]\n",
      "  Objective range  [2e-01, 1e+01]\n",
      "  Bounds range     [0e+00, 0e+00]\n",
      "  RHS range        [1e+03, 8e+03]\n",
      "Found heuristic solution: objective -0.0000000\n",
      "Presolve removed 13 rows and 1 columns\n",
      "Presolve time: 0.00s\n",
      "Presolved: 18 rows, 38 columns, 66 nonzeros\n",
      "Variable types: 0 continuous, 38 integer (0 binary)\n",
      "\n",
      "Root relaxation: objective 1.049990e+05, 15 iterations, 0.00 seconds (0.00 work units)\n",
      "\n",
      "    Nodes    |    Current Node    |     Objective Bounds      |     Work\n",
      " Expl Unexpl |  Obj  Depth IntInf | Incumbent    BestBd   Gap | It/Node Time\n",
      "\n",
      "*    0     0               0    104999.00000 104999.000  0.00%     -    0s\n",
      "\n",
      "Explored 1 nodes (15 simplex iterations) in 0.01 seconds (0.00 work units)\n",
      "Thread count was 8 (of 8 available processors)\n",
      "\n",
      "Solution count 2: 104999 -0 \n",
      "\n",
      "Optimal solution found (tolerance 1.00e-04)\n",
      "Best objective 1.049990000000e+05, best bound 1.049990000000e+05, gap 0.0000%\n",
      "\n",
      "    Variable            X \n",
      "-------------------------\n",
      "     product        16700 \n",
      "ProdtWare[A]         6700 \n",
      "ProdtWare[B]        10000 \n",
      "WaretDis[A,1,a]         5000 \n",
      "WaretDis[A,1,b]         3000 \n",
      "WaretDis[A,1,c]         4200 \n",
      "WaretDis[A,2,a]          800 \n",
      "WaretDis[A,4,a]          900 \n",
      "WaretDis[A,4,c]         2500 \n",
      "WaretDis[B,2,a]         2200 \n",
      "WaretDis[B,2,b]         1000 \n",
      "WaretDis[B,2,c]         4100 \n",
      "WaretDis[B,3,a]         7800 \n",
      "WaretDis[B,3,b]         6000 \n",
      "WaretDis[B,3,c]         3000 \n",
      "WaretDis[B,4,b]         3000 \n",
      "WaretDis[B,4,c]         2900 \n",
      "     SE[1,a]         5000 \n",
      "     SE[1,b]         3000 \n",
      "     SE[1,c]         4200 \n",
      "     SE[2,a]         3000 \n",
      "     SE[2,b]         1000 \n",
      "     SE[2,c]         4100 \n",
      "     SE[3,a]         7800 \n",
      "     SE[3,b]         6000 \n",
      "     SE[3,c]         3000 \n",
      "     SE[4,a]          900 \n",
      "     SE[4,b]         3000 \n",
      "     SE[4,c]         5400 \n",
      "Total cost: 104999.0\n"
     ]
    }
   ],
   "source": [
    "# Setting up variables\n",
    "cost = 10\n",
    "profit = 20\n",
    "\n",
    "warehouses = ['A', 'B']\n",
    "warehouse_cost = {'A': 1, 'B': 1.5}\n",
    "\n",
    "distribution_centers = [1, 2, 3, 4]\n",
    "distribution_cost = {('A', 1): 1.5, ('A', 2): 2, ('A', 3): 2, ('A', 4): 3, ('B', 1): 2, ('B', 2): 1.2, ('B', 3): 1.1, ('B', 4): 2.5}\n",
    "\n",
    "scenarios = ['a', 'b', 'c']\n",
    "senario_probabilities = {'a': 0.3, 'b': 0.2, 'c': 0.5}\n",
    "\n",
    "# demands = {('a', 1): 5, ('a', 2): 3, ('a', 3): 7.8, ('a', 4): 4, ('b', 1): 3, ('b', 2): 1, ('b', 3): 6, ('b', 4): 3, ('c', 1): 4.2, ('c', 2): 4.1, ('c', 3): 3, ('c', 4): 5.4}\n",
    "\n",
    "demands = {('a', 1): 5.0*1000, ('a', 2): 3.0*1000, ('a', 3): 7.8*1000, ('a', 4): 4.0*1000, \n",
    "           ('b', 1): 3.0*1000, ('b', 2): 1.0*1000, ('b', 3): 6.0*1000, ('b', 4): 3.0*1000, \n",
    "           ('c', 1): 4.2*1000, ('c', 2): 4.1*1000, ('c', 3): 3.0*1000, ('c', 4): 5.4*1000}\n",
    "\n",
    "model = gp.Model('Transportation')\n",
    "\n",
    "# First\n",
    "produce = model.addVar(name='product', vtype=gp.GRB.INTEGER)\n",
    "ProdtWare = model.addVars(warehouses, vtype = gp.GRB.INTEGER, name = 'ProdtWare')\n",
    "\n",
    "# Second\n",
    "WaretDis = model.addVars(warehouses, distribution_centers, scenarios, vtype = gp.GRB.INTEGER, name = 'WaretDis')\n",
    "Sold = model.addVars(distribution_centers, scenarios, vtype = gp.GRB.INTEGER, name = 'SE')\n",
    "\n",
    "# Set Objective\n",
    "obj = 0\n",
    "obj -= produce * cost # cost to produce\n",
    "obj -= gp.quicksum(ProdtWare[w] * warehouse_cost[w] for w in warehouse_cost) # cost to ship to warehouse\n",
    "obj -= gp.quicksum(senario_probabilities[s] * WaretDis[w,d,s] * distribution_cost[(w,d)] for w in warehouses for d in distribution_centers for s in scenarios) # cost to ship from warehouse to distribution center\n",
    "obj += gp.quicksum(senario_probabilities[s] * Sold[d, s] * profit for d in distribution_centers for s in scenarios) # profits from sales\n",
    "\n",
    "model.setObjective(obj, gp.GRB.MAXIMIZE)\n",
    "\n",
    "# Add Constraints\n",
    "# Everything we produce must be sent to A or B\n",
    "model.addConstr(gp.quicksum(ProdtWare[w] for w in warehouses) == produce)\n",
    "\n",
    "# # What is in the warehouse can be larger or equal to What is send out\n",
    "# model.addConstrs(ProdtWare[w] >= WaretDis[w, d, s] for w in warehouses for d in distribution_centers for s in scenarios)\n",
    "\n",
    "# We can not ship more form the warehouses than we produced\n",
    "model.addConstrs(gp.quicksum(WaretDis[w, d, s] for d in distribution_centers) <= ProdtWare[w] for w in warehouses for s in scenarios)\n",
    "\n",
    "# Sales can not be bigger than the demand\n",
    "model.addConstrs(Sold[d,s]<=demands[s,d] for d in distribution_centers for s in scenarios)\n",
    "\n",
    "# The sales cannot be bigger then the products at the distribution center\n",
    "model.addConstrs(Sold[d,s] <= gp.quicksum(WaretDis[w, d, s] for w in warehouses) for d in distribution_centers for s in scenarios)\n",
    "\n",
    "model.optimize()\n",
    "model.printAttr([\"X\"])\n",
    "print('Total cost:', model.OBJVAL)"
   ]
  },
  {
   "cell_type": "markdown",
   "metadata": {},
   "source": [
    "## Q3b"
   ]
  },
  {
   "attachments": {},
   "cell_type": "markdown",
   "metadata": {},
   "source": [
    "## B1 and B2"
   ]
  },
  {
   "cell_type": "code",
   "execution_count": 14,
   "metadata": {},
   "outputs": [],
   "source": [
    "df_demand = pd.read_csv('/Users/mlvos/Desktop/Moritz/Education/Erasmus University/Management Science/Individual Assignment 2/demand.csv', encoding='latin-1')\n",
    "df_transportation_costs = pd.read_csv('/Users/mlvos/Desktop/Moritz/Education/Erasmus University/Management Science/Individual Assignment 2/TranportationCosts.csv', encoding='latin-1')"
   ]
  },
  {
   "cell_type": "code",
   "execution_count": 15,
   "metadata": {},
   "outputs": [],
   "source": [
    "# Setting up variables\n",
    "cost = 10\n",
    "profit = 20\n",
    "fixed_costs = 100000"
   ]
  },
  {
   "cell_type": "code",
   "execution_count": 25,
   "metadata": {},
   "outputs": [],
   "source": [
    "warehouses = list(df_transportation_costs['Warehouse'])\n",
    "warehouse_costs = {}\n",
    "for index, row in df_transportation_costs[['Warehouse', 'PFacility']].iterrows():\n",
    "    warehouse_costs[row.Warehouse] = row.PFacility\n",
    "\n",
    "distribution_centers = list(df_demand.DistributionCenter)\n",
    "distribution_cost = {}\n",
    "for w in warehouses:\n",
    "    for dc in distribution_centers:\n",
    "        distribution_cost[(w, dc)] = df_transportation_costs.set_index('Warehouse').loc[w, dc]\n",
    "        \n",
    "scenarios = list(df_demand.columns.drop('DistributionCenter'))\n",
    "probabilities = {}\n",
    "for s in scenarios:\n",
    "    probabilities[s] = 0.01\n",
    "    \n",
    "demands = {}\n",
    "for s in scenarios:\n",
    "    for dc in distribution_centers:\n",
    "        demands[(dc, s)] = df_demand.set_index('DistributionCenter').loc[dc, s]"
   ]
  },
  {
   "cell_type": "code",
   "execution_count": 20,
   "metadata": {},
   "outputs": [],
   "source": [
    "bigM = len(distribution_centers) * len(scenarios) * len(senario_probabilities) # in order to turn on off the warehouses in use"
   ]
  },
  {
   "cell_type": "code",
   "execution_count": 21,
   "metadata": {},
   "outputs": [
    {
     "name": "stdout",
     "output_type": "stream",
     "text": [
      "Gurobi Optimizer version 10.0.0 build v10.0.0rc2 (mac64[rosetta2])\n",
      "\n",
      "CPU model: Apple M1 Pro\n",
      "Thread count: 8 physical cores, 8 logical processors, using up to 8 threads\n",
      "\n",
      "Optimize a model with 10524 rows, 98447 columns and 199170 nonzeros\n",
      "Model fingerprint: 0x90c433a2\n",
      "Variable types: 0 continuous, 98447 integer (23 binary)\n",
      "Coefficient statistics:\n",
      "  Matrix range     [1e+00, 4e+05]\n",
      "  Objective range  [9e-03, 1e+05]\n",
      "  Bounds range     [1e+00, 1e+00]\n",
      "  RHS range        [7e+02, 4e+04]\n",
      "Found heuristic solution: objective -0.0000000\n",
      "Presolve removed 4101 rows and 1 columns\n",
      "Presolve time: 0.19s\n",
      "Presolved: 6423 rows, 98446 columns, 195046 nonzeros\n",
      "Variable types: 0 continuous, 98446 integer (23 binary)\n",
      "Deterministic concurrent LP optimizer: primal and dual simplex\n",
      "Showing first log only...\n",
      "\n",
      "Concurrent spin time: 0.00s\n",
      "\n",
      "Solved with dual simplex\n",
      "\n",
      "Root relaxation: objective 2.237641e+06, 13007 iterations, 0.85 seconds (0.76 work units)\n",
      "\n",
      "    Nodes    |    Current Node    |     Objective Bounds      |     Work\n",
      " Expl Unexpl |  Obj  Depth IntInf | Incumbent    BestBd   Gap | It/Node Time\n",
      "\n",
      "     0     0 2237641.20    0   17   -0.00000 2237641.20      -     -    1s\n",
      "H    0     0                    603728.34600 2237641.20   271%     -    1s\n",
      "H    0     0                    842300.49000 2237641.20   166%     -    1s\n",
      "H    0     0                    1928396.0910 2237641.20  16.0%     -    1s\n",
      "H    0     0                    1928400.1080 2237641.20  16.0%     -    1s\n",
      "H    0     0                    1928400.1130 2237641.20  16.0%     -    1s\n",
      "     0     0 2231277.02    0 5232 1928400.11 2231277.02  15.7%     -    2s\n",
      "     0     0 2218086.23    0 7267 1928400.11 2218086.23  15.0%     -    4s\n",
      "     0     0 2191833.83    0 8314 1928400.11 2191833.83  13.7%     -    8s\n",
      "H    0     0                    1928405.1940 2191833.83  13.7%     -   20s\n",
      "     0     0 2143876.60    0 7777 1928405.19 2143876.60  11.2%     -   20s\n",
      "H    0     0                    1928409.4030 2143876.60  11.2%     -   21s\n",
      "     0     0 2142423.36    0 8343 1928409.40 2142423.36  11.1%     -   21s\n",
      "     0     0 2141934.81    0 8303 1928409.40 2141934.81  11.1%     -   22s\n",
      "     0     0 2141394.18    0 8366 1928409.40 2141394.18  11.0%     -   22s\n",
      "     0     0 2141394.18    0 8319 1928409.40 2141394.18  11.0%     -   22s\n",
      "     0     0 2141394.18    0 8388 1928409.40 2141394.18  11.0%     -   22s\n",
      "     0     0 2141394.18    0 8503 1928409.40 2141394.18  11.0%     -   23s\n",
      "     0     0 2141394.18    0 8411 1928409.40 2141394.18  11.0%     -   23s\n",
      "     0     0 2136482.70    0 9247 1928409.40 2136482.70  10.8%     -   27s\n",
      "     0     0 2136482.70    0 9051 1928409.40 2136482.70  10.8%     -   27s\n",
      "H    0     0                    1928410.8910 2136482.70  10.8%     -   31s\n",
      "H    0     0                    1928412.7570 2136482.70  10.8%     -   32s\n",
      "H    0     2                    1928417.5690 2136482.70  10.8%     -   33s\n",
      "     0     2 2136482.70    0 9051 1928417.57 2136482.70  10.8%     -   33s\n",
      "     1     4 2136482.70    1 8744 1928417.57 2136482.70  10.8% 14527   39s\n",
      "     3     8 2136482.70    2 8461 1928417.57 2136482.70  10.8% 18357   46s\n",
      "     7    16 2136482.70    3 8009 1928417.57 2136482.70  10.8% 15038   52s\n",
      "    23    32 2136482.70    5 6949 1928417.57 2136482.70  10.8%  8156   56s\n",
      "H   31    40                    1928417.7690 2136482.70  10.8%  7232   57s\n",
      "H   32    40                    1928418.4280 2136482.70  10.8%  7154   57s\n",
      "H   33    40                    1928423.2800 2136482.70  10.8%  6976   57s\n",
      "H   35    40                    1928428.7440 2136482.70  10.8%  6678   57s\n",
      "H   36    40                    1928429.5300 2136482.70  10.8%  6511   57s\n",
      "    61    76 2136482.70    9 5517 1928429.53 2136482.70  10.8%  4253   60s\n",
      "H   75    84                    1928445.7010 2136482.70  10.8%  3666   62s\n",
      "H   79    84                    1928449.3700 2136482.70  10.8%  3643   62s\n",
      "H   82    84                    1948723.8910 2136482.70  9.63%  3529   62s\n",
      "*  101    95              14    1948723.9330 2136482.70  9.63%  3097   64s\n",
      "*  114   109              17    2045341.1760 2136482.70  4.46%  2898   64s\n",
      "   121    97 2136482.70   11 4271 2045341.18 2136482.70  4.46%  2800   65s\n",
      "*  126    97              20    2124910.4550 2136482.70  0.54%  2695   65s\n",
      "\n",
      "Cutting planes:\n",
      "  Gomory: 6\n",
      "  Implied bound: 7740\n",
      "  MIR: 768\n",
      "  StrongCG: 3\n",
      "  Flow cover: 896\n",
      "  Zero half: 1\n",
      "\n",
      "Explored 211 nodes (447477 simplex iterations) in 66.28 seconds (122.88 work units)\n",
      "Thread count was 8 (of 8 available processors)\n",
      "\n",
      "Solution count 10: 2.12491e+06 2.04534e+06 1.94872e+06 ... 1.92842e+06\n",
      "\n",
      "Optimal solution found (tolerance 1.00e-04)\n",
      "Best objective 2.124910455000e+06, best bound 2.124910455000e+06, gap 0.0000%\n",
      "Total Profit: 2124910.4550000005\n"
     ]
    }
   ],
   "source": [
    "model = gp.Model('Production')\n",
    "\n",
    "## Declare Variables\n",
    "# First Stage\n",
    "produce = model.addVar(name='product', vtype=gp.GRB.INTEGER)\n",
    "Ware = model.addVars(warehouses, vtype = gp.GRB.BINARY, name = 'Ware')\n",
    "ProdtWare = model.addVars(warehouses, vtype = gp.GRB.INTEGER, name = 'ProdtWare')\n",
    "\n",
    "# Second Stage\n",
    "WaretDis = model.addVars(warehouses, distribution_centers, scenarios, vtype = gp.GRB.INTEGER, name = 'WaretDis')\n",
    "Sold = model.addVars(distribution_centers, scenarios, vtype = gp.GRB.INTEGER, name = 'SE')\n",
    "\n",
    "## Set Objective\n",
    "obj = 0\n",
    "obj -= produce * cost # cost to produce goods\n",
    "obj -= gp.quicksum(Ware[w] * fixed_costs for w in warehouses) # fixed warehouse costs\n",
    "obj -= gp.quicksum(ProdtWare[w] * warehouse_costs[w] for w in warehouse_costs) # cost to ship to each warehouse\n",
    "obj -= gp.quicksum(probabilities[s] * WaretDis[w,d,s] * distribution_cost[(w,d)] for w in warehouses for d in distribution_centers for s in scenarios) # cost to ship from warehouse to distribution center\n",
    "obj += gp.quicksum(probabilities[s] * Sold[d, s] * profit for d in distribution_centers for s in scenarios) # profits from sales\n",
    "\n",
    "model.setObjective(obj, gp.GRB.MAXIMIZE)\n",
    "\n",
    "## Add Constraints\n",
    "# Everything we produce must be sent to warehouse A or B\n",
    "model.addConstr(gp.quicksum(ProdtWare[w] for w in warehouses) == produce)\n",
    "\n",
    "# We can not ship more from a warehouses than we send to it\n",
    "model.addConstrs(gp.quicksum(WaretDis[w, d, s] for d in distribution_centers) <= ProdtWare[w] for w in warehouses for s in scenarios)\n",
    "\n",
    "# If products are send to a warehouse then the bin variable \n",
    "model.addConstrs(ProdtWare[w] <= Ware[w] * bigM for w in warehouses)\n",
    "\n",
    "# Sales can not be bigger than the demand\n",
    "model.addConstrs(Sold[d,s] <= demands[d,s] for d in distribution_centers for s in scenarios)\n",
    "\n",
    "# The sales cannot be bigger then the products at the distribution center\n",
    "model.addConstrs(Sold[d,s] <= gp.quicksum(WaretDis[w, d, s] for w in warehouses) for d in distribution_centers for s in scenarios)\n",
    "\n",
    "model.optimize()\n",
    "# model.printAttr([\"X\"])\n",
    "print('Total Profit:', model.OBJVAL)"
   ]
  },
  {
   "cell_type": "code",
   "execution_count": 22,
   "metadata": {},
   "outputs": [
    {
     "data": {
      "text/html": [
       "<div>\n",
       "<style scoped>\n",
       "    .dataframe tbody tr th:only-of-type {\n",
       "        vertical-align: middle;\n",
       "    }\n",
       "\n",
       "    .dataframe tbody tr th {\n",
       "        vertical-align: top;\n",
       "    }\n",
       "\n",
       "    .dataframe thead th {\n",
       "        text-align: right;\n",
       "    }\n",
       "</style>\n",
       "<table border=\"1\" class=\"dataframe\">\n",
       "  <thead>\n",
       "    <tr style=\"text-align: right;\">\n",
       "      <th></th>\n",
       "      <th>Ware</th>\n",
       "      <th>DC</th>\n",
       "      <th>Scenraio</th>\n",
       "      <th>Sent</th>\n",
       "    </tr>\n",
       "  </thead>\n",
       "  <tbody>\n",
       "    <tr>\n",
       "      <th>0</th>\n",
       "      <td>WH-Seville</td>\n",
       "      <td>DC-Vienna</td>\n",
       "      <td>S1</td>\n",
       "      <td>-0.0</td>\n",
       "    </tr>\n",
       "    <tr>\n",
       "      <th>1</th>\n",
       "      <td>WH-Seville</td>\n",
       "      <td>DC-Vienna</td>\n",
       "      <td>S2</td>\n",
       "      <td>-0.0</td>\n",
       "    </tr>\n",
       "    <tr>\n",
       "      <th>2</th>\n",
       "      <td>WH-Seville</td>\n",
       "      <td>DC-Vienna</td>\n",
       "      <td>S3</td>\n",
       "      <td>-0.0</td>\n",
       "    </tr>\n",
       "    <tr>\n",
       "      <th>3</th>\n",
       "      <td>WH-Seville</td>\n",
       "      <td>DC-Vienna</td>\n",
       "      <td>S4</td>\n",
       "      <td>-0.0</td>\n",
       "    </tr>\n",
       "    <tr>\n",
       "      <th>4</th>\n",
       "      <td>WH-Seville</td>\n",
       "      <td>DC-Vienna</td>\n",
       "      <td>S5</td>\n",
       "      <td>-0.0</td>\n",
       "    </tr>\n",
       "    <tr>\n",
       "      <th>...</th>\n",
       "      <td>...</td>\n",
       "      <td>...</td>\n",
       "      <td>...</td>\n",
       "      <td>...</td>\n",
       "    </tr>\n",
       "    <tr>\n",
       "      <th>94295</th>\n",
       "      <td>WH-Bordeaux</td>\n",
       "      <td>DC-Marseille</td>\n",
       "      <td>S96</td>\n",
       "      <td>-0.0</td>\n",
       "    </tr>\n",
       "    <tr>\n",
       "      <th>94296</th>\n",
       "      <td>WH-Bordeaux</td>\n",
       "      <td>DC-Marseille</td>\n",
       "      <td>S97</td>\n",
       "      <td>-0.0</td>\n",
       "    </tr>\n",
       "    <tr>\n",
       "      <th>94297</th>\n",
       "      <td>WH-Bordeaux</td>\n",
       "      <td>DC-Marseille</td>\n",
       "      <td>S98</td>\n",
       "      <td>-0.0</td>\n",
       "    </tr>\n",
       "    <tr>\n",
       "      <th>94298</th>\n",
       "      <td>WH-Bordeaux</td>\n",
       "      <td>DC-Marseille</td>\n",
       "      <td>S99</td>\n",
       "      <td>-0.0</td>\n",
       "    </tr>\n",
       "    <tr>\n",
       "      <th>94299</th>\n",
       "      <td>WH-Bordeaux</td>\n",
       "      <td>DC-Marseille</td>\n",
       "      <td>S100</td>\n",
       "      <td>-0.0</td>\n",
       "    </tr>\n",
       "  </tbody>\n",
       "</table>\n",
       "<p>94300 rows × 4 columns</p>\n",
       "</div>"
      ],
      "text/plain": [
       "              Ware            DC Scenraio  Sent\n",
       "0       WH-Seville     DC-Vienna       S1  -0.0\n",
       "1       WH-Seville     DC-Vienna       S2  -0.0\n",
       "2       WH-Seville     DC-Vienna       S3  -0.0\n",
       "3       WH-Seville     DC-Vienna       S4  -0.0\n",
       "4       WH-Seville     DC-Vienna       S5  -0.0\n",
       "...            ...           ...      ...   ...\n",
       "94295  WH-Bordeaux  DC-Marseille      S96  -0.0\n",
       "94296  WH-Bordeaux  DC-Marseille      S97  -0.0\n",
       "94297  WH-Bordeaux  DC-Marseille      S98  -0.0\n",
       "94298  WH-Bordeaux  DC-Marseille      S99  -0.0\n",
       "94299  WH-Bordeaux  DC-Marseille     S100  -0.0\n",
       "\n",
       "[94300 rows x 4 columns]"
      ]
     },
     "execution_count": 22,
     "metadata": {},
     "output_type": "execute_result"
    }
   ],
   "source": [
    "# extract optimal pairs from the gurobi model\n",
    "# results = []\n",
    "# for k,v in WaretDis.items():\n",
    "#     print(k, k, v.X)\n",
    "\n",
    "vals = {k : v.X for k,v in WaretDis.items()}\n",
    "vals\n",
    "\n",
    "df_vals = pd.DataFrame([k + (v,) for k, v in vals.items()], columns=['Ware', 'DC', 'Scenraio', 'Sent'])\n",
    "df_vals"
   ]
  },
  {
   "cell_type": "code",
   "execution_count": 27,
   "metadata": {},
   "outputs": [
    {
     "data": {
      "text/html": [
       "<div>\n",
       "<style scoped>\n",
       "    .dataframe tbody tr th:only-of-type {\n",
       "        vertical-align: middle;\n",
       "    }\n",
       "\n",
       "    .dataframe tbody tr th {\n",
       "        vertical-align: top;\n",
       "    }\n",
       "\n",
       "    .dataframe thead th {\n",
       "        text-align: right;\n",
       "    }\n",
       "</style>\n",
       "<table border=\"1\" class=\"dataframe\">\n",
       "  <thead>\n",
       "    <tr style=\"text-align: right;\">\n",
       "      <th></th>\n",
       "      <th>Ware</th>\n",
       "      <th>DC</th>\n",
       "      <th>Scenraio</th>\n",
       "      <th>Sent</th>\n",
       "    </tr>\n",
       "  </thead>\n",
       "  <tbody>\n",
       "    <tr>\n",
       "      <th>12300</th>\n",
       "      <td>WH-Stuttgart</td>\n",
       "      <td>DC-Vienna</td>\n",
       "      <td>S1</td>\n",
       "      <td>8831.0</td>\n",
       "    </tr>\n",
       "    <tr>\n",
       "      <th>12301</th>\n",
       "      <td>WH-Stuttgart</td>\n",
       "      <td>DC-Vienna</td>\n",
       "      <td>S2</td>\n",
       "      <td>10174.0</td>\n",
       "    </tr>\n",
       "    <tr>\n",
       "      <th>12302</th>\n",
       "      <td>WH-Stuttgart</td>\n",
       "      <td>DC-Vienna</td>\n",
       "      <td>S3</td>\n",
       "      <td>7921.0</td>\n",
       "    </tr>\n",
       "    <tr>\n",
       "      <th>12303</th>\n",
       "      <td>WH-Stuttgart</td>\n",
       "      <td>DC-Vienna</td>\n",
       "      <td>S4</td>\n",
       "      <td>10678.0</td>\n",
       "    </tr>\n",
       "    <tr>\n",
       "      <th>12304</th>\n",
       "      <td>WH-Stuttgart</td>\n",
       "      <td>DC-Vienna</td>\n",
       "      <td>S5</td>\n",
       "      <td>13586.0</td>\n",
       "    </tr>\n",
       "    <tr>\n",
       "      <th>...</th>\n",
       "      <td>...</td>\n",
       "      <td>...</td>\n",
       "      <td>...</td>\n",
       "      <td>...</td>\n",
       "    </tr>\n",
       "    <tr>\n",
       "      <th>16395</th>\n",
       "      <td>WH-Stuttgart</td>\n",
       "      <td>DC-Marseille</td>\n",
       "      <td>S96</td>\n",
       "      <td>2579.0</td>\n",
       "    </tr>\n",
       "    <tr>\n",
       "      <th>16396</th>\n",
       "      <td>WH-Stuttgart</td>\n",
       "      <td>DC-Marseille</td>\n",
       "      <td>S97</td>\n",
       "      <td>2868.0</td>\n",
       "    </tr>\n",
       "    <tr>\n",
       "      <th>16397</th>\n",
       "      <td>WH-Stuttgart</td>\n",
       "      <td>DC-Marseille</td>\n",
       "      <td>S98</td>\n",
       "      <td>3344.0</td>\n",
       "    </tr>\n",
       "    <tr>\n",
       "      <th>16398</th>\n",
       "      <td>WH-Stuttgart</td>\n",
       "      <td>DC-Marseille</td>\n",
       "      <td>S99</td>\n",
       "      <td>4576.0</td>\n",
       "    </tr>\n",
       "    <tr>\n",
       "      <th>16399</th>\n",
       "      <td>WH-Stuttgart</td>\n",
       "      <td>DC-Marseille</td>\n",
       "      <td>S100</td>\n",
       "      <td>3848.0</td>\n",
       "    </tr>\n",
       "  </tbody>\n",
       "</table>\n",
       "<p>4100 rows × 4 columns</p>\n",
       "</div>"
      ],
      "text/plain": [
       "               Ware            DC Scenraio     Sent\n",
       "12300  WH-Stuttgart     DC-Vienna       S1   8831.0\n",
       "12301  WH-Stuttgart     DC-Vienna       S2  10174.0\n",
       "12302  WH-Stuttgart     DC-Vienna       S3   7921.0\n",
       "12303  WH-Stuttgart     DC-Vienna       S4  10678.0\n",
       "12304  WH-Stuttgart     DC-Vienna       S5  13586.0\n",
       "...             ...           ...      ...      ...\n",
       "16395  WH-Stuttgart  DC-Marseille      S96   2579.0\n",
       "16396  WH-Stuttgart  DC-Marseille      S97   2868.0\n",
       "16397  WH-Stuttgart  DC-Marseille      S98   3344.0\n",
       "16398  WH-Stuttgart  DC-Marseille      S99   4576.0\n",
       "16399  WH-Stuttgart  DC-Marseille     S100   3848.0\n",
       "\n",
       "[4100 rows x 4 columns]"
      ]
     },
     "execution_count": 27,
     "metadata": {},
     "output_type": "execute_result"
    }
   ],
   "source": [
    "df_stuttgart = df_vals.loc[df_vals['Ware'] == 'WH-Stuttgart']\n",
    "df_stuttgart"
   ]
  },
  {
   "cell_type": "code",
   "execution_count": 28,
   "metadata": {},
   "outputs": [
    {
     "data": {
      "text/plain": [
       "1.5487804878048805"
      ]
     },
     "execution_count": 28,
     "metadata": {},
     "output_type": "execute_result"
    }
   ],
   "source": [
    "stuttagrt = []\n",
    "for k, v in distribution_cost:\n",
    "    stuttagrt.append(distribution_cost['WH-Stuttgart', v])\n",
    " \n",
    "sum = 0   \n",
    "for i in stuttagrt:\n",
    "    sum += i\n",
    "    \n",
    "sum/len(stuttagrt)"
   ]
  },
  {
   "cell_type": "code",
   "execution_count": 29,
   "metadata": {},
   "outputs": [
    {
     "data": {
      "text/html": [
       "<div>\n",
       "<style scoped>\n",
       "    .dataframe tbody tr th:only-of-type {\n",
       "        vertical-align: middle;\n",
       "    }\n",
       "\n",
       "    .dataframe tbody tr th {\n",
       "        vertical-align: top;\n",
       "    }\n",
       "\n",
       "    .dataframe thead th {\n",
       "        text-align: right;\n",
       "    }\n",
       "</style>\n",
       "<table border=\"1\" class=\"dataframe\">\n",
       "  <thead>\n",
       "    <tr style=\"text-align: right;\">\n",
       "      <th></th>\n",
       "      <th>Cost</th>\n",
       "    </tr>\n",
       "    <tr>\n",
       "      <th>WH</th>\n",
       "      <th></th>\n",
       "    </tr>\n",
       "  </thead>\n",
       "  <tbody>\n",
       "    <tr>\n",
       "      <th>WH-Stuttgart</th>\n",
       "      <td>1.548780</td>\n",
       "    </tr>\n",
       "    <tr>\n",
       "      <th>WH-Charleroi</th>\n",
       "      <td>1.558537</td>\n",
       "    </tr>\n",
       "    <tr>\n",
       "      <th>WH-Bordeaux</th>\n",
       "      <td>1.673171</td>\n",
       "    </tr>\n",
       "    <tr>\n",
       "      <th>WH-Bristol</th>\n",
       "      <td>1.682927</td>\n",
       "    </tr>\n",
       "    <tr>\n",
       "      <th>WH-KrakÃ³w</th>\n",
       "      <td>1.734146</td>\n",
       "    </tr>\n",
       "    <tr>\n",
       "      <th>WH-Palma de Mallorca</th>\n",
       "      <td>1.795122</td>\n",
       "    </tr>\n",
       "    <tr>\n",
       "      <th>WH-Glasgow</th>\n",
       "      <td>1.814634</td>\n",
       "    </tr>\n",
       "    <tr>\n",
       "      <th>WH-Oslo</th>\n",
       "      <td>1.846341</td>\n",
       "    </tr>\n",
       "    <tr>\n",
       "      <th>WH-Hanover</th>\n",
       "      <td>1.860976</td>\n",
       "    </tr>\n",
       "    <tr>\n",
       "      <th>WH-Rhodes</th>\n",
       "      <td>1.870732</td>\n",
       "    </tr>\n",
       "    <tr>\n",
       "      <th>WH-Riga</th>\n",
       "      <td>1.926829</td>\n",
       "    </tr>\n",
       "    <tr>\n",
       "      <th>WH-Palermo</th>\n",
       "      <td>1.953659</td>\n",
       "    </tr>\n",
       "    <tr>\n",
       "      <th>WH-Pisa</th>\n",
       "      <td>1.965854</td>\n",
       "    </tr>\n",
       "    <tr>\n",
       "      <th>WH-Kyiv</th>\n",
       "      <td>2.056098</td>\n",
       "    </tr>\n",
       "    <tr>\n",
       "      <th>WH-MÃ¡laga</th>\n",
       "      <td>2.082927</td>\n",
       "    </tr>\n",
       "    <tr>\n",
       "      <th>WH-Liverpool</th>\n",
       "      <td>2.107317</td>\n",
       "    </tr>\n",
       "    <tr>\n",
       "      <th>WH-Seville</th>\n",
       "      <td>2.112195</td>\n",
       "    </tr>\n",
       "    <tr>\n",
       "      <th>WH-Faro</th>\n",
       "      <td>2.131707</td>\n",
       "    </tr>\n",
       "    <tr>\n",
       "      <th>WH-Athens</th>\n",
       "      <td>2.136585</td>\n",
       "    </tr>\n",
       "    <tr>\n",
       "      <th>WH-Katowice</th>\n",
       "      <td>2.221951</td>\n",
       "    </tr>\n",
       "    <tr>\n",
       "      <th>WH-Moscow</th>\n",
       "      <td>2.317073</td>\n",
       "    </tr>\n",
       "    <tr>\n",
       "      <th>WH-Heraklion</th>\n",
       "      <td>2.326829</td>\n",
       "    </tr>\n",
       "    <tr>\n",
       "      <th>WH-Krasnodar</th>\n",
       "      <td>2.987805</td>\n",
       "    </tr>\n",
       "  </tbody>\n",
       "</table>\n",
       "</div>"
      ],
      "text/plain": [
       "                          Cost\n",
       "WH                            \n",
       "WH-Stuttgart          1.548780\n",
       "WH-Charleroi          1.558537\n",
       "WH-Bordeaux           1.673171\n",
       "WH-Bristol            1.682927\n",
       "WH-KrakÃ³w            1.734146\n",
       "WH-Palma de Mallorca  1.795122\n",
       "WH-Glasgow            1.814634\n",
       "WH-Oslo               1.846341\n",
       "WH-Hanover            1.860976\n",
       "WH-Rhodes             1.870732\n",
       "WH-Riga               1.926829\n",
       "WH-Palermo            1.953659\n",
       "WH-Pisa               1.965854\n",
       "WH-Kyiv               2.056098\n",
       "WH-MÃ¡laga            2.082927\n",
       "WH-Liverpool          2.107317\n",
       "WH-Seville            2.112195\n",
       "WH-Faro               2.131707\n",
       "WH-Athens             2.136585\n",
       "WH-Katowice           2.221951\n",
       "WH-Moscow             2.317073\n",
       "WH-Heraklion          2.326829\n",
       "WH-Krasnodar          2.987805"
      ]
     },
     "execution_count": 29,
     "metadata": {},
     "output_type": "execute_result"
    }
   ],
   "source": [
    "df = pd.DataFrame([k + (v,) for k, v in distribution_cost.items()], columns=['WH', 'DC', 'Cost'])\n",
    "df.groupby('WH').mean().sort_values('Cost')"
   ]
  },
  {
   "cell_type": "code",
   "execution_count": 30,
   "metadata": {},
   "outputs": [
    {
     "data": {
      "text/plain": [
       "281633.11"
      ]
     },
     "execution_count": 30,
     "metadata": {},
     "output_type": "execute_result"
    }
   ],
   "source": [
    "df_demand['mean'] = df_demand.iloc[:, 1:].mean(axis=1)\n",
    "df_demand['mean'].sum()\n"
   ]
  },
  {
   "attachments": {},
   "cell_type": "markdown",
   "metadata": {},
   "source": [
    "## Plotting for B2"
   ]
  },
  {
   "cell_type": "code",
   "execution_count": 31,
   "metadata": {},
   "outputs": [],
   "source": [
    "# Setting up variables\n",
    "cost = 10\n",
    "profit = 20\n",
    "fixed_cost = 100000"
   ]
  },
  {
   "cell_type": "code",
   "execution_count": 34,
   "metadata": {},
   "outputs": [
    {
     "data": {
      "application/vnd.plotly.v1+json": {
       "config": {
        "plotlyServerURL": "https://plot.ly"
       },
       "data": [
        {
         "alignmentgroup": "True",
         "hovertemplate": "scenario=%{x}<br>expected_profit=%{y}<extra></extra>",
         "legendgroup": "",
         "marker": {
          "color": "#636efa",
          "pattern": {
           "shape": ""
          }
         },
         "name": "",
         "offsetgroup": "",
         "orientation": "v",
         "showlegend": false,
         "textposition": "auto",
         "type": "bar",
         "x": [
          1,
          10,
          100,
          11,
          12,
          13,
          14,
          15,
          16,
          17,
          18,
          19,
          2,
          20,
          21,
          22,
          23,
          24,
          25,
          26,
          27,
          28,
          29,
          3,
          30,
          31,
          32,
          33,
          34,
          35,
          36,
          37,
          38,
          39,
          4,
          40,
          41,
          42,
          43,
          44,
          45,
          46,
          47,
          48,
          49,
          5,
          50,
          51,
          52,
          53,
          54,
          55,
          56,
          57,
          58,
          59,
          6,
          60,
          61,
          62,
          63,
          64,
          65,
          66,
          67,
          68,
          69,
          7,
          70,
          71,
          72,
          73,
          74,
          75,
          76,
          77,
          78,
          79,
          8,
          80,
          81,
          82,
          83,
          84,
          85,
          86,
          87,
          88,
          89,
          9,
          90,
          91,
          92,
          93,
          94,
          95,
          96,
          97,
          98,
          99
         ],
         "xaxis": "x",
         "y": [
          2205219.25,
          2197472.25,
          2192215.75,
          2045402.9500000002,
          2123340.05,
          1898775.9500000002,
          2205190.05,
          2187764.15,
          2198099.85,
          2192241.45,
          2191236.75,
          2197529.85,
          1997085.0499999998,
          2187226.95,
          1996282.75,
          2202444.45,
          2194412.45,
          2204641.05,
          2199737.65,
          2189372.05,
          2189359.55,
          2005463.35,
          2197836.25,
          2191091.95,
          2115985.65,
          1997363.65,
          2059161.4500000002,
          2191393.65,
          2184611.75,
          2085654.4500000002,
          2028670.25,
          2178331.55,
          2190401.35,
          2193713.85,
          1955997.85,
          2197394.35,
          2191586.75,
          2190495.65,
          1874951.15,
          2187970.85,
          2032733.15,
          2188366.15,
          2115801.15,
          2019866.25,
          1988567.15,
          2130718.25,
          2209782.65,
          2201312.05,
          2111325.05,
          2193570.45,
          2204666.05,
          2195517.25,
          1601924.15,
          2005069.15,
          2189387.65,
          2023813.75,
          2200990.15,
          2188332.85,
          1992817.9500000002,
          2192765.75,
          2029407.25,
          2100500.35,
          2187586.55,
          2085678.85,
          1839937.85,
          2092172.0499999998,
          2143391.55,
          2194943.25,
          1978076.65,
          1935197.75,
          2191845.55,
          2195474.35,
          2166726.15,
          2155731.55,
          2207879.85,
          2201459.25,
          2188521.95,
          2086517.85,
          2067871.5499999998,
          2182819.05,
          1888966.65,
          2049758.4500000002,
          2193141.75,
          2198286.75,
          2201939.55,
          2193317.15,
          2023290.85,
          2171226.15,
          2093046.9500000002,
          1852898.4500000002,
          2202389.35,
          2187571.75,
          2199848.85,
          2208803.95,
          2191049.85,
          2195394.55,
          2204280.75,
          2216709.25,
          2190152.75,
          2196779.55
         ],
         "yaxis": "y"
        }
       ],
       "layout": {
        "barmode": "relative",
        "legend": {
         "tracegroupgap": 0
        },
        "margin": {
         "t": 60
        },
        "template": {
         "data": {
          "bar": [
           {
            "error_x": {
             "color": "#2a3f5f"
            },
            "error_y": {
             "color": "#2a3f5f"
            },
            "marker": {
             "line": {
              "color": "#E5ECF6",
              "width": 0.5
             },
             "pattern": {
              "fillmode": "overlay",
              "size": 10,
              "solidity": 0.2
             }
            },
            "type": "bar"
           }
          ],
          "barpolar": [
           {
            "marker": {
             "line": {
              "color": "#E5ECF6",
              "width": 0.5
             },
             "pattern": {
              "fillmode": "overlay",
              "size": 10,
              "solidity": 0.2
             }
            },
            "type": "barpolar"
           }
          ],
          "carpet": [
           {
            "aaxis": {
             "endlinecolor": "#2a3f5f",
             "gridcolor": "white",
             "linecolor": "white",
             "minorgridcolor": "white",
             "startlinecolor": "#2a3f5f"
            },
            "baxis": {
             "endlinecolor": "#2a3f5f",
             "gridcolor": "white",
             "linecolor": "white",
             "minorgridcolor": "white",
             "startlinecolor": "#2a3f5f"
            },
            "type": "carpet"
           }
          ],
          "choropleth": [
           {
            "colorbar": {
             "outlinewidth": 0,
             "ticks": ""
            },
            "type": "choropleth"
           }
          ],
          "contour": [
           {
            "colorbar": {
             "outlinewidth": 0,
             "ticks": ""
            },
            "colorscale": [
             [
              0,
              "#0d0887"
             ],
             [
              0.1111111111111111,
              "#46039f"
             ],
             [
              0.2222222222222222,
              "#7201a8"
             ],
             [
              0.3333333333333333,
              "#9c179e"
             ],
             [
              0.4444444444444444,
              "#bd3786"
             ],
             [
              0.5555555555555556,
              "#d8576b"
             ],
             [
              0.6666666666666666,
              "#ed7953"
             ],
             [
              0.7777777777777778,
              "#fb9f3a"
             ],
             [
              0.8888888888888888,
              "#fdca26"
             ],
             [
              1,
              "#f0f921"
             ]
            ],
            "type": "contour"
           }
          ],
          "contourcarpet": [
           {
            "colorbar": {
             "outlinewidth": 0,
             "ticks": ""
            },
            "type": "contourcarpet"
           }
          ],
          "heatmap": [
           {
            "colorbar": {
             "outlinewidth": 0,
             "ticks": ""
            },
            "colorscale": [
             [
              0,
              "#0d0887"
             ],
             [
              0.1111111111111111,
              "#46039f"
             ],
             [
              0.2222222222222222,
              "#7201a8"
             ],
             [
              0.3333333333333333,
              "#9c179e"
             ],
             [
              0.4444444444444444,
              "#bd3786"
             ],
             [
              0.5555555555555556,
              "#d8576b"
             ],
             [
              0.6666666666666666,
              "#ed7953"
             ],
             [
              0.7777777777777778,
              "#fb9f3a"
             ],
             [
              0.8888888888888888,
              "#fdca26"
             ],
             [
              1,
              "#f0f921"
             ]
            ],
            "type": "heatmap"
           }
          ],
          "heatmapgl": [
           {
            "colorbar": {
             "outlinewidth": 0,
             "ticks": ""
            },
            "colorscale": [
             [
              0,
              "#0d0887"
             ],
             [
              0.1111111111111111,
              "#46039f"
             ],
             [
              0.2222222222222222,
              "#7201a8"
             ],
             [
              0.3333333333333333,
              "#9c179e"
             ],
             [
              0.4444444444444444,
              "#bd3786"
             ],
             [
              0.5555555555555556,
              "#d8576b"
             ],
             [
              0.6666666666666666,
              "#ed7953"
             ],
             [
              0.7777777777777778,
              "#fb9f3a"
             ],
             [
              0.8888888888888888,
              "#fdca26"
             ],
             [
              1,
              "#f0f921"
             ]
            ],
            "type": "heatmapgl"
           }
          ],
          "histogram": [
           {
            "marker": {
             "pattern": {
              "fillmode": "overlay",
              "size": 10,
              "solidity": 0.2
             }
            },
            "type": "histogram"
           }
          ],
          "histogram2d": [
           {
            "colorbar": {
             "outlinewidth": 0,
             "ticks": ""
            },
            "colorscale": [
             [
              0,
              "#0d0887"
             ],
             [
              0.1111111111111111,
              "#46039f"
             ],
             [
              0.2222222222222222,
              "#7201a8"
             ],
             [
              0.3333333333333333,
              "#9c179e"
             ],
             [
              0.4444444444444444,
              "#bd3786"
             ],
             [
              0.5555555555555556,
              "#d8576b"
             ],
             [
              0.6666666666666666,
              "#ed7953"
             ],
             [
              0.7777777777777778,
              "#fb9f3a"
             ],
             [
              0.8888888888888888,
              "#fdca26"
             ],
             [
              1,
              "#f0f921"
             ]
            ],
            "type": "histogram2d"
           }
          ],
          "histogram2dcontour": [
           {
            "colorbar": {
             "outlinewidth": 0,
             "ticks": ""
            },
            "colorscale": [
             [
              0,
              "#0d0887"
             ],
             [
              0.1111111111111111,
              "#46039f"
             ],
             [
              0.2222222222222222,
              "#7201a8"
             ],
             [
              0.3333333333333333,
              "#9c179e"
             ],
             [
              0.4444444444444444,
              "#bd3786"
             ],
             [
              0.5555555555555556,
              "#d8576b"
             ],
             [
              0.6666666666666666,
              "#ed7953"
             ],
             [
              0.7777777777777778,
              "#fb9f3a"
             ],
             [
              0.8888888888888888,
              "#fdca26"
             ],
             [
              1,
              "#f0f921"
             ]
            ],
            "type": "histogram2dcontour"
           }
          ],
          "mesh3d": [
           {
            "colorbar": {
             "outlinewidth": 0,
             "ticks": ""
            },
            "type": "mesh3d"
           }
          ],
          "parcoords": [
           {
            "line": {
             "colorbar": {
              "outlinewidth": 0,
              "ticks": ""
             }
            },
            "type": "parcoords"
           }
          ],
          "pie": [
           {
            "automargin": true,
            "type": "pie"
           }
          ],
          "scatter": [
           {
            "marker": {
             "colorbar": {
              "outlinewidth": 0,
              "ticks": ""
             }
            },
            "type": "scatter"
           }
          ],
          "scatter3d": [
           {
            "line": {
             "colorbar": {
              "outlinewidth": 0,
              "ticks": ""
             }
            },
            "marker": {
             "colorbar": {
              "outlinewidth": 0,
              "ticks": ""
             }
            },
            "type": "scatter3d"
           }
          ],
          "scattercarpet": [
           {
            "marker": {
             "colorbar": {
              "outlinewidth": 0,
              "ticks": ""
             }
            },
            "type": "scattercarpet"
           }
          ],
          "scattergeo": [
           {
            "marker": {
             "colorbar": {
              "outlinewidth": 0,
              "ticks": ""
             }
            },
            "type": "scattergeo"
           }
          ],
          "scattergl": [
           {
            "marker": {
             "colorbar": {
              "outlinewidth": 0,
              "ticks": ""
             }
            },
            "type": "scattergl"
           }
          ],
          "scattermapbox": [
           {
            "marker": {
             "colorbar": {
              "outlinewidth": 0,
              "ticks": ""
             }
            },
            "type": "scattermapbox"
           }
          ],
          "scatterpolar": [
           {
            "marker": {
             "colorbar": {
              "outlinewidth": 0,
              "ticks": ""
             }
            },
            "type": "scatterpolar"
           }
          ],
          "scatterpolargl": [
           {
            "marker": {
             "colorbar": {
              "outlinewidth": 0,
              "ticks": ""
             }
            },
            "type": "scatterpolargl"
           }
          ],
          "scatterternary": [
           {
            "marker": {
             "colorbar": {
              "outlinewidth": 0,
              "ticks": ""
             }
            },
            "type": "scatterternary"
           }
          ],
          "surface": [
           {
            "colorbar": {
             "outlinewidth": 0,
             "ticks": ""
            },
            "colorscale": [
             [
              0,
              "#0d0887"
             ],
             [
              0.1111111111111111,
              "#46039f"
             ],
             [
              0.2222222222222222,
              "#7201a8"
             ],
             [
              0.3333333333333333,
              "#9c179e"
             ],
             [
              0.4444444444444444,
              "#bd3786"
             ],
             [
              0.5555555555555556,
              "#d8576b"
             ],
             [
              0.6666666666666666,
              "#ed7953"
             ],
             [
              0.7777777777777778,
              "#fb9f3a"
             ],
             [
              0.8888888888888888,
              "#fdca26"
             ],
             [
              1,
              "#f0f921"
             ]
            ],
            "type": "surface"
           }
          ],
          "table": [
           {
            "cells": {
             "fill": {
              "color": "#EBF0F8"
             },
             "line": {
              "color": "white"
             }
            },
            "header": {
             "fill": {
              "color": "#C8D4E3"
             },
             "line": {
              "color": "white"
             }
            },
            "type": "table"
           }
          ]
         },
         "layout": {
          "annotationdefaults": {
           "arrowcolor": "#2a3f5f",
           "arrowhead": 0,
           "arrowwidth": 1
          },
          "autotypenumbers": "strict",
          "coloraxis": {
           "colorbar": {
            "outlinewidth": 0,
            "ticks": ""
           }
          },
          "colorscale": {
           "diverging": [
            [
             0,
             "#8e0152"
            ],
            [
             0.1,
             "#c51b7d"
            ],
            [
             0.2,
             "#de77ae"
            ],
            [
             0.3,
             "#f1b6da"
            ],
            [
             0.4,
             "#fde0ef"
            ],
            [
             0.5,
             "#f7f7f7"
            ],
            [
             0.6,
             "#e6f5d0"
            ],
            [
             0.7,
             "#b8e186"
            ],
            [
             0.8,
             "#7fbc41"
            ],
            [
             0.9,
             "#4d9221"
            ],
            [
             1,
             "#276419"
            ]
           ],
           "sequential": [
            [
             0,
             "#0d0887"
            ],
            [
             0.1111111111111111,
             "#46039f"
            ],
            [
             0.2222222222222222,
             "#7201a8"
            ],
            [
             0.3333333333333333,
             "#9c179e"
            ],
            [
             0.4444444444444444,
             "#bd3786"
            ],
            [
             0.5555555555555556,
             "#d8576b"
            ],
            [
             0.6666666666666666,
             "#ed7953"
            ],
            [
             0.7777777777777778,
             "#fb9f3a"
            ],
            [
             0.8888888888888888,
             "#fdca26"
            ],
            [
             1,
             "#f0f921"
            ]
           ],
           "sequentialminus": [
            [
             0,
             "#0d0887"
            ],
            [
             0.1111111111111111,
             "#46039f"
            ],
            [
             0.2222222222222222,
             "#7201a8"
            ],
            [
             0.3333333333333333,
             "#9c179e"
            ],
            [
             0.4444444444444444,
             "#bd3786"
            ],
            [
             0.5555555555555556,
             "#d8576b"
            ],
            [
             0.6666666666666666,
             "#ed7953"
            ],
            [
             0.7777777777777778,
             "#fb9f3a"
            ],
            [
             0.8888888888888888,
             "#fdca26"
            ],
            [
             1,
             "#f0f921"
            ]
           ]
          },
          "colorway": [
           "#636efa",
           "#EF553B",
           "#00cc96",
           "#ab63fa",
           "#FFA15A",
           "#19d3f3",
           "#FF6692",
           "#B6E880",
           "#FF97FF",
           "#FECB52"
          ],
          "font": {
           "color": "#2a3f5f"
          },
          "geo": {
           "bgcolor": "white",
           "lakecolor": "white",
           "landcolor": "#E5ECF6",
           "showlakes": true,
           "showland": true,
           "subunitcolor": "white"
          },
          "hoverlabel": {
           "align": "left"
          },
          "hovermode": "closest",
          "mapbox": {
           "style": "light"
          },
          "paper_bgcolor": "white",
          "plot_bgcolor": "#E5ECF6",
          "polar": {
           "angularaxis": {
            "gridcolor": "white",
            "linecolor": "white",
            "ticks": ""
           },
           "bgcolor": "#E5ECF6",
           "radialaxis": {
            "gridcolor": "white",
            "linecolor": "white",
            "ticks": ""
           }
          },
          "scene": {
           "xaxis": {
            "backgroundcolor": "#E5ECF6",
            "gridcolor": "white",
            "gridwidth": 2,
            "linecolor": "white",
            "showbackground": true,
            "ticks": "",
            "zerolinecolor": "white"
           },
           "yaxis": {
            "backgroundcolor": "#E5ECF6",
            "gridcolor": "white",
            "gridwidth": 2,
            "linecolor": "white",
            "showbackground": true,
            "ticks": "",
            "zerolinecolor": "white"
           },
           "zaxis": {
            "backgroundcolor": "#E5ECF6",
            "gridcolor": "white",
            "gridwidth": 2,
            "linecolor": "white",
            "showbackground": true,
            "ticks": "",
            "zerolinecolor": "white"
           }
          },
          "shapedefaults": {
           "line": {
            "color": "#2a3f5f"
           }
          },
          "ternary": {
           "aaxis": {
            "gridcolor": "white",
            "linecolor": "white",
            "ticks": ""
           },
           "baxis": {
            "gridcolor": "white",
            "linecolor": "white",
            "ticks": ""
           },
           "bgcolor": "#E5ECF6",
           "caxis": {
            "gridcolor": "white",
            "linecolor": "white",
            "ticks": ""
           }
          },
          "title": {
           "x": 0.05
          },
          "xaxis": {
           "automargin": true,
           "gridcolor": "white",
           "linecolor": "white",
           "ticks": "",
           "title": {
            "standoff": 15
           },
           "zerolinecolor": "white",
           "zerolinewidth": 2
          },
          "yaxis": {
           "automargin": true,
           "gridcolor": "white",
           "linecolor": "white",
           "ticks": "",
           "title": {
            "standoff": 15
           },
           "zerolinecolor": "white",
           "zerolinewidth": 2
          }
         }
        },
        "xaxis": {
         "anchor": "y",
         "domain": [
          0,
          1
         ],
         "title": {
          "text": "scenario"
         }
        },
        "yaxis": {
         "anchor": "x",
         "domain": [
          0,
          1
         ],
         "title": {
          "text": "expected_profit"
         }
        }
       }
      }
     },
     "metadata": {},
     "output_type": "display_data"
    }
   ],
   "source": [
    "# extract produced into warehouse movements\n",
    "results = []\n",
    "for k,v in ProdtWare.items():\n",
    "    results.append([k, v.X])\n",
    "    \n",
    "w_WaretDis = pd.DataFrame(results, columns = ['Warehouse', 'WaretDis'])\n",
    "\n",
    "\n",
    "# extract warehouse to distribution movements\n",
    "results = []\n",
    "for k,v in WaretDis.items():\n",
    "    results.append([k[0], k[1], k[2], v.X])\n",
    "    \n",
    "d_WaretDis = pd.DataFrame(results, columns = ['Warehouse'  ,'Distribution Center', 'Scenario', 'WaretDis'])\n",
    "dcost = []\n",
    "for k, v in distribution_cost.items():\n",
    "    dcost.append([k[0], k[1], v])\n",
    "dcsot = pd.DataFrame(dcost, columns = ['Warehouse','Distribution Center', 'cost'])\n",
    "\n",
    "d_WaretDis = pd.merge(d_WaretDis, dcsot, on = ['Warehouse', 'Distribution Center'])\n",
    "\n",
    "# extract sold units\n",
    "results = []\n",
    "for k,v in Sold.items():\n",
    "    results.append([k[0], k[1], v.X])\n",
    "    \n",
    "sold = pd.DataFrame(results, columns = ['Distribution Center', 'Scenario', 'Sold'])\n",
    "\n",
    "# Merge all\n",
    "sold['profit_per_unit'] = profit\n",
    "sold['revenue'] = sold.Sold * sold.profit_per_unit\n",
    "sold = sold.groupby(['Scenario']).revenue.sum().reset_index()\n",
    "\n",
    "d_WaretDis['distributon_cost'] = d_WaretDis.WaretDis * d_WaretDis.cost\n",
    "d_WaretDis = d_WaretDis.groupby(['Scenario']).distributon_cost.sum().reset_index()\n",
    "\n",
    "expected_profit = pd.merge(sold, d_WaretDis, on = 'Scenario')\n",
    "expected_profit['fixed_cost'] = fixed_cost\n",
    "expected_profit['warehouse_cost'] = w_WaretDis.max()[1] * 0.35\n",
    "expected_profit['production_cost'] = 278441 * 10\n",
    "\n",
    "expected_profit['expected_profit'] = expected_profit.revenue - (expected_profit.distributon_cost + expected_profit.fixed_cost + expected_profit.warehouse_cost + expected_profit['production_cost'])\n",
    "expected_profit['second_stage_profit'] = expected_profit.revenue - expected_profit.distributon_cost \n",
    "\n",
    "expected_profit.sort_values('revenue')\n",
    "\n",
    "# Create plot\n",
    "expected_profit['scenario'] = expected_profit.Scenario.apply(lambda x: str(x).replace('S', ''))\n",
    "expected_profit['scenario'] = pd.to_numeric(expected_profit['scenario'])\n",
    "\n",
    "# px.histogram(expected_profit, x = 'expected_profit')\n",
    "\n",
    "px.bar(expected_profit, x = 'scenario', y = 'expected_profit')"
   ]
  },
  {
   "cell_type": "code",
   "execution_count": 35,
   "metadata": {},
   "outputs": [
    {
     "data": {
      "text/html": [
       "<div>\n",
       "<style scoped>\n",
       "    .dataframe tbody tr th:only-of-type {\n",
       "        vertical-align: middle;\n",
       "    }\n",
       "\n",
       "    .dataframe tbody tr th {\n",
       "        vertical-align: top;\n",
       "    }\n",
       "\n",
       "    .dataframe thead th {\n",
       "        text-align: right;\n",
       "    }\n",
       "</style>\n",
       "<table border=\"1\" class=\"dataframe\">\n",
       "  <thead>\n",
       "    <tr style=\"text-align: right;\">\n",
       "      <th></th>\n",
       "      <th>Scenario</th>\n",
       "      <th>revenue</th>\n",
       "      <th>distributon_cost</th>\n",
       "      <th>fixed_cost</th>\n",
       "      <th>warehouse_cost</th>\n",
       "      <th>production_cost</th>\n",
       "      <th>expected_profit</th>\n",
       "      <th>second_stage_profit</th>\n",
       "      <th>scenario</th>\n",
       "    </tr>\n",
       "  </thead>\n",
       "  <tbody>\n",
       "    <tr>\n",
       "      <th>52</th>\n",
       "      <td>S56</td>\n",
       "      <td>4940660.0</td>\n",
       "      <td>356871.5</td>\n",
       "      <td>100000</td>\n",
       "      <td>97454.35</td>\n",
       "      <td>2784410</td>\n",
       "      <td>1601924.15</td>\n",
       "      <td>4583788.5</td>\n",
       "      <td>56</td>\n",
       "    </tr>\n",
       "  </tbody>\n",
       "</table>\n",
       "</div>"
      ],
      "text/plain": [
       "   Scenario    revenue  distributon_cost  fixed_cost  warehouse_cost  \\\n",
       "52      S56  4940660.0          356871.5      100000        97454.35   \n",
       "\n",
       "    production_cost  expected_profit  second_stage_profit  scenario  \n",
       "52          2784410       1601924.15            4583788.5        56  "
      ]
     },
     "execution_count": 35,
     "metadata": {},
     "output_type": "execute_result"
    }
   ],
   "source": [
    "expected_profit[expected_profit.expected_profit == expected_profit.expected_profit.min()]"
   ]
  },
  {
   "cell_type": "code",
   "execution_count": 37,
   "metadata": {},
   "outputs": [
    {
     "name": "stdout",
     "output_type": "stream",
     "text": [
      "Gurobi Optimizer version 10.0.0 build v10.0.0rc2 (mac64[rosetta2])\n",
      "\n",
      "CPU model: Apple M1 Pro\n",
      "Thread count: 8 physical cores, 8 logical processors, using up to 8 threads\n",
      "\n",
      "Optimize a model with 10624 rows, 98447 columns and 297570 nonzeros\n",
      "Model fingerprint: 0x2e986e1d\n",
      "Variable types: 0 continuous, 98447 integer (23 binary)\n",
      "Coefficient statistics:\n",
      "  Matrix range     [9e-01, 4e+05]\n",
      "  Objective range  [3e-01, 1e+05]\n",
      "  Bounds range     [1e+00, 1e+00]\n",
      "  RHS range        [7e+02, 5e+06]\n",
      "Presolve removed 4101 rows and 1 columns\n",
      "Presolve time: 0.28s\n",
      "Presolved: 6523 rows, 98446 columns, 293446 nonzeros\n",
      "Variable types: 0 continuous, 98446 integer (23 binary)\n",
      "Deterministic concurrent LP optimizer: primal and dual simplex\n",
      "Showing first log only...\n",
      "\n",
      "Concurrent spin time: 0.00s\n",
      "\n",
      "Solved with dual simplex\n",
      "\n",
      "Root relaxation: objective 2.006907e+06, 38391 iterations, 1.92 seconds (2.63 work units)\n",
      "\n",
      "    Nodes    |    Current Node    |     Objective Bounds      |     Work\n",
      " Expl Unexpl |  Obj  Depth IntInf | Incumbent    BestBd   Gap | It/Node Time\n",
      "\n",
      "     0     0 2006907.32    0  759          - 2006907.32      -     -    3s\n",
      "H    0     0                    364274.00000 2006907.32   451%     -    3s\n",
      "H    0     0                    464326.37500 2006907.32   332%     -    3s\n",
      "H    0     0                    724296.90000 2001978.01   176%     -    5s\n",
      "     0     0 1998620.12    0 4440 724296.900 1998620.12   176%     -    5s\n",
      "H    0     0                    758362.80000 1998620.12   164%     -    8s\n",
      "H    0     0                    945386.10000 1993401.45   111%     -   11s\n",
      "     0     0 1935923.69    0 6206 945386.100 1935923.69   105%     -   12s\n",
      "H    0     0                    1242074.0250 1935923.69  55.9%     -   19s\n",
      "H    0     0                    1430504.5500 1935923.69  35.3%     -   19s\n",
      "H    0     0                    1926996.4500 1935923.69  0.46%     -   19s\n",
      "     0     0 1926996.74    0 5310 1926996.45 1926996.74  0.00%     -   20s\n",
      "\n",
      "Cutting planes:\n",
      "  Gomory: 2\n",
      "  Implied bound: 3137\n",
      "  MIR: 53\n",
      "  Flow cover: 2\n",
      "\n",
      "Explored 1 nodes (152597 simplex iterations) in 20.20 seconds (27.83 work units)\n",
      "Thread count was 8 (of 8 available processors)\n",
      "\n",
      "Solution count 8: 1.927e+06 1.4305e+06 1.24207e+06 ... 364274\n",
      "\n",
      "Optimal solution found (tolerance 1.00e-04)\n",
      "Best objective 1.926996450000e+06, best bound 1.926996735912e+06, gap 0.0000%\n",
      "Total cost: 1926996.4500000002\n"
     ]
    }
   ],
   "source": [
    "model = gp.Model('Production')\n",
    "\n",
    "## Declare Variables\n",
    "# First\n",
    "produce = model.addVar(name='product', vtype=gp.GRB.INTEGER)\n",
    "Ware = model.addVars(warehouses, vtype = gp.GRB.BINARY, name = 'Ware')\n",
    "ProdtWare = model.addVars(warehouses, vtype = gp.GRB.INTEGER, name = 'ProdtWare')\n",
    "WP = 4583788\n",
    "\n",
    "# Second\n",
    "WaretDis = model.addVars(warehouses, distribution_centers, scenarios, vtype = gp.GRB.INTEGER, name = 'WaretDis')\n",
    "Sold = model.addVars(distribution_centers, scenarios, vtype = gp.GRB.INTEGER, name = 'SE')\n",
    "\n",
    "obj = 0\n",
    "obj -= produce * cost # cost to produce\n",
    "obj -= gp.quicksum(Ware[w] * fixed_cost for w in warehouses) # fixed warehouse\n",
    "obj -= gp.quicksum(ProdtWare[w] * warehouse_costs[w] for w in warehouse_costs) # cost to ship to warehouse\n",
    "obj += WP\n",
    "\n",
    "model.setObjective(obj, gp.GRB.MAXIMIZE)\n",
    "\n",
    "## Add Constraints\n",
    "# Everything we produce must be sent to warehouse A or B\n",
    "model.addConstr(gp.quicksum(ProdtWare[w] for w in warehouses) == produce)\n",
    "\n",
    "# We can not ship more from a warehouses than we send to it\n",
    "model.addConstrs(gp.quicksum(WaretDis[w, d, s] for d in distribution_centers) <= ProdtWare[w] for w in warehouses for s in scenarios)\n",
    "\n",
    "# Constants\n",
    "bigM = len(distribution_centers) * len(scenarios) * len(senario_probabilities)\n",
    "\n",
    "# If products are send to a warehouse then the bin variable \n",
    "model.addConstrs(ProdtWare[w] <= Ware[w] * bigM for w in warehouses)\n",
    "\n",
    "# Sales can not be bigger than the demand\n",
    "model.addConstrs(Sold[d,s] <= demands[d,s] for d in distribution_centers for s in scenarios)\n",
    "\n",
    "# The sales cannot be bigger then the products at the distribution center\n",
    "model.addConstrs(Sold[d,s] <= gp.quicksum(WaretDis[w, d, s] for w in warehouses) for d in distribution_centers for s in scenarios)\n",
    "\n",
    "# Each scenario \n",
    "model.addConstrs(WP <= gp.quicksum(Sold[d,s] * profit for d in distribution_centers) - gp.quicksum(WaretDis[w, d, s] * distribution_cost[(w,d)] for d in distribution_centers for w in warehouses) for s in scenarios)\n",
    "\n",
    "model.optimize()\n",
    "# model.printAttr([\"X\"])\n",
    "print('Total cost:', model.OBJVAL)"
   ]
  },
  {
   "cell_type": "code",
   "execution_count": 38,
   "metadata": {},
   "outputs": [
    {
     "data": {
      "text/plain": [
       "<gurobi.Var product (value 247033.0)>"
      ]
     },
     "execution_count": 38,
     "metadata": {},
     "output_type": "execute_result"
    }
   ],
   "source": [
    "produce"
   ]
  },
  {
   "cell_type": "code",
   "execution_count": 39,
   "metadata": {},
   "outputs": [
    {
     "data": {
      "application/vnd.plotly.v1+json": {
       "config": {
        "plotlyServerURL": "https://plot.ly"
       },
       "data": [
        {
         "alignmentgroup": "True",
         "hovertemplate": "scenario=%{x}<br>expected_profit=%{y}<extra></extra>",
         "legendgroup": "",
         "marker": {
          "color": "#636efa",
          "pattern": {
           "shape": ""
          }
         },
         "name": "",
         "offsetgroup": "",
         "orientation": "v",
         "showlegend": false,
         "textposition": "auto",
         "type": "bar",
         "x": [
          1,
          10,
          100,
          11,
          12,
          13,
          14,
          15,
          16,
          17,
          18,
          19,
          2,
          20,
          21,
          22,
          23,
          24,
          25,
          26,
          27,
          28,
          29,
          3,
          30,
          31,
          32,
          33,
          34,
          35,
          36,
          37,
          38,
          39,
          4,
          40,
          41,
          42,
          43,
          44,
          45,
          46,
          47,
          48,
          49,
          5,
          50,
          51,
          52,
          53,
          54,
          55,
          56,
          57,
          58,
          59,
          6,
          60,
          61,
          62,
          63,
          64,
          65,
          66,
          67,
          68,
          69,
          7,
          70,
          71,
          72,
          73,
          74,
          75,
          76,
          77,
          78,
          79,
          8,
          80,
          81,
          82,
          83,
          84,
          85,
          86,
          87,
          88,
          89,
          9,
          90,
          91,
          92,
          93,
          94,
          95,
          96,
          97,
          98,
          99
         ],
         "xaxis": "x",
         "y": [
          1927005.25,
          1926996.65,
          1926999.35,
          1927000.85,
          1927009.25,
          1926999.65,
          1927006.35,
          1933891.75,
          1933766.65,
          1927007.5499999998,
          1927014.0499999998,
          1927014.5499999998,
          1927002.25,
          1927014.65,
          1927013.75,
          1926997.85,
          1926997.5499999998,
          1927006.9500000002,
          1927003.85,
          1933972.25,
          1927004.4500000002,
          1927005.35,
          1926997.65,
          1933010.15,
          1927016.35,
          1927031.4500000002,
          1935247.4500000002,
          1927002.15,
          1927005.15,
          1927012.4500000002,
          1927010.35,
          1927005.25,
          1927000.25,
          1927000.0499999998,
          1927003.85,
          1927002.25,
          1926998.15,
          1927004.0499999998,
          1927029.4500000002,
          1927002.15,
          1926996.85,
          1926997.9500000002,
          1927003.9500000002,
          1926999.0499999998,
          1927014.15,
          1927010.85,
          1927011.85,
          1927007.5499999998,
          1927006.65,
          1927010.65,
          1941986.15,
          1927003.4500000002,
          1926996.9500000002,
          1927008.75,
          1927006.85,
          1927000.75,
          1927009.5499999998,
          1927007.25,
          1926999.9500000002,
          1927000.15,
          1927008.15,
          1927012.65,
          1927004.0499999998,
          1927014.5499999998,
          1927005.9500000002,
          1927005.5499999998,
          1927000.15,
          1927009.35,
          1926997.75,
          1927009.4500000002,
          1943131.9500000002,
          1927004.65,
          1927000.65,
          1930622.15,
          1926999.35,
          1944426.65,
          1927007.85,
          1926998.85,
          1927008.9500000002,
          1927005.4500000002,
          1927006.35,
          1926997.5499999998,
          1927013.9500000002,
          1927012.15,
          1927013.5499999998,
          1927000.85,
          1926999.4500000002,
          1927000.85,
          1927003.15,
          1927014.25,
          1926997.9500000002,
          1927004.15,
          1927014.65,
          1927007.65,
          1927001.5499999998,
          1927000.25,
          1927011.25,
          1931971.35,
          1927006.35,
          1927008.4500000002
         ],
         "yaxis": "y"
        }
       ],
       "layout": {
        "barmode": "relative",
        "legend": {
         "tracegroupgap": 0
        },
        "margin": {
         "t": 60
        },
        "template": {
         "data": {
          "bar": [
           {
            "error_x": {
             "color": "#2a3f5f"
            },
            "error_y": {
             "color": "#2a3f5f"
            },
            "marker": {
             "line": {
              "color": "#E5ECF6",
              "width": 0.5
             },
             "pattern": {
              "fillmode": "overlay",
              "size": 10,
              "solidity": 0.2
             }
            },
            "type": "bar"
           }
          ],
          "barpolar": [
           {
            "marker": {
             "line": {
              "color": "#E5ECF6",
              "width": 0.5
             },
             "pattern": {
              "fillmode": "overlay",
              "size": 10,
              "solidity": 0.2
             }
            },
            "type": "barpolar"
           }
          ],
          "carpet": [
           {
            "aaxis": {
             "endlinecolor": "#2a3f5f",
             "gridcolor": "white",
             "linecolor": "white",
             "minorgridcolor": "white",
             "startlinecolor": "#2a3f5f"
            },
            "baxis": {
             "endlinecolor": "#2a3f5f",
             "gridcolor": "white",
             "linecolor": "white",
             "minorgridcolor": "white",
             "startlinecolor": "#2a3f5f"
            },
            "type": "carpet"
           }
          ],
          "choropleth": [
           {
            "colorbar": {
             "outlinewidth": 0,
             "ticks": ""
            },
            "type": "choropleth"
           }
          ],
          "contour": [
           {
            "colorbar": {
             "outlinewidth": 0,
             "ticks": ""
            },
            "colorscale": [
             [
              0,
              "#0d0887"
             ],
             [
              0.1111111111111111,
              "#46039f"
             ],
             [
              0.2222222222222222,
              "#7201a8"
             ],
             [
              0.3333333333333333,
              "#9c179e"
             ],
             [
              0.4444444444444444,
              "#bd3786"
             ],
             [
              0.5555555555555556,
              "#d8576b"
             ],
             [
              0.6666666666666666,
              "#ed7953"
             ],
             [
              0.7777777777777778,
              "#fb9f3a"
             ],
             [
              0.8888888888888888,
              "#fdca26"
             ],
             [
              1,
              "#f0f921"
             ]
            ],
            "type": "contour"
           }
          ],
          "contourcarpet": [
           {
            "colorbar": {
             "outlinewidth": 0,
             "ticks": ""
            },
            "type": "contourcarpet"
           }
          ],
          "heatmap": [
           {
            "colorbar": {
             "outlinewidth": 0,
             "ticks": ""
            },
            "colorscale": [
             [
              0,
              "#0d0887"
             ],
             [
              0.1111111111111111,
              "#46039f"
             ],
             [
              0.2222222222222222,
              "#7201a8"
             ],
             [
              0.3333333333333333,
              "#9c179e"
             ],
             [
              0.4444444444444444,
              "#bd3786"
             ],
             [
              0.5555555555555556,
              "#d8576b"
             ],
             [
              0.6666666666666666,
              "#ed7953"
             ],
             [
              0.7777777777777778,
              "#fb9f3a"
             ],
             [
              0.8888888888888888,
              "#fdca26"
             ],
             [
              1,
              "#f0f921"
             ]
            ],
            "type": "heatmap"
           }
          ],
          "heatmapgl": [
           {
            "colorbar": {
             "outlinewidth": 0,
             "ticks": ""
            },
            "colorscale": [
             [
              0,
              "#0d0887"
             ],
             [
              0.1111111111111111,
              "#46039f"
             ],
             [
              0.2222222222222222,
              "#7201a8"
             ],
             [
              0.3333333333333333,
              "#9c179e"
             ],
             [
              0.4444444444444444,
              "#bd3786"
             ],
             [
              0.5555555555555556,
              "#d8576b"
             ],
             [
              0.6666666666666666,
              "#ed7953"
             ],
             [
              0.7777777777777778,
              "#fb9f3a"
             ],
             [
              0.8888888888888888,
              "#fdca26"
             ],
             [
              1,
              "#f0f921"
             ]
            ],
            "type": "heatmapgl"
           }
          ],
          "histogram": [
           {
            "marker": {
             "pattern": {
              "fillmode": "overlay",
              "size": 10,
              "solidity": 0.2
             }
            },
            "type": "histogram"
           }
          ],
          "histogram2d": [
           {
            "colorbar": {
             "outlinewidth": 0,
             "ticks": ""
            },
            "colorscale": [
             [
              0,
              "#0d0887"
             ],
             [
              0.1111111111111111,
              "#46039f"
             ],
             [
              0.2222222222222222,
              "#7201a8"
             ],
             [
              0.3333333333333333,
              "#9c179e"
             ],
             [
              0.4444444444444444,
              "#bd3786"
             ],
             [
              0.5555555555555556,
              "#d8576b"
             ],
             [
              0.6666666666666666,
              "#ed7953"
             ],
             [
              0.7777777777777778,
              "#fb9f3a"
             ],
             [
              0.8888888888888888,
              "#fdca26"
             ],
             [
              1,
              "#f0f921"
             ]
            ],
            "type": "histogram2d"
           }
          ],
          "histogram2dcontour": [
           {
            "colorbar": {
             "outlinewidth": 0,
             "ticks": ""
            },
            "colorscale": [
             [
              0,
              "#0d0887"
             ],
             [
              0.1111111111111111,
              "#46039f"
             ],
             [
              0.2222222222222222,
              "#7201a8"
             ],
             [
              0.3333333333333333,
              "#9c179e"
             ],
             [
              0.4444444444444444,
              "#bd3786"
             ],
             [
              0.5555555555555556,
              "#d8576b"
             ],
             [
              0.6666666666666666,
              "#ed7953"
             ],
             [
              0.7777777777777778,
              "#fb9f3a"
             ],
             [
              0.8888888888888888,
              "#fdca26"
             ],
             [
              1,
              "#f0f921"
             ]
            ],
            "type": "histogram2dcontour"
           }
          ],
          "mesh3d": [
           {
            "colorbar": {
             "outlinewidth": 0,
             "ticks": ""
            },
            "type": "mesh3d"
           }
          ],
          "parcoords": [
           {
            "line": {
             "colorbar": {
              "outlinewidth": 0,
              "ticks": ""
             }
            },
            "type": "parcoords"
           }
          ],
          "pie": [
           {
            "automargin": true,
            "type": "pie"
           }
          ],
          "scatter": [
           {
            "marker": {
             "colorbar": {
              "outlinewidth": 0,
              "ticks": ""
             }
            },
            "type": "scatter"
           }
          ],
          "scatter3d": [
           {
            "line": {
             "colorbar": {
              "outlinewidth": 0,
              "ticks": ""
             }
            },
            "marker": {
             "colorbar": {
              "outlinewidth": 0,
              "ticks": ""
             }
            },
            "type": "scatter3d"
           }
          ],
          "scattercarpet": [
           {
            "marker": {
             "colorbar": {
              "outlinewidth": 0,
              "ticks": ""
             }
            },
            "type": "scattercarpet"
           }
          ],
          "scattergeo": [
           {
            "marker": {
             "colorbar": {
              "outlinewidth": 0,
              "ticks": ""
             }
            },
            "type": "scattergeo"
           }
          ],
          "scattergl": [
           {
            "marker": {
             "colorbar": {
              "outlinewidth": 0,
              "ticks": ""
             }
            },
            "type": "scattergl"
           }
          ],
          "scattermapbox": [
           {
            "marker": {
             "colorbar": {
              "outlinewidth": 0,
              "ticks": ""
             }
            },
            "type": "scattermapbox"
           }
          ],
          "scatterpolar": [
           {
            "marker": {
             "colorbar": {
              "outlinewidth": 0,
              "ticks": ""
             }
            },
            "type": "scatterpolar"
           }
          ],
          "scatterpolargl": [
           {
            "marker": {
             "colorbar": {
              "outlinewidth": 0,
              "ticks": ""
             }
            },
            "type": "scatterpolargl"
           }
          ],
          "scatterternary": [
           {
            "marker": {
             "colorbar": {
              "outlinewidth": 0,
              "ticks": ""
             }
            },
            "type": "scatterternary"
           }
          ],
          "surface": [
           {
            "colorbar": {
             "outlinewidth": 0,
             "ticks": ""
            },
            "colorscale": [
             [
              0,
              "#0d0887"
             ],
             [
              0.1111111111111111,
              "#46039f"
             ],
             [
              0.2222222222222222,
              "#7201a8"
             ],
             [
              0.3333333333333333,
              "#9c179e"
             ],
             [
              0.4444444444444444,
              "#bd3786"
             ],
             [
              0.5555555555555556,
              "#d8576b"
             ],
             [
              0.6666666666666666,
              "#ed7953"
             ],
             [
              0.7777777777777778,
              "#fb9f3a"
             ],
             [
              0.8888888888888888,
              "#fdca26"
             ],
             [
              1,
              "#f0f921"
             ]
            ],
            "type": "surface"
           }
          ],
          "table": [
           {
            "cells": {
             "fill": {
              "color": "#EBF0F8"
             },
             "line": {
              "color": "white"
             }
            },
            "header": {
             "fill": {
              "color": "#C8D4E3"
             },
             "line": {
              "color": "white"
             }
            },
            "type": "table"
           }
          ]
         },
         "layout": {
          "annotationdefaults": {
           "arrowcolor": "#2a3f5f",
           "arrowhead": 0,
           "arrowwidth": 1
          },
          "autotypenumbers": "strict",
          "coloraxis": {
           "colorbar": {
            "outlinewidth": 0,
            "ticks": ""
           }
          },
          "colorscale": {
           "diverging": [
            [
             0,
             "#8e0152"
            ],
            [
             0.1,
             "#c51b7d"
            ],
            [
             0.2,
             "#de77ae"
            ],
            [
             0.3,
             "#f1b6da"
            ],
            [
             0.4,
             "#fde0ef"
            ],
            [
             0.5,
             "#f7f7f7"
            ],
            [
             0.6,
             "#e6f5d0"
            ],
            [
             0.7,
             "#b8e186"
            ],
            [
             0.8,
             "#7fbc41"
            ],
            [
             0.9,
             "#4d9221"
            ],
            [
             1,
             "#276419"
            ]
           ],
           "sequential": [
            [
             0,
             "#0d0887"
            ],
            [
             0.1111111111111111,
             "#46039f"
            ],
            [
             0.2222222222222222,
             "#7201a8"
            ],
            [
             0.3333333333333333,
             "#9c179e"
            ],
            [
             0.4444444444444444,
             "#bd3786"
            ],
            [
             0.5555555555555556,
             "#d8576b"
            ],
            [
             0.6666666666666666,
             "#ed7953"
            ],
            [
             0.7777777777777778,
             "#fb9f3a"
            ],
            [
             0.8888888888888888,
             "#fdca26"
            ],
            [
             1,
             "#f0f921"
            ]
           ],
           "sequentialminus": [
            [
             0,
             "#0d0887"
            ],
            [
             0.1111111111111111,
             "#46039f"
            ],
            [
             0.2222222222222222,
             "#7201a8"
            ],
            [
             0.3333333333333333,
             "#9c179e"
            ],
            [
             0.4444444444444444,
             "#bd3786"
            ],
            [
             0.5555555555555556,
             "#d8576b"
            ],
            [
             0.6666666666666666,
             "#ed7953"
            ],
            [
             0.7777777777777778,
             "#fb9f3a"
            ],
            [
             0.8888888888888888,
             "#fdca26"
            ],
            [
             1,
             "#f0f921"
            ]
           ]
          },
          "colorway": [
           "#636efa",
           "#EF553B",
           "#00cc96",
           "#ab63fa",
           "#FFA15A",
           "#19d3f3",
           "#FF6692",
           "#B6E880",
           "#FF97FF",
           "#FECB52"
          ],
          "font": {
           "color": "#2a3f5f"
          },
          "geo": {
           "bgcolor": "white",
           "lakecolor": "white",
           "landcolor": "#E5ECF6",
           "showlakes": true,
           "showland": true,
           "subunitcolor": "white"
          },
          "hoverlabel": {
           "align": "left"
          },
          "hovermode": "closest",
          "mapbox": {
           "style": "light"
          },
          "paper_bgcolor": "white",
          "plot_bgcolor": "#E5ECF6",
          "polar": {
           "angularaxis": {
            "gridcolor": "white",
            "linecolor": "white",
            "ticks": ""
           },
           "bgcolor": "#E5ECF6",
           "radialaxis": {
            "gridcolor": "white",
            "linecolor": "white",
            "ticks": ""
           }
          },
          "scene": {
           "xaxis": {
            "backgroundcolor": "#E5ECF6",
            "gridcolor": "white",
            "gridwidth": 2,
            "linecolor": "white",
            "showbackground": true,
            "ticks": "",
            "zerolinecolor": "white"
           },
           "yaxis": {
            "backgroundcolor": "#E5ECF6",
            "gridcolor": "white",
            "gridwidth": 2,
            "linecolor": "white",
            "showbackground": true,
            "ticks": "",
            "zerolinecolor": "white"
           },
           "zaxis": {
            "backgroundcolor": "#E5ECF6",
            "gridcolor": "white",
            "gridwidth": 2,
            "linecolor": "white",
            "showbackground": true,
            "ticks": "",
            "zerolinecolor": "white"
           }
          },
          "shapedefaults": {
           "line": {
            "color": "#2a3f5f"
           }
          },
          "ternary": {
           "aaxis": {
            "gridcolor": "white",
            "linecolor": "white",
            "ticks": ""
           },
           "baxis": {
            "gridcolor": "white",
            "linecolor": "white",
            "ticks": ""
           },
           "bgcolor": "#E5ECF6",
           "caxis": {
            "gridcolor": "white",
            "linecolor": "white",
            "ticks": ""
           }
          },
          "title": {
           "x": 0.05
          },
          "xaxis": {
           "automargin": true,
           "gridcolor": "white",
           "linecolor": "white",
           "ticks": "",
           "title": {
            "standoff": 15
           },
           "zerolinecolor": "white",
           "zerolinewidth": 2
          },
          "yaxis": {
           "automargin": true,
           "gridcolor": "white",
           "linecolor": "white",
           "ticks": "",
           "title": {
            "standoff": 15
           },
           "zerolinecolor": "white",
           "zerolinewidth": 2
          }
         }
        },
        "xaxis": {
         "anchor": "y",
         "domain": [
          0,
          1
         ],
         "title": {
          "text": "scenario"
         }
        },
        "yaxis": {
         "anchor": "x",
         "domain": [
          0,
          1
         ],
         "title": {
          "text": "expected_profit"
         }
        }
       }
      }
     },
     "metadata": {},
     "output_type": "display_data"
    }
   ],
   "source": [
    "# extract produced into warehouse movements\n",
    "results = []\n",
    "for k,v in ProdtWare.items():\n",
    "    results.append([k, v.X])\n",
    "    \n",
    "w_WaretDis = pd.DataFrame(results, columns = ['Warehouse', 'WaretDis'])\n",
    "\n",
    "\n",
    "# extract warehouse to distribution movements\n",
    "results = []\n",
    "for k,v in WaretDis.items():\n",
    "    results.append([k[0], k[1], k[2], v.X])\n",
    "    \n",
    "d_WaretDis = pd.DataFrame(results, columns = ['Warehouse'  ,'Distribution Center', 'Scenario', 'WaretDis'])\n",
    "dcost = []\n",
    "for k, v in distribution_cost.items():\n",
    "    dcost.append([k[0], k[1], v])\n",
    "dcsot = pd.DataFrame(dcost, columns = ['Warehouse','Distribution Center', 'cost'])\n",
    "\n",
    "d_WaretDis = pd.merge(d_WaretDis, dcsot, on = ['Warehouse', 'Distribution Center'])\n",
    "\n",
    "# extract sold units\n",
    "results = []\n",
    "for k,v in Sold.items():\n",
    "    results.append([k[0], k[1], v.X])\n",
    "    \n",
    "sold = pd.DataFrame(results, columns = ['Distribution Center', 'Scenario', 'Sold'])\n",
    "\n",
    "# Merge all\n",
    "sold['profit_per_unit'] = profit\n",
    "sold['revenue'] = sold.Sold * sold.profit_per_unit\n",
    "sold = sold.groupby(['Scenario']).revenue.sum().reset_index()\n",
    "\n",
    "d_WaretDis['distributon_cost'] = d_WaretDis.WaretDis * d_WaretDis.cost\n",
    "d_WaretDis = d_WaretDis.groupby(['Scenario']).distributon_cost.sum().reset_index()\n",
    "\n",
    "expected_profit = pd.merge(sold, d_WaretDis, on = 'Scenario')\n",
    "expected_profit['fixed_cost'] = fixed_cost\n",
    "expected_profit['warehouse_cost'] = w_WaretDis.max()[1] * 0.35\n",
    "expected_profit['production_cost'] = 247033 * 10\n",
    "\n",
    "expected_profit['expected_profit'] = expected_profit.revenue - (expected_profit.distributon_cost + expected_profit.fixed_cost + expected_profit.warehouse_cost + expected_profit['production_cost'])\n",
    "expected_profit['second_stage_profit'] = expected_profit.revenue - expected_profit.distributon_cost \n",
    "\n",
    "expected_profit.sort_values('revenue')\n",
    "\n",
    "# Create histogram\n",
    "expected_profit['scenario'] = expected_profit.Scenario.apply(lambda x: str(x).replace('S', ''))\n",
    "expected_profit['scenario'] = pd.to_numeric(expected_profit['scenario'])\n",
    "\n",
    "# px.histogram(expected_profit, x = 'expected_profit')\n",
    "\n",
    "px.bar(expected_profit, x = 'scenario', y = 'expected_profit')"
   ]
  },
  {
   "cell_type": "code",
   "execution_count": 40,
   "metadata": {},
   "outputs": [
    {
     "data": {
      "text/html": [
       "<div>\n",
       "<style scoped>\n",
       "    .dataframe tbody tr th:only-of-type {\n",
       "        vertical-align: middle;\n",
       "    }\n",
       "\n",
       "    .dataframe tbody tr th {\n",
       "        vertical-align: top;\n",
       "    }\n",
       "\n",
       "    .dataframe thead th {\n",
       "        text-align: right;\n",
       "    }\n",
       "</style>\n",
       "<table border=\"1\" class=\"dataframe\">\n",
       "  <thead>\n",
       "    <tr style=\"text-align: right;\">\n",
       "      <th></th>\n",
       "      <th>Scenario</th>\n",
       "      <th>revenue</th>\n",
       "      <th>distributon_cost</th>\n",
       "      <th>fixed_cost</th>\n",
       "      <th>warehouse_cost</th>\n",
       "      <th>production_cost</th>\n",
       "      <th>expected_profit</th>\n",
       "      <th>second_stage_profit</th>\n",
       "      <th>scenario</th>\n",
       "    </tr>\n",
       "  </thead>\n",
       "  <tbody>\n",
       "    <tr>\n",
       "      <th>1</th>\n",
       "      <td>S10</td>\n",
       "      <td>4922980.0</td>\n",
       "      <td>339191.8</td>\n",
       "      <td>100000</td>\n",
       "      <td>86461.55</td>\n",
       "      <td>2470330</td>\n",
       "      <td>1926996.65</td>\n",
       "      <td>4583788.2</td>\n",
       "      <td>10</td>\n",
       "    </tr>\n",
       "  </tbody>\n",
       "</table>\n",
       "</div>"
      ],
      "text/plain": [
       "  Scenario    revenue  distributon_cost  fixed_cost  warehouse_cost  \\\n",
       "1      S10  4922980.0          339191.8      100000        86461.55   \n",
       "\n",
       "   production_cost  expected_profit  second_stage_profit  scenario  \n",
       "1          2470330       1926996.65            4583788.2        10  "
      ]
     },
     "execution_count": 40,
     "metadata": {},
     "output_type": "execute_result"
    }
   ],
   "source": [
    "expected_profit[expected_profit.expected_profit == expected_profit.expected_profit.min()]"
   ]
  }
 ],
 "metadata": {
  "kernelspec": {
   "display_name": "Python 3.9.12 ('base')",
   "language": "python",
   "name": "python3"
  },
  "language_info": {
   "codemirror_mode": {
    "name": "ipython",
    "version": 3
   },
   "file_extension": ".py",
   "mimetype": "text/x-python",
   "name": "python",
   "nbconvert_exporter": "python",
   "pygments_lexer": "ipython3",
   "version": "3.9.12"
  },
  "orig_nbformat": 4,
  "vscode": {
   "interpreter": {
    "hash": "9c224e4ce58b1a03a37cdb0fb0102ef0b8ba45feb74dc3d6ee1ccfe89c18bdf4"
   }
  }
 },
 "nbformat": 4,
 "nbformat_minor": 2
}
