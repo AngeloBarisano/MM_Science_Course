{
 "cells": [
  {
   "cell_type": "code",
   "execution_count": 1,
   "metadata": {},
   "outputs": [],
   "source": [
    "from gurobipy import *\n",
    "import gurobipy as gp\n",
    "\n",
    "# type declaration\n",
    "from typing import Dict, List\n",
    "\n",
    "\n",
    "import pandas as pd\n",
    "import numpy as np\n",
    "\n",
    "# %load_ext nb_black\n",
    "# %load_ext lab_black"
   ]
  },
  {
   "cell_type": "code",
   "execution_count": 2,
   "metadata": {},
   "outputs": [],
   "source": [
    "df_distances = pd.read_csv(\n",
    "    \"/home/angelo/Documents/Uni/Courses/Management Science/MM_Code_repo/data/distances.csv\"\n",
    ")\n",
    "df_pairs = pd.read_csv(\n",
    "    \"/home/angelo/Documents/Uni/Courses/Management Science/MM_Code_repo/data/pairs.csv\"\n",
    ")"
   ]
  },
  {
   "cell_type": "markdown",
   "metadata": {},
   "source": [
    "#### Data Prep"
   ]
  },
  {
   "cell_type": "code",
   "execution_count": 3,
   "metadata": {},
   "outputs": [
    {
     "name": "stderr",
     "output_type": "stream",
     "text": [
      "/tmp/ipykernel_40402/3893934404.py:6: FutureWarning: The frame.append method is deprecated and will be removed from pandas in a future version. Use pandas.concat instead.\n",
      "  df_distances = df_distances.append(\n",
      "/tmp/ipykernel_40402/3893934404.py:6: FutureWarning: The frame.append method is deprecated and will be removed from pandas in a future version. Use pandas.concat instead.\n",
      "  df_distances = df_distances.append(\n",
      "/tmp/ipykernel_40402/3893934404.py:6: FutureWarning: The frame.append method is deprecated and will be removed from pandas in a future version. Use pandas.concat instead.\n",
      "  df_distances = df_distances.append(\n",
      "/tmp/ipykernel_40402/3893934404.py:6: FutureWarning: The frame.append method is deprecated and will be removed from pandas in a future version. Use pandas.concat instead.\n",
      "  df_distances = df_distances.append(\n",
      "/tmp/ipykernel_40402/3893934404.py:6: FutureWarning: The frame.append method is deprecated and will be removed from pandas in a future version. Use pandas.concat instead.\n",
      "  df_distances = df_distances.append(\n",
      "/tmp/ipykernel_40402/3893934404.py:6: FutureWarning: The frame.append method is deprecated and will be removed from pandas in a future version. Use pandas.concat instead.\n",
      "  df_distances = df_distances.append(\n",
      "/tmp/ipykernel_40402/3893934404.py:6: FutureWarning: The frame.append method is deprecated and will be removed from pandas in a future version. Use pandas.concat instead.\n",
      "  df_distances = df_distances.append(\n",
      "/tmp/ipykernel_40402/3893934404.py:6: FutureWarning: The frame.append method is deprecated and will be removed from pandas in a future version. Use pandas.concat instead.\n",
      "  df_distances = df_distances.append(\n",
      "/tmp/ipykernel_40402/3893934404.py:6: FutureWarning: The frame.append method is deprecated and will be removed from pandas in a future version. Use pandas.concat instead.\n",
      "  df_distances = df_distances.append(\n",
      "/tmp/ipykernel_40402/3893934404.py:6: FutureWarning: The frame.append method is deprecated and will be removed from pandas in a future version. Use pandas.concat instead.\n",
      "  df_distances = df_distances.append(\n",
      "/tmp/ipykernel_40402/3893934404.py:6: FutureWarning: The frame.append method is deprecated and will be removed from pandas in a future version. Use pandas.concat instead.\n",
      "  df_distances = df_distances.append(\n",
      "/tmp/ipykernel_40402/3893934404.py:6: FutureWarning: The frame.append method is deprecated and will be removed from pandas in a future version. Use pandas.concat instead.\n",
      "  df_distances = df_distances.append(\n",
      "/tmp/ipykernel_40402/3893934404.py:6: FutureWarning: The frame.append method is deprecated and will be removed from pandas in a future version. Use pandas.concat instead.\n",
      "  df_distances = df_distances.append(\n",
      "/tmp/ipykernel_40402/3893934404.py:6: FutureWarning: The frame.append method is deprecated and will be removed from pandas in a future version. Use pandas.concat instead.\n",
      "  df_distances = df_distances.append(\n",
      "/tmp/ipykernel_40402/3893934404.py:6: FutureWarning: The frame.append method is deprecated and will be removed from pandas in a future version. Use pandas.concat instead.\n",
      "  df_distances = df_distances.append(\n",
      "/tmp/ipykernel_40402/3893934404.py:6: FutureWarning: The frame.append method is deprecated and will be removed from pandas in a future version. Use pandas.concat instead.\n",
      "  df_distances = df_distances.append(\n",
      "/tmp/ipykernel_40402/3893934404.py:6: FutureWarning: The frame.append method is deprecated and will be removed from pandas in a future version. Use pandas.concat instead.\n",
      "  df_distances = df_distances.append(\n",
      "/tmp/ipykernel_40402/3893934404.py:6: FutureWarning: The frame.append method is deprecated and will be removed from pandas in a future version. Use pandas.concat instead.\n",
      "  df_distances = df_distances.append(\n"
     ]
    }
   ],
   "source": [
    "unique_c1 = list(df_distances.city1.unique())\n",
    "\n",
    "# possible combinations\n",
    "for c in unique_c1:\n",
    "    d1 = [c, c, 0]\n",
    "    df_distances = df_distances.append(\n",
    "        pd.Series(d1, index=[\"city1\", \"city2\", \"distance\"]), ignore_index=True\n",
    "    )"
   ]
  },
  {
   "cell_type": "code",
   "execution_count": 4,
   "metadata": {},
   "outputs": [],
   "source": [
    "df_pairs.loc[df_pairs.Dage == \"-\", \"Dage\"] = 99999999\n",
    "df_pairs.Dage = df_pairs.Dage.astype(int)\n",
    "df_pairs.loc[df_pairs.Rage == \"-\", \"Rage\"] = 99999999\n",
    "df_pairs.Rage = df_pairs.Rage.astype(int)\n",
    "\n",
    "df_pairs.loc[df_pairs.DBT == \"-\", \"DBT\"] = \"NaN\"\n",
    "df_pairs.DBT = df_pairs.DBT.astype(str)\n",
    "df_pairs.loc[df_pairs.RBT == \"-\", \"RBT\"] = \"NaN\"\n",
    "df_pairs.RBT = df_pairs.RBT.astype(str)"
   ]
  },
  {
   "cell_type": "code",
   "execution_count": 5,
   "metadata": {},
   "outputs": [],
   "source": [
    "# write the compatible bloodtypes\n",
    "bloodtypes: Dict[str, int] = {\n",
    "    # from A to everything\n",
    "    (\"A\", \"A\"): 1,\n",
    "    (\"A\", \"B\"): 0,\n",
    "    (\"A\", \"AB\"): 1,\n",
    "    (\"A\", \"O\"): 0,\n",
    "    # from b to everything\n",
    "    (\"B\", \"A\"): 0,\n",
    "    (\"B\", \"B\"): 1,\n",
    "    (\"B\", \"AB\"): 1,\n",
    "    (\"B\", \"O\"): 0,\n",
    "    # from AB to everything\n",
    "    (\"AB\", \"A\"): 0,\n",
    "    (\"AB\", \"B\"): 0,\n",
    "    (\"AB\", \"AB\"): 1,\n",
    "    (\"AB\", \"O\"): 0,\n",
    "    # from O to everything\n",
    "    (\"O\", \"A\"): 1,\n",
    "    (\"O\", \"B\"): 1,\n",
    "    (\"O\", \"AB\"): 1,\n",
    "    (\"O\", \"O\"): 1,\n",
    "    # missing blootypes\n",
    "    (\"NaN\", \"A\"): 0,\n",
    "    (\"NaN\", \"B\"): 0,\n",
    "    (\"NaN\", \"AB\"): 0,\n",
    "    (\"NaN\", \"O\"): 0,\n",
    "    (\"A\", \"NaN\"): 0,\n",
    "    (\"B\", \"NaN\"): 0,\n",
    "    (\"AB\", \"NaN\"): 0,\n",
    "    (\"O\", \"NaN\"): 0,\n",
    "}"
   ]
  },
  {
   "cell_type": "code",
   "execution_count": 6,
   "metadata": {},
   "outputs": [],
   "source": [
    "# change the order of the df to be more intuitive\n",
    "RBT = df_pairs.loc[:, \"RBT\"]\n",
    "DBT = df_pairs.loc[:, \"DBT\"]\n",
    "\n",
    "# drop column\n",
    "df_pairs.drop(columns=[\"RBT\", \"DBT\"], axis=1, inplace=True)\n",
    "\n",
    "# add them back\n",
    "df_pairs[\"DBT\"] = DBT\n",
    "df_pairs[\"RBT\"] = RBT"
   ]
  },
  {
   "cell_type": "code",
   "execution_count": 7,
   "metadata": {},
   "outputs": [],
   "source": [
    "for i, r in df_pairs.iterrows():\n",
    "    if (\n",
    "        (df_pairs.iloc[i].type == \"pair\")\n",
    "        & (\n",
    "            abs(df_pairs.iloc[i].Rage.astype(int) - df_pairs.iloc[i].Dage.astype(int))\n",
    "            <= 10\n",
    "        )\n",
    "        & (bloodtypes[(df_pairs.iloc[i].DBT, df_pairs.iloc[i].RBT)] == 1)\n",
    "    ) == True:\n",
    "        df_pairs.loc[i, \"C\"] = 1\n",
    "    else:\n",
    "        df_pairs.loc[i, \"C\"] = 0"
   ]
  },
  {
   "cell_type": "markdown",
   "metadata": {},
   "source": [
    "### create arcs"
   ]
  },
  {
   "cell_type": "code",
   "execution_count": 8,
   "metadata": {},
   "outputs": [],
   "source": [
    "def pos_city_sublist(location_):\n",
    "    \"\"\"_summary_\n",
    "\n",
    "    Args:\n",
    "        location_ (_type_): _description_\n",
    "\n",
    "    Returns:\n",
    "        _type_: _description_\n",
    "    \"\"\"\n",
    "    return list(\n",
    "        df_distances[\n",
    "            (df_distances.city1.astype(str) == location_)\n",
    "            & (df_distances.distance <= 300)\n",
    "        ].city2.values\n",
    "    )\n",
    "\n",
    "\n",
    "def blood_types_rbt(RBT_):\n",
    "    \"\"\"_summary_\n",
    "\n",
    "    Args:\n",
    "        RBT_ (_type_): _description_\n",
    "\n",
    "    Returns:\n",
    "        _type_: _description_\n",
    "    \"\"\"\n",
    "    valid_bloodtypes_receiver_tmp = []\n",
    "    for k, v in bloodtypes.items():\n",
    "        if (k[1] == RBT_) & (v == 1):\n",
    "            valid_bloodtypes_receiver_tmp.append(k[0])\n",
    "\n",
    "    return valid_bloodtypes_receiver_tmp\n",
    "\n",
    "\n",
    "def blood_types_dbt(DBT_):\n",
    "    \"\"\"_summary_\n",
    "\n",
    "    Args:\n",
    "        DBT_ (_type_): _description_\n",
    "\n",
    "    Returns:\n",
    "        _type_: _description_\n",
    "    \"\"\"\n",
    "    valid_bloodtypes_donor_tmp = []\n",
    "    for k, v in bloodtypes.items():\n",
    "        if (k[0] == DBT_) & (v == 1):\n",
    "            valid_bloodtypes_donor_tmp.append(k[1])\n",
    "\n",
    "    return valid_bloodtypes_donor_tmp"
   ]
  },
  {
   "cell_type": "code",
   "execution_count": 9,
   "metadata": {},
   "outputs": [],
   "source": [
    "arcs_: Dict[tuple, list] = {}\n",
    "\n",
    "for i, r in df_pairs.iterrows():\n",
    "    id_ = df_pairs.iloc[i].ID\n",
    "    type_ = df_pairs.iloc[i].type\n",
    "    Rage_ = df_pairs.iloc[i].Rage\n",
    "    Dage_ = df_pairs.iloc[i].Dage\n",
    "    location_ = df_pairs.iloc[i].Location\n",
    "    compatible_ = df_pairs.iloc[i].C\n",
    "    RBT_ = df_pairs.iloc[i].RBT\n",
    "    DBT_ = df_pairs.iloc[i].DBT\n",
    "\n",
    "    # pairs\n",
    "    if type_ == \"pair\":\n",
    "\n",
    "        # create a subset of cities that are valid\n",
    "        possible_cities1 = pos_city_sublist(location_)\n",
    "\n",
    "        # for receivers, create a donor vloodtype list that contains all the blood types that are compartible\n",
    "        valid_bloodtypes_receiver = blood_types_rbt(RBT_)\n",
    "\n",
    "        # same but inverted the donor blood types\n",
    "        valid_bloodtypes_donor = blood_types_dbt(DBT_)\n",
    "\n",
    "        arcs_[(\"pair_receiver\", id_)] = list(\n",
    "            df_pairs[\n",
    "                (df_pairs.Location.isin(possible_cities1))\n",
    "                & (abs(df_pairs.Dage - Rage_) <= 10)\n",
    "                & (df_pairs.DBT.isin(valid_bloodtypes_receiver))\n",
    "            ].ID.values\n",
    "        )\n",
    "\n",
    "        arcs_[(\"pair_donor\", id_)] = list(\n",
    "            df_pairs[\n",
    "                (df_pairs.Location.isin(possible_cities1))\n",
    "                & (abs(df_pairs.Rage - Dage_) <= 10)\n",
    "                & (df_pairs.RBT.isin(valid_bloodtypes_donor))\n",
    "            ].ID.values\n",
    "        )\n",
    "\n",
    "    elif type_ == \"receiver\":\n",
    "        # grap the city and only select those rows in \"city1\" where  the df_distances.city.astye(str) == location_\n",
    "        # create a subset of cities that are valid\n",
    "        possible_cities1 = pos_city_sublist(location_)\n",
    "\n",
    "        # for receivers, create a donor vloodtype list that contains all the blood types that are compartible\n",
    "        valid_bloodtypes_receiver = blood_types_rbt(RBT_)\n",
    "\n",
    "        arcs_[(\"receiver\", id_)] = list(\n",
    "            df_pairs[\n",
    "                (df_pairs.Location.isin(possible_cities1))\n",
    "                & (abs(df_pairs.Dage - Rage_) <= 10)\n",
    "                & (df_pairs.DBT.isin(valid_bloodtypes_receiver))\n",
    "            ].ID.values\n",
    "        )\n",
    "\n",
    "    elif type_ == \"donor\":\n",
    "        # grap the city and only select those rows in \"city1\" where  the df_distances.city.astye(str) == location_\n",
    "        # create a subset of cities that are valid\n",
    "        possible_cities1 = pos_city_sublist(location_)\n",
    "\n",
    "        # same but inverted the donor blood types\n",
    "        valid_bloodtypes_donor = blood_types_dbt(DBT_)\n",
    "\n",
    "        arcs_[(\"donor\", id_)] = list(\n",
    "            df_pairs[\n",
    "                (df_pairs.Location.isin(possible_cities1))\n",
    "                & (abs(df_pairs.Rage - Dage_) <= 10)\n",
    "                & (df_pairs.RBT.isin(valid_bloodtypes_donor))\n",
    "            ].ID.values\n",
    "        )\n",
    "\n",
    "    else:\n",
    "        print(\"warning\")\n",
    "        break"
   ]
  },
  {
   "cell_type": "code",
   "execution_count": 10,
   "metadata": {},
   "outputs": [],
   "source": [
    "arcs_l = []\n",
    "for k, v in arcs_.items():\n",
    "    for i in range(len(v)):\n",
    "        if k[0] in [\"donor\", \"pair_donor\"]:\n",
    "            arcs_l.append((k[1], v[i]))"
   ]
  },
  {
   "cell_type": "markdown",
   "metadata": {},
   "source": [
    "## Da model "
   ]
  },
  {
   "cell_type": "code",
   "execution_count": 11,
   "metadata": {},
   "outputs": [],
   "source": [
    "df_arcs = pd.DataFrame(arcs_l, columns =['donor', 'receiver']).reset_index()"
   ]
  },
  {
   "cell_type": "code",
   "execution_count": 12,
   "metadata": {},
   "outputs": [],
   "source": [
    "donors_unique = []\n",
    "receiver_unique = []\n",
    "for possib in arcs_l:\n",
    "    donors_unique.append(possib[0])\n",
    "    receiver_unique.append(possib[1])\n",
    "donors_unique = list(set(donors_unique))\n",
    "receiver_unique = list(set(receiver_unique))"
   ]
  },
  {
   "cell_type": "code",
   "execution_count": 14,
   "metadata": {},
   "outputs": [],
   "source": [
    "arc_donor = {}\n",
    "for arc_k, arc_v in arcs_.items():\n",
    "    if arc_k[1] in donors_unique:\n",
    "        arc_donor[arc_k[1]] = arc_v\n",
    "        \n",
    "arc_receiver = {}\n",
    "for arc_k, arc_v in arcs_.items():\n",
    "    if arc_k[1] in donors_unique:\n",
    "        arc_receiver[arc_k[1]] = arc_v"
   ]
  },
  {
   "cell_type": "code",
   "execution_count": 15,
   "metadata": {
    "scrolled": true
   },
   "outputs": [
    {
     "name": "stdout",
     "output_type": "stream",
     "text": [
      "Set parameter Username\n",
      "Academic license - for non-commercial use only - expires 2023-11-10\n",
      "Gurobi Optimizer version 10.0.0 build v10.0.0rc2 (linux64)\n",
      "\n",
      "CPU model: 11th Gen Intel(R) Core(TM) i7-1165G7 @ 2.80GHz, instruction set [SSE2|AVX|AVX2|AVX512]\n",
      "Thread count: 4 physical cores, 8 logical processors, using up to 8 threads\n",
      "\n",
      "Optimize a model with 369 rows, 896 columns and 2932 nonzeros\n",
      "Model fingerprint: 0x34755998\n",
      "Variable types: 0 continuous, 896 integer (896 binary)\n",
      "Coefficient statistics:\n",
      "  Matrix range     [1e+00, 1e+00]\n",
      "  Objective range  [1e+00, 1e+00]\n",
      "  Bounds range     [1e+00, 1e+00]\n",
      "  RHS range        [1e+00, 1e+00]\n",
      "Found heuristic solution: objective 45.0000000\n",
      "Presolve removed 192 rows and 251 columns\n",
      "Presolve time: 0.01s\n",
      "Presolved: 177 rows, 645 columns, 2057 nonzeros\n",
      "Found heuristic solution: objective 75.0000000\n",
      "Variable types: 0 continuous, 645 integer (645 binary)\n",
      "\n",
      "Root relaxation: objective 9.000000e+01, 167 iterations, 0.00 seconds (0.00 work units)\n",
      "\n",
      "    Nodes    |    Current Node    |     Objective Bounds      |     Work\n",
      " Expl Unexpl |  Obj  Depth IntInf | Incumbent    BestBd   Gap | It/Node Time\n",
      "\n",
      "*    0     0               0      90.0000000   90.00000  0.00%     -    0s\n",
      "\n",
      "Explored 1 nodes (167 simplex iterations) in 0.02 seconds (0.01 work units)\n",
      "Thread count was 8 (of 8 available processors)\n",
      "\n",
      "Solution count 3: 90 75 45 \n",
      "\n",
      "Optimal solution found (tolerance 1.00e-04)\n",
      "Best objective 9.000000000000e+01, best bound 9.000000000000e+01, gap 0.0000%\n",
      "Optimal value:  90.0\n",
      "\n",
      "    Variable            X \n",
      "-------------------------\n",
      "    x[4,187]            1 \n",
      "      x[8,8]            1 \n",
      "    x[10,35]            1 \n",
      "   x[14,164]            1 \n",
      "   x[19,182]            1 \n",
      "    x[20,93]            1 \n",
      "    x[29,29]            1 \n",
      "   x[30,133]            1 \n",
      "    x[31,20]            1 \n",
      "    x[32,32]            1 \n",
      "    x[33,10]            1 \n",
      "    x[34,34]            1 \n",
      "   x[35,102]            1 \n",
      "    x[36,60]            1 \n",
      "   x[40,180]            1 \n",
      "   x[41,194]            1 \n",
      "    x[42,82]            1 \n",
      "   x[45,118]            1 \n",
      "    x[46,94]            1 \n",
      "    x[54,40]            1 \n",
      "   x[55,151]            1 \n",
      "    x[58,58]            1 \n",
      "   x[60,108]            1 \n",
      "    x[61,89]            1 \n",
      "   x[63,158]            1 \n",
      "   x[64,190]            1 \n",
      "   x[67,115]            1 \n",
      "   x[68,113]            1 \n",
      "    x[73,73]            1 \n",
      "    x[81,84]            1 \n",
      "   x[82,148]            1 \n",
      "   x[84,197]            1 \n",
      "   x[85,110]            1 \n",
      "   x[87,146]            1 \n",
      "   x[89,196]            1 \n",
      "    x[91,23]            1 \n",
      "    x[92,85]            1 \n",
      "    x[93,98]            1 \n",
      "   x[94,159]            1 \n",
      "    x[95,99]            1 \n",
      "    x[97,11]            1 \n",
      "    x[98,90]            1 \n",
      "   x[99,152]            1 \n",
      "   x[102,33]            1 \n",
      "  x[103,167]            1 \n",
      "  x[104,145]            1 \n",
      "  x[105,161]            1 \n",
      "   x[108,81]            1 \n",
      "   x[110,19]            1 \n",
      "   x[111,46]            1 \n",
      "  x[113,199]            1 \n",
      "  x[114,114]            1 \n",
      "   x[115,30]            1 \n",
      "  x[116,116]            1 \n",
      "  x[117,117]            1 \n",
      "   x[119,54]            1 \n",
      "  x[120,120]            1 \n",
      "   x[121,92]            1 \n",
      "  x[122,122]            1 \n",
      "  x[123,119]            1 \n",
      "   x[131,47]            1 \n",
      "    x[133,4]            1 \n",
      "   x[136,91]            1 \n",
      "   x[138,79]            1 \n",
      "  x[143,123]            1 \n",
      "  x[144,144]            1 \n",
      "  x[145,103]            1 \n",
      "  x[147,170]            1 \n",
      "   x[148,42]            1 \n",
      "  x[152,112]            1 \n",
      "  x[153,128]            1 \n",
      "  x[155,191]            1 \n",
      "  x[157,157]            1 \n",
      "  x[159,104]            1 \n",
      "  x[161,171]            1 \n",
      "    x[164,9]            1 \n",
      "   x[167,49]            1 \n",
      "  x[169,169]            1 \n",
      "   x[171,87]            1 \n",
      "   x[172,97]            1 \n",
      "  x[175,121]            1 \n",
      "  x[176,176]            1 \n",
      "  x[180,143]            1 \n",
      "  x[186,111]            1 \n",
      "   x[191,45]            1 \n",
      "  x[193,138]            1 \n",
      "   x[194,70]            1 \n",
      "   x[196,65]            1 \n",
      "   x[197,38]            1 \n",
      "  x[199,147]            1 \n"
     ]
    }
   ],
   "source": [
    "### Solving the model ###\n",
    "# Initialize empty model and set model sense\n",
    "model = gp.Model()\n",
    "model.ModelSense = gp.GRB.MAXIMIZE\n",
    "\n",
    "# Define variables\n",
    "x=model.addVars(arcs_l, vtype=gp.GRB.BINARY, name=\"x\")\n",
    "\n",
    "# Set objective function\n",
    "model.setObjective(gp.quicksum(x[(i[0],i[1])] for i in arcs_l))\n",
    "\n",
    "# Add constraints\n",
    "# for each donor there can only be in total one transfer for all elegible receivers (only one transfer)\n",
    "for donor_or_pair_id in donors_unique:\n",
    "    lhs = 0\n",
    "    for pairing in arcs_l:\n",
    "        if pairing[0] == donor_or_pair_id:\n",
    "            lhs += x[pairing]\n",
    "    model.addConstr(lhs <= 1, name=\"supply_d\")\n",
    "\n",
    "# for each receiver there can only be in total one transfer for all elegible donor (only one transfer)\n",
    "for donor_or_pair_id in receiver_unique:\n",
    "    lhs = 0\n",
    "    for pairing in arcs_l:\n",
    "        if pairing[1] == donor_or_pair_id:\n",
    "            lhs += x[pairing]\n",
    "    model.addConstr(lhs <= 1, name=\"demand_r\")\n",
    "\n",
    "\n",
    "# for all pairs there can only be one receiver if there is one donor if they are used to be transfered to some extend\n",
    "model.addConstrs(((gp.quicksum(x[i,j] for j in list(df_arcs.loc[df_arcs[\"donor\"]==i].receiver))) == \n",
    "                 (gp.quicksum(x[j,i] for j in list(df_arcs.loc[df_arcs[\"receiver\"]==i].donor))) for i in list(df_pairs[df_pairs.type == \"pair\"].ID.values)),name=\"pair_dr\")\n",
    "\n",
    "# Optimize the model and print results    \n",
    "model.optimize()   \n",
    "print(\"Optimal value: \", model.objval)\n",
    "model.printAttr([\"X\"])"
   ]
  },
  {
   "cell_type": "code",
   "execution_count": 16,
   "metadata": {},
   "outputs": [],
   "source": [
    "x_ = x.copy()\n",
    "output_dict = {}\n",
    "for i_x, variable_o in zip(x, model.getVars()) :\n",
    "    output_dict[i_x] = variable_o.x\n",
    "\n",
    "output_dict_success = {}\n",
    "for k,v  in output_dict.items():\n",
    "    if v == 1:\n",
    "        output_dict_success[k] = v\n"
   ]
  },
  {
   "cell_type": "markdown",
   "metadata": {},
   "source": [
    "# B"
   ]
  },
  {
   "cell_type": "code",
   "execution_count": 17,
   "metadata": {},
   "outputs": [],
   "source": [
    "receiver_id = []\n",
    "for i in output_dict_success:\n",
    "    receiver_id.append(i[1])"
   ]
  },
  {
   "cell_type": "code",
   "execution_count": 18,
   "metadata": {},
   "outputs": [],
   "source": [
    "pair_id_final_received = []\n",
    "receiver_id_final_received = []\n",
    "for i in receiver_id:\n",
    "    if i in list(df_pairs[df_pairs.type == \"pair\"].ID.values):\n",
    "        pair_id_final_received.append(i)\n",
    "    else:\n",
    "        receiver_id_final_received.append(i)"
   ]
  },
  {
   "cell_type": "code",
   "execution_count": 19,
   "metadata": {},
   "outputs": [
    {
     "name": "stdout",
     "output_type": "stream",
     "text": [
      "receiver receiving 0.25\n",
      "pairs receiving 0.7291666666666666\n",
      "xxxxxxxxxxxxxxxxxxxxx\n",
      "below is incorrect!\n",
      "receiver receiving 0.2222222222222222\n",
      "pairs receiving 0.7777777777777778\n"
     ]
    }
   ],
   "source": [
    "print(\"receiver receiving\", len(receiver_id_final_received)/len(list(df_pairs[df_pairs.type == \"receiver\"].ID)))\n",
    "print(\"pairs receiving\", len(pair_id_final_received)/len(list(df_pairs[df_pairs.type == \"pair\"].ID)))\n",
    "\n",
    "\n",
    "# now to sum upt to 1\n",
    "print('xxxxxxxxxxxxxxxxxxxxx')\n",
    "print('below is incorrect!')\n",
    "print(\"receiver receiving\", len(receiver_id_final_received)/len(output_dict_success))\n",
    "print(\"pairs receiving\", len(pair_id_final_received)/len(output_dict_success))\n",
    "\n"
   ]
  },
  {
   "cell_type": "markdown",
   "metadata": {},
   "source": [
    "### C"
   ]
  },
  {
   "cell_type": "code",
   "execution_count": 20,
   "metadata": {},
   "outputs": [
    {
     "data": {
      "text/plain": [
       "0.8333333333333334"
      ]
     },
     "execution_count": 20,
     "metadata": {},
     "output_type": "execute_result"
    }
   ],
   "source": [
    "donor_dontated = []\n",
    "for i in output_dict_success:\n",
    "    if i[0] in list((df_pairs[df_pairs.type == \"donor\"]).ID.values):\n",
    "        donor_dontated.append(i)\n",
    "\n",
    "len(donor_dontated) / len(list((df_pairs[df_pairs.type == \"donor\"]).ID.values))"
   ]
  },
  {
   "cell_type": "markdown",
   "metadata": {},
   "source": [
    "### D"
   ]
  },
  {
   "cell_type": "code",
   "execution_count": 21,
   "metadata": {},
   "outputs": [
    {
     "data": {
      "text/plain": [
       "0.6"
      ]
     },
     "execution_count": 21,
     "metadata": {},
     "output_type": "execute_result"
    }
   ],
   "source": [
    "len(df_pairs[(df_pairs.ID.isin(pair_id_final_received))&(df_pairs.DBT!=df_pairs.RBT)].ID)/len(pair_id_final_received)"
   ]
  },
  {
   "cell_type": "code",
   "execution_count": 22,
   "metadata": {
    "scrolled": true
   },
   "outputs": [
    {
     "data": {
      "image/png": "[encoded data removed]",
      "text/plain": [
       "<Figure size 640x480 with 1 Axes>"
      ]
     },
     "metadata": {},
     "output_type": "display_data"
    }
   ],
   "source": [
    "import matplotlib.pyplot as plt\n",
    "import seaborn as sns\n",
    "\n",
    "sns.set_style('darkgrid')\n",
    "\n",
    "x = ['Pairs_different', 'Pairs_same']\n",
    "y = [len(df_pairs[(df_pairs.ID.isin(pair_id_final_received))&(df_pairs.DBT!=df_pairs.RBT)].ID)/len(pair_id_final_received),\n",
    "1 - len(df_pairs[(df_pairs.ID.isin(pair_id_final_received))&(df_pairs.DBT!=df_pairs.RBT)].ID)/len(pair_id_final_received)]\n",
    "\n",
    "plt.ylim(0, 1)\n",
    "sns.barplot(x = x, y = y)\n",
    "plt.show()"
   ]
  },
  {
   "cell_type": "code",
   "execution_count": 23,
   "metadata": {},
   "outputs": [],
   "source": [
    "paris_success_list = {}\n",
    "for i in output_dict_success:\n",
    "    if i[1] in (df_pairs[df_pairs[\"type\"] == \"pair\"].ID.values):      \n",
    "        paris_success_list[i] = (df_pairs[df_pairs.ID == i[0]].DBT.values[0] , df_pairs[df_pairs.ID == i[1]].RBT.values[0])\n",
    "       "
   ]
  },
  {
   "cell_type": "code",
   "execution_count": 24,
   "metadata": {},
   "outputs": [],
   "source": [
    "dict_count = {}\n",
    "for k, v in paris_success_list.items():\n",
    "    if v in dict_count.keys():\n",
    "        dict_count[v] += 1\n",
    "    elif v not in dict_count.keys():\n",
    "        dict_count[v] = 1        \n",
    "\n",
    "for k, v in bloodtypes.items():\n",
    "    if (v == 1) and (k not in list(dict_count.keys())):\n",
    "        dict_count[k] = 0  "
   ]
  },
  {
   "cell_type": "code",
   "execution_count": 25,
   "metadata": {},
   "outputs": [],
   "source": [
    "all_pairs_bt = {}\n",
    "for i, r in df_pairs[df_pairs.type == \"pair\"].iterrows():\n",
    "    if ((r.DBT, r.RBT) not in list(all_pairs_bt.keys())) and (r.DBT, r.RBT) in list(dict_count.keys()):\n",
    "        all_pairs_bt[(r.DBT, r.RBT)] = 1\n",
    "    elif ((r.DBT, r.RBT) in list(all_pairs_bt.keys()) and (r.DBT, r.RBT) in list(dict_count.keys())):\n",
    "        all_pairs_bt[(r.DBT, r.RBT)] += 1"
   ]
  },
  {
   "cell_type": "code",
   "execution_count": 26,
   "metadata": {},
   "outputs": [
    {
     "data": {
      "image/png": "[encoded data removed]",
      "text/plain": [
       "<Figure size 640x480 with 1 Axes>"
      ]
     },
     "metadata": {},
     "output_type": "display_data"
    }
   ],
   "source": [
    "import matplotlib.pyplot as plt\n",
    "import seaborn as sns\n",
    "\n",
    "sns.set_style('darkgrid')\n",
    "\n",
    "\n",
    "l = list(dict_count.keys())\n",
    "x = [str(x) for x in l]\n",
    "\n",
    "l = list(dict_count.values())\n",
    "y = [round((x / len(df_pairs[df_pairs.type  == \"pair\"].ID.values) * 100), 2) for x in l]\n",
    "\n",
    "df_bloodtypes_converted = pd.DataFrame(zip(x, y), columns = [\"Bloodtypes\", \"percentages\"])\n",
    "df_bloodtypes_converted.sort_values(by = \"percentages\", ascending = False, inplace = True)\n",
    "\n",
    "plt.xticks(rotation=90)\n",
    "plt.ylim(0,100)\n",
    "plt.title(\"Bloodtype pair percentages\")\n",
    "sns.set(rc={'figure.figsize':(15,15)})\n",
    "\n",
    "sns.barplot(data = df_bloodtypes_converted, x = \"Bloodtypes\", y = \"percentages\")\n",
    "plt.show()"
   ]
  },
  {
   "cell_type": "code",
   "execution_count": 27,
   "metadata": {},
   "outputs": [
    {
     "name": "stdout",
     "output_type": "stream",
     "text": [
      "bloodtype: ('O', 'A') percentage: 6.25 %\n",
      "bloodtype: ('O', 'B') percentage: 3.12 %\n",
      "bloodtype: ('O', 'O') percentage: 37.5 %\n",
      "bloodtype: ('B', 'B') percentage: 2.08 %\n",
      "bloodtype: ('A', 'A') percentage: 20.83 %\n",
      "bloodtype: ('AB', 'AB') percentage: 2.08 %\n",
      "bloodtype: ('A', 'AB') percentage: 1.04 %\n",
      "bloodtype: ('B', 'AB') percentage: 0.0 %\n",
      "bloodtype: ('O', 'AB') percentage: 0.0 %\n"
     ]
    }
   ],
   "source": [
    "for i, v in dict_count.items():\n",
    "    print(\"bloodtype:\", i, \"percentage:\", round(v/len(df_pairs[df_pairs.type  == \"pair\"].ID.values)*100, 2), \"%\")"
   ]
  },
  {
   "cell_type": "markdown",
   "metadata": {},
   "source": [
    "## E"
   ]
  },
  {
   "cell_type": "code",
   "execution_count": 28,
   "metadata": {},
   "outputs": [],
   "source": [
    "df_pairs_that_received_by_city = df_pairs[df_pairs.ID.isin(pair_id_final_received)].groupby(by =[\"Location\"]).agg({\"ID\":\"count\"})\n",
    "df_NOT_pairs_that_received_by_city = df_pairs[~(df_pairs.ID.isin(pair_id_final_received))].groupby(by =[\"Location\"]).agg({\"ID\":\"count\"})\n",
    "df_merged = pd.merge(left = df_pairs_that_received_by_city, right = df_NOT_pairs_that_received_by_city, left_index = True, right_index = True, how = \"inner\")\n",
    "\n",
    "df_merged['total_pairs'] = df_merged[\"ID_x\"] + df_merged[\"ID_y\"]\n",
    "df_merged['proportion'] = df_merged[\"ID_x\"] / df_merged[\"total_pairs\"]"
   ]
  },
  {
   "cell_type": "code",
   "execution_count": 29,
   "metadata": {},
   "outputs": [],
   "source": [
    "df_merged = pd.merge(left = df_pairs_that_received_by_city, right = df_NOT_pairs_that_received_by_city, left_index = True, right_index = True, how = \"inner\")\n",
    "\n",
    "df_merged['total_pairs'] = df_merged[\"ID_x\"] + df_merged[\"ID_y\"]\n",
    "df_merged['proportion'] = df_merged[\"ID_x\"] / df_merged[\"total_pairs\"]"
   ]
  },
  {
   "cell_type": "code",
   "execution_count": 30,
   "metadata": {},
   "outputs": [
    {
     "data": {
      "text/html": [
       "<div>\n",
       "<style scoped>\n",
       "    .dataframe tbody tr th:only-of-type {\n",
       "        vertical-align: middle;\n",
       "    }\n",
       "\n",
       "    .dataframe tbody tr th {\n",
       "        vertical-align: top;\n",
       "    }\n",
       "\n",
       "    .dataframe thead th {\n",
       "        text-align: right;\n",
       "    }\n",
       "</style>\n",
       "<table border=\"1\" class=\"dataframe\">\n",
       "  <thead>\n",
       "    <tr style=\"text-align: right;\">\n",
       "      <th></th>\n",
       "      <th>ID_x</th>\n",
       "      <th>ID_y</th>\n",
       "      <th>total_pairs</th>\n",
       "      <th>proportion</th>\n",
       "    </tr>\n",
       "    <tr>\n",
       "      <th>Location</th>\n",
       "      <th></th>\n",
       "      <th></th>\n",
       "      <th></th>\n",
       "      <th></th>\n",
       "    </tr>\n",
       "  </thead>\n",
       "  <tbody>\n",
       "    <tr>\n",
       "      <th>Amsterdam</th>\n",
       "      <td>4</td>\n",
       "      <td>10</td>\n",
       "      <td>14</td>\n",
       "      <td>0.285714</td>\n",
       "    </tr>\n",
       "    <tr>\n",
       "      <th>Copenhagen</th>\n",
       "      <td>4</td>\n",
       "      <td>5</td>\n",
       "      <td>9</td>\n",
       "      <td>0.444444</td>\n",
       "    </tr>\n",
       "    <tr>\n",
       "      <th>Dublin</th>\n",
       "      <td>3</td>\n",
       "      <td>5</td>\n",
       "      <td>8</td>\n",
       "      <td>0.375000</td>\n",
       "    </tr>\n",
       "    <tr>\n",
       "      <th>Düsseldorf</th>\n",
       "      <td>6</td>\n",
       "      <td>6</td>\n",
       "      <td>12</td>\n",
       "      <td>0.500000</td>\n",
       "    </tr>\n",
       "    <tr>\n",
       "      <th>Frankfurt</th>\n",
       "      <td>6</td>\n",
       "      <td>7</td>\n",
       "      <td>13</td>\n",
       "      <td>0.461538</td>\n",
       "    </tr>\n",
       "    <tr>\n",
       "      <th>Istanbul</th>\n",
       "      <td>8</td>\n",
       "      <td>9</td>\n",
       "      <td>17</td>\n",
       "      <td>0.470588</td>\n",
       "    </tr>\n",
       "    <tr>\n",
       "      <th>Lisbon</th>\n",
       "      <td>5</td>\n",
       "      <td>9</td>\n",
       "      <td>14</td>\n",
       "      <td>0.357143</td>\n",
       "    </tr>\n",
       "    <tr>\n",
       "      <th>London</th>\n",
       "      <td>5</td>\n",
       "      <td>7</td>\n",
       "      <td>12</td>\n",
       "      <td>0.416667</td>\n",
       "    </tr>\n",
       "    <tr>\n",
       "      <th>Madrid</th>\n",
       "      <td>1</td>\n",
       "      <td>9</td>\n",
       "      <td>10</td>\n",
       "      <td>0.100000</td>\n",
       "    </tr>\n",
       "    <tr>\n",
       "      <th>Manchester</th>\n",
       "      <td>6</td>\n",
       "      <td>2</td>\n",
       "      <td>8</td>\n",
       "      <td>0.750000</td>\n",
       "    </tr>\n",
       "    <tr>\n",
       "      <th>Milan</th>\n",
       "      <td>3</td>\n",
       "      <td>8</td>\n",
       "      <td>11</td>\n",
       "      <td>0.272727</td>\n",
       "    </tr>\n",
       "    <tr>\n",
       "      <th>Moscow</th>\n",
       "      <td>5</td>\n",
       "      <td>11</td>\n",
       "      <td>16</td>\n",
       "      <td>0.312500</td>\n",
       "    </tr>\n",
       "    <tr>\n",
       "      <th>Oslo</th>\n",
       "      <td>3</td>\n",
       "      <td>5</td>\n",
       "      <td>8</td>\n",
       "      <td>0.375000</td>\n",
       "    </tr>\n",
       "    <tr>\n",
       "      <th>Palma de Mallorca</th>\n",
       "      <td>2</td>\n",
       "      <td>8</td>\n",
       "      <td>10</td>\n",
       "      <td>0.200000</td>\n",
       "    </tr>\n",
       "    <tr>\n",
       "      <th>Paris</th>\n",
       "      <td>1</td>\n",
       "      <td>8</td>\n",
       "      <td>9</td>\n",
       "      <td>0.111111</td>\n",
       "    </tr>\n",
       "    <tr>\n",
       "      <th>Rome</th>\n",
       "      <td>2</td>\n",
       "      <td>8</td>\n",
       "      <td>10</td>\n",
       "      <td>0.200000</td>\n",
       "    </tr>\n",
       "    <tr>\n",
       "      <th>Vienna</th>\n",
       "      <td>2</td>\n",
       "      <td>11</td>\n",
       "      <td>13</td>\n",
       "      <td>0.153846</td>\n",
       "    </tr>\n",
       "    <tr>\n",
       "      <th>Zürich</th>\n",
       "      <td>4</td>\n",
       "      <td>2</td>\n",
       "      <td>6</td>\n",
       "      <td>0.666667</td>\n",
       "    </tr>\n",
       "  </tbody>\n",
       "</table>\n",
       "</div>"
      ],
      "text/plain": [
       "                   ID_x  ID_y  total_pairs  proportion\n",
       "Location                                              \n",
       "Amsterdam             4    10           14    0.285714\n",
       "Copenhagen            4     5            9    0.444444\n",
       "Dublin                3     5            8    0.375000\n",
       "Düsseldorf            6     6           12    0.500000\n",
       "Frankfurt             6     7           13    0.461538\n",
       "Istanbul              8     9           17    0.470588\n",
       "Lisbon                5     9           14    0.357143\n",
       "London                5     7           12    0.416667\n",
       "Madrid                1     9           10    0.100000\n",
       "Manchester            6     2            8    0.750000\n",
       "Milan                 3     8           11    0.272727\n",
       "Moscow                5    11           16    0.312500\n",
       "Oslo                  3     5            8    0.375000\n",
       "Palma de Mallorca     2     8           10    0.200000\n",
       "Paris                 1     8            9    0.111111\n",
       "Rome                  2     8           10    0.200000\n",
       "Vienna                2    11           13    0.153846\n",
       "Zürich                4     2            6    0.666667"
      ]
     },
     "execution_count": 30,
     "metadata": {},
     "output_type": "execute_result"
    }
   ],
   "source": [
    "df_merged"
   ]
  },
  {
   "cell_type": "code",
   "execution_count": 31,
   "metadata": {},
   "outputs": [
    {
     "data": {
      "image/png": "[encoded data removed]",
      "text/plain": [
       "<Figure size 1500x1500 with 1 Axes>"
      ]
     },
     "metadata": {},
     "output_type": "display_data"
    }
   ],
   "source": [
    "import matplotlib.pyplot as plt\n",
    "import seaborn as sns\n",
    "\n",
    "sns.set_style('darkgrid')\n",
    "\n",
    "x = list(df_merged.index)\n",
    "y = list(df_merged.proportion)\n",
    "\n",
    "plt.xticks(rotation=90)\n",
    "plt.ylim(0, 1)\n",
    "sns.barplot(x = x, y = y)\n",
    "plt.show()"
   ]
  },
  {
   "cell_type": "code",
   "execution_count": 32,
   "metadata": {},
   "outputs": [
    {
     "data": {
      "text/plain": [
       "Location\n",
       "Amsterdam            0.285714\n",
       "Copenhagen           0.444444\n",
       "Dublin               0.375000\n",
       "Düsseldorf           0.500000\n",
       "Frankfurt            0.461538\n",
       "Istanbul             0.470588\n",
       "Lisbon               0.357143\n",
       "London               0.416667\n",
       "Madrid               0.100000\n",
       "Manchester           0.750000\n",
       "Milan                0.272727\n",
       "Moscow               0.312500\n",
       "Oslo                 0.375000\n",
       "Palma de Mallorca    0.200000\n",
       "Paris                0.111111\n",
       "Rome                 0.200000\n",
       "Vienna               0.153846\n",
       "Zürich               0.666667\n",
       "Name: proportion, dtype: float64"
      ]
     },
     "execution_count": 32,
     "metadata": {},
     "output_type": "execute_result"
    }
   ],
   "source": [
    "df_merged.proportion"
   ]
  },
  {
   "cell_type": "markdown",
   "metadata": {},
   "source": [
    "## Partt 2\n"
   ]
  },
  {
   "cell_type": "code",
   "execution_count": 33,
   "metadata": {},
   "outputs": [],
   "source": [
    "# activeArcs is the list with 94!!! just from the output \n",
    "def computePaths(arcs):\n",
    "    paths = [[arc] for arc in arcs]\n",
    "    join = True\n",
    "    while(join):\n",
    "        join=False\n",
    "        for i,p1 in enumerate(paths):\n",
    "            if join==True:\n",
    "                break\n",
    "            for j, p2 in enumerate(paths):\n",
    "                if i<j:\n",
    "                    if p1[-1][1] == p2[0][0]:\n",
    "                        p2=paths.pop(j)\n",
    "                        paths[i]=paths[i]+p2\n",
    "                        join=True\n",
    "                    elif p1[0][0]==p2[-1][1]:\n",
    "                        p2=paths.pop(j)\n",
    "                        paths[i]=p2+paths[i]\n",
    "                        join=True\n",
    "    return paths\n",
    "\n",
    "activearcs = list(output_dict_success.keys())   \n",
    "chains = computePaths(activearcs)"
   ]
  },
  {
   "cell_type": "markdown",
   "metadata": {},
   "source": [
    "### Part 2 Q1"
   ]
  },
  {
   "cell_type": "code",
   "execution_count": 34,
   "metadata": {},
   "outputs": [
    {
     "name": "stdout",
     "output_type": "stream",
     "text": [
      "A chain of length: 9\n"
     ]
    },
    {
     "data": {
      "text/plain": [
       "[(186, 111),\n",
       " (111, 46),\n",
       " (46, 94),\n",
       " (94, 159),\n",
       " (159, 104),\n",
       " (104, 145),\n",
       " (145, 103),\n",
       " (103, 167),\n",
       " (167, 49)]"
      ]
     },
     "execution_count": 34,
     "metadata": {},
     "output_type": "execute_result"
    }
   ],
   "source": [
    "#define the function#\n",
    "def find_max_list(list):\n",
    "    list_len = [len(i) for i in list]\n",
    "    return (max(list_len))\n",
    "\n",
    "\n",
    "#print output#\n",
    "print(\"A chain of length:\" , find_max_list(computePaths(activearcs)))\n",
    "\n",
    "max(computePaths(activearcs), key=len)\n"
   ]
  },
  {
   "cell_type": "markdown",
   "metadata": {},
   "source": [
    "## Part 2 Q2"
   ]
  },
  {
   "cell_type": "code",
   "execution_count": 52,
   "metadata": {},
   "outputs": [],
   "source": [
    "def subpath_chains_compute(input):  \n",
    "    long_chains = []\n",
    "    for i in input:\n",
    "        if len(i) > max_length_chain:\n",
    "            long_chains.append(i)\n",
    "\n",
    "    sub_paths = []\n",
    "    for c in long_chains:\n",
    "        for i in range(len(c)-max_length_chain):\n",
    "            sub_paths.append(c[i:i+4])\n",
    "            \n",
    "    return (sub_paths, long_chains)"
   ]
  },
  {
   "cell_type": "code",
   "execution_count": 53,
   "metadata": {},
   "outputs": [],
   "source": [
    "# spec max length chain\n",
    "max_length_chain = 3\n",
    "\n",
    "model = gp.Model()\n",
    "model.ModelSense = gp.GRB.MAXIMIZE\n",
    "\n",
    "# Define variables\n",
    "x=model.addVars(donors_unique,receiver_unique, vtype=gp.GRB.BINARY, name=\"x\")\n",
    "\n",
    "# Set objective function\n",
    "model.setObjective(gp.quicksum(x[(i[0],i[1])] for i in arcs_l))\n",
    "\n",
    "# Add constraints\n",
    "# for each donor there can only be in total one transfer for all elegible receivers (only one transfer)\n",
    "for donor_or_pair_id in donors_unique:\n",
    "    lhs = 0\n",
    "    for pairing in arcs_l:\n",
    "        if pairing[0] == donor_or_pair_id:\n",
    "            lhs += x[pairing]\n",
    "    model.addConstr(lhs <= 1, name=\"supply_d\")\n",
    "\n",
    "# for each receiver there can only be in total one transfer for all elegible donor (only one transfer)\n",
    "for donor_or_pair_id in receiver_unique:\n",
    "    lhs = 0\n",
    "    for pairing in arcs_l:\n",
    "        if pairing[1] == donor_or_pair_id:\n",
    "            lhs += x[pairing]\n",
    "    model.addConstr(lhs <= 1, name=\"demand_r\")\n",
    "\n",
    "\n",
    "# for all pairs there can only be one receiver if there is one donor if they are used to be transfered to some extend\n",
    "model.addConstrs(((gp.quicksum(x[i,j] for j in list(df_arcs.loc[df_arcs[\"donor\"]==i].receiver))) <= \n",
    "                 (gp.quicksum(x[j,i] for j in list(df_arcs.loc[df_arcs[\"receiver\"]==i].donor))) for i in list(df_pairs[df_pairs.type == \"pair\"].ID.values)),name=\"pair_dr\")\n",
    "\n",
    "# while loop though chain until no further improvement is possible\n",
    "while True:   \n",
    "    \"\"\"\n",
    "    This is code from the 4th/5th weeks tutorial \n",
    "    \"\"\"\n",
    "    model.Params.LogToConsole = 0\n",
    "    \n",
    "    model.optimize()\n",
    "\n",
    "    s_chains = subpath_chains_compute(computePaths([key for key, value in x.items() if value.X == 1]))\n",
    "\n",
    "    # based on each subchain make sure that all comply with max_length_chain\n",
    "    for subchain in s_chains[0]:\n",
    "        model.addConstr(gp.quicksum(x[i] for i in subchain) <= max_length_chain)\n",
    "    \n",
    "    if len(s_chains[1]) == 0:\n",
    "        break\n"
   ]
  },
  {
   "cell_type": "code",
   "execution_count": null,
   "metadata": {},
   "outputs": [],
   "source": [
    "model.Params.LogToConsole = 1"
   ]
  },
  {
   "cell_type": "code",
   "execution_count": 54,
   "metadata": {},
   "outputs": [
    {
     "name": "stdout",
     "output_type": "stream",
     "text": [
      "Set parameter LogToConsole to value 1\n",
      "\n",
      "    Variable            X \n",
      "-------------------------\n",
      "    x[4,101]            1 \n",
      "      x[8,8]            1 \n",
      "   x[10,185]            1 \n",
      "   x[13,134]            1 \n",
      "   x[14,164]            1 \n",
      "     x[19,2]            1 \n",
      "     x[20,4]            1 \n",
      "    x[29,29]            1 \n",
      "   x[30,133]            1 \n",
      "    x[31,20]            1 \n",
      "    x[32,32]            1 \n",
      "    x[33,53]            1 \n",
      "   x[34,150]            1 \n",
      "   x[35,102]            1 \n",
      "    x[36,60]            1 \n",
      "   x[40,180]            1 \n",
      "   x[41,194]            1 \n",
      "    x[42,82]            1 \n",
      "   x[45,118]            1 \n",
      "   x[46,167]            1 \n",
      "    x[54,40]            1 \n",
      "   x[55,184]            1 \n",
      "    x[58,58]            1 \n",
      "   x[60,162]            1 \n",
      "    x[61,89]            1 \n",
      "   x[63,159]            1 \n",
      "    x[64,84]            1 \n",
      "   x[67,115]            1 \n",
      "    x[68,34]            1 \n",
      "    x[73,73]            1 \n",
      "   x[82,148]            1 \n",
      "   x[84,111]            1 \n",
      "   x[85,110]            1 \n",
      "   x[87,161]            1 \n",
      "    x[89,50]            1 \n",
      "    x[91,23]            1 \n",
      "   x[93,103]            1 \n",
      "    x[94,30]            1 \n",
      "    x[95,99]            1 \n",
      "    x[98,90]            1 \n",
      "   x[99,152]            1 \n",
      "   x[102,35]            1 \n",
      "   x[103,93]            1 \n",
      "  x[104,104]            1 \n",
      "  x[105,197]            1 \n",
      "  x[108,108]            1 \n",
      "   x[110,85]            1 \n",
      "  x[111,190]            1 \n",
      "  x[113,147]            1 \n",
      "  x[114,114]            1 \n",
      "  x[115,129]            1 \n",
      "  x[116,116]            1 \n",
      "  x[117,117]            1 \n",
      "  x[119,143]            1 \n",
      "  x[120,120]            1 \n",
      "  x[121,132]            1 \n",
      "  x[122,122]            1 \n",
      "  x[123,119]            1 \n",
      "   x[131,46]            1 \n",
      "  x[132,121]            1 \n",
      "   x[133,94]            1 \n",
      "  x[134,142]            1 \n",
      "   x[136,91]            1 \n",
      "   x[138,79]            1 \n",
      "   x[142,57]            1 \n",
      "  x[143,123]            1 \n",
      "  x[144,144]            1 \n",
      "  x[145,145]            1 \n",
      "  x[147,113]            1 \n",
      "   x[148,42]            1 \n",
      "  x[150,195]            1 \n",
      "  x[152,112]            1 \n",
      "  x[153,128]            1 \n",
      "  x[155,191]            1 \n",
      "  x[157,157]            1 \n",
      "   x[159,98]            1 \n",
      "  x[161,171]            1 \n",
      "  x[162,151]            1 \n",
      "    x[164,9]            1 \n",
      "   x[167,49]            1 \n",
      "  x[169,169]            1 \n",
      "   x[171,87]            1 \n",
      "   x[172,33]            1 \n",
      "   x[175,19]            1 \n",
      "  x[176,176]            1 \n",
      "   x[180,54]            1 \n",
      "   x[185,10]            1 \n",
      "  x[186,109]            1 \n",
      "   x[191,45]            1 \n",
      "  x[193,138]            1 \n",
      "  x[194,177]            1 \n",
      "  x[196,196]            1 \n",
      "   x[197,38]            1 \n",
      "  x[199,199]            1 \n",
      "94.0\n"
     ]
    }
   ],
   "source": [
    "model.Params.LogToConsole = 1\n",
    "model.printAttr('X')\n",
    "print(model.ObjVal)"
   ]
  },
  {
   "cell_type": "markdown",
   "metadata": {},
   "source": [
    "## Part 2 Q3"
   ]
  },
  {
   "cell_type": "code",
   "execution_count": null,
   "metadata": {},
   "outputs": [],
   "source": [
    "model.printAttr('NumConstrs')"
   ]
  }
 ],
 "metadata": {
  "kernelspec": {
   "display_name": "Python 3 (ipykernel)",
   "language": "python",
   "name": "python3"
  },
  "language_info": {
   "codemirror_mode": {
    "name": "ipython",
    "version": 3
   },
   "file_extension": ".py",
   "mimetype": "text/x-python",
   "name": "python",
   "nbconvert_exporter": "python",
   "pygments_lexer": "ipython3",
   "version": "3.9.12"
  },
  "vscode": {
   "interpreter": {
    "hash": "e7370f93d1d0cde622a1f8e1c04877d8463912d04d973331ad4851f04de6915a"
   }
  }
 },
 "nbformat": 4,
 "nbformat_minor": 2
}
