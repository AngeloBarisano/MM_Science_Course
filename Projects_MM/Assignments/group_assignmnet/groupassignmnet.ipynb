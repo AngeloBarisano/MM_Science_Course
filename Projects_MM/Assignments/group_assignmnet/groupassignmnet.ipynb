{
 "cells": [
  {
   "cell_type": "code",
   "execution_count": 2,
   "metadata": {},
   "outputs": [
    {
     "name": "stdout",
     "output_type": "stream",
     "text": [
      "The lab_black extension is already loaded. To reload it, use:\n",
      "  %reload_ext lab_black\n"
     ]
    }
   ],
   "source": [
    "from gurobipy import *\n",
    "import gurobipy as gp\n",
    "\n",
    "# type declaration\n",
    "from typing import Dict, List\n",
    "\n",
    "\n",
    "import pandas as pd\n",
    "import numpy as np\n",
    "\n",
    "# %load_ext nb_black\n",
    "%load_ext lab_black"
   ]
  },
  {
   "cell_type": "code",
   "execution_count": 3,
   "metadata": {},
   "outputs": [],
   "source": [
    "df_distances = pd.read_csv(\n",
    "    \"/home/angelo/Documents/Uni/Courses/Management Science/MM_Code_repo/data/distances.csv\"\n",
    ")\n",
    "df_pairs = pd.read_csv(\n",
    "    \"/home/angelo/Documents/Uni/Courses/Management Science/MM_Code_repo/data/pairs.csv\"\n",
    ")"
   ]
  },
  {
   "cell_type": "markdown",
   "metadata": {},
   "source": [
    "#### Data Prep"
   ]
  },
  {
   "cell_type": "code",
   "execution_count": 4,
   "metadata": {},
   "outputs": [
    {
     "name": "stderr",
     "output_type": "stream",
     "text": [
      "/tmp/ipykernel_21160/3893934404.py:6: FutureWarning: The frame.append method is deprecated and will be removed from pandas in a future version. Use pandas.concat instead.\n",
      "  df_distances = df_distances.append(\n",
      "/tmp/ipykernel_21160/3893934404.py:6: FutureWarning: The frame.append method is deprecated and will be removed from pandas in a future version. Use pandas.concat instead.\n",
      "  df_distances = df_distances.append(\n",
      "/tmp/ipykernel_21160/3893934404.py:6: FutureWarning: The frame.append method is deprecated and will be removed from pandas in a future version. Use pandas.concat instead.\n",
      "  df_distances = df_distances.append(\n",
      "/tmp/ipykernel_21160/3893934404.py:6: FutureWarning: The frame.append method is deprecated and will be removed from pandas in a future version. Use pandas.concat instead.\n",
      "  df_distances = df_distances.append(\n",
      "/tmp/ipykernel_21160/3893934404.py:6: FutureWarning: The frame.append method is deprecated and will be removed from pandas in a future version. Use pandas.concat instead.\n",
      "  df_distances = df_distances.append(\n",
      "/tmp/ipykernel_21160/3893934404.py:6: FutureWarning: The frame.append method is deprecated and will be removed from pandas in a future version. Use pandas.concat instead.\n",
      "  df_distances = df_distances.append(\n",
      "/tmp/ipykernel_21160/3893934404.py:6: FutureWarning: The frame.append method is deprecated and will be removed from pandas in a future version. Use pandas.concat instead.\n",
      "  df_distances = df_distances.append(\n",
      "/tmp/ipykernel_21160/3893934404.py:6: FutureWarning: The frame.append method is deprecated and will be removed from pandas in a future version. Use pandas.concat instead.\n",
      "  df_distances = df_distances.append(\n",
      "/tmp/ipykernel_21160/3893934404.py:6: FutureWarning: The frame.append method is deprecated and will be removed from pandas in a future version. Use pandas.concat instead.\n",
      "  df_distances = df_distances.append(\n",
      "/tmp/ipykernel_21160/3893934404.py:6: FutureWarning: The frame.append method is deprecated and will be removed from pandas in a future version. Use pandas.concat instead.\n",
      "  df_distances = df_distances.append(\n",
      "/tmp/ipykernel_21160/3893934404.py:6: FutureWarning: The frame.append method is deprecated and will be removed from pandas in a future version. Use pandas.concat instead.\n",
      "  df_distances = df_distances.append(\n",
      "/tmp/ipykernel_21160/3893934404.py:6: FutureWarning: The frame.append method is deprecated and will be removed from pandas in a future version. Use pandas.concat instead.\n",
      "  df_distances = df_distances.append(\n",
      "/tmp/ipykernel_21160/3893934404.py:6: FutureWarning: The frame.append method is deprecated and will be removed from pandas in a future version. Use pandas.concat instead.\n",
      "  df_distances = df_distances.append(\n",
      "/tmp/ipykernel_21160/3893934404.py:6: FutureWarning: The frame.append method is deprecated and will be removed from pandas in a future version. Use pandas.concat instead.\n",
      "  df_distances = df_distances.append(\n",
      "/tmp/ipykernel_21160/3893934404.py:6: FutureWarning: The frame.append method is deprecated and will be removed from pandas in a future version. Use pandas.concat instead.\n",
      "  df_distances = df_distances.append(\n",
      "/tmp/ipykernel_21160/3893934404.py:6: FutureWarning: The frame.append method is deprecated and will be removed from pandas in a future version. Use pandas.concat instead.\n",
      "  df_distances = df_distances.append(\n",
      "/tmp/ipykernel_21160/3893934404.py:6: FutureWarning: The frame.append method is deprecated and will be removed from pandas in a future version. Use pandas.concat instead.\n",
      "  df_distances = df_distances.append(\n",
      "/tmp/ipykernel_21160/3893934404.py:6: FutureWarning: The frame.append method is deprecated and will be removed from pandas in a future version. Use pandas.concat instead.\n",
      "  df_distances = df_distances.append(\n"
     ]
    }
   ],
   "source": [
    "unique_c1 = list(df_distances.city1.unique())\n",
    "\n",
    "# possible combinations\n",
    "for c in unique_c1:\n",
    "    d1 = [c, c, 0]\n",
    "    df_distances = df_distances.append(\n",
    "        pd.Series(d1, index=[\"city1\", \"city2\", \"distance\"]), ignore_index=True\n",
    "    )"
   ]
  },
  {
   "cell_type": "code",
   "execution_count": 5,
   "metadata": {},
   "outputs": [],
   "source": [
    "df_pairs.loc[df_pairs.Dage == \"-\", \"Dage\"] = 99999999\n",
    "df_pairs.Dage = df_pairs.Dage.astype(int)\n",
    "df_pairs.loc[df_pairs.Rage == \"-\", \"Rage\"] = 99999999\n",
    "df_pairs.Rage = df_pairs.Rage.astype(int)\n",
    "\n",
    "df_pairs.loc[df_pairs.DBT == \"-\", \"DBT\"] = \"NaN\"\n",
    "df_pairs.DBT = df_pairs.DBT.astype(str)\n",
    "df_pairs.loc[df_pairs.RBT == \"-\", \"RBT\"] = \"NaN\"\n",
    "df_pairs.RBT = df_pairs.RBT.astype(str)"
   ]
  },
  {
   "cell_type": "code",
   "execution_count": 6,
   "metadata": {},
   "outputs": [],
   "source": [
    "# write the compatible bloodtypes\n",
    "bloodtypes: Dict[str, int] = {\n",
    "    # from A to everything\n",
    "    (\"A\", \"A\"): 1,\n",
    "    (\"A\", \"B\"): 0,\n",
    "    (\"A\", \"AB\"): 1,\n",
    "    (\"A\", \"O\"): 0,\n",
    "    # from b to everything\n",
    "    (\"B\", \"A\"): 0,\n",
    "    (\"B\", \"B\"): 1,\n",
    "    (\"B\", \"AB\"): 1,\n",
    "    (\"B\", \"O\"): 0,\n",
    "    # from AB to everything\n",
    "    (\"AB\", \"A\"): 0,\n",
    "    (\"AB\", \"B\"): 0,\n",
    "    (\"AB\", \"AB\"): 1,\n",
    "    (\"AB\", \"O\"): 0,\n",
    "    # from O to everything\n",
    "    (\"O\", \"A\"): 1,\n",
    "    (\"O\", \"B\"): 1,\n",
    "    (\"O\", \"AB\"): 1,\n",
    "    (\"O\", \"O\"): 1,\n",
    "    # missing blootypes\n",
    "    (\"NaN\", \"A\"): 0,\n",
    "    (\"NaN\", \"B\"): 0,\n",
    "    (\"NaN\", \"AB\"): 0,\n",
    "    (\"NaN\", \"O\"): 0,\n",
    "    (\"A\", \"NaN\"): 0,\n",
    "    (\"B\", \"NaN\"): 0,\n",
    "    (\"AB\", \"NaN\"): 0,\n",
    "    (\"O\", \"NaN\"): 0,\n",
    "}\n"
   ]
  },
  {
   "cell_type": "code",
   "execution_count": 7,
   "metadata": {},
   "outputs": [],
   "source": [
    "# change the order of the df to be more intuitive\n",
    "RBT = df_pairs.loc[:, \"RBT\"]\n",
    "DBT = df_pairs.loc[:, \"DBT\"]\n",
    "\n",
    "# drop column\n",
    "df_pairs.drop(columns=[\"RBT\", \"DBT\"], axis=1, inplace=True)\n",
    "\n",
    "# add them back\n",
    "df_pairs[\"DBT\"] = DBT\n",
    "df_pairs[\"RBT\"] = RBT"
   ]
  },
  {
   "cell_type": "code",
   "execution_count": 8,
   "metadata": {},
   "outputs": [],
   "source": [
    "df_pairs[\"C\"] = np.nan"
   ]
  },
  {
   "cell_type": "code",
   "execution_count": 9,
   "metadata": {},
   "outputs": [],
   "source": [
    "for i, r in df_pairs.iterrows():\n",
    "    if (\n",
    "        (df_pairs.iloc[i].type == \"pair\")\n",
    "        & (\n",
    "            abs(df_pairs.iloc[i].Rage.astype(int) - df_pairs.iloc[i].Dage.astype(int))\n",
    "            <= 10\n",
    "        )\n",
    "        & (bloodtypes[(df_pairs.iloc[i].DBT, df_pairs.iloc[i].RBT)] == 1)\n",
    "    ) == True:\n",
    "        df_pairs.loc[i, \"C\"] = 1\n",
    "    else:\n",
    "        df_pairs.loc[i, \"C\"] = 0"
   ]
  },
  {
   "cell_type": "markdown",
   "metadata": {},
   "source": [
    "### create arcs"
   ]
  },
  {
   "cell_type": "code",
   "execution_count": null,
   "metadata": {},
   "outputs": [],
   "source": [
    "def pos_city_sublist(location_):\n",
    "    \"\"\"_summary_\n",
    "\n",
    "    Args:\n",
    "        location_ (_type_): _description_\n",
    "\n",
    "    Returns:\n",
    "        _type_: _description_\n",
    "    \"\"\"\n",
    "    return list(df_distances[(df_distances.city1.astype(str) == location_)& (df_distances.distance <= 300)].city2.values)\n",
    "\n",
    "\n",
    "\n",
    "def blood_types_rbt(RBT_):\n",
    "    \"\"\"_summary_\n",
    "\n",
    "    Args:\n",
    "        RBT_ (_type_): _description_\n",
    "\n",
    "    Returns:\n",
    "        _type_: _description_\n",
    "    \"\"\"\n",
    "    valid_bloodtypes_receiver_tmp = []\n",
    "    for k, v in bloodtypes.items():\n",
    "        if (k[1] == RBT_) & (v == 1):\n",
    "            valid_bloodtypes_receiver_tmp.append(k[0])\n",
    "            \n",
    "    return valid_bloodtypes_receiver_tmp"
   ]
  },
  {
   "cell_type": "code",
   "execution_count": 10,
   "metadata": {},
   "outputs": [],
   "source": [
    "arcs_: Dict[tuple, list] = {}\n",
    "\n",
    "for i, r in df_pairs.iterrows():\n",
    "    id_ = df_pairs.iloc[i].ID\n",
    "    type_ = df_pairs.iloc[i].type\n",
    "    Rage_ = df_pairs.iloc[i].Rage\n",
    "    Dage_ = df_pairs.iloc[i].Dage\n",
    "    location_ = df_pairs.iloc[i].Location\n",
    "    compatible_ = df_pairs.iloc[i].C\n",
    "    RBT_ = df_pairs.iloc[i].RBT\n",
    "    DBT_ = df_pairs.iloc[i].DBT\n",
    "\n",
    "    # pairs\n",
    "    if type_ == \"pair\":\n",
    "\n",
    "        # create a subset of cities that are valid\n",
    "        possible_cities1 = pos_city_sublist(location_)\n",
    "\n",
    "        # for receivers, create a donor vloodtype list that contains all the blood types that are compartible\n",
    "        valid_bloodtypes_receiver = blood_types_rbt[RBT_]\n",
    "\n",
    "        # same but inverted the donor blood types\n",
    "        valid_bloodtypes_donor = []\n",
    "        for k, v in bloodtypes.items():\n",
    "            if (k[0] == DBT_) & (v == 1):\n",
    "                valid_bloodtypes_donor.append(k[1])\n",
    "\n",
    "        arcs_[(\"pair_receiver\", id_)] = list(\n",
    "            df_pairs[\n",
    "                (df_pairs.Location.isin(possible_cities1))\n",
    "                & (abs(df_pairs.Dage - Rage_) <= 10)\n",
    "                & (df_pairs.DBT.isin(valid_bloodtypes_receiver))\n",
    "            ].ID.values\n",
    "        )\n",
    "\n",
    "        arcs_[(\"pair_donor\", id_)] = list(\n",
    "            df_pairs[\n",
    "                (df_pairs.Location.isin(possible_cities1))\n",
    "                & (abs(df_pairs.Rage - Dage_) <= 10)\n",
    "                & (df_pairs.RBT.isin(valid_bloodtypes_donor))\n",
    "            ].ID.values\n",
    "        )\n",
    "\n",
    "    elif type_ == \"receiver\":\n",
    "        # grap the city and only select those rows in \"city1\" where  the df_distances.city.astye(str) == location_\n",
    "        # create a subset of cities that are valid\n",
    "        possible_cities1 = pos_city_sublist(location_)\n",
    "\n",
    "        # for receivers, create a donor vloodtype list that contains all the blood types that are compartible\n",
    "        valid_bloodtypes_receiver = blood_types_rbt[RBT_]\n",
    "\n",
    "        arcs_[(\"receiver\", id_)] = list(\n",
    "            df_pairs[\n",
    "                (df_pairs.Location.isin(possible_cities1))\n",
    "                & (abs(df_pairs.Dage - Rage_) <= 10)\n",
    "                & (df_pairs.DBT.isin(valid_bloodtypes_receiver))\n",
    "            ].ID.values\n",
    "        )\n",
    "\n",
    "    elif type_ == \"donor\":\n",
    "        # grap the city and only select those rows in \"city1\" where  the df_distances.city.astye(str) == location_\n",
    "        # create a subset of cities that are valid\n",
    "        possible_cities1 = pos_city_sublist(location_)\n",
    "\n",
    "        # same but inverted the donor blood types\n",
    "        valid_bloodtypes_donor = []\n",
    "        for k, v in bloodtypes.items():\n",
    "            if (k[0] == DBT_) & (v == 1):\n",
    "                valid_bloodtypes_donor.append(k[1])\n",
    "\n",
    "        arcs_[(\"donor\", id_)] = list(\n",
    "            df_pairs[\n",
    "                (df_pairs.Location.isin(possible_cities1))\n",
    "                & (abs(df_pairs.Rage - Dage_) <= 10)\n",
    "                & (df_pairs.RBT.isin(valid_bloodtypes_donor))\n",
    "            ].ID.values\n",
    "        )\n",
    "\n",
    "    else:\n",
    "        print(\"warning\")\n",
    "        break"
   ]
  },
  {
   "cell_type": "code",
   "execution_count": 11,
   "metadata": {},
   "outputs": [],
   "source": [
    "arcs_l = []\n",
    "for k, v in arcs_.items():\n",
    "    for i in range(len(v)):\n",
    "        if k[0] in [\"donor\", \"pair_donor\"]:\n",
    "            arcs_l.append((k[1], v[i]))"
   ]
  },
  {
   "cell_type": "code",
   "execution_count": 12,
   "metadata": {},
   "outputs": [
    {
     "data": {
      "text/plain": [
       "896"
      ]
     },
     "execution_count": 12,
     "metadata": {},
     "output_type": "execute_result"
    }
   ],
   "source": [
    "len(arcs_l)"
   ]
  },
  {
   "cell_type": "markdown",
   "metadata": {},
   "source": [
    "## Da model "
   ]
  },
  {
   "cell_type": "code",
   "execution_count": null,
   "metadata": {},
   "outputs": [],
   "source": []
  },
  {
   "cell_type": "code",
   "execution_count": 15,
   "metadata": {},
   "outputs": [
    {
     "name": "stdout",
     "output_type": "stream",
     "text": [
      "Set parameter Username\n",
      "Academic license - for non-commercial use only - expires 2023-11-10\n"
     ]
    },
    {
     "ename": "AssertionError",
     "evalue": "",
     "output_type": "error",
     "traceback": [
      "\u001b[0;31m---------------------------------------------------------------------------\u001b[0m",
      "\u001b[0;31mAssertionError\u001b[0m                            Traceback (most recent call last)",
      "Cell \u001b[0;32mIn [15], line 6\u001b[0m\n\u001b[1;32m      4\u001b[0m model\u001b[39m=\u001b[39mgp\u001b[39m.\u001b[39mModel()\n\u001b[1;32m      5\u001b[0m model\u001b[39m.\u001b[39mModelSense\u001b[39m=\u001b[39mgp\u001b[39m.\u001b[39mGRB\u001b[39m.\u001b[39mMAXIMIZE\n\u001b[0;32m----> 6\u001b[0m x\u001b[39m=\u001b[39mmodel\u001b[39m.\u001b[39;49maddVars(arcs_l,obj\u001b[39m=\u001b[39;49marcs_l,vtype\u001b[39m=\u001b[39;49mgp\u001b[39m.\u001b[39;49mGRB\u001b[39m.\u001b[39;49mBINARY,name\u001b[39m=\u001b[39;49m\u001b[39m\"\u001b[39;49m\u001b[39mShow\u001b[39;49m\u001b[39m\"\u001b[39;49m)\n",
      "File \u001b[0;32msrc/gurobipy/model.pxi:2951\u001b[0m, in \u001b[0;36mgurobipy.Model.addVars\u001b[0;34m()\u001b[0m\n",
      "\u001b[0;31mAssertionError\u001b[0m: "
     ]
    }
   ],
   "source": [
    "bigM = len(arcs_l) + 100000\n",
    "\n",
    "\n",
    "model = gp.Model()\n",
    "model.ModelSense = gp.GRB.MAXIMIZE\n",
    "x = model.addVars(arcs_l, obj=arcs_l, vtype=gp.GRB.BINARY, name=\"Show\")"
   ]
  },
  {
   "cell_type": "code",
   "execution_count": null,
   "metadata": {},
   "outputs": [],
   "source": []
  },
  {
   "cell_type": "code",
   "execution_count": null,
   "metadata": {},
   "outputs": [],
   "source": []
  },
  {
   "cell_type": "code",
   "execution_count": null,
   "metadata": {},
   "outputs": [],
   "source": []
  },
  {
   "cell_type": "code",
   "execution_count": null,
   "metadata": {},
   "outputs": [],
   "source": []
  },
  {
   "cell_type": "code",
   "execution_count": null,
   "metadata": {},
   "outputs": [],
   "source": []
  },
  {
   "cell_type": "code",
   "execution_count": null,
   "metadata": {},
   "outputs": [],
   "source": []
  },
  {
   "cell_type": "code",
   "execution_count": null,
   "metadata": {},
   "outputs": [],
   "source": []
  },
  {
   "cell_type": "code",
   "execution_count": null,
   "metadata": {},
   "outputs": [],
   "source": []
  },
  {
   "cell_type": "code",
   "execution_count": null,
   "metadata": {},
   "outputs": [],
   "source": []
  },
  {
   "cell_type": "code",
   "execution_count": null,
   "metadata": {},
   "outputs": [],
   "source": []
  },
  {
   "cell_type": "code",
   "execution_count": null,
   "metadata": {},
   "outputs": [],
   "source": []
  },
  {
   "cell_type": "code",
   "execution_count": null,
   "metadata": {},
   "outputs": [],
   "source": []
  },
  {
   "cell_type": "code",
   "execution_count": null,
   "metadata": {},
   "outputs": [],
   "source": []
  },
  {
   "cell_type": "code",
   "execution_count": null,
   "metadata": {},
   "outputs": [],
   "source": []
  },
  {
   "cell_type": "code",
   "execution_count": null,
   "metadata": {},
   "outputs": [],
   "source": []
  },
  {
   "cell_type": "code",
   "execution_count": null,
   "metadata": {},
   "outputs": [],
   "source": []
  },
  {
   "cell_type": "code",
   "execution_count": null,
   "metadata": {},
   "outputs": [],
   "source": []
  },
  {
   "cell_type": "code",
   "execution_count": null,
   "metadata": {},
   "outputs": [],
   "source": []
  }
 ],
 "metadata": {
  "kernelspec": {
   "display_name": "Python 3.11.0 ('MM_Code_repo': venv)",
   "language": "python",
   "name": "python3"
  },
  "language_info": {
   "codemirror_mode": {
    "name": "ipython",
    "version": 3
   },
   "file_extension": ".py",
   "mimetype": "text/x-python",
   "name": "python",
   "nbconvert_exporter": "python",
   "pygments_lexer": "ipython3",
   "version": "3.11.0"
  },
  "orig_nbformat": 4,
  "vscode": {
   "interpreter": {
    "hash": "970de0ebb4c0a68312f39cb579d6b1ad7613cdaac5e6f1c9a7fac22438a66efc"
   }
  }
 },
 "nbformat": 4,
 "nbformat_minor": 2
}
